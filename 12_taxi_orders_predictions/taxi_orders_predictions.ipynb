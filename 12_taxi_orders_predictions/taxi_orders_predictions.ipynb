{
 "cells": [
  {
   "cell_type": "markdown",
   "metadata": {},
   "source": [
    "#  Прогнозирование заказов такси"
   ]
  },
  {
   "cell_type": "markdown",
   "metadata": {},
   "source": [
    "Компания «Чётенькое такси» собрала исторические данные о заказах такси в аэропортах. Чтобы привлекать больше водителей в период пиковой нагрузки, нужно спрогнозировать количество заказов такси на следующий час. Необходимо построить модель для такого предсказания.\n",
    "\n",
    "**Описание данных**\n",
    "\n",
    "- datetime - дата и время заказов\n",
    "- num_orders - количество заказов\n",
    "\n",
    "\n",
    "**План работы:**\n",
    "\n",
    "1. Загрузить данные и выполнить их ресемплирование по одному часу.\n",
    "2. Проанализировать данные.\n",
    "3. Обучить разные модели с различными гиперпараметрами.\n",
    "4. Проверить данные на тестовой выборке и сделать выводы.\n"
   ]
  },
  {
   "cell_type": "markdown",
   "metadata": {},
   "source": [
    "## Подготовка"
   ]
  },
  {
   "cell_type": "code",
   "execution_count": 1,
   "metadata": {},
   "outputs": [],
   "source": [
    "# импортируем библиотеки \n",
    "\n",
    "import pandas as pd\n",
    "import numpy as np\n",
    "from statsmodels.tsa.seasonal import seasonal_decompose\n",
    "import matplotlib.pyplot as plt\n",
    "from sklearn.model_selection import train_test_split\n",
    "from sklearn.metrics import mean_squared_error as MSE\n",
    "\n",
    "from sklearn.linear_model import LinearRegression\n",
    "from sklearn.linear_model import Lasso\n",
    "from sklearn.tree import DecisionTreeRegressor\n",
    "from sklearn.ensemble import RandomForestRegressor\n",
    "from catboost import Pool, cv, CatBoostRegressor\n",
    "import lightgbm as lgb\n",
    "\n",
    "from sklearn.model_selection import GridSearchCV\n",
    "from sklearn.model_selection import TimeSeriesSplit\n",
    "from sklearn.pipeline import Pipeline\n",
    "from sklearn.impute import SimpleImputer\n",
    "from sklearn.metrics import make_scorer\n",
    "from sklearn.preprocessing import StandardScaler\n",
    "\n",
    "from sklearn.metrics import mean_squared_error as MSE\n",
    "\n",
    "import warnings\n",
    "warnings.simplefilter(\"ignore\")\n",
    "import warnings\n",
    "warnings.filterwarnings(\"ignore\")\n",
    "\n",
    "from numpy.random import RandomState\n",
    "STATE = RandomState(12345)\n"
   ]
  },
  {
   "cell_type": "code",
   "execution_count": 2,
   "metadata": {
    "scrolled": false
   },
   "outputs": [
    {
     "data": {
      "text/html": [
       "<div>\n",
       "<style scoped>\n",
       "    .dataframe tbody tr th:only-of-type {\n",
       "        vertical-align: middle;\n",
       "    }\n",
       "\n",
       "    .dataframe tbody tr th {\n",
       "        vertical-align: top;\n",
       "    }\n",
       "\n",
       "    .dataframe thead th {\n",
       "        text-align: right;\n",
       "    }\n",
       "</style>\n",
       "<table border=\"1\" class=\"dataframe\">\n",
       "  <thead>\n",
       "    <tr style=\"text-align: right;\">\n",
       "      <th></th>\n",
       "      <th>num_orders</th>\n",
       "    </tr>\n",
       "    <tr>\n",
       "      <th>datetime</th>\n",
       "      <th></th>\n",
       "    </tr>\n",
       "  </thead>\n",
       "  <tbody>\n",
       "    <tr>\n",
       "      <th>2018-03-01 00:00:00</th>\n",
       "      <td>9</td>\n",
       "    </tr>\n",
       "    <tr>\n",
       "      <th>2018-03-01 00:10:00</th>\n",
       "      <td>14</td>\n",
       "    </tr>\n",
       "    <tr>\n",
       "      <th>2018-03-01 00:20:00</th>\n",
       "      <td>28</td>\n",
       "    </tr>\n",
       "    <tr>\n",
       "      <th>2018-03-01 00:30:00</th>\n",
       "      <td>20</td>\n",
       "    </tr>\n",
       "    <tr>\n",
       "      <th>2018-03-01 00:40:00</th>\n",
       "      <td>32</td>\n",
       "    </tr>\n",
       "    <tr>\n",
       "      <th>...</th>\n",
       "      <td>...</td>\n",
       "    </tr>\n",
       "    <tr>\n",
       "      <th>2018-08-31 23:10:00</th>\n",
       "      <td>32</td>\n",
       "    </tr>\n",
       "    <tr>\n",
       "      <th>2018-08-31 23:20:00</th>\n",
       "      <td>24</td>\n",
       "    </tr>\n",
       "    <tr>\n",
       "      <th>2018-08-31 23:30:00</th>\n",
       "      <td>27</td>\n",
       "    </tr>\n",
       "    <tr>\n",
       "      <th>2018-08-31 23:40:00</th>\n",
       "      <td>39</td>\n",
       "    </tr>\n",
       "    <tr>\n",
       "      <th>2018-08-31 23:50:00</th>\n",
       "      <td>53</td>\n",
       "    </tr>\n",
       "  </tbody>\n",
       "</table>\n",
       "<p>26496 rows × 1 columns</p>\n",
       "</div>"
      ],
      "text/plain": [
       "                     num_orders\n",
       "datetime                       \n",
       "2018-03-01 00:00:00           9\n",
       "2018-03-01 00:10:00          14\n",
       "2018-03-01 00:20:00          28\n",
       "2018-03-01 00:30:00          20\n",
       "2018-03-01 00:40:00          32\n",
       "...                         ...\n",
       "2018-08-31 23:10:00          32\n",
       "2018-08-31 23:20:00          24\n",
       "2018-08-31 23:30:00          27\n",
       "2018-08-31 23:40:00          39\n",
       "2018-08-31 23:50:00          53\n",
       "\n",
       "[26496 rows x 1 columns]"
      ]
     },
     "execution_count": 2,
     "metadata": {},
     "output_type": "execute_result"
    }
   ],
   "source": [
    "# загрузим данные \n",
    "\n",
    "try:\n",
    "    data = pd.read_csv('/datasets/taxi.csv', index_col=[0], parse_dates=[0])\n",
    "except:\n",
    "    data = pd.read_csv('taxi.csv', index_col=[0], parse_dates=[0])\n",
    "    \n",
    "data.sort_index(inplace=True)\n",
    "data\n"
   ]
  },
  {
   "cell_type": "code",
   "execution_count": 3,
   "metadata": {},
   "outputs": [
    {
     "name": "stdout",
     "output_type": "stream",
     "text": [
      "<class 'pandas.core.frame.DataFrame'>\n",
      "DatetimeIndex: 26496 entries, 2018-03-01 00:00:00 to 2018-08-31 23:50:00\n",
      "Data columns (total 1 columns):\n",
      " #   Column      Non-Null Count  Dtype\n",
      "---  ------      --------------  -----\n",
      " 0   num_orders  26496 non-null  int64\n",
      "dtypes: int64(1)\n",
      "memory usage: 414.0 KB\n"
     ]
    }
   ],
   "source": [
    "# посмотрим какие данные у нас в таблице\n",
    "data.info()"
   ]
  },
  {
   "cell_type": "code",
   "execution_count": 4,
   "metadata": {},
   "outputs": [
    {
     "data": {
      "text/plain": [
       "<AxesSubplot:xlabel='datetime'>"
      ]
     },
     "execution_count": 4,
     "metadata": {},
     "output_type": "execute_result"
    },
    {
     "data": {
      "image/png": "[encoded data removed]",
      "text/plain": [
       "<Figure size 1152x432 with 1 Axes>"
      ]
     },
     "metadata": {
      "needs_background": "light"
     },
     "output_type": "display_data"
    }
   ],
   "source": [
    "# проведем ресемплирование\n",
    "\n",
    "data = data.resample('1H').sum()\n",
    "\n",
    "\n",
    "data.plot(figsize=(16,6))"
   ]
  },
  {
   "cell_type": "markdown",
   "metadata": {},
   "source": [
    "**Вывод**\n",
    "\n",
    "Таблица состоит из двух столбцов и 26 496 строк, пропусков нет. Первый столбец с датой используем как индексы. Провели ресемплирование данных по часам. "
   ]
  },
  {
   "cell_type": "markdown",
   "metadata": {},
   "source": [
    "## Анализ"
   ]
  },
  {
   "cell_type": "code",
   "execution_count": 5,
   "metadata": {
    "scrolled": false
   },
   "outputs": [
    {
     "data": {
      "text/plain": [
       "<AxesSubplot:xlabel='datetime'>"
      ]
     },
     "execution_count": 5,
     "metadata": {},
     "output_type": "execute_result"
    },
    {
     "data": {
      "image/png": "[encoded data removed]",
      "text/plain": [
       "<Figure size 1152x432 with 1 Axes>"
      ]
     },
     "metadata": {
      "needs_background": "light"
     },
     "output_type": "display_data"
    }
   ],
   "source": [
    "# посмотрим на скользящее среднее и стандартное отклонение\n",
    "\n",
    "df = data.copy()\n",
    "df['rolling_mean'] = df['num_orders'].rolling(30).mean()\n",
    "df['std'] = df['num_orders'].rolling(30).std()\n",
    "df.plot(figsize=(16,6))"
   ]
  },
  {
   "cell_type": "markdown",
   "metadata": {},
   "source": [
    "- **по графику видно, что ряд нестационарный**"
   ]
  },
  {
   "cell_type": "code",
   "execution_count": 6,
   "metadata": {},
   "outputs": [
    {
     "data": {
      "image/png": "[encoded data removed]",
      "text/plain": [
       "<Figure size 1440x1224 with 2 Axes>"
      ]
     },
     "metadata": {
      "needs_background": "light"
     },
     "output_type": "display_data"
    }
   ],
   "source": [
    "# посмотрим на сезонность и тренды\n",
    "\n",
    "data_dec = data['2018-03':'2018-08'].resample('1H').sum()\n",
    "\n",
    "decomposed = seasonal_decompose(data_dec)\n",
    "\n",
    "plt.figure(figsize=(20, 17))\n",
    "plt.subplot(311)\n",
    "\n",
    "decomposed.trend.plot(ax=plt.gca())\n",
    "plt.title('Trend')\n",
    "plt.subplot(312)\n",
    "\n",
    "decomposed.seasonal.plot(ax=plt.gca())\n",
    "plt.title('Seasonality')\n",
    "plt.tight_layout()\n"
   ]
  },
  {
   "cell_type": "markdown",
   "metadata": {},
   "source": [
    "- **По графику тренда видно, что количество заказов растет к лету.**\n",
    "- **Сезонность с периодом меньше месяца.**"
   ]
  },
  {
   "cell_type": "code",
   "execution_count": 7,
   "metadata": {},
   "outputs": [
    {
     "data": {
      "text/plain": [
       "<AxesSubplot:xlabel='datetime'>"
      ]
     },
     "execution_count": 7,
     "metadata": {},
     "output_type": "execute_result"
    },
    {
     "data": {
      "image/png": "[encoded data removed]",
      "text/plain": [
       "<Figure size 1152x432 with 1 Axes>"
      ]
     },
     "metadata": {
      "needs_background": "light"
     },
     "output_type": "display_data"
    }
   ],
   "source": [
    "# сделаем наш ряд более стационарным\n",
    "\n",
    "data = data - data.shift()\n",
    "data['rolling_mean'] = data['num_orders'].rolling(30).mean()\n",
    "data['std'] = data['num_orders'].rolling(30).std()\n",
    "data.plot(figsize=(16,6))"
   ]
  },
  {
   "cell_type": "markdown",
   "metadata": {},
   "source": [
    "- **график выглядит лучше, можем строить прогнозы**"
   ]
  },
  {
   "cell_type": "markdown",
   "metadata": {},
   "source": [
    "## Обучение"
   ]
  },
  {
   "cell_type": "code",
   "execution_count": 8,
   "metadata": {},
   "outputs": [],
   "source": [
    "# напишем функцию расчета RMSE\n",
    "\n",
    "def RMSE(predictions, target):\n",
    "    rmse = MSE(predictions, target) ** 0.5\n",
    "    return rmse\n",
    "\n",
    "# подготовим rmse для расчетов в моделях\n",
    "rmse_score = make_scorer(RMSE, greater_is_better=False)\n"
   ]
  },
  {
   "cell_type": "code",
   "execution_count": 9,
   "metadata": {},
   "outputs": [
    {
     "data": {
      "text/html": [
       "<div>\n",
       "<style scoped>\n",
       "    .dataframe tbody tr th:only-of-type {\n",
       "        vertical-align: middle;\n",
       "    }\n",
       "\n",
       "    .dataframe tbody tr th {\n",
       "        vertical-align: top;\n",
       "    }\n",
       "\n",
       "    .dataframe thead th {\n",
       "        text-align: right;\n",
       "    }\n",
       "</style>\n",
       "<table border=\"1\" class=\"dataframe\">\n",
       "  <thead>\n",
       "    <tr style=\"text-align: right;\">\n",
       "      <th></th>\n",
       "      <th>num_orders</th>\n",
       "      <th>rolling_mean</th>\n",
       "      <th>std</th>\n",
       "      <th>year</th>\n",
       "      <th>month</th>\n",
       "      <th>day</th>\n",
       "      <th>dayofweek</th>\n",
       "      <th>lag_1</th>\n",
       "      <th>lag_2</th>\n",
       "      <th>lag_3</th>\n",
       "      <th>...</th>\n",
       "      <th>lag_15</th>\n",
       "      <th>lag_16</th>\n",
       "      <th>lag_17</th>\n",
       "      <th>lag_18</th>\n",
       "      <th>lag_19</th>\n",
       "      <th>lag_20</th>\n",
       "      <th>lag_21</th>\n",
       "      <th>lag_22</th>\n",
       "      <th>lag_23</th>\n",
       "      <th>lag_24</th>\n",
       "    </tr>\n",
       "    <tr>\n",
       "      <th>datetime</th>\n",
       "      <th></th>\n",
       "      <th></th>\n",
       "      <th></th>\n",
       "      <th></th>\n",
       "      <th></th>\n",
       "      <th></th>\n",
       "      <th></th>\n",
       "      <th></th>\n",
       "      <th></th>\n",
       "      <th></th>\n",
       "      <th></th>\n",
       "      <th></th>\n",
       "      <th></th>\n",
       "      <th></th>\n",
       "      <th></th>\n",
       "      <th></th>\n",
       "      <th></th>\n",
       "      <th></th>\n",
       "      <th></th>\n",
       "      <th></th>\n",
       "      <th></th>\n",
       "    </tr>\n",
       "  </thead>\n",
       "  <tbody>\n",
       "    <tr>\n",
       "      <th>2018-03-01 00:00:00</th>\n",
       "      <td>NaN</td>\n",
       "      <td>NaN</td>\n",
       "      <td>NaN</td>\n",
       "      <td>2018</td>\n",
       "      <td>3</td>\n",
       "      <td>1</td>\n",
       "      <td>3</td>\n",
       "      <td>NaN</td>\n",
       "      <td>NaN</td>\n",
       "      <td>NaN</td>\n",
       "      <td>...</td>\n",
       "      <td>NaN</td>\n",
       "      <td>NaN</td>\n",
       "      <td>NaN</td>\n",
       "      <td>NaN</td>\n",
       "      <td>NaN</td>\n",
       "      <td>NaN</td>\n",
       "      <td>NaN</td>\n",
       "      <td>NaN</td>\n",
       "      <td>NaN</td>\n",
       "      <td>NaN</td>\n",
       "    </tr>\n",
       "    <tr>\n",
       "      <th>2018-03-01 01:00:00</th>\n",
       "      <td>-39.0</td>\n",
       "      <td>NaN</td>\n",
       "      <td>NaN</td>\n",
       "      <td>2018</td>\n",
       "      <td>3</td>\n",
       "      <td>1</td>\n",
       "      <td>3</td>\n",
       "      <td>NaN</td>\n",
       "      <td>NaN</td>\n",
       "      <td>NaN</td>\n",
       "      <td>...</td>\n",
       "      <td>NaN</td>\n",
       "      <td>NaN</td>\n",
       "      <td>NaN</td>\n",
       "      <td>NaN</td>\n",
       "      <td>NaN</td>\n",
       "      <td>NaN</td>\n",
       "      <td>NaN</td>\n",
       "      <td>NaN</td>\n",
       "      <td>NaN</td>\n",
       "      <td>NaN</td>\n",
       "    </tr>\n",
       "    <tr>\n",
       "      <th>2018-03-01 02:00:00</th>\n",
       "      <td>-14.0</td>\n",
       "      <td>NaN</td>\n",
       "      <td>NaN</td>\n",
       "      <td>2018</td>\n",
       "      <td>3</td>\n",
       "      <td>1</td>\n",
       "      <td>3</td>\n",
       "      <td>-39.0</td>\n",
       "      <td>NaN</td>\n",
       "      <td>NaN</td>\n",
       "      <td>...</td>\n",
       "      <td>NaN</td>\n",
       "      <td>NaN</td>\n",
       "      <td>NaN</td>\n",
       "      <td>NaN</td>\n",
       "      <td>NaN</td>\n",
       "      <td>NaN</td>\n",
       "      <td>NaN</td>\n",
       "      <td>NaN</td>\n",
       "      <td>NaN</td>\n",
       "      <td>NaN</td>\n",
       "    </tr>\n",
       "    <tr>\n",
       "      <th>2018-03-01 03:00:00</th>\n",
       "      <td>-5.0</td>\n",
       "      <td>-26.5</td>\n",
       "      <td>NaN</td>\n",
       "      <td>2018</td>\n",
       "      <td>3</td>\n",
       "      <td>1</td>\n",
       "      <td>3</td>\n",
       "      <td>-14.0</td>\n",
       "      <td>-39.0</td>\n",
       "      <td>NaN</td>\n",
       "      <td>...</td>\n",
       "      <td>NaN</td>\n",
       "      <td>NaN</td>\n",
       "      <td>NaN</td>\n",
       "      <td>NaN</td>\n",
       "      <td>NaN</td>\n",
       "      <td>NaN</td>\n",
       "      <td>NaN</td>\n",
       "      <td>NaN</td>\n",
       "      <td>NaN</td>\n",
       "      <td>NaN</td>\n",
       "    </tr>\n",
       "    <tr>\n",
       "      <th>2018-03-01 04:00:00</th>\n",
       "      <td>-23.0</td>\n",
       "      <td>-9.5</td>\n",
       "      <td>NaN</td>\n",
       "      <td>2018</td>\n",
       "      <td>3</td>\n",
       "      <td>1</td>\n",
       "      <td>3</td>\n",
       "      <td>-5.0</td>\n",
       "      <td>-14.0</td>\n",
       "      <td>-39.0</td>\n",
       "      <td>...</td>\n",
       "      <td>NaN</td>\n",
       "      <td>NaN</td>\n",
       "      <td>NaN</td>\n",
       "      <td>NaN</td>\n",
       "      <td>NaN</td>\n",
       "      <td>NaN</td>\n",
       "      <td>NaN</td>\n",
       "      <td>NaN</td>\n",
       "      <td>NaN</td>\n",
       "      <td>NaN</td>\n",
       "    </tr>\n",
       "  </tbody>\n",
       "</table>\n",
       "<p>5 rows × 31 columns</p>\n",
       "</div>"
      ],
      "text/plain": [
       "                     num_orders  rolling_mean  std  year  month  day  \\\n",
       "datetime                                                               \n",
       "2018-03-01 00:00:00         NaN           NaN  NaN  2018      3    1   \n",
       "2018-03-01 01:00:00       -39.0           NaN  NaN  2018      3    1   \n",
       "2018-03-01 02:00:00       -14.0           NaN  NaN  2018      3    1   \n",
       "2018-03-01 03:00:00        -5.0         -26.5  NaN  2018      3    1   \n",
       "2018-03-01 04:00:00       -23.0          -9.5  NaN  2018      3    1   \n",
       "\n",
       "                     dayofweek  lag_1  lag_2  lag_3  ...  lag_15  lag_16  \\\n",
       "datetime                                             ...                   \n",
       "2018-03-01 00:00:00          3    NaN    NaN    NaN  ...     NaN     NaN   \n",
       "2018-03-01 01:00:00          3    NaN    NaN    NaN  ...     NaN     NaN   \n",
       "2018-03-01 02:00:00          3  -39.0    NaN    NaN  ...     NaN     NaN   \n",
       "2018-03-01 03:00:00          3  -14.0  -39.0    NaN  ...     NaN     NaN   \n",
       "2018-03-01 04:00:00          3   -5.0  -14.0  -39.0  ...     NaN     NaN   \n",
       "\n",
       "                     lag_17  lag_18  lag_19  lag_20  lag_21  lag_22  lag_23  \\\n",
       "datetime                                                                      \n",
       "2018-03-01 00:00:00     NaN     NaN     NaN     NaN     NaN     NaN     NaN   \n",
       "2018-03-01 01:00:00     NaN     NaN     NaN     NaN     NaN     NaN     NaN   \n",
       "2018-03-01 02:00:00     NaN     NaN     NaN     NaN     NaN     NaN     NaN   \n",
       "2018-03-01 03:00:00     NaN     NaN     NaN     NaN     NaN     NaN     NaN   \n",
       "2018-03-01 04:00:00     NaN     NaN     NaN     NaN     NaN     NaN     NaN   \n",
       "\n",
       "                     lag_24  \n",
       "datetime                     \n",
       "2018-03-01 00:00:00     NaN  \n",
       "2018-03-01 01:00:00     NaN  \n",
       "2018-03-01 02:00:00     NaN  \n",
       "2018-03-01 03:00:00     NaN  \n",
       "2018-03-01 04:00:00     NaN  \n",
       "\n",
       "[5 rows x 31 columns]"
      ]
     },
     "metadata": {},
     "output_type": "display_data"
    }
   ],
   "source": [
    "# создазим признаки\n",
    "\n",
    "data_new = data.copy()\n",
    "\n",
    "def make_features(data, max_lag, rolling_mean_size):\n",
    "    \n",
    "    data_new['year'] = data_new.index.year\n",
    "    data_new['month'] = data_new.index.month\n",
    "    data_new['day'] = data_new.index.day\n",
    "    data_new['dayofweek'] = data_new.index.dayofweek\n",
    "    \n",
    "    for lag in range(1, max_lag + 1):\n",
    "        data_new['lag_{}'.format(lag)] = data_new['num_orders'].shift(lag)\n",
    "\n",
    "    data_new['rolling_mean'] = data_new['num_orders'].shift().rolling(rolling_mean_size).mean()\n",
    "    return data_new\n",
    "\n",
    "make_features(data, 24, 2)\n",
    "display(data_new.head())\n"
   ]
  },
  {
   "cell_type": "code",
   "execution_count": 10,
   "metadata": {},
   "outputs": [],
   "source": [
    "# поделим данные на признаки и правильные ответы\n",
    "\n",
    "train, test = train_test_split(data_new, shuffle=False, test_size=0.1)\n",
    "train = train.dropna()\n",
    "\n",
    "features_train = train.drop(['num_orders'], axis=1)\n",
    "features_test = test.drop(['num_orders'], axis=1)\n",
    "target_train = train['num_orders']\n",
    "target_test = test['num_orders']\n"
   ]
  },
  {
   "cell_type": "code",
   "execution_count": 11,
   "metadata": {},
   "outputs": [],
   "source": [
    "# подготовим необходимые параметры для GridSearchCV\n",
    "\n",
    "pipe = Pipeline([\n",
    "    ('imp', SimpleImputer(missing_values=np.nan)),\n",
    "    ('scaler', StandardScaler()),\n",
    "    ('model', RandomForestRegressor(random_state=STATE))\n",
    "])\n",
    "\n",
    "params = [\n",
    "    {\n",
    "        'imp__strategy': ['mean', 'median'],\n",
    "        'model': [RandomForestRegressor(n_estimators=31, random_state=STATE)],\n",
    "        'model__max_features': np.linspace(0.1, 1, 11)\n",
    "    }, {\n",
    "        'imp__strategy': ['mean', 'median'],\n",
    "        'model': [LinearRegression()]\n",
    "    }, {\n",
    "        'imp__strategy': ['mean', 'median'],\n",
    "        'model': [Lasso(random_state=STATE)],\n",
    "        'model__alpha': np.logspace(-1, 3, 10)\n",
    "    }, {\n",
    "        'imp__strategy': ['mean', 'median'],\n",
    "        'model': [DecisionTreeRegressor(random_state=STATE)],\n",
    "        'model__max_depth': range(2, 41)\n",
    "    }\n",
    "]\n"
   ]
  },
  {
   "cell_type": "code",
   "execution_count": 12,
   "metadata": {},
   "outputs": [],
   "source": [
    "\n",
    "cv = TimeSeriesSplit(n_splits=5, gap=0)\n",
    "grid = GridSearchCV(pipe, param_grid=params, cv=cv, n_jobs=-1, scoring=rmse_score)\n"
   ]
  },
  {
   "cell_type": "code",
   "execution_count": 13,
   "metadata": {},
   "outputs": [
    {
     "data": {
      "text/plain": [
       "GridSearchCV(cv=TimeSeriesSplit(gap=0, max_train_size=None, n_splits=5, test_size=None),\n",
       "             estimator=Pipeline(steps=[('imp', SimpleImputer()),\n",
       "                                       ('scaler', StandardScaler()),\n",
       "                                       ('model',\n",
       "                                        RandomForestRegressor(random_state=RandomState(MT19937) at 0x7F2A0D712940))]),\n",
       "             n_jobs=-1,\n",
       "             param_grid=[{'imp__strategy': ['mean', 'median'],\n",
       "                          'model': [RandomForestRegressor(n_estimators=3...\n",
       "                          'model__alpha': array([1.00000000e-01, 2.78255940e-01, 7.74263683e-01, 2.15443469e+00,\n",
       "       5.99484250e+00, 1.66810054e+01, 4.64158883e+01, 1.29154967e+02,\n",
       "       3.59381366e+02, 1.00000000e+03])},\n",
       "                         {'imp__strategy': ['mean', 'median'],\n",
       "                          'model': [DecisionTreeRegressor(random_state=RandomState(MT19937) at 0x7F2A0D712940)],\n",
       "                          'model__max_depth': range(2, 41)}],\n",
       "             scoring=make_scorer(RMSE, greater_is_better=False))"
      ]
     },
     "execution_count": 13,
     "metadata": {},
     "output_type": "execute_result"
    }
   ],
   "source": [
    "# посмотрим, что покажет GridSearchCV\n",
    "\n",
    "grid.fit(features_train, target_train)"
   ]
  },
  {
   "cell_type": "code",
   "execution_count": 14,
   "metadata": {},
   "outputs": [
    {
     "name": "stdout",
     "output_type": "stream",
     "text": [
      "Best Params: {'imp__strategy': 'mean', 'model': Lasso(alpha=0.1, random_state=RandomState(MT19937) at 0x7F2A0D712940), 'model__alpha': 0.1}\n",
      "Best RMSE Score: 27.498666604178663\n"
     ]
    }
   ],
   "source": [
    "print('Best Params:', grid.best_params_)\n",
    "print('Best RMSE Score:', -grid.best_score_)"
   ]
  },
  {
   "cell_type": "markdown",
   "metadata": {},
   "source": [
    "- **GridSearchCV показал лучший результат у Lasso. RMSE - 27.49**"
   ]
  },
  {
   "cell_type": "code",
   "execution_count": 15,
   "metadata": {},
   "outputs": [
    {
     "data": {
      "application/vnd.jupyter.widget-view+json": {
       "model_id": "a199af31032347669c6406397fd71281",
       "version_major": 2,
       "version_minor": 0
      },
      "text/plain": [
       "MetricVisualizer(layout=Layout(align_self='stretch', height='500px'))"
      ]
     },
     "metadata": {},
     "output_type": "display_data"
    }
   ],
   "source": [
    "# проверим работу CatBoostRegressor\n",
    "\n",
    "cat = CatBoostRegressor()\n",
    "\n",
    "cat.fit(features_train, target_train, eval_set=(features_train, target_train), verbose=False, plot=True);\n"
   ]
  },
  {
   "cell_type": "markdown",
   "metadata": {},
   "source": [
    "- **лучший результат RMSE у CatBoostRegressor - 10.47**"
   ]
  },
  {
   "cell_type": "code",
   "execution_count": 16,
   "metadata": {},
   "outputs": [
    {
     "name": "stdout",
     "output_type": "stream",
     "text": [
      "nan_mode, Min\n",
      "eval_metric, RMSE\n",
      "iterations, 1000\n",
      "sampling_frequency, PerTree\n",
      "leaf_estimation_method, Newton\n",
      "grow_policy, SymmetricTree\n",
      "penalties_coefficient, 1\n",
      "boosting_type, Plain\n",
      "model_shrink_mode, Constant\n",
      "feature_border_type, GreedyLogSum\n",
      "bayesian_matrix_reg, 0.10000000149011612\n",
      "force_unit_auto_pair_weights, False\n",
      "l2_leaf_reg, 3\n",
      "random_strength, 1\n",
      "rsm, 1\n",
      "boost_from_average, True\n",
      "model_size_reg, 0.5\n",
      "pool_metainfo_options, {'tags': {}}\n",
      "subsample, 0.800000011920929\n",
      "use_best_model, True\n",
      "random_seed, 0\n",
      "depth, 6\n",
      "posterior_sampling, False\n",
      "border_count, 254\n",
      "classes_count, 0\n",
      "auto_class_weights, None\n",
      "sparse_features_conflict_fraction, 0\n",
      "leaf_estimation_backtracking, AnyImprovement\n",
      "best_model_min_trees, 1\n",
      "model_shrink_rate, 0\n",
      "min_data_in_leaf, 1\n",
      "loss_function, RMSE\n",
      "learning_rate, 0.06316199898719788\n",
      "score_function, Cosine\n",
      "task_type, CPU\n",
      "leaf_estimation_iterations, 1\n",
      "bootstrap_type, MVS\n",
      "max_leaves, 64\n"
     ]
    }
   ],
   "source": [
    "# выведем параметры которые использовали в CatBoostRegressor\n",
    "\n",
    "for key,value in cat.get_all_params().items():\n",
    " print('{}, {}'.format(key,value))"
   ]
  },
  {
   "cell_type": "code",
   "execution_count": 17,
   "metadata": {},
   "outputs": [
    {
     "name": "stdout",
     "output_type": "stream",
     "text": [
      "Best parameters found by grid search are: {'learning_rate': 0.1, 'n_estimators': 40, 'num_leaves': 31}\n"
     ]
    }
   ],
   "source": [
    "# подберем параметры для LGBMRegressor\n",
    "\n",
    "lgbm = lgb.LGBMRegressor()\n",
    "\n",
    "param_grid = {\n",
    "    'learning_rate': [0.01, 0.1, 1],\n",
    "    'n_estimators': [10, 20, 40], \n",
    "    'num_leaves': [5, 15, 31]\n",
    "}\n",
    "\n",
    "grid_lgbm = GridSearchCV(lgbm, param_grid)\n",
    "\n",
    "grid_lgbm.fit(features_train, target_train)\n",
    "\n",
    "print('Best parameters found by grid search are:', grid_lgbm.best_params_)"
   ]
  },
  {
   "cell_type": "code",
   "execution_count": 18,
   "metadata": {},
   "outputs": [
    {
     "name": "stdout",
     "output_type": "stream",
     "text": [
      "[LightGBM] [Warning] Auto-choosing col-wise multi-threading, the overhead of testing was 0.086193 seconds.\n",
      "You can set `force_col_wise=true` to remove the overhead.\n",
      "[LightGBM] [Info] Total Bins 4961\n",
      "[LightGBM] [Info] Number of data points in the train set: 3944, number of used features: 29\n",
      "[LightGBM] [Info] Start training from score 0.027383\n",
      "[1]\ttraining's rmse: 34.9556\ttraining's l2: 1221.89\n",
      "Training until validation scores don't improve for 5 rounds\n",
      "[2]\ttraining's rmse: 33.8976\ttraining's l2: 1149.05\n",
      "[3]\ttraining's rmse: 32.9512\ttraining's l2: 1085.78\n",
      "[4]\ttraining's rmse: 32.1204\ttraining's l2: 1031.72\n",
      "[5]\ttraining's rmse: 31.3336\ttraining's l2: 981.792\n",
      "[6]\ttraining's rmse: 30.6642\ttraining's l2: 940.293\n",
      "[7]\ttraining's rmse: 30.0144\ttraining's l2: 900.864\n",
      "[8]\ttraining's rmse: 29.4587\ttraining's l2: 867.814\n",
      "[9]\ttraining's rmse: 28.9241\ttraining's l2: 836.602\n",
      "[10]\ttraining's rmse: 28.4369\ttraining's l2: 808.658\n",
      "[11]\ttraining's rmse: 27.9766\ttraining's l2: 782.688\n",
      "[12]\ttraining's rmse: 27.5403\ttraining's l2: 758.467\n",
      "[13]\ttraining's rmse: 27.1328\ttraining's l2: 736.187\n",
      "[14]\ttraining's rmse: 26.7832\ttraining's l2: 717.34\n",
      "[15]\ttraining's rmse: 26.4261\ttraining's l2: 698.337\n",
      "[16]\ttraining's rmse: 26.1016\ttraining's l2: 681.295\n",
      "[17]\ttraining's rmse: 25.779\ttraining's l2: 664.558\n",
      "[18]\ttraining's rmse: 25.448\ttraining's l2: 647.603\n",
      "[19]\ttraining's rmse: 25.14\ttraining's l2: 632.018\n",
      "[20]\ttraining's rmse: 24.8694\ttraining's l2: 618.489\n",
      "[21]\ttraining's rmse: 24.6072\ttraining's l2: 605.512\n",
      "[22]\ttraining's rmse: 24.3365\ttraining's l2: 592.264\n",
      "[23]\ttraining's rmse: 24.0812\ttraining's l2: 579.906\n",
      "[24]\ttraining's rmse: 23.8404\ttraining's l2: 568.365\n",
      "[25]\ttraining's rmse: 23.5829\ttraining's l2: 556.154\n",
      "[26]\ttraining's rmse: 23.3598\ttraining's l2: 545.678\n",
      "[27]\ttraining's rmse: 23.1393\ttraining's l2: 535.425\n",
      "[28]\ttraining's rmse: 22.9201\ttraining's l2: 525.332\n",
      "[29]\ttraining's rmse: 22.7081\ttraining's l2: 515.658\n",
      "[30]\ttraining's rmse: 22.5051\ttraining's l2: 506.481\n",
      "[31]\ttraining's rmse: 22.3089\ttraining's l2: 497.688\n",
      "[32]\ttraining's rmse: 22.0966\ttraining's l2: 488.259\n",
      "[33]\ttraining's rmse: 21.9069\ttraining's l2: 479.911\n",
      "[34]\ttraining's rmse: 21.7179\ttraining's l2: 471.667\n",
      "[35]\ttraining's rmse: 21.5359\ttraining's l2: 463.796\n",
      "[36]\ttraining's rmse: 21.3447\ttraining's l2: 455.596\n",
      "[37]\ttraining's rmse: 21.1772\ttraining's l2: 448.472\n",
      "[38]\ttraining's rmse: 20.9971\ttraining's l2: 440.879\n",
      "[39]\ttraining's rmse: 20.8261\ttraining's l2: 433.726\n",
      "[40]\ttraining's rmse: 20.6507\ttraining's l2: 426.452\n",
      "Did not meet early stopping. Best iteration is:\n",
      "[40]\ttraining's rmse: 20.6507\ttraining's l2: 426.452\n",
      "The rmse of prediction is: 20.65071723841556\n"
     ]
    }
   ],
   "source": [
    "# проверим работу LGBMRegressor с нашими параметрами на обучающей выборке\n",
    "\n",
    "lgb_train = lgb.Dataset(features_train, target_train)\n",
    "lgb_eval = lgb.Dataset(features_test, target_test, reference=lgb_train)\n",
    "\n",
    "params = {\n",
    "    'task': 'train',\n",
    "    'boosting_type': 'gbdt',  \n",
    "    'objective': 'regression', \n",
    "    'metric': {'l2', 'RMSE'}, \n",
    "    'num_leaves': 31, \n",
    "    'learning_rate': 0.1, \n",
    "    'n_estimators': 40\n",
    "}\n",
    "\n",
    "lgbm = lgb.train(params, lgb_train, num_boost_round=20, valid_sets=lgb_train, early_stopping_rounds=5)\n",
    "predictions = lgbm.predict(features_train, num_iteration=lgbm.best_iteration)\n",
    "rmse_res = RMSE(target_train, predictions)\n",
    "\n",
    "print('The rmse of prediction is:', rmse_res)"
   ]
  },
  {
   "cell_type": "markdown",
   "metadata": {},
   "source": [
    "- **на LGBMRegressor получили RMSE - 20.65**"
   ]
  },
  {
   "cell_type": "markdown",
   "metadata": {},
   "source": [
    "## Тестирование"
   ]
  },
  {
   "cell_type": "code",
   "execution_count": 19,
   "metadata": {},
   "outputs": [
    {
     "name": "stdout",
     "output_type": "stream",
     "text": [
      "RMSE: 44.91421355153024\n"
     ]
    }
   ],
   "source": [
    "# посмотрим на результат работы Lasso на тестовой выборке\n",
    "\n",
    "model_lasso = Lasso(random_state=STATE, alpha=0.1)\n",
    "model_lasso.fit(features_train, target_train)\n",
    "prediction_lasso = model_lasso.predict(features_test)\n",
    "result_lasso = RMSE(prediction_lasso, target_test)\n",
    "\n",
    "\n",
    "print(f'RMSE: {result_lasso}')"
   ]
  },
  {
   "cell_type": "markdown",
   "metadata": {},
   "source": [
    "- **Лучший показатель RMSE на Lasso - 44.91**"
   ]
  },
  {
   "cell_type": "code",
   "execution_count": 20,
   "metadata": {},
   "outputs": [
    {
     "data": {
      "application/vnd.jupyter.widget-view+json": {
       "model_id": "2c09033639b24ee19fa26e2372c51410",
       "version_major": 2,
       "version_minor": 0
      },
      "text/plain": [
       "MetricVisualizer(layout=Layout(align_self='stretch', height='500px'))"
      ]
     },
     "metadata": {},
     "output_type": "display_data"
    }
   ],
   "source": [
    "# проверим CatBoostRegressor на тестовой выборке\n",
    "\n",
    "cat_model = CatBoostRegressor(loss_function='RMSE', \n",
    "                        iterations=1000, \n",
    "                        learning_rate=0.06, \n",
    "                        max_depth=6, \n",
    "                        l2_leaf_reg=3, \n",
    "                        max_leaves=64)\n",
    "\n",
    "cat_model.fit(features_train, target_train, eval_set=(features_test, target_test), verbose=False, plot=True);\n"
   ]
  },
  {
   "cell_type": "markdown",
   "metadata": {},
   "source": [
    "- **Лучший показатель RMSE на CatBoostRegressor - 45.06**"
   ]
  },
  {
   "cell_type": "code",
   "execution_count": 21,
   "metadata": {},
   "outputs": [
    {
     "name": "stdout",
     "output_type": "stream",
     "text": [
      "[LightGBM] [Warning] Auto-choosing col-wise multi-threading, the overhead of testing was 0.000736 seconds.\n",
      "You can set `force_col_wise=true` to remove the overhead.\n",
      "[LightGBM] [Info] Total Bins 4961\n",
      "[LightGBM] [Info] Number of data points in the train set: 3944, number of used features: 29\n",
      "[LightGBM] [Info] Start training from score 0.027383\n",
      "[1]\tvalid_0's rmse: 57.8273\tvalid_0's l2: 3344\n",
      "Training until validation scores don't improve for 5 rounds\n",
      "[2]\tvalid_0's rmse: 56.9956\tvalid_0's l2: 3248.49\n",
      "[3]\tvalid_0's rmse: 56.2638\tvalid_0's l2: 3165.61\n",
      "[4]\tvalid_0's rmse: 55.7641\tvalid_0's l2: 3109.63\n",
      "[5]\tvalid_0's rmse: 55.1289\tvalid_0's l2: 3039.2\n",
      "[6]\tvalid_0's rmse: 54.6146\tvalid_0's l2: 2982.75\n",
      "[7]\tvalid_0's rmse: 54.1229\tvalid_0's l2: 2929.29\n",
      "[8]\tvalid_0's rmse: 53.7142\tvalid_0's l2: 2885.21\n",
      "[9]\tvalid_0's rmse: 53.4381\tvalid_0's l2: 2855.63\n",
      "[10]\tvalid_0's rmse: 53.0922\tvalid_0's l2: 2818.78\n",
      "[11]\tvalid_0's rmse: 52.7365\tvalid_0's l2: 2781.13\n",
      "[12]\tvalid_0's rmse: 52.478\tvalid_0's l2: 2753.94\n",
      "[13]\tvalid_0's rmse: 52.1142\tvalid_0's l2: 2715.88\n",
      "[14]\tvalid_0's rmse: 51.8583\tvalid_0's l2: 2689.28\n",
      "[15]\tvalid_0's rmse: 51.649\tvalid_0's l2: 2667.62\n",
      "[16]\tvalid_0's rmse: 51.4207\tvalid_0's l2: 2644.09\n",
      "[17]\tvalid_0's rmse: 51.2437\tvalid_0's l2: 2625.92\n",
      "[18]\tvalid_0's rmse: 51.1421\tvalid_0's l2: 2615.52\n",
      "[19]\tvalid_0's rmse: 51.0155\tvalid_0's l2: 2602.58\n",
      "[20]\tvalid_0's rmse: 50.8522\tvalid_0's l2: 2585.95\n",
      "[21]\tvalid_0's rmse: 50.7592\tvalid_0's l2: 2576.49\n",
      "[22]\tvalid_0's rmse: 50.7277\tvalid_0's l2: 2573.3\n",
      "[23]\tvalid_0's rmse: 50.5826\tvalid_0's l2: 2558.6\n",
      "[24]\tvalid_0's rmse: 50.5743\tvalid_0's l2: 2557.76\n",
      "[25]\tvalid_0's rmse: 50.3727\tvalid_0's l2: 2537.41\n",
      "[26]\tvalid_0's rmse: 50.2289\tvalid_0's l2: 2522.94\n",
      "[27]\tvalid_0's rmse: 49.9808\tvalid_0's l2: 2498.08\n",
      "[28]\tvalid_0's rmse: 49.7814\tvalid_0's l2: 2478.19\n",
      "[29]\tvalid_0's rmse: 49.7797\tvalid_0's l2: 2478.02\n",
      "[30]\tvalid_0's rmse: 49.7014\tvalid_0's l2: 2470.23\n",
      "[31]\tvalid_0's rmse: 49.6705\tvalid_0's l2: 2467.15\n",
      "[32]\tvalid_0's rmse: 49.5832\tvalid_0's l2: 2458.49\n",
      "[33]\tvalid_0's rmse: 49.5571\tvalid_0's l2: 2455.91\n",
      "[34]\tvalid_0's rmse: 49.4935\tvalid_0's l2: 2449.61\n",
      "[35]\tvalid_0's rmse: 49.3701\tvalid_0's l2: 2437.4\n",
      "[36]\tvalid_0's rmse: 49.3132\tvalid_0's l2: 2431.79\n",
      "[37]\tvalid_0's rmse: 49.2831\tvalid_0's l2: 2428.82\n",
      "[38]\tvalid_0's rmse: 49.2299\tvalid_0's l2: 2423.58\n",
      "[39]\tvalid_0's rmse: 49.2511\tvalid_0's l2: 2425.67\n",
      "[40]\tvalid_0's rmse: 49.205\tvalid_0's l2: 2421.13\n",
      "Did not meet early stopping. Best iteration is:\n",
      "[40]\tvalid_0's rmse: 49.205\tvalid_0's l2: 2421.13\n",
      "The rmse of prediction is: 49.20501771055171\n"
     ]
    }
   ],
   "source": [
    "# проверим LGBMRegressor на тестовой выборке\n",
    "\n",
    "lgbm_1 = lgb.train(params, lgb_train, valid_sets=lgb_eval, early_stopping_rounds=5)\n",
    "predictions_lgbm = lgbm_1.predict(features_test, num_iteration=lgbm_1.best_iteration)\n",
    "result_lgbm = RMSE(target_test, predictions_lgbm)\n",
    "\n",
    "print('The rmse of prediction is:', result_lgbm)\n"
   ]
  },
  {
   "cell_type": "markdown",
   "metadata": {},
   "source": [
    "- **Лучший показатель RMSE на LGBMRegressor - 49.20**"
   ]
  },
  {
   "cell_type": "code",
   "execution_count": 23,
   "metadata": {},
   "outputs": [
    {
     "data": {
      "text/plain": [
       "Text(0.5, 1.0, 'Targets')"
      ]
     },
     "execution_count": 23,
     "metadata": {},
     "output_type": "execute_result"
    },
    {
     "data": {
      "image/png": "[encoded data removed]",
      "text/plain": [
       "<Figure size 1152x720 with 4 Axes>"
      ]
     },
     "metadata": {
      "needs_background": "light"
     },
     "output_type": "display_data"
    }
   ],
   "source": [
    "# построим графики предсказаний по каждой модели и целевых признаков\n",
    "\n",
    "prediction_lasso = pd.DataFrame(prediction_lasso)\n",
    "prediction_cat = pd.DataFrame(cat_model.predict(features_test))\n",
    "predictions_lgbm = pd.DataFrame(predictions_lgbm)\n",
    "\n",
    "\n",
    "plt.figure(figsize=(16, 10))\n",
    "\n",
    "plt.subplot(221)\n",
    "prediction_lasso.plot(ax=plt.gca())\n",
    "plt.title('Lasso')\n",
    "\n",
    "plt.subplot(222)\n",
    "prediction_cat.plot(ax=plt.gca())\n",
    "plt.title('CatBoostRegressor')\n",
    "\n",
    "plt.subplot(223)\n",
    "predictions_lgbm.plot(ax=plt.gca())\n",
    "plt.title('LGBMRegressor')\n",
    "\n",
    "plt.subplot(224)\n",
    "target_test.plot(ax=plt.gca())\n",
    "plt.title('Targets')\n"
   ]
  },
  {
   "cell_type": "markdown",
   "metadata": {},
   "source": [
    "- **График предсказаний Lasso более похож на график целевых признаков тестовой выборки**"
   ]
  },
  {
   "cell_type": "markdown",
   "metadata": {},
   "source": [
    "- **Лучший показатель RMSE на Lasso - 44.91**"
   ]
  },
  {
   "cell_type": "markdown",
   "metadata": {},
   "source": [
    "- **Лучший показатель RMSE на CatBoostRegressor - 45.06**"
   ]
  },
  {
   "cell_type": "markdown",
   "metadata": {},
   "source": [
    "- **Лучший показатель RMSE на LGBMRegressor - 49.20**"
   ]
  },
  {
   "cell_type": "markdown",
   "metadata": {},
   "source": [
    "## Общий вывод"
   ]
  },
  {
   "cell_type": "markdown",
   "metadata": {},
   "source": [
    "В процессе выбора моделей для прогнозирования заказов такси, мы протестировали три модели и расчитали показатель RMSE на каждой:\n",
    "\n",
    "- Lasso - 44.91;\n",
    "- CatBoostRegressor - 45.06;\n",
    "- LGBMRegressor - 49.20 (нам не подходит).\n",
    "\n",
    "Рекомендуется использовать Lasso так как у этой модели самый низкий показатель RMSE на тестовой выборке.\n"
   ]
  }
 ],
 "metadata": {
  "ExecuteTimeLog": [
   {
    "duration": 1350,
    "start_time": "2022-06-03T02:57:02.520Z"
   },
   {
    "duration": 146,
    "start_time": "2022-06-03T02:57:20.611Z"
   },
   {
    "duration": 11,
    "start_time": "2022-06-03T02:57:47.433Z"
   },
   {
    "duration": 374,
    "start_time": "2022-06-03T02:58:10.035Z"
   },
   {
    "duration": 69,
    "start_time": "2022-06-03T02:58:30.451Z"
   },
   {
    "duration": 11,
    "start_time": "2022-06-03T02:58:30.917Z"
   },
   {
    "duration": 267,
    "start_time": "2022-06-03T02:58:31.678Z"
   },
   {
    "duration": 244,
    "start_time": "2022-06-03T02:58:47.915Z"
   },
   {
    "duration": 252,
    "start_time": "2022-06-03T02:59:01.919Z"
   },
   {
    "duration": 269,
    "start_time": "2022-06-03T02:59:07.881Z"
   },
   {
    "duration": 273,
    "start_time": "2022-06-03T02:59:14.077Z"
   },
   {
    "duration": 420,
    "start_time": "2022-06-03T02:59:29.583Z"
   },
   {
    "duration": 138,
    "start_time": "2022-06-03T03:02:57.672Z"
   },
   {
    "duration": 10,
    "start_time": "2022-06-03T03:03:13.059Z"
   },
   {
    "duration": 20,
    "start_time": "2022-06-03T03:03:29.687Z"
   },
   {
    "duration": 60,
    "start_time": "2022-06-03T03:08:44.745Z"
   },
   {
    "duration": 10,
    "start_time": "2022-06-03T03:09:05.152Z"
   },
   {
    "duration": 55,
    "start_time": "2022-06-03T03:09:05.835Z"
   },
   {
    "duration": 48,
    "start_time": "2022-06-03T03:14:37.643Z"
   },
   {
    "duration": 33,
    "start_time": "2022-06-03T03:17:17.389Z"
   },
   {
    "duration": 3,
    "start_time": "2022-06-03T03:17:43.831Z"
   },
   {
    "duration": 64,
    "start_time": "2022-06-03T03:17:44.265Z"
   },
   {
    "duration": 10,
    "start_time": "2022-06-03T03:17:44.738Z"
   },
   {
    "duration": 227,
    "start_time": "2022-06-03T03:17:45.316Z"
   },
   {
    "duration": 261,
    "start_time": "2022-06-03T03:17:45.908Z"
   },
   {
    "duration": 308,
    "start_time": "2022-06-03T03:17:47.722Z"
   },
   {
    "duration": 1373,
    "start_time": "2022-06-03T07:32:39.394Z"
   },
   {
    "duration": 135,
    "start_time": "2022-06-03T07:32:40.770Z"
   },
   {
    "duration": 11,
    "start_time": "2022-06-03T07:32:40.907Z"
   },
   {
    "duration": 301,
    "start_time": "2022-06-03T07:32:40.919Z"
   },
   {
    "duration": 225,
    "start_time": "2022-06-03T07:32:41.223Z"
   },
   {
    "duration": 273,
    "start_time": "2022-06-03T07:32:41.450Z"
   },
   {
    "duration": 412,
    "start_time": "2022-06-03T07:32:59.058Z"
   },
   {
    "duration": 13,
    "start_time": "2022-06-03T07:33:19.353Z"
   },
   {
    "duration": 120,
    "start_time": "2022-06-03T07:35:01.619Z"
   },
   {
    "duration": 68,
    "start_time": "2022-06-03T07:35:27.380Z"
   },
   {
    "duration": 6,
    "start_time": "2022-06-03T07:35:32.158Z"
   },
   {
    "duration": 6,
    "start_time": "2022-06-03T07:35:46.578Z"
   },
   {
    "duration": 19,
    "start_time": "2022-06-03T07:36:38.078Z"
   },
   {
    "duration": 3,
    "start_time": "2022-06-03T07:36:49.866Z"
   },
   {
    "duration": 29,
    "start_time": "2022-06-03T07:36:54.100Z"
   },
   {
    "duration": 11,
    "start_time": "2022-06-03T07:38:09.576Z"
   },
   {
    "duration": 1641,
    "start_time": "2022-06-03T09:01:05.447Z"
   },
   {
    "duration": 181,
    "start_time": "2022-06-03T09:01:07.091Z"
   },
   {
    "duration": 375,
    "start_time": "2022-06-03T09:01:44.145Z"
   },
   {
    "duration": 406,
    "start_time": "2022-06-03T09:02:41.587Z"
   },
   {
    "duration": 381,
    "start_time": "2022-06-03T09:02:47.119Z"
   },
   {
    "duration": 307,
    "start_time": "2022-06-03T09:02:57.690Z"
   },
   {
    "duration": 424,
    "start_time": "2022-06-03T09:03:03.450Z"
   },
   {
    "duration": 539,
    "start_time": "2022-06-03T09:07:02.351Z"
   },
   {
    "duration": 461,
    "start_time": "2022-06-03T09:07:12.767Z"
   },
   {
    "duration": 547,
    "start_time": "2022-06-03T09:07:19.630Z"
   },
   {
    "duration": 629,
    "start_time": "2022-06-03T09:07:24.342Z"
   },
   {
    "duration": 199,
    "start_time": "2022-06-03T09:07:37.721Z"
   },
   {
    "duration": 22,
    "start_time": "2022-06-03T09:07:46.309Z"
   },
   {
    "duration": 565,
    "start_time": "2022-06-03T09:11:54.621Z"
   },
   {
    "duration": 18,
    "start_time": "2022-06-03T09:11:58.807Z"
   },
   {
    "duration": 16,
    "start_time": "2022-06-03T09:12:04.350Z"
   },
   {
    "duration": 408,
    "start_time": "2022-06-03T09:12:41.955Z"
   },
   {
    "duration": 19,
    "start_time": "2022-06-03T09:12:47.516Z"
   },
   {
    "duration": 5,
    "start_time": "2022-06-03T09:12:57.623Z"
   },
   {
    "duration": 62,
    "start_time": "2022-06-03T09:12:57.630Z"
   },
   {
    "duration": 12,
    "start_time": "2022-06-03T09:12:57.695Z"
   },
   {
    "duration": 278,
    "start_time": "2022-06-03T09:12:57.709Z"
   },
   {
    "duration": 315,
    "start_time": "2022-06-03T09:12:57.989Z"
   },
   {
    "duration": 521,
    "start_time": "2022-06-03T09:12:58.306Z"
   },
   {
    "duration": 14,
    "start_time": "2022-06-03T09:12:58.829Z"
   },
   {
    "duration": 9,
    "start_time": "2022-06-03T09:12:58.846Z"
   },
   {
    "duration": 19,
    "start_time": "2022-06-03T09:21:39.246Z"
   },
   {
    "duration": 423,
    "start_time": "2022-06-03T09:22:21.398Z"
   },
   {
    "duration": 57,
    "start_time": "2022-06-03T09:22:27.013Z"
   },
   {
    "duration": 11,
    "start_time": "2022-06-03T09:22:27.333Z"
   },
   {
    "duration": 293,
    "start_time": "2022-06-03T09:22:27.911Z"
   },
   {
    "duration": 443,
    "start_time": "2022-06-03T09:22:28.847Z"
   },
   {
    "duration": 380,
    "start_time": "2022-06-03T09:22:29.352Z"
   },
   {
    "duration": 10,
    "start_time": "2022-06-03T09:22:29.906Z"
   },
   {
    "duration": 8,
    "start_time": "2022-06-03T09:22:31.452Z"
   },
   {
    "duration": 10,
    "start_time": "2022-06-03T09:22:33.295Z"
   },
   {
    "duration": 8,
    "start_time": "2022-06-03T09:23:18.517Z"
   },
   {
    "duration": 7,
    "start_time": "2022-06-03T09:24:19.337Z"
   },
   {
    "duration": 1473,
    "start_time": "2022-06-03T09:55:03.959Z"
   },
   {
    "duration": 0,
    "start_time": "2022-06-03T09:55:05.434Z"
   },
   {
    "duration": 0,
    "start_time": "2022-06-03T09:55:05.436Z"
   },
   {
    "duration": 0,
    "start_time": "2022-06-03T09:55:05.437Z"
   },
   {
    "duration": 0,
    "start_time": "2022-06-03T09:55:05.438Z"
   },
   {
    "duration": 0,
    "start_time": "2022-06-03T09:55:05.440Z"
   },
   {
    "duration": 0,
    "start_time": "2022-06-03T09:55:05.441Z"
   },
   {
    "duration": 0,
    "start_time": "2022-06-03T09:55:05.442Z"
   },
   {
    "duration": 0,
    "start_time": "2022-06-03T09:55:05.443Z"
   },
   {
    "duration": 1345,
    "start_time": "2022-06-03T09:56:43.283Z"
   },
   {
    "duration": 0,
    "start_time": "2022-06-03T09:56:44.630Z"
   },
   {
    "duration": 0,
    "start_time": "2022-06-03T09:56:44.631Z"
   },
   {
    "duration": 0,
    "start_time": "2022-06-03T09:56:44.633Z"
   },
   {
    "duration": 0,
    "start_time": "2022-06-03T09:56:44.634Z"
   },
   {
    "duration": 0,
    "start_time": "2022-06-03T09:56:44.636Z"
   },
   {
    "duration": 0,
    "start_time": "2022-06-03T09:56:44.637Z"
   },
   {
    "duration": 0,
    "start_time": "2022-06-03T09:56:44.638Z"
   },
   {
    "duration": 0,
    "start_time": "2022-06-03T09:56:44.639Z"
   },
   {
    "duration": 11,
    "start_time": "2022-06-03T09:56:49.580Z"
   },
   {
    "duration": 100,
    "start_time": "2022-06-03T09:56:58.742Z"
   },
   {
    "duration": 63,
    "start_time": "2022-06-03T09:57:00.709Z"
   },
   {
    "duration": 12,
    "start_time": "2022-06-03T09:57:03.161Z"
   },
   {
    "duration": 252,
    "start_time": "2022-06-03T09:57:03.929Z"
   },
   {
    "duration": 18,
    "start_time": "2022-06-03T09:58:06.137Z"
   },
   {
    "duration": 267,
    "start_time": "2022-06-03T09:59:17.847Z"
   },
   {
    "duration": 16,
    "start_time": "2022-06-03T10:01:44.800Z"
   },
   {
    "duration": 12,
    "start_time": "2022-06-03T10:02:00.042Z"
   },
   {
    "duration": 5,
    "start_time": "2022-06-03T10:06:04.705Z"
   },
   {
    "duration": 70,
    "start_time": "2022-06-03T10:06:05.079Z"
   },
   {
    "duration": 20,
    "start_time": "2022-06-03T10:06:05.516Z"
   },
   {
    "duration": 238,
    "start_time": "2022-06-03T10:06:06.360Z"
   },
   {
    "duration": 826,
    "start_time": "2022-06-03T10:06:10.616Z"
   },
   {
    "duration": 11,
    "start_time": "2022-06-03T10:06:17.799Z"
   },
   {
    "duration": 280,
    "start_time": "2022-06-03T10:06:30.502Z"
   },
   {
    "duration": 13,
    "start_time": "2022-06-03T10:06:31.674Z"
   },
   {
    "duration": 4,
    "start_time": "2022-06-03T10:06:45.638Z"
   },
   {
    "duration": 59,
    "start_time": "2022-06-03T10:06:45.644Z"
   },
   {
    "duration": 8,
    "start_time": "2022-06-03T10:06:45.705Z"
   },
   {
    "duration": 250,
    "start_time": "2022-06-03T10:06:45.715Z"
   },
   {
    "duration": 261,
    "start_time": "2022-06-03T10:06:45.967Z"
   },
   {
    "duration": 15,
    "start_time": "2022-06-03T10:06:48.094Z"
   },
   {
    "duration": 9,
    "start_time": "2022-06-03T10:07:30.941Z"
   },
   {
    "duration": 7,
    "start_time": "2022-06-03T10:07:47.777Z"
   },
   {
    "duration": 334,
    "start_time": "2022-06-03T10:07:48.396Z"
   },
   {
    "duration": 263,
    "start_time": "2022-06-03T10:08:27.784Z"
   },
   {
    "duration": 7,
    "start_time": "2022-06-03T10:08:34.500Z"
   },
   {
    "duration": 12,
    "start_time": "2022-06-03T10:08:35.080Z"
   },
   {
    "duration": 11,
    "start_time": "2022-06-03T10:08:46.744Z"
   },
   {
    "duration": 13,
    "start_time": "2022-06-03T10:09:02.077Z"
   },
   {
    "duration": 13,
    "start_time": "2022-06-03T10:09:30.990Z"
   },
   {
    "duration": 232,
    "start_time": "2022-06-03T10:09:31.740Z"
   },
   {
    "duration": 14,
    "start_time": "2022-06-03T10:09:49.677Z"
   },
   {
    "duration": 215,
    "start_time": "2022-06-03T10:09:50.399Z"
   },
   {
    "duration": 256,
    "start_time": "2022-06-03T10:10:10.976Z"
   },
   {
    "duration": 15,
    "start_time": "2022-06-03T10:10:28.136Z"
   },
   {
    "duration": 3,
    "start_time": "2022-06-03T10:10:37.314Z"
   },
   {
    "duration": 63,
    "start_time": "2022-06-03T10:10:37.320Z"
   },
   {
    "duration": 9,
    "start_time": "2022-06-03T10:10:37.385Z"
   },
   {
    "duration": 244,
    "start_time": "2022-06-03T10:10:37.396Z"
   },
   {
    "duration": 270,
    "start_time": "2022-06-03T10:10:37.642Z"
   },
   {
    "duration": 22,
    "start_time": "2022-06-03T10:10:37.913Z"
   },
   {
    "duration": 16,
    "start_time": "2022-06-03T10:10:46.278Z"
   },
   {
    "duration": 211,
    "start_time": "2022-06-03T10:10:54.035Z"
   },
   {
    "duration": 1555,
    "start_time": "2022-06-03T14:28:58.096Z"
   },
   {
    "duration": 129,
    "start_time": "2022-06-03T14:28:59.653Z"
   },
   {
    "duration": 11,
    "start_time": "2022-06-03T14:28:59.784Z"
   },
   {
    "duration": 258,
    "start_time": "2022-06-03T14:28:59.797Z"
   },
   {
    "duration": 265,
    "start_time": "2022-06-03T14:29:00.058Z"
   },
   {
    "duration": 1111,
    "start_time": "2022-06-03T14:29:00.325Z"
   },
   {
    "duration": 8,
    "start_time": "2022-06-03T14:29:01.438Z"
   },
   {
    "duration": 46,
    "start_time": "2022-06-03T14:29:01.447Z"
   },
   {
    "duration": 32,
    "start_time": "2022-06-03T14:29:01.495Z"
   },
   {
    "duration": 7,
    "start_time": "2022-06-03T14:30:49.450Z"
   },
   {
    "duration": 8,
    "start_time": "2022-06-03T14:32:37.458Z"
   },
   {
    "duration": 6,
    "start_time": "2022-06-03T14:33:59.556Z"
   },
   {
    "duration": 8,
    "start_time": "2022-06-03T14:34:35.054Z"
   },
   {
    "duration": 6,
    "start_time": "2022-06-03T14:34:55.374Z"
   },
   {
    "duration": 9,
    "start_time": "2022-06-03T14:35:45.947Z"
   },
   {
    "duration": 10,
    "start_time": "2022-06-03T14:36:19.438Z"
   },
   {
    "duration": 10,
    "start_time": "2022-06-03T14:37:20.757Z"
   },
   {
    "duration": 1309,
    "start_time": "2022-06-03T14:51:23.873Z"
   },
   {
    "duration": 58,
    "start_time": "2022-06-03T14:51:25.184Z"
   },
   {
    "duration": 10,
    "start_time": "2022-06-03T14:51:25.244Z"
   },
   {
    "duration": 232,
    "start_time": "2022-06-03T14:51:25.256Z"
   },
   {
    "duration": 274,
    "start_time": "2022-06-03T14:51:25.489Z"
   },
   {
    "duration": 1087,
    "start_time": "2022-06-03T14:51:25.765Z"
   },
   {
    "duration": 7,
    "start_time": "2022-06-03T14:51:26.853Z"
   },
   {
    "duration": 17,
    "start_time": "2022-06-03T14:51:26.861Z"
   },
   {
    "duration": 30,
    "start_time": "2022-06-03T14:51:26.880Z"
   },
   {
    "duration": 56,
    "start_time": "2022-06-03T14:51:26.912Z"
   },
   {
    "duration": 32,
    "start_time": "2022-06-03T14:51:41.286Z"
   },
   {
    "duration": 34,
    "start_time": "2022-06-03T14:56:30.376Z"
   },
   {
    "duration": 187,
    "start_time": "2022-06-03T14:57:16.847Z"
   },
   {
    "duration": 10,
    "start_time": "2022-06-03T14:58:09.485Z"
   },
   {
    "duration": 2026,
    "start_time": "2022-06-03T14:58:51.427Z"
   },
   {
    "duration": 5,
    "start_time": "2022-06-03T14:58:59.035Z"
   },
   {
    "duration": 74,
    "start_time": "2022-06-03T14:58:59.043Z"
   },
   {
    "duration": 10,
    "start_time": "2022-06-03T14:58:59.119Z"
   },
   {
    "duration": 258,
    "start_time": "2022-06-03T14:58:59.132Z"
   },
   {
    "duration": 757,
    "start_time": "2022-06-03T14:59:02.608Z"
   },
   {
    "duration": 14,
    "start_time": "2022-06-03T14:59:22.660Z"
   },
   {
    "duration": 1363,
    "start_time": "2022-06-03T14:59:29.689Z"
   },
   {
    "duration": 14,
    "start_time": "2022-06-03T14:59:43.906Z"
   },
   {
    "duration": 13,
    "start_time": "2022-06-03T14:59:53.765Z"
   },
   {
    "duration": 4,
    "start_time": "2022-06-03T14:59:57.864Z"
   },
   {
    "duration": 65,
    "start_time": "2022-06-03T14:59:57.871Z"
   },
   {
    "duration": 9,
    "start_time": "2022-06-03T14:59:57.938Z"
   },
   {
    "duration": 242,
    "start_time": "2022-06-03T14:59:57.948Z"
   },
   {
    "duration": 761,
    "start_time": "2022-06-03T14:59:58.195Z"
   },
   {
    "duration": 13,
    "start_time": "2022-06-03T14:59:58.958Z"
   },
   {
    "duration": 1365,
    "start_time": "2022-06-03T15:00:11.952Z"
   },
   {
    "duration": 14,
    "start_time": "2022-06-03T15:00:13.319Z"
   },
   {
    "duration": 4,
    "start_time": "2022-06-03T15:00:40.918Z"
   },
   {
    "duration": 91,
    "start_time": "2022-06-03T15:00:40.924Z"
   },
   {
    "duration": 11,
    "start_time": "2022-06-03T15:00:41.017Z"
   },
   {
    "duration": 244,
    "start_time": "2022-06-03T15:00:41.030Z"
   },
   {
    "duration": 947,
    "start_time": "2022-06-03T15:00:42.963Z"
   },
   {
    "duration": 13,
    "start_time": "2022-06-03T15:00:48.027Z"
   },
   {
    "duration": 6,
    "start_time": "2022-06-03T15:00:54.851Z"
   },
   {
    "duration": 17,
    "start_time": "2022-06-03T15:00:55.607Z"
   },
   {
    "duration": 18,
    "start_time": "2022-06-03T15:01:08.741Z"
   },
   {
    "duration": 9,
    "start_time": "2022-06-03T15:01:37.230Z"
   },
   {
    "duration": 15,
    "start_time": "2022-06-03T15:01:39.534Z"
   },
   {
    "duration": 17,
    "start_time": "2022-06-03T15:01:41.935Z"
   },
   {
    "duration": 11,
    "start_time": "2022-06-03T15:02:06.679Z"
   },
   {
    "duration": 7,
    "start_time": "2022-06-03T15:03:01.978Z"
   },
   {
    "duration": 18,
    "start_time": "2022-06-03T15:03:02.491Z"
   },
   {
    "duration": 1260,
    "start_time": "2022-06-03T15:03:13.056Z"
   },
   {
    "duration": 7,
    "start_time": "2022-06-03T15:03:16.026Z"
   },
   {
    "duration": 11,
    "start_time": "2022-06-03T15:03:16.964Z"
   },
   {
    "duration": 4,
    "start_time": "2022-06-03T15:03:34.512Z"
   },
   {
    "duration": 55,
    "start_time": "2022-06-03T15:03:34.518Z"
   },
   {
    "duration": 9,
    "start_time": "2022-06-03T15:03:34.575Z"
   },
   {
    "duration": 238,
    "start_time": "2022-06-03T15:03:34.585Z"
   },
   {
    "duration": 983,
    "start_time": "2022-06-03T15:03:34.825Z"
   },
   {
    "duration": 7,
    "start_time": "2022-06-03T15:03:35.810Z"
   },
   {
    "duration": 14,
    "start_time": "2022-06-03T15:03:35.819Z"
   },
   {
    "duration": 16,
    "start_time": "2022-06-03T15:03:42.025Z"
   },
   {
    "duration": 3,
    "start_time": "2022-06-03T15:04:31.230Z"
   },
   {
    "duration": 4,
    "start_time": "2022-06-03T15:04:36.476Z"
   },
   {
    "duration": 4,
    "start_time": "2022-06-03T15:05:22.081Z"
   },
   {
    "duration": 14,
    "start_time": "2022-06-03T15:05:41.706Z"
   },
   {
    "duration": 4,
    "start_time": "2022-06-03T15:06:03.476Z"
   },
   {
    "duration": 87,
    "start_time": "2022-06-03T15:06:03.482Z"
   },
   {
    "duration": 10,
    "start_time": "2022-06-03T15:06:03.570Z"
   },
   {
    "duration": 11,
    "start_time": "2022-06-03T15:06:05.417Z"
   },
   {
    "duration": 239,
    "start_time": "2022-06-03T15:06:05.823Z"
   },
   {
    "duration": 302,
    "start_time": "2022-06-03T15:06:08.081Z"
   },
   {
    "duration": 6,
    "start_time": "2022-06-03T15:06:13.361Z"
   },
   {
    "duration": 5,
    "start_time": "2022-06-03T15:06:14.339Z"
   },
   {
    "duration": 15,
    "start_time": "2022-06-03T15:06:17.574Z"
   },
   {
    "duration": 13,
    "start_time": "2022-06-03T15:07:23.675Z"
   },
   {
    "duration": 16,
    "start_time": "2022-06-03T15:07:31.824Z"
   },
   {
    "duration": 15,
    "start_time": "2022-06-03T15:07:42.745Z"
   },
   {
    "duration": 5,
    "start_time": "2022-06-03T15:08:11.224Z"
   },
   {
    "duration": 5,
    "start_time": "2022-06-03T15:08:19.317Z"
   },
   {
    "duration": 5,
    "start_time": "2022-06-03T15:08:29.537Z"
   },
   {
    "duration": 8,
    "start_time": "2022-06-03T15:08:33.947Z"
   },
   {
    "duration": 8,
    "start_time": "2022-06-03T15:10:17.679Z"
   },
   {
    "duration": 8,
    "start_time": "2022-06-03T15:10:43.687Z"
   },
   {
    "duration": 8,
    "start_time": "2022-06-03T15:10:44.509Z"
   },
   {
    "duration": 17,
    "start_time": "2022-06-03T15:10:46.806Z"
   },
   {
    "duration": 3,
    "start_time": "2022-06-03T15:13:59.737Z"
   },
   {
    "duration": 72,
    "start_time": "2022-06-03T15:13:59.742Z"
   },
   {
    "duration": 10,
    "start_time": "2022-06-03T15:13:59.816Z"
   },
   {
    "duration": 250,
    "start_time": "2022-06-03T15:13:59.828Z"
   },
   {
    "duration": 322,
    "start_time": "2022-06-03T15:14:01.930Z"
   },
   {
    "duration": 7,
    "start_time": "2022-06-03T15:14:11.414Z"
   },
   {
    "duration": 8,
    "start_time": "2022-06-03T15:14:12.329Z"
   },
   {
    "duration": 7,
    "start_time": "2022-06-03T15:14:25.706Z"
   },
   {
    "duration": 12,
    "start_time": "2022-06-03T15:14:28.913Z"
   },
   {
    "duration": 6,
    "start_time": "2022-06-03T15:14:44.233Z"
   },
   {
    "duration": 22,
    "start_time": "2022-06-03T15:14:59.760Z"
   },
   {
    "duration": 250,
    "start_time": "2022-06-03T15:15:15.167Z"
   },
   {
    "duration": 3,
    "start_time": "2022-06-03T15:15:57.760Z"
   },
   {
    "duration": 68,
    "start_time": "2022-06-03T15:15:57.765Z"
   },
   {
    "duration": 10,
    "start_time": "2022-06-03T15:15:57.835Z"
   },
   {
    "duration": 235,
    "start_time": "2022-06-03T15:15:57.847Z"
   },
   {
    "duration": 339,
    "start_time": "2022-06-03T15:15:58.085Z"
   },
   {
    "duration": 7,
    "start_time": "2022-06-03T15:15:58.425Z"
   },
   {
    "duration": 6,
    "start_time": "2022-06-03T15:15:58.434Z"
   },
   {
    "duration": 13,
    "start_time": "2022-06-03T15:15:58.442Z"
   },
   {
    "duration": 53,
    "start_time": "2022-06-03T15:15:58.456Z"
   },
   {
    "duration": 44,
    "start_time": "2022-06-03T15:15:58.511Z"
   },
   {
    "duration": 44,
    "start_time": "2022-06-03T15:16:00.106Z"
   },
   {
    "duration": 19,
    "start_time": "2022-06-03T15:18:03.721Z"
   },
   {
    "duration": 8,
    "start_time": "2022-06-03T15:31:39.487Z"
   },
   {
    "duration": 16,
    "start_time": "2022-06-03T15:31:50.322Z"
   },
   {
    "duration": 9,
    "start_time": "2022-06-03T15:31:52.745Z"
   },
   {
    "duration": 9,
    "start_time": "2022-06-03T15:32:17.949Z"
   },
   {
    "duration": 5,
    "start_time": "2022-06-03T15:33:11.624Z"
   },
   {
    "duration": 3,
    "start_time": "2022-06-03T15:33:15.446Z"
   },
   {
    "duration": 10,
    "start_time": "2022-06-03T15:33:17.607Z"
   },
   {
    "duration": 9,
    "start_time": "2022-06-03T15:33:20.861Z"
   },
   {
    "duration": 9,
    "start_time": "2022-06-03T15:34:04.321Z"
   },
   {
    "duration": 6,
    "start_time": "2022-06-03T15:34:42.849Z"
   },
   {
    "duration": 11,
    "start_time": "2022-06-03T15:35:09.870Z"
   },
   {
    "duration": 12,
    "start_time": "2022-06-03T15:35:18.985Z"
   },
   {
    "duration": 10,
    "start_time": "2022-06-03T15:35:23.481Z"
   },
   {
    "duration": 4,
    "start_time": "2022-06-03T15:35:39.486Z"
   },
   {
    "duration": 69,
    "start_time": "2022-06-03T15:35:39.491Z"
   },
   {
    "duration": 9,
    "start_time": "2022-06-03T15:35:39.562Z"
   },
   {
    "duration": 241,
    "start_time": "2022-06-03T15:35:39.573Z"
   },
   {
    "duration": 562,
    "start_time": "2022-06-03T15:35:39.816Z"
   },
   {
    "duration": 6,
    "start_time": "2022-06-03T15:35:40.380Z"
   },
   {
    "duration": 9,
    "start_time": "2022-06-03T15:35:40.393Z"
   },
   {
    "duration": 21,
    "start_time": "2022-06-03T15:35:40.405Z"
   },
   {
    "duration": 25,
    "start_time": "2022-06-03T15:35:40.428Z"
   },
   {
    "duration": 43,
    "start_time": "2022-06-03T15:35:40.467Z"
   },
   {
    "duration": 11,
    "start_time": "2022-06-03T15:35:58.060Z"
   },
   {
    "duration": 26,
    "start_time": "2022-06-03T15:36:00.846Z"
   },
   {
    "duration": 24,
    "start_time": "2022-06-03T15:36:21.948Z"
   },
   {
    "duration": 12,
    "start_time": "2022-06-03T15:36:25.806Z"
   },
   {
    "duration": 9,
    "start_time": "2022-06-03T15:38:07.970Z"
   },
   {
    "duration": 1368,
    "start_time": "2022-06-03T16:06:47.386Z"
   },
   {
    "duration": 62,
    "start_time": "2022-06-03T16:06:48.756Z"
   },
   {
    "duration": 10,
    "start_time": "2022-06-03T16:06:48.819Z"
   },
   {
    "duration": 294,
    "start_time": "2022-06-03T16:06:48.831Z"
   },
   {
    "duration": 342,
    "start_time": "2022-06-03T16:06:49.127Z"
   },
   {
    "duration": 34,
    "start_time": "2022-06-03T16:06:49.471Z"
   },
   {
    "duration": 18,
    "start_time": "2022-06-03T16:06:49.507Z"
   },
   {
    "duration": 69,
    "start_time": "2022-06-03T16:06:49.526Z"
   },
   {
    "duration": 128,
    "start_time": "2022-06-03T16:09:01.707Z"
   },
   {
    "duration": 13,
    "start_time": "2022-06-03T16:09:52.287Z"
   },
   {
    "duration": 15,
    "start_time": "2022-06-03T16:11:24.996Z"
   },
   {
    "duration": 114,
    "start_time": "2022-06-03T16:11:31.406Z"
   },
   {
    "duration": 3,
    "start_time": "2022-06-03T16:11:38.672Z"
   },
   {
    "duration": 21,
    "start_time": "2022-06-03T16:11:55.006Z"
   },
   {
    "duration": 15,
    "start_time": "2022-06-03T16:11:57.206Z"
   },
   {
    "duration": 1392,
    "start_time": "2022-06-03T16:13:29.728Z"
   },
   {
    "duration": 58,
    "start_time": "2022-06-03T16:13:31.122Z"
   },
   {
    "duration": 12,
    "start_time": "2022-06-03T16:13:31.181Z"
   },
   {
    "duration": 260,
    "start_time": "2022-06-03T16:13:31.195Z"
   },
   {
    "duration": 338,
    "start_time": "2022-06-03T16:13:31.458Z"
   },
   {
    "duration": 5,
    "start_time": "2022-06-03T16:13:31.798Z"
   },
   {
    "duration": 17,
    "start_time": "2022-06-03T16:13:31.805Z"
   },
   {
    "duration": 37,
    "start_time": "2022-06-03T16:13:31.824Z"
   },
   {
    "duration": 16,
    "start_time": "2022-06-03T16:13:31.862Z"
   },
   {
    "duration": 114,
    "start_time": "2022-06-03T16:13:31.880Z"
   },
   {
    "duration": 26,
    "start_time": "2022-06-03T16:15:45.381Z"
   },
   {
    "duration": 12,
    "start_time": "2022-06-03T16:15:57.181Z"
   },
   {
    "duration": 15,
    "start_time": "2022-06-03T16:15:57.733Z"
   },
   {
    "duration": 131,
    "start_time": "2022-06-03T16:20:08.206Z"
   },
   {
    "duration": 10,
    "start_time": "2022-06-03T16:20:08.632Z"
   },
   {
    "duration": 13,
    "start_time": "2022-06-03T16:20:26.358Z"
   },
   {
    "duration": 4,
    "start_time": "2022-06-03T16:20:39.266Z"
   },
   {
    "duration": 3,
    "start_time": "2022-06-03T16:20:42.284Z"
   },
   {
    "duration": 11,
    "start_time": "2022-06-03T16:21:21.470Z"
   },
   {
    "duration": 5,
    "start_time": "2022-06-03T16:21:21.981Z"
   },
   {
    "duration": 36163,
    "start_time": "2022-06-03T16:21:33.553Z"
   },
   {
    "duration": 4,
    "start_time": "2022-06-03T16:26:15.123Z"
   },
   {
    "duration": 5,
    "start_time": "2022-06-03T16:26:42.213Z"
   },
   {
    "duration": 6,
    "start_time": "2022-06-03T16:28:46.145Z"
   },
   {
    "duration": 3,
    "start_time": "2022-06-03T16:28:46.909Z"
   },
   {
    "duration": 36535,
    "start_time": "2022-06-03T16:28:47.580Z"
   },
   {
    "duration": 6,
    "start_time": "2022-06-03T16:30:10.081Z"
   },
   {
    "duration": 3,
    "start_time": "2022-06-03T16:30:11.950Z"
   },
   {
    "duration": 50331,
    "start_time": "2022-06-03T16:30:12.366Z"
   },
   {
    "duration": 4,
    "start_time": "2022-06-03T16:31:11.359Z"
   },
   {
    "duration": 33,
    "start_time": "2022-06-03T16:34:23.678Z"
   },
   {
    "duration": 3889,
    "start_time": "2022-06-03T16:36:43.451Z"
   },
   {
    "duration": 1108,
    "start_time": "2022-06-03T16:38:51.306Z"
   },
   {
    "duration": 44,
    "start_time": "2022-06-03T16:44:41.693Z"
   },
   {
    "duration": 25,
    "start_time": "2022-06-03T16:44:50.330Z"
   },
   {
    "duration": 7,
    "start_time": "2022-06-03T16:45:02.764Z"
   },
   {
    "duration": 17,
    "start_time": "2022-06-03T16:45:03.944Z"
   },
   {
    "duration": 16,
    "start_time": "2022-06-03T16:47:52.382Z"
   },
   {
    "duration": 85,
    "start_time": "2022-06-03T16:48:10.086Z"
   },
   {
    "duration": 15,
    "start_time": "2022-06-03T16:48:10.885Z"
   },
   {
    "duration": 16,
    "start_time": "2022-06-03T16:48:25.483Z"
   },
   {
    "duration": 18,
    "start_time": "2022-06-03T16:48:26.786Z"
   },
   {
    "duration": 6,
    "start_time": "2022-06-03T16:48:51.175Z"
   },
   {
    "duration": 5,
    "start_time": "2022-06-03T16:48:51.763Z"
   },
   {
    "duration": 50677,
    "start_time": "2022-06-03T16:48:53.090Z"
   },
   {
    "duration": 7,
    "start_time": "2022-06-03T16:50:08.863Z"
   },
   {
    "duration": 4,
    "start_time": "2022-06-03T16:50:09.285Z"
   },
   {
    "duration": 57545,
    "start_time": "2022-06-03T16:50:09.659Z"
   },
   {
    "duration": 4643,
    "start_time": "2022-06-03T16:51:07.206Z"
   },
   {
    "duration": 35114,
    "start_time": "2022-06-03T16:51:44.487Z"
   },
   {
    "duration": 7,
    "start_time": "2022-06-03T16:52:19.603Z"
   },
   {
    "duration": 7,
    "start_time": "2022-06-03T16:53:22.649Z"
   },
   {
    "duration": 7,
    "start_time": "2022-06-03T16:56:29.361Z"
   },
   {
    "duration": 3,
    "start_time": "2022-06-03T16:56:50.309Z"
   },
   {
    "duration": 62955,
    "start_time": "2022-06-03T16:56:50.745Z"
   },
   {
    "duration": 4,
    "start_time": "2022-06-03T16:58:00.021Z"
   },
   {
    "duration": 6,
    "start_time": "2022-06-03T16:58:46.342Z"
   },
   {
    "duration": 5,
    "start_time": "2022-06-03T17:00:39.822Z"
   },
   {
    "duration": 3,
    "start_time": "2022-06-03T17:00:40.368Z"
   },
   {
    "duration": 54450,
    "start_time": "2022-06-03T17:00:40.960Z"
   },
   {
    "duration": 6,
    "start_time": "2022-06-03T17:01:35.495Z"
   },
   {
    "duration": 30,
    "start_time": "2022-06-03T17:02:06.461Z"
   },
   {
    "duration": 4201,
    "start_time": "2022-06-03T17:02:33.470Z"
   },
   {
    "duration": 9,
    "start_time": "2022-06-03T17:02:56.160Z"
   },
   {
    "duration": 211,
    "start_time": "2022-06-03T17:03:30.508Z"
   },
   {
    "duration": 4131,
    "start_time": "2022-06-03T17:03:42.985Z"
   },
   {
    "duration": 3421,
    "start_time": "2022-06-03T17:03:59.580Z"
   },
   {
    "duration": 4092,
    "start_time": "2022-06-03T17:04:37.044Z"
   },
   {
    "duration": 7,
    "start_time": "2022-06-03T17:06:03.433Z"
   },
   {
    "duration": 4145,
    "start_time": "2022-06-03T17:07:33.351Z"
   },
   {
    "duration": 3889,
    "start_time": "2022-06-03T17:11:55.653Z"
   },
   {
    "duration": 1493,
    "start_time": "2022-06-05T02:45:44.220Z"
   },
   {
    "duration": 124,
    "start_time": "2022-06-05T02:45:45.715Z"
   },
   {
    "duration": 10,
    "start_time": "2022-06-05T02:45:45.840Z"
   },
   {
    "duration": 222,
    "start_time": "2022-06-05T02:45:45.852Z"
   },
   {
    "duration": 294,
    "start_time": "2022-06-05T02:45:46.076Z"
   },
   {
    "duration": 3,
    "start_time": "2022-06-05T02:45:46.372Z"
   },
   {
    "duration": 31,
    "start_time": "2022-06-05T02:45:46.377Z"
   },
   {
    "duration": 12,
    "start_time": "2022-06-05T02:45:46.409Z"
   },
   {
    "duration": 133,
    "start_time": "2022-06-05T02:45:46.422Z"
   },
   {
    "duration": 0,
    "start_time": "2022-06-05T02:45:46.557Z"
   },
   {
    "duration": 0,
    "start_time": "2022-06-05T02:45:46.558Z"
   },
   {
    "duration": 0,
    "start_time": "2022-06-05T02:45:46.559Z"
   },
   {
    "duration": 0,
    "start_time": "2022-06-05T02:45:46.560Z"
   },
   {
    "duration": 0,
    "start_time": "2022-06-05T02:45:46.561Z"
   },
   {
    "duration": 0,
    "start_time": "2022-06-05T02:45:46.562Z"
   },
   {
    "duration": 0,
    "start_time": "2022-06-05T02:45:46.563Z"
   },
   {
    "duration": 8,
    "start_time": "2022-06-05T02:46:55.879Z"
   },
   {
    "duration": 14,
    "start_time": "2022-06-05T02:47:01.817Z"
   },
   {
    "duration": 4,
    "start_time": "2022-06-05T02:47:22.652Z"
   },
   {
    "duration": 11,
    "start_time": "2022-06-05T02:47:25.159Z"
   },
   {
    "duration": 4,
    "start_time": "2022-06-05T02:49:27.374Z"
   },
   {
    "duration": 5,
    "start_time": "2022-06-05T02:50:51.937Z"
   },
   {
    "duration": 3,
    "start_time": "2022-06-05T02:50:52.689Z"
   },
   {
    "duration": 269,
    "start_time": "2022-06-05T02:50:53.708Z"
   },
   {
    "duration": 6,
    "start_time": "2022-06-05T02:51:07.875Z"
   },
   {
    "duration": 4,
    "start_time": "2022-06-05T02:51:08.944Z"
   },
   {
    "duration": 193,
    "start_time": "2022-06-05T02:51:09.440Z"
   },
   {
    "duration": 6,
    "start_time": "2022-06-05T02:52:14.826Z"
   },
   {
    "duration": 3,
    "start_time": "2022-06-05T02:52:15.451Z"
   },
   {
    "duration": 229,
    "start_time": "2022-06-05T02:52:15.977Z"
   },
   {
    "duration": 6,
    "start_time": "2022-06-05T02:52:26.276Z"
   },
   {
    "duration": 3,
    "start_time": "2022-06-05T02:52:27.527Z"
   },
   {
    "duration": 223,
    "start_time": "2022-06-05T02:52:28.049Z"
   },
   {
    "duration": 5,
    "start_time": "2022-06-05T02:53:18.554Z"
   },
   {
    "duration": 52,
    "start_time": "2022-06-05T02:53:19.548Z"
   },
   {
    "duration": 11,
    "start_time": "2022-06-05T02:53:20.215Z"
   },
   {
    "duration": 233,
    "start_time": "2022-06-05T02:53:20.500Z"
   },
   {
    "duration": 295,
    "start_time": "2022-06-05T02:53:21.016Z"
   },
   {
    "duration": 3,
    "start_time": "2022-06-05T02:53:21.852Z"
   },
   {
    "duration": 22,
    "start_time": "2022-06-05T02:53:22.700Z"
   },
   {
    "duration": 12,
    "start_time": "2022-06-05T02:53:23.378Z"
   },
   {
    "duration": 4,
    "start_time": "2022-06-05T02:53:24.097Z"
   },
   {
    "duration": 5,
    "start_time": "2022-06-05T02:53:24.791Z"
   },
   {
    "duration": 3,
    "start_time": "2022-06-05T02:53:25.517Z"
   },
   {
    "duration": 52263,
    "start_time": "2022-06-05T02:53:26.133Z"
   },
   {
    "duration": 10,
    "start_time": "2022-06-05T02:54:22.151Z"
   },
   {
    "duration": 6,
    "start_time": "2022-06-05T02:54:25.313Z"
   },
   {
    "duration": 3,
    "start_time": "2022-06-05T02:54:25.849Z"
   },
   {
    "duration": 53258,
    "start_time": "2022-06-05T02:54:26.437Z"
   },
   {
    "duration": 4,
    "start_time": "2022-06-05T02:55:19.696Z"
   },
   {
    "duration": 3611,
    "start_time": "2022-06-05T02:55:19.702Z"
   },
   {
    "duration": 15,
    "start_time": "2022-06-05T02:55:28.913Z"
   },
   {
    "duration": 5,
    "start_time": "2022-06-05T02:56:28.715Z"
   },
   {
    "duration": 51,
    "start_time": "2022-06-05T02:56:29.436Z"
   },
   {
    "duration": 11,
    "start_time": "2022-06-05T02:56:30.520Z"
   },
   {
    "duration": 210,
    "start_time": "2022-06-05T02:56:37.543Z"
   },
   {
    "duration": 1394,
    "start_time": "2022-06-05T07:56:57.559Z"
   },
   {
    "duration": 153,
    "start_time": "2022-06-05T07:56:58.955Z"
   },
   {
    "duration": 9,
    "start_time": "2022-06-05T07:56:59.109Z"
   },
   {
    "duration": 213,
    "start_time": "2022-06-05T07:56:59.120Z"
   },
   {
    "duration": 284,
    "start_time": "2022-06-05T07:57:10.804Z"
   },
   {
    "duration": 3,
    "start_time": "2022-06-05T07:57:14.593Z"
   },
   {
    "duration": 24,
    "start_time": "2022-06-05T07:57:15.483Z"
   },
   {
    "duration": 14,
    "start_time": "2022-06-05T07:57:18.895Z"
   },
   {
    "duration": 4,
    "start_time": "2022-06-05T07:57:20.380Z"
   },
   {
    "duration": 5,
    "start_time": "2022-06-05T07:57:22.482Z"
   },
   {
    "duration": 3,
    "start_time": "2022-06-05T07:57:23.980Z"
   },
   {
    "duration": 56381,
    "start_time": "2022-06-05T07:57:25.159Z"
   },
   {
    "duration": 710,
    "start_time": "2022-06-05T07:58:56.461Z"
   },
   {
    "duration": 6,
    "start_time": "2022-06-05T07:59:03.879Z"
   },
   {
    "duration": 57,
    "start_time": "2022-06-05T07:59:03.887Z"
   },
   {
    "duration": 9,
    "start_time": "2022-06-05T07:59:03.945Z"
   },
   {
    "duration": 236,
    "start_time": "2022-06-05T07:59:03.956Z"
   },
   {
    "duration": 333,
    "start_time": "2022-06-05T07:59:04.193Z"
   },
   {
    "duration": 124,
    "start_time": "2022-06-05T08:01:44.675Z"
   },
   {
    "duration": 6,
    "start_time": "2022-06-05T08:02:01.741Z"
   },
   {
    "duration": 82,
    "start_time": "2022-06-05T08:02:01.749Z"
   },
   {
    "duration": 9,
    "start_time": "2022-06-05T08:02:01.833Z"
   },
   {
    "duration": 246,
    "start_time": "2022-06-05T08:02:01.844Z"
   },
   {
    "duration": 14,
    "start_time": "2022-06-05T08:02:04.450Z"
   },
   {
    "duration": 505,
    "start_time": "2022-06-05T08:02:16.312Z"
   },
   {
    "duration": 542,
    "start_time": "2022-06-05T08:02:33.141Z"
   },
   {
    "duration": 5,
    "start_time": "2022-06-05T08:02:39.657Z"
   },
   {
    "duration": 64,
    "start_time": "2022-06-05T08:02:39.664Z"
   },
   {
    "duration": 9,
    "start_time": "2022-06-05T08:02:39.730Z"
   },
   {
    "duration": 217,
    "start_time": "2022-06-05T08:02:39.740Z"
   },
   {
    "duration": 557,
    "start_time": "2022-06-05T08:02:39.959Z"
   },
   {
    "duration": 280,
    "start_time": "2022-06-05T08:03:35.111Z"
   },
   {
    "duration": 34,
    "start_time": "2022-06-05T08:10:28.638Z"
   },
   {
    "duration": 317,
    "start_time": "2022-06-05T08:10:52.687Z"
   },
   {
    "duration": 452,
    "start_time": "2022-06-05T08:11:04.804Z"
   },
   {
    "duration": 332,
    "start_time": "2022-06-05T08:11:28.281Z"
   },
   {
    "duration": 3,
    "start_time": "2022-06-05T08:11:31.400Z"
   },
   {
    "duration": 24,
    "start_time": "2022-06-05T08:11:32.880Z"
   },
   {
    "duration": 5,
    "start_time": "2022-06-05T08:12:03.798Z"
   },
   {
    "duration": 60,
    "start_time": "2022-06-05T08:12:03.804Z"
   },
   {
    "duration": 8,
    "start_time": "2022-06-05T08:12:03.866Z"
   },
   {
    "duration": 220,
    "start_time": "2022-06-05T08:12:03.875Z"
   },
   {
    "duration": 261,
    "start_time": "2022-06-05T08:12:04.097Z"
   },
   {
    "duration": 351,
    "start_time": "2022-06-05T08:12:04.360Z"
   },
   {
    "duration": 3,
    "start_time": "2022-06-05T08:12:06.758Z"
   },
   {
    "duration": 26,
    "start_time": "2022-06-05T08:12:07.681Z"
   },
   {
    "duration": 3,
    "start_time": "2022-06-05T08:13:42.248Z"
   },
   {
    "duration": 22,
    "start_time": "2022-06-05T08:13:42.909Z"
   },
   {
    "duration": 13,
    "start_time": "2022-06-05T08:13:49.183Z"
   },
   {
    "duration": 4,
    "start_time": "2022-06-05T08:13:52.406Z"
   },
   {
    "duration": 5,
    "start_time": "2022-06-05T08:13:53.199Z"
   },
   {
    "duration": 3,
    "start_time": "2022-06-05T08:13:54.697Z"
   },
   {
    "duration": 57611,
    "start_time": "2022-06-05T08:13:55.752Z"
   },
   {
    "duration": 4,
    "start_time": "2022-06-05T08:15:28.873Z"
   },
   {
    "duration": 5,
    "start_time": "2022-06-05T08:28:28.821Z"
   },
   {
    "duration": 60,
    "start_time": "2022-06-05T08:28:28.828Z"
   },
   {
    "duration": 10,
    "start_time": "2022-06-05T08:28:28.890Z"
   },
   {
    "duration": 202,
    "start_time": "2022-06-05T08:28:30.417Z"
   },
   {
    "duration": 850,
    "start_time": "2022-06-05T08:28:44.685Z"
   },
   {
    "duration": 266,
    "start_time": "2022-06-05T08:29:03.045Z"
   },
   {
    "duration": 426,
    "start_time": "2022-06-05T08:29:07.017Z"
   },
   {
    "duration": 224,
    "start_time": "2022-06-05T08:29:23.487Z"
   },
   {
    "duration": 6,
    "start_time": "2022-06-05T08:29:30.184Z"
   },
   {
    "duration": 68,
    "start_time": "2022-06-05T08:29:30.192Z"
   },
   {
    "duration": 10,
    "start_time": "2022-06-05T08:29:30.262Z"
   },
   {
    "duration": 270,
    "start_time": "2022-06-05T08:29:30.274Z"
   },
   {
    "duration": 330,
    "start_time": "2022-06-05T08:29:30.546Z"
   },
   {
    "duration": 295,
    "start_time": "2022-06-05T08:29:30.879Z"
   },
   {
    "duration": 6,
    "start_time": "2022-06-05T08:30:02.753Z"
   },
   {
    "duration": 83,
    "start_time": "2022-06-05T08:30:02.761Z"
   },
   {
    "duration": 10,
    "start_time": "2022-06-05T08:30:02.846Z"
   },
   {
    "duration": 229,
    "start_time": "2022-06-05T08:30:02.858Z"
   },
   {
    "duration": 287,
    "start_time": "2022-06-05T08:30:03.088Z"
   },
   {
    "duration": 310,
    "start_time": "2022-06-05T08:30:06.686Z"
   },
   {
    "duration": 3,
    "start_time": "2022-06-05T08:30:14.019Z"
   },
   {
    "duration": 6,
    "start_time": "2022-06-05T08:30:43.119Z"
   },
   {
    "duration": 64,
    "start_time": "2022-06-05T08:30:43.127Z"
   },
   {
    "duration": 9,
    "start_time": "2022-06-05T08:30:43.193Z"
   },
   {
    "duration": 9,
    "start_time": "2022-06-05T08:30:44.883Z"
   },
   {
    "duration": 212,
    "start_time": "2022-06-05T08:30:45.718Z"
   },
   {
    "duration": 265,
    "start_time": "2022-06-05T08:30:57.612Z"
   },
   {
    "duration": 6,
    "start_time": "2022-06-05T08:31:42.321Z"
   },
   {
    "duration": 58,
    "start_time": "2022-06-05T08:31:42.329Z"
   },
   {
    "duration": 9,
    "start_time": "2022-06-05T08:31:42.389Z"
   },
   {
    "duration": 211,
    "start_time": "2022-06-05T08:31:42.399Z"
   },
   {
    "duration": 445,
    "start_time": "2022-06-05T08:31:45.196Z"
   },
   {
    "duration": 284,
    "start_time": "2022-06-05T08:31:50.249Z"
   },
   {
    "duration": 3,
    "start_time": "2022-06-05T08:31:55.080Z"
   },
   {
    "duration": 28,
    "start_time": "2022-06-05T08:31:55.725Z"
   },
   {
    "duration": 14,
    "start_time": "2022-06-05T08:31:58.683Z"
   },
   {
    "duration": 4,
    "start_time": "2022-06-05T08:31:59.644Z"
   },
   {
    "duration": 5,
    "start_time": "2022-06-05T08:32:00.342Z"
   },
   {
    "duration": 4,
    "start_time": "2022-06-05T08:32:01.086Z"
   },
   {
    "duration": 57762,
    "start_time": "2022-06-05T08:32:02.320Z"
   },
   {
    "duration": 4,
    "start_time": "2022-06-05T08:34:19.511Z"
   },
   {
    "duration": 3988,
    "start_time": "2022-06-05T08:34:28.724Z"
   },
   {
    "duration": 6,
    "start_time": "2022-06-05T08:38:32.085Z"
   },
   {
    "duration": 2,
    "start_time": "2022-06-05T08:38:34.279Z"
   },
   {
    "duration": 106675,
    "start_time": "2022-06-05T08:38:34.604Z"
   },
   {
    "duration": 4,
    "start_time": "2022-06-05T08:40:26.036Z"
   },
   {
    "duration": 6,
    "start_time": "2022-06-05T08:40:42.145Z"
   },
   {
    "duration": 3,
    "start_time": "2022-06-05T08:41:12.489Z"
   },
   {
    "duration": 51963,
    "start_time": "2022-06-05T08:41:12.841Z"
   },
   {
    "duration": 4,
    "start_time": "2022-06-05T08:42:04.806Z"
   },
   {
    "duration": 3798,
    "start_time": "2022-06-05T08:42:19.244Z"
   },
   {
    "duration": 11,
    "start_time": "2022-06-05T08:44:09.526Z"
   },
   {
    "duration": 11,
    "start_time": "2022-06-05T08:44:31.201Z"
   },
   {
    "duration": 54450,
    "start_time": "2022-06-05T08:47:16.508Z"
   },
   {
    "duration": 14,
    "start_time": "2022-06-05T08:48:12.547Z"
   },
   {
    "duration": 5,
    "start_time": "2022-06-05T08:48:26.594Z"
   },
   {
    "duration": 12,
    "start_time": "2022-06-05T08:48:36.615Z"
   },
   {
    "duration": 10445,
    "start_time": "2022-06-05T08:48:50.693Z"
   },
   {
    "duration": 59194,
    "start_time": "2022-06-05T08:49:43.551Z"
   },
   {
    "duration": 10260,
    "start_time": "2022-06-05T08:55:16.385Z"
   },
   {
    "duration": 13756,
    "start_time": "2022-06-05T08:59:45.289Z"
   },
   {
    "duration": 12271,
    "start_time": "2022-06-05T09:01:00.780Z"
   },
   {
    "duration": 21663,
    "start_time": "2022-06-05T09:01:20.785Z"
   },
   {
    "duration": 31797,
    "start_time": "2022-06-05T09:02:04.743Z"
   },
   {
    "duration": 11529,
    "start_time": "2022-06-05T09:13:43.219Z"
   },
   {
    "duration": 27744,
    "start_time": "2022-06-05T09:14:01.688Z"
   },
   {
    "duration": 2614,
    "start_time": "2022-06-05T09:15:28.715Z"
   },
   {
    "duration": 547,
    "start_time": "2022-06-05T09:21:33.223Z"
   },
   {
    "duration": 12906,
    "start_time": "2022-06-05T09:22:01.416Z"
   },
   {
    "duration": 8,
    "start_time": "2022-06-05T09:22:22.604Z"
   },
   {
    "duration": 72,
    "start_time": "2022-06-05T09:22:22.615Z"
   },
   {
    "duration": 10,
    "start_time": "2022-06-05T09:22:22.689Z"
   },
   {
    "duration": 223,
    "start_time": "2022-06-05T09:22:22.701Z"
   },
   {
    "duration": 268,
    "start_time": "2022-06-05T09:22:22.928Z"
   },
   {
    "duration": 336,
    "start_time": "2022-06-05T09:22:23.198Z"
   },
   {
    "duration": 3,
    "start_time": "2022-06-05T09:22:23.536Z"
   },
   {
    "duration": 33,
    "start_time": "2022-06-05T09:22:23.540Z"
   },
   {
    "duration": 16,
    "start_time": "2022-06-05T09:22:23.576Z"
   },
   {
    "duration": 10,
    "start_time": "2022-06-05T09:22:23.594Z"
   },
   {
    "duration": 23,
    "start_time": "2022-06-05T09:22:23.606Z"
   },
   {
    "duration": 361884,
    "start_time": "2022-06-05T09:22:29.131Z"
   },
   {
    "duration": 163129,
    "start_time": "2022-06-05T09:29:05.586Z"
   },
   {
    "duration": 10,
    "start_time": "2022-06-05T09:32:27.292Z"
   },
   {
    "duration": 34,
    "start_time": "2022-06-05T09:33:19.712Z"
   },
   {
    "duration": 10,
    "start_time": "2022-06-05T09:33:24.630Z"
   },
   {
    "duration": 9,
    "start_time": "2022-06-05T09:33:35.376Z"
   },
   {
    "duration": 10,
    "start_time": "2022-06-05T09:33:49.479Z"
   },
   {
    "duration": 6,
    "start_time": "2022-06-05T09:34:28.833Z"
   },
   {
    "duration": 7,
    "start_time": "2022-06-05T09:47:49.131Z"
   },
   {
    "duration": 27,
    "start_time": "2022-06-05T09:48:48.113Z"
   },
   {
    "duration": 11,
    "start_time": "2022-06-05T09:48:52.829Z"
   },
   {
    "duration": 10,
    "start_time": "2022-06-05T09:49:15.186Z"
   },
   {
    "duration": 5,
    "start_time": "2022-06-05T09:49:27.651Z"
   },
   {
    "duration": 12,
    "start_time": "2022-06-05T09:52:25.476Z"
   },
   {
    "duration": 11,
    "start_time": "2022-06-05T09:52:37.878Z"
   },
   {
    "duration": 14,
    "start_time": "2022-06-05T09:53:00.037Z"
   },
   {
    "duration": 5153,
    "start_time": "2022-06-05T09:53:32.742Z"
   },
   {
    "duration": 10,
    "start_time": "2022-06-05T09:54:29.016Z"
   },
   {
    "duration": 7,
    "start_time": "2022-06-05T09:54:50.994Z"
   },
   {
    "duration": 79259,
    "start_time": "2022-06-05T09:55:03.601Z"
   },
   {
    "duration": 0,
    "start_time": "2022-06-05T09:56:22.863Z"
   },
   {
    "duration": 45140,
    "start_time": "2022-06-05T09:56:28.895Z"
   },
   {
    "duration": 130932,
    "start_time": "2022-06-05T09:57:18.705Z"
   },
   {
    "duration": 11939,
    "start_time": "2022-06-05T10:01:06.404Z"
   },
   {
    "duration": 510,
    "start_time": "2022-06-05T10:02:05.630Z"
   },
   {
    "duration": 5,
    "start_time": "2022-06-05T10:07:25.775Z"
   },
   {
    "duration": 3,
    "start_time": "2022-06-05T10:07:28.142Z"
   },
   {
    "duration": 36,
    "start_time": "2022-06-05T10:07:28.640Z"
   },
   {
    "duration": 5,
    "start_time": "2022-06-05T10:07:55.179Z"
   },
   {
    "duration": 3,
    "start_time": "2022-06-05T10:07:55.557Z"
   },
   {
    "duration": 52508,
    "start_time": "2022-06-05T10:07:55.979Z"
   },
   {
    "duration": 4,
    "start_time": "2022-06-05T10:08:48.488Z"
   },
   {
    "duration": 23,
    "start_time": "2022-06-05T10:08:48.494Z"
   },
   {
    "duration": 12,
    "start_time": "2022-06-05T10:08:48.519Z"
   },
   {
    "duration": 7,
    "start_time": "2022-06-05T10:09:07.351Z"
   },
   {
    "duration": 3,
    "start_time": "2022-06-05T10:09:08.643Z"
   },
   {
    "duration": 78362,
    "start_time": "2022-06-05T10:09:09.345Z"
   },
   {
    "duration": 4,
    "start_time": "2022-06-05T10:10:27.708Z"
   },
   {
    "duration": 4,
    "start_time": "2022-06-05T10:11:46.478Z"
   },
   {
    "duration": 988,
    "start_time": "2022-06-05T10:17:13.297Z"
   },
   {
    "duration": 787,
    "start_time": "2022-06-05T10:18:01.757Z"
   },
   {
    "duration": 665,
    "start_time": "2022-06-05T10:19:08.732Z"
   },
   {
    "duration": 722,
    "start_time": "2022-06-05T10:22:35.372Z"
   },
   {
    "duration": 39,
    "start_time": "2022-06-05T10:22:55.872Z"
   },
   {
    "duration": 742,
    "start_time": "2022-06-05T10:24:28.846Z"
   },
   {
    "duration": 662,
    "start_time": "2022-06-05T10:25:47.973Z"
   },
   {
    "duration": 98393,
    "start_time": "2022-06-05T10:30:17.343Z"
   },
   {
    "duration": 10,
    "start_time": "2022-06-05T10:32:40.544Z"
   },
   {
    "duration": 136523,
    "start_time": "2022-06-05T10:33:00.023Z"
   },
   {
    "duration": 141871,
    "start_time": "2022-06-05T10:36:28.786Z"
   },
   {
    "duration": 4774,
    "start_time": "2022-06-05T10:41:11.528Z"
   },
   {
    "duration": 20,
    "start_time": "2022-06-05T10:53:10.746Z"
   },
   {
    "duration": 6,
    "start_time": "2022-06-05T10:53:15.400Z"
   },
   {
    "duration": 67,
    "start_time": "2022-06-05T10:53:15.409Z"
   },
   {
    "duration": 9,
    "start_time": "2022-06-05T10:53:15.478Z"
   },
   {
    "duration": 225,
    "start_time": "2022-06-05T10:53:15.488Z"
   },
   {
    "duration": 276,
    "start_time": "2022-06-05T10:53:15.715Z"
   },
   {
    "duration": 498,
    "start_time": "2022-06-05T10:53:15.993Z"
   },
   {
    "duration": 3,
    "start_time": "2022-06-05T10:53:16.493Z"
   },
   {
    "duration": 32,
    "start_time": "2022-06-05T10:53:16.498Z"
   },
   {
    "duration": 16,
    "start_time": "2022-06-05T10:53:27.119Z"
   },
   {
    "duration": 12,
    "start_time": "2022-06-05T10:53:27.763Z"
   },
   {
    "duration": 4,
    "start_time": "2022-06-05T10:53:28.283Z"
   },
   {
    "duration": 6,
    "start_time": "2022-06-05T10:53:28.748Z"
   },
   {
    "duration": 3,
    "start_time": "2022-06-05T10:53:29.206Z"
   },
   {
    "duration": 54886,
    "start_time": "2022-06-05T10:53:29.687Z"
   },
   {
    "duration": 6,
    "start_time": "2022-06-05T10:54:24.575Z"
   },
   {
    "duration": 3330,
    "start_time": "2022-06-05T10:54:24.583Z"
   },
   {
    "duration": 6,
    "start_time": "2022-06-05T10:54:27.915Z"
   },
   {
    "duration": 31716,
    "start_time": "2022-06-05T10:54:27.923Z"
   },
   {
    "duration": 593,
    "start_time": "2022-06-05T10:54:59.640Z"
   },
   {
    "duration": 640,
    "start_time": "2022-06-05T10:55:00.235Z"
   },
   {
    "duration": 2791,
    "start_time": "2022-06-05T10:55:00.877Z"
   },
   {
    "duration": 562,
    "start_time": "2022-06-05T10:55:03.671Z"
   },
   {
    "duration": 2797,
    "start_time": "2022-06-05T10:57:15.722Z"
   },
   {
    "duration": 1484,
    "start_time": "2022-06-06T02:42:56.657Z"
   },
   {
    "duration": 214,
    "start_time": "2022-06-06T02:42:58.143Z"
   },
   {
    "duration": 11,
    "start_time": "2022-06-06T02:42:58.358Z"
   },
   {
    "duration": 350,
    "start_time": "2022-06-06T02:43:00.793Z"
   },
   {
    "duration": 265,
    "start_time": "2022-06-06T02:43:16.831Z"
   },
   {
    "duration": 306,
    "start_time": "2022-06-06T02:44:35.742Z"
   },
   {
    "duration": 366,
    "start_time": "2022-06-06T02:45:37.957Z"
   },
   {
    "duration": 319,
    "start_time": "2022-06-06T02:45:42.310Z"
   },
   {
    "duration": 136,
    "start_time": "2022-06-06T02:46:54.303Z"
   },
   {
    "duration": 21,
    "start_time": "2022-06-06T02:47:20.774Z"
   },
   {
    "duration": 20,
    "start_time": "2022-06-06T02:47:42.845Z"
   },
   {
    "duration": 5,
    "start_time": "2022-06-06T02:50:10.656Z"
   },
   {
    "duration": 58,
    "start_time": "2022-06-06T02:50:10.663Z"
   },
   {
    "duration": 8,
    "start_time": "2022-06-06T02:50:10.723Z"
   },
   {
    "duration": 249,
    "start_time": "2022-06-06T02:50:10.733Z"
   },
   {
    "duration": 305,
    "start_time": "2022-06-06T02:50:10.984Z"
   },
   {
    "duration": 401,
    "start_time": "2022-06-06T02:50:11.291Z"
   },
   {
    "duration": 27,
    "start_time": "2022-06-06T02:51:40.856Z"
   },
   {
    "duration": 22,
    "start_time": "2022-06-06T02:51:59.319Z"
   },
   {
    "duration": 30,
    "start_time": "2022-06-06T02:52:30.820Z"
   },
   {
    "duration": 6,
    "start_time": "2022-06-06T02:57:06.395Z"
   },
   {
    "duration": 81,
    "start_time": "2022-06-06T02:57:06.404Z"
   },
   {
    "duration": 9,
    "start_time": "2022-06-06T02:57:06.487Z"
   },
   {
    "duration": 291,
    "start_time": "2022-06-06T02:57:06.498Z"
   },
   {
    "duration": 326,
    "start_time": "2022-06-06T02:57:06.791Z"
   },
   {
    "duration": 25,
    "start_time": "2022-06-06T02:57:09.943Z"
   },
   {
    "duration": 12,
    "start_time": "2022-06-06T02:58:52.577Z"
   },
   {
    "duration": 12,
    "start_time": "2022-06-06T02:59:14.144Z"
   },
   {
    "duration": 6,
    "start_time": "2022-06-06T02:59:18.760Z"
   },
   {
    "duration": 81,
    "start_time": "2022-06-06T02:59:18.769Z"
   },
   {
    "duration": 9,
    "start_time": "2022-06-06T02:59:18.852Z"
   },
   {
    "duration": 253,
    "start_time": "2022-06-06T02:59:18.863Z"
   },
   {
    "duration": 395,
    "start_time": "2022-06-06T02:59:19.118Z"
   },
   {
    "duration": 13,
    "start_time": "2022-06-06T02:59:21.555Z"
   },
   {
    "duration": 403,
    "start_time": "2022-06-06T02:59:54.455Z"
   },
   {
    "duration": 5,
    "start_time": "2022-06-06T03:00:05.579Z"
   },
   {
    "duration": 64,
    "start_time": "2022-06-06T03:00:05.586Z"
   },
   {
    "duration": 10,
    "start_time": "2022-06-06T03:00:05.652Z"
   },
   {
    "duration": 257,
    "start_time": "2022-06-06T03:00:05.664Z"
   },
   {
    "duration": 355,
    "start_time": "2022-06-06T03:00:05.922Z"
   },
   {
    "duration": 8,
    "start_time": "2022-06-06T03:00:08.147Z"
   },
   {
    "duration": 218,
    "start_time": "2022-06-06T03:00:13.008Z"
   },
   {
    "duration": 229,
    "start_time": "2022-06-06T03:00:28.826Z"
   },
   {
    "duration": 259,
    "start_time": "2022-06-06T03:00:39.072Z"
   },
   {
    "duration": 15,
    "start_time": "2022-06-06T03:01:55.219Z"
   },
   {
    "duration": 239,
    "start_time": "2022-06-06T03:02:00.135Z"
   },
   {
    "duration": 868,
    "start_time": "2022-06-06T03:12:29.009Z"
   },
   {
    "duration": 733,
    "start_time": "2022-06-06T03:12:46.256Z"
   },
   {
    "duration": 506,
    "start_time": "2022-06-06T03:17:33.924Z"
   },
   {
    "duration": 33,
    "start_time": "2022-06-06T03:17:49.775Z"
   },
   {
    "duration": 858,
    "start_time": "2022-06-06T03:18:12.847Z"
   },
   {
    "duration": 882,
    "start_time": "2022-06-06T03:18:25.762Z"
   },
   {
    "duration": 1295,
    "start_time": "2022-06-06T04:19:28.867Z"
   },
   {
    "duration": 56,
    "start_time": "2022-06-06T04:19:30.164Z"
   },
   {
    "duration": 9,
    "start_time": "2022-06-06T04:19:30.221Z"
   },
   {
    "duration": 311,
    "start_time": "2022-06-06T04:19:30.233Z"
   },
   {
    "duration": 313,
    "start_time": "2022-06-06T04:19:30.545Z"
   },
   {
    "duration": 630,
    "start_time": "2022-06-06T04:19:37.103Z"
   },
   {
    "duration": 543,
    "start_time": "2022-06-06T04:20:05.537Z"
   },
   {
    "duration": 505,
    "start_time": "2022-06-06T04:20:13.434Z"
   },
   {
    "duration": 850,
    "start_time": "2022-06-06T04:20:39.587Z"
   },
   {
    "duration": 711,
    "start_time": "2022-06-06T04:21:16.167Z"
   },
   {
    "duration": 681,
    "start_time": "2022-06-06T04:21:47.306Z"
   },
   {
    "duration": 686,
    "start_time": "2022-06-06T04:22:04.487Z"
   },
   {
    "duration": 744,
    "start_time": "2022-06-06T04:22:14.596Z"
   },
   {
    "duration": 606,
    "start_time": "2022-06-06T04:28:25.470Z"
   },
   {
    "duration": 442,
    "start_time": "2022-06-06T04:30:30.374Z"
   },
   {
    "duration": 3,
    "start_time": "2022-06-06T04:30:41.093Z"
   },
   {
    "duration": 19,
    "start_time": "2022-06-06T04:30:43.463Z"
   },
   {
    "duration": 42,
    "start_time": "2022-06-06T04:30:52.800Z"
   },
   {
    "duration": 62,
    "start_time": "2022-06-06T04:30:59.010Z"
   },
   {
    "duration": 41,
    "start_time": "2022-06-06T04:36:46.888Z"
   },
   {
    "duration": 73,
    "start_time": "2022-06-06T04:40:23.669Z"
   },
   {
    "duration": 55,
    "start_time": "2022-06-06T04:40:47.533Z"
   },
   {
    "duration": 42,
    "start_time": "2022-06-06T04:40:51.400Z"
   },
   {
    "duration": 8,
    "start_time": "2022-06-06T04:47:51.961Z"
   },
   {
    "duration": 5,
    "start_time": "2022-06-06T04:47:56.369Z"
   },
   {
    "duration": 5,
    "start_time": "2022-06-06T04:55:12.184Z"
   },
   {
    "duration": 117,
    "start_time": "2022-06-06T04:57:15.304Z"
   },
   {
    "duration": 5,
    "start_time": "2022-06-06T04:57:20.115Z"
   },
   {
    "duration": 3,
    "start_time": "2022-06-06T04:57:21.553Z"
   },
   {
    "duration": 3780,
    "start_time": "2022-06-06T04:59:31.486Z"
   },
   {
    "duration": 0,
    "start_time": "2022-06-06T04:59:35.267Z"
   },
   {
    "duration": 6,
    "start_time": "2022-06-06T04:59:50.926Z"
   },
   {
    "duration": 3,
    "start_time": "2022-06-06T04:59:51.785Z"
   },
   {
    "duration": 3754,
    "start_time": "2022-06-06T04:59:53.516Z"
   },
   {
    "duration": 1341,
    "start_time": "2022-06-06T05:15:20.865Z"
   },
   {
    "duration": 58,
    "start_time": "2022-06-06T05:15:22.208Z"
   },
   {
    "duration": 10,
    "start_time": "2022-06-06T05:15:22.267Z"
   },
   {
    "duration": 297,
    "start_time": "2022-06-06T05:15:22.279Z"
   },
   {
    "duration": 325,
    "start_time": "2022-06-06T05:15:22.578Z"
   },
   {
    "duration": 665,
    "start_time": "2022-06-06T05:15:22.905Z"
   },
   {
    "duration": 404,
    "start_time": "2022-06-06T05:15:23.571Z"
   },
   {
    "duration": 3,
    "start_time": "2022-06-06T05:15:23.977Z"
   },
   {
    "duration": 43,
    "start_time": "2022-06-06T05:15:23.982Z"
   },
   {
    "duration": 8,
    "start_time": "2022-06-06T05:15:24.028Z"
   },
   {
    "duration": 22,
    "start_time": "2022-06-06T05:15:24.037Z"
   },
   {
    "duration": 23,
    "start_time": "2022-06-06T05:15:24.061Z"
   },
   {
    "duration": 4157,
    "start_time": "2022-06-06T05:15:28.071Z"
   },
   {
    "duration": 3834,
    "start_time": "2022-06-06T05:17:24.307Z"
   },
   {
    "duration": 12,
    "start_time": "2022-06-06T05:18:43.228Z"
   },
   {
    "duration": 4,
    "start_time": "2022-06-06T05:19:56.605Z"
   },
   {
    "duration": 4241,
    "start_time": "2022-06-06T05:19:59.840Z"
   },
   {
    "duration": 3,
    "start_time": "2022-06-06T05:25:15.634Z"
   },
   {
    "duration": 3707,
    "start_time": "2022-06-06T05:25:20.067Z"
   },
   {
    "duration": 222,
    "start_time": "2022-06-06T05:26:12.317Z"
   },
   {
    "duration": 8,
    "start_time": "2022-06-06T05:26:39.881Z"
   },
   {
    "duration": 7,
    "start_time": "2022-06-06T05:26:53.474Z"
   },
   {
    "duration": 12,
    "start_time": "2022-06-06T05:27:21.439Z"
   },
   {
    "duration": 7,
    "start_time": "2022-06-06T05:27:22.166Z"
   },
   {
    "duration": 28,
    "start_time": "2022-06-06T05:27:28.623Z"
   },
   {
    "duration": 28,
    "start_time": "2022-06-06T05:27:40.206Z"
   },
   {
    "duration": 34,
    "start_time": "2022-06-06T05:27:47.965Z"
   },
   {
    "duration": 11,
    "start_time": "2022-06-06T05:27:59.719Z"
   },
   {
    "duration": 33,
    "start_time": "2022-06-06T05:28:01.761Z"
   },
   {
    "duration": 6,
    "start_time": "2022-06-06T05:28:07.272Z"
   },
   {
    "duration": 4,
    "start_time": "2022-06-06T05:28:08.261Z"
   },
   {
    "duration": 68374,
    "start_time": "2022-06-06T05:28:10.123Z"
   },
   {
    "duration": 5,
    "start_time": "2022-06-06T05:29:23.614Z"
   },
   {
    "duration": 4948,
    "start_time": "2022-06-06T05:29:39.295Z"
   },
   {
    "duration": 11,
    "start_time": "2022-06-06T05:29:59.912Z"
   },
   {
    "duration": 13,
    "start_time": "2022-06-06T05:30:12.828Z"
   },
   {
    "duration": 625,
    "start_time": "2022-06-06T05:30:13.834Z"
   },
   {
    "duration": 36600,
    "start_time": "2022-06-06T05:30:42.561Z"
   },
   {
    "duration": 40,
    "start_time": "2022-06-06T05:31:19.163Z"
   },
   {
    "duration": 11,
    "start_time": "2022-06-06T05:31:19.205Z"
   },
   {
    "duration": 42,
    "start_time": "2022-06-06T05:31:19.218Z"
   },
   {
    "duration": 3,
    "start_time": "2022-06-06T05:31:19.671Z"
   },
   {
    "duration": 95330,
    "start_time": "2022-06-06T05:31:27.534Z"
   },
   {
    "duration": 4,
    "start_time": "2022-06-06T05:33:25.995Z"
   },
   {
    "duration": 50,
    "start_time": "2022-06-06T05:34:52.839Z"
   },
   {
    "duration": 11,
    "start_time": "2022-06-06T05:34:54.381Z"
   },
   {
    "duration": 6,
    "start_time": "2022-06-06T05:34:55.697Z"
   },
   {
    "duration": 3,
    "start_time": "2022-06-06T05:34:56.517Z"
   },
   {
    "duration": 96176,
    "start_time": "2022-06-06T05:34:57.784Z"
   },
   {
    "duration": 4,
    "start_time": "2022-06-06T05:36:36.662Z"
   },
   {
    "duration": 11,
    "start_time": "2022-06-06T05:43:17.427Z"
   },
   {
    "duration": 5,
    "start_time": "2022-06-06T05:43:19.006Z"
   },
   {
    "duration": 7364,
    "start_time": "2022-06-06T05:44:02.826Z"
   },
   {
    "duration": 8,
    "start_time": "2022-06-06T05:44:40.328Z"
   },
   {
    "duration": 46747,
    "start_time": "2022-06-06T05:45:45.720Z"
   },
   {
    "duration": 399,
    "start_time": "2022-06-06T05:47:53.367Z"
   },
   {
    "duration": 1741,
    "start_time": "2022-06-06T05:47:56.860Z"
   },
   {
    "duration": 497,
    "start_time": "2022-06-06T05:54:37.463Z"
   },
   {
    "duration": 427,
    "start_time": "2022-06-06T05:54:52.134Z"
   },
   {
    "duration": 485,
    "start_time": "2022-06-06T05:55:34.677Z"
   },
   {
    "duration": 461,
    "start_time": "2022-06-06T05:55:40.611Z"
   },
   {
    "duration": 479,
    "start_time": "2022-06-06T05:55:54.087Z"
   },
   {
    "duration": 452,
    "start_time": "2022-06-06T05:57:30.315Z"
   },
   {
    "duration": 511,
    "start_time": "2022-06-06T05:58:13.954Z"
   },
   {
    "duration": 649,
    "start_time": "2022-06-06T05:58:19.987Z"
   },
   {
    "duration": 14,
    "start_time": "2022-06-06T06:01:28.766Z"
   },
   {
    "duration": 12,
    "start_time": "2022-06-06T06:01:33.323Z"
   },
   {
    "duration": 5,
    "start_time": "2022-06-06T06:01:38.498Z"
   },
   {
    "duration": 79,
    "start_time": "2022-06-06T06:01:38.505Z"
   },
   {
    "duration": 12,
    "start_time": "2022-06-06T06:01:38.585Z"
   },
   {
    "duration": 281,
    "start_time": "2022-06-06T06:01:38.600Z"
   },
   {
    "duration": 306,
    "start_time": "2022-06-06T06:01:38.882Z"
   },
   {
    "duration": 631,
    "start_time": "2022-06-06T06:01:39.190Z"
   },
   {
    "duration": 453,
    "start_time": "2022-06-06T06:01:39.822Z"
   },
   {
    "duration": 3,
    "start_time": "2022-06-06T06:01:40.276Z"
   },
   {
    "duration": 45,
    "start_time": "2022-06-06T06:01:40.281Z"
   },
   {
    "duration": 9,
    "start_time": "2022-06-06T06:01:40.329Z"
   },
   {
    "duration": 21,
    "start_time": "2022-06-06T06:01:40.340Z"
   },
   {
    "duration": 13,
    "start_time": "2022-06-06T06:01:40.363Z"
   },
   {
    "duration": 96585,
    "start_time": "2022-06-06T06:01:40.378Z"
   },
   {
    "duration": 4,
    "start_time": "2022-06-06T06:03:16.964Z"
   },
   {
    "duration": 7413,
    "start_time": "2022-06-06T06:03:16.969Z"
   },
   {
    "duration": 7,
    "start_time": "2022-06-06T06:03:24.384Z"
   },
   {
    "duration": 35768,
    "start_time": "2022-06-06T06:03:24.392Z"
   },
   {
    "duration": 1101,
    "start_time": "2022-06-06T06:04:00.161Z"
   },
   {
    "duration": 497,
    "start_time": "2022-06-06T06:04:01.264Z"
   },
   {
    "duration": 7674,
    "start_time": "2022-06-06T06:04:01.764Z"
   },
   {
    "duration": 834,
    "start_time": "2022-06-06T06:04:09.440Z"
   },
   {
    "duration": 0,
    "start_time": "2022-06-06T06:04:10.280Z"
   },
   {
    "duration": 155069,
    "start_time": "2022-06-06T06:21:32.891Z"
   },
   {
    "duration": 320,
    "start_time": "2022-06-06T06:28:38.281Z"
   },
   {
    "duration": 281,
    "start_time": "2022-06-06T06:30:00.356Z"
   },
   {
    "duration": 301,
    "start_time": "2022-06-06T06:30:26.113Z"
   },
   {
    "duration": 361,
    "start_time": "2022-06-06T06:30:33.436Z"
   },
   {
    "duration": 461,
    "start_time": "2022-06-06T06:30:48.283Z"
   },
   {
    "duration": 418,
    "start_time": "2022-06-06T06:33:18.625Z"
   },
   {
    "duration": 400,
    "start_time": "2022-06-06T06:34:10.209Z"
   },
   {
    "duration": 263,
    "start_time": "2022-06-06T06:34:19.734Z"
   },
   {
    "duration": 35,
    "start_time": "2022-06-06T06:34:41.419Z"
   },
   {
    "duration": 459,
    "start_time": "2022-06-06T06:34:45.252Z"
   },
   {
    "duration": 779,
    "start_time": "2022-06-06T06:54:01.880Z"
   },
   {
    "duration": 563,
    "start_time": "2022-06-06T06:54:40.358Z"
   },
   {
    "duration": 425,
    "start_time": "2022-06-06T06:54:47.264Z"
   },
   {
    "duration": 702,
    "start_time": "2022-06-06T06:58:34.610Z"
   },
   {
    "duration": 864,
    "start_time": "2022-06-06T06:59:00.245Z"
   },
   {
    "duration": 699,
    "start_time": "2022-06-06T06:59:17.276Z"
   },
   {
    "duration": 1297,
    "start_time": "2022-06-06T07:16:47.872Z"
   },
   {
    "duration": 55,
    "start_time": "2022-06-06T07:16:49.171Z"
   },
   {
    "duration": 9,
    "start_time": "2022-06-06T07:16:49.228Z"
   },
   {
    "duration": 293,
    "start_time": "2022-06-06T07:16:49.239Z"
   },
   {
    "duration": 300,
    "start_time": "2022-06-06T07:16:49.533Z"
   },
   {
    "duration": 638,
    "start_time": "2022-06-06T07:16:49.835Z"
   },
   {
    "duration": 395,
    "start_time": "2022-06-06T07:16:50.475Z"
   },
   {
    "duration": 3,
    "start_time": "2022-06-06T07:16:50.871Z"
   },
   {
    "duration": 43,
    "start_time": "2022-06-06T07:16:50.876Z"
   },
   {
    "duration": 10,
    "start_time": "2022-06-06T07:16:50.923Z"
   },
   {
    "duration": 5,
    "start_time": "2022-06-06T07:16:50.959Z"
   },
   {
    "duration": 8,
    "start_time": "2022-06-06T07:16:50.966Z"
   },
   {
    "duration": 101089,
    "start_time": "2022-06-06T07:16:50.975Z"
   },
   {
    "duration": 5,
    "start_time": "2022-06-06T07:18:32.066Z"
   },
   {
    "duration": 8214,
    "start_time": "2022-06-06T07:18:32.075Z"
   },
   {
    "duration": 8,
    "start_time": "2022-06-06T07:18:40.291Z"
   },
   {
    "duration": 161164,
    "start_time": "2022-06-06T07:18:40.300Z"
   },
   {
    "duration": 999,
    "start_time": "2022-06-06T07:21:21.467Z"
   },
   {
    "duration": 320,
    "start_time": "2022-06-06T07:21:22.468Z"
   },
   {
    "duration": 8095,
    "start_time": "2022-06-06T07:21:22.862Z"
   },
   {
    "duration": 2511,
    "start_time": "2022-06-06T07:21:30.959Z"
   },
   {
    "duration": 88,
    "start_time": "2022-06-06T07:21:33.472Z"
   },
   {
    "duration": 859,
    "start_time": "2022-06-06T07:21:33.562Z"
   },
   {
    "duration": 16,
    "start_time": "2022-06-06T07:23:18.428Z"
   },
   {
    "duration": 686,
    "start_time": "2022-06-06T07:23:30.860Z"
   },
   {
    "duration": 35,
    "start_time": "2022-06-06T07:23:52.628Z"
   },
   {
    "duration": 747,
    "start_time": "2022-06-06T07:24:01.748Z"
   },
   {
    "duration": 497,
    "start_time": "2022-06-06T07:24:21.740Z"
   },
   {
    "duration": 975,
    "start_time": "2022-06-06T07:24:54.789Z"
   },
   {
    "duration": 486,
    "start_time": "2022-06-06T07:25:10.380Z"
   },
   {
    "duration": 395,
    "start_time": "2022-06-06T07:25:37.209Z"
   },
   {
    "duration": 840,
    "start_time": "2022-06-06T07:25:52.861Z"
   },
   {
    "duration": 475,
    "start_time": "2022-06-06T07:26:08.089Z"
   },
   {
    "duration": 96,
    "start_time": "2022-06-06T07:29:37.611Z"
   },
   {
    "duration": 830,
    "start_time": "2022-06-06T07:29:43.423Z"
   },
   {
    "duration": 688,
    "start_time": "2022-06-06T07:30:04.671Z"
   },
   {
    "duration": 528,
    "start_time": "2022-06-06T07:30:59.816Z"
   },
   {
    "duration": 683,
    "start_time": "2022-06-06T07:31:10.872Z"
   },
   {
    "duration": 580,
    "start_time": "2022-06-06T07:31:21.664Z"
   },
   {
    "duration": 1914,
    "start_time": "2022-06-07T06:51:55.357Z"
   },
   {
    "duration": 166,
    "start_time": "2022-06-07T06:51:57.274Z"
   },
   {
    "duration": 13,
    "start_time": "2022-06-07T06:51:57.442Z"
   },
   {
    "duration": 367,
    "start_time": "2022-06-07T06:51:57.457Z"
   },
   {
    "duration": 353,
    "start_time": "2022-06-07T06:51:57.827Z"
   },
   {
    "duration": 871,
    "start_time": "2022-06-07T06:52:00.319Z"
   },
   {
    "duration": 464,
    "start_time": "2022-06-07T06:52:07.864Z"
   },
   {
    "duration": 4,
    "start_time": "2022-06-07T06:52:23.256Z"
   },
   {
    "duration": 70,
    "start_time": "2022-06-07T06:52:24.052Z"
   },
   {
    "duration": 1651,
    "start_time": "2022-07-28T17:04:04.874Z"
   },
   {
    "duration": 124,
    "start_time": "2022-07-28T17:04:07.410Z"
   },
   {
    "duration": 297,
    "start_time": "2022-07-28T17:04:12.698Z"
   },
   {
    "duration": 116,
    "start_time": "2022-07-28T17:04:41.658Z"
   },
   {
    "duration": 66,
    "start_time": "2022-07-28T17:04:49.123Z"
   },
   {
    "duration": 60,
    "start_time": "2022-07-28T17:04:49.191Z"
   },
   {
    "duration": 10,
    "start_time": "2022-07-28T17:04:49.253Z"
   },
   {
    "duration": 252,
    "start_time": "2022-07-28T17:04:49.264Z"
   },
   {
    "duration": 314,
    "start_time": "2022-07-28T17:04:49.517Z"
   },
   {
    "duration": 757,
    "start_time": "2022-07-28T17:04:49.833Z"
   },
   {
    "duration": 306,
    "start_time": "2022-07-28T17:04:50.592Z"
   },
   {
    "duration": 4,
    "start_time": "2022-07-28T17:04:50.899Z"
   },
   {
    "duration": 130,
    "start_time": "2022-07-28T17:04:50.904Z"
   },
   {
    "duration": 9,
    "start_time": "2022-07-28T17:04:59.971Z"
   },
   {
    "duration": 5,
    "start_time": "2022-07-28T17:05:03.135Z"
   },
   {
    "duration": 3,
    "start_time": "2022-07-28T17:05:19.274Z"
   },
   {
    "duration": 95780,
    "start_time": "2022-07-28T17:05:22.058Z"
   },
   {
    "duration": 7622,
    "start_time": "2022-07-28T17:06:57.840Z"
   },
   {
    "duration": 1591,
    "start_time": "2022-08-31T07:44:17.090Z"
   },
   {
    "duration": 122,
    "start_time": "2022-08-31T07:44:18.684Z"
   },
   {
    "duration": 9,
    "start_time": "2022-08-31T07:44:18.808Z"
   },
   {
    "duration": 308,
    "start_time": "2022-08-31T07:44:18.818Z"
   },
   {
    "duration": 346,
    "start_time": "2022-08-31T07:44:19.128Z"
   },
   {
    "duration": 739,
    "start_time": "2022-08-31T07:44:19.476Z"
   },
   {
    "duration": 292,
    "start_time": "2022-08-31T07:44:20.216Z"
   },
   {
    "duration": 3,
    "start_time": "2022-08-31T07:44:20.509Z"
   },
   {
    "duration": 56,
    "start_time": "2022-08-31T07:44:20.513Z"
   },
   {
    "duration": 8,
    "start_time": "2022-08-31T07:44:20.571Z"
   },
   {
    "duration": 26,
    "start_time": "2022-08-31T07:44:20.580Z"
   },
   {
    "duration": 7,
    "start_time": "2022-08-31T07:44:20.608Z"
   },
   {
    "duration": 101284,
    "start_time": "2022-08-31T07:44:20.616Z"
   },
   {
    "duration": 4,
    "start_time": "2022-08-31T07:46:01.903Z"
   },
   {
    "duration": 7127,
    "start_time": "2022-08-31T07:46:01.909Z"
   },
   {
    "duration": 7,
    "start_time": "2022-08-31T07:46:09.038Z"
   },
   {
    "duration": 69352,
    "start_time": "2022-08-31T07:46:09.046Z"
   },
   {
    "duration": 1302,
    "start_time": "2022-08-31T07:47:18.400Z"
   },
   {
    "duration": 417,
    "start_time": "2022-08-31T07:47:19.705Z"
   },
   {
    "duration": 7231,
    "start_time": "2022-08-31T07:47:20.123Z"
   },
   {
    "duration": 651,
    "start_time": "2022-08-31T07:47:27.356Z"
   },
   {
    "duration": 271,
    "start_time": "2022-08-31T07:47:28.008Z"
   },
   {
    "duration": 548,
    "start_time": "2022-08-31T07:50:39.820Z"
   }
  ],
  "kernelspec": {
   "display_name": "Python 3.9.7 ('base')",
   "language": "python",
   "name": "python3"
  },
  "language_info": {
   "codemirror_mode": {
    "name": "ipython",
    "version": 3
   },
   "file_extension": ".py",
   "mimetype": "text/x-python",
   "name": "python",
   "nbconvert_exporter": "python",
   "pygments_lexer": "ipython3",
   "version": "3.9.7"
  },
  "toc": {
   "base_numbering": 1,
   "nav_menu": {},
   "number_sections": true,
   "sideBar": true,
   "skip_h1_title": true,
   "title_cell": "Содержание",
   "title_sidebar": "Contents",
   "toc_cell": true,
   "toc_position": {
    "height": "calc(100% - 180px)",
    "left": "10px",
    "top": "150px",
    "width": "165px"
   },
   "toc_section_display": true,
   "toc_window_display": false
  },
  "vscode": {
   "interpreter": {
    "hash": "47bb262127e83f4e352f9a4661074feb316fd893d8b83e773ca2637ac59da0c2"
   }
  }
 },
 "nbformat": 4,
 "nbformat_minor": 2
}
