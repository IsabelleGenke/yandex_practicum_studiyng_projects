{
 "cells": [
  {
   "cell_type": "markdown",
   "metadata": {},
   "source": [
    "# Проект для «Викишоп» - классификация текстов по эмоциям. "
   ]
  },
  {
   "cell_type": "markdown",
   "metadata": {},
   "source": [
    "Интернет-магазин «Викишоп» запускает новый сервис. Теперь пользователи могут редактировать и дополнять описания товаров, как в вики-сообществах. То есть клиенты предлагают свои правки и комментируют изменения других. Магазину нужен инструмент, который будет искать токсичные комментарии и отправлять их на модерацию.  \n",
    "\n",
    "**План работы**\n",
    "\n",
    "1. Загрузить и подготовить данные:\n",
    "- почистить комментарии от стоп-слов, знаков пунктуации, провести лемматизацию.\n",
    "2. Обучить разные модели:\n",
    "- проверим работу LogisticRegression и LightGBM. \n",
    "\n",
    "**Цель проекта:**\n",
    "- построить модель машинного обцчения, которая будет определять токсичные комментраии или нет.\n"
   ]
  },
  {
   "cell_type": "markdown",
   "metadata": {},
   "source": [
    "## Подготовка"
   ]
  },
  {
   "cell_type": "code",
   "execution_count": 1,
   "metadata": {},
   "outputs": [
    {
     "name": "stderr",
     "output_type": "stream",
     "text": [
      "[nltk_data] Downloading package stopwords to /home/jovyan/nltk_data...\n",
      "[nltk_data]   Package stopwords is already up-to-date!\n"
     ]
    }
   ],
   "source": [
    "# импортируем библиотеки\n",
    "\n",
    "import pandas as pd\n",
    "import matplotlib.pyplot as plt\n",
    "from pymystem3 import Mystem\n",
    "m = Mystem()\n",
    "import re\n",
    "\n",
    "import nltk\n",
    "from nltk.corpus import stopwords\n",
    "nltk.download('stopwords')\n",
    "STOPWORDS = nltk.corpus.stopwords.words('english')\n",
    "\n",
    "from nltk.stem import WordNetLemmatizer \n",
    "WNL = WordNetLemmatizer()\n",
    "\n",
    "from sklearn.feature_extraction.text import TfidfVectorizer \n",
    "\n",
    "from sklearn.linear_model import LogisticRegression\n",
    "import lightgbm as lgb\n",
    "from lightgbm import LGBMClassifier\n",
    "import xgboost as xgb\n",
    "\n",
    "from sklearn.model_selection import RepeatedStratifiedKFold\n",
    "from sklearn.model_selection import cross_val_score\n",
    "from sklearn.model_selection import train_test_split\n",
    "from sklearn.metrics import f1_score\n",
    "\n",
    "from numpy.random import RandomState\n",
    "STATE = RandomState(12345)"
   ]
  },
  {
   "cell_type": "code",
   "execution_count": 2,
   "metadata": {},
   "outputs": [
    {
     "data": {
      "text/html": [
       "<div>\n",
       "<style scoped>\n",
       "    .dataframe tbody tr th:only-of-type {\n",
       "        vertical-align: middle;\n",
       "    }\n",
       "\n",
       "    .dataframe tbody tr th {\n",
       "        vertical-align: top;\n",
       "    }\n",
       "\n",
       "    .dataframe thead th {\n",
       "        text-align: right;\n",
       "    }\n",
       "</style>\n",
       "<table border=\"1\" class=\"dataframe\">\n",
       "  <thead>\n",
       "    <tr style=\"text-align: right;\">\n",
       "      <th></th>\n",
       "      <th>text</th>\n",
       "      <th>toxic</th>\n",
       "    </tr>\n",
       "  </thead>\n",
       "  <tbody>\n",
       "    <tr>\n",
       "      <th>0</th>\n",
       "      <td>Explanation\\nWhy the edits made under my usern...</td>\n",
       "      <td>0</td>\n",
       "    </tr>\n",
       "    <tr>\n",
       "      <th>1</th>\n",
       "      <td>D'aww! He matches this background colour I'm s...</td>\n",
       "      <td>0</td>\n",
       "    </tr>\n",
       "    <tr>\n",
       "      <th>2</th>\n",
       "      <td>Hey man, I'm really not trying to edit war. It...</td>\n",
       "      <td>0</td>\n",
       "    </tr>\n",
       "    <tr>\n",
       "      <th>3</th>\n",
       "      <td>\"\\nMore\\nI can't make any real suggestions on ...</td>\n",
       "      <td>0</td>\n",
       "    </tr>\n",
       "    <tr>\n",
       "      <th>4</th>\n",
       "      <td>You, sir, are my hero. Any chance you remember...</td>\n",
       "      <td>0</td>\n",
       "    </tr>\n",
       "    <tr>\n",
       "      <th>...</th>\n",
       "      <td>...</td>\n",
       "      <td>...</td>\n",
       "    </tr>\n",
       "    <tr>\n",
       "      <th>159566</th>\n",
       "      <td>\":::::And for the second time of asking, when ...</td>\n",
       "      <td>0</td>\n",
       "    </tr>\n",
       "    <tr>\n",
       "      <th>159567</th>\n",
       "      <td>You should be ashamed of yourself \\n\\nThat is ...</td>\n",
       "      <td>0</td>\n",
       "    </tr>\n",
       "    <tr>\n",
       "      <th>159568</th>\n",
       "      <td>Spitzer \\n\\nUmm, theres no actual article for ...</td>\n",
       "      <td>0</td>\n",
       "    </tr>\n",
       "    <tr>\n",
       "      <th>159569</th>\n",
       "      <td>And it looks like it was actually you who put ...</td>\n",
       "      <td>0</td>\n",
       "    </tr>\n",
       "    <tr>\n",
       "      <th>159570</th>\n",
       "      <td>\"\\nAnd ... I really don't think you understand...</td>\n",
       "      <td>0</td>\n",
       "    </tr>\n",
       "  </tbody>\n",
       "</table>\n",
       "<p>159571 rows × 2 columns</p>\n",
       "</div>"
      ],
      "text/plain": [
       "                                                     text  toxic\n",
       "0       Explanation\\nWhy the edits made under my usern...      0\n",
       "1       D'aww! He matches this background colour I'm s...      0\n",
       "2       Hey man, I'm really not trying to edit war. It...      0\n",
       "3       \"\\nMore\\nI can't make any real suggestions on ...      0\n",
       "4       You, sir, are my hero. Any chance you remember...      0\n",
       "...                                                   ...    ...\n",
       "159566  \":::::And for the second time of asking, when ...      0\n",
       "159567  You should be ashamed of yourself \\n\\nThat is ...      0\n",
       "159568  Spitzer \\n\\nUmm, theres no actual article for ...      0\n",
       "159569  And it looks like it was actually you who put ...      0\n",
       "159570  \"\\nAnd ... I really don't think you understand...      0\n",
       "\n",
       "[159571 rows x 2 columns]"
      ]
     },
     "execution_count": 2,
     "metadata": {},
     "output_type": "execute_result"
    }
   ],
   "source": [
    "# загрузим данные\n",
    "\n",
    "try:\n",
    "    data = pd.read_csv('/datasets/toxic_comments.csv')\n",
    "except:\n",
    "    data_0 = pd.read_csv('toxic_comments.csv')\n",
    "\n",
    "data"
   ]
  },
  {
   "cell_type": "code",
   "execution_count": 3,
   "metadata": {},
   "outputs": [
    {
     "name": "stdout",
     "output_type": "stream",
     "text": [
      "<class 'pandas.core.frame.DataFrame'>\n",
      "RangeIndex: 159571 entries, 0 to 159570\n",
      "Data columns (total 2 columns):\n",
      " #   Column  Non-Null Count   Dtype \n",
      "---  ------  --------------   ----- \n",
      " 0   text    159571 non-null  object\n",
      " 1   toxic   159571 non-null  int64 \n",
      "dtypes: int64(1), object(1)\n",
      "memory usage: 2.4+ MB\n"
     ]
    }
   ],
   "source": [
    "# посмотрим на общие сведения\n",
    "\n",
    "data.info()"
   ]
  },
  {
   "cell_type": "code",
   "execution_count": 4,
   "metadata": {},
   "outputs": [
    {
     "data": {
      "text/plain": [
       "0"
      ]
     },
     "execution_count": 4,
     "metadata": {},
     "output_type": "execute_result"
    }
   ],
   "source": [
    "# проверим данные на наличие дубликатов\n",
    "\n",
    "data.duplicated().sum()\n"
   ]
  },
  {
   "cell_type": "markdown",
   "metadata": {},
   "source": [
    "- **Данные состоят из двух столбцов и почти 160 тыс. строк. Столбец text содержит комментарии, toxic - эмоциональную оценку.**\n",
    "- **Дубликаты и пропуски отсутствуют.**"
   ]
  },
  {
   "cell_type": "code",
   "execution_count": 5,
   "metadata": {},
   "outputs": [
    {
     "name": "stdout",
     "output_type": "stream",
     "text": [
      "0    143346\n",
      "1     16225\n",
      "Name: toxic, dtype: int64\n",
      "\n"
     ]
    },
    {
     "data": {
      "image/png": "[encoded data removed]",
      "text/plain": [
       "<Figure size 360x360 with 1 Axes>"
      ]
     },
     "metadata": {
      "needs_background": "light"
     },
     "output_type": "display_data"
    }
   ],
   "source": [
    "# посмотрим на соотношение классов на тренировочной выборке\n",
    "\n",
    "xx = data['toxic'].value_counts()\n",
    "print(xx)\n",
    "print()\n",
    "ax = data['toxic'].value_counts().plot(kind='bar', figsize=(5,5), fontsize=10)\n",
    "ax.set_title('Toxic comment (0 = False, 1 = True)', size=15, pad=30)\n",
    "ax.set_ylabel('Number of comments', fontsize=12)\n",
    "\n",
    "plt.show()"
   ]
  },
  {
   "cell_type": "markdown",
   "metadata": {},
   "source": [
    "- **Судя по графику виден явный дисбаланс классов.**"
   ]
  },
  {
   "cell_type": "code",
   "execution_count": 6,
   "metadata": {},
   "outputs": [],
   "source": [
    "# напишем функции для того, чтобы привести столбец text в нужный вид\n",
    "\n",
    "# почистим текст от лишних символов\n",
    "def clear_text(text):\n",
    "    text = re.sub(r'[^a-zA-Z0-9]+', ' ', text)\n",
    "    text = text.split()\n",
    "    text = \" \".join(text)\n",
    "    return text\n",
    "\n",
    "# поделим текст на токены\n",
    "def tokenized_text(text):\n",
    "    text = re.split('\\W+', text)\n",
    "    return text\n",
    "\n",
    "# удалим из текста стоп-слова\n",
    "def delete_stopwords(text):\n",
    "    text = [w for w in text if w not in STOPWORDS]\n",
    "    return text\n",
    "\n",
    "# лемматтизируем текст\n",
    "def lemmatizer(text):\n",
    "    text = [WNL.lemmatize(w) for w in text]\n",
    "    return text\n"
   ]
  },
  {
   "cell_type": "code",
   "execution_count": 12,
   "metadata": {},
   "outputs": [
    {
     "data": {
      "text/html": [
       "<div>\n",
       "<style scoped>\n",
       "    .dataframe tbody tr th:only-of-type {\n",
       "        vertical-align: middle;\n",
       "    }\n",
       "\n",
       "    .dataframe tbody tr th {\n",
       "        vertical-align: top;\n",
       "    }\n",
       "\n",
       "    .dataframe thead th {\n",
       "        text-align: right;\n",
       "    }\n",
       "</style>\n",
       "<table border=\"1\" class=\"dataframe\">\n",
       "  <thead>\n",
       "    <tr style=\"text-align: right;\">\n",
       "      <th></th>\n",
       "      <th>text</th>\n",
       "      <th>toxic</th>\n",
       "      <th>lemm_text</th>\n",
       "    </tr>\n",
       "  </thead>\n",
       "  <tbody>\n",
       "    <tr>\n",
       "      <th>0</th>\n",
       "      <td>Explanation\\nWhy the edits made under my usern...</td>\n",
       "      <td>0</td>\n",
       "      <td>[explanation, edits, made, username, hardcore,...</td>\n",
       "    </tr>\n",
       "    <tr>\n",
       "      <th>1</th>\n",
       "      <td>D'aww! He matches this background colour I'm s...</td>\n",
       "      <td>0</td>\n",
       "      <td>[aww, match, background, colour, seemingly, st...</td>\n",
       "    </tr>\n",
       "    <tr>\n",
       "      <th>2</th>\n",
       "      <td>Hey man, I'm really not trying to edit war. It...</td>\n",
       "      <td>0</td>\n",
       "      <td>[hey, man, really, trying, edit, war, guy, con...</td>\n",
       "    </tr>\n",
       "    <tr>\n",
       "      <th>3</th>\n",
       "      <td>\"\\nMore\\nI can't make any real suggestions on ...</td>\n",
       "      <td>0</td>\n",
       "      <td>[make, real, suggestion, improvement, wondered...</td>\n",
       "    </tr>\n",
       "    <tr>\n",
       "      <th>4</th>\n",
       "      <td>You, sir, are my hero. Any chance you remember...</td>\n",
       "      <td>0</td>\n",
       "      <td>[sir, hero, chance, remember, page]</td>\n",
       "    </tr>\n",
       "  </tbody>\n",
       "</table>\n",
       "</div>"
      ],
      "text/plain": [
       "                                                text  toxic  \\\n",
       "0  Explanation\\nWhy the edits made under my usern...      0   \n",
       "1  D'aww! He matches this background colour I'm s...      0   \n",
       "2  Hey man, I'm really not trying to edit war. It...      0   \n",
       "3  \"\\nMore\\nI can't make any real suggestions on ...      0   \n",
       "4  You, sir, are my hero. Any chance you remember...      0   \n",
       "\n",
       "                                           lemm_text  \n",
       "0  [explanation, edits, made, username, hardcore,...  \n",
       "1  [aww, match, background, colour, seemingly, st...  \n",
       "2  [hey, man, really, trying, edit, war, guy, con...  \n",
       "3  [make, real, suggestion, improvement, wondered...  \n",
       "4                [sir, hero, chance, remember, page]  "
      ]
     },
     "execution_count": 12,
     "metadata": {},
     "output_type": "execute_result"
    }
   ],
   "source": [
    "# применим функции к нашему столбцу\n",
    "\n",
    "data['lemm_text'] = data['text'].apply(lambda x: clear_text(x).lower())\n",
    "data['lemm_text'] = data['lemm_text'].apply(lambda x: tokenized_text(x))\n",
    "data['lemm_text'] = data['lemm_text'].apply(lambda x: delete_stopwords(x))\n",
    "data['lemm_text'] = data['lemm_text'].apply(lambda x: lemmatizer(x))\n",
    "\n",
    "data.head()"
   ]
  },
  {
   "cell_type": "markdown",
   "metadata": {},
   "source": [
    "<div class=\"alert alert-block alert-success\">\n",
    "<b>Успех:</b> Очистка и лемматизация были сделаны верно, молодец!\n",
    "</div>"
   ]
  },
  {
   "cell_type": "code",
   "execution_count": 13,
   "metadata": {},
   "outputs": [],
   "source": [
    "# поделим данные на признаки\n",
    "\n",
    "features = data['lemm_text']\n",
    "target = data['toxic']\n",
    "\n",
    "feature_train, feature_test, target_train, target_test = train_test_split(features, target, \\\n",
    "                                                                          test_size=.20, random_state=12345)\n"
   ]
  },
  {
   "cell_type": "code",
   "execution_count": 14,
   "metadata": {},
   "outputs": [],
   "source": [
    "# векторизируем признаки\n",
    "\n",
    "count_tf_idf = TfidfVectorizer()\n",
    "\n",
    "corpus_train = count_tf_idf.fit_transform(feature_train.astype('U'))\n",
    "corpus_test = count_tf_idf.transform(feature_test.astype('U'))"
   ]
  },
  {
   "cell_type": "markdown",
   "metadata": {},
   "source": [
    "## Обучение"
   ]
  },
  {
   "cell_type": "markdown",
   "metadata": {},
   "source": [
    "- **Рассмотрим несколько моделей с учетом дисбалланса.**"
   ]
  },
  {
   "cell_type": "code",
   "execution_count": 15,
   "metadata": {},
   "outputs": [
    {
     "name": "stdout",
     "output_type": "stream",
     "text": [
      "F1-мера: 0.7571815718157181\n"
     ]
    }
   ],
   "source": [
    "# проверим LogisticRegression\n",
    "\n",
    "model_log = LogisticRegression(random_state=STATE, max_iter=600, class_weight='balanced')\n",
    "model_log.fit(corpus_train, target_train)\n",
    "predictions_log = model_log.predict(corpus_test)\n",
    "\n",
    "f1_log = f1_score(predictions_log, target_test)\n",
    "\n",
    "print(f'F1-мера: {f1_log}')"
   ]
  },
  {
   "cell_type": "code",
   "execution_count": 16,
   "metadata": {
    "scrolled": true
   },
   "outputs": [
    {
     "name": "stdout",
     "output_type": "stream",
     "text": [
      "F1-мера: 0.7500897666068221\n"
     ]
    }
   ],
   "source": [
    "# проверим lightgbm\n",
    "\n",
    "lgb_model = LGBMClassifier()\n",
    "lgb_model.fit(corpus_train, target_train)\n",
    "predictions_lgb = lgb_model.predict(corpus_test)\n",
    "\n",
    "lgb_f1_score = f1_score(target_test, predictions_lgb)\n",
    "\n",
    "print(f'F1-мера: {lgb_f1_score}')"
   ]
  },
  {
   "cell_type": "markdown",
   "metadata": {},
   "source": [
    "## Выводы"
   ]
  },
  {
   "cell_type": "markdown",
   "metadata": {},
   "source": [
    "Мы рассмотрели 2 модели и рассчитали F1-меру\n",
    "\n",
    "Получили следующие результаты:\n",
    "- LogisticRegression показала f1 = 0.757\n",
    "- lightgbm - 0.750\n",
    "\n",
    "Для решения нашей задачи (найти инструмент, который будет искать токсичные комментарии и отправлять их на модерацию) подходят обе модели, но лучше использовать LogisticRegression, так как ее показатель f1-меры немного выше чем у LogisticRegression"
   ]
  }
 ],
 "metadata": {
  "ExecuteTimeLog": [
   {
    "duration": 4331,
    "start_time": "2022-06-09T09:11:31.109Z"
   },
   {
    "duration": 3333,
    "start_time": "2022-06-10T02:15:52.384Z"
   },
   {
    "duration": 2296,
    "start_time": "2022-06-10T02:19:14.207Z"
   },
   {
    "duration": 31,
    "start_time": "2022-06-10T02:19:56.066Z"
   },
   {
    "duration": 17,
    "start_time": "2022-06-10T02:20:15.048Z"
   },
   {
    "duration": 30,
    "start_time": "2022-06-10T02:20:33.993Z"
   },
   {
    "duration": 27,
    "start_time": "2022-06-10T02:20:38.882Z"
   },
   {
    "duration": 3093,
    "start_time": "2022-06-10T09:03:52.495Z"
   },
   {
    "duration": 2459,
    "start_time": "2022-06-10T09:03:55.590Z"
   },
   {
    "duration": 28,
    "start_time": "2022-06-10T09:03:58.051Z"
   },
   {
    "duration": 25,
    "start_time": "2022-06-10T09:03:58.081Z"
   },
   {
    "duration": 210,
    "start_time": "2022-06-10T09:04:53.141Z"
   },
   {
    "duration": 30,
    "start_time": "2022-06-10T09:54:46.295Z"
   },
   {
    "duration": 778,
    "start_time": "2022-06-10T09:54:46.327Z"
   },
   {
    "duration": 26,
    "start_time": "2022-06-10T09:54:47.107Z"
   },
   {
    "duration": 27,
    "start_time": "2022-06-10T09:54:47.135Z"
   },
   {
    "duration": 221,
    "start_time": "2022-06-10T09:54:47.165Z"
   },
   {
    "duration": 2535,
    "start_time": "2022-06-10T09:54:49.134Z"
   },
   {
    "duration": 5,
    "start_time": "2022-06-10T09:55:09.645Z"
   },
   {
    "duration": 2998,
    "start_time": "2022-06-10T09:55:57.436Z"
   },
   {
    "duration": 2420,
    "start_time": "2022-06-10T09:56:00.436Z"
   },
   {
    "duration": 31,
    "start_time": "2022-06-10T09:56:02.857Z"
   },
   {
    "duration": 35,
    "start_time": "2022-06-10T09:56:02.889Z"
   },
   {
    "duration": 201,
    "start_time": "2022-06-10T09:56:02.926Z"
   },
   {
    "duration": 2487,
    "start_time": "2022-06-10T09:56:03.129Z"
   },
   {
    "duration": 3455,
    "start_time": "2022-06-10T09:57:51.386Z"
   },
   {
    "duration": 3491,
    "start_time": "2022-06-10T09:58:23.732Z"
   },
   {
    "duration": 2247,
    "start_time": "2022-06-10T09:58:28.409Z"
   },
   {
    "duration": 728,
    "start_time": "2022-06-10T09:59:18.071Z"
   },
   {
    "duration": 30,
    "start_time": "2022-06-10T09:59:19.546Z"
   },
   {
    "duration": 24,
    "start_time": "2022-06-10T09:59:20.459Z"
   },
   {
    "duration": 202,
    "start_time": "2022-06-10T09:59:20.997Z"
   },
   {
    "duration": 1760,
    "start_time": "2022-06-10T09:59:21.604Z"
   },
   {
    "duration": 8962,
    "start_time": "2022-06-10T09:59:47.791Z"
   },
   {
    "duration": 182,
    "start_time": "2022-06-10T10:07:22.305Z"
   },
   {
    "duration": 170,
    "start_time": "2022-06-10T10:07:29.630Z"
   },
   {
    "duration": 173,
    "start_time": "2022-06-10T10:07:40.262Z"
   },
   {
    "duration": 43,
    "start_time": "2022-06-10T10:12:34.549Z"
   },
   {
    "duration": 3483,
    "start_time": "2022-06-10T10:12:41.245Z"
   },
   {
    "duration": 2334,
    "start_time": "2022-06-10T10:12:44.731Z"
   },
   {
    "duration": 29,
    "start_time": "2022-06-10T10:12:47.067Z"
   },
   {
    "duration": 229,
    "start_time": "2022-06-10T10:12:47.098Z"
   },
   {
    "duration": 2129,
    "start_time": "2022-06-10T10:12:47.330Z"
   },
   {
    "duration": 0,
    "start_time": "2022-06-10T10:12:49.461Z"
   },
   {
    "duration": 0,
    "start_time": "2022-06-10T10:12:49.462Z"
   },
   {
    "duration": 3480,
    "start_time": "2022-06-10T10:13:08.203Z"
   },
   {
    "duration": 764,
    "start_time": "2022-06-10T10:13:11.684Z"
   },
   {
    "duration": 28,
    "start_time": "2022-06-10T10:13:12.450Z"
   },
   {
    "duration": 220,
    "start_time": "2022-06-10T10:13:12.480Z"
   },
   {
    "duration": 2109,
    "start_time": "2022-06-10T10:13:12.702Z"
   },
   {
    "duration": 0,
    "start_time": "2022-06-10T10:13:14.813Z"
   },
   {
    "duration": 0,
    "start_time": "2022-06-10T10:13:14.815Z"
   },
   {
    "duration": 3491,
    "start_time": "2022-06-10T10:13:36.939Z"
   },
   {
    "duration": 2287,
    "start_time": "2022-06-10T10:13:40.431Z"
   },
   {
    "duration": 30,
    "start_time": "2022-06-10T10:13:42.720Z"
   },
   {
    "duration": 222,
    "start_time": "2022-06-10T10:13:42.752Z"
   },
   {
    "duration": 2117,
    "start_time": "2022-06-10T10:13:45.429Z"
   },
   {
    "duration": 3557,
    "start_time": "2022-06-10T10:14:20.509Z"
   },
   {
    "duration": 2332,
    "start_time": "2022-06-10T10:14:24.069Z"
   },
   {
    "duration": 34,
    "start_time": "2022-06-10T10:14:26.403Z"
   },
   {
    "duration": 226,
    "start_time": "2022-06-10T10:14:26.439Z"
   },
   {
    "duration": 2123,
    "start_time": "2022-06-10T10:14:26.667Z"
   },
   {
    "duration": 3610,
    "start_time": "2022-06-10T10:19:44.496Z"
   },
   {
    "duration": 2365,
    "start_time": "2022-06-10T10:19:48.107Z"
   },
   {
    "duration": 30,
    "start_time": "2022-06-10T10:19:50.474Z"
   },
   {
    "duration": 210,
    "start_time": "2022-06-10T10:19:50.505Z"
   },
   {
    "duration": 2105,
    "start_time": "2022-06-10T10:19:50.717Z"
   },
   {
    "duration": 3682,
    "start_time": "2022-06-10T10:38:10.508Z"
   },
   {
    "duration": 2337,
    "start_time": "2022-06-10T10:38:14.192Z"
   },
   {
    "duration": 36,
    "start_time": "2022-06-10T10:38:16.531Z"
   },
   {
    "duration": 219,
    "start_time": "2022-06-10T10:38:16.570Z"
   },
   {
    "duration": 11858,
    "start_time": "2022-06-10T15:17:26.838Z"
   },
   {
    "duration": 3443,
    "start_time": "2022-06-10T15:17:38.698Z"
   },
   {
    "duration": 33,
    "start_time": "2022-06-10T15:17:42.143Z"
   },
   {
    "duration": 244,
    "start_time": "2022-06-10T15:17:42.179Z"
   },
   {
    "duration": 339,
    "start_time": "2022-06-10T15:17:42.425Z"
   },
   {
    "duration": 64,
    "start_time": "2022-06-10T15:18:55.356Z"
   },
   {
    "duration": 65,
    "start_time": "2022-06-10T15:19:05.150Z"
   },
   {
    "duration": 30,
    "start_time": "2022-06-10T15:19:14.321Z"
   },
   {
    "duration": 19,
    "start_time": "2022-06-10T15:19:23.232Z"
   },
   {
    "duration": 2906,
    "start_time": "2022-06-10T15:21:06.050Z"
   },
   {
    "duration": 9467,
    "start_time": "2022-06-10T15:21:37.655Z"
   },
   {
    "duration": 3377,
    "start_time": "2022-06-10T15:21:47.125Z"
   },
   {
    "duration": 31,
    "start_time": "2022-06-10T15:21:50.504Z"
   },
   {
    "duration": 231,
    "start_time": "2022-06-10T15:21:50.537Z"
   },
   {
    "duration": 2873,
    "start_time": "2022-06-10T15:21:50.770Z"
   },
   {
    "duration": 51,
    "start_time": "2022-06-10T15:22:16.547Z"
   },
   {
    "duration": 10288,
    "start_time": "2022-06-10T15:22:20.238Z"
   },
   {
    "duration": 3448,
    "start_time": "2022-06-10T15:22:30.529Z"
   },
   {
    "duration": 31,
    "start_time": "2022-06-10T15:22:33.979Z"
   },
   {
    "duration": 232,
    "start_time": "2022-06-10T15:22:34.012Z"
   },
   {
    "duration": 2876,
    "start_time": "2022-06-10T15:22:34.247Z"
   },
   {
    "duration": 62,
    "start_time": "2022-06-10T15:22:37.125Z"
   },
   {
    "duration": 3913,
    "start_time": "2022-06-10T15:22:56.823Z"
   },
   {
    "duration": 806,
    "start_time": "2022-06-10T15:23:00.738Z"
   },
   {
    "duration": 32,
    "start_time": "2022-06-10T15:23:01.546Z"
   },
   {
    "duration": 247,
    "start_time": "2022-06-10T15:23:01.580Z"
   },
   {
    "duration": 3294,
    "start_time": "2022-06-10T15:23:01.830Z"
   },
   {
    "duration": 0,
    "start_time": "2022-06-10T15:23:05.126Z"
   },
   {
    "duration": 0,
    "start_time": "2022-06-10T15:23:05.127Z"
   },
   {
    "duration": 10160,
    "start_time": "2022-06-10T15:23:43.862Z"
   },
   {
    "duration": 3456,
    "start_time": "2022-06-10T15:23:54.025Z"
   },
   {
    "duration": 32,
    "start_time": "2022-06-10T15:23:57.482Z"
   },
   {
    "duration": 229,
    "start_time": "2022-06-10T15:23:57.515Z"
   },
   {
    "duration": 2918,
    "start_time": "2022-06-10T15:23:57.746Z"
   },
   {
    "duration": 5,
    "start_time": "2022-06-10T15:24:39.305Z"
   },
   {
    "duration": 10441,
    "start_time": "2022-06-10T15:25:12.027Z"
   },
   {
    "duration": 3552,
    "start_time": "2022-06-10T15:25:22.471Z"
   },
   {
    "duration": 35,
    "start_time": "2022-06-10T15:25:26.025Z"
   },
   {
    "duration": 281,
    "start_time": "2022-06-10T15:25:26.063Z"
   },
   {
    "duration": 2489,
    "start_time": "2022-06-10T15:25:26.345Z"
   },
   {
    "duration": 9091,
    "start_time": "2022-06-10T15:37:34.331Z"
   },
   {
    "duration": 3423,
    "start_time": "2022-06-10T15:37:43.425Z"
   },
   {
    "duration": 34,
    "start_time": "2022-06-10T15:37:46.849Z"
   },
   {
    "duration": 240,
    "start_time": "2022-06-10T15:37:46.885Z"
   },
   {
    "duration": 2334,
    "start_time": "2022-06-10T15:38:17.890Z"
   },
   {
    "duration": 51,
    "start_time": "2022-06-10T15:38:52.209Z"
   },
   {
    "duration": 10263,
    "start_time": "2022-06-10T15:38:57.876Z"
   },
   {
    "duration": 3418,
    "start_time": "2022-06-10T15:39:08.141Z"
   },
   {
    "duration": 31,
    "start_time": "2022-06-10T15:39:11.561Z"
   },
   {
    "duration": 249,
    "start_time": "2022-06-10T15:39:11.594Z"
   },
   {
    "duration": 98076,
    "start_time": "2022-06-10T15:39:11.845Z"
   },
   {
    "duration": 49,
    "start_time": "2022-06-15T03:56:26.058Z"
   },
   {
    "duration": 1394,
    "start_time": "2022-06-15T03:56:35.886Z"
   },
   {
    "duration": 2235,
    "start_time": "2022-06-15T03:56:37.282Z"
   },
   {
    "duration": 31,
    "start_time": "2022-06-15T03:56:39.518Z"
   },
   {
    "duration": 233,
    "start_time": "2022-06-15T03:56:39.551Z"
   },
   {
    "duration": 607,
    "start_time": "2022-06-15T03:56:39.786Z"
   },
   {
    "duration": 0,
    "start_time": "2022-06-15T03:56:40.395Z"
   },
   {
    "duration": 0,
    "start_time": "2022-06-15T03:56:40.396Z"
   },
   {
    "duration": 0,
    "start_time": "2022-06-15T03:56:40.397Z"
   },
   {
    "duration": 0,
    "start_time": "2022-06-15T03:56:40.398Z"
   },
   {
    "duration": 0,
    "start_time": "2022-06-15T03:56:40.399Z"
   },
   {
    "duration": 0,
    "start_time": "2022-06-15T03:56:40.400Z"
   },
   {
    "duration": 8,
    "start_time": "2022-06-15T03:58:18.128Z"
   },
   {
    "duration": 736,
    "start_time": "2022-06-15T03:58:19.862Z"
   },
   {
    "duration": 31,
    "start_time": "2022-06-15T03:58:20.600Z"
   },
   {
    "duration": 214,
    "start_time": "2022-06-15T03:58:20.684Z"
   },
   {
    "duration": 116,
    "start_time": "2022-06-15T03:58:21.333Z"
   },
   {
    "duration": 5,
    "start_time": "2022-06-15T03:58:21.851Z"
   },
   {
    "duration": 42911,
    "start_time": "2022-06-15T03:58:22.196Z"
   },
   {
    "duration": 32,
    "start_time": "2022-06-15T03:59:05.109Z"
   },
   {
    "duration": 6785,
    "start_time": "2022-06-15T03:59:05.143Z"
   },
   {
    "duration": 28432,
    "start_time": "2022-06-15T03:59:11.930Z"
   },
   {
    "duration": 11,
    "start_time": "2022-06-15T03:59:40.364Z"
   },
   {
    "duration": 2054,
    "start_time": "2022-06-15T07:43:33.203Z"
   },
   {
    "duration": 2991,
    "start_time": "2022-06-15T07:43:35.260Z"
   },
   {
    "duration": 34,
    "start_time": "2022-06-15T07:43:38.253Z"
   },
   {
    "duration": 259,
    "start_time": "2022-06-15T07:43:38.289Z"
   },
   {
    "duration": 222,
    "start_time": "2022-06-15T07:43:38.551Z"
   },
   {
    "duration": 5,
    "start_time": "2022-06-15T07:43:38.775Z"
   },
   {
    "duration": 858,
    "start_time": "2022-06-15T07:43:38.781Z"
   },
   {
    "duration": 0,
    "start_time": "2022-06-15T07:43:39.641Z"
   },
   {
    "duration": 0,
    "start_time": "2022-06-15T07:43:39.643Z"
   },
   {
    "duration": 0,
    "start_time": "2022-06-15T07:43:39.644Z"
   },
   {
    "duration": 0,
    "start_time": "2022-06-15T07:43:39.645Z"
   },
   {
    "duration": 1782,
    "start_time": "2022-06-15T07:43:51.808Z"
   },
   {
    "duration": 1025,
    "start_time": "2022-06-15T07:43:53.592Z"
   },
   {
    "duration": 45,
    "start_time": "2022-06-15T07:43:54.619Z"
   },
   {
    "duration": 294,
    "start_time": "2022-06-15T07:43:54.670Z"
   },
   {
    "duration": 280,
    "start_time": "2022-06-15T07:43:54.966Z"
   },
   {
    "duration": 6,
    "start_time": "2022-06-15T07:43:55.250Z"
   },
   {
    "duration": 56556,
    "start_time": "2022-06-15T07:43:55.258Z"
   },
   {
    "duration": 59,
    "start_time": "2022-06-15T07:44:51.815Z"
   },
   {
    "duration": 8044,
    "start_time": "2022-06-15T07:44:51.877Z"
   },
   {
    "duration": 35406,
    "start_time": "2022-06-15T07:44:59.923Z"
   },
   {
    "duration": 199,
    "start_time": "2022-06-15T07:45:35.331Z"
   },
   {
    "duration": 8,
    "start_time": "2022-06-15T07:48:01.362Z"
   },
   {
    "duration": 25,
    "start_time": "2022-06-15T07:48:05.406Z"
   },
   {
    "duration": 18,
    "start_time": "2022-06-15T07:48:19.386Z"
   },
   {
    "duration": 14,
    "start_time": "2022-06-15T09:07:30.005Z"
   },
   {
    "duration": 22,
    "start_time": "2022-06-15T09:07:30.035Z"
   },
   {
    "duration": 18,
    "start_time": "2022-06-15T09:07:46.677Z"
   },
   {
    "duration": 1626,
    "start_time": "2022-06-15T09:09:15.199Z"
   },
   {
    "duration": 922,
    "start_time": "2022-06-15T09:09:16.827Z"
   },
   {
    "duration": 30,
    "start_time": "2022-06-15T09:09:17.750Z"
   },
   {
    "duration": 260,
    "start_time": "2022-06-15T09:09:17.782Z"
   },
   {
    "duration": 237,
    "start_time": "2022-06-15T09:09:18.045Z"
   },
   {
    "duration": 5,
    "start_time": "2022-06-15T09:09:18.285Z"
   },
   {
    "duration": 46628,
    "start_time": "2022-06-15T09:09:18.292Z"
   },
   {
    "duration": 38,
    "start_time": "2022-06-15T09:10:04.926Z"
   },
   {
    "duration": 7099,
    "start_time": "2022-06-15T09:10:04.966Z"
   },
   {
    "duration": 31266,
    "start_time": "2022-06-15T09:10:12.067Z"
   },
   {
    "duration": 1584,
    "start_time": "2022-06-15T10:20:25.530Z"
   },
   {
    "duration": 872,
    "start_time": "2022-06-15T10:20:27.117Z"
   },
   {
    "duration": 38,
    "start_time": "2022-06-15T10:20:27.992Z"
   },
   {
    "duration": 253,
    "start_time": "2022-06-15T10:20:28.032Z"
   },
   {
    "duration": 223,
    "start_time": "2022-06-15T10:20:28.287Z"
   },
   {
    "duration": 5,
    "start_time": "2022-06-15T10:20:28.512Z"
   },
   {
    "duration": 47085,
    "start_time": "2022-06-15T10:20:28.518Z"
   },
   {
    "duration": 36,
    "start_time": "2022-06-15T10:21:15.605Z"
   },
   {
    "duration": 6665,
    "start_time": "2022-06-15T10:21:15.642Z"
   },
   {
    "duration": 30449,
    "start_time": "2022-06-15T10:21:22.310Z"
   },
   {
    "duration": 1650,
    "start_time": "2022-06-15T15:11:12.565Z"
   },
   {
    "duration": 2849,
    "start_time": "2022-06-15T15:11:14.217Z"
   },
   {
    "duration": 23,
    "start_time": "2022-06-15T15:11:17.068Z"
   },
   {
    "duration": 188,
    "start_time": "2022-06-15T15:11:17.093Z"
   },
   {
    "duration": 214,
    "start_time": "2022-06-15T15:11:17.292Z"
   },
   {
    "duration": 4,
    "start_time": "2022-06-15T15:11:17.507Z"
   },
   {
    "duration": 37046,
    "start_time": "2022-06-15T15:11:17.512Z"
   },
   {
    "duration": 33,
    "start_time": "2022-06-15T15:11:54.560Z"
   },
   {
    "duration": 5857,
    "start_time": "2022-06-15T15:11:54.595Z"
   },
   {
    "duration": 24249,
    "start_time": "2022-06-15T15:12:00.454Z"
   },
   {
    "duration": 202,
    "start_time": "2022-06-15T15:12:24.705Z"
   },
   {
    "duration": 5,
    "start_time": "2022-06-15T15:15:30.599Z"
   },
   {
    "duration": 12,
    "start_time": "2022-06-15T15:15:36.470Z"
   },
   {
    "duration": 12,
    "start_time": "2022-06-15T15:16:13.655Z"
   },
   {
    "duration": 10,
    "start_time": "2022-06-15T15:16:20.481Z"
   },
   {
    "duration": 9,
    "start_time": "2022-06-15T15:16:36.513Z"
   },
   {
    "duration": 9,
    "start_time": "2022-06-15T15:16:40.757Z"
   },
   {
    "duration": 10,
    "start_time": "2022-06-15T15:16:48.960Z"
   },
   {
    "duration": 69065,
    "start_time": "2022-06-15T15:17:07.785Z"
   },
   {
    "duration": 78055,
    "start_time": "2022-06-15T15:20:22.599Z"
   },
   {
    "duration": 10,
    "start_time": "2022-06-15T15:25:16.421Z"
   },
   {
    "duration": 11,
    "start_time": "2022-06-15T15:25:27.175Z"
   },
   {
    "duration": 10,
    "start_time": "2022-06-15T15:26:30.453Z"
   },
   {
    "duration": 11,
    "start_time": "2022-06-15T15:26:35.986Z"
   },
   {
    "duration": 9,
    "start_time": "2022-06-15T15:27:25.347Z"
   },
   {
    "duration": 24,
    "start_time": "2022-06-15T15:27:40.647Z"
   },
   {
    "duration": 281588,
    "start_time": "2022-06-15T15:31:26.762Z"
   },
   {
    "duration": 0,
    "start_time": "2022-06-15T15:36:08.353Z"
   },
   {
    "duration": 290984,
    "start_time": "2022-06-15T15:37:25.842Z"
   },
   {
    "duration": 8,
    "start_time": "2022-06-15T15:47:34.895Z"
   },
   {
    "duration": 102,
    "start_time": "2022-06-15T15:51:24.676Z"
   },
   {
    "duration": 12,
    "start_time": "2022-06-15T15:51:31.946Z"
   },
   {
    "duration": 191898,
    "start_time": "2022-06-15T15:52:25.238Z"
   },
   {
    "duration": 1559,
    "start_time": "2022-06-15T16:39:02.002Z"
   },
   {
    "duration": 787,
    "start_time": "2022-06-15T16:39:03.563Z"
   },
   {
    "duration": 28,
    "start_time": "2022-06-15T16:39:04.351Z"
   },
   {
    "duration": 215,
    "start_time": "2022-06-15T16:39:04.381Z"
   },
   {
    "duration": 124,
    "start_time": "2022-06-15T16:39:04.598Z"
   },
   {
    "duration": 5,
    "start_time": "2022-06-15T16:39:04.723Z"
   },
   {
    "duration": 37811,
    "start_time": "2022-06-15T16:39:04.730Z"
   },
   {
    "duration": 52,
    "start_time": "2022-06-15T16:39:42.543Z"
   },
   {
    "duration": 5995,
    "start_time": "2022-06-15T16:39:42.597Z"
   },
   {
    "duration": 24801,
    "start_time": "2022-06-15T16:39:48.594Z"
   },
   {
    "duration": 548204,
    "start_time": "2022-06-15T16:40:13.397Z"
   },
   {
    "duration": 107,
    "start_time": "2022-06-15T16:59:49.963Z"
   },
   {
    "duration": 11,
    "start_time": "2022-06-15T17:00:37.866Z"
   },
   {
    "duration": 10,
    "start_time": "2022-06-15T17:00:44.853Z"
   },
   {
    "duration": 10,
    "start_time": "2022-06-15T17:01:22.477Z"
   },
   {
    "duration": 37,
    "start_time": "2022-06-15T17:01:39.778Z"
   },
   {
    "duration": 21,
    "start_time": "2022-06-15T17:02:17.654Z"
   },
   {
    "duration": 30,
    "start_time": "2022-06-15T17:02:27.294Z"
   },
   {
    "duration": 14,
    "start_time": "2022-06-15T17:07:13.065Z"
   },
   {
    "duration": 15,
    "start_time": "2022-06-15T17:07:23.651Z"
   },
   {
    "duration": 189459,
    "start_time": "2022-06-15T17:07:57.642Z"
   },
   {
    "duration": 96995,
    "start_time": "2022-06-15T17:11:08.923Z"
   },
   {
    "duration": 7,
    "start_time": "2022-06-15T17:37:48.215Z"
   },
   {
    "duration": 644,
    "start_time": "2022-06-15T17:37:48.224Z"
   },
   {
    "duration": 28,
    "start_time": "2022-06-15T17:37:48.870Z"
   },
   {
    "duration": 202,
    "start_time": "2022-06-15T17:37:48.900Z"
   },
   {
    "duration": 160,
    "start_time": "2022-06-15T17:37:49.104Z"
   },
   {
    "duration": 6,
    "start_time": "2022-06-15T17:37:49.267Z"
   },
   {
    "duration": 37128,
    "start_time": "2022-06-15T17:37:49.274Z"
   },
   {
    "duration": 36,
    "start_time": "2022-06-15T17:38:26.404Z"
   },
   {
    "duration": 5893,
    "start_time": "2022-06-15T17:38:26.442Z"
   },
   {
    "duration": 24455,
    "start_time": "2022-06-15T17:38:32.338Z"
   },
   {
    "duration": 46,
    "start_time": "2022-06-15T17:38:56.794Z"
   },
   {
    "duration": 87,
    "start_time": "2022-06-15T17:40:30.414Z"
   },
   {
    "duration": 51,
    "start_time": "2022-06-15T17:40:41.464Z"
   },
   {
    "duration": 10,
    "start_time": "2022-06-15T17:41:51.762Z"
   },
   {
    "duration": 51,
    "start_time": "2022-06-15T17:42:00.812Z"
   },
   {
    "duration": 20,
    "start_time": "2022-06-15T17:42:17.805Z"
   },
   {
    "duration": 240620,
    "start_time": "2022-06-15T17:42:29.525Z"
   },
   {
    "duration": 12,
    "start_time": "2022-06-15T17:46:30.147Z"
   },
   {
    "duration": 46,
    "start_time": "2022-06-15T17:48:52.928Z"
   },
   {
    "duration": 2151,
    "start_time": "2022-06-16T16:21:53.185Z"
   },
   {
    "duration": 2293,
    "start_time": "2022-06-16T16:21:55.338Z"
   },
   {
    "duration": 36,
    "start_time": "2022-06-16T16:21:57.633Z"
   },
   {
    "duration": 242,
    "start_time": "2022-06-16T16:21:57.670Z"
   },
   {
    "duration": 139,
    "start_time": "2022-06-16T16:21:57.914Z"
   },
   {
    "duration": 4,
    "start_time": "2022-06-16T16:21:58.055Z"
   },
   {
    "duration": 46400,
    "start_time": "2022-06-16T16:21:58.060Z"
   },
   {
    "duration": 50,
    "start_time": "2022-06-16T16:22:44.462Z"
   },
   {
    "duration": 167,
    "start_time": "2022-06-16T16:22:44.515Z"
   },
   {
    "duration": 6993,
    "start_time": "2022-06-16T16:23:14.702Z"
   },
   {
    "duration": 48,
    "start_time": "2022-06-16T16:23:30.671Z"
   },
   {
    "duration": 15,
    "start_time": "2022-06-16T16:24:23.058Z"
   },
   {
    "duration": 14,
    "start_time": "2022-06-16T16:24:30.518Z"
   },
   {
    "duration": 6658,
    "start_time": "2022-06-16T16:24:43.397Z"
   },
   {
    "duration": 47935,
    "start_time": "2022-06-16T16:30:29.010Z"
   },
   {
    "duration": 129,
    "start_time": "2022-06-16T16:31:16.948Z"
   },
   {
    "duration": 31,
    "start_time": "2022-06-16T16:31:22.745Z"
   },
   {
    "duration": 7902,
    "start_time": "2022-06-16T16:32:13.668Z"
   },
   {
    "duration": 44,
    "start_time": "2022-06-16T16:35:52.405Z"
   },
   {
    "duration": 17,
    "start_time": "2022-06-16T16:36:34.085Z"
   },
   {
    "duration": 15,
    "start_time": "2022-06-16T16:38:38.419Z"
   },
   {
    "duration": 1642,
    "start_time": "2022-06-16T16:54:27.888Z"
   },
   {
    "duration": 991,
    "start_time": "2022-06-16T16:54:29.532Z"
   },
   {
    "duration": 36,
    "start_time": "2022-06-16T16:54:30.524Z"
   },
   {
    "duration": 265,
    "start_time": "2022-06-16T16:54:30.561Z"
   },
   {
    "duration": 144,
    "start_time": "2022-06-16T16:54:30.829Z"
   },
   {
    "duration": 5,
    "start_time": "2022-06-16T16:54:30.975Z"
   },
   {
    "duration": 49300,
    "start_time": "2022-06-16T16:54:30.981Z"
   },
   {
    "duration": 44,
    "start_time": "2022-06-16T16:55:20.282Z"
   },
   {
    "duration": 7148,
    "start_time": "2022-06-16T16:55:20.328Z"
   },
   {
    "duration": 46464,
    "start_time": "2022-06-16T16:55:27.477Z"
   },
   {
    "duration": 275644,
    "start_time": "2022-06-16T16:56:14.025Z"
   },
   {
    "duration": 46673,
    "start_time": "2022-06-16T17:01:54.642Z"
   },
   {
    "duration": 432,
    "start_time": "2022-06-16T17:02:41.317Z"
   },
   {
    "duration": 6902,
    "start_time": "2022-06-16T17:02:41.751Z"
   },
   {
    "duration": 25994,
    "start_time": "2022-06-16T17:02:48.655Z"
   },
   {
    "duration": 330886,
    "start_time": "2022-06-16T17:03:14.653Z"
   },
   {
    "duration": 42,
    "start_time": "2022-06-17T09:25:09.631Z"
   },
   {
    "duration": 2050,
    "start_time": "2022-06-17T09:25:15.844Z"
   },
   {
    "duration": 342,
    "start_time": "2022-06-17T09:25:19.333Z"
   },
   {
    "duration": 4,
    "start_time": "2022-06-17T09:25:26.855Z"
   },
   {
    "duration": 6,
    "start_time": "2022-06-17T09:25:30.957Z"
   },
   {
    "duration": 5,
    "start_time": "2022-06-17T09:25:37.456Z"
   }
  ],
  "kernelspec": {
   "display_name": "Python 3.9.7 ('base')",
   "language": "python",
   "name": "python3"
  },
  "language_info": {
   "codemirror_mode": {
    "name": "ipython",
    "version": 3
   },
   "file_extension": ".py",
   "mimetype": "text/x-python",
   "name": "python",
   "nbconvert_exporter": "python",
   "pygments_lexer": "ipython3",
   "version": "3.9.7"
  },
  "toc": {
   "base_numbering": 1,
   "nav_menu": {},
   "number_sections": true,
   "sideBar": true,
   "skip_h1_title": true,
   "title_cell": "Содержание",
   "title_sidebar": "Contents",
   "toc_cell": true,
   "toc_position": {
    "height": "calc(100% - 180px)",
    "left": "10px",
    "top": "150px",
    "width": "165px"
   },
   "toc_section_display": true,
   "toc_window_display": false
  },
  "vscode": {
   "interpreter": {
    "hash": "47bb262127e83f4e352f9a4661074feb316fd893d8b83e773ca2637ac59da0c2"
   }
  }
 },
 "nbformat": 4,
 "nbformat_minor": 2
}
