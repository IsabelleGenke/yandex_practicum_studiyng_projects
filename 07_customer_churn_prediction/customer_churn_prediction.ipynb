{
 "cells": [
  {
   "cell_type": "markdown",
   "metadata": {},
   "source": [
    "# Отток клиентов"
   ]
  },
  {
   "cell_type": "markdown",
   "metadata": {},
   "source": [
    "Из «Бета-Банка» стали уходить клиенты. Каждый месяц. Немного, но заметно. Банковские маркетологи посчитали: сохранять текущих клиентов дешевле, чем привлекать новых.\n",
    "\n",
    "Нужно спрогнозировать, уйдёт клиент из банка в ближайшее время или нет. Нам предоставлены исторические данные о поведении клиентов и расторжении договоров с банком. \n",
    "\n",
    "**Цель проекта:**\n",
    "- Построить модель машинного обучения, которая поможет спрогнозировать отток клиентской базы банка.\n",
    "\n",
    "\n",
    "Построим модель с предельно большим значением *F1*-меры. Нужно довести метрику до 0.59. Проверим *F1*-меру на тестовой выборке.\n",
    "\n",
    "Дополнительно измерим *AUC-ROC*, сравним её значение с *F1*-мерой.\n",
    "\n",
    "Источник данных: [https://www.kaggle.com/barelydedicated/bank-customer-churn-modeling](https://www.kaggle.com/barelydedicated/bank-customer-churn-modeling)"
   ]
  },
  {
   "cell_type": "markdown",
   "metadata": {},
   "source": [
    "**Описание данных**\n",
    "\n",
    "- RowNumber — индекс строки в данных\n",
    "- CustomerId — уникальный идентификатор клиента\n",
    "- Surname — фамилия\n",
    "- CreditScore — кредитный рейтинг\n",
    "- Geography — страна проживания\n",
    "- Gender — пол\n",
    "- Age — возраст\n",
    "- Tenure — сколько лет человек является клиентом банка\n",
    "- Balance — баланс на счёте\n",
    "- NumOfProducts — количество продуктов банка, используемых клиентом\n",
    "- HasCrCard — наличие кредитной карты\n",
    "- IsActiveMember — активность клиента\n",
    "- EstimatedSalary — предполагаемая зарплата\n",
    "- Exited — факт ухода клиента"
   ]
  },
  {
   "cell_type": "markdown",
   "metadata": {},
   "source": [
    "## Подготовка данных"
   ]
  },
  {
   "cell_type": "code",
   "execution_count": 4,
   "metadata": {},
   "outputs": [],
   "source": [
    "# импортируем библиотеки\n",
    "\n",
    "import pandas as pd\n",
    "import numpy as np\n",
    "import matplotlib.pyplot as plt\n",
    "\n",
    "from sklearn.preprocessing import OrdinalEncoder\n",
    "from sklearn.preprocessing import StandardScaler\n",
    "\n",
    "from sklearn.metrics import roc_curve\n",
    "from sklearn.metrics import precision_score\n",
    "from sklearn.metrics import recall_score\n",
    "from sklearn.metrics import f1_score\n",
    "from sklearn.metrics import roc_auc_score\n",
    "from sklearn.metrics import classification_report\n",
    "from sklearn.utils import shuffle\n",
    "\n",
    "from sklearn.model_selection import train_test_split\n",
    "from sklearn.linear_model import LogisticRegression\n",
    "from sklearn.tree import DecisionTreeClassifier\n",
    "from sklearn.ensemble import RandomForestClassifier"
   ]
  },
  {
   "cell_type": "markdown",
   "metadata": {},
   "source": [
    "### Изучение данных"
   ]
  },
  {
   "cell_type": "code",
   "execution_count": 5,
   "metadata": {
    "scrolled": false
   },
   "outputs": [
    {
     "data": {
      "text/html": [
       "<div>\n",
       "<style scoped>\n",
       "    .dataframe tbody tr th:only-of-type {\n",
       "        vertical-align: middle;\n",
       "    }\n",
       "\n",
       "    .dataframe tbody tr th {\n",
       "        vertical-align: top;\n",
       "    }\n",
       "\n",
       "    .dataframe thead th {\n",
       "        text-align: right;\n",
       "    }\n",
       "</style>\n",
       "<table border=\"1\" class=\"dataframe\">\n",
       "  <thead>\n",
       "    <tr style=\"text-align: right;\">\n",
       "      <th></th>\n",
       "      <th>RowNumber</th>\n",
       "      <th>CustomerId</th>\n",
       "      <th>Surname</th>\n",
       "      <th>CreditScore</th>\n",
       "      <th>Geography</th>\n",
       "      <th>Gender</th>\n",
       "      <th>Age</th>\n",
       "      <th>Tenure</th>\n",
       "      <th>Balance</th>\n",
       "      <th>NumOfProducts</th>\n",
       "      <th>HasCrCard</th>\n",
       "      <th>IsActiveMember</th>\n",
       "      <th>EstimatedSalary</th>\n",
       "      <th>Exited</th>\n",
       "    </tr>\n",
       "  </thead>\n",
       "  <tbody>\n",
       "    <tr>\n",
       "      <th>0</th>\n",
       "      <td>1</td>\n",
       "      <td>15634602</td>\n",
       "      <td>Hargrave</td>\n",
       "      <td>619</td>\n",
       "      <td>France</td>\n",
       "      <td>Female</td>\n",
       "      <td>42</td>\n",
       "      <td>2.0</td>\n",
       "      <td>0.00</td>\n",
       "      <td>1</td>\n",
       "      <td>1</td>\n",
       "      <td>1</td>\n",
       "      <td>101348.88</td>\n",
       "      <td>1</td>\n",
       "    </tr>\n",
       "    <tr>\n",
       "      <th>1</th>\n",
       "      <td>2</td>\n",
       "      <td>15647311</td>\n",
       "      <td>Hill</td>\n",
       "      <td>608</td>\n",
       "      <td>Spain</td>\n",
       "      <td>Female</td>\n",
       "      <td>41</td>\n",
       "      <td>1.0</td>\n",
       "      <td>83807.86</td>\n",
       "      <td>1</td>\n",
       "      <td>0</td>\n",
       "      <td>1</td>\n",
       "      <td>112542.58</td>\n",
       "      <td>0</td>\n",
       "    </tr>\n",
       "    <tr>\n",
       "      <th>2</th>\n",
       "      <td>3</td>\n",
       "      <td>15619304</td>\n",
       "      <td>Onio</td>\n",
       "      <td>502</td>\n",
       "      <td>France</td>\n",
       "      <td>Female</td>\n",
       "      <td>42</td>\n",
       "      <td>8.0</td>\n",
       "      <td>159660.80</td>\n",
       "      <td>3</td>\n",
       "      <td>1</td>\n",
       "      <td>0</td>\n",
       "      <td>113931.57</td>\n",
       "      <td>1</td>\n",
       "    </tr>\n",
       "    <tr>\n",
       "      <th>3</th>\n",
       "      <td>4</td>\n",
       "      <td>15701354</td>\n",
       "      <td>Boni</td>\n",
       "      <td>699</td>\n",
       "      <td>France</td>\n",
       "      <td>Female</td>\n",
       "      <td>39</td>\n",
       "      <td>1.0</td>\n",
       "      <td>0.00</td>\n",
       "      <td>2</td>\n",
       "      <td>0</td>\n",
       "      <td>0</td>\n",
       "      <td>93826.63</td>\n",
       "      <td>0</td>\n",
       "    </tr>\n",
       "    <tr>\n",
       "      <th>4</th>\n",
       "      <td>5</td>\n",
       "      <td>15737888</td>\n",
       "      <td>Mitchell</td>\n",
       "      <td>850</td>\n",
       "      <td>Spain</td>\n",
       "      <td>Female</td>\n",
       "      <td>43</td>\n",
       "      <td>2.0</td>\n",
       "      <td>125510.82</td>\n",
       "      <td>1</td>\n",
       "      <td>1</td>\n",
       "      <td>1</td>\n",
       "      <td>79084.10</td>\n",
       "      <td>0</td>\n",
       "    </tr>\n",
       "    <tr>\n",
       "      <th>5</th>\n",
       "      <td>6</td>\n",
       "      <td>15574012</td>\n",
       "      <td>Chu</td>\n",
       "      <td>645</td>\n",
       "      <td>Spain</td>\n",
       "      <td>Male</td>\n",
       "      <td>44</td>\n",
       "      <td>8.0</td>\n",
       "      <td>113755.78</td>\n",
       "      <td>2</td>\n",
       "      <td>1</td>\n",
       "      <td>0</td>\n",
       "      <td>149756.71</td>\n",
       "      <td>1</td>\n",
       "    </tr>\n",
       "    <tr>\n",
       "      <th>6</th>\n",
       "      <td>7</td>\n",
       "      <td>15592531</td>\n",
       "      <td>Bartlett</td>\n",
       "      <td>822</td>\n",
       "      <td>France</td>\n",
       "      <td>Male</td>\n",
       "      <td>50</td>\n",
       "      <td>7.0</td>\n",
       "      <td>0.00</td>\n",
       "      <td>2</td>\n",
       "      <td>1</td>\n",
       "      <td>1</td>\n",
       "      <td>10062.80</td>\n",
       "      <td>0</td>\n",
       "    </tr>\n",
       "    <tr>\n",
       "      <th>7</th>\n",
       "      <td>8</td>\n",
       "      <td>15656148</td>\n",
       "      <td>Obinna</td>\n",
       "      <td>376</td>\n",
       "      <td>Germany</td>\n",
       "      <td>Female</td>\n",
       "      <td>29</td>\n",
       "      <td>4.0</td>\n",
       "      <td>115046.74</td>\n",
       "      <td>4</td>\n",
       "      <td>1</td>\n",
       "      <td>0</td>\n",
       "      <td>119346.88</td>\n",
       "      <td>1</td>\n",
       "    </tr>\n",
       "    <tr>\n",
       "      <th>8</th>\n",
       "      <td>9</td>\n",
       "      <td>15792365</td>\n",
       "      <td>He</td>\n",
       "      <td>501</td>\n",
       "      <td>France</td>\n",
       "      <td>Male</td>\n",
       "      <td>44</td>\n",
       "      <td>4.0</td>\n",
       "      <td>142051.07</td>\n",
       "      <td>2</td>\n",
       "      <td>0</td>\n",
       "      <td>1</td>\n",
       "      <td>74940.50</td>\n",
       "      <td>0</td>\n",
       "    </tr>\n",
       "    <tr>\n",
       "      <th>9</th>\n",
       "      <td>10</td>\n",
       "      <td>15592389</td>\n",
       "      <td>H?</td>\n",
       "      <td>684</td>\n",
       "      <td>France</td>\n",
       "      <td>Male</td>\n",
       "      <td>27</td>\n",
       "      <td>2.0</td>\n",
       "      <td>134603.88</td>\n",
       "      <td>1</td>\n",
       "      <td>1</td>\n",
       "      <td>1</td>\n",
       "      <td>71725.73</td>\n",
       "      <td>0</td>\n",
       "    </tr>\n",
       "  </tbody>\n",
       "</table>\n",
       "</div>"
      ],
      "text/plain": [
       "   RowNumber  CustomerId   Surname  CreditScore Geography  Gender  Age  \\\n",
       "0          1    15634602  Hargrave          619    France  Female   42   \n",
       "1          2    15647311      Hill          608     Spain  Female   41   \n",
       "2          3    15619304      Onio          502    France  Female   42   \n",
       "3          4    15701354      Boni          699    France  Female   39   \n",
       "4          5    15737888  Mitchell          850     Spain  Female   43   \n",
       "5          6    15574012       Chu          645     Spain    Male   44   \n",
       "6          7    15592531  Bartlett          822    France    Male   50   \n",
       "7          8    15656148    Obinna          376   Germany  Female   29   \n",
       "8          9    15792365        He          501    France    Male   44   \n",
       "9         10    15592389        H?          684    France    Male   27   \n",
       "\n",
       "   Tenure    Balance  NumOfProducts  HasCrCard  IsActiveMember  \\\n",
       "0     2.0       0.00              1          1               1   \n",
       "1     1.0   83807.86              1          0               1   \n",
       "2     8.0  159660.80              3          1               0   \n",
       "3     1.0       0.00              2          0               0   \n",
       "4     2.0  125510.82              1          1               1   \n",
       "5     8.0  113755.78              2          1               0   \n",
       "6     7.0       0.00              2          1               1   \n",
       "7     4.0  115046.74              4          1               0   \n",
       "8     4.0  142051.07              2          0               1   \n",
       "9     2.0  134603.88              1          1               1   \n",
       "\n",
       "   EstimatedSalary  Exited  \n",
       "0        101348.88       1  \n",
       "1        112542.58       0  \n",
       "2        113931.57       1  \n",
       "3         93826.63       0  \n",
       "4         79084.10       0  \n",
       "5        149756.71       1  \n",
       "6         10062.80       0  \n",
       "7        119346.88       1  \n",
       "8         74940.50       0  \n",
       "9         71725.73       0  "
      ]
     },
     "metadata": {},
     "output_type": "display_data"
    },
    {
     "name": "stdout",
     "output_type": "stream",
     "text": [
      "<class 'pandas.core.frame.DataFrame'>\n",
      "RangeIndex: 10000 entries, 0 to 9999\n",
      "Data columns (total 14 columns):\n",
      " #   Column           Non-Null Count  Dtype  \n",
      "---  ------           --------------  -----  \n",
      " 0   RowNumber        10000 non-null  int64  \n",
      " 1   CustomerId       10000 non-null  int64  \n",
      " 2   Surname          10000 non-null  object \n",
      " 3   CreditScore      10000 non-null  int64  \n",
      " 4   Geography        10000 non-null  object \n",
      " 5   Gender           10000 non-null  object \n",
      " 6   Age              10000 non-null  int64  \n",
      " 7   Tenure           9091 non-null   float64\n",
      " 8   Balance          10000 non-null  float64\n",
      " 9   NumOfProducts    10000 non-null  int64  \n",
      " 10  HasCrCard        10000 non-null  int64  \n",
      " 11  IsActiveMember   10000 non-null  int64  \n",
      " 12  EstimatedSalary  10000 non-null  float64\n",
      " 13  Exited           10000 non-null  int64  \n",
      "dtypes: float64(3), int64(8), object(3)\n",
      "memory usage: 1.1+ MB\n",
      "\n",
      "Дубликатов: 0\n"
     ]
    }
   ],
   "source": [
    "# загрузим данные\n",
    "\n",
    "try:\n",
    "    data = pd.read_csv('Churn.csv')\n",
    "except:\n",
    "    data = pd.read_csv('/datasets/Churn.csv')\n",
    "\n",
    "data = pd.read_csv('Churn.csv')\n",
    "display(data.head(10))\n",
    "\n",
    "data.info()\n",
    "print()\n",
    "print('Дубликатов:', data.duplicated().sum())"
   ]
  },
  {
   "cell_type": "markdown",
   "metadata": {},
   "source": [
    "**Вывод**"
   ]
  },
  {
   "cell_type": "markdown",
   "metadata": {},
   "source": [
    "Таблица состоит из 10 000 строк и 14 столбцов и содержит информацию о клиентах банка: фамилия, кредитный рейтинг, страна проживания, пол, возраст, зарплата, сколько лет человек является клиентом в банке, баланс на счете, продукты банка, есть ли кредитная карта и активен ли клиент. \n",
    "\n",
    "Проверили данные с помощью метода info():\n",
    "- в столбце с продолжительностью взаимотношений клиента с банком ('Tenure') есть пропуски;\n",
    "- в столбцах 'Tenure', 'Balance', 'EstimatedSalary' тип данных float; \n",
    "- в столбцах 'Surname', 'Geography' и 'Gender' - object;\n",
    "- остальные столбцы типа int.\n",
    "\n",
    "\n",
    "Тип данных пока менять не будем, а с пропусками необходимо разобраться и решить, как их обработать. Возможно данные были утеряны при импорте файла или пропущены при заполнении самой таблицы менеджерами. Удалить эти строки - значит потерять 9% данных. Можно попробовать заменить пропущенные значения на медианные значения относительно возраста клиента и факта ухода.\n",
    "\n",
    "Некоторые названия столбцов нечитабельны из-за стиля. Нужно привести все названия к одному регистру и змеинному стилю.\n",
    "\n",
    "Столбец с id клиентов, фамилиями и нумерацией строк не являются признаками, которые влияют на факт ухода клиента, поэтому от них можно избавиться.\n",
    "\n",
    "Также проверила таблицу на наличие дубликатов - отсутствуют. Каждый клиент индивидуален."
   ]
  },
  {
   "cell_type": "code",
   "execution_count": 6,
   "metadata": {},
   "outputs": [],
   "source": [
    "# приведем в порядок названия столбцов\n",
    "\n",
    "data.columns = ['row_number', 'customer_id', 'surname', 'credit_score', 'geography',\n",
    "       'gender', 'age', 'tenure', 'balance', 'num_of_products', 'has_cr_card',\n",
    "       'is_active_member', 'estimated_salary', 'exited']"
   ]
  },
  {
   "cell_type": "code",
   "execution_count": 7,
   "metadata": {},
   "outputs": [],
   "source": [
    "# удалим столбцы\n",
    "\n",
    "data = data.drop(['surname', 'row_number','customer_id'], axis=1)\n"
   ]
  },
  {
   "cell_type": "code",
   "execution_count": 8,
   "metadata": {},
   "outputs": [
    {
     "name": "stdout",
     "output_type": "stream",
     "text": [
      "credit_score        0\n",
      "geography           0\n",
      "gender              0\n",
      "age                 0\n",
      "tenure              0\n",
      "balance             0\n",
      "num_of_products     0\n",
      "has_cr_card         0\n",
      "is_active_member    0\n",
      "estimated_salary    0\n",
      "exited              0\n",
      "dtype: int64\n"
     ]
    },
    {
     "data": {
      "text/html": [
       "<div>\n",
       "<style scoped>\n",
       "    .dataframe tbody tr th:only-of-type {\n",
       "        vertical-align: middle;\n",
       "    }\n",
       "\n",
       "    .dataframe tbody tr th {\n",
       "        vertical-align: top;\n",
       "    }\n",
       "\n",
       "    .dataframe thead th {\n",
       "        text-align: right;\n",
       "    }\n",
       "</style>\n",
       "<table border=\"1\" class=\"dataframe\">\n",
       "  <thead>\n",
       "    <tr style=\"text-align: right;\">\n",
       "      <th></th>\n",
       "      <th>credit_score</th>\n",
       "      <th>geography</th>\n",
       "      <th>gender</th>\n",
       "      <th>age</th>\n",
       "      <th>tenure</th>\n",
       "      <th>balance</th>\n",
       "      <th>num_of_products</th>\n",
       "      <th>has_cr_card</th>\n",
       "      <th>is_active_member</th>\n",
       "      <th>estimated_salary</th>\n",
       "      <th>exited</th>\n",
       "    </tr>\n",
       "  </thead>\n",
       "  <tbody>\n",
       "    <tr>\n",
       "      <th>0</th>\n",
       "      <td>619</td>\n",
       "      <td>France</td>\n",
       "      <td>Female</td>\n",
       "      <td>42</td>\n",
       "      <td>2.0</td>\n",
       "      <td>0.00</td>\n",
       "      <td>1</td>\n",
       "      <td>1</td>\n",
       "      <td>1</td>\n",
       "      <td>101348.88</td>\n",
       "      <td>1</td>\n",
       "    </tr>\n",
       "    <tr>\n",
       "      <th>1</th>\n",
       "      <td>608</td>\n",
       "      <td>Spain</td>\n",
       "      <td>Female</td>\n",
       "      <td>41</td>\n",
       "      <td>1.0</td>\n",
       "      <td>83807.86</td>\n",
       "      <td>1</td>\n",
       "      <td>0</td>\n",
       "      <td>1</td>\n",
       "      <td>112542.58</td>\n",
       "      <td>0</td>\n",
       "    </tr>\n",
       "    <tr>\n",
       "      <th>2</th>\n",
       "      <td>502</td>\n",
       "      <td>France</td>\n",
       "      <td>Female</td>\n",
       "      <td>42</td>\n",
       "      <td>8.0</td>\n",
       "      <td>159660.80</td>\n",
       "      <td>3</td>\n",
       "      <td>1</td>\n",
       "      <td>0</td>\n",
       "      <td>113931.57</td>\n",
       "      <td>1</td>\n",
       "    </tr>\n",
       "    <tr>\n",
       "      <th>3</th>\n",
       "      <td>699</td>\n",
       "      <td>France</td>\n",
       "      <td>Female</td>\n",
       "      <td>39</td>\n",
       "      <td>1.0</td>\n",
       "      <td>0.00</td>\n",
       "      <td>2</td>\n",
       "      <td>0</td>\n",
       "      <td>0</td>\n",
       "      <td>93826.63</td>\n",
       "      <td>0</td>\n",
       "    </tr>\n",
       "    <tr>\n",
       "      <th>4</th>\n",
       "      <td>850</td>\n",
       "      <td>Spain</td>\n",
       "      <td>Female</td>\n",
       "      <td>43</td>\n",
       "      <td>2.0</td>\n",
       "      <td>125510.82</td>\n",
       "      <td>1</td>\n",
       "      <td>1</td>\n",
       "      <td>1</td>\n",
       "      <td>79084.10</td>\n",
       "      <td>0</td>\n",
       "    </tr>\n",
       "    <tr>\n",
       "      <th>...</th>\n",
       "      <td>...</td>\n",
       "      <td>...</td>\n",
       "      <td>...</td>\n",
       "      <td>...</td>\n",
       "      <td>...</td>\n",
       "      <td>...</td>\n",
       "      <td>...</td>\n",
       "      <td>...</td>\n",
       "      <td>...</td>\n",
       "      <td>...</td>\n",
       "      <td>...</td>\n",
       "    </tr>\n",
       "    <tr>\n",
       "      <th>9995</th>\n",
       "      <td>771</td>\n",
       "      <td>France</td>\n",
       "      <td>Male</td>\n",
       "      <td>39</td>\n",
       "      <td>5.0</td>\n",
       "      <td>0.00</td>\n",
       "      <td>2</td>\n",
       "      <td>1</td>\n",
       "      <td>0</td>\n",
       "      <td>96270.64</td>\n",
       "      <td>0</td>\n",
       "    </tr>\n",
       "    <tr>\n",
       "      <th>9996</th>\n",
       "      <td>516</td>\n",
       "      <td>France</td>\n",
       "      <td>Male</td>\n",
       "      <td>35</td>\n",
       "      <td>10.0</td>\n",
       "      <td>57369.61</td>\n",
       "      <td>1</td>\n",
       "      <td>1</td>\n",
       "      <td>1</td>\n",
       "      <td>101699.77</td>\n",
       "      <td>0</td>\n",
       "    </tr>\n",
       "    <tr>\n",
       "      <th>9997</th>\n",
       "      <td>709</td>\n",
       "      <td>France</td>\n",
       "      <td>Female</td>\n",
       "      <td>36</td>\n",
       "      <td>7.0</td>\n",
       "      <td>0.00</td>\n",
       "      <td>1</td>\n",
       "      <td>0</td>\n",
       "      <td>1</td>\n",
       "      <td>42085.58</td>\n",
       "      <td>1</td>\n",
       "    </tr>\n",
       "    <tr>\n",
       "      <th>9998</th>\n",
       "      <td>772</td>\n",
       "      <td>Germany</td>\n",
       "      <td>Male</td>\n",
       "      <td>42</td>\n",
       "      <td>3.0</td>\n",
       "      <td>75075.31</td>\n",
       "      <td>2</td>\n",
       "      <td>1</td>\n",
       "      <td>0</td>\n",
       "      <td>92888.52</td>\n",
       "      <td>1</td>\n",
       "    </tr>\n",
       "    <tr>\n",
       "      <th>9999</th>\n",
       "      <td>792</td>\n",
       "      <td>France</td>\n",
       "      <td>Female</td>\n",
       "      <td>28</td>\n",
       "      <td>5.0</td>\n",
       "      <td>130142.79</td>\n",
       "      <td>1</td>\n",
       "      <td>1</td>\n",
       "      <td>0</td>\n",
       "      <td>38190.78</td>\n",
       "      <td>0</td>\n",
       "    </tr>\n",
       "  </tbody>\n",
       "</table>\n",
       "<p>10000 rows × 11 columns</p>\n",
       "</div>"
      ],
      "text/plain": [
       "      credit_score geography  gender  age  tenure    balance  num_of_products  \\\n",
       "0              619    France  Female   42     2.0       0.00                1   \n",
       "1              608     Spain  Female   41     1.0   83807.86                1   \n",
       "2              502    France  Female   42     8.0  159660.80                3   \n",
       "3              699    France  Female   39     1.0       0.00                2   \n",
       "4              850     Spain  Female   43     2.0  125510.82                1   \n",
       "...            ...       ...     ...  ...     ...        ...              ...   \n",
       "9995           771    France    Male   39     5.0       0.00                2   \n",
       "9996           516    France    Male   35    10.0   57369.61                1   \n",
       "9997           709    France  Female   36     7.0       0.00                1   \n",
       "9998           772   Germany    Male   42     3.0   75075.31                2   \n",
       "9999           792    France  Female   28     5.0  130142.79                1   \n",
       "\n",
       "      has_cr_card  is_active_member  estimated_salary  exited  \n",
       "0               1                 1         101348.88       1  \n",
       "1               0                 1         112542.58       0  \n",
       "2               1                 0         113931.57       1  \n",
       "3               0                 0          93826.63       0  \n",
       "4               1                 1          79084.10       0  \n",
       "...           ...               ...               ...     ...  \n",
       "9995            1                 0          96270.64       0  \n",
       "9996            1                 1         101699.77       0  \n",
       "9997            0                 1          42085.58       1  \n",
       "9998            1                 0          92888.52       1  \n",
       "9999            1                 0          38190.78       0  \n",
       "\n",
       "[10000 rows x 11 columns]"
      ]
     },
     "execution_count": 8,
     "metadata": {},
     "output_type": "execute_result"
    }
   ],
   "source": [
    "# проработаем пропуски\n",
    "\n",
    "data['tenure'] = data['tenure'].fillna(data.groupby(['age','exited'])['tenure'].transform('median'))\n",
    "print(data.isna().sum())\n",
    "data"
   ]
  },
  {
   "cell_type": "markdown",
   "metadata": {},
   "source": [
    "В процессе предобработки данных мы избавились от ненужных столбцов, так как эти столбцы не влияют на факт ухода клиентов; привели наименования столбцов к единому читабельному стилю; заменили пропущенные значения в столбце 'tenure' на медианные значения по сгруппированным данным. "
   ]
  },
  {
   "cell_type": "markdown",
   "metadata": {},
   "source": [
    "### Преобразование категориальных признаков в численные"
   ]
  },
  {
   "cell_type": "code",
   "execution_count": 9,
   "metadata": {
    "scrolled": false
   },
   "outputs": [
    {
     "data": {
      "text/html": [
       "<div>\n",
       "<style scoped>\n",
       "    .dataframe tbody tr th:only-of-type {\n",
       "        vertical-align: middle;\n",
       "    }\n",
       "\n",
       "    .dataframe tbody tr th {\n",
       "        vertical-align: top;\n",
       "    }\n",
       "\n",
       "    .dataframe thead th {\n",
       "        text-align: right;\n",
       "    }\n",
       "</style>\n",
       "<table border=\"1\" class=\"dataframe\">\n",
       "  <thead>\n",
       "    <tr style=\"text-align: right;\">\n",
       "      <th></th>\n",
       "      <th>credit_score</th>\n",
       "      <th>age</th>\n",
       "      <th>tenure</th>\n",
       "      <th>balance</th>\n",
       "      <th>num_of_products</th>\n",
       "      <th>has_cr_card</th>\n",
       "      <th>is_active_member</th>\n",
       "      <th>estimated_salary</th>\n",
       "      <th>exited</th>\n",
       "      <th>geography_Germany</th>\n",
       "      <th>geography_Spain</th>\n",
       "      <th>gender_Male</th>\n",
       "    </tr>\n",
       "  </thead>\n",
       "  <tbody>\n",
       "    <tr>\n",
       "      <th>0</th>\n",
       "      <td>619</td>\n",
       "      <td>42</td>\n",
       "      <td>2.0</td>\n",
       "      <td>0.00</td>\n",
       "      <td>1</td>\n",
       "      <td>1</td>\n",
       "      <td>1</td>\n",
       "      <td>101348.88</td>\n",
       "      <td>1</td>\n",
       "      <td>0</td>\n",
       "      <td>0</td>\n",
       "      <td>0</td>\n",
       "    </tr>\n",
       "    <tr>\n",
       "      <th>1</th>\n",
       "      <td>608</td>\n",
       "      <td>41</td>\n",
       "      <td>1.0</td>\n",
       "      <td>83807.86</td>\n",
       "      <td>1</td>\n",
       "      <td>0</td>\n",
       "      <td>1</td>\n",
       "      <td>112542.58</td>\n",
       "      <td>0</td>\n",
       "      <td>0</td>\n",
       "      <td>1</td>\n",
       "      <td>0</td>\n",
       "    </tr>\n",
       "    <tr>\n",
       "      <th>2</th>\n",
       "      <td>502</td>\n",
       "      <td>42</td>\n",
       "      <td>8.0</td>\n",
       "      <td>159660.80</td>\n",
       "      <td>3</td>\n",
       "      <td>1</td>\n",
       "      <td>0</td>\n",
       "      <td>113931.57</td>\n",
       "      <td>1</td>\n",
       "      <td>0</td>\n",
       "      <td>0</td>\n",
       "      <td>0</td>\n",
       "    </tr>\n",
       "    <tr>\n",
       "      <th>3</th>\n",
       "      <td>699</td>\n",
       "      <td>39</td>\n",
       "      <td>1.0</td>\n",
       "      <td>0.00</td>\n",
       "      <td>2</td>\n",
       "      <td>0</td>\n",
       "      <td>0</td>\n",
       "      <td>93826.63</td>\n",
       "      <td>0</td>\n",
       "      <td>0</td>\n",
       "      <td>0</td>\n",
       "      <td>0</td>\n",
       "    </tr>\n",
       "    <tr>\n",
       "      <th>4</th>\n",
       "      <td>850</td>\n",
       "      <td>43</td>\n",
       "      <td>2.0</td>\n",
       "      <td>125510.82</td>\n",
       "      <td>1</td>\n",
       "      <td>1</td>\n",
       "      <td>1</td>\n",
       "      <td>79084.10</td>\n",
       "      <td>0</td>\n",
       "      <td>0</td>\n",
       "      <td>1</td>\n",
       "      <td>0</td>\n",
       "    </tr>\n",
       "    <tr>\n",
       "      <th>...</th>\n",
       "      <td>...</td>\n",
       "      <td>...</td>\n",
       "      <td>...</td>\n",
       "      <td>...</td>\n",
       "      <td>...</td>\n",
       "      <td>...</td>\n",
       "      <td>...</td>\n",
       "      <td>...</td>\n",
       "      <td>...</td>\n",
       "      <td>...</td>\n",
       "      <td>...</td>\n",
       "      <td>...</td>\n",
       "    </tr>\n",
       "    <tr>\n",
       "      <th>9995</th>\n",
       "      <td>771</td>\n",
       "      <td>39</td>\n",
       "      <td>5.0</td>\n",
       "      <td>0.00</td>\n",
       "      <td>2</td>\n",
       "      <td>1</td>\n",
       "      <td>0</td>\n",
       "      <td>96270.64</td>\n",
       "      <td>0</td>\n",
       "      <td>0</td>\n",
       "      <td>0</td>\n",
       "      <td>1</td>\n",
       "    </tr>\n",
       "    <tr>\n",
       "      <th>9996</th>\n",
       "      <td>516</td>\n",
       "      <td>35</td>\n",
       "      <td>10.0</td>\n",
       "      <td>57369.61</td>\n",
       "      <td>1</td>\n",
       "      <td>1</td>\n",
       "      <td>1</td>\n",
       "      <td>101699.77</td>\n",
       "      <td>0</td>\n",
       "      <td>0</td>\n",
       "      <td>0</td>\n",
       "      <td>1</td>\n",
       "    </tr>\n",
       "    <tr>\n",
       "      <th>9997</th>\n",
       "      <td>709</td>\n",
       "      <td>36</td>\n",
       "      <td>7.0</td>\n",
       "      <td>0.00</td>\n",
       "      <td>1</td>\n",
       "      <td>0</td>\n",
       "      <td>1</td>\n",
       "      <td>42085.58</td>\n",
       "      <td>1</td>\n",
       "      <td>0</td>\n",
       "      <td>0</td>\n",
       "      <td>0</td>\n",
       "    </tr>\n",
       "    <tr>\n",
       "      <th>9998</th>\n",
       "      <td>772</td>\n",
       "      <td>42</td>\n",
       "      <td>3.0</td>\n",
       "      <td>75075.31</td>\n",
       "      <td>2</td>\n",
       "      <td>1</td>\n",
       "      <td>0</td>\n",
       "      <td>92888.52</td>\n",
       "      <td>1</td>\n",
       "      <td>1</td>\n",
       "      <td>0</td>\n",
       "      <td>1</td>\n",
       "    </tr>\n",
       "    <tr>\n",
       "      <th>9999</th>\n",
       "      <td>792</td>\n",
       "      <td>28</td>\n",
       "      <td>5.0</td>\n",
       "      <td>130142.79</td>\n",
       "      <td>1</td>\n",
       "      <td>1</td>\n",
       "      <td>0</td>\n",
       "      <td>38190.78</td>\n",
       "      <td>0</td>\n",
       "      <td>0</td>\n",
       "      <td>0</td>\n",
       "      <td>0</td>\n",
       "    </tr>\n",
       "  </tbody>\n",
       "</table>\n",
       "<p>10000 rows × 12 columns</p>\n",
       "</div>"
      ],
      "text/plain": [
       "      credit_score  age  tenure    balance  num_of_products  has_cr_card  \\\n",
       "0              619   42     2.0       0.00                1            1   \n",
       "1              608   41     1.0   83807.86                1            0   \n",
       "2              502   42     8.0  159660.80                3            1   \n",
       "3              699   39     1.0       0.00                2            0   \n",
       "4              850   43     2.0  125510.82                1            1   \n",
       "...            ...  ...     ...        ...              ...          ...   \n",
       "9995           771   39     5.0       0.00                2            1   \n",
       "9996           516   35    10.0   57369.61                1            1   \n",
       "9997           709   36     7.0       0.00                1            0   \n",
       "9998           772   42     3.0   75075.31                2            1   \n",
       "9999           792   28     5.0  130142.79                1            1   \n",
       "\n",
       "      is_active_member  estimated_salary  exited  geography_Germany  \\\n",
       "0                    1         101348.88       1                  0   \n",
       "1                    1         112542.58       0                  0   \n",
       "2                    0         113931.57       1                  0   \n",
       "3                    0          93826.63       0                  0   \n",
       "4                    1          79084.10       0                  0   \n",
       "...                ...               ...     ...                ...   \n",
       "9995                 0          96270.64       0                  0   \n",
       "9996                 1         101699.77       0                  0   \n",
       "9997                 1          42085.58       1                  0   \n",
       "9998                 0          92888.52       1                  1   \n",
       "9999                 0          38190.78       0                  0   \n",
       "\n",
       "      geography_Spain  gender_Male  \n",
       "0                   0            0  \n",
       "1                   1            0  \n",
       "2                   0            0  \n",
       "3                   0            0  \n",
       "4                   1            0  \n",
       "...               ...          ...  \n",
       "9995                0            1  \n",
       "9996                0            1  \n",
       "9997                0            0  \n",
       "9998                0            1  \n",
       "9999                0            0  \n",
       "\n",
       "[10000 rows x 12 columns]"
      ]
     },
     "execution_count": 9,
     "metadata": {},
     "output_type": "execute_result"
    }
   ],
   "source": [
    "# преобразуем категориальные признаки в численные\n",
    "\n",
    "data_ohe = pd.get_dummies(data, drop_first=True)\n",
    "data_ohe"
   ]
  },
  {
   "cell_type": "markdown",
   "metadata": {},
   "source": [
    "С помощью техники One-Hot Encoding преобразовали категории в числа. В обработку попали два столбца - 'geography' и 'gender'."
   ]
  },
  {
   "cell_type": "markdown",
   "metadata": {},
   "source": [
    "### Деление данных на выборки"
   ]
  },
  {
   "cell_type": "code",
   "execution_count": 10,
   "metadata": {},
   "outputs": [
    {
     "name": "stdout",
     "output_type": "stream",
     "text": [
      "Количество строк в data_train: 6000\n",
      "Количество строк в data_test: 2000\n",
      "Количество строк в data_valid: 2000\n"
     ]
    }
   ],
   "source": [
    "data_train_x, data_test = train_test_split(data_ohe, test_size=0.2, random_state=12345)\n",
    "data_train, data_valid = train_test_split(data_train_x, test_size=0.25, random_state=12345)\n",
    "\n",
    "print(f'Количество строк в data_train: {data_train.shape[0]}')\n",
    "print(f'Количество строк в data_test: {data_test.shape[0]}')\n",
    "print(f'Количество строк в data_valid: {data_valid.shape[0]}')"
   ]
  },
  {
   "cell_type": "code",
   "execution_count": 11,
   "metadata": {},
   "outputs": [],
   "source": [
    "# определим признаки и целевые признаки\n",
    "\n",
    "features_train = data_train.drop(['exited'], axis=1)\n",
    "target_train = data_train['exited']\n",
    "\n",
    "features_test = data_test.drop(['exited'], axis=1)\n",
    "target_test = data_test['exited']\n",
    "\n",
    "features_valid = data_valid.drop(['exited'], axis=1)\n",
    "target_valid = data_valid['exited']\n"
   ]
  },
  {
   "cell_type": "markdown",
   "metadata": {},
   "source": [
    "Поделили таблицу на 3 выборки в соотношении 3:1:1. "
   ]
  },
  {
   "cell_type": "markdown",
   "metadata": {},
   "source": [
    "### Масштабирование признаков"
   ]
  },
  {
   "cell_type": "code",
   "execution_count": 12,
   "metadata": {},
   "outputs": [],
   "source": [
    "# для начала выделим численные признаки, которые необходимо масштабировать\n",
    "\n",
    "numeric_cols = ['credit_score', 'age', 'tenure', 'balance', \n",
    "                'num_of_products', 'estimated_salary']\n"
   ]
  },
  {
   "cell_type": "code",
   "execution_count": 13,
   "metadata": {},
   "outputs": [
    {
     "data": {
      "text/html": [
       "<div>\n",
       "<style scoped>\n",
       "    .dataframe tbody tr th:only-of-type {\n",
       "        vertical-align: middle;\n",
       "    }\n",
       "\n",
       "    .dataframe tbody tr th {\n",
       "        vertical-align: top;\n",
       "    }\n",
       "\n",
       "    .dataframe thead th {\n",
       "        text-align: right;\n",
       "    }\n",
       "</style>\n",
       "<table border=\"1\" class=\"dataframe\">\n",
       "  <thead>\n",
       "    <tr style=\"text-align: right;\">\n",
       "      <th></th>\n",
       "      <th>credit_score</th>\n",
       "      <th>age</th>\n",
       "      <th>tenure</th>\n",
       "      <th>balance</th>\n",
       "      <th>num_of_products</th>\n",
       "      <th>has_cr_card</th>\n",
       "      <th>is_active_member</th>\n",
       "      <th>estimated_salary</th>\n",
       "      <th>geography_Germany</th>\n",
       "      <th>geography_Spain</th>\n",
       "      <th>gender_Male</th>\n",
       "    </tr>\n",
       "  </thead>\n",
       "  <tbody>\n",
       "    <tr>\n",
       "      <th>492</th>\n",
       "      <td>-0.134048</td>\n",
       "      <td>-0.078068</td>\n",
       "      <td>-0.368414</td>\n",
       "      <td>0.076163</td>\n",
       "      <td>0.816929</td>\n",
       "      <td>0</td>\n",
       "      <td>1</td>\n",
       "      <td>0.331571</td>\n",
       "      <td>0</td>\n",
       "      <td>0</td>\n",
       "      <td>0</td>\n",
       "    </tr>\n",
       "    <tr>\n",
       "      <th>6655</th>\n",
       "      <td>-1.010798</td>\n",
       "      <td>0.494555</td>\n",
       "      <td>-0.007165</td>\n",
       "      <td>0.136391</td>\n",
       "      <td>-0.896909</td>\n",
       "      <td>1</td>\n",
       "      <td>1</td>\n",
       "      <td>-0.727858</td>\n",
       "      <td>0</td>\n",
       "      <td>0</td>\n",
       "      <td>1</td>\n",
       "    </tr>\n",
       "    <tr>\n",
       "      <th>4287</th>\n",
       "      <td>0.639554</td>\n",
       "      <td>1.353490</td>\n",
       "      <td>-1.452162</td>\n",
       "      <td>0.358435</td>\n",
       "      <td>-0.896909</td>\n",
       "      <td>1</td>\n",
       "      <td>1</td>\n",
       "      <td>-0.477006</td>\n",
       "      <td>1</td>\n",
       "      <td>0</td>\n",
       "      <td>1</td>\n",
       "    </tr>\n",
       "    <tr>\n",
       "      <th>42</th>\n",
       "      <td>-0.990168</td>\n",
       "      <td>2.116987</td>\n",
       "      <td>-1.090913</td>\n",
       "      <td>0.651725</td>\n",
       "      <td>-0.896909</td>\n",
       "      <td>1</td>\n",
       "      <td>1</td>\n",
       "      <td>-0.100232</td>\n",
       "      <td>0</td>\n",
       "      <td>0</td>\n",
       "      <td>0</td>\n",
       "    </tr>\n",
       "    <tr>\n",
       "      <th>8178</th>\n",
       "      <td>0.567351</td>\n",
       "      <td>0.685430</td>\n",
       "      <td>0.715334</td>\n",
       "      <td>0.813110</td>\n",
       "      <td>0.816929</td>\n",
       "      <td>1</td>\n",
       "      <td>1</td>\n",
       "      <td>0.801922</td>\n",
       "      <td>0</td>\n",
       "      <td>0</td>\n",
       "      <td>0</td>\n",
       "    </tr>\n",
       "  </tbody>\n",
       "</table>\n",
       "</div>"
      ],
      "text/plain": [
       "      credit_score       age    tenure   balance  num_of_products  \\\n",
       "492      -0.134048 -0.078068 -0.368414  0.076163         0.816929   \n",
       "6655     -1.010798  0.494555 -0.007165  0.136391        -0.896909   \n",
       "4287      0.639554  1.353490 -1.452162  0.358435        -0.896909   \n",
       "42       -0.990168  2.116987 -1.090913  0.651725        -0.896909   \n",
       "8178      0.567351  0.685430  0.715334  0.813110         0.816929   \n",
       "\n",
       "      has_cr_card  is_active_member  estimated_salary  geography_Germany  \\\n",
       "492             0                 1          0.331571                  0   \n",
       "6655            1                 1         -0.727858                  0   \n",
       "4287            1                 1         -0.477006                  1   \n",
       "42              1                 1         -0.100232                  0   \n",
       "8178            1                 1          0.801922                  0   \n",
       "\n",
       "      geography_Spain  gender_Male  \n",
       "492                 0            0  \n",
       "6655                0            1  \n",
       "4287                0            1  \n",
       "42                  0            0  \n",
       "8178                0            0  "
      ]
     },
     "metadata": {},
     "output_type": "display_data"
    }
   ],
   "source": [
    "# масштабируем признаки выборок\n",
    "\n",
    "pd.options.mode.chained_assignment = None\n",
    "\n",
    "scaler = StandardScaler()\n",
    "scaler.fit(features_train[numeric_cols]) \n",
    "\n",
    "features_train[numeric_cols] = scaler.transform(features_train[numeric_cols])\n",
    "features_test[numeric_cols] = scaler.transform(features_test[numeric_cols])\n",
    "features_valid[numeric_cols] = scaler.transform(features_valid[numeric_cols])\n",
    "\n",
    "\n",
    "display(features_train.head())"
   ]
  },
  {
   "cell_type": "markdown",
   "metadata": {},
   "source": [
    "Масштабировали признаки, чтобы избежать ошибок с переоценкой некоторых признаков."
   ]
  },
  {
   "cell_type": "markdown",
   "metadata": {},
   "source": [
    "## Исследование задачи"
   ]
  },
  {
   "cell_type": "code",
   "execution_count": 14,
   "metadata": {},
   "outputs": [
    {
     "name": "stdout",
     "output_type": "stream",
     "text": [
      "0    4781\n",
      "1    1219\n",
      "Name: exited, dtype: int64\n",
      "\n"
     ]
    },
    {
     "data": {
      "image/png": "[encoded data removed]",
      "text/plain": [
       "<Figure size 360x360 with 1 Axes>"
      ]
     },
     "metadata": {
      "needs_background": "light"
     },
     "output_type": "display_data"
    }
   ],
   "source": [
    "# проверим соотношение классов на тренировочной выборке\n",
    "\n",
    "xx = target_train.value_counts()\n",
    "print(xx)\n",
    "print()\n",
    "ax = target_train.value_counts().plot(kind='bar', figsize=(5, 5), fontsize=10)\n",
    "ax.set_title('Exited values (0 = False, 1 = True)', size=15, pad=30)\n",
    "ax.set_ylabel('Number of exited clients', fontsize=12)\n",
    "\n",
    "plt.show()"
   ]
  },
  {
   "cell_type": "markdown",
   "metadata": {},
   "source": [
    "На графике явно виден дисбаланс классов в соотношении почти 4:1"
   ]
  },
  {
   "cell_type": "markdown",
   "metadata": {},
   "source": [
    "### Обучение модели для логистической регрессии"
   ]
  },
  {
   "cell_type": "code",
   "execution_count": 15,
   "metadata": {
    "scrolled": true
   },
   "outputs": [
    {
     "name": "stdout",
     "output_type": "stream",
     "text": [
      "Cреднее полноты и точности при дисбалансе: 0.30451127819548873\n",
      "\n",
      "AUC_ROC 0.77031690347931\n"
     ]
    }
   ],
   "source": [
    "model_log = LogisticRegression(random_state=12345, solver='liblinear')\n",
    "model_log.fit(features_train, target_train)\n",
    "predictions_log = model_log.predict(features_valid)\n",
    "f1_log = f1_score(target_valid, predictions_log)\n",
    "\n",
    "\n",
    "probabilities_log = model_log.predict_proba(features_valid)\n",
    "probabilities_one_log = probabilities_log[:, 1]\n",
    "auc_roc_log = roc_auc_score(target_valid, probabilities_one_log)\n",
    "\n",
    "print('Cреднее полноты и точности при дисбалансе:', f1_log)\n",
    "\n",
    "# выведем AUC_ROC\n",
    "print()\n",
    "print(\"AUC_ROC\", auc_roc_log)"
   ]
  },
  {
   "cell_type": "code",
   "execution_count": 16,
   "metadata": {},
   "outputs": [
    {
     "data": {
      "image/png": "[encoded data removed]",
      "text/plain": [
       "<Figure size 432x432 with 1 Axes>"
      ]
     },
     "metadata": {
      "needs_background": "light"
     },
     "output_type": "display_data"
    }
   ],
   "source": [
    "# построим график AUC_ROC для логистической регрессии\n",
    "\n",
    "fpr, tpr, thresholds = roc_curve(target_valid, probabilities_one_log)\n",
    "\n",
    "plt.figure(figsize=(6, 6))\n",
    "\n",
    "plt.plot(fpr, tpr)\n",
    "\n",
    "plt.plot([0, 1], [0, 1], linestyle='--')\n",
    "plt.xlim([0.0, 1.0])\n",
    "plt.ylim([0.0, 1.0])\n",
    "plt.xlabel('False Positive Rate')\n",
    "plt.ylabel('True Positive Rate')\n",
    "plt.title('ROC-кривая')\n",
    "plt.show()"
   ]
  },
  {
   "cell_type": "markdown",
   "metadata": {},
   "source": [
    "### Обучение модели для решающего дерева"
   ]
  },
  {
   "cell_type": "code",
   "execution_count": 17,
   "metadata": {},
   "outputs": [
    {
     "name": "stdout",
     "output_type": "stream",
     "text": [
      "Cреднее полноты и точности лучшей модели при дисбалансе: 0.5583596214511041 Глубина: 9\n",
      "\n",
      "AUC_ROC 0.8231010349393358\n"
     ]
    }
   ],
   "source": [
    "best_model_tree = None\n",
    "best_result_tree = 0\n",
    "for depth in range(1, 10):\n",
    "    model_tree = DecisionTreeClassifier(random_state=12345, max_depth=depth)\n",
    "    model_tree.fit(features_train, target_train)\n",
    "    predictions_tree = model_tree.predict(features_valid)\n",
    "    f1_result = f1_score(target_valid, predictions_tree)\n",
    "    \n",
    "    if f1_result > best_result_tree:\n",
    "        best_depth = depth\n",
    "        best_model_tree = model_tree\n",
    "        best_result_tree = f1_result\n",
    "        \n",
    "        probabilities_tree = model_tree.predict_proba(features_valid)\n",
    "        probabilities_one_tree = probabilities_tree[:, 1]\n",
    "        auc_roc_tree = roc_auc_score(target_valid, probabilities_one_tree)\n",
    "\n",
    "        \n",
    "print(\"Cреднее полноты и точности лучшей модели при дисбалансе:\", best_result_tree, \"Глубина:\", depth)\n",
    "\n",
    "# выведем AUC_ROC\n",
    "print()\n",
    "print(\"AUC_ROC\", auc_roc_tree)"
   ]
  },
  {
   "cell_type": "code",
   "execution_count": 18,
   "metadata": {},
   "outputs": [
    {
     "data": {
      "image/png": "[encoded data removed]",
      "text/plain": [
       "<Figure size 432x432 with 1 Axes>"
      ]
     },
     "metadata": {
      "needs_background": "light"
     },
     "output_type": "display_data"
    }
   ],
   "source": [
    "# построим график AUC_ROC для решающего дерева\n",
    "\n",
    "fpr, tpr, thresholds = roc_curve(target_valid, probabilities_one_tree)\n",
    "\n",
    "plt.figure(figsize=(6, 6))\n",
    "\n",
    "plt.plot(fpr, tpr)\n",
    "\n",
    "plt.plot([0, 1], [0, 1], linestyle='--')\n",
    "plt.xlim([0.0, 1.0])\n",
    "plt.ylim([0.0, 1.0])\n",
    "plt.xlabel('False Positive Rate')\n",
    "plt.ylabel('True Positive Rate')\n",
    "plt.title('ROC-кривая')\n",
    "plt.show()"
   ]
  },
  {
   "cell_type": "markdown",
   "metadata": {},
   "source": [
    "### Обучение модели для случайного леса"
   ]
  },
  {
   "cell_type": "code",
   "execution_count": 19,
   "metadata": {
    "scrolled": true
   },
   "outputs": [
    {
     "name": "stdout",
     "output_type": "stream",
     "text": [
      "Cреднее полноты и точности лучшей модели при дисбалансе: 0.5540983606557377 Глубина: 9 Количество деревьев: 81\n",
      "\n",
      "AUC_ROC 0.8402480293871271\n"
     ]
    }
   ],
   "source": [
    "best_model_forest = None\n",
    "best_result_forest = 0\n",
    "for est in range(1, 85, 10):\n",
    "    for depth in (range(1, 10)):\n",
    "        model_forest = RandomForestClassifier(random_state=12345, n_estimators=est, max_depth=depth)\n",
    "        model_forest.fit(features_train, target_train)\n",
    "        predictions_forest = model_forest.predict(features_valid)\n",
    "        result_forest = model_forest.score(features_valid, target_valid)\n",
    "        result_forest = f1_score(target_valid, predictions_forest)\n",
    "\n",
    "        if result_forest > best_result_forest:\n",
    "            best_depth = depth\n",
    "            best_est = est\n",
    "            best_model_forest = model_forest\n",
    "            best_result_forest = result_forest\n",
    "            \n",
    "            probabilities_forest = model_forest.predict_proba(features_valid)\n",
    "            probabilities_one_forest = probabilities_forest[:, 1]\n",
    "            auc_roc_forest = roc_auc_score(target_valid, probabilities_one_forest)\n",
    "        \n",
    "\n",
    "print(\"Cреднее полноты и точности лучшей модели при дисбалансе:\", best_result_forest, \"Глубина:\", depth, \n",
    "      \"Количество деревьев:\", est)\n",
    "\n",
    "# выведем AUC_ROC\n",
    "print()\n",
    "print(\"AUC_ROC\", auc_roc_forest)"
   ]
  },
  {
   "cell_type": "code",
   "execution_count": 20,
   "metadata": {},
   "outputs": [
    {
     "data": {
      "image/png": "[encoded data removed]",
      "text/plain": [
       "<Figure size 432x432 with 1 Axes>"
      ]
     },
     "metadata": {
      "needs_background": "light"
     },
     "output_type": "display_data"
    }
   ],
   "source": [
    "# построим график AUC_ROC для решающего дерева\n",
    "\n",
    "fpr, tpr, thresholds = roc_curve(target_valid, probabilities_one_forest)\n",
    "\n",
    "plt.figure(figsize=(6, 6))\n",
    "\n",
    "plt.plot(fpr, tpr)\n",
    "\n",
    "plt.plot([0, 1], [0, 1], linestyle='--')\n",
    "plt.xlim([0.0, 1.0])\n",
    "plt.ylim([0.0, 1.0])\n",
    "plt.xlabel('False Positive Rate')\n",
    "plt.ylabel('True Positive Rate')\n",
    "plt.title('ROC-кривая')\n",
    "plt.show()"
   ]
  },
  {
   "cell_type": "markdown",
   "metadata": {},
   "source": [
    "**Вывод**"
   ]
  },
  {
   "cell_type": "markdown",
   "metadata": {},
   "source": [
    "Классы несбалансированны в соотношении примерно 4:1\n",
    "\n",
    "После обучения нескольких моделей при дисбалансе получили слудкющие значения метрик:\n",
    "\n",
    "1. Для логистической регрессии:\n",
    "- f1-мера - 0.30\n",
    "- AUC_ROC - 0.77\n",
    "\n",
    "F1-мера почти в половину меньше AUC_ROC, то есть кривая ошибок у нас относительно хорошая, а прогноз положительных ответов очень низкий.\n",
    "\n",
    "2. Для решающего дерева:\n",
    "- f1-мера - 0.56\n",
    "- AUC_ROC - 0.78\n",
    "\n",
    "F1-мера намного лучше чем в первой модели, модель обучается и предсказывает ответы неплохо, AUC_ROC такой же как и логистической регрессии.\n",
    "   \n",
    "3. Для случайного леса:\n",
    "- f1-мера - 0.55\n",
    "- AUC_ROC - 0.85\n",
    "\n",
    "F1-мера почти не изменилась - модель обучается и предсказывает ответы как и в решающем дереве, значение AUC_ROC выросло и стремится к 1 - доля верно предсказанных объектов увеличилась.\n",
    "\n",
    "\n",
    "Исходя из полученных значений по трем моделям нам походит решающее дерево и случайный лес. Также ROC-кривые этих моделей выглядят лучше, чем у логистической регрессии.\n",
    "Можно поробовать улучшить обучающую выборку увеличив ее или уменьшив, также учтем дисбаланс."
   ]
  },
  {
   "cell_type": "markdown",
   "metadata": {},
   "source": [
    "## Борьба с дисбалансом"
   ]
  },
  {
   "cell_type": "code",
   "execution_count": 21,
   "metadata": {},
   "outputs": [],
   "source": [
    "# напишем функцию для увеличения выборки\n",
    "\n",
    "def upsample(features, target, repeat):\n",
    "    features_zeros = features[target == 0]\n",
    "    features_ones = features[target == 1]\n",
    "    target_zeros = target[target == 0]\n",
    "    target_ones = target[target == 1]\n",
    "\n",
    "    features_upsampled = pd.concat([features_zeros] + [features_ones] * repeat)\n",
    "    target_upsampled = pd.concat([target_zeros] + [target_ones] * repeat)\n",
    "    \n",
    "    features_upsampled, target_upsampled = shuffle(\n",
    "        features_upsampled, target_upsampled, random_state=12345)\n",
    "    \n",
    "    return features_upsampled, target_upsampled"
   ]
  },
  {
   "cell_type": "code",
   "execution_count": 22,
   "metadata": {},
   "outputs": [],
   "source": [
    "# напишем функцию для уменьшения выборки\n",
    "\n",
    "def downsample(features, target, fraction):\n",
    "    features_zeros = features[target == 0]\n",
    "    features_ones = features[target == 1]\n",
    "    target_zeros = target[target == 0]\n",
    "    target_ones = target[target == 1]\n",
    "\n",
    "    features_downsampled = pd.concat(\n",
    "        [features_zeros.sample(frac=fraction, random_state=12345)] + [features_ones])\n",
    "    target_downsampled = pd.concat(\n",
    "        [target_zeros.sample(frac=fraction, random_state=12345)] + [target_ones])\n",
    "    \n",
    "    features_downsampled, target_downsampled = shuffle(\n",
    "        features_downsampled, target_downsampled, random_state=12345)\n",
    "    \n",
    "    return features_downsampled, target_downsampled"
   ]
  },
  {
   "cell_type": "markdown",
   "metadata": {},
   "source": [
    "### Решающее дерево"
   ]
  },
  {
   "cell_type": "code",
   "execution_count": 23,
   "metadata": {},
   "outputs": [
    {
     "name": "stdout",
     "output_type": "stream",
     "text": [
      "Cреднее полноты и точности лучшей модели при дисбалансе: 0.5587044534412956 Глубина: 6\n",
      "\n",
      "AUC_ROC 0.8090671240258203\n"
     ]
    }
   ],
   "source": [
    "# проверим как влияет параметр class_weight на показатели классификации\n",
    "\n",
    "best_model_tree_balanced = None\n",
    "best_result_tree_balanced = 0\n",
    "for depth in range(1, 10):\n",
    "    model_tree_balanced = DecisionTreeClassifier(random_state=12345, max_depth=depth, class_weight='balanced')\n",
    "    model_tree_balanced.fit(features_train, target_train)\n",
    "    predictions_tree_balanced = model_tree_balanced.predict(features_valid)\n",
    "    f1_result_balanced = f1_score(target_valid, predictions_tree_balanced)\n",
    "    \n",
    "    if f1_result_balanced > best_result_tree_balanced:\n",
    "        best_depth = depth\n",
    "        best_model_tree_balanced = model_tree_balanced\n",
    "        best_result_tree_balanced = f1_result_balanced\n",
    "        \n",
    "        probabilities_tree_balanced = model_tree_balanced.predict_proba(features_valid)\n",
    "        probabilities_one_tree_balanced = probabilities_tree_balanced[:, 1]\n",
    "        auc_roc_tree_balanced = roc_auc_score(target_valid, probabilities_one_tree_balanced)\n",
    "\n",
    "        \n",
    "print(\"Cреднее полноты и точности лучшей модели при дисбалансе:\", best_result_tree_balanced, \"Глубина:\", best_depth)\n",
    "\n",
    "# выведем AUC_ROC\n",
    "print()\n",
    "print(\"AUC_ROC\", auc_roc_tree_balanced)"
   ]
  },
  {
   "cell_type": "markdown",
   "metadata": {},
   "source": [
    "С учетом дисбаланса f1-мера не изменилась, AUC_ROC - увеличилось."
   ]
  },
  {
   "cell_type": "code",
   "execution_count": 24,
   "metadata": {},
   "outputs": [
    {
     "data": {
      "image/png": "[encoded data removed]",
      "text/plain": [
       "<Figure size 432x432 with 1 Axes>"
      ]
     },
     "metadata": {
      "needs_background": "light"
     },
     "output_type": "display_data"
    }
   ],
   "source": [
    "# построим график AUC_ROC для решающего дерева\n",
    "\n",
    "fpr, tpr, thresholds = roc_curve(target_valid, probabilities_one_tree_balanced)\n",
    "\n",
    "plt.figure(figsize=(6, 6))\n",
    "\n",
    "plt.plot(fpr, tpr)\n",
    "\n",
    "plt.plot([0, 1], [0, 1], linestyle='--')\n",
    "plt.xlim([0.0, 1.0])\n",
    "plt.ylim([0.0, 1.0])\n",
    "plt.xlabel('False Positive Rate')\n",
    "plt.ylabel('True Positive Rate')\n",
    "plt.title('ROC-кривая')\n",
    "plt.show()"
   ]
  },
  {
   "cell_type": "code",
   "execution_count": 25,
   "metadata": {
    "scrolled": true
   },
   "outputs": [
    {
     "name": "stdout",
     "output_type": "stream",
     "text": [
      "Cреднее полноты и точности лучшей модели: 0.5587044534412956 Глубина: 6\n",
      "\n",
      "AUC_ROC 0.809054407830633\n"
     ]
    }
   ],
   "source": [
    "# применим функцию для увеличения выборки\n",
    "\n",
    "features_upsampled, target_upsampled = upsample(features_train, target_train, 4)\n",
    "\n",
    "best_model_tree_upsampled = None\n",
    "best_result_tree_upsampled = 0\n",
    "for depth in range(1, 10):\n",
    "    model_tree_upsampled = DecisionTreeClassifier(random_state=12345, max_depth=depth)\n",
    "    model_tree_upsampled.fit(features_upsampled, target_upsampled)\n",
    "    predictions_tree_upsampled = model_tree_upsampled.predict(features_valid)\n",
    "    f1_result_upsampled = f1_score(target_valid, predictions_tree_upsampled)\n",
    "    \n",
    "    if f1_result_upsampled > best_result_tree_upsampled:\n",
    "        best_depth = depth\n",
    "        best_model_tree_upsampled = model_tree_upsampled\n",
    "        best_result_tree_upsampled = f1_result_upsampled\n",
    "        \n",
    "        probabilities_tree_upsampled = model_tree_upsampled.predict_proba(features_valid)\n",
    "        probabilities_one_tree_upsampled = probabilities_tree_upsampled[:, 1]\n",
    "        auc_roc_tree_upsampled = roc_auc_score(target_valid, probabilities_one_tree_upsampled)\n",
    "\n",
    "        \n",
    "print(\"Cреднее полноты и точности лучшей модели:\", best_result_tree_upsampled, \"Глубина:\", best_depth)\n",
    "\n",
    "# выведем AUC_ROC\n",
    "print()\n",
    "print(\"AUC_ROC\", auc_roc_tree_upsampled)"
   ]
  },
  {
   "cell_type": "code",
   "execution_count": 26,
   "metadata": {},
   "outputs": [
    {
     "data": {
      "image/png": "[encoded data removed]",
      "text/plain": [
       "<Figure size 432x432 with 1 Axes>"
      ]
     },
     "metadata": {
      "needs_background": "light"
     },
     "output_type": "display_data"
    }
   ],
   "source": [
    "# построим график AUC_ROC для решающего дерева\n",
    "\n",
    "fpr, tpr, thresholds = roc_curve(target_valid, probabilities_one_tree_upsampled)\n",
    "\n",
    "plt.figure(figsize=(6, 6))\n",
    "\n",
    "plt.plot(fpr, tpr)\n",
    "\n",
    "plt.plot([0, 1], [0, 1], linestyle='--')\n",
    "plt.xlim([0.0, 1.0])\n",
    "plt.ylim([0.0, 1.0])\n",
    "plt.xlabel('False Positive Rate')\n",
    "plt.ylabel('True Positive Rate')\n",
    "plt.title('ROC-кривая')\n",
    "plt.show()"
   ]
  },
  {
   "cell_type": "code",
   "execution_count": 27,
   "metadata": {
    "scrolled": true
   },
   "outputs": [
    {
     "name": "stdout",
     "output_type": "stream",
     "text": [
      "Cреднее полноты и точности лучшей модели: 0.5493482309124766 Глубина: 7\n",
      "\n",
      "AUC_ROC 0.8143546769371137\n"
     ]
    }
   ],
   "source": [
    "# применим функцию для уменьшения выборки\n",
    "\n",
    "features_downsampled, target_downsampled = downsample(features_train, target_train, .25)\n",
    "\n",
    "best_model_tree_downsampled = None\n",
    "best_result_tree_downsampled = 0\n",
    "for depth in range(1, 10):\n",
    "    model_tree_downsampled = DecisionTreeClassifier(random_state=12345, max_depth=depth)\n",
    "    model_tree_downsampled.fit(features_downsampled, target_downsampled)\n",
    "    predictions_tree_downsampled = model_tree_downsampled.predict(features_valid)\n",
    "    f1_result_downsampled = f1_score(target_valid, predictions_tree_downsampled)\n",
    "    \n",
    "    if f1_result_downsampled > best_result_tree_downsampled:\n",
    "        best_depth = depth\n",
    "        best_model_tree_downsampled = model_tree_downsampled\n",
    "        best_result_tree_downsampled = f1_result_downsampled\n",
    "        \n",
    "        probabilities_tree_downsampled = model_tree_downsampled.predict_proba(features_valid)\n",
    "        probabilities_one_tree_downsampled = probabilities_tree_downsampled[:, 1]\n",
    "        auc_roc_tree_downsampled = roc_auc_score(target_valid, probabilities_one_tree_downsampled)\n",
    "\n",
    "print(\"Cреднее полноты и точности лучшей модели:\", best_result_tree_downsampled, \"Глубина:\", best_depth)\n",
    "\n",
    "# выведем AUC_ROC\n",
    "print()\n",
    "print(\"AUC_ROC\", auc_roc_tree_downsampled)\n"
   ]
  },
  {
   "cell_type": "code",
   "execution_count": 28,
   "metadata": {},
   "outputs": [
    {
     "data": {
      "image/png": "[encoded data removed]",
      "text/plain": [
       "<Figure size 432x432 with 1 Axes>"
      ]
     },
     "metadata": {
      "needs_background": "light"
     },
     "output_type": "display_data"
    }
   ],
   "source": [
    "# построим график AUC_ROC для решающего дерева\n",
    "\n",
    "fpr, tpr, thresholds = roc_curve(target_valid, probabilities_one_tree_downsampled)\n",
    "\n",
    "plt.figure(figsize=(6, 6))\n",
    "\n",
    "plt.plot(fpr, tpr)\n",
    "\n",
    "plt.plot([0, 1], [0, 1], linestyle='--')\n",
    "plt.xlim([0.0, 1.0])\n",
    "plt.ylim([0.0, 1.0])\n",
    "plt.xlabel('False Positive Rate')\n",
    "plt.ylabel('True Positive Rate')\n",
    "plt.title('ROC-кривая')\n",
    "plt.show()"
   ]
  },
  {
   "cell_type": "markdown",
   "metadata": {},
   "source": [
    "**Сбалансировав вес классов для решающего дерева получили f1-меру равной 0,56 и AUC_ROC - 0,81. При увеличении выборки значения f1-меры - 0,56 и AUC_ROC - 0,81. А при уменьшении стали немного меньше, f1-мера - 0,55 и AUC_ROC - 0,81.**"
   ]
  },
  {
   "cell_type": "markdown",
   "metadata": {},
   "source": [
    "### Случайный лес"
   ]
  },
  {
   "cell_type": "code",
   "execution_count": 29,
   "metadata": {},
   "outputs": [
    {
     "name": "stdout",
     "output_type": "stream",
     "text": [
      "Cреднее полноты и точности лучшей модели: 0.5923913043478262 Глубина: 11 Количество деревьев: 49\n",
      "\n",
      "AUC_ROC 0.8521170080700154\n"
     ]
    }
   ],
   "source": [
    "# проверим как влияет параметр class_weight на показатели классификации\n",
    "\n",
    "best_model_forest_balanced = None\n",
    "best_result_forest_balanced = 0\n",
    "for est in range(1, 100, 16):\n",
    "    for depth in (range(1, 16)):\n",
    "        model_forest_balanced  = RandomForestClassifier(random_state=12345, n_estimators=est,\n",
    "                                                    max_depth=depth, class_weight='balanced')\n",
    "        model_forest_balanced.fit(features_train, target_train)\n",
    "        predictions_forest_balanced = model_forest_balanced.predict(features_valid)\n",
    "        f1_result_forest_balanced = f1_score(target_valid, predictions_forest_balanced)\n",
    "        \n",
    "        if f1_result_forest_balanced > best_result_forest_balanced:\n",
    "            best_depth = depth\n",
    "            best_est = est\n",
    "            best_model_forest_balanced = model_forest_balanced\n",
    "            best_result_forest_balanced = f1_result_forest_balanced\n",
    "            \n",
    "            probabilities_forest_balanced = model_forest_balanced.predict_proba(features_valid)\n",
    "            probabilities_one_forest_balanced = probabilities_forest_balanced[:, 1]\n",
    "            auc_roc_forest_balanced = roc_auc_score(target_valid, probabilities_one_forest_balanced)\n",
    "\n",
    "\n",
    "print(\"Cреднее полноты и точности лучшей модели:\", best_result_forest_balanced, \"Глубина:\", best_depth, \n",
    "      \"Количество деревьев:\", best_est)\n",
    "\n",
    "# выведем AUC_ROC\n",
    "print()\n",
    "print(\"AUC_ROC\", auc_roc_forest_balanced)\n"
   ]
  },
  {
   "cell_type": "code",
   "execution_count": 30,
   "metadata": {},
   "outputs": [
    {
     "data": {
      "image/png": "[encoded data removed]",
      "text/plain": [
       "<Figure size 432x432 with 1 Axes>"
      ]
     },
     "metadata": {
      "needs_background": "light"
     },
     "output_type": "display_data"
    }
   ],
   "source": [
    "# построим график AUC_ROC для решающего дерева\n",
    "\n",
    "fpr, tpr, thresholds = roc_curve(target_valid, probabilities_one_forest_balanced)\n",
    "\n",
    "plt.figure(figsize=(6, 6))\n",
    "\n",
    "plt.plot(fpr, tpr)\n",
    "\n",
    "plt.plot([0, 1], [0, 1], linestyle='--')\n",
    "plt.xlim([0.0, 1.0])\n",
    "plt.ylim([0.0, 1.0])\n",
    "plt.xlabel('False Positive Rate')\n",
    "plt.ylabel('True Positive Rate')\n",
    "plt.title('ROC-кривая')\n",
    "plt.show()"
   ]
  },
  {
   "cell_type": "code",
   "execution_count": 31,
   "metadata": {},
   "outputs": [
    {
     "name": "stdout",
     "output_type": "stream",
     "text": [
      "Cреднее полноты и точности лучшей модели: 0.6051282051282051 Глубина: 14 Количество деревьев: 97\n",
      "\n",
      "AUC_ROC 0.8482337999647125\n"
     ]
    }
   ],
   "source": [
    "# применим функцию для увеличения выборки\n",
    "\n",
    "features_upsampled, target_upsampled = upsample(features_train, target_train, 4)\n",
    "\n",
    "best_model_forest_upsampled = None\n",
    "best_result_forest_upsampled = 0\n",
    "for est in range(1, 100, 16):\n",
    "    for depth in (range(1, 16)):\n",
    "        model_forest_upsampled  = RandomForestClassifier(random_state=12345, n_estimators=est, max_depth=depth)\n",
    "        \n",
    "        model_forest_upsampled.fit(features_upsampled, target_upsampled)\n",
    "        predictions_forest_upsampled = model_forest_upsampled.predict(features_valid)\n",
    "        f1_result_forest_upsampled = f1_score(target_valid, predictions_forest_upsampled)\n",
    "        \n",
    "        if f1_result_forest_upsampled > best_result_forest_upsampled:\n",
    "            best_depth = depth\n",
    "            best_est = est\n",
    "            best_model_forest_upsampled = model_forest_upsampled\n",
    "            best_result_forest_upsampled = f1_result_forest_upsampled\n",
    "            \n",
    "            probabilities_forest_upsampled = model_forest_upsampled.predict_proba(features_valid)\n",
    "            probabilities_one_forest_upsampled= probabilities_forest_upsampled[:, 1]\n",
    "            auc_roc_forest_upsampled = roc_auc_score(target_valid, probabilities_one_forest_upsampled)\n",
    "\n",
    "\n",
    "print(\"Cреднее полноты и точности лучшей модели:\", best_result_forest_upsampled, \"Глубина:\", best_depth, \n",
    "      \"Количество деревьев:\", best_est)\n",
    "\n",
    "# выведем AUC_ROC\n",
    "print()\n",
    "print(\"AUC_ROC\", auc_roc_forest_upsampled)\n"
   ]
  },
  {
   "cell_type": "code",
   "execution_count": 32,
   "metadata": {},
   "outputs": [
    {
     "data": {
      "image/png": "[encoded data removed]",
      "text/plain": [
       "<Figure size 432x432 with 1 Axes>"
      ]
     },
     "metadata": {
      "needs_background": "light"
     },
     "output_type": "display_data"
    }
   ],
   "source": [
    "# построим график AUC_ROC для решающего дерева\n",
    "\n",
    "fpr, tpr, thresholds = roc_curve(target_valid, probabilities_one_forest_upsampled)\n",
    "\n",
    "plt.figure(figsize=(6, 6))\n",
    "\n",
    "plt.plot(fpr, tpr)\n",
    "\n",
    "plt.plot([0, 1], [0, 1], linestyle='--')\n",
    "plt.xlim([0.0, 1.0])\n",
    "plt.ylim([0.0, 1.0])\n",
    "plt.xlabel('False Positive Rate')\n",
    "plt.ylabel('True Positive Rate')\n",
    "plt.title('ROC-кривая')\n",
    "plt.show()"
   ]
  },
  {
   "cell_type": "code",
   "execution_count": 33,
   "metadata": {},
   "outputs": [
    {
     "name": "stdout",
     "output_type": "stream",
     "text": [
      "Cреднее полноты и точности лучшей модели: 0.5703200775945684 Глубина: 10 Количество деревьев: 81\n",
      "\n",
      "AUC_ROC 0.8483959314533499\n"
     ]
    }
   ],
   "source": [
    "# применим функцию для уменьшения выборки\n",
    "\n",
    "features_downsampled, target_downsampled = downsample(features_train, target_train, 0.25)\n",
    "\n",
    "best_model_forest_downsampled = None\n",
    "best_result_forest_downsampled = 0\n",
    "for est in range(1, 100, 16):\n",
    "    for depth in (range(1, 16)):\n",
    "        model_forest_downsampled  = RandomForestClassifier(random_state=12345, n_estimators=est, max_depth=depth)\n",
    "        \n",
    "        model_forest_downsampled.fit(features_downsampled, target_downsampled)\n",
    "        predictions_forest_downsampled = model_forest_downsampled.predict(features_valid)\n",
    "        f1_result_forest_downsampled = f1_score(target_valid, predictions_forest_downsampled)\n",
    "        \n",
    "        if f1_result_forest_downsampled > best_result_forest_downsampled:\n",
    "            best_depth = depth\n",
    "            best_est = est\n",
    "            best_model_forest_downsampled = model_forest_downsampled\n",
    "            best_result_forest_downsampled = f1_result_forest_downsampled\n",
    "            \n",
    "            probabilities_forest_downsampled = model_forest_downsampled.predict_proba(features_valid)\n",
    "            probabilities_one_forest_downsampled= probabilities_forest_downsampled[:, 1]\n",
    "            auc_roc_forest_downsampled = roc_auc_score(target_valid, probabilities_one_forest_downsampled)\n",
    "\n",
    "\n",
    "print(\"Cреднее полноты и точности лучшей модели:\", best_result_forest_downsampled, \"Глубина:\", best_depth, \n",
    "      \"Количество деревьев:\", best_est)\n",
    "\n",
    "# выведем AUC_ROC\n",
    "print()\n",
    "print(\"AUC_ROC\", auc_roc_forest_downsampled)\n"
   ]
  },
  {
   "cell_type": "code",
   "execution_count": 34,
   "metadata": {},
   "outputs": [
    {
     "data": {
      "image/png": "[encoded data removed]",
      "text/plain": [
       "<Figure size 432x432 with 1 Axes>"
      ]
     },
     "metadata": {
      "needs_background": "light"
     },
     "output_type": "display_data"
    }
   ],
   "source": [
    "# построим график AUC_ROC для решающего дерева\n",
    "\n",
    "fpr, tpr, thresholds = roc_curve(target_valid, probabilities_one_forest_downsampled)\n",
    "\n",
    "plt.figure(figsize=(6, 6))\n",
    "\n",
    "plt.plot(fpr, tpr)\n",
    "\n",
    "plt.plot([0, 1], [0, 1], linestyle='--')\n",
    "plt.xlim([0.0, 1.0])\n",
    "plt.ylim([0.0, 1.0])\n",
    "plt.xlabel('False Positive Rate')\n",
    "plt.ylabel('True Positive Rate')\n",
    "plt.title('ROC-кривая')\n",
    "plt.show()"
   ]
  },
  {
   "cell_type": "markdown",
   "metadata": {},
   "source": [
    "**Сбалансировав вес классов для случайного леса получили f1-меру равной 0,59 и AUC_ROC - 0,85 (показатели выше, чем у решающего дерева). При увеличении выборки значения f1-меры - 0,60 и AUC_ROC - 0,85. При уменьшении стали меньше, f1-мера - 0,57 и AUC_ROC - 0,85.**"
   ]
  },
  {
   "cell_type": "markdown",
   "metadata": {},
   "source": [
    "**Вывод**"
   ]
  },
  {
   "cell_type": "markdown",
   "metadata": {},
   "source": [
    "На этапе борьбы с дисбалансом получили следующие значения метрик:\n",
    "\n",
    "F1-мера почти не изменилась - модель обучается и предсказывает ответы как и в решающем дереве, значение AUC_ROC выросло и стремится к 1 - доля верно предсказанных объектов увеличилась.\n",
    "\n",
    "\n",
    "1. Для решающего дерева:\n",
    "- при взвешивании классов f1-мера - 0.56, AUC_ROC - 0.81\n",
    "- при увеличении положительных показателей выборки (1) f1-мера - 0.56, AUC_ROC - 0.81\n",
    "- при уменьшении отрицательных показателей выборки (0) f1-мера - 0.55, AUC_ROC - 0.81\n",
    "\n",
    "В каждом пункте значения почти одинаковые. F1-мера показывает, что модель обучается и предсказывает ответы, AUC_ROC дает долю верно предсказанных ответов и она увеличилась после применения нескольких методов борьбы с дисбалансом.\n",
    "\n",
    "   \n",
    "2. Для случайного леса:\n",
    "- при взвешивании классов f1-мера - 0.59, AUC_ROC - 0.85\n",
    "- при увеличении положительных показателей выборки (1) f1-мера - 0.60, AUC_ROC - 0.85\n",
    "- при уменьшении отрицательных показателей выборки (0) f1-мера - 0.57, AUC_ROC - 0.85\n",
    "\n",
    "Здесь значения различаются. Лучшие показатели получились при увеличении выборки и учете дисбаланса. F1-мера показывает, что модель обучается и предсказывает ответы довольно хорошо, AUC_ROC не меняется - доля предсказанных ответов все еще высокая.\n",
    "\n",
    "Для каждой модели построили графики AUC_ROC. Удовлетворяющие кривые получились у модели \"Случайный лес\". Согласно полученным значениям f1-меры, нам подходит модель случайного леса с учетом дисбаланса или с увеличением выборки."
   ]
  },
  {
   "cell_type": "markdown",
   "metadata": {},
   "source": [
    "## Тестирование модели"
   ]
  },
  {
   "cell_type": "markdown",
   "metadata": {},
   "source": [
    "### Учет дисбаланса"
   ]
  },
  {
   "cell_type": "code",
   "execution_count": 35,
   "metadata": {
    "scrolled": true
   },
   "outputs": [
    {
     "name": "stdout",
     "output_type": "stream",
     "text": [
      "Cреднее полноты и точности: 0.6222760290556901\n",
      "\n",
      "AUC_ROC 0.8592927192033004\n"
     ]
    }
   ],
   "source": [
    "# объединим обучающую и валидационную выборки\n",
    "features_total_train = pd.concat([features_train, features_valid])\n",
    "target_total_train = pd.concat([target_train, target_valid])\n",
    "\n",
    "# проверим модель с лучшими показателями на тестовой выборке\n",
    "\n",
    "model_forest_test = RandomForestClassifier(random_state=12345, n_estimators=49, \n",
    "                                              max_depth=11, class_weight='balanced')\n",
    "model_forest_test.fit(features_total_train, target_total_train)\n",
    "predictions_forest_test = model_forest_test.predict(features_test)\n",
    "f1_forest_test = f1_score(target_test, predictions_forest_test)\n",
    "\n",
    "print(\"Cреднее полноты и точности:\", f1_forest_test)\n",
    "print()\n",
    "\n",
    "# выведем AUC_ROC\n",
    "\n",
    "probabilities_forest_test = model_forest_test.predict_proba(features_test)\n",
    "probabilities_one_forest_test = probabilities_forest_test[:, 1]\n",
    "auc_roc_forest_test = roc_auc_score(target_test, probabilities_one_forest_test)\n",
    "\n",
    "print(\"AUC_ROC\", auc_roc_forest_test)\n"
   ]
  },
  {
   "cell_type": "code",
   "execution_count": 36,
   "metadata": {
    "scrolled": false
   },
   "outputs": [
    {
     "data": {
      "image/png": "[encoded data removed]",
      "text/plain": [
       "<Figure size 432x432 with 1 Axes>"
      ]
     },
     "metadata": {
      "needs_background": "light"
     },
     "output_type": "display_data"
    }
   ],
   "source": [
    "# построим график\n",
    "\n",
    "fpr, tpr, thresholds = roc_curve(target_test, probabilities_one_forest_test)\n",
    "\n",
    "plt.figure(figsize=(6, 6))\n",
    "\n",
    "plt.plot(fpr, tpr)\n",
    "\n",
    "plt.plot([0, 1], [0, 1], linestyle='--')\n",
    "plt.xlim([0.0, 1.0])\n",
    "plt.ylim([0.0, 1.0])\n",
    "plt.xlabel('False Positive Rate')\n",
    "plt.ylabel('True Positive Rate')\n",
    "plt.title('ROC-кривая')\n",
    "plt.show()"
   ]
  },
  {
   "cell_type": "markdown",
   "metadata": {},
   "source": [
    "### Увеличение выборки"
   ]
  },
  {
   "cell_type": "code",
   "execution_count": 37,
   "metadata": {},
   "outputs": [
    {
     "name": "stdout",
     "output_type": "stream",
     "text": [
      "Cреднее полноты и точности: 0.6282208588957054\n",
      "\n",
      "AUC_ROC 0.8611611935009847\n"
     ]
    }
   ],
   "source": [
    "features_upsampled, target_upsampled = upsample(features_total_train, target_total_train, 4)\n",
    "\n",
    "\n",
    "model_new_test = RandomForestClassifier(random_state=12345, n_estimators=97, max_depth=14)\n",
    "model_new_test.fit(features_upsampled, target_upsampled)\n",
    "predictions_new_test = model_new_test.predict(features_test)\n",
    "f1_new_test = f1_score(target_test, predictions_new_test)\n",
    "\n",
    "print(\"Cреднее полноты и точности:\", f1_new_test)\n",
    "print()\n",
    "\n",
    "# выведем AUC_ROC\n",
    "\n",
    "probabilities_new_test = model_new_test.predict_proba(features_test)\n",
    "probabilities_one_new_test = probabilities_new_test[:, 1]\n",
    "auc_roc_new_test = roc_auc_score(target_test, probabilities_one_new_test)\n",
    "\n",
    "print(\"AUC_ROC\", auc_roc_new_test)\n"
   ]
  },
  {
   "cell_type": "code",
   "execution_count": 38,
   "metadata": {
    "scrolled": false
   },
   "outputs": [
    {
     "data": {
      "image/png": "[encoded data removed]",
      "text/plain": [
       "<Figure size 432x432 with 1 Axes>"
      ]
     },
     "metadata": {
      "needs_background": "light"
     },
     "output_type": "display_data"
    }
   ],
   "source": [
    "# построим график\n",
    "\n",
    "fpr, tpr, thresholds = roc_curve(target_test, probabilities_one_new_test)\n",
    "\n",
    "plt.figure(figsize=(6, 6))\n",
    "\n",
    "plt.plot(fpr, tpr)\n",
    "\n",
    "plt.plot([0, 1], [0, 1], linestyle='--')\n",
    "plt.xlim([0.0, 1.0])\n",
    "plt.ylim([0.0, 1.0])\n",
    "plt.xlabel('False Positive Rate')\n",
    "plt.ylabel('True Positive Rate')\n",
    "plt.title('ROC-кривая')\n",
    "plt.show()"
   ]
  },
  {
   "cell_type": "markdown",
   "metadata": {},
   "source": [
    "**Тестирование модели с увeличением выборки показало значения для f1-меры - 0,65 и AUC_ROC - 0,86.**"
   ]
  },
  {
   "cell_type": "markdown",
   "metadata": {},
   "source": [
    "**Вывод**"
   ]
  },
  {
   "cell_type": "markdown",
   "metadata": {},
   "source": [
    "По исследованиям баланса и по итогам борбы с дисбалансом выбрана модель с наилучшим значениями f1-меры и AUC_ROC. \n",
    "\n",
    "Модель случайного леса на тестовой выборке вывела значения:\n",
    "- с учетом дисбаланса - f1 - 0.63, AUC_ROC - 0.86\n",
    "- при увеличении положительных показателей выборки - f1 - 0.63, AUC_ROC - 0.86\n",
    "\n",
    "Наша модель хорошо обучилась и при увеличении выборки с нужными гиперпараметрами (количество деревьев - 97, глубина - 14) и с учетом дисбаланса (параметры - количество деревьев - 49, глубина - 11). Это можно увидеть на графиках - ROC-кривая довольно высокая и стремится к единице. Значение f1-меры показывает, что прогноз положительных ответов (класс - 1) удался."
   ]
  }
 ],
 "metadata": {
  "ExecuteTimeLog": [
   {
    "duration": 1056,
    "start_time": "2022-03-28T09:19:43.372Z"
   },
   {
    "duration": 28,
    "start_time": "2022-03-28T09:19:44.430Z"
   },
   {
    "duration": 43,
    "start_time": "2022-03-28T09:19:50.499Z"
   },
   {
    "duration": 45,
    "start_time": "2022-03-28T13:16:02.797Z"
   },
   {
    "duration": 1696,
    "start_time": "2022-03-28T13:16:10.913Z"
   },
   {
    "duration": 64,
    "start_time": "2022-03-28T13:16:14.574Z"
   },
   {
    "duration": 58,
    "start_time": "2022-03-28T13:18:40.763Z"
   },
   {
    "duration": 42,
    "start_time": "2022-03-28T13:18:58.349Z"
   },
   {
    "duration": 37,
    "start_time": "2022-03-28T13:20:02.004Z"
   },
   {
    "duration": 45,
    "start_time": "2022-03-28T13:20:19.197Z"
   },
   {
    "duration": 43,
    "start_time": "2022-03-28T13:20:28.156Z"
   },
   {
    "duration": 56,
    "start_time": "2022-03-28T13:23:32.822Z"
   },
   {
    "duration": 48,
    "start_time": "2022-03-28T13:23:55.017Z"
   },
   {
    "duration": 51,
    "start_time": "2022-03-28T13:24:02.604Z"
   },
   {
    "duration": 51,
    "start_time": "2022-03-28T13:24:54.962Z"
   },
   {
    "duration": 50,
    "start_time": "2022-03-28T13:25:07.369Z"
   },
   {
    "duration": 59,
    "start_time": "2022-03-28T14:18:40.367Z"
   },
   {
    "duration": 75,
    "start_time": "2022-03-28T14:40:11.533Z"
   },
   {
    "duration": 1609,
    "start_time": "2022-03-28T14:40:16.086Z"
   },
   {
    "duration": 87,
    "start_time": "2022-03-28T14:40:18.556Z"
   },
   {
    "duration": 47,
    "start_time": "2022-03-28T14:40:20.881Z"
   },
   {
    "duration": 7,
    "start_time": "2022-03-28T14:41:32.595Z"
   },
   {
    "duration": 123,
    "start_time": "2022-03-28T14:42:26.578Z"
   },
   {
    "duration": 14,
    "start_time": "2022-03-28T14:42:32.596Z"
   },
   {
    "duration": 5,
    "start_time": "2022-03-28T14:44:01.582Z"
   },
   {
    "duration": 7,
    "start_time": "2022-03-28T14:44:11.052Z"
   },
   {
    "duration": 15,
    "start_time": "2022-03-28T14:45:09.224Z"
   },
   {
    "duration": 8,
    "start_time": "2022-03-28T14:45:33.065Z"
   },
   {
    "duration": 7,
    "start_time": "2022-03-28T14:46:10.395Z"
   },
   {
    "duration": 48,
    "start_time": "2022-03-28T14:48:10.498Z"
   },
   {
    "duration": 2653,
    "start_time": "2022-03-28T14:49:12.622Z"
   },
   {
    "duration": 54,
    "start_time": "2022-03-28T14:49:27.687Z"
   },
   {
    "duration": 8,
    "start_time": "2022-03-28T14:58:22.383Z"
   },
   {
    "duration": 34,
    "start_time": "2022-03-28T14:58:23.481Z"
   },
   {
    "duration": 606,
    "start_time": "2022-03-28T15:00:19.797Z"
   },
   {
    "duration": 0,
    "start_time": "2022-03-28T15:00:20.406Z"
   },
   {
    "duration": 6,
    "start_time": "2022-03-28T15:01:01.930Z"
   },
   {
    "duration": 112,
    "start_time": "2022-03-28T15:01:03.046Z"
   },
   {
    "duration": 9,
    "start_time": "2022-03-28T15:01:05.702Z"
   },
   {
    "duration": 6,
    "start_time": "2022-03-28T15:01:06.731Z"
   },
   {
    "duration": 19,
    "start_time": "2022-03-28T15:01:12.855Z"
   },
   {
    "duration": 12,
    "start_time": "2022-03-28T15:02:51.491Z"
   },
   {
    "duration": 13,
    "start_time": "2022-03-28T15:02:58.170Z"
   },
   {
    "duration": 17,
    "start_time": "2022-03-28T15:03:05.013Z"
   },
   {
    "duration": 15,
    "start_time": "2022-03-28T15:03:21.352Z"
   },
   {
    "duration": 39,
    "start_time": "2022-03-28T15:03:29.732Z"
   },
   {
    "duration": 7,
    "start_time": "2022-03-28T15:24:16.433Z"
   },
   {
    "duration": 21,
    "start_time": "2022-03-28T15:24:20.898Z"
   },
   {
    "duration": 13,
    "start_time": "2022-03-28T15:24:51.471Z"
   },
   {
    "duration": 10,
    "start_time": "2022-03-28T15:28:04.939Z"
   },
   {
    "duration": 40,
    "start_time": "2022-03-28T15:29:56.777Z"
   },
   {
    "duration": 12,
    "start_time": "2022-03-28T15:34:32.033Z"
   },
   {
    "duration": 11,
    "start_time": "2022-03-28T15:34:34.158Z"
   },
   {
    "duration": 14,
    "start_time": "2022-03-28T15:45:39.073Z"
   },
   {
    "duration": 10,
    "start_time": "2022-03-28T15:45:53.065Z"
   },
   {
    "duration": 29,
    "start_time": "2022-03-28T15:45:58.353Z"
   },
   {
    "duration": 13,
    "start_time": "2022-03-28T15:46:07.087Z"
   },
   {
    "duration": 1649,
    "start_time": "2022-03-29T04:43:11.767Z"
   },
   {
    "duration": 98,
    "start_time": "2022-03-29T04:43:15.863Z"
   },
   {
    "duration": 13,
    "start_time": "2022-03-29T04:43:18.498Z"
   },
   {
    "duration": 6,
    "start_time": "2022-03-29T04:43:19.797Z"
   },
   {
    "duration": 39,
    "start_time": "2022-03-29T04:43:20.528Z"
   },
   {
    "duration": 43,
    "start_time": "2022-03-29T04:43:32.146Z"
   },
   {
    "duration": 12,
    "start_time": "2022-03-29T04:43:58.633Z"
   },
   {
    "duration": 10,
    "start_time": "2022-03-29T04:44:00.744Z"
   },
   {
    "duration": 18,
    "start_time": "2022-03-29T04:44:05.789Z"
   },
   {
    "duration": 10,
    "start_time": "2022-03-29T05:06:22.356Z"
   },
   {
    "duration": 4,
    "start_time": "2022-03-29T05:12:59.314Z"
   },
   {
    "duration": 38,
    "start_time": "2022-03-29T05:13:10.538Z"
   },
   {
    "duration": 165,
    "start_time": "2022-03-29T05:16:24.340Z"
   },
   {
    "duration": 15,
    "start_time": "2022-03-29T05:16:39.521Z"
   },
   {
    "duration": 30,
    "start_time": "2022-03-29T05:16:45.004Z"
   },
   {
    "duration": 10,
    "start_time": "2022-03-29T05:17:00.017Z"
   },
   {
    "duration": 15,
    "start_time": "2022-03-29T05:17:20.632Z"
   },
   {
    "duration": 13,
    "start_time": "2022-03-29T05:17:55.143Z"
   },
   {
    "duration": 16,
    "start_time": "2022-03-29T05:18:00.462Z"
   },
   {
    "duration": 14,
    "start_time": "2022-03-29T05:18:10.692Z"
   },
   {
    "duration": 40,
    "start_time": "2022-03-29T05:22:41.612Z"
   },
   {
    "duration": 37,
    "start_time": "2022-03-29T05:22:56.453Z"
   },
   {
    "duration": 32,
    "start_time": "2022-03-29T05:23:08.225Z"
   },
   {
    "duration": 4,
    "start_time": "2022-03-29T05:23:10.593Z"
   },
   {
    "duration": 33,
    "start_time": "2022-03-29T05:23:11.249Z"
   },
   {
    "duration": 57,
    "start_time": "2022-03-29T05:23:33.667Z"
   },
   {
    "duration": 46,
    "start_time": "2022-03-29T05:25:16.850Z"
   },
   {
    "duration": 42,
    "start_time": "2022-03-29T05:25:52.805Z"
   },
   {
    "duration": 26,
    "start_time": "2022-03-29T05:26:17.561Z"
   },
   {
    "duration": 21,
    "start_time": "2022-03-29T05:26:57.622Z"
   },
   {
    "duration": 6,
    "start_time": "2022-03-29T05:28:07.571Z"
   },
   {
    "duration": 80,
    "start_time": "2022-03-29T05:28:08.427Z"
   },
   {
    "duration": 7,
    "start_time": "2022-03-29T05:28:10.330Z"
   },
   {
    "duration": 8,
    "start_time": "2022-03-29T05:28:11.114Z"
   },
   {
    "duration": 34,
    "start_time": "2022-03-29T05:28:18.841Z"
   },
   {
    "duration": 36,
    "start_time": "2022-03-29T05:29:36.174Z"
   },
   {
    "duration": 4,
    "start_time": "2022-03-29T05:29:44.013Z"
   },
   {
    "duration": 41,
    "start_time": "2022-03-29T05:29:45.016Z"
   },
   {
    "duration": 26,
    "start_time": "2022-03-29T05:37:15.356Z"
   },
   {
    "duration": 775,
    "start_time": "2022-03-29T05:38:41.733Z"
   },
   {
    "duration": 0,
    "start_time": "2022-03-29T05:39:02.217Z"
   },
   {
    "duration": 71805,
    "start_time": "2022-03-29T05:39:12.052Z"
   },
   {
    "duration": 2015,
    "start_time": "2022-03-29T05:41:09.711Z"
   },
   {
    "duration": 81,
    "start_time": "2022-03-29T05:41:11.729Z"
   },
   {
    "duration": 8,
    "start_time": "2022-03-29T05:41:11.813Z"
   },
   {
    "duration": 10,
    "start_time": "2022-03-29T05:41:11.823Z"
   },
   {
    "duration": 60,
    "start_time": "2022-03-29T05:41:11.836Z"
   },
   {
    "duration": 68342,
    "start_time": "2022-03-29T05:41:11.899Z"
   },
   {
    "duration": 47,
    "start_time": "2022-03-29T05:42:20.243Z"
   },
   {
    "duration": 4,
    "start_time": "2022-03-29T05:42:20.292Z"
   },
   {
    "duration": 51,
    "start_time": "2022-03-29T05:42:20.298Z"
   },
   {
    "duration": 59,
    "start_time": "2022-03-29T05:42:20.351Z"
   },
   {
    "duration": 14,
    "start_time": "2022-03-29T05:42:20.413Z"
   },
   {
    "duration": 18,
    "start_time": "2022-03-29T05:42:20.429Z"
   },
   {
    "duration": 26,
    "start_time": "2022-03-29T05:42:57.022Z"
   },
   {
    "duration": 10,
    "start_time": "2022-03-29T05:46:37.216Z"
   },
   {
    "duration": 39,
    "start_time": "2022-03-29T05:47:23.913Z"
   },
   {
    "duration": 37,
    "start_time": "2022-03-29T05:48:16.524Z"
   },
   {
    "duration": 10,
    "start_time": "2022-03-29T05:48:29.137Z"
   },
   {
    "duration": 10,
    "start_time": "2022-03-29T05:48:29.937Z"
   },
   {
    "duration": 6,
    "start_time": "2022-03-29T06:08:26.865Z"
   },
   {
    "duration": 71,
    "start_time": "2022-03-29T06:08:26.874Z"
   },
   {
    "duration": 8,
    "start_time": "2022-03-29T06:08:26.947Z"
   },
   {
    "duration": 8,
    "start_time": "2022-03-29T06:08:26.957Z"
   },
   {
    "duration": 35,
    "start_time": "2022-03-29T06:08:26.985Z"
   },
   {
    "duration": 25,
    "start_time": "2022-03-29T06:08:27.022Z"
   },
   {
    "duration": 68,
    "start_time": "2022-03-29T06:08:27.049Z"
   },
   {
    "duration": 10,
    "start_time": "2022-03-29T06:08:27.120Z"
   },
   {
    "duration": 10,
    "start_time": "2022-03-29T06:08:27.133Z"
   },
   {
    "duration": 46,
    "start_time": "2022-03-29T06:09:31.819Z"
   },
   {
    "duration": 24,
    "start_time": "2022-03-29T06:10:57.613Z"
   },
   {
    "duration": 24,
    "start_time": "2022-03-29T06:11:06.841Z"
   },
   {
    "duration": 173,
    "start_time": "2022-03-29T06:11:23.999Z"
   },
   {
    "duration": 18,
    "start_time": "2022-03-29T06:13:03.076Z"
   },
   {
    "duration": 14,
    "start_time": "2022-03-29T06:13:25.809Z"
   },
   {
    "duration": 15,
    "start_time": "2022-03-29T06:13:48.870Z"
   },
   {
    "duration": 7,
    "start_time": "2022-03-29T06:14:01.188Z"
   },
   {
    "duration": 96,
    "start_time": "2022-03-29T06:14:01.197Z"
   },
   {
    "duration": 8,
    "start_time": "2022-03-29T06:14:01.296Z"
   },
   {
    "duration": 22,
    "start_time": "2022-03-29T06:14:01.306Z"
   },
   {
    "duration": 41,
    "start_time": "2022-03-29T06:14:01.331Z"
   },
   {
    "duration": 31,
    "start_time": "2022-03-29T06:14:01.374Z"
   },
   {
    "duration": 37,
    "start_time": "2022-03-29T06:14:01.407Z"
   },
   {
    "duration": 39,
    "start_time": "2022-03-29T06:14:01.447Z"
   },
   {
    "duration": 14,
    "start_time": "2022-03-29T06:14:01.488Z"
   },
   {
    "duration": 8,
    "start_time": "2022-03-29T06:14:01.504Z"
   },
   {
    "duration": 4,
    "start_time": "2022-03-29T06:14:05.311Z"
   },
   {
    "duration": 53,
    "start_time": "2022-03-29T06:14:05.682Z"
   },
   {
    "duration": 4,
    "start_time": "2022-03-29T06:15:11.595Z"
   },
   {
    "duration": 47,
    "start_time": "2022-03-29T06:15:11.984Z"
   },
   {
    "duration": 109,
    "start_time": "2022-03-29T06:36:36.909Z"
   },
   {
    "duration": 16,
    "start_time": "2022-03-29T06:38:32.709Z"
   },
   {
    "duration": 14,
    "start_time": "2022-03-29T06:39:05.210Z"
   },
   {
    "duration": 15,
    "start_time": "2022-03-29T06:39:40.734Z"
   },
   {
    "duration": 16,
    "start_time": "2022-03-29T06:39:48.850Z"
   },
   {
    "duration": 16,
    "start_time": "2022-03-29T06:40:20.907Z"
   },
   {
    "duration": 15,
    "start_time": "2022-03-29T06:40:25.832Z"
   },
   {
    "duration": 14,
    "start_time": "2022-03-29T06:40:37.392Z"
   },
   {
    "duration": 14,
    "start_time": "2022-03-29T06:40:43.170Z"
   },
   {
    "duration": 14,
    "start_time": "2022-03-29T06:40:54.924Z"
   },
   {
    "duration": 15,
    "start_time": "2022-03-29T06:41:02.410Z"
   },
   {
    "duration": 14,
    "start_time": "2022-03-29T06:41:25.042Z"
   },
   {
    "duration": 10,
    "start_time": "2022-03-29T06:41:25.587Z"
   },
   {
    "duration": 4,
    "start_time": "2022-03-29T06:41:40.447Z"
   },
   {
    "duration": 46,
    "start_time": "2022-03-29T06:41:42.148Z"
   },
   {
    "duration": 1618,
    "start_time": "2022-03-29T08:44:15.075Z"
   },
   {
    "duration": 58,
    "start_time": "2022-03-29T08:44:16.695Z"
   },
   {
    "duration": 10,
    "start_time": "2022-03-29T08:44:16.755Z"
   },
   {
    "duration": 10,
    "start_time": "2022-03-29T08:44:16.767Z"
   },
   {
    "duration": 30,
    "start_time": "2022-03-29T08:44:16.780Z"
   },
   {
    "duration": 17,
    "start_time": "2022-03-29T08:44:16.812Z"
   },
   {
    "duration": 44,
    "start_time": "2022-03-29T08:44:16.830Z"
   },
   {
    "duration": 8,
    "start_time": "2022-03-29T08:44:16.875Z"
   },
   {
    "duration": 7,
    "start_time": "2022-03-29T08:44:16.885Z"
   },
   {
    "duration": 5,
    "start_time": "2022-03-29T08:44:16.893Z"
   },
   {
    "duration": 30,
    "start_time": "2022-03-29T08:44:16.900Z"
   },
   {
    "duration": 32,
    "start_time": "2022-03-29T08:44:45.106Z"
   },
   {
    "duration": 4,
    "start_time": "2022-03-29T08:52:05.974Z"
   },
   {
    "duration": 60,
    "start_time": "2022-03-29T08:52:05.980Z"
   },
   {
    "duration": 5,
    "start_time": "2022-03-29T08:52:06.042Z"
   },
   {
    "duration": 106,
    "start_time": "2022-03-29T08:52:07.850Z"
   },
   {
    "duration": 18,
    "start_time": "2022-03-29T08:52:18.900Z"
   },
   {
    "duration": 4,
    "start_time": "2022-03-29T08:52:29.672Z"
   },
   {
    "duration": 51,
    "start_time": "2022-03-29T08:52:29.678Z"
   },
   {
    "duration": 5,
    "start_time": "2022-03-29T08:52:29.731Z"
   },
   {
    "duration": 12,
    "start_time": "2022-03-29T08:52:31.585Z"
   },
   {
    "duration": 13,
    "start_time": "2022-03-29T08:52:53.941Z"
   },
   {
    "duration": 4,
    "start_time": "2022-03-29T08:52:59.382Z"
   },
   {
    "duration": 53,
    "start_time": "2022-03-29T08:52:59.388Z"
   },
   {
    "duration": 7,
    "start_time": "2022-03-29T08:52:59.443Z"
   },
   {
    "duration": 14,
    "start_time": "2022-03-29T08:52:59.452Z"
   },
   {
    "duration": 13,
    "start_time": "2022-03-29T08:53:35.926Z"
   },
   {
    "duration": 748,
    "start_time": "2022-03-29T08:54:30.718Z"
   },
   {
    "duration": 0,
    "start_time": "2022-03-29T08:54:31.468Z"
   },
   {
    "duration": 39,
    "start_time": "2022-03-29T08:54:34.453Z"
   },
   {
    "duration": 20,
    "start_time": "2022-03-29T08:54:37.412Z"
   },
   {
    "duration": 34,
    "start_time": "2022-03-29T08:54:41.082Z"
   },
   {
    "duration": 10,
    "start_time": "2022-03-29T08:54:46.952Z"
   },
   {
    "duration": 6,
    "start_time": "2022-03-29T08:54:47.702Z"
   },
   {
    "duration": 3,
    "start_time": "2022-03-29T08:54:50.569Z"
   },
   {
    "duration": 34,
    "start_time": "2022-03-29T08:54:53.157Z"
   },
   {
    "duration": 1194,
    "start_time": "2022-03-29T12:29:15.002Z"
   },
   {
    "duration": 55,
    "start_time": "2022-03-29T12:29:16.198Z"
   },
   {
    "duration": 5,
    "start_time": "2022-03-29T12:29:16.255Z"
   },
   {
    "duration": 6,
    "start_time": "2022-03-29T12:29:16.262Z"
   },
   {
    "duration": 26,
    "start_time": "2022-03-29T12:29:16.269Z"
   },
   {
    "duration": 22,
    "start_time": "2022-03-29T12:29:16.297Z"
   },
   {
    "duration": 7,
    "start_time": "2022-03-29T12:29:16.321Z"
   },
   {
    "duration": 6,
    "start_time": "2022-03-29T12:29:16.329Z"
   },
   {
    "duration": 3,
    "start_time": "2022-03-29T12:29:16.363Z"
   },
   {
    "duration": 31,
    "start_time": "2022-03-29T12:29:16.368Z"
   },
   {
    "duration": 96,
    "start_time": "2022-03-29T12:29:34.647Z"
   },
   {
    "duration": 4,
    "start_time": "2022-03-29T12:30:09.922Z"
   },
   {
    "duration": 66,
    "start_time": "2022-03-29T12:30:15.706Z"
   },
   {
    "duration": 17,
    "start_time": "2022-03-29T12:32:31.279Z"
   },
   {
    "duration": 18,
    "start_time": "2022-03-29T12:38:25.189Z"
   },
   {
    "duration": 60,
    "start_time": "2022-03-29T12:38:45.409Z"
   },
   {
    "duration": 18,
    "start_time": "2022-03-29T12:38:54.005Z"
   },
   {
    "duration": 9,
    "start_time": "2022-03-29T12:40:30.433Z"
   },
   {
    "duration": 5,
    "start_time": "2022-03-29T12:40:54.741Z"
   },
   {
    "duration": 33,
    "start_time": "2022-03-29T12:40:59.283Z"
   },
   {
    "duration": 19,
    "start_time": "2022-03-29T12:45:11.393Z"
   },
   {
    "duration": 20,
    "start_time": "2022-03-29T12:45:36.443Z"
   },
   {
    "duration": 18,
    "start_time": "2022-03-29T12:45:46.693Z"
   },
   {
    "duration": 12,
    "start_time": "2022-03-29T12:47:28.686Z"
   },
   {
    "duration": 12,
    "start_time": "2022-03-29T12:47:37.927Z"
   },
   {
    "duration": 227,
    "start_time": "2022-03-29T12:47:44.838Z"
   },
   {
    "duration": 10,
    "start_time": "2022-03-29T12:49:01.425Z"
   },
   {
    "duration": 39,
    "start_time": "2022-03-29T12:49:14.589Z"
   },
   {
    "duration": 11,
    "start_time": "2022-03-29T12:51:36.148Z"
   },
   {
    "duration": 4,
    "start_time": "2022-03-29T12:52:19.589Z"
   },
   {
    "duration": 33,
    "start_time": "2022-03-29T12:52:25.269Z"
   },
   {
    "duration": 4752,
    "start_time": "2022-03-29T12:52:28.084Z"
   },
   {
    "duration": 4622,
    "start_time": "2022-03-29T12:53:34.618Z"
   },
   {
    "duration": 12944,
    "start_time": "2022-03-29T12:54:19.452Z"
   },
   {
    "duration": 13352,
    "start_time": "2022-03-29T12:54:47.803Z"
   },
   {
    "duration": 171753,
    "start_time": "2022-03-29T12:55:20.963Z"
   },
   {
    "duration": 9,
    "start_time": "2022-03-29T12:59:42.040Z"
   },
   {
    "duration": 31,
    "start_time": "2022-03-29T12:59:49.620Z"
   },
   {
    "duration": 34,
    "start_time": "2022-03-29T13:02:18.201Z"
   },
   {
    "duration": 73675,
    "start_time": "2022-03-29T13:12:55.457Z"
   },
   {
    "duration": 131003,
    "start_time": "2022-03-29T13:14:24.097Z"
   },
   {
    "duration": 25,
    "start_time": "2022-03-29T13:20:51.887Z"
   },
   {
    "duration": 134452,
    "start_time": "2022-03-29T13:21:10.060Z"
   },
   {
    "duration": 25,
    "start_time": "2022-03-29T13:27:01.579Z"
   },
   {
    "duration": 18,
    "start_time": "2022-03-29T13:27:14.654Z"
   },
   {
    "duration": 21,
    "start_time": "2022-03-29T13:27:20.928Z"
   },
   {
    "duration": 32,
    "start_time": "2022-03-29T13:29:27.707Z"
   },
   {
    "duration": 11,
    "start_time": "2022-03-29T13:29:28.866Z"
   },
   {
    "duration": 39,
    "start_time": "2022-03-29T13:30:04.099Z"
   },
   {
    "duration": 11925,
    "start_time": "2022-03-29T13:31:12.985Z"
   },
   {
    "duration": 12564,
    "start_time": "2022-03-29T13:31:34.061Z"
   },
   {
    "duration": 24,
    "start_time": "2022-03-29T13:44:45.902Z"
   },
   {
    "duration": 25,
    "start_time": "2022-03-29T13:47:18.799Z"
   },
   {
    "duration": 25,
    "start_time": "2022-03-29T13:47:22.018Z"
   },
   {
    "duration": 18,
    "start_time": "2022-03-29T13:47:49.986Z"
   },
   {
    "duration": 19,
    "start_time": "2022-03-29T13:47:50.568Z"
   },
   {
    "duration": 32,
    "start_time": "2022-03-29T13:47:54.468Z"
   },
   {
    "duration": 35,
    "start_time": "2022-03-29T13:47:57.810Z"
   },
   {
    "duration": 22,
    "start_time": "2022-03-29T13:51:43.335Z"
   },
   {
    "duration": 32,
    "start_time": "2022-03-29T13:52:05.060Z"
   },
   {
    "duration": 20,
    "start_time": "2022-03-29T13:52:40.172Z"
   },
   {
    "duration": 19,
    "start_time": "2022-03-29T13:52:40.810Z"
   },
   {
    "duration": 34,
    "start_time": "2022-03-29T13:52:50.323Z"
   },
   {
    "duration": 34,
    "start_time": "2022-03-29T13:52:51.642Z"
   },
   {
    "duration": 679,
    "start_time": "2022-03-29T13:54:20.287Z"
   },
   {
    "duration": 744,
    "start_time": "2022-03-29T13:55:33.248Z"
   },
   {
    "duration": 719,
    "start_time": "2022-03-29T13:55:34.910Z"
   },
   {
    "duration": 30,
    "start_time": "2022-03-29T13:56:25.936Z"
   },
   {
    "duration": 36,
    "start_time": "2022-03-29T13:56:31.528Z"
   },
   {
    "duration": 340,
    "start_time": "2022-03-29T13:59:04.597Z"
   },
   {
    "duration": 146,
    "start_time": "2022-03-29T13:59:32.261Z"
   },
   {
    "duration": 104,
    "start_time": "2022-03-29T14:00:14.899Z"
   },
   {
    "duration": 170,
    "start_time": "2022-03-29T14:00:22.586Z"
   },
   {
    "duration": 442,
    "start_time": "2022-03-29T14:00:30.394Z"
   },
   {
    "duration": 428,
    "start_time": "2022-03-29T14:00:40.647Z"
   },
   {
    "duration": 319,
    "start_time": "2022-03-29T14:00:49.715Z"
   },
   {
    "duration": 57,
    "start_time": "2022-03-29T14:00:58.401Z"
   },
   {
    "duration": 101,
    "start_time": "2022-03-29T14:01:04.148Z"
   },
   {
    "duration": 315,
    "start_time": "2022-03-29T14:01:08.569Z"
   },
   {
    "duration": 162,
    "start_time": "2022-03-29T14:01:15.849Z"
   },
   {
    "duration": 217,
    "start_time": "2022-03-29T14:01:20.081Z"
   },
   {
    "duration": 108,
    "start_time": "2022-03-29T14:01:25.287Z"
   },
   {
    "duration": 425,
    "start_time": "2022-03-29T14:01:31.906Z"
   },
   {
    "duration": 144,
    "start_time": "2022-03-29T14:01:40.557Z"
   },
   {
    "duration": 49,
    "start_time": "2022-03-29T14:01:45.509Z"
   },
   {
    "duration": 49,
    "start_time": "2022-03-29T14:01:50.279Z"
   },
   {
    "duration": 265,
    "start_time": "2022-03-29T14:01:55.533Z"
   },
   {
    "duration": 220,
    "start_time": "2022-03-29T14:02:55.607Z"
   },
   {
    "duration": 1600,
    "start_time": "2022-03-29T14:18:08.263Z"
   },
   {
    "duration": 77,
    "start_time": "2022-03-29T14:18:09.865Z"
   },
   {
    "duration": 7,
    "start_time": "2022-03-29T14:18:09.944Z"
   },
   {
    "duration": 8,
    "start_time": "2022-03-29T14:18:09.953Z"
   },
   {
    "duration": 50,
    "start_time": "2022-03-29T14:18:09.963Z"
   },
   {
    "duration": 34,
    "start_time": "2022-03-29T14:18:10.015Z"
   },
   {
    "duration": 37,
    "start_time": "2022-03-29T14:18:10.051Z"
   },
   {
    "duration": 26,
    "start_time": "2022-03-29T14:18:10.090Z"
   },
   {
    "duration": 24,
    "start_time": "2022-03-29T14:18:10.118Z"
   },
   {
    "duration": 61,
    "start_time": "2022-03-29T14:18:10.144Z"
   },
   {
    "duration": 6,
    "start_time": "2022-03-29T14:19:38.926Z"
   },
   {
    "duration": 153,
    "start_time": "2022-03-29T14:19:46.136Z"
   },
   {
    "duration": 189,
    "start_time": "2022-03-29T14:20:50.093Z"
   },
   {
    "duration": 189,
    "start_time": "2022-03-29T14:23:00.700Z"
   },
   {
    "duration": 209,
    "start_time": "2022-03-29T14:23:44.875Z"
   },
   {
    "duration": 7,
    "start_time": "2022-03-29T14:23:50.277Z"
   },
   {
    "duration": 7,
    "start_time": "2022-03-29T14:24:11.783Z"
   },
   {
    "duration": 9,
    "start_time": "2022-03-29T14:24:43.817Z"
   },
   {
    "duration": 41,
    "start_time": "2022-03-29T14:25:09.244Z"
   },
   {
    "duration": 160,
    "start_time": "2022-03-29T14:25:42.927Z"
   },
   {
    "duration": 141,
    "start_time": "2022-03-29T14:27:52.143Z"
   },
   {
    "duration": 80,
    "start_time": "2022-03-29T14:28:29.013Z"
   },
   {
    "duration": 7,
    "start_time": "2022-03-29T14:29:41.559Z"
   },
   {
    "duration": 150,
    "start_time": "2022-03-29T14:30:45.444Z"
   },
   {
    "duration": 23,
    "start_time": "2022-03-29T14:30:57.927Z"
   },
   {
    "duration": 278,
    "start_time": "2022-03-29T14:31:12.326Z"
   },
   {
    "duration": 17007,
    "start_time": "2022-03-29T14:33:21.548Z"
   },
   {
    "duration": 229,
    "start_time": "2022-03-29T14:35:34.059Z"
   },
   {
    "duration": 189,
    "start_time": "2022-03-29T14:36:03.493Z"
   },
   {
    "duration": 278,
    "start_time": "2022-03-29T14:36:37.635Z"
   },
   {
    "duration": 1475,
    "start_time": "2022-03-29T14:56:44.625Z"
   },
   {
    "duration": 84,
    "start_time": "2022-03-29T14:56:46.103Z"
   },
   {
    "duration": 7,
    "start_time": "2022-03-29T14:56:46.190Z"
   },
   {
    "duration": 23,
    "start_time": "2022-03-29T14:56:46.200Z"
   },
   {
    "duration": 38,
    "start_time": "2022-03-29T14:56:46.225Z"
   },
   {
    "duration": 48,
    "start_time": "2022-03-29T14:56:46.265Z"
   },
   {
    "duration": 11,
    "start_time": "2022-03-29T14:56:46.316Z"
   },
   {
    "duration": 10,
    "start_time": "2022-03-29T14:56:46.330Z"
   },
   {
    "duration": 42,
    "start_time": "2022-03-29T14:56:46.342Z"
   },
   {
    "duration": 50,
    "start_time": "2022-03-29T14:56:46.387Z"
   },
   {
    "duration": 149,
    "start_time": "2022-03-29T14:56:46.440Z"
   },
   {
    "duration": 412,
    "start_time": "2022-03-29T14:56:46.592Z"
   },
   {
    "duration": 17101,
    "start_time": "2022-03-29T14:56:47.006Z"
   },
   {
    "duration": 12,
    "start_time": "2022-03-29T14:57:04.110Z"
   },
   {
    "duration": 259,
    "start_time": "2022-03-29T14:57:04.125Z"
   },
   {
    "duration": 300,
    "start_time": "2022-03-29T14:57:04.386Z"
   },
   {
    "duration": 17394,
    "start_time": "2022-03-29T14:57:04.688Z"
   },
   {
    "duration": 17027,
    "start_time": "2022-03-29T14:58:31.384Z"
   },
   {
    "duration": 155,
    "start_time": "2022-03-29T15:06:31.102Z"
   },
   {
    "duration": 7,
    "start_time": "2022-03-29T15:07:02.014Z"
   },
   {
    "duration": 153,
    "start_time": "2022-03-29T15:07:13.128Z"
   },
   {
    "duration": 234,
    "start_time": "2022-03-29T15:09:09.349Z"
   },
   {
    "duration": 6,
    "start_time": "2022-03-29T15:09:45.612Z"
   },
   {
    "duration": 73,
    "start_time": "2022-03-29T15:10:03.515Z"
   },
   {
    "duration": 207,
    "start_time": "2022-03-29T15:10:12.579Z"
   },
   {
    "duration": 96,
    "start_time": "2022-03-29T15:10:19.396Z"
   },
   {
    "duration": 93,
    "start_time": "2022-03-29T15:11:41.091Z"
   },
   {
    "duration": 289,
    "start_time": "2022-03-29T15:15:12.728Z"
   },
   {
    "duration": 69,
    "start_time": "2022-03-29T15:15:48.217Z"
   },
   {
    "duration": 289,
    "start_time": "2022-03-29T15:16:04.953Z"
   },
   {
    "duration": 281,
    "start_time": "2022-03-29T15:16:11.045Z"
   },
   {
    "duration": 253,
    "start_time": "2022-03-29T15:16:55.512Z"
   },
   {
    "duration": 6,
    "start_time": "2022-03-29T15:17:19.046Z"
   },
   {
    "duration": 254,
    "start_time": "2022-03-29T15:17:20.002Z"
   },
   {
    "duration": 413,
    "start_time": "2022-03-29T15:18:20.076Z"
   },
   {
    "duration": 342,
    "start_time": "2022-03-29T15:18:33.359Z"
   },
   {
    "duration": 3174,
    "start_time": "2022-03-29T15:19:48.344Z"
   },
   {
    "duration": 4767,
    "start_time": "2022-03-29T15:20:04.402Z"
   },
   {
    "duration": 764,
    "start_time": "2022-03-29T15:20:18.598Z"
   },
   {
    "duration": 227,
    "start_time": "2022-03-29T15:20:30.075Z"
   },
   {
    "duration": 148,
    "start_time": "2022-03-29T15:29:00.234Z"
   },
   {
    "duration": 202,
    "start_time": "2022-03-29T15:30:16.495Z"
   },
   {
    "duration": 57,
    "start_time": "2022-03-29T15:30:23.530Z"
   },
   {
    "duration": 52,
    "start_time": "2022-03-29T15:33:02.343Z"
   },
   {
    "duration": 129,
    "start_time": "2022-03-29T15:35:47.238Z"
   },
   {
    "duration": 31,
    "start_time": "2022-03-29T15:36:59.198Z"
   },
   {
    "duration": 569,
    "start_time": "2022-03-29T15:38:26.568Z"
   },
   {
    "duration": 1515,
    "start_time": "2022-03-29T15:40:50.780Z"
   },
   {
    "duration": 363,
    "start_time": "2022-03-29T15:42:13.019Z"
   },
   {
    "duration": 58,
    "start_time": "2022-03-29T15:42:38.397Z"
   },
   {
    "duration": 1166,
    "start_time": "2022-03-29T15:43:16.030Z"
   },
   {
    "duration": 1886,
    "start_time": "2022-03-29T15:43:31.545Z"
   },
   {
    "duration": 1806,
    "start_time": "2022-03-29T15:43:56.720Z"
   },
   {
    "duration": 1968,
    "start_time": "2022-03-29T15:44:05.642Z"
   },
   {
    "duration": 1852,
    "start_time": "2022-03-29T15:44:12.898Z"
   },
   {
    "duration": 1211,
    "start_time": "2022-03-29T15:44:25.519Z"
   },
   {
    "duration": 1130,
    "start_time": "2022-03-29T15:44:36.786Z"
   },
   {
    "duration": 17370,
    "start_time": "2022-03-29T15:44:59.014Z"
   },
   {
    "duration": 21609,
    "start_time": "2022-03-29T15:45:27.568Z"
   },
   {
    "duration": 269,
    "start_time": "2022-03-29T15:46:29.853Z"
   },
   {
    "duration": 1309,
    "start_time": "2022-03-29T15:46:44.561Z"
   },
   {
    "duration": 1292,
    "start_time": "2022-03-30T02:22:00.485Z"
   },
   {
    "duration": 73,
    "start_time": "2022-03-30T02:22:01.779Z"
   },
   {
    "duration": 5,
    "start_time": "2022-03-30T02:22:01.854Z"
   },
   {
    "duration": 8,
    "start_time": "2022-03-30T02:22:01.860Z"
   },
   {
    "duration": 35,
    "start_time": "2022-03-30T02:22:01.870Z"
   },
   {
    "duration": 22,
    "start_time": "2022-03-30T02:22:01.907Z"
   },
   {
    "duration": 8,
    "start_time": "2022-03-30T02:22:01.930Z"
   },
   {
    "duration": 11,
    "start_time": "2022-03-30T02:22:01.939Z"
   },
   {
    "duration": 7,
    "start_time": "2022-03-30T02:22:01.951Z"
   },
   {
    "duration": 48,
    "start_time": "2022-03-30T02:22:01.960Z"
   },
   {
    "duration": 42,
    "start_time": "2022-03-30T02:37:44.560Z"
   },
   {
    "duration": 1638,
    "start_time": "2022-03-30T10:23:14.694Z"
   },
   {
    "duration": 103,
    "start_time": "2022-03-30T10:23:16.334Z"
   },
   {
    "duration": 8,
    "start_time": "2022-03-30T10:23:16.439Z"
   },
   {
    "duration": 6,
    "start_time": "2022-03-30T10:23:16.450Z"
   },
   {
    "duration": 41,
    "start_time": "2022-03-30T10:23:16.458Z"
   },
   {
    "duration": 77,
    "start_time": "2022-03-30T10:23:16.502Z"
   },
   {
    "duration": 10,
    "start_time": "2022-03-30T10:23:16.582Z"
   },
   {
    "duration": 16,
    "start_time": "2022-03-30T10:23:16.595Z"
   },
   {
    "duration": 28,
    "start_time": "2022-03-30T10:23:16.614Z"
   },
   {
    "duration": 72,
    "start_time": "2022-03-30T10:23:16.646Z"
   },
   {
    "duration": 6,
    "start_time": "2022-03-30T10:25:27.217Z"
   },
   {
    "duration": 88,
    "start_time": "2022-03-30T10:25:27.225Z"
   },
   {
    "duration": 7,
    "start_time": "2022-03-30T10:25:27.316Z"
   },
   {
    "duration": 10,
    "start_time": "2022-03-30T10:25:27.325Z"
   },
   {
    "duration": 46,
    "start_time": "2022-03-30T10:25:27.343Z"
   },
   {
    "duration": 33,
    "start_time": "2022-03-30T10:25:27.391Z"
   },
   {
    "duration": 26,
    "start_time": "2022-03-30T10:25:27.425Z"
   },
   {
    "duration": 21,
    "start_time": "2022-03-30T10:25:27.454Z"
   },
   {
    "duration": 8,
    "start_time": "2022-03-30T10:25:27.477Z"
   },
   {
    "duration": 4,
    "start_time": "2022-03-30T10:25:30.830Z"
   },
   {
    "duration": 62,
    "start_time": "2022-03-30T10:25:31.584Z"
   },
   {
    "duration": 117,
    "start_time": "2022-03-30T10:25:38.737Z"
   },
   {
    "duration": 1111,
    "start_time": "2022-03-30T12:37:13.281Z"
   },
   {
    "duration": 61,
    "start_time": "2022-03-30T12:37:14.394Z"
   },
   {
    "duration": 6,
    "start_time": "2022-03-30T12:37:14.456Z"
   },
   {
    "duration": 6,
    "start_time": "2022-03-30T12:37:14.464Z"
   },
   {
    "duration": 23,
    "start_time": "2022-03-30T12:37:14.472Z"
   },
   {
    "duration": 52,
    "start_time": "2022-03-30T12:37:14.496Z"
   },
   {
    "duration": 8,
    "start_time": "2022-03-30T12:37:14.550Z"
   },
   {
    "duration": 9,
    "start_time": "2022-03-30T12:37:14.559Z"
   },
   {
    "duration": 5,
    "start_time": "2022-03-30T12:37:14.569Z"
   },
   {
    "duration": 46,
    "start_time": "2022-03-30T12:37:14.576Z"
   },
   {
    "duration": 83,
    "start_time": "2022-03-30T12:37:20.154Z"
   },
   {
    "duration": 99,
    "start_time": "2022-03-30T12:37:46.037Z"
   },
   {
    "duration": 23,
    "start_time": "2022-03-30T12:37:51.162Z"
   },
   {
    "duration": 23,
    "start_time": "2022-03-30T12:42:52.675Z"
   },
   {
    "duration": 33,
    "start_time": "2022-03-30T12:43:12.453Z"
   },
   {
    "duration": 61,
    "start_time": "2022-03-30T12:43:15.573Z"
   },
   {
    "duration": 192,
    "start_time": "2022-03-30T12:50:52.289Z"
   },
   {
    "duration": 14921,
    "start_time": "2022-03-30T13:01:54.604Z"
   },
   {
    "duration": 71,
    "start_time": "2022-03-30T13:13:19.263Z"
   },
   {
    "duration": 94,
    "start_time": "2022-03-30T13:18:25.077Z"
   },
   {
    "duration": 5,
    "start_time": "2022-03-30T13:18:30.560Z"
   },
   {
    "duration": 4,
    "start_time": "2022-03-30T13:18:31.351Z"
   },
   {
    "duration": 106,
    "start_time": "2022-03-30T13:18:34.328Z"
   },
   {
    "duration": 121,
    "start_time": "2022-03-30T13:18:39.512Z"
   },
   {
    "duration": 83,
    "start_time": "2022-03-30T13:22:29.357Z"
   },
   {
    "duration": 92,
    "start_time": "2022-03-30T13:22:37.446Z"
   },
   {
    "duration": 91,
    "start_time": "2022-03-30T13:22:39.345Z"
   },
   {
    "duration": 23,
    "start_time": "2022-03-30T13:24:52.824Z"
   },
   {
    "duration": 10,
    "start_time": "2022-03-30T13:28:33.367Z"
   },
   {
    "duration": 10,
    "start_time": "2022-03-30T13:28:50.517Z"
   },
   {
    "duration": 10,
    "start_time": "2022-03-30T13:29:55.996Z"
   },
   {
    "duration": 1151,
    "start_time": "2022-03-30T13:34:50.138Z"
   },
   {
    "duration": 58,
    "start_time": "2022-03-30T13:34:51.291Z"
   },
   {
    "duration": 5,
    "start_time": "2022-03-30T13:34:51.351Z"
   },
   {
    "duration": 13,
    "start_time": "2022-03-30T13:34:51.357Z"
   },
   {
    "duration": 31,
    "start_time": "2022-03-30T13:34:51.372Z"
   },
   {
    "duration": 35,
    "start_time": "2022-03-30T13:34:51.405Z"
   },
   {
    "duration": 7,
    "start_time": "2022-03-30T13:34:51.442Z"
   },
   {
    "duration": 9,
    "start_time": "2022-03-30T13:34:51.451Z"
   },
   {
    "duration": 16,
    "start_time": "2022-03-30T13:34:51.461Z"
   },
   {
    "duration": 33,
    "start_time": "2022-03-30T13:34:51.479Z"
   },
   {
    "duration": 124,
    "start_time": "2022-03-30T13:34:51.514Z"
   },
   {
    "duration": 283,
    "start_time": "2022-03-30T13:34:51.642Z"
   },
   {
    "duration": 14777,
    "start_time": "2022-03-30T13:34:51.926Z"
   },
   {
    "duration": 4,
    "start_time": "2022-03-30T13:35:06.706Z"
   },
   {
    "duration": 11,
    "start_time": "2022-03-30T13:35:06.712Z"
   },
   {
    "duration": 102,
    "start_time": "2022-03-30T13:35:06.733Z"
   },
   {
    "duration": 196,
    "start_time": "2022-03-30T13:35:06.838Z"
   },
   {
    "duration": 199,
    "start_time": "2022-03-30T13:35:07.036Z"
   },
   {
    "duration": 184,
    "start_time": "2022-03-30T13:35:07.237Z"
   },
   {
    "duration": 0,
    "start_time": "2022-03-30T13:35:07.432Z"
   },
   {
    "duration": 0,
    "start_time": "2022-03-30T13:35:07.434Z"
   },
   {
    "duration": 0,
    "start_time": "2022-03-30T13:35:07.436Z"
   },
   {
    "duration": 0,
    "start_time": "2022-03-30T13:35:07.437Z"
   },
   {
    "duration": 0,
    "start_time": "2022-03-30T13:35:07.438Z"
   },
   {
    "duration": 0,
    "start_time": "2022-03-30T13:35:07.440Z"
   },
   {
    "duration": 5,
    "start_time": "2022-03-30T13:35:24.446Z"
   },
   {
    "duration": 56,
    "start_time": "2022-03-30T13:35:24.453Z"
   },
   {
    "duration": 6,
    "start_time": "2022-03-30T13:35:24.511Z"
   },
   {
    "duration": 8,
    "start_time": "2022-03-30T13:35:24.519Z"
   },
   {
    "duration": 22,
    "start_time": "2022-03-30T13:35:24.532Z"
   },
   {
    "duration": 23,
    "start_time": "2022-03-30T13:35:24.556Z"
   },
   {
    "duration": 8,
    "start_time": "2022-03-30T13:35:24.581Z"
   },
   {
    "duration": 7,
    "start_time": "2022-03-30T13:35:24.590Z"
   },
   {
    "duration": 35,
    "start_time": "2022-03-30T13:35:24.598Z"
   },
   {
    "duration": 39,
    "start_time": "2022-03-30T13:35:24.635Z"
   },
   {
    "duration": 61,
    "start_time": "2022-03-30T13:35:24.676Z"
   },
   {
    "duration": 293,
    "start_time": "2022-03-30T13:35:24.740Z"
   },
   {
    "duration": 14915,
    "start_time": "2022-03-30T13:35:25.035Z"
   },
   {
    "duration": 4,
    "start_time": "2022-03-30T13:35:39.952Z"
   },
   {
    "duration": 9,
    "start_time": "2022-03-30T13:35:39.957Z"
   },
   {
    "duration": 71,
    "start_time": "2022-03-30T13:35:39.968Z"
   },
   {
    "duration": 192,
    "start_time": "2022-03-30T13:35:40.042Z"
   },
   {
    "duration": 198,
    "start_time": "2022-03-30T13:35:40.236Z"
   },
   {
    "duration": 1207,
    "start_time": "2022-03-30T13:52:17.558Z"
   },
   {
    "duration": 81,
    "start_time": "2022-03-30T13:52:18.767Z"
   },
   {
    "duration": 6,
    "start_time": "2022-03-30T13:52:18.850Z"
   },
   {
    "duration": 8,
    "start_time": "2022-03-30T13:52:18.857Z"
   },
   {
    "duration": 30,
    "start_time": "2022-03-30T13:52:18.868Z"
   },
   {
    "duration": 52,
    "start_time": "2022-03-30T13:52:18.899Z"
   },
   {
    "duration": 9,
    "start_time": "2022-03-30T13:52:18.953Z"
   },
   {
    "duration": 23,
    "start_time": "2022-03-30T13:52:18.964Z"
   },
   {
    "duration": 26,
    "start_time": "2022-03-30T13:52:18.989Z"
   },
   {
    "duration": 49,
    "start_time": "2022-03-30T13:52:19.017Z"
   },
   {
    "duration": 165,
    "start_time": "2022-03-30T13:52:19.067Z"
   },
   {
    "duration": 226,
    "start_time": "2022-03-30T13:52:19.234Z"
   },
   {
    "duration": 17211,
    "start_time": "2022-03-30T13:52:19.461Z"
   },
   {
    "duration": 4,
    "start_time": "2022-03-30T13:52:36.675Z"
   },
   {
    "duration": 8,
    "start_time": "2022-03-30T13:52:36.680Z"
   },
   {
    "duration": 52,
    "start_time": "2022-03-30T13:52:36.689Z"
   },
   {
    "duration": 297,
    "start_time": "2022-03-30T13:52:36.834Z"
   },
   {
    "duration": 100,
    "start_time": "2022-03-30T13:52:37.133Z"
   },
   {
    "duration": 126,
    "start_time": "2022-03-30T13:52:37.236Z"
   },
   {
    "duration": 106,
    "start_time": "2022-03-30T13:52:37.364Z"
   },
   {
    "duration": 165,
    "start_time": "2022-03-30T13:52:37.472Z"
   },
   {
    "duration": 0,
    "start_time": "2022-03-30T13:52:37.639Z"
   },
   {
    "duration": 0,
    "start_time": "2022-03-30T13:52:37.640Z"
   },
   {
    "duration": 0,
    "start_time": "2022-03-30T13:52:37.641Z"
   },
   {
    "duration": 38,
    "start_time": "2022-03-30T13:52:59.499Z"
   },
   {
    "duration": 403,
    "start_time": "2022-03-30T13:53:02.955Z"
   },
   {
    "duration": 941,
    "start_time": "2022-03-30T13:53:04.286Z"
   },
   {
    "duration": 236,
    "start_time": "2022-03-30T13:53:05.822Z"
   },
   {
    "duration": 197,
    "start_time": "2022-03-30T13:54:47.473Z"
   },
   {
    "duration": 267,
    "start_time": "2022-03-30T13:55:58.208Z"
   },
   {
    "duration": 42,
    "start_time": "2022-03-30T13:57:16.148Z"
   },
   {
    "duration": 222,
    "start_time": "2022-03-30T13:57:30.636Z"
   },
   {
    "duration": 41,
    "start_time": "2022-03-30T13:58:26.216Z"
   },
   {
    "duration": 79,
    "start_time": "2022-03-30T13:58:27.732Z"
   },
   {
    "duration": 31,
    "start_time": "2022-03-30T13:58:38.263Z"
   },
   {
    "duration": 39,
    "start_time": "2022-03-30T14:00:38.448Z"
   },
   {
    "duration": 45,
    "start_time": "2022-03-30T14:00:47.140Z"
   },
   {
    "duration": 29,
    "start_time": "2022-03-30T14:00:53.997Z"
   },
   {
    "duration": 45,
    "start_time": "2022-03-30T14:01:05.280Z"
   },
   {
    "duration": 30,
    "start_time": "2022-03-30T14:01:11.920Z"
   },
   {
    "duration": 34,
    "start_time": "2022-03-30T14:01:20.876Z"
   },
   {
    "duration": 32,
    "start_time": "2022-03-30T14:01:25.290Z"
   },
   {
    "duration": 219,
    "start_time": "2022-03-30T14:01:41.726Z"
   },
   {
    "duration": 4,
    "start_time": "2022-03-30T14:01:47.581Z"
   },
   {
    "duration": 76,
    "start_time": "2022-03-30T14:01:47.588Z"
   },
   {
    "duration": 5,
    "start_time": "2022-03-30T14:01:47.666Z"
   },
   {
    "duration": 18,
    "start_time": "2022-03-30T14:01:47.673Z"
   },
   {
    "duration": 39,
    "start_time": "2022-03-30T14:01:47.694Z"
   },
   {
    "duration": 27,
    "start_time": "2022-03-30T14:01:47.735Z"
   },
   {
    "duration": 7,
    "start_time": "2022-03-30T14:01:47.764Z"
   },
   {
    "duration": 9,
    "start_time": "2022-03-30T14:01:47.773Z"
   },
   {
    "duration": 6,
    "start_time": "2022-03-30T14:01:47.784Z"
   },
   {
    "duration": 63,
    "start_time": "2022-03-30T14:01:47.792Z"
   },
   {
    "duration": 175,
    "start_time": "2022-03-30T14:01:47.857Z"
   },
   {
    "duration": 216,
    "start_time": "2022-03-30T14:01:49.987Z"
   },
   {
    "duration": 32,
    "start_time": "2022-03-30T14:02:37.453Z"
   },
   {
    "duration": 39,
    "start_time": "2022-03-30T14:02:46.306Z"
   },
   {
    "duration": 40,
    "start_time": "2022-03-30T14:02:57.142Z"
   },
   {
    "duration": 46,
    "start_time": "2022-03-30T14:03:09.307Z"
   },
   {
    "duration": 38,
    "start_time": "2022-03-30T14:03:19.784Z"
   },
   {
    "duration": 44,
    "start_time": "2022-03-30T14:03:31.013Z"
   },
   {
    "duration": 44,
    "start_time": "2022-03-30T14:03:34.593Z"
   },
   {
    "duration": 43,
    "start_time": "2022-03-30T14:03:41.551Z"
   },
   {
    "duration": 42,
    "start_time": "2022-03-30T14:03:44.797Z"
   },
   {
    "duration": 30,
    "start_time": "2022-03-30T14:03:49.274Z"
   },
   {
    "duration": 36,
    "start_time": "2022-03-30T14:05:10.224Z"
   },
   {
    "duration": 41,
    "start_time": "2022-03-30T14:05:18.452Z"
   },
   {
    "duration": 35,
    "start_time": "2022-03-30T14:05:23.198Z"
   },
   {
    "duration": 32,
    "start_time": "2022-03-30T14:05:27.819Z"
   },
   {
    "duration": 36,
    "start_time": "2022-03-30T14:05:32.444Z"
   },
   {
    "duration": 38,
    "start_time": "2022-03-30T14:05:41.267Z"
   },
   {
    "duration": 42,
    "start_time": "2022-03-30T14:05:44.869Z"
   },
   {
    "duration": 32,
    "start_time": "2022-03-30T14:05:50.784Z"
   },
   {
    "duration": 28,
    "start_time": "2022-03-30T14:06:26.608Z"
   },
   {
    "duration": 71,
    "start_time": "2022-03-30T14:06:40.705Z"
   },
   {
    "duration": 55,
    "start_time": "2022-03-30T14:06:51.400Z"
   },
   {
    "duration": 76,
    "start_time": "2022-03-30T14:06:58.481Z"
   },
   {
    "duration": 56,
    "start_time": "2022-03-30T14:07:03.702Z"
   },
   {
    "duration": 414,
    "start_time": "2022-03-30T14:08:46.078Z"
   },
   {
    "duration": 485,
    "start_time": "2022-03-30T14:09:16.614Z"
   },
   {
    "duration": 17019,
    "start_time": "2022-03-30T14:09:44.386Z"
   },
   {
    "duration": 44522,
    "start_time": "2022-03-30T14:10:06.534Z"
   },
   {
    "duration": 497,
    "start_time": "2022-03-30T14:11:22.625Z"
   },
   {
    "duration": 974,
    "start_time": "2022-03-30T14:12:44.838Z"
   },
   {
    "duration": 225,
    "start_time": "2022-03-30T14:13:02.052Z"
   },
   {
    "duration": 537,
    "start_time": "2022-03-30T14:24:00.120Z"
   },
   {
    "duration": 572,
    "start_time": "2022-03-30T14:25:09.108Z"
   },
   {
    "duration": 585,
    "start_time": "2022-03-30T14:25:20.883Z"
   },
   {
    "duration": 193,
    "start_time": "2022-03-30T14:28:13.987Z"
   },
   {
    "duration": 616,
    "start_time": "2022-03-30T14:28:31.306Z"
   },
   {
    "duration": 646,
    "start_time": "2022-03-30T14:28:54.641Z"
   },
   {
    "duration": 678,
    "start_time": "2022-03-30T14:29:04.073Z"
   },
   {
    "duration": 633,
    "start_time": "2022-03-30T14:29:27.683Z"
   },
   {
    "duration": 652,
    "start_time": "2022-03-30T14:29:56.602Z"
   },
   {
    "duration": 704,
    "start_time": "2022-03-30T14:31:00.637Z"
   },
   {
    "duration": 646,
    "start_time": "2022-03-30T14:31:11.239Z"
   },
   {
    "duration": 631,
    "start_time": "2022-03-30T14:31:52.988Z"
   },
   {
    "duration": 655,
    "start_time": "2022-03-30T14:32:02.617Z"
   },
   {
    "duration": 310,
    "start_time": "2022-03-30T14:51:20.483Z"
   },
   {
    "duration": 974,
    "start_time": "2022-03-30T14:54:01.423Z"
   },
   {
    "duration": 106,
    "start_time": "2022-03-30T14:57:09.170Z"
   },
   {
    "duration": 508,
    "start_time": "2022-03-30T14:57:15.682Z"
   },
   {
    "duration": 986,
    "start_time": "2022-03-30T14:58:00.162Z"
   },
   {
    "duration": 968,
    "start_time": "2022-03-30T14:58:08.898Z"
   },
   {
    "duration": 903,
    "start_time": "2022-03-30T14:58:15.000Z"
   },
   {
    "duration": 595,
    "start_time": "2022-03-30T14:58:20.895Z"
   },
   {
    "duration": 759,
    "start_time": "2022-03-30T14:58:25.748Z"
   },
   {
    "duration": 778,
    "start_time": "2022-03-30T14:58:44.429Z"
   },
   {
    "duration": 481,
    "start_time": "2022-03-30T14:58:54.431Z"
   },
   {
    "duration": 387,
    "start_time": "2022-03-30T14:59:12.645Z"
   },
   {
    "duration": 778,
    "start_time": "2022-03-30T14:59:28.438Z"
   },
   {
    "duration": 831,
    "start_time": "2022-03-30T14:59:38.413Z"
   },
   {
    "duration": 788,
    "start_time": "2022-03-30T14:59:48.482Z"
   },
   {
    "duration": 827,
    "start_time": "2022-03-30T14:59:56.189Z"
   },
   {
    "duration": 929,
    "start_time": "2022-03-30T15:00:02.026Z"
   },
   {
    "duration": 452,
    "start_time": "2022-03-30T15:00:15.748Z"
   },
   {
    "duration": 876,
    "start_time": "2022-03-30T15:04:08.732Z"
   },
   {
    "duration": 171,
    "start_time": "2022-03-30T15:04:42.453Z"
   },
   {
    "duration": 4,
    "start_time": "2022-03-30T15:05:06.549Z"
   },
   {
    "duration": 81,
    "start_time": "2022-03-30T15:05:06.555Z"
   },
   {
    "duration": 6,
    "start_time": "2022-03-30T15:05:06.637Z"
   },
   {
    "duration": 9,
    "start_time": "2022-03-30T15:05:06.645Z"
   },
   {
    "duration": 43,
    "start_time": "2022-03-30T15:05:06.657Z"
   },
   {
    "duration": 25,
    "start_time": "2022-03-30T15:05:06.702Z"
   },
   {
    "duration": 8,
    "start_time": "2022-03-30T15:05:06.729Z"
   },
   {
    "duration": 40,
    "start_time": "2022-03-30T15:05:06.739Z"
   },
   {
    "duration": 14,
    "start_time": "2022-03-30T15:05:06.781Z"
   },
   {
    "duration": 62,
    "start_time": "2022-03-30T15:05:06.796Z"
   },
   {
    "duration": 82,
    "start_time": "2022-03-30T15:05:06.859Z"
   },
   {
    "duration": 195,
    "start_time": "2022-03-30T15:05:09.974Z"
   },
   {
    "duration": 31,
    "start_time": "2022-03-30T15:05:21.177Z"
   },
   {
    "duration": 33,
    "start_time": "2022-03-30T15:05:30.668Z"
   },
   {
    "duration": 65,
    "start_time": "2022-03-30T15:06:07.568Z"
   },
   {
    "duration": 33,
    "start_time": "2022-03-30T15:06:18.584Z"
   },
   {
    "duration": 42,
    "start_time": "2022-03-30T15:06:25.996Z"
   },
   {
    "duration": 40,
    "start_time": "2022-03-30T15:06:36.994Z"
   },
   {
    "duration": 46313,
    "start_time": "2022-03-30T15:07:14.267Z"
   },
   {
    "duration": 97,
    "start_time": "2022-03-30T15:09:03.867Z"
   },
   {
    "duration": 98,
    "start_time": "2022-03-30T15:09:38.085Z"
   },
   {
    "duration": 116,
    "start_time": "2022-03-30T15:09:48.717Z"
   },
   {
    "duration": 148,
    "start_time": "2022-03-30T15:09:54.423Z"
   },
   {
    "duration": 147,
    "start_time": "2022-03-30T15:09:59.956Z"
   },
   {
    "duration": 147,
    "start_time": "2022-03-30T15:10:05.240Z"
   },
   {
    "duration": 143,
    "start_time": "2022-03-30T15:10:08.935Z"
   },
   {
    "duration": 138,
    "start_time": "2022-03-30T15:10:13.465Z"
   },
   {
    "duration": 99,
    "start_time": "2022-03-30T15:10:18.989Z"
   },
   {
    "duration": 103,
    "start_time": "2022-03-30T15:10:23.335Z"
   },
   {
    "duration": 105,
    "start_time": "2022-03-30T15:10:29.998Z"
   },
   {
    "duration": 112,
    "start_time": "2022-03-30T15:10:35.488Z"
   },
   {
    "duration": 107,
    "start_time": "2022-03-30T15:10:42.096Z"
   },
   {
    "duration": 114,
    "start_time": "2022-03-30T15:11:00.169Z"
   },
   {
    "duration": 116,
    "start_time": "2022-03-30T15:11:04.882Z"
   },
   {
    "duration": 94,
    "start_time": "2022-03-30T15:11:08.976Z"
   },
   {
    "duration": 119,
    "start_time": "2022-03-30T15:11:15.648Z"
   },
   {
    "duration": 124,
    "start_time": "2022-03-30T15:11:20.100Z"
   },
   {
    "duration": 128,
    "start_time": "2022-03-30T15:11:25.239Z"
   },
   {
    "duration": 56,
    "start_time": "2022-03-30T15:11:41.136Z"
   },
   {
    "duration": 90,
    "start_time": "2022-03-30T15:12:04.962Z"
   },
   {
    "duration": 63,
    "start_time": "2022-03-30T15:12:09.013Z"
   },
   {
    "duration": 93,
    "start_time": "2022-03-30T15:12:13.463Z"
   },
   {
    "duration": 96,
    "start_time": "2022-03-30T15:12:19.983Z"
   },
   {
    "duration": 94,
    "start_time": "2022-03-30T15:12:24.781Z"
   },
   {
    "duration": 139,
    "start_time": "2022-03-30T15:12:32.137Z"
   },
   {
    "duration": 47036,
    "start_time": "2022-03-30T15:12:35.396Z"
   },
   {
    "duration": 129,
    "start_time": "2022-03-30T15:13:22.434Z"
   },
   {
    "duration": 24195,
    "start_time": "2022-03-30T15:14:13.929Z"
   },
   {
    "duration": 128,
    "start_time": "2022-03-30T15:15:05.451Z"
   },
   {
    "duration": 4,
    "start_time": "2022-03-30T15:15:36.678Z"
   },
   {
    "duration": 4,
    "start_time": "2022-03-30T15:15:37.115Z"
   },
   {
    "duration": 40,
    "start_time": "2022-03-30T15:15:40.562Z"
   },
   {
    "duration": 43,
    "start_time": "2022-03-30T15:16:06.524Z"
   },
   {
    "duration": 36,
    "start_time": "2022-03-30T15:16:13.566Z"
   },
   {
    "duration": 40,
    "start_time": "2022-03-30T15:16:19.738Z"
   },
   {
    "duration": 37,
    "start_time": "2022-03-30T15:16:28.521Z"
   },
   {
    "duration": 36,
    "start_time": "2022-03-30T15:16:41.505Z"
   },
   {
    "duration": 66,
    "start_time": "2022-03-30T15:17:04.524Z"
   },
   {
    "duration": 30,
    "start_time": "2022-03-30T15:17:16.410Z"
   },
   {
    "duration": 41,
    "start_time": "2022-03-30T15:17:52.434Z"
   },
   {
    "duration": 123,
    "start_time": "2022-03-30T15:18:09.441Z"
   },
   {
    "duration": 42,
    "start_time": "2022-03-30T15:18:24.398Z"
   },
   {
    "duration": 62,
    "start_time": "2022-03-30T15:18:28.692Z"
   },
   {
    "duration": 30,
    "start_time": "2022-03-30T15:18:31.935Z"
   },
   {
    "duration": 488,
    "start_time": "2022-03-30T15:19:31.685Z"
   },
   {
    "duration": 478,
    "start_time": "2022-03-30T15:20:32.243Z"
   },
   {
    "duration": 502,
    "start_time": "2022-03-30T15:20:44.775Z"
   },
   {
    "duration": 433,
    "start_time": "2022-03-30T15:20:56.132Z"
   },
   {
    "duration": 88,
    "start_time": "2022-03-30T15:21:14.803Z"
   },
   {
    "duration": 84,
    "start_time": "2022-03-30T15:21:25.650Z"
   },
   {
    "duration": 414,
    "start_time": "2022-03-30T15:22:08.398Z"
   },
   {
    "duration": 823,
    "start_time": "2022-03-30T15:22:39.467Z"
   },
   {
    "duration": 432,
    "start_time": "2022-03-30T15:27:45.109Z"
   },
   {
    "duration": 106,
    "start_time": "2022-03-30T15:30:20.330Z"
   },
   {
    "duration": 441,
    "start_time": "2022-03-30T15:30:38.096Z"
   },
   {
    "duration": 1377,
    "start_time": "2022-03-30T15:30:48.760Z"
   },
   {
    "duration": 83,
    "start_time": "2022-03-30T15:30:50.140Z"
   },
   {
    "duration": 7,
    "start_time": "2022-03-30T15:30:50.225Z"
   },
   {
    "duration": 27,
    "start_time": "2022-03-30T15:30:50.234Z"
   },
   {
    "duration": 40,
    "start_time": "2022-03-30T15:30:50.263Z"
   },
   {
    "duration": 28,
    "start_time": "2022-03-30T15:30:50.305Z"
   },
   {
    "duration": 9,
    "start_time": "2022-03-30T15:30:50.335Z"
   },
   {
    "duration": 16,
    "start_time": "2022-03-30T15:30:50.345Z"
   },
   {
    "duration": 19,
    "start_time": "2022-03-30T15:30:50.363Z"
   },
   {
    "duration": 49,
    "start_time": "2022-03-30T15:30:50.385Z"
   },
   {
    "duration": 197,
    "start_time": "2022-03-30T15:30:50.436Z"
   },
   {
    "duration": 38,
    "start_time": "2022-03-30T15:30:50.634Z"
   },
   {
    "duration": 442,
    "start_time": "2022-03-30T15:30:50.674Z"
   },
   {
    "duration": 4,
    "start_time": "2022-03-30T15:30:51.118Z"
   },
   {
    "duration": 17,
    "start_time": "2022-03-30T15:30:51.123Z"
   },
   {
    "duration": 41,
    "start_time": "2022-03-30T15:30:51.142Z"
   },
   {
    "duration": 79,
    "start_time": "2022-03-30T15:30:51.184Z"
   },
   {
    "duration": 27,
    "start_time": "2022-03-30T15:30:51.265Z"
   },
   {
    "duration": 449,
    "start_time": "2022-03-30T15:30:51.294Z"
   },
   {
    "duration": 815,
    "start_time": "2022-03-30T15:30:51.745Z"
   },
   {
    "duration": 429,
    "start_time": "2022-03-30T15:30:52.562Z"
   },
   {
    "duration": 44,
    "start_time": "2022-03-30T15:30:52.993Z"
   },
   {
    "duration": 131,
    "start_time": "2022-03-30T15:43:27.355Z"
   },
   {
    "duration": 5,
    "start_time": "2022-03-30T15:43:43.851Z"
   },
   {
    "duration": 31,
    "start_time": "2022-03-30T15:43:54.780Z"
   },
   {
    "duration": 31,
    "start_time": "2022-03-30T15:48:37.341Z"
   },
   {
    "duration": 32,
    "start_time": "2022-03-30T15:50:12.392Z"
   },
   {
    "duration": 432,
    "start_time": "2022-03-30T15:50:17.106Z"
   },
   {
    "duration": 813,
    "start_time": "2022-03-30T15:50:17.550Z"
   },
   {
    "duration": 30,
    "start_time": "2022-03-30T15:50:19.362Z"
   },
   {
    "duration": 420,
    "start_time": "2022-03-30T15:50:42.485Z"
   },
   {
    "duration": 14,
    "start_time": "2022-03-30T15:53:27.561Z"
   },
   {
    "duration": 523,
    "start_time": "2022-03-30T15:53:55.618Z"
   },
   {
    "duration": 532,
    "start_time": "2022-03-30T15:54:23.212Z"
   },
   {
    "duration": 575,
    "start_time": "2022-03-30T15:59:00.932Z"
   },
   {
    "duration": 438,
    "start_time": "2022-03-30T16:00:18.211Z"
   },
   {
    "duration": 38,
    "start_time": "2022-03-30T16:01:53.437Z"
   },
   {
    "duration": 66,
    "start_time": "2022-03-30T16:01:58.277Z"
   },
   {
    "duration": 45,
    "start_time": "2022-03-30T16:02:02.013Z"
   },
   {
    "duration": 449,
    "start_time": "2022-03-30T16:03:08.333Z"
   },
   {
    "duration": 835,
    "start_time": "2022-03-30T16:03:19.840Z"
   },
   {
    "duration": 430,
    "start_time": "2022-03-30T16:03:29.014Z"
   },
   {
    "duration": 218,
    "start_time": "2022-03-30T16:13:34.812Z"
   },
   {
    "duration": 801,
    "start_time": "2022-03-30T16:14:07.524Z"
   },
   {
    "duration": 496,
    "start_time": "2022-03-30T16:14:14.652Z"
   },
   {
    "duration": 456,
    "start_time": "2022-03-30T16:15:05.179Z"
   },
   {
    "duration": 32,
    "start_time": "2022-03-30T16:15:14.818Z"
   },
   {
    "duration": 528,
    "start_time": "2022-03-30T16:15:52.702Z"
   },
   {
    "duration": 553,
    "start_time": "2022-03-30T16:15:54.131Z"
   },
   {
    "duration": 540,
    "start_time": "2022-03-30T16:19:21.102Z"
   },
   {
    "duration": 4,
    "start_time": "2022-03-30T16:23:08.984Z"
   },
   {
    "duration": 11,
    "start_time": "2022-03-30T16:24:13.470Z"
   },
   {
    "duration": 49,
    "start_time": "2022-03-30T16:24:24.438Z"
   },
   {
    "duration": 45,
    "start_time": "2022-03-30T16:24:34.221Z"
   },
   {
    "duration": 495,
    "start_time": "2022-03-30T16:24:54.796Z"
   },
   {
    "duration": 186,
    "start_time": "2022-03-30T16:25:00.014Z"
   },
   {
    "duration": 2230,
    "start_time": "2022-03-31T14:15:30.569Z"
   },
   {
    "duration": 78,
    "start_time": "2022-03-31T14:15:32.802Z"
   },
   {
    "duration": 9,
    "start_time": "2022-03-31T14:15:32.882Z"
   },
   {
    "duration": 7,
    "start_time": "2022-03-31T14:15:32.894Z"
   },
   {
    "duration": 68,
    "start_time": "2022-03-31T14:15:32.905Z"
   },
   {
    "duration": 38,
    "start_time": "2022-03-31T14:15:32.976Z"
   },
   {
    "duration": 10,
    "start_time": "2022-03-31T14:15:33.017Z"
   },
   {
    "duration": 47,
    "start_time": "2022-03-31T14:15:33.029Z"
   },
   {
    "duration": 8,
    "start_time": "2022-03-31T14:15:33.079Z"
   },
   {
    "duration": 89,
    "start_time": "2022-03-31T14:15:33.090Z"
   },
   {
    "duration": 188,
    "start_time": "2022-03-31T14:15:33.181Z"
   },
   {
    "duration": 98,
    "start_time": "2022-03-31T14:15:33.372Z"
   },
   {
    "duration": 531,
    "start_time": "2022-03-31T14:15:33.473Z"
   },
   {
    "duration": 6,
    "start_time": "2022-03-31T14:15:34.009Z"
   },
   {
    "duration": 9,
    "start_time": "2022-03-31T14:15:34.017Z"
   },
   {
    "duration": 71,
    "start_time": "2022-03-31T14:15:34.028Z"
   },
   {
    "duration": 107,
    "start_time": "2022-03-31T14:15:34.102Z"
   },
   {
    "duration": 38,
    "start_time": "2022-03-31T14:15:34.212Z"
   },
   {
    "duration": 40,
    "start_time": "2022-03-31T14:15:34.268Z"
   },
   {
    "duration": 562,
    "start_time": "2022-03-31T14:15:34.310Z"
   },
   {
    "duration": 1169,
    "start_time": "2022-03-31T14:15:34.875Z"
   },
   {
    "duration": 284,
    "start_time": "2022-03-31T14:15:36.046Z"
   },
   {
    "duration": 541,
    "start_time": "2022-03-31T14:15:36.333Z"
   },
   {
    "duration": 685,
    "start_time": "2022-03-31T14:15:36.877Z"
   },
   {
    "duration": 701,
    "start_time": "2022-03-31T14:15:37.568Z"
   },
   {
    "duration": 244,
    "start_time": "2022-03-31T14:15:38.272Z"
   },
   {
    "duration": 2367,
    "start_time": "2022-03-31T14:31:16.234Z"
   },
   {
    "duration": 92,
    "start_time": "2022-03-31T14:31:18.604Z"
   },
   {
    "duration": 8,
    "start_time": "2022-03-31T14:31:18.698Z"
   },
   {
    "duration": 6,
    "start_time": "2022-03-31T14:31:18.708Z"
   },
   {
    "duration": 60,
    "start_time": "2022-03-31T14:31:18.716Z"
   },
   {
    "duration": 35,
    "start_time": "2022-03-31T14:31:18.778Z"
   },
   {
    "duration": 6,
    "start_time": "2022-03-31T14:37:13.108Z"
   },
   {
    "duration": 88,
    "start_time": "2022-03-31T14:37:13.117Z"
   },
   {
    "duration": 4,
    "start_time": "2022-03-31T14:37:13.207Z"
   },
   {
    "duration": 9,
    "start_time": "2022-03-31T14:37:13.213Z"
   },
   {
    "duration": 55,
    "start_time": "2022-03-31T14:37:13.225Z"
   },
   {
    "duration": 163,
    "start_time": "2022-03-31T14:37:20.078Z"
   },
   {
    "duration": 22,
    "start_time": "2022-03-31T14:37:43.207Z"
   },
   {
    "duration": 4047,
    "start_time": "2022-03-31T14:37:54.455Z"
   },
   {
    "duration": 21,
    "start_time": "2022-03-31T14:38:09.469Z"
   },
   {
    "duration": 10,
    "start_time": "2022-03-31T14:38:31.892Z"
   },
   {
    "duration": 10,
    "start_time": "2022-03-31T14:38:41.462Z"
   },
   {
    "duration": 10,
    "start_time": "2022-03-31T14:38:51.092Z"
   },
   {
    "duration": 40,
    "start_time": "2022-03-31T14:38:57.143Z"
   },
   {
    "duration": 16,
    "start_time": "2022-03-31T14:41:25.467Z"
   },
   {
    "duration": 16,
    "start_time": "2022-03-31T14:41:41.644Z"
   },
   {
    "duration": 24,
    "start_time": "2022-03-31T14:41:48.540Z"
   },
   {
    "duration": 13,
    "start_time": "2022-03-31T14:42:03.778Z"
   },
   {
    "duration": 13,
    "start_time": "2022-03-31T14:42:16.823Z"
   },
   {
    "duration": 16,
    "start_time": "2022-03-31T14:42:50.763Z"
   },
   {
    "duration": 14,
    "start_time": "2022-03-31T14:42:57.547Z"
   },
   {
    "duration": 11,
    "start_time": "2022-03-31T14:43:48.777Z"
   },
   {
    "duration": 11,
    "start_time": "2022-03-31T14:44:04.424Z"
   },
   {
    "duration": 15,
    "start_time": "2022-03-31T14:44:11.042Z"
   },
   {
    "duration": 12,
    "start_time": "2022-03-31T14:44:16.639Z"
   },
   {
    "duration": 12,
    "start_time": "2022-03-31T14:44:22.528Z"
   },
   {
    "duration": 9,
    "start_time": "2022-03-31T14:46:05.084Z"
   },
   {
    "duration": 5,
    "start_time": "2022-03-31T14:46:09.365Z"
   },
   {
    "duration": 57,
    "start_time": "2022-03-31T14:46:10.211Z"
   },
   {
    "duration": 90,
    "start_time": "2022-03-31T14:46:16.383Z"
   },
   {
    "duration": 226,
    "start_time": "2022-03-31T14:51:53.448Z"
   },
   {
    "duration": 154,
    "start_time": "2022-03-31T14:51:59.400Z"
   },
   {
    "duration": 206,
    "start_time": "2022-03-31T14:53:59.502Z"
   },
   {
    "duration": 13,
    "start_time": "2022-03-31T15:04:07.076Z"
   },
   {
    "duration": 11,
    "start_time": "2022-03-31T15:04:24.314Z"
   },
   {
    "duration": 6,
    "start_time": "2022-03-31T15:04:54.257Z"
   },
   {
    "duration": 94,
    "start_time": "2022-03-31T15:04:54.266Z"
   },
   {
    "duration": 4,
    "start_time": "2022-03-31T15:04:54.363Z"
   },
   {
    "duration": 14,
    "start_time": "2022-03-31T15:04:54.369Z"
   },
   {
    "duration": 53,
    "start_time": "2022-03-31T15:04:54.386Z"
   },
   {
    "duration": 35,
    "start_time": "2022-03-31T15:04:54.443Z"
   },
   {
    "duration": 11,
    "start_time": "2022-03-31T15:04:54.480Z"
   },
   {
    "duration": 21,
    "start_time": "2022-03-31T15:04:54.493Z"
   },
   {
    "duration": 10,
    "start_time": "2022-03-31T15:04:54.516Z"
   },
   {
    "duration": 56,
    "start_time": "2022-03-31T15:04:54.543Z"
   },
   {
    "duration": 11,
    "start_time": "2022-03-31T15:04:56.771Z"
   },
   {
    "duration": 10,
    "start_time": "2022-03-31T15:05:51.662Z"
   },
   {
    "duration": 11,
    "start_time": "2022-03-31T15:06:00.111Z"
   },
   {
    "duration": 176,
    "start_time": "2022-03-31T15:08:46.334Z"
   },
   {
    "duration": 201,
    "start_time": "2022-03-31T15:09:22.317Z"
   },
   {
    "duration": 193,
    "start_time": "2022-03-31T15:11:31.898Z"
   },
   {
    "duration": 213,
    "start_time": "2022-03-31T15:11:45.095Z"
   },
   {
    "duration": 270,
    "start_time": "2022-03-31T15:12:01.349Z"
   },
   {
    "duration": 194,
    "start_time": "2022-03-31T15:12:11.953Z"
   },
   {
    "duration": 187,
    "start_time": "2022-03-31T15:12:26.977Z"
   },
   {
    "duration": 182,
    "start_time": "2022-03-31T15:12:31.868Z"
   },
   {
    "duration": 216,
    "start_time": "2022-03-31T15:12:52.809Z"
   },
   {
    "duration": 217,
    "start_time": "2022-03-31T15:13:01.652Z"
   },
   {
    "duration": 188,
    "start_time": "2022-03-31T15:13:13.041Z"
   },
   {
    "duration": 173,
    "start_time": "2022-03-31T15:16:49.742Z"
   },
   {
    "duration": 165,
    "start_time": "2022-03-31T15:16:55.806Z"
   },
   {
    "duration": 211,
    "start_time": "2022-03-31T15:17:05.268Z"
   },
   {
    "duration": 184,
    "start_time": "2022-03-31T15:19:29.737Z"
   },
   {
    "duration": 179,
    "start_time": "2022-03-31T15:19:58.747Z"
   },
   {
    "duration": 16,
    "start_time": "2022-03-31T15:20:13.582Z"
   },
   {
    "duration": 170,
    "start_time": "2022-03-31T15:20:36.586Z"
   },
   {
    "duration": 329,
    "start_time": "2022-03-31T15:20:56.985Z"
   },
   {
    "duration": 167,
    "start_time": "2022-03-31T15:21:36.781Z"
   },
   {
    "duration": 419,
    "start_time": "2022-03-31T15:33:50.135Z"
   },
   {
    "duration": 445,
    "start_time": "2022-03-31T15:34:35.148Z"
   },
   {
    "duration": 205,
    "start_time": "2022-03-31T15:34:57.365Z"
   },
   {
    "duration": 581,
    "start_time": "2022-03-31T15:35:02.837Z"
   },
   {
    "duration": 454,
    "start_time": "2022-03-31T15:35:35.295Z"
   },
   {
    "duration": 537,
    "start_time": "2022-03-31T15:36:11.939Z"
   },
   {
    "duration": 431,
    "start_time": "2022-03-31T15:36:15.843Z"
   },
   {
    "duration": 483,
    "start_time": "2022-03-31T15:36:23.979Z"
   },
   {
    "duration": 414,
    "start_time": "2022-03-31T15:36:51.680Z"
   },
   {
    "duration": 450,
    "start_time": "2022-03-31T15:37:11.982Z"
   },
   {
    "duration": 162,
    "start_time": "2022-03-31T15:37:18.446Z"
   },
   {
    "duration": 121,
    "start_time": "2022-03-31T15:37:24.445Z"
   },
   {
    "duration": 425,
    "start_time": "2022-03-31T15:37:29.170Z"
   },
   {
    "duration": 120,
    "start_time": "2022-03-31T15:37:48.331Z"
   },
   {
    "duration": 417,
    "start_time": "2022-03-31T15:38:10.932Z"
   },
   {
    "duration": 484,
    "start_time": "2022-03-31T15:39:01.875Z"
   },
   {
    "duration": 483,
    "start_time": "2022-03-31T15:39:33.373Z"
   },
   {
    "duration": 185,
    "start_time": "2022-03-31T15:40:41.605Z"
   },
   {
    "duration": 24707,
    "start_time": "2022-03-31T15:59:44.407Z"
   },
   {
    "duration": 182,
    "start_time": "2022-03-31T16:00:18.234Z"
   },
   {
    "duration": 25749,
    "start_time": "2022-03-31T16:00:39.161Z"
   },
   {
    "duration": 194,
    "start_time": "2022-03-31T16:01:04.913Z"
   },
   {
    "duration": 26456,
    "start_time": "2022-03-31T16:02:07.941Z"
   },
   {
    "duration": 42592,
    "start_time": "2022-03-31T16:03:17.500Z"
   },
   {
    "duration": 20678,
    "start_time": "2022-03-31T16:21:31.739Z"
   },
   {
    "duration": 22188,
    "start_time": "2022-03-31T16:22:14.164Z"
   },
   {
    "duration": 191,
    "start_time": "2022-03-31T16:23:30.752Z"
   },
   {
    "duration": 242,
    "start_time": "2022-03-31T16:33:48.855Z"
   },
   {
    "duration": 206,
    "start_time": "2022-03-31T16:33:56.437Z"
   },
   {
    "duration": 171,
    "start_time": "2022-03-31T16:34:16.582Z"
   },
   {
    "duration": 5,
    "start_time": "2022-03-31T16:35:42.775Z"
   },
   {
    "duration": 6,
    "start_time": "2022-03-31T16:35:43.410Z"
   },
   {
    "duration": 271,
    "start_time": "2022-03-31T16:38:19.163Z"
   },
   {
    "duration": 508,
    "start_time": "2022-03-31T16:38:30.023Z"
   },
   {
    "duration": 495,
    "start_time": "2022-03-31T16:39:29.138Z"
   },
   {
    "duration": 240,
    "start_time": "2022-03-31T16:40:44.477Z"
   },
   {
    "duration": 253,
    "start_time": "2022-03-31T16:41:04.156Z"
   },
   {
    "duration": 244,
    "start_time": "2022-03-31T16:41:11.689Z"
   },
   {
    "duration": 301,
    "start_time": "2022-03-31T16:41:23.294Z"
   },
   {
    "duration": 227,
    "start_time": "2022-03-31T16:41:34.851Z"
   },
   {
    "duration": 240,
    "start_time": "2022-03-31T16:42:52.172Z"
   },
   {
    "duration": 227,
    "start_time": "2022-03-31T16:43:45.098Z"
   },
   {
    "duration": 550,
    "start_time": "2022-03-31T16:47:10.139Z"
   },
   {
    "duration": 458,
    "start_time": "2022-03-31T16:47:30.005Z"
   },
   {
    "duration": 467,
    "start_time": "2022-03-31T16:47:45.190Z"
   },
   {
    "duration": 611,
    "start_time": "2022-03-31T16:47:59.142Z"
   },
   {
    "duration": 771,
    "start_time": "2022-03-31T16:48:48.676Z"
   },
   {
    "duration": 428,
    "start_time": "2022-03-31T16:48:55.951Z"
   },
   {
    "duration": 150,
    "start_time": "2022-03-31T16:51:21.758Z"
   },
   {
    "duration": 242,
    "start_time": "2022-03-31T16:52:02.002Z"
   },
   {
    "duration": 247,
    "start_time": "2022-03-31T16:52:20.976Z"
   },
   {
    "duration": 414,
    "start_time": "2022-03-31T16:53:57.499Z"
   },
   {
    "duration": 148,
    "start_time": "2022-03-31T16:53:58.708Z"
   },
   {
    "duration": 153,
    "start_time": "2022-03-31T16:54:15.465Z"
   },
   {
    "duration": 322,
    "start_time": "2022-03-31T16:54:21.897Z"
   },
   {
    "duration": 149,
    "start_time": "2022-03-31T16:54:29.654Z"
   },
   {
    "duration": 2114,
    "start_time": "2022-04-01T02:49:54.748Z"
   },
   {
    "duration": 86,
    "start_time": "2022-04-01T02:49:56.865Z"
   },
   {
    "duration": 4,
    "start_time": "2022-04-01T02:49:56.953Z"
   },
   {
    "duration": 16,
    "start_time": "2022-04-01T02:49:56.961Z"
   },
   {
    "duration": 40,
    "start_time": "2022-04-01T02:49:56.979Z"
   },
   {
    "duration": 54,
    "start_time": "2022-04-01T02:49:57.021Z"
   },
   {
    "duration": 12,
    "start_time": "2022-04-01T02:49:57.077Z"
   },
   {
    "duration": 17,
    "start_time": "2022-04-01T02:49:57.091Z"
   },
   {
    "duration": 11,
    "start_time": "2022-04-01T02:49:57.110Z"
   },
   {
    "duration": 69,
    "start_time": "2022-04-01T02:49:57.125Z"
   },
   {
    "duration": 303,
    "start_time": "2022-04-01T02:49:57.196Z"
   },
   {
    "duration": 81,
    "start_time": "2022-04-01T02:49:57.502Z"
   },
   {
    "duration": 290,
    "start_time": "2022-04-01T02:49:57.676Z"
   },
   {
    "duration": 259,
    "start_time": "2022-04-01T02:49:57.968Z"
   },
   {
    "duration": 196,
    "start_time": "2022-04-01T02:49:58.229Z"
   },
   {
    "duration": 21762,
    "start_time": "2022-04-01T02:49:58.428Z"
   },
   {
    "duration": 199,
    "start_time": "2022-04-01T02:50:20.192Z"
   },
   {
    "duration": 5,
    "start_time": "2022-04-01T02:50:20.393Z"
   },
   {
    "duration": 9,
    "start_time": "2022-04-01T02:50:20.400Z"
   },
   {
    "duration": 378,
    "start_time": "2022-04-01T02:50:20.411Z"
   },
   {
    "duration": 527,
    "start_time": "2022-04-01T02:50:20.791Z"
   },
   {
    "duration": 158,
    "start_time": "2022-04-01T02:50:21.320Z"
   },
   {
    "duration": 38,
    "start_time": "2022-04-01T02:50:21.480Z"
   },
   {
    "duration": 561,
    "start_time": "2022-04-01T02:50:21.520Z"
   },
   {
    "duration": 1211,
    "start_time": "2022-04-01T02:50:22.084Z"
   },
   {
    "duration": 277,
    "start_time": "2022-04-01T02:50:23.297Z"
   },
   {
    "duration": 565,
    "start_time": "2022-04-01T02:50:23.576Z"
   },
   {
    "duration": 812,
    "start_time": "2022-04-01T02:50:24.145Z"
   },
   {
    "duration": 674,
    "start_time": "2022-04-01T02:50:24.959Z"
   },
   {
    "duration": 228,
    "start_time": "2022-04-01T02:50:25.635Z"
   },
   {
    "duration": 5,
    "start_time": "2022-04-01T02:51:56.365Z"
   },
   {
    "duration": 81,
    "start_time": "2022-04-01T02:51:56.373Z"
   },
   {
    "duration": 4,
    "start_time": "2022-04-01T02:51:56.456Z"
   },
   {
    "duration": 14,
    "start_time": "2022-04-01T02:51:56.463Z"
   },
   {
    "duration": 37,
    "start_time": "2022-04-01T02:51:56.479Z"
   },
   {
    "duration": 65,
    "start_time": "2022-04-01T02:51:56.518Z"
   },
   {
    "duration": 12,
    "start_time": "2022-04-01T02:51:56.585Z"
   },
   {
    "duration": 10,
    "start_time": "2022-04-01T02:51:56.599Z"
   },
   {
    "duration": 6,
    "start_time": "2022-04-01T02:51:56.611Z"
   },
   {
    "duration": 83,
    "start_time": "2022-04-01T02:51:56.621Z"
   },
   {
    "duration": 187,
    "start_time": "2022-04-01T02:51:56.706Z"
   },
   {
    "duration": 88,
    "start_time": "2022-04-01T02:51:56.895Z"
   },
   {
    "duration": 297,
    "start_time": "2022-04-01T02:51:57.076Z"
   },
   {
    "duration": 247,
    "start_time": "2022-04-01T02:51:57.376Z"
   },
   {
    "duration": 200,
    "start_time": "2022-04-01T02:51:57.625Z"
   },
   {
    "duration": 21005,
    "start_time": "2022-04-01T02:51:57.827Z"
   },
   {
    "duration": 194,
    "start_time": "2022-04-01T02:52:18.835Z"
   },
   {
    "duration": 5,
    "start_time": "2022-04-01T02:52:19.032Z"
   },
   {
    "duration": 15,
    "start_time": "2022-04-01T02:52:19.039Z"
   },
   {
    "duration": 268,
    "start_time": "2022-04-01T02:52:19.057Z"
   },
   {
    "duration": 544,
    "start_time": "2022-04-01T02:52:26.334Z"
   },
   {
    "duration": 413,
    "start_time": "2022-04-01T02:52:32.431Z"
   },
   {
    "duration": 333,
    "start_time": "2022-04-01T02:52:40.317Z"
   },
   {
    "duration": 312,
    "start_time": "2022-04-01T03:03:34.830Z"
   },
   {
    "duration": 395,
    "start_time": "2022-04-01T03:07:55.299Z"
   },
   {
    "duration": 331,
    "start_time": "2022-04-01T03:08:05.402Z"
   },
   {
    "duration": 314,
    "start_time": "2022-04-01T03:08:22.599Z"
   },
   {
    "duration": 187,
    "start_time": "2022-04-01T03:08:32.633Z"
   },
   {
    "duration": 195,
    "start_time": "2022-04-01T03:16:38.987Z"
   },
   {
    "duration": 217,
    "start_time": "2022-04-01T03:16:47.326Z"
   },
   {
    "duration": 251,
    "start_time": "2022-04-01T03:16:56.128Z"
   },
   {
    "duration": 239,
    "start_time": "2022-04-01T03:17:05.200Z"
   },
   {
    "duration": 173,
    "start_time": "2022-04-01T03:19:25.605Z"
   },
   {
    "duration": 164,
    "start_time": "2022-04-01T03:19:32.495Z"
   },
   {
    "duration": 185,
    "start_time": "2022-04-01T03:19:42.369Z"
   },
   {
    "duration": 174,
    "start_time": "2022-04-01T03:19:52.162Z"
   },
   {
    "duration": 185,
    "start_time": "2022-04-01T03:20:00.191Z"
   },
   {
    "duration": 188,
    "start_time": "2022-04-01T03:22:00.110Z"
   },
   {
    "duration": 183,
    "start_time": "2022-04-01T03:22:11.271Z"
   },
   {
    "duration": 166,
    "start_time": "2022-04-01T03:22:21.707Z"
   },
   {
    "duration": 175,
    "start_time": "2022-04-01T03:22:32.337Z"
   },
   {
    "duration": 318,
    "start_time": "2022-04-01T03:33:57.630Z"
   },
   {
    "duration": 325,
    "start_time": "2022-04-01T03:34:32.651Z"
   },
   {
    "duration": 320,
    "start_time": "2022-04-01T03:34:57.139Z"
   },
   {
    "duration": 315,
    "start_time": "2022-04-01T03:35:06.972Z"
   },
   {
    "duration": 171,
    "start_time": "2022-04-01T03:35:26.236Z"
   },
   {
    "duration": 166,
    "start_time": "2022-04-01T03:36:37.121Z"
   },
   {
    "duration": 40,
    "start_time": "2022-04-01T03:42:43.164Z"
   },
   {
    "duration": 42,
    "start_time": "2022-04-01T03:43:11.843Z"
   },
   {
    "duration": 20827,
    "start_time": "2022-04-01T04:11:33.817Z"
   },
   {
    "duration": 199,
    "start_time": "2022-04-01T04:13:01.914Z"
   },
   {
    "duration": 94,
    "start_time": "2022-04-01T04:13:40.131Z"
   },
   {
    "duration": 176,
    "start_time": "2022-04-01T04:13:54.934Z"
   },
   {
    "duration": 47,
    "start_time": "2022-04-01T04:17:17.882Z"
   },
   {
    "duration": 19786,
    "start_time": "2022-04-01T04:21:01.131Z"
   },
   {
    "duration": 1846,
    "start_time": "2022-04-01T05:15:26.300Z"
   },
   {
    "duration": 82,
    "start_time": "2022-04-01T05:15:28.149Z"
   },
   {
    "duration": 4,
    "start_time": "2022-04-01T05:15:28.233Z"
   },
   {
    "duration": 8,
    "start_time": "2022-04-01T05:15:28.240Z"
   },
   {
    "duration": 54,
    "start_time": "2022-04-01T05:15:28.250Z"
   },
   {
    "duration": 35,
    "start_time": "2022-04-01T05:15:28.306Z"
   },
   {
    "duration": 33,
    "start_time": "2022-04-01T05:15:28.343Z"
   },
   {
    "duration": 9,
    "start_time": "2022-04-01T05:15:28.379Z"
   },
   {
    "duration": 6,
    "start_time": "2022-04-01T05:15:28.391Z"
   },
   {
    "duration": 83,
    "start_time": "2022-04-01T05:15:28.401Z"
   },
   {
    "duration": 197,
    "start_time": "2022-04-01T05:15:28.487Z"
   },
   {
    "duration": 100,
    "start_time": "2022-04-01T05:15:28.686Z"
   },
   {
    "duration": 293,
    "start_time": "2022-04-01T05:15:28.877Z"
   },
   {
    "duration": 249,
    "start_time": "2022-04-01T05:15:29.173Z"
   },
   {
    "duration": 201,
    "start_time": "2022-04-01T05:15:29.424Z"
   },
   {
    "duration": 20714,
    "start_time": "2022-04-01T05:15:29.627Z"
   },
   {
    "duration": 199,
    "start_time": "2022-04-01T05:15:50.343Z"
   },
   {
    "duration": 6,
    "start_time": "2022-04-01T05:15:50.544Z"
   },
   {
    "duration": 22,
    "start_time": "2022-04-01T05:15:50.552Z"
   },
   {
    "duration": 263,
    "start_time": "2022-04-01T05:15:50.576Z"
   },
   {
    "duration": 411,
    "start_time": "2022-04-01T05:15:50.841Z"
   },
   {
    "duration": 188,
    "start_time": "2022-04-01T05:15:51.254Z"
   },
   {
    "duration": 193,
    "start_time": "2022-04-01T05:15:51.444Z"
   },
   {
    "duration": 0,
    "start_time": "2022-04-01T05:15:51.640Z"
   },
   {
    "duration": 0,
    "start_time": "2022-04-01T05:15:51.643Z"
   },
   {
    "duration": 0,
    "start_time": "2022-04-01T05:15:51.645Z"
   },
   {
    "duration": 0,
    "start_time": "2022-04-01T05:15:51.648Z"
   },
   {
    "duration": 0,
    "start_time": "2022-04-01T05:15:51.650Z"
   },
   {
    "duration": 0,
    "start_time": "2022-04-01T05:15:51.652Z"
   },
   {
    "duration": 0,
    "start_time": "2022-04-01T05:15:51.675Z"
   },
   {
    "duration": 32,
    "start_time": "2022-04-01T05:18:11.420Z"
   },
   {
    "duration": 25058,
    "start_time": "2022-04-01T05:18:27.919Z"
   },
   {
    "duration": 25211,
    "start_time": "2022-04-01T05:19:20.216Z"
   },
   {
    "duration": 51696,
    "start_time": "2022-04-01T05:24:38.949Z"
   },
   {
    "duration": 67671,
    "start_time": "2022-04-01T05:27:21.043Z"
   },
   {
    "duration": 89022,
    "start_time": "2022-04-01T05:28:44.852Z"
   },
   {
    "duration": 89726,
    "start_time": "2022-04-01T05:31:23.758Z"
   },
   {
    "duration": 49918,
    "start_time": "2022-04-01T05:33:22.629Z"
   },
   {
    "duration": 51343,
    "start_time": "2022-04-01T05:35:46.199Z"
   },
   {
    "duration": 44093,
    "start_time": "2022-04-01T05:37:11.554Z"
   },
   {
    "duration": 25450,
    "start_time": "2022-04-01T05:38:38.364Z"
   },
   {
    "duration": 67032,
    "start_time": "2022-04-01T05:39:27.216Z"
   },
   {
    "duration": 51893,
    "start_time": "2022-04-01T05:42:09.472Z"
   },
   {
    "duration": 66617,
    "start_time": "2022-04-01T05:43:40.557Z"
   },
   {
    "duration": 67072,
    "start_time": "2022-04-01T05:46:00.597Z"
   },
   {
    "duration": 16834,
    "start_time": "2022-04-01T05:47:38.116Z"
   },
   {
    "duration": 7086,
    "start_time": "2022-04-01T05:48:17.374Z"
   },
   {
    "duration": 14445,
    "start_time": "2022-04-01T05:48:36.350Z"
   },
   {
    "duration": 17914,
    "start_time": "2022-04-01T05:49:19.163Z"
   },
   {
    "duration": 208,
    "start_time": "2022-04-01T06:28:50.978Z"
   },
   {
    "duration": 199,
    "start_time": "2022-04-01T06:37:44.475Z"
   },
   {
    "duration": 190,
    "start_time": "2022-04-01T06:38:40.729Z"
   },
   {
    "duration": 184,
    "start_time": "2022-04-01T06:39:08.621Z"
   },
   {
    "duration": 431,
    "start_time": "2022-04-01T06:39:15.293Z"
   },
   {
    "duration": 192,
    "start_time": "2022-04-01T06:39:15.923Z"
   },
   {
    "duration": 180,
    "start_time": "2022-04-01T06:39:20.431Z"
   },
   {
    "duration": 24,
    "start_time": "2022-04-01T06:39:23.686Z"
   },
   {
    "duration": 187,
    "start_time": "2022-04-01T06:39:38.353Z"
   },
   {
    "duration": 25432,
    "start_time": "2022-04-01T06:41:44.829Z"
   },
   {
    "duration": 35742,
    "start_time": "2022-04-01T06:42:36.057Z"
   },
   {
    "duration": 38161,
    "start_time": "2022-04-01T06:44:03.545Z"
   },
   {
    "duration": 78888,
    "start_time": "2022-04-01T06:45:32.372Z"
   },
   {
    "duration": 40617,
    "start_time": "2022-04-01T06:47:06.995Z"
   },
   {
    "duration": 79983,
    "start_time": "2022-04-01T06:48:19.317Z"
   },
   {
    "duration": 19587,
    "start_time": "2022-04-01T06:51:44.128Z"
   },
   {
    "duration": 2072,
    "start_time": "2022-04-01T07:57:47.807Z"
   },
   {
    "duration": 77,
    "start_time": "2022-04-01T07:57:49.881Z"
   },
   {
    "duration": 14,
    "start_time": "2022-04-01T07:57:49.960Z"
   },
   {
    "duration": 6,
    "start_time": "2022-04-01T07:57:49.976Z"
   },
   {
    "duration": 35,
    "start_time": "2022-04-01T07:57:49.984Z"
   },
   {
    "duration": 67,
    "start_time": "2022-04-01T07:57:50.021Z"
   },
   {
    "duration": 12,
    "start_time": "2022-04-01T07:57:50.090Z"
   },
   {
    "duration": 16,
    "start_time": "2022-04-01T07:57:50.104Z"
   },
   {
    "duration": 12,
    "start_time": "2022-04-01T07:57:50.122Z"
   },
   {
    "duration": 66,
    "start_time": "2022-04-01T07:57:50.138Z"
   },
   {
    "duration": 207,
    "start_time": "2022-04-01T07:57:50.207Z"
   },
   {
    "duration": 66,
    "start_time": "2022-04-01T07:57:50.416Z"
   },
   {
    "duration": 296,
    "start_time": "2022-04-01T07:57:50.580Z"
   },
   {
    "duration": 250,
    "start_time": "2022-04-01T07:57:50.878Z"
   },
   {
    "duration": 200,
    "start_time": "2022-04-01T07:57:51.130Z"
   },
   {
    "duration": 21131,
    "start_time": "2022-04-01T07:57:51.332Z"
   },
   {
    "duration": 197,
    "start_time": "2022-04-01T07:58:12.465Z"
   },
   {
    "duration": 10,
    "start_time": "2022-04-01T07:58:12.664Z"
   },
   {
    "duration": 11,
    "start_time": "2022-04-01T07:58:12.676Z"
   },
   {
    "duration": 270,
    "start_time": "2022-04-01T07:58:12.689Z"
   },
   {
    "duration": 269,
    "start_time": "2022-04-01T07:58:12.961Z"
   },
   {
    "duration": 324,
    "start_time": "2022-04-01T07:58:13.232Z"
   },
   {
    "duration": 197,
    "start_time": "2022-04-01T07:58:13.558Z"
   },
   {
    "duration": 180,
    "start_time": "2022-04-01T07:58:13.757Z"
   },
   {
    "duration": 194,
    "start_time": "2022-04-01T07:58:13.939Z"
   },
   {
    "duration": 38017,
    "start_time": "2022-04-01T07:58:14.135Z"
   },
   {
    "duration": 59329,
    "start_time": "2022-04-01T07:58:52.154Z"
   },
   {
    "duration": 23244,
    "start_time": "2022-04-01T07:59:51.487Z"
   },
   {
    "duration": 714,
    "start_time": "2022-04-01T08:00:14.733Z"
   },
   {
    "duration": 706,
    "start_time": "2022-04-01T08:00:15.449Z"
   },
   {
    "duration": 235,
    "start_time": "2022-04-01T08:00:16.157Z"
   },
   {
    "duration": 198,
    "start_time": "2022-04-01T08:03:20.747Z"
   },
   {
    "duration": 197,
    "start_time": "2022-04-01T08:04:03.927Z"
   },
   {
    "duration": 194,
    "start_time": "2022-04-01T08:04:46.182Z"
   },
   {
    "duration": 8,
    "start_time": "2022-04-01T08:21:31.309Z"
   },
   {
    "duration": 7,
    "start_time": "2022-04-01T08:21:42.952Z"
   },
   {
    "duration": 8,
    "start_time": "2022-04-01T08:21:56.790Z"
   },
   {
    "duration": 7,
    "start_time": "2022-04-01T08:22:12.938Z"
   },
   {
    "duration": 7,
    "start_time": "2022-04-01T08:25:01.017Z"
   },
   {
    "duration": 7,
    "start_time": "2022-04-01T08:25:18.884Z"
   },
   {
    "duration": 8,
    "start_time": "2022-04-01T08:26:25.742Z"
   },
   {
    "duration": 709,
    "start_time": "2022-04-01T08:27:22.471Z"
   },
   {
    "duration": 1584,
    "start_time": "2022-04-01T08:32:55.682Z"
   },
   {
    "duration": 100,
    "start_time": "2022-04-01T08:35:58.040Z"
   },
   {
    "duration": 39520,
    "start_time": "2022-04-01T08:36:15.962Z"
   },
   {
    "duration": 48584,
    "start_time": "2022-04-01T08:37:05.560Z"
   },
   {
    "duration": 1268,
    "start_time": "2022-04-01T08:41:43.340Z"
   },
   {
    "duration": 24196,
    "start_time": "2022-04-01T08:42:43.279Z"
   },
   {
    "duration": 1258,
    "start_time": "2022-04-01T08:45:20.465Z"
   },
   {
    "duration": 228,
    "start_time": "2022-04-01T09:00:12.591Z"
   },
   {
    "duration": 188,
    "start_time": "2022-04-01T09:04:53.821Z"
   },
   {
    "duration": 8,
    "start_time": "2022-04-01T09:09:00.581Z"
   },
   {
    "duration": 37904,
    "start_time": "2022-04-01T09:13:27.308Z"
   },
   {
    "duration": 195,
    "start_time": "2022-04-01T09:15:02.981Z"
   },
   {
    "duration": 1855,
    "start_time": "2022-04-01T09:24:34.633Z"
   },
   {
    "duration": 1994,
    "start_time": "2022-04-01T09:46:29.631Z"
   },
   {
    "duration": 84,
    "start_time": "2022-04-01T09:46:31.628Z"
   },
   {
    "duration": 4,
    "start_time": "2022-04-01T09:46:31.715Z"
   },
   {
    "duration": 18,
    "start_time": "2022-04-01T09:46:31.722Z"
   },
   {
    "duration": 52,
    "start_time": "2022-04-01T09:46:31.744Z"
   },
   {
    "duration": 37,
    "start_time": "2022-04-01T09:46:31.798Z"
   },
   {
    "duration": 37,
    "start_time": "2022-04-01T09:46:31.838Z"
   },
   {
    "duration": 11,
    "start_time": "2022-04-01T09:46:31.877Z"
   },
   {
    "duration": 14,
    "start_time": "2022-04-01T09:46:31.890Z"
   },
   {
    "duration": 68,
    "start_time": "2022-04-01T09:46:31.906Z"
   },
   {
    "duration": 211,
    "start_time": "2022-04-01T09:46:31.976Z"
   },
   {
    "duration": 93,
    "start_time": "2022-04-01T09:46:32.190Z"
   },
   {
    "duration": 302,
    "start_time": "2022-04-01T09:46:32.375Z"
   },
   {
    "duration": 264,
    "start_time": "2022-04-01T09:46:32.682Z"
   },
   {
    "duration": 211,
    "start_time": "2022-04-01T09:46:32.948Z"
   },
   {
    "duration": 21998,
    "start_time": "2022-04-01T09:46:33.161Z"
   },
   {
    "duration": 228,
    "start_time": "2022-04-01T09:46:55.164Z"
   },
   {
    "duration": 6,
    "start_time": "2022-04-01T09:46:55.394Z"
   },
   {
    "duration": 14,
    "start_time": "2022-04-01T09:46:55.403Z"
   },
   {
    "duration": 295,
    "start_time": "2022-04-01T09:46:55.420Z"
   },
   {
    "duration": 286,
    "start_time": "2022-04-01T09:46:55.718Z"
   },
   {
    "duration": 337,
    "start_time": "2022-04-01T09:46:56.007Z"
   },
   {
    "duration": 251,
    "start_time": "2022-04-01T09:46:56.347Z"
   },
   {
    "duration": 189,
    "start_time": "2022-04-01T09:46:56.601Z"
   },
   {
    "duration": 209,
    "start_time": "2022-04-01T09:46:56.792Z"
   },
   {
    "duration": 39031,
    "start_time": "2022-04-01T09:46:57.003Z"
   },
   {
    "duration": 211,
    "start_time": "2022-04-01T09:47:36.036Z"
   },
   {
    "duration": 54228,
    "start_time": "2022-04-01T09:47:36.249Z"
   },
   {
    "duration": 233,
    "start_time": "2022-04-01T09:48:30.479Z"
   },
   {
    "duration": 23616,
    "start_time": "2022-04-01T09:48:30.714Z"
   },
   {
    "duration": 209,
    "start_time": "2022-04-01T09:48:54.332Z"
   },
   {
    "duration": 1375,
    "start_time": "2022-04-01T09:48:54.543Z"
   },
   {
    "duration": 696,
    "start_time": "2022-04-01T09:48:55.920Z"
   },
   {
    "duration": 209,
    "start_time": "2022-04-01T09:48:56.619Z"
   },
   {
    "duration": 1864,
    "start_time": "2022-04-01T09:48:56.830Z"
   },
   {
    "duration": 36964,
    "start_time": "2022-04-01T09:48:58.697Z"
   },
   {
    "duration": 214,
    "start_time": "2022-04-01T09:49:35.663Z"
   },
   {
    "duration": 1891,
    "start_time": "2022-04-01T09:52:42.208Z"
   },
   {
    "duration": 191,
    "start_time": "2022-04-01T09:53:08.788Z"
   },
   {
    "duration": 1957,
    "start_time": "2022-04-01T09:59:15.926Z"
   },
   {
    "duration": 1838,
    "start_time": "2022-04-01T10:06:25.836Z"
   },
   {
    "duration": 37,
    "start_time": "2022-04-01T10:15:23.033Z"
   },
   {
    "duration": 1834,
    "start_time": "2022-04-01T14:11:11.429Z"
   },
   {
    "duration": 64,
    "start_time": "2022-04-01T14:11:13.265Z"
   },
   {
    "duration": 4,
    "start_time": "2022-04-01T14:11:13.332Z"
   },
   {
    "duration": 8,
    "start_time": "2022-04-01T14:11:13.338Z"
   },
   {
    "duration": 42,
    "start_time": "2022-04-01T14:11:13.349Z"
   },
   {
    "duration": 36,
    "start_time": "2022-04-01T14:11:13.393Z"
   },
   {
    "duration": 11,
    "start_time": "2022-04-01T14:11:13.432Z"
   },
   {
    "duration": 8,
    "start_time": "2022-04-01T14:11:13.446Z"
   },
   {
    "duration": 6,
    "start_time": "2022-04-01T14:11:13.456Z"
   },
   {
    "duration": 39,
    "start_time": "2022-04-01T14:11:13.501Z"
   },
   {
    "duration": 144,
    "start_time": "2022-04-01T14:11:13.542Z"
   },
   {
    "duration": 102,
    "start_time": "2022-04-01T14:11:13.700Z"
   },
   {
    "duration": 224,
    "start_time": "2022-04-01T14:11:13.805Z"
   },
   {
    "duration": 208,
    "start_time": "2022-04-01T14:11:14.033Z"
   },
   {
    "duration": 135,
    "start_time": "2022-04-01T14:11:14.243Z"
   },
   {
    "duration": 15707,
    "start_time": "2022-04-01T14:11:14.380Z"
   },
   {
    "duration": 132,
    "start_time": "2022-04-01T14:11:30.089Z"
   },
   {
    "duration": 5,
    "start_time": "2022-04-01T14:11:30.223Z"
   },
   {
    "duration": 15,
    "start_time": "2022-04-01T14:11:30.230Z"
   },
   {
    "duration": 197,
    "start_time": "2022-04-01T14:11:30.247Z"
   },
   {
    "duration": 202,
    "start_time": "2022-04-01T14:11:30.446Z"
   },
   {
    "duration": 241,
    "start_time": "2022-04-01T14:11:30.649Z"
   },
   {
    "duration": 131,
    "start_time": "2022-04-01T14:11:30.892Z"
   },
   {
    "duration": 135,
    "start_time": "2022-04-01T14:11:31.024Z"
   },
   {
    "duration": 128,
    "start_time": "2022-04-01T14:11:31.160Z"
   },
   {
    "duration": 28261,
    "start_time": "2022-04-01T14:11:31.290Z"
   },
   {
    "duration": 135,
    "start_time": "2022-04-01T14:11:59.553Z"
   },
   {
    "duration": 39266,
    "start_time": "2022-04-01T14:11:59.690Z"
   },
   {
    "duration": 133,
    "start_time": "2022-04-01T14:12:38.958Z"
   },
   {
    "duration": 17317,
    "start_time": "2022-04-01T14:12:39.100Z"
   },
   {
    "duration": 139,
    "start_time": "2022-04-01T14:12:56.418Z"
   },
   {
    "duration": 948,
    "start_time": "2022-04-01T14:12:56.559Z"
   },
   {
    "duration": 518,
    "start_time": "2022-04-01T14:12:57.509Z"
   },
   {
    "duration": 136,
    "start_time": "2022-04-01T14:12:58.029Z"
   },
   {
    "duration": 1295,
    "start_time": "2022-04-01T14:12:58.166Z"
   },
   {
    "duration": 133,
    "start_time": "2022-04-01T14:12:59.463Z"
   },
   {
    "duration": 3075,
    "start_time": "2022-04-01T16:55:38.442Z"
   },
   {
    "duration": 85,
    "start_time": "2022-04-01T16:55:41.520Z"
   },
   {
    "duration": 4,
    "start_time": "2022-04-01T16:55:41.607Z"
   },
   {
    "duration": 22,
    "start_time": "2022-04-01T16:55:41.614Z"
   },
   {
    "duration": 53,
    "start_time": "2022-04-01T16:55:41.638Z"
   },
   {
    "duration": 39,
    "start_time": "2022-04-01T16:55:41.694Z"
   },
   {
    "duration": 14,
    "start_time": "2022-04-01T16:55:41.735Z"
   },
   {
    "duration": 52,
    "start_time": "2022-04-01T16:55:41.752Z"
   },
   {
    "duration": 27,
    "start_time": "2022-04-01T16:55:41.806Z"
   },
   {
    "duration": 76,
    "start_time": "2022-04-01T16:55:41.836Z"
   },
   {
    "duration": 206,
    "start_time": "2022-04-01T16:55:41.914Z"
   },
   {
    "duration": 163,
    "start_time": "2022-04-01T16:55:42.123Z"
   },
   {
    "duration": 287,
    "start_time": "2022-04-01T16:55:42.290Z"
   },
   {
    "duration": 262,
    "start_time": "2022-04-01T16:55:42.579Z"
   },
   {
    "duration": 207,
    "start_time": "2022-04-01T16:55:42.843Z"
   },
   {
    "duration": 22857,
    "start_time": "2022-04-01T16:55:52.792Z"
   },
   {
    "duration": 22370,
    "start_time": "2022-04-01T16:56:50.173Z"
   },
   {
    "duration": 22258,
    "start_time": "2022-04-01T16:57:24.768Z"
   },
   {
    "duration": 22837,
    "start_time": "2022-04-01T17:03:37.842Z"
   },
   {
    "duration": 205,
    "start_time": "2022-04-01T17:04:00.685Z"
   },
   {
    "duration": 6,
    "start_time": "2022-04-01T17:09:28.942Z"
   },
   {
    "duration": 6,
    "start_time": "2022-04-01T17:09:29.393Z"
   },
   {
    "duration": 364,
    "start_time": "2022-04-01T17:10:47.862Z"
   },
   {
    "duration": 320,
    "start_time": "2022-04-01T17:23:50.951Z"
   },
   {
    "duration": 189,
    "start_time": "2022-04-01T17:25:07.103Z"
   },
   {
    "duration": 165,
    "start_time": "2022-04-01T17:25:30.347Z"
   },
   {
    "duration": 190,
    "start_time": "2022-04-01T17:25:54.174Z"
   },
   {
    "duration": 52392,
    "start_time": "2022-04-01T17:28:03.871Z"
   },
   {
    "duration": 202,
    "start_time": "2022-04-01T17:37:51.272Z"
   },
   {
    "duration": 53041,
    "start_time": "2022-04-01T18:11:58.239Z"
   },
   {
    "duration": 209,
    "start_time": "2022-04-01T18:18:49.449Z"
   },
   {
    "duration": 22422,
    "start_time": "2022-04-01T18:18:51.541Z"
   },
   {
    "duration": 202,
    "start_time": "2022-04-01T18:20:01.412Z"
   },
   {
    "duration": 196,
    "start_time": "2022-04-01T18:20:36.347Z"
   },
   {
    "duration": 8,
    "start_time": "2022-04-01T18:36:34.322Z"
   },
   {
    "duration": 597,
    "start_time": "2022-04-01T18:55:42.860Z"
   },
   {
    "duration": 198,
    "start_time": "2022-04-01T18:55:57.383Z"
   },
   {
    "duration": 1873,
    "start_time": "2022-04-01T18:56:33.311Z"
   }
  ],
  "kernelspec": {
   "display_name": "Python 3.9.7 ('base')",
   "language": "python",
   "name": "python3"
  },
  "language_info": {
   "codemirror_mode": {
    "name": "ipython",
    "version": 3
   },
   "file_extension": ".py",
   "mimetype": "text/x-python",
   "name": "python",
   "nbconvert_exporter": "python",
   "pygments_lexer": "ipython3",
   "version": "3.9.7"
  },
  "toc": {
   "base_numbering": 1,
   "nav_menu": {},
   "number_sections": true,
   "sideBar": true,
   "skip_h1_title": true,
   "title_cell": "Содержание",
   "title_sidebar": "Contents",
   "toc_cell": true,
   "toc_position": {
    "height": "calc(100% - 180px)",
    "left": "10px",
    "top": "150px",
    "width": "165px"
   },
   "toc_section_display": true,
   "toc_window_display": false
  },
  "vscode": {
   "interpreter": {
    "hash": "47bb262127e83f4e352f9a4661074feb316fd893d8b83e773ca2637ac59da0c2"
   }
  }
 },
 "nbformat": 4,
 "nbformat_minor": 2
}
