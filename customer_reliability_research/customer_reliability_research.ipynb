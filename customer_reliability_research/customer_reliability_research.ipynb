{
 "cells": [
  {
   "cell_type": "markdown",
   "metadata": {},
   "source": [
    "# Исследование надёжности заёмщиков\n",
    "\n",
    "Заказчик — кредитный отдел банка. Нужно разобраться, влияет ли семейное положение и количество детей клиента на факт погашения кредита в срок. Входные данные от банка — статистика о платёжеспособности клиентов.\n",
    "\n",
    "Результаты исследования будут учтены при построении модели **кредитного скоринга** — специальной системы, которая оценивает способность потенциального заёмщика вернуть кредит банку.\n",
    "\n",
    "**Цель исследования**\n",
    "\n",
    "Ответить на вопросы:\n",
    "- Есть ли зависимость между количеством детей и возвратом кредита в срок?\n",
    "- Есть ли зависимость между семейным положением и возвратом кредита в срок?\n",
    "- Есть ли зависимость между уровнем дохода и возвратом кредита в срок?\n",
    "- Как разные цели кредита влияют на его возврат в срок?\n",
    "\n",
    "**План работы**\n",
    "1. Загрузить данные и изучить общую информацию.\n",
    "2. Провести предобработку данных.\n",
    "3. Провести исследование по интересующим нас вопросам.\n",
    "4. Сделать выводы."
   ]
  },
  {
   "cell_type": "markdown",
   "metadata": {},
   "source": [
    "## Шаг 1. Откроем файл с данными и изучим общую информацию"
   ]
  },
  {
   "cell_type": "code",
   "execution_count": 28,
   "metadata": {},
   "outputs": [],
   "source": [
    "# импорт библиотек\n",
    "\n",
    "import pandas as pd\n",
    "import numpy as np\n",
    "\n",
    "from pymystem3 import Mystem\n",
    "m = Mystem()\n",
    "\n",
    "from collections import Counter\n",
    "\n",
    "import warnings\n",
    "warnings.simplefilter(\"ignore\")"
   ]
  },
  {
   "cell_type": "code",
   "execution_count": 29,
   "metadata": {},
   "outputs": [
    {
     "name": "stdout",
     "output_type": "stream",
     "text": [
      "<class 'pandas.core.frame.DataFrame'>\n",
      "RangeIndex: 21525 entries, 0 to 21524\n",
      "Data columns (total 12 columns):\n",
      " #   Column            Non-Null Count  Dtype  \n",
      "---  ------            --------------  -----  \n",
      " 0   children          21525 non-null  int64  \n",
      " 1   days_employed     19351 non-null  float64\n",
      " 2   dob_years         21525 non-null  int64  \n",
      " 3   education         21525 non-null  object \n",
      " 4   education_id      21525 non-null  int64  \n",
      " 5   family_status     21525 non-null  object \n",
      " 6   family_status_id  21525 non-null  int64  \n",
      " 7   gender            21525 non-null  object \n",
      " 8   income_type       21525 non-null  object \n",
      " 9   debt              21525 non-null  int64  \n",
      " 10  total_income      19351 non-null  float64\n",
      " 11  purpose           21525 non-null  object \n",
      "dtypes: float64(2), int64(5), object(5)\n",
      "memory usage: 2.0+ MB\n"
     ]
    },
    {
     "data": {
      "text/html": [
       "<div>\n",
       "<style scoped>\n",
       "    .dataframe tbody tr th:only-of-type {\n",
       "        vertical-align: middle;\n",
       "    }\n",
       "\n",
       "    .dataframe tbody tr th {\n",
       "        vertical-align: top;\n",
       "    }\n",
       "\n",
       "    .dataframe thead th {\n",
       "        text-align: right;\n",
       "    }\n",
       "</style>\n",
       "<table border=\"1\" class=\"dataframe\">\n",
       "  <thead>\n",
       "    <tr style=\"text-align: right;\">\n",
       "      <th></th>\n",
       "      <th>children</th>\n",
       "      <th>days_employed</th>\n",
       "      <th>dob_years</th>\n",
       "      <th>education</th>\n",
       "      <th>education_id</th>\n",
       "      <th>family_status</th>\n",
       "      <th>family_status_id</th>\n",
       "      <th>gender</th>\n",
       "      <th>income_type</th>\n",
       "      <th>debt</th>\n",
       "      <th>total_income</th>\n",
       "      <th>purpose</th>\n",
       "    </tr>\n",
       "  </thead>\n",
       "  <tbody>\n",
       "    <tr>\n",
       "      <th>0</th>\n",
       "      <td>1</td>\n",
       "      <td>-8437.673028</td>\n",
       "      <td>42</td>\n",
       "      <td>высшее</td>\n",
       "      <td>0</td>\n",
       "      <td>женат / замужем</td>\n",
       "      <td>0</td>\n",
       "      <td>F</td>\n",
       "      <td>сотрудник</td>\n",
       "      <td>0</td>\n",
       "      <td>253875.639453</td>\n",
       "      <td>покупка жилья</td>\n",
       "    </tr>\n",
       "    <tr>\n",
       "      <th>1</th>\n",
       "      <td>1</td>\n",
       "      <td>-4024.803754</td>\n",
       "      <td>36</td>\n",
       "      <td>среднее</td>\n",
       "      <td>1</td>\n",
       "      <td>женат / замужем</td>\n",
       "      <td>0</td>\n",
       "      <td>F</td>\n",
       "      <td>сотрудник</td>\n",
       "      <td>0</td>\n",
       "      <td>112080.014102</td>\n",
       "      <td>приобретение автомобиля</td>\n",
       "    </tr>\n",
       "    <tr>\n",
       "      <th>2</th>\n",
       "      <td>0</td>\n",
       "      <td>-5623.422610</td>\n",
       "      <td>33</td>\n",
       "      <td>Среднее</td>\n",
       "      <td>1</td>\n",
       "      <td>женат / замужем</td>\n",
       "      <td>0</td>\n",
       "      <td>M</td>\n",
       "      <td>сотрудник</td>\n",
       "      <td>0</td>\n",
       "      <td>145885.952297</td>\n",
       "      <td>покупка жилья</td>\n",
       "    </tr>\n",
       "    <tr>\n",
       "      <th>3</th>\n",
       "      <td>3</td>\n",
       "      <td>-4124.747207</td>\n",
       "      <td>32</td>\n",
       "      <td>среднее</td>\n",
       "      <td>1</td>\n",
       "      <td>женат / замужем</td>\n",
       "      <td>0</td>\n",
       "      <td>M</td>\n",
       "      <td>сотрудник</td>\n",
       "      <td>0</td>\n",
       "      <td>267628.550329</td>\n",
       "      <td>дополнительное образование</td>\n",
       "    </tr>\n",
       "    <tr>\n",
       "      <th>4</th>\n",
       "      <td>0</td>\n",
       "      <td>340266.072047</td>\n",
       "      <td>53</td>\n",
       "      <td>среднее</td>\n",
       "      <td>1</td>\n",
       "      <td>гражданский брак</td>\n",
       "      <td>1</td>\n",
       "      <td>F</td>\n",
       "      <td>пенсионер</td>\n",
       "      <td>0</td>\n",
       "      <td>158616.077870</td>\n",
       "      <td>сыграть свадьбу</td>\n",
       "    </tr>\n",
       "    <tr>\n",
       "      <th>5</th>\n",
       "      <td>0</td>\n",
       "      <td>-926.185831</td>\n",
       "      <td>27</td>\n",
       "      <td>высшее</td>\n",
       "      <td>0</td>\n",
       "      <td>гражданский брак</td>\n",
       "      <td>1</td>\n",
       "      <td>M</td>\n",
       "      <td>компаньон</td>\n",
       "      <td>0</td>\n",
       "      <td>255763.565419</td>\n",
       "      <td>покупка жилья</td>\n",
       "    </tr>\n",
       "    <tr>\n",
       "      <th>6</th>\n",
       "      <td>0</td>\n",
       "      <td>-2879.202052</td>\n",
       "      <td>43</td>\n",
       "      <td>высшее</td>\n",
       "      <td>0</td>\n",
       "      <td>женат / замужем</td>\n",
       "      <td>0</td>\n",
       "      <td>F</td>\n",
       "      <td>компаньон</td>\n",
       "      <td>0</td>\n",
       "      <td>240525.971920</td>\n",
       "      <td>операции с жильем</td>\n",
       "    </tr>\n",
       "    <tr>\n",
       "      <th>7</th>\n",
       "      <td>0</td>\n",
       "      <td>-152.779569</td>\n",
       "      <td>50</td>\n",
       "      <td>СРЕДНЕЕ</td>\n",
       "      <td>1</td>\n",
       "      <td>женат / замужем</td>\n",
       "      <td>0</td>\n",
       "      <td>M</td>\n",
       "      <td>сотрудник</td>\n",
       "      <td>0</td>\n",
       "      <td>135823.934197</td>\n",
       "      <td>образование</td>\n",
       "    </tr>\n",
       "    <tr>\n",
       "      <th>8</th>\n",
       "      <td>2</td>\n",
       "      <td>-6929.865299</td>\n",
       "      <td>35</td>\n",
       "      <td>ВЫСШЕЕ</td>\n",
       "      <td>0</td>\n",
       "      <td>гражданский брак</td>\n",
       "      <td>1</td>\n",
       "      <td>F</td>\n",
       "      <td>сотрудник</td>\n",
       "      <td>0</td>\n",
       "      <td>95856.832424</td>\n",
       "      <td>на проведение свадьбы</td>\n",
       "    </tr>\n",
       "    <tr>\n",
       "      <th>9</th>\n",
       "      <td>0</td>\n",
       "      <td>-2188.756445</td>\n",
       "      <td>41</td>\n",
       "      <td>среднее</td>\n",
       "      <td>1</td>\n",
       "      <td>женат / замужем</td>\n",
       "      <td>0</td>\n",
       "      <td>M</td>\n",
       "      <td>сотрудник</td>\n",
       "      <td>0</td>\n",
       "      <td>144425.938277</td>\n",
       "      <td>покупка жилья для семьи</td>\n",
       "    </tr>\n",
       "    <tr>\n",
       "      <th>10</th>\n",
       "      <td>2</td>\n",
       "      <td>-4171.483647</td>\n",
       "      <td>36</td>\n",
       "      <td>высшее</td>\n",
       "      <td>0</td>\n",
       "      <td>женат / замужем</td>\n",
       "      <td>0</td>\n",
       "      <td>M</td>\n",
       "      <td>компаньон</td>\n",
       "      <td>0</td>\n",
       "      <td>113943.491460</td>\n",
       "      <td>покупка недвижимости</td>\n",
       "    </tr>\n",
       "    <tr>\n",
       "      <th>11</th>\n",
       "      <td>0</td>\n",
       "      <td>-792.701887</td>\n",
       "      <td>40</td>\n",
       "      <td>среднее</td>\n",
       "      <td>1</td>\n",
       "      <td>женат / замужем</td>\n",
       "      <td>0</td>\n",
       "      <td>F</td>\n",
       "      <td>сотрудник</td>\n",
       "      <td>0</td>\n",
       "      <td>77069.234271</td>\n",
       "      <td>покупка коммерческой недвижимости</td>\n",
       "    </tr>\n",
       "    <tr>\n",
       "      <th>12</th>\n",
       "      <td>0</td>\n",
       "      <td>NaN</td>\n",
       "      <td>65</td>\n",
       "      <td>среднее</td>\n",
       "      <td>1</td>\n",
       "      <td>гражданский брак</td>\n",
       "      <td>1</td>\n",
       "      <td>M</td>\n",
       "      <td>пенсионер</td>\n",
       "      <td>0</td>\n",
       "      <td>NaN</td>\n",
       "      <td>сыграть свадьбу</td>\n",
       "    </tr>\n",
       "    <tr>\n",
       "      <th>13</th>\n",
       "      <td>0</td>\n",
       "      <td>-1846.641941</td>\n",
       "      <td>54</td>\n",
       "      <td>неоконченное высшее</td>\n",
       "      <td>2</td>\n",
       "      <td>женат / замужем</td>\n",
       "      <td>0</td>\n",
       "      <td>F</td>\n",
       "      <td>сотрудник</td>\n",
       "      <td>0</td>\n",
       "      <td>130458.228857</td>\n",
       "      <td>приобретение автомобиля</td>\n",
       "    </tr>\n",
       "    <tr>\n",
       "      <th>14</th>\n",
       "      <td>0</td>\n",
       "      <td>-1844.956182</td>\n",
       "      <td>56</td>\n",
       "      <td>высшее</td>\n",
       "      <td>0</td>\n",
       "      <td>гражданский брак</td>\n",
       "      <td>1</td>\n",
       "      <td>F</td>\n",
       "      <td>компаньон</td>\n",
       "      <td>1</td>\n",
       "      <td>165127.911772</td>\n",
       "      <td>покупка жилой недвижимости</td>\n",
       "    </tr>\n",
       "  </tbody>\n",
       "</table>\n",
       "</div>"
      ],
      "text/plain": [
       "    children  days_employed  dob_years            education  education_id  \\\n",
       "0          1   -8437.673028         42               высшее             0   \n",
       "1          1   -4024.803754         36              среднее             1   \n",
       "2          0   -5623.422610         33              Среднее             1   \n",
       "3          3   -4124.747207         32              среднее             1   \n",
       "4          0  340266.072047         53              среднее             1   \n",
       "5          0    -926.185831         27               высшее             0   \n",
       "6          0   -2879.202052         43               высшее             0   \n",
       "7          0    -152.779569         50              СРЕДНЕЕ             1   \n",
       "8          2   -6929.865299         35               ВЫСШЕЕ             0   \n",
       "9          0   -2188.756445         41              среднее             1   \n",
       "10         2   -4171.483647         36               высшее             0   \n",
       "11         0    -792.701887         40              среднее             1   \n",
       "12         0            NaN         65              среднее             1   \n",
       "13         0   -1846.641941         54  неоконченное высшее             2   \n",
       "14         0   -1844.956182         56               высшее             0   \n",
       "\n",
       "       family_status  family_status_id gender income_type  debt  \\\n",
       "0    женат / замужем                 0      F   сотрудник     0   \n",
       "1    женат / замужем                 0      F   сотрудник     0   \n",
       "2    женат / замужем                 0      M   сотрудник     0   \n",
       "3    женат / замужем                 0      M   сотрудник     0   \n",
       "4   гражданский брак                 1      F   пенсионер     0   \n",
       "5   гражданский брак                 1      M   компаньон     0   \n",
       "6    женат / замужем                 0      F   компаньон     0   \n",
       "7    женат / замужем                 0      M   сотрудник     0   \n",
       "8   гражданский брак                 1      F   сотрудник     0   \n",
       "9    женат / замужем                 0      M   сотрудник     0   \n",
       "10   женат / замужем                 0      M   компаньон     0   \n",
       "11   женат / замужем                 0      F   сотрудник     0   \n",
       "12  гражданский брак                 1      M   пенсионер     0   \n",
       "13   женат / замужем                 0      F   сотрудник     0   \n",
       "14  гражданский брак                 1      F   компаньон     1   \n",
       "\n",
       "     total_income                            purpose  \n",
       "0   253875.639453                      покупка жилья  \n",
       "1   112080.014102            приобретение автомобиля  \n",
       "2   145885.952297                      покупка жилья  \n",
       "3   267628.550329         дополнительное образование  \n",
       "4   158616.077870                    сыграть свадьбу  \n",
       "5   255763.565419                      покупка жилья  \n",
       "6   240525.971920                  операции с жильем  \n",
       "7   135823.934197                        образование  \n",
       "8    95856.832424              на проведение свадьбы  \n",
       "9   144425.938277            покупка жилья для семьи  \n",
       "10  113943.491460               покупка недвижимости  \n",
       "11   77069.234271  покупка коммерческой недвижимости  \n",
       "12            NaN                    сыграть свадьбу  \n",
       "13  130458.228857            приобретение автомобиля  \n",
       "14  165127.911772         покупка жилой недвижимости  "
      ]
     },
     "execution_count": 29,
     "metadata": {},
     "output_type": "execute_result"
    }
   ],
   "source": [
    "# загрузим данные \n",
    "\n",
    "data = pd.read_csv('data.csv')\n",
    "data.info()\n",
    "data.head(15)"
   ]
  },
  {
   "cell_type": "markdown",
   "metadata": {},
   "source": [
    "**Вывод**"
   ]
  },
  {
   "cell_type": "markdown",
   "metadata": {},
   "source": [
    "В каждой строке таблицы имеется информация о клиенте банка - данные о возрасте, образовании, гендерной принадлежности, семейном положении, количестве детей, его трудоустройстве (должность, сколько дней проработал, какой доход) и имел ли клиент задолженность по возврату кредита.\n",
    "\n",
    "На что необходимо обратить внимание:\n",
    "* В столбцах 'days_employed' и 'total_income' есть пропущенные значения.\n",
    "* В столбце 'days_employed' много отрицательных значений, тип данных - float и присутствуют значения, превышающие логические показатели.\n",
    "* В столбце 'children' также есть отрицательные значения.\n",
    "* Данные столбца 'education' записаны разным регистром.\n",
    "* Есть нулевые значения в столбце 'dob_years'.\n"
   ]
  },
  {
   "cell_type": "markdown",
   "metadata": {},
   "source": [
    "## Шаг 2. Предобработка данных"
   ]
  },
  {
   "cell_type": "markdown",
   "metadata": {},
   "source": [
    "### Обработка пропусков"
   ]
  },
  {
   "cell_type": "code",
   "execution_count": 30,
   "metadata": {},
   "outputs": [
    {
     "name": "stdout",
     "output_type": "stream",
     "text": [
      "children               0\n",
      "days_employed       2174\n",
      "dob_years              0\n",
      "education              0\n",
      "education_id           0\n",
      "family_status          0\n",
      "family_status_id       0\n",
      "gender                 0\n",
      "income_type            0\n",
      "debt                   0\n",
      "total_income        2174\n",
      "purpose                0\n",
      "dtype: int64\n"
     ]
    },
    {
     "data": {
      "text/plain": [
       "children            0\n",
       "days_employed       0\n",
       "dob_years           0\n",
       "education           0\n",
       "education_id        0\n",
       "family_status       0\n",
       "family_status_id    0\n",
       "gender              0\n",
       "income_type         0\n",
       "debt                0\n",
       "total_income        0\n",
       "purpose             0\n",
       "dtype: int64"
      ]
     },
     "metadata": {},
     "output_type": "display_data"
    }
   ],
   "source": [
    "print(data.isna().sum())\n",
    "\n",
    "# пропуски income_type и days_employed\n",
    "# замена пропусков в столбце с доходами на медианные значения\n",
    "\n",
    "data['total_income'] = data['total_income'].fillna(data.groupby('income_type')['total_income'].transform('median'))\n",
    "\n",
    "# замена пропусков в столбце со стажем на средние значения\n",
    "\n",
    "data['days_employed'] = data['days_employed'].fillna(data.groupby('dob_years')['days_employed'].transform('mean'))\n",
    "\n",
    "# проверка замен\n",
    "\n",
    "display(data.isna().sum())"
   ]
  },
  {
   "cell_type": "code",
   "execution_count": 31,
   "metadata": {},
   "outputs": [
    {
     "data": {
      "text/html": [
       "<div>\n",
       "<style scoped>\n",
       "    .dataframe tbody tr th:only-of-type {\n",
       "        vertical-align: middle;\n",
       "    }\n",
       "\n",
       "    .dataframe tbody tr th {\n",
       "        vertical-align: top;\n",
       "    }\n",
       "\n",
       "    .dataframe thead th {\n",
       "        text-align: right;\n",
       "    }\n",
       "</style>\n",
       "<table border=\"1\" class=\"dataframe\">\n",
       "  <thead>\n",
       "    <tr style=\"text-align: right;\">\n",
       "      <th></th>\n",
       "      <th>children</th>\n",
       "      <th>days_employed</th>\n",
       "      <th>dob_years</th>\n",
       "      <th>education</th>\n",
       "      <th>education_id</th>\n",
       "      <th>family_status</th>\n",
       "      <th>family_status_id</th>\n",
       "      <th>gender</th>\n",
       "      <th>income_type</th>\n",
       "      <th>debt</th>\n",
       "      <th>total_income</th>\n",
       "      <th>purpose</th>\n",
       "    </tr>\n",
       "  </thead>\n",
       "  <tbody>\n",
       "    <tr>\n",
       "      <th>0</th>\n",
       "      <td>1</td>\n",
       "      <td>8437.673028</td>\n",
       "      <td>42</td>\n",
       "      <td>высшее</td>\n",
       "      <td>0</td>\n",
       "      <td>женат / замужем</td>\n",
       "      <td>0</td>\n",
       "      <td>F</td>\n",
       "      <td>сотрудник</td>\n",
       "      <td>0</td>\n",
       "      <td>253875.639453</td>\n",
       "      <td>покупка жилья</td>\n",
       "    </tr>\n",
       "    <tr>\n",
       "      <th>1</th>\n",
       "      <td>1</td>\n",
       "      <td>4024.803754</td>\n",
       "      <td>36</td>\n",
       "      <td>среднее</td>\n",
       "      <td>1</td>\n",
       "      <td>женат / замужем</td>\n",
       "      <td>0</td>\n",
       "      <td>F</td>\n",
       "      <td>сотрудник</td>\n",
       "      <td>0</td>\n",
       "      <td>112080.014102</td>\n",
       "      <td>приобретение автомобиля</td>\n",
       "    </tr>\n",
       "    <tr>\n",
       "      <th>2</th>\n",
       "      <td>0</td>\n",
       "      <td>5623.422610</td>\n",
       "      <td>33</td>\n",
       "      <td>Среднее</td>\n",
       "      <td>1</td>\n",
       "      <td>женат / замужем</td>\n",
       "      <td>0</td>\n",
       "      <td>M</td>\n",
       "      <td>сотрудник</td>\n",
       "      <td>0</td>\n",
       "      <td>145885.952297</td>\n",
       "      <td>покупка жилья</td>\n",
       "    </tr>\n",
       "    <tr>\n",
       "      <th>3</th>\n",
       "      <td>3</td>\n",
       "      <td>4124.747207</td>\n",
       "      <td>32</td>\n",
       "      <td>среднее</td>\n",
       "      <td>1</td>\n",
       "      <td>женат / замужем</td>\n",
       "      <td>0</td>\n",
       "      <td>M</td>\n",
       "      <td>сотрудник</td>\n",
       "      <td>0</td>\n",
       "      <td>267628.550329</td>\n",
       "      <td>дополнительное образование</td>\n",
       "    </tr>\n",
       "    <tr>\n",
       "      <th>4</th>\n",
       "      <td>0</td>\n",
       "      <td>14177.753002</td>\n",
       "      <td>53</td>\n",
       "      <td>среднее</td>\n",
       "      <td>1</td>\n",
       "      <td>гражданский брак</td>\n",
       "      <td>1</td>\n",
       "      <td>F</td>\n",
       "      <td>пенсионер</td>\n",
       "      <td>0</td>\n",
       "      <td>158616.077870</td>\n",
       "      <td>сыграть свадьбу</td>\n",
       "    </tr>\n",
       "  </tbody>\n",
       "</table>\n",
       "</div>"
      ],
      "text/plain": [
       "   children  days_employed  dob_years education  education_id  \\\n",
       "0         1    8437.673028         42    высшее             0   \n",
       "1         1    4024.803754         36   среднее             1   \n",
       "2         0    5623.422610         33   Среднее             1   \n",
       "3         3    4124.747207         32   среднее             1   \n",
       "4         0   14177.753002         53   среднее             1   \n",
       "\n",
       "      family_status  family_status_id gender income_type  debt   total_income  \\\n",
       "0   женат / замужем                 0      F   сотрудник     0  253875.639453   \n",
       "1   женат / замужем                 0      F   сотрудник     0  112080.014102   \n",
       "2   женат / замужем                 0      M   сотрудник     0  145885.952297   \n",
       "3   женат / замужем                 0      M   сотрудник     0  267628.550329   \n",
       "4  гражданский брак                 1      F   пенсионер     0  158616.077870   \n",
       "\n",
       "                      purpose  \n",
       "0               покупка жилья  \n",
       "1     приобретение автомобиля  \n",
       "2               покупка жилья  \n",
       "3  дополнительное образование  \n",
       "4             сыграть свадьбу  "
      ]
     },
     "metadata": {},
     "output_type": "display_data"
    }
   ],
   "source": [
    "# отрицательные days_employed\n",
    "# преобразуем отрицательные значения в положительные\n",
    "\n",
    "data['days_employed'] = data['days_employed'].map(abs, na_action=None)\n",
    "\n",
    "# пересчитаем превышенные значения\n",
    "\n",
    "for index in range(len(data)):\n",
    "    if data['days_employed'][index] > 16000:\n",
    "        data['days_employed'][index] = data['days_employed'][index] / 24\n",
    "        \n",
    "display(data.head())"
   ]
  },
  {
   "cell_type": "code",
   "execution_count": 33,
   "metadata": {},
   "outputs": [
    {
     "data": {
      "text/plain": [
       "education\n",
       "высшее                  5260\n",
       "начальное                282\n",
       "неоконченное высшее      744\n",
       "среднее                15233\n",
       "ученая степень             6\n",
       "Name: education, dtype: int64"
      ]
     },
     "metadata": {},
     "output_type": "display_data"
    },
    {
     "data": {
      "text/plain": [
       "family_status\n",
       "в разводе                 1195\n",
       "вдовец / вдова             960\n",
       "гражданский брак          4177\n",
       "женат / замужем          12380\n",
       "не женат / не замужем     2813\n",
       "Name: family_status, dtype: int64"
      ]
     },
     "metadata": {},
     "output_type": "display_data"
    }
   ],
   "source": [
    "# регистр education и family_status\n",
    "\n",
    "data['education'] = data['education'].str.lower()\n",
    "display(data.groupby('education')['education'].count())\n",
    "\n",
    "data['family_status'] = data['family_status'].str.lower()\n",
    "display(data.groupby('family_status')['family_status'].count())"
   ]
  },
  {
   "cell_type": "code",
   "execution_count": 36,
   "metadata": {},
   "outputs": [
    {
     "data": {
      "text/plain": [
       "children\n",
       "0     14149\n",
       "1      4865\n",
       "2      2055\n",
       "3       330\n",
       "4        41\n",
       "5         9\n",
       "20       76\n",
       "Name: children, dtype: int64"
      ]
     },
     "metadata": {},
     "output_type": "display_data"
    },
    {
     "data": {
      "text/html": [
       "<div>\n",
       "<style scoped>\n",
       "    .dataframe tbody tr th:only-of-type {\n",
       "        vertical-align: middle;\n",
       "    }\n",
       "\n",
       "    .dataframe tbody tr th {\n",
       "        vertical-align: top;\n",
       "    }\n",
       "\n",
       "    .dataframe thead th {\n",
       "        text-align: right;\n",
       "    }\n",
       "</style>\n",
       "<table border=\"1\" class=\"dataframe\">\n",
       "  <thead>\n",
       "    <tr style=\"text-align: right;\">\n",
       "      <th></th>\n",
       "      <th>children</th>\n",
       "      <th>days_employed</th>\n",
       "      <th>dob_years</th>\n",
       "      <th>education</th>\n",
       "      <th>education_id</th>\n",
       "      <th>family_status</th>\n",
       "      <th>family_status_id</th>\n",
       "      <th>gender</th>\n",
       "      <th>income_type</th>\n",
       "      <th>debt</th>\n",
       "      <th>total_income</th>\n",
       "      <th>purpose</th>\n",
       "    </tr>\n",
       "  </thead>\n",
       "  <tbody>\n",
       "    <tr>\n",
       "      <th>21517</th>\n",
       "      <td>0</td>\n",
       "      <td>404.679034</td>\n",
       "      <td>42</td>\n",
       "      <td>высшее</td>\n",
       "      <td>0</td>\n",
       "      <td>гражданский брак</td>\n",
       "      <td>1</td>\n",
       "      <td>F</td>\n",
       "      <td>компаньон</td>\n",
       "      <td>0</td>\n",
       "      <td>178059.553491</td>\n",
       "      <td>на покупку своего автомобиля</td>\n",
       "    </tr>\n",
       "    <tr>\n",
       "      <th>21518</th>\n",
       "      <td>0</td>\n",
       "      <td>15583.154618</td>\n",
       "      <td>59</td>\n",
       "      <td>среднее</td>\n",
       "      <td>1</td>\n",
       "      <td>женат / замужем</td>\n",
       "      <td>0</td>\n",
       "      <td>F</td>\n",
       "      <td>пенсионер</td>\n",
       "      <td>0</td>\n",
       "      <td>153864.650328</td>\n",
       "      <td>сделка с автомобилем</td>\n",
       "    </tr>\n",
       "    <tr>\n",
       "      <th>21519</th>\n",
       "      <td>1</td>\n",
       "      <td>2351.431934</td>\n",
       "      <td>37</td>\n",
       "      <td>ученая степень</td>\n",
       "      <td>4</td>\n",
       "      <td>в разводе</td>\n",
       "      <td>3</td>\n",
       "      <td>M</td>\n",
       "      <td>сотрудник</td>\n",
       "      <td>0</td>\n",
       "      <td>115949.039788</td>\n",
       "      <td>покупка коммерческой недвижимости</td>\n",
       "    </tr>\n",
       "    <tr>\n",
       "      <th>21520</th>\n",
       "      <td>1</td>\n",
       "      <td>4529.316663</td>\n",
       "      <td>43</td>\n",
       "      <td>среднее</td>\n",
       "      <td>1</td>\n",
       "      <td>гражданский брак</td>\n",
       "      <td>1</td>\n",
       "      <td>F</td>\n",
       "      <td>компаньон</td>\n",
       "      <td>0</td>\n",
       "      <td>224791.862382</td>\n",
       "      <td>операции с жильем</td>\n",
       "    </tr>\n",
       "    <tr>\n",
       "      <th>21521</th>\n",
       "      <td>0</td>\n",
       "      <td>14330.725172</td>\n",
       "      <td>67</td>\n",
       "      <td>среднее</td>\n",
       "      <td>1</td>\n",
       "      <td>женат / замужем</td>\n",
       "      <td>0</td>\n",
       "      <td>F</td>\n",
       "      <td>пенсионер</td>\n",
       "      <td>0</td>\n",
       "      <td>155999.806512</td>\n",
       "      <td>сделка с автомобилем</td>\n",
       "    </tr>\n",
       "    <tr>\n",
       "      <th>21522</th>\n",
       "      <td>1</td>\n",
       "      <td>2113.346888</td>\n",
       "      <td>38</td>\n",
       "      <td>среднее</td>\n",
       "      <td>1</td>\n",
       "      <td>гражданский брак</td>\n",
       "      <td>1</td>\n",
       "      <td>M</td>\n",
       "      <td>сотрудник</td>\n",
       "      <td>1</td>\n",
       "      <td>89672.561153</td>\n",
       "      <td>недвижимость</td>\n",
       "    </tr>\n",
       "    <tr>\n",
       "      <th>21523</th>\n",
       "      <td>3</td>\n",
       "      <td>3112.481705</td>\n",
       "      <td>38</td>\n",
       "      <td>среднее</td>\n",
       "      <td>1</td>\n",
       "      <td>женат / замужем</td>\n",
       "      <td>0</td>\n",
       "      <td>M</td>\n",
       "      <td>сотрудник</td>\n",
       "      <td>1</td>\n",
       "      <td>244093.050500</td>\n",
       "      <td>на покупку своего автомобиля</td>\n",
       "    </tr>\n",
       "    <tr>\n",
       "      <th>21524</th>\n",
       "      <td>2</td>\n",
       "      <td>1984.507589</td>\n",
       "      <td>40</td>\n",
       "      <td>среднее</td>\n",
       "      <td>1</td>\n",
       "      <td>женат / замужем</td>\n",
       "      <td>0</td>\n",
       "      <td>F</td>\n",
       "      <td>сотрудник</td>\n",
       "      <td>0</td>\n",
       "      <td>82047.418899</td>\n",
       "      <td>на покупку автомобиля</td>\n",
       "    </tr>\n",
       "  </tbody>\n",
       "</table>\n",
       "</div>"
      ],
      "text/plain": [
       "       children  days_employed  dob_years       education  education_id  \\\n",
       "21517         0     404.679034         42          высшее             0   \n",
       "21518         0   15583.154618         59         среднее             1   \n",
       "21519         1    2351.431934         37  ученая степень             4   \n",
       "21520         1    4529.316663         43         среднее             1   \n",
       "21521         0   14330.725172         67         среднее             1   \n",
       "21522         1    2113.346888         38         среднее             1   \n",
       "21523         3    3112.481705         38         среднее             1   \n",
       "21524         2    1984.507589         40         среднее             1   \n",
       "\n",
       "          family_status  family_status_id gender income_type  debt  \\\n",
       "21517  гражданский брак                 1      F   компаньон     0   \n",
       "21518   женат / замужем                 0      F   пенсионер     0   \n",
       "21519         в разводе                 3      M   сотрудник     0   \n",
       "21520  гражданский брак                 1      F   компаньон     0   \n",
       "21521   женат / замужем                 0      F   пенсионер     0   \n",
       "21522  гражданский брак                 1      M   сотрудник     1   \n",
       "21523   женат / замужем                 0      M   сотрудник     1   \n",
       "21524   женат / замужем                 0      F   сотрудник     0   \n",
       "\n",
       "        total_income                            purpose  \n",
       "21517  178059.553491       на покупку своего автомобиля  \n",
       "21518  153864.650328               сделка с автомобилем  \n",
       "21519  115949.039788  покупка коммерческой недвижимости  \n",
       "21520  224791.862382                  операции с жильем  \n",
       "21521  155999.806512               сделка с автомобилем  \n",
       "21522   89672.561153                       недвижимость  \n",
       "21523  244093.050500       на покупку своего автомобиля  \n",
       "21524   82047.418899              на покупку автомобиля  "
      ]
     },
     "metadata": {},
     "output_type": "display_data"
    }
   ],
   "source": [
    "# отрицательные children\n",
    "\n",
    "display(data.groupby('children')['children'].count())\n",
    "\n",
    "# преобразуем отрицательные значения в положительные\n",
    "\n",
    "data['children'] = data['children'].map(abs, na_action=None)\n",
    "\n",
    "display(data.tail(8))"
   ]
  },
  {
   "cell_type": "markdown",
   "metadata": {},
   "source": [
    "**Вывод**"
   ]
  },
  {
   "cell_type": "markdown",
   "metadata": {},
   "source": [
    "Пропуски NaN ищем с помощью функции isna() и суммируем все функцией sum().\n",
    "NaN находятся в столбцах 'total_income' и 'days_employed'. По количеству пропущенные значения совпадают.\n",
    "Возможно, при заполнении данных, не были указаны стаж и доход. Или же доход расчитывался на основании стажа, и при отсутвующем стаже в  доход также попали пропуски. Это может объяснить, почему строки по эти двум столбца одинаково пропущены.\n",
    "\n",
    "Пропущенные значения в столбце 'total_income' заменяем на медиану, расчитанную для каждой группы в стобце 'income_type', а в стлбце 'days_employed' на среднее значение по возрасту.\n",
    "\n",
    "Для преобразования отрицательных значений применяем встроенную функцию abs() к столбцу 'days_employed'.\n",
    "Касательно больших значений в столбце 'days_employed': предположим, что при заполнении некоторые данные перевели в часы. В таком случае возьмем в среднем стаж работы около 16 000 дней. Циклом перебираем значения в столбце 'days_employed' больше 16000 и меняем их на примерный стаж согласно возрасту.\n",
    "\n",
    "Данные в столбцах выглядят более логичными.\n",
    "\n",
    "Также в столбцах 'education' и 'family_status' используется разный регистр. Приводим данные к общему регистру методом lower().\n",
    "\n",
    "Отрицательные значения в столбце 'children'. Таких значений 47, скорей всего какая-то техническая ошибка. Также убираем минуса применив встроенную функцию abs(). Вот с количеством 20 детей немного нпонятно, либо 0 лишний либо реальное количество умножили на какой-то коэффициент.  Пока оставим это значение без изменений, если далее в расчетах будем использовать условие 'более 2 детей' например."
   ]
  },
  {
   "cell_type": "markdown",
   "metadata": {},
   "source": [
    "### Замена типов данных"
   ]
  },
  {
   "cell_type": "code",
   "execution_count": 38,
   "metadata": {},
   "outputs": [
    {
     "name": "stdout",
     "output_type": "stream",
     "text": [
      "<class 'pandas.core.frame.DataFrame'>\n",
      "RangeIndex: 21525 entries, 0 to 21524\n",
      "Data columns (total 12 columns):\n",
      " #   Column            Non-Null Count  Dtype \n",
      "---  ------            --------------  ----- \n",
      " 0   children          21525 non-null  int64 \n",
      " 1   days_employed     21525 non-null  int64 \n",
      " 2   dob_years         21525 non-null  int64 \n",
      " 3   education         21525 non-null  object\n",
      " 4   education_id      21525 non-null  int64 \n",
      " 5   family_status     21525 non-null  object\n",
      " 6   family_status_id  21525 non-null  int64 \n",
      " 7   gender            21525 non-null  object\n",
      " 8   income_type       21525 non-null  object\n",
      " 9   debt              21525 non-null  int64 \n",
      " 10  total_income      21525 non-null  int64 \n",
      " 11  purpose           21525 non-null  object\n",
      "dtypes: int64(7), object(5)\n",
      "memory usage: 2.0+ MB\n"
     ]
    },
    {
     "data": {
      "text/plain": [
       "None"
      ]
     },
     "metadata": {},
     "output_type": "display_data"
    }
   ],
   "source": [
    "# замена типа у 'days_employed'\n",
    "data['days_employed'] = data['days_employed'].astype(int)\n",
    "data['total_income'] = data['total_income'].astype(int)\n",
    "display(data.info())"
   ]
  },
  {
   "cell_type": "markdown",
   "metadata": {},
   "source": [
    "**Вывод**"
   ]
  },
  {
   "cell_type": "markdown",
   "metadata": {},
   "source": [
    "В таблице только у одного столбца тип данных, который бросается в глаза и портит весь вид. Меняем тип float на int с помощью метода astype(), так как этот метод применим к Series."
   ]
  },
  {
   "cell_type": "markdown",
   "metadata": {},
   "source": [
    "### Обработка дубликатов"
   ]
  },
  {
   "cell_type": "code",
   "execution_count": 39,
   "metadata": {},
   "outputs": [
    {
     "data": {
      "text/plain": [
       "False    21454\n",
       "True        71\n",
       "dtype: int64"
      ]
     },
     "metadata": {},
     "output_type": "display_data"
    },
    {
     "data": {
      "text/plain": [
       "свадьба                                   797\n",
       "на проведение свадьбы                     777\n",
       "сыграть свадьбу                           774\n",
       "операции с недвижимостью                  676\n",
       "покупка коммерческой недвижимости         664\n",
       "покупка жилья для сдачи                   653\n",
       "операции с жильем                         653\n",
       "операции с коммерческой недвижимостью     651\n",
       "покупка жилья                             647\n",
       "жилье                                     647\n",
       "покупка жилья для семьи                   641\n",
       "строительство собственной недвижимости    635\n",
       "недвижимость                              634\n",
       "операции со своей недвижимостью           630\n",
       "строительство жилой недвижимости          626\n",
       "покупка недвижимости                      624\n",
       "строительство недвижимости                620\n",
       "покупка своего жилья                      620\n",
       "ремонт жилью                              612\n",
       "покупка жилой недвижимости                607\n",
       "на покупку своего автомобиля              505\n",
       "заняться высшим образованием              496\n",
       "автомобиль                                495\n",
       "сделка с подержанным автомобилем          489\n",
       "свой автомобиль                           480\n",
       "на покупку подержанного автомобиля        479\n",
       "автомобили                                478\n",
       "на покупку автомобиля                     472\n",
       "дополнительное образование                462\n",
       "приобретение автомобиля                   462\n",
       "сделка с автомобилем                      455\n",
       "высшее образование                        453\n",
       "образование                               447\n",
       "получение дополнительного образования     447\n",
       "получение образования                     443\n",
       "профильное образование                    436\n",
       "получение высшего образования             426\n",
       "заняться образованием                     412\n",
       "Name: purpose, dtype: int64"
      ]
     },
     "metadata": {},
     "output_type": "display_data"
    }
   ],
   "source": [
    "# поиск дубликатов 'purpose'\n",
    "\n",
    "display(data.duplicated().value_counts())\n",
    "display(data['purpose'].value_counts())\n"
   ]
  },
  {
   "cell_type": "markdown",
   "metadata": {},
   "source": [
    "**Вывод**"
   ]
  },
  {
   "cell_type": "markdown",
   "metadata": {},
   "source": [
    "С помощью метода value_counts() проверяем столбец 'purpose' на уникальные повторящиеся значения. Данный столбец явно имеет дубликаты, которые необходимо объединить в несколько общих групп.\n",
    "Такие дубликаты появились, скорей всего, потому что, данные заполнялись клиентом, либо несколькими менеджерами банка, которые привыкли к использованию своих обозначений целей."
   ]
  },
  {
   "cell_type": "markdown",
   "metadata": {},
   "source": [
    "### Лемматизация"
   ]
  },
  {
   "cell_type": "code",
   "execution_count": 40,
   "metadata": {},
   "outputs": [
    {
     "data": {
      "text/plain": [
       "Counter({'покупка': 5912,\n",
       "         ' ': 55201,\n",
       "         'жилье': 4473,\n",
       "         'приобретение': 462,\n",
       "         'автомобиль': 4315,\n",
       "         'дополнительный': 909,\n",
       "         'образование': 4022,\n",
       "         'сыграть': 774,\n",
       "         'свадьба': 2348,\n",
       "         'операция': 2610,\n",
       "         'с': 2924,\n",
       "         'на': 2233,\n",
       "         'проведение': 777,\n",
       "         'для': 1294,\n",
       "         'семья': 641,\n",
       "         'недвижимость': 6367,\n",
       "         'коммерческий': 1315,\n",
       "         'жилой': 1233,\n",
       "         'строительство': 1881,\n",
       "         'собственный': 635,\n",
       "         'подержать': 858,\n",
       "         'свой': 2235,\n",
       "         'со': 630,\n",
       "         'заниматься': 908,\n",
       "         'сделка': 944,\n",
       "         'получение': 1316,\n",
       "         'высокий': 1375,\n",
       "         'подержанный': 110,\n",
       "         'профильный': 436,\n",
       "         'сдача': 653,\n",
       "         'ремонт': 612,\n",
       "         '\\n': 1})"
      ]
     },
     "metadata": {},
     "output_type": "display_data"
    }
   ],
   "source": [
    "# проверим какие общие группы есть в 'purpose'\n",
    "\n",
    "lem_data = list(data['purpose'])\n",
    "lem_data = ' '.join(lem_data)\n",
    "lemmas = m.lemmatize(lem_data)\n",
    "display(Counter(lemmas))"
   ]
  },
  {
   "cell_type": "markdown",
   "metadata": {},
   "source": [
    "**Вывод**"
   ]
  },
  {
   "cell_type": "markdown",
   "metadata": {},
   "source": [
    "Для того чтобы лемматизировать данные, необходимо преобразовать все цели из столбца в строку - применим функцию list(), которая возвращает список значений. Далее методом join() с разделителем 'пробел' превращаем наш список в строку. \n",
    "После чего можно воспользоваться лемматизацией и подсчитать леммы. Подсчет  произвела функцией Counter(), изначально импортировав из модуля collections.\n",
    "\n",
    "Применив лемматизацию к столбцу 'purpose' можно выявить 4 основные цели кредитоваания: \n",
    "* недвижимость\n",
    "* автомобиль\n",
    "* образование\n",
    "* свадьба\n"
   ]
  },
  {
   "cell_type": "markdown",
   "metadata": {},
   "source": [
    "### Категоризация данных"
   ]
  },
  {
   "cell_type": "code",
   "execution_count": 41,
   "metadata": {},
   "outputs": [
    {
     "data": {
      "text/html": [
       "<div>\n",
       "<style scoped>\n",
       "    .dataframe tbody tr th:only-of-type {\n",
       "        vertical-align: middle;\n",
       "    }\n",
       "\n",
       "    .dataframe tbody tr th {\n",
       "        vertical-align: top;\n",
       "    }\n",
       "\n",
       "    .dataframe thead th {\n",
       "        text-align: right;\n",
       "    }\n",
       "</style>\n",
       "<table border=\"1\" class=\"dataframe\">\n",
       "  <thead>\n",
       "    <tr style=\"text-align: right;\">\n",
       "      <th></th>\n",
       "      <th>children</th>\n",
       "      <th>days_employed</th>\n",
       "      <th>dob_years</th>\n",
       "      <th>education</th>\n",
       "      <th>education_id</th>\n",
       "      <th>family_status</th>\n",
       "      <th>family_status_id</th>\n",
       "      <th>gender</th>\n",
       "      <th>income_type</th>\n",
       "      <th>debt</th>\n",
       "      <th>total_income</th>\n",
       "      <th>purpose</th>\n",
       "    </tr>\n",
       "  </thead>\n",
       "  <tbody>\n",
       "    <tr>\n",
       "      <th>0</th>\n",
       "      <td>1</td>\n",
       "      <td>8437</td>\n",
       "      <td>42</td>\n",
       "      <td>высшее</td>\n",
       "      <td>0</td>\n",
       "      <td>женат / замужем</td>\n",
       "      <td>0</td>\n",
       "      <td>F</td>\n",
       "      <td>сотрудник</td>\n",
       "      <td>0</td>\n",
       "      <td>253875</td>\n",
       "      <td>недвижимость</td>\n",
       "    </tr>\n",
       "    <tr>\n",
       "      <th>1</th>\n",
       "      <td>1</td>\n",
       "      <td>4024</td>\n",
       "      <td>36</td>\n",
       "      <td>среднее</td>\n",
       "      <td>1</td>\n",
       "      <td>женат / замужем</td>\n",
       "      <td>0</td>\n",
       "      <td>F</td>\n",
       "      <td>сотрудник</td>\n",
       "      <td>0</td>\n",
       "      <td>112080</td>\n",
       "      <td>автомобиль</td>\n",
       "    </tr>\n",
       "    <tr>\n",
       "      <th>2</th>\n",
       "      <td>0</td>\n",
       "      <td>5623</td>\n",
       "      <td>33</td>\n",
       "      <td>среднее</td>\n",
       "      <td>1</td>\n",
       "      <td>женат / замужем</td>\n",
       "      <td>0</td>\n",
       "      <td>M</td>\n",
       "      <td>сотрудник</td>\n",
       "      <td>0</td>\n",
       "      <td>145885</td>\n",
       "      <td>недвижимость</td>\n",
       "    </tr>\n",
       "    <tr>\n",
       "      <th>3</th>\n",
       "      <td>3</td>\n",
       "      <td>4124</td>\n",
       "      <td>32</td>\n",
       "      <td>среднее</td>\n",
       "      <td>1</td>\n",
       "      <td>женат / замужем</td>\n",
       "      <td>0</td>\n",
       "      <td>M</td>\n",
       "      <td>сотрудник</td>\n",
       "      <td>0</td>\n",
       "      <td>267628</td>\n",
       "      <td>образование</td>\n",
       "    </tr>\n",
       "    <tr>\n",
       "      <th>4</th>\n",
       "      <td>0</td>\n",
       "      <td>14177</td>\n",
       "      <td>53</td>\n",
       "      <td>среднее</td>\n",
       "      <td>1</td>\n",
       "      <td>гражданский брак</td>\n",
       "      <td>1</td>\n",
       "      <td>F</td>\n",
       "      <td>пенсионер</td>\n",
       "      <td>0</td>\n",
       "      <td>158616</td>\n",
       "      <td>свадьба</td>\n",
       "    </tr>\n",
       "  </tbody>\n",
       "</table>\n",
       "</div>"
      ],
      "text/plain": [
       "   children  days_employed  dob_years education  education_id  \\\n",
       "0         1           8437         42    высшее             0   \n",
       "1         1           4024         36   среднее             1   \n",
       "2         0           5623         33   среднее             1   \n",
       "3         3           4124         32   среднее             1   \n",
       "4         0          14177         53   среднее             1   \n",
       "\n",
       "      family_status  family_status_id gender income_type  debt  total_income  \\\n",
       "0   женат / замужем                 0      F   сотрудник     0        253875   \n",
       "1   женат / замужем                 0      F   сотрудник     0        112080   \n",
       "2   женат / замужем                 0      M   сотрудник     0        145885   \n",
       "3   женат / замужем                 0      M   сотрудник     0        267628   \n",
       "4  гражданский брак                 1      F   пенсионер     0        158616   \n",
       "\n",
       "        purpose  \n",
       "0  недвижимость  \n",
       "1    автомобиль  \n",
       "2  недвижимость  \n",
       "3   образование  \n",
       "4       свадьба  "
      ]
     },
     "metadata": {},
     "output_type": "display_data"
    }
   ],
   "source": [
    "def purpose_grouped(row):\n",
    "    purpose = row['purpose']\n",
    "    \n",
    "    if 'свадьб' in purpose:\n",
    "        return 'свадьба'\n",
    "    \n",
    "    if 'недвиж' in purpose:\n",
    "        return 'недвижимость'\n",
    "    \n",
    "    if 'жиль' in purpose:\n",
    "        return 'недвижимость'\n",
    "    \n",
    "    if 'образов' in purpose:\n",
    "        return 'образование'\n",
    "    \n",
    "    if 'автомоб' in purpose:\n",
    "        return 'автомобиль'\n",
    "    \n",
    "data['purpose'] = data.apply(purpose_grouped, axis=1)\n",
    "display(data.head())\n"
   ]
  },
  {
   "cell_type": "markdown",
   "metadata": {},
   "source": [
    "**Вывод**"
   ]
  },
  {
   "cell_type": "markdown",
   "metadata": {},
   "source": [
    "Пишем функцию для замены данных в столбце 'purpose', к столбцу применяем функцию методом apply(). Данные категоризированы по целям."
   ]
  },
  {
   "cell_type": "markdown",
   "metadata": {},
   "source": [
    "## Шаг 3. Ответы на вопросы"
   ]
  },
  {
   "cell_type": "markdown",
   "metadata": {},
   "source": [
    "- Есть ли зависимость между наличием детей и возвратом кредита в срок?"
   ]
  },
  {
   "cell_type": "code",
   "execution_count": 42,
   "metadata": {},
   "outputs": [
    {
     "data": {
      "text/html": [
       "<div>\n",
       "<style scoped>\n",
       "    .dataframe tbody tr th:only-of-type {\n",
       "        vertical-align: middle;\n",
       "    }\n",
       "\n",
       "    .dataframe tbody tr th {\n",
       "        vertical-align: top;\n",
       "    }\n",
       "\n",
       "    .dataframe thead th {\n",
       "        text-align: right;\n",
       "    }\n",
       "</style>\n",
       "<table border=\"1\" class=\"dataframe\">\n",
       "  <thead>\n",
       "    <tr style=\"text-align: right;\">\n",
       "      <th></th>\n",
       "      <th>debt</th>\n",
       "    </tr>\n",
       "    <tr>\n",
       "      <th>children_category</th>\n",
       "      <th></th>\n",
       "    </tr>\n",
       "  </thead>\n",
       "  <tbody>\n",
       "    <tr>\n",
       "      <th>есть дети</th>\n",
       "      <td>0.091920</td>\n",
       "    </tr>\n",
       "    <tr>\n",
       "      <th>нет детей</th>\n",
       "      <td>0.075129</td>\n",
       "    </tr>\n",
       "  </tbody>\n",
       "</table>\n",
       "</div>"
      ],
      "text/plain": [
       "                       debt\n",
       "children_category          \n",
       "есть дети          0.091920\n",
       "нет детей          0.075129"
      ]
     },
     "metadata": {},
     "output_type": "display_data"
    }
   ],
   "source": [
    "# добавим столбец подкатегорию для children\n",
    "\n",
    "data['children_category'] = np.where(data.children > 0, 'есть дети', 'нет детей')\n",
    "\n",
    "data_pivot_children = data.pivot_table(index=['children_category'], values='debt', aggfunc='mean')\n",
    "display(data_pivot_children)"
   ]
  },
  {
   "cell_type": "markdown",
   "metadata": {},
   "source": [
    "**Вывод**"
   ]
  },
  {
   "cell_type": "markdown",
   "metadata": {},
   "source": [
    "Выделили клиентов по двум группам - 'есть дети' и 'нет детей'. Посчитали среднее значение задолженностей по каждой группе.\n",
    "Согласно сводной таблице, наличие детей влияет на погашение кредита в срок. Доля задолженностей у клиентов с детьми (9,2%) выше доли клиентов, у которых нет детей (7,5%)."
   ]
  },
  {
   "cell_type": "markdown",
   "metadata": {},
   "source": [
    "- Есть ли зависимость между семейным положением и возвратом кредита в срок?"
   ]
  },
  {
   "cell_type": "code",
   "execution_count": 11,
   "metadata": {},
   "outputs": [
    {
     "data": {
      "text/html": [
       "<div>\n",
       "<style scoped>\n",
       "    .dataframe tbody tr th:only-of-type {\n",
       "        vertical-align: middle;\n",
       "    }\n",
       "\n",
       "    .dataframe tbody tr th {\n",
       "        vertical-align: top;\n",
       "    }\n",
       "\n",
       "    .dataframe thead th {\n",
       "        text-align: right;\n",
       "    }\n",
       "</style>\n",
       "<table border=\"1\" class=\"dataframe\">\n",
       "  <thead>\n",
       "    <tr style=\"text-align: right;\">\n",
       "      <th></th>\n",
       "      <th></th>\n",
       "      <th>debt</th>\n",
       "    </tr>\n",
       "    <tr>\n",
       "      <th>family_status_id</th>\n",
       "      <th>family_status</th>\n",
       "      <th></th>\n",
       "    </tr>\n",
       "  </thead>\n",
       "  <tbody>\n",
       "    <tr>\n",
       "      <td>0</td>\n",
       "      <td>женат / замужем</td>\n",
       "      <td>0.075202</td>\n",
       "    </tr>\n",
       "    <tr>\n",
       "      <td>1</td>\n",
       "      <td>гражданский брак</td>\n",
       "      <td>0.092890</td>\n",
       "    </tr>\n",
       "    <tr>\n",
       "      <td>2</td>\n",
       "      <td>вдовец / вдова</td>\n",
       "      <td>0.065625</td>\n",
       "    </tr>\n",
       "    <tr>\n",
       "      <td>3</td>\n",
       "      <td>в разводе</td>\n",
       "      <td>0.071130</td>\n",
       "    </tr>\n",
       "    <tr>\n",
       "      <td>4</td>\n",
       "      <td>не женат / не замужем</td>\n",
       "      <td>0.097405</td>\n",
       "    </tr>\n",
       "  </tbody>\n",
       "</table>\n",
       "</div>"
      ],
      "text/plain": [
       "                                            debt\n",
       "family_status_id family_status                  \n",
       "0                женат / замужем        0.075202\n",
       "1                гражданский брак       0.092890\n",
       "2                вдовец / вдова         0.065625\n",
       "3                в разводе              0.071130\n",
       "4                не женат / не замужем  0.097405"
      ]
     },
     "metadata": {},
     "output_type": "display_data"
    }
   ],
   "source": [
    "data_pivot_status = data.pivot_table(index=['family_status_id', 'family_status'], values='debt', aggfunc='mean')\n",
    "\n",
    "display(data_pivot_status) "
   ]
  },
  {
   "cell_type": "markdown",
   "metadata": {},
   "source": [
    "**Вывод**"
   ]
  },
  {
   "cell_type": "markdown",
   "metadata": {},
   "source": [
    "Если соотнести среднее занчение долгов с семейным положением, видно, что люди, не состоящие и никогда не состоявшие прежде в браке (9,3% - 9,7%) имеют задолженность чаще чем женатые / замужние (7,5%) или разведенные (7,1%). И отдельно можно выделить вдов / вдовцов, у них этот показатель ниже всех (6,6%)."
   ]
  },
  {
   "cell_type": "markdown",
   "metadata": {},
   "source": [
    "- Есть ли зависимость между уровнем дохода и возвратом кредита в срок?"
   ]
  },
  {
   "cell_type": "code",
   "execution_count": 44,
   "metadata": {},
   "outputs": [
    {
     "name": "stdout",
     "output_type": "stream",
     "text": [
      "Уровни дохода\n",
      "высокий: 2265604\n",
      "средний: 142594.0\n",
      "низкий: 20667\n"
     ]
    },
    {
     "data": {
      "text/html": [
       "<div>\n",
       "<style scoped>\n",
       "    .dataframe tbody tr th:only-of-type {\n",
       "        vertical-align: middle;\n",
       "    }\n",
       "\n",
       "    .dataframe tbody tr th {\n",
       "        vertical-align: top;\n",
       "    }\n",
       "\n",
       "    .dataframe thead tr th {\n",
       "        text-align: left;\n",
       "    }\n",
       "\n",
       "    .dataframe thead tr:last-of-type th {\n",
       "        text-align: right;\n",
       "    }\n",
       "</style>\n",
       "<table border=\"1\" class=\"dataframe\">\n",
       "  <thead>\n",
       "    <tr>\n",
       "      <th></th>\n",
       "      <th>count</th>\n",
       "      <th>sum</th>\n",
       "      <th>mean</th>\n",
       "    </tr>\n",
       "    <tr>\n",
       "      <th></th>\n",
       "      <th>debt</th>\n",
       "      <th>debt</th>\n",
       "      <th>debt</th>\n",
       "    </tr>\n",
       "    <tr>\n",
       "      <th>income_level</th>\n",
       "      <th></th>\n",
       "      <th></th>\n",
       "      <th></th>\n",
       "    </tr>\n",
       "  </thead>\n",
       "  <tbody>\n",
       "    <tr>\n",
       "      <th>высокий уровень</th>\n",
       "      <td>529</td>\n",
       "      <td>31</td>\n",
       "      <td>0.058601</td>\n",
       "    </tr>\n",
       "    <tr>\n",
       "      <th>низкий уровень</th>\n",
       "      <td>4463</td>\n",
       "      <td>354</td>\n",
       "      <td>0.079319</td>\n",
       "    </tr>\n",
       "    <tr>\n",
       "      <th>средний уровень</th>\n",
       "      <td>16533</td>\n",
       "      <td>1356</td>\n",
       "      <td>0.082018</td>\n",
       "    </tr>\n",
       "  </tbody>\n",
       "</table>\n",
       "</div>"
      ],
      "text/plain": [
       "                 count   sum      mean\n",
       "                  debt  debt      debt\n",
       "income_level                          \n",
       "высокий уровень    529    31  0.058601\n",
       "низкий уровень    4463   354  0.079319\n",
       "средний уровень  16533  1356  0.082018"
      ]
     },
     "metadata": {},
     "output_type": "display_data"
    }
   ],
   "source": [
    "# уровни дохода разделим на 3 основыние группы\n",
    "\n",
    "high_income = data['total_income'].max()\n",
    "avg_income = data['total_income'].median()\n",
    "low_income = data['total_income'].min()\n",
    "\n",
    "print('Уровни дохода')\n",
    "print('высокий:', high_income)\n",
    "print('средний:', avg_income)\n",
    "print('низкий:', low_income)\n",
    "\n",
    "# добавим столбец 'income_category' с помощью функции\n",
    "\n",
    "def function_income (row):\n",
    "    income = row['total_income']\n",
    "    \n",
    "    if income <= 100000:\n",
    "        return 'низкий уровень'\n",
    "    \n",
    "    if income <= 400000:\n",
    "        return 'средний уровень'\n",
    "    \n",
    "    if income > 400000:\n",
    "        return 'высокий уровень'\n",
    "    \n",
    "data['income_level'] = data.apply(function_income, axis=1)\n",
    "\n",
    "data_pivot_income = data.pivot_table(index=['income_level'], values='debt', aggfunc=['count', 'sum', 'mean'])\n",
    "\n",
    "display(data_pivot_income)"
   ]
  },
  {
   "cell_type": "markdown",
   "metadata": {},
   "source": [
    "**Вывод**"
   ]
  },
  {
   "cell_type": "markdown",
   "metadata": {},
   "source": [
    "На все 21 тысячу строк имеется разный доход. Функциями max(), median(), min() выявим три основые точки. Исходя из полученных данных можно сделать вывод, что максимальное и минимальное значения могут быть единичными в таком большом датасете. Предположим, что низкий уровень дохода это суммы меньше 100 тысяч, средний - меньше 400, а высокий все суммы больше 400 тысяч. Добавим еще один столбец для группировки дохода.\n",
    "Формируя сводную таблицу, добавим функции 'count' для подсчета количества по группам и 'sum' для подсчета задолженностей на каждую группу, чтобы проанализировать насколько реально выглядят данные.\n",
    "\n",
    "На основании сводной можно сделать вывод, что как таковой зависимости между уровнем дохода и возвратом кредита в срок нет, т.к. клиенты банка со средним уровнем дохода чаще бывают должниками, чем клиенты с низким уровнем. "
   ]
  },
  {
   "cell_type": "markdown",
   "metadata": {},
   "source": [
    "- Как разные цели кредита влияют на его возврат в срок?"
   ]
  },
  {
   "cell_type": "code",
   "execution_count": 45,
   "metadata": {
    "scrolled": true
   },
   "outputs": [
    {
     "data": {
      "text/html": [
       "<div>\n",
       "<style scoped>\n",
       "    .dataframe tbody tr th:only-of-type {\n",
       "        vertical-align: middle;\n",
       "    }\n",
       "\n",
       "    .dataframe tbody tr th {\n",
       "        vertical-align: top;\n",
       "    }\n",
       "\n",
       "    .dataframe thead tr th {\n",
       "        text-align: left;\n",
       "    }\n",
       "\n",
       "    .dataframe thead tr:last-of-type th {\n",
       "        text-align: right;\n",
       "    }\n",
       "</style>\n",
       "<table border=\"1\" class=\"dataframe\">\n",
       "  <thead>\n",
       "    <tr>\n",
       "      <th></th>\n",
       "      <th>count</th>\n",
       "      <th>sum</th>\n",
       "      <th>mean</th>\n",
       "    </tr>\n",
       "    <tr>\n",
       "      <th></th>\n",
       "      <th>debt</th>\n",
       "      <th>debt</th>\n",
       "      <th>debt</th>\n",
       "    </tr>\n",
       "    <tr>\n",
       "      <th>purpose</th>\n",
       "      <th></th>\n",
       "      <th></th>\n",
       "      <th></th>\n",
       "    </tr>\n",
       "  </thead>\n",
       "  <tbody>\n",
       "    <tr>\n",
       "      <th>автомобиль</th>\n",
       "      <td>4315</td>\n",
       "      <td>403</td>\n",
       "      <td>0.093395</td>\n",
       "    </tr>\n",
       "    <tr>\n",
       "      <th>недвижимость</th>\n",
       "      <td>10840</td>\n",
       "      <td>782</td>\n",
       "      <td>0.072140</td>\n",
       "    </tr>\n",
       "    <tr>\n",
       "      <th>образование</th>\n",
       "      <td>4022</td>\n",
       "      <td>370</td>\n",
       "      <td>0.091994</td>\n",
       "    </tr>\n",
       "    <tr>\n",
       "      <th>свадьба</th>\n",
       "      <td>2348</td>\n",
       "      <td>186</td>\n",
       "      <td>0.079216</td>\n",
       "    </tr>\n",
       "  </tbody>\n",
       "</table>\n",
       "</div>"
      ],
      "text/plain": [
       "              count  sum      mean\n",
       "               debt debt      debt\n",
       "purpose                           \n",
       "автомобиль     4315  403  0.093395\n",
       "недвижимость  10840  782  0.072140\n",
       "образование    4022  370  0.091994\n",
       "свадьба        2348  186  0.079216"
      ]
     },
     "metadata": {},
     "output_type": "display_data"
    },
    {
     "data": {
      "text/html": [
       "<div>\n",
       "<style scoped>\n",
       "    .dataframe tbody tr th:only-of-type {\n",
       "        vertical-align: middle;\n",
       "    }\n",
       "\n",
       "    .dataframe tbody tr th {\n",
       "        vertical-align: top;\n",
       "    }\n",
       "\n",
       "    .dataframe thead tr th {\n",
       "        text-align: left;\n",
       "    }\n",
       "\n",
       "    .dataframe thead tr:last-of-type th {\n",
       "        text-align: right;\n",
       "    }\n",
       "</style>\n",
       "<table border=\"1\" class=\"dataframe\">\n",
       "  <thead>\n",
       "    <tr>\n",
       "      <th></th>\n",
       "      <th></th>\n",
       "      <th>count</th>\n",
       "      <th>sum</th>\n",
       "      <th>mean</th>\n",
       "    </tr>\n",
       "    <tr>\n",
       "      <th></th>\n",
       "      <th></th>\n",
       "      <th>debt</th>\n",
       "      <th>debt</th>\n",
       "      <th>debt</th>\n",
       "    </tr>\n",
       "    <tr>\n",
       "      <th>purpose</th>\n",
       "      <th>family_status</th>\n",
       "      <th></th>\n",
       "      <th></th>\n",
       "      <th></th>\n",
       "    </tr>\n",
       "  </thead>\n",
       "  <tbody>\n",
       "    <tr>\n",
       "      <th rowspan=\"5\" valign=\"top\">автомобиль</th>\n",
       "      <th>в разводе</th>\n",
       "      <td>281</td>\n",
       "      <td>21</td>\n",
       "      <td>0.074733</td>\n",
       "    </tr>\n",
       "    <tr>\n",
       "      <th>вдовец / вдова</th>\n",
       "      <td>218</td>\n",
       "      <td>20</td>\n",
       "      <td>0.091743</td>\n",
       "    </tr>\n",
       "    <tr>\n",
       "      <th>гражданский брак</th>\n",
       "      <td>434</td>\n",
       "      <td>51</td>\n",
       "      <td>0.117512</td>\n",
       "    </tr>\n",
       "    <tr>\n",
       "      <th>женат / замужем</th>\n",
       "      <td>2744</td>\n",
       "      <td>229</td>\n",
       "      <td>0.083455</td>\n",
       "    </tr>\n",
       "    <tr>\n",
       "      <th>не женат / не замужем</th>\n",
       "      <td>638</td>\n",
       "      <td>82</td>\n",
       "      <td>0.128527</td>\n",
       "    </tr>\n",
       "    <tr>\n",
       "      <th rowspan=\"5\" valign=\"top\">недвижимость</th>\n",
       "      <th>в разводе</th>\n",
       "      <td>676</td>\n",
       "      <td>47</td>\n",
       "      <td>0.069527</td>\n",
       "    </tr>\n",
       "    <tr>\n",
       "      <th>вдовец / вдова</th>\n",
       "      <td>543</td>\n",
       "      <td>28</td>\n",
       "      <td>0.051565</td>\n",
       "    </tr>\n",
       "    <tr>\n",
       "      <th>гражданский брак</th>\n",
       "      <td>991</td>\n",
       "      <td>91</td>\n",
       "      <td>0.091826</td>\n",
       "    </tr>\n",
       "    <tr>\n",
       "      <th>женат / замужем</th>\n",
       "      <td>7033</td>\n",
       "      <td>486</td>\n",
       "      <td>0.069103</td>\n",
       "    </tr>\n",
       "    <tr>\n",
       "      <th>не женат / не замужем</th>\n",
       "      <td>1597</td>\n",
       "      <td>130</td>\n",
       "      <td>0.081403</td>\n",
       "    </tr>\n",
       "    <tr>\n",
       "      <th rowspan=\"5\" valign=\"top\">образование</th>\n",
       "      <th>в разводе</th>\n",
       "      <td>238</td>\n",
       "      <td>17</td>\n",
       "      <td>0.071429</td>\n",
       "    </tr>\n",
       "    <tr>\n",
       "      <th>вдовец / вдова</th>\n",
       "      <td>199</td>\n",
       "      <td>15</td>\n",
       "      <td>0.075377</td>\n",
       "    </tr>\n",
       "    <tr>\n",
       "      <th>гражданский брак</th>\n",
       "      <td>404</td>\n",
       "      <td>60</td>\n",
       "      <td>0.148515</td>\n",
       "    </tr>\n",
       "    <tr>\n",
       "      <th>женат / замужем</th>\n",
       "      <td>2603</td>\n",
       "      <td>216</td>\n",
       "      <td>0.082981</td>\n",
       "    </tr>\n",
       "    <tr>\n",
       "      <th>не женат / не замужем</th>\n",
       "      <td>578</td>\n",
       "      <td>62</td>\n",
       "      <td>0.107266</td>\n",
       "    </tr>\n",
       "    <tr>\n",
       "      <th>свадьба</th>\n",
       "      <th>гражданский брак</th>\n",
       "      <td>2348</td>\n",
       "      <td>186</td>\n",
       "      <td>0.079216</td>\n",
       "    </tr>\n",
       "  </tbody>\n",
       "</table>\n",
       "</div>"
      ],
      "text/plain": [
       "                                   count  sum      mean\n",
       "                                    debt debt      debt\n",
       "purpose      family_status                             \n",
       "автомобиль   в разводе               281   21  0.074733\n",
       "             вдовец / вдова          218   20  0.091743\n",
       "             гражданский брак        434   51  0.117512\n",
       "             женат / замужем        2744  229  0.083455\n",
       "             не женат / не замужем   638   82  0.128527\n",
       "недвижимость в разводе               676   47  0.069527\n",
       "             вдовец / вдова          543   28  0.051565\n",
       "             гражданский брак        991   91  0.091826\n",
       "             женат / замужем        7033  486  0.069103\n",
       "             не женат / не замужем  1597  130  0.081403\n",
       "образование  в разводе               238   17  0.071429\n",
       "             вдовец / вдова          199   15  0.075377\n",
       "             гражданский брак        404   60  0.148515\n",
       "             женат / замужем        2603  216  0.082981\n",
       "             не женат / не замужем   578   62  0.107266\n",
       "свадьба      гражданский брак       2348  186  0.079216"
      ]
     },
     "metadata": {},
     "output_type": "display_data"
    }
   ],
   "source": [
    "data_pivot_purpose = data.pivot_table(index=['purpose'], values='debt', aggfunc=['count', 'sum', 'mean'])\n",
    "data_pivot_status = data.pivot_table(index=['purpose', 'family_status'], values='debt', aggfunc=['count', 'sum', 'mean'])\n",
    "\n",
    "display(data_pivot_purpose)\n",
    "display(data_pivot_status)"
   ]
  },
  {
   "cell_type": "code",
   "execution_count": 46,
   "metadata": {
    "scrolled": true
   },
   "outputs": [
    {
     "data": {
      "text/plain": [
       "income_type\n",
       "безработный        38.0\n",
       "в декрете          39.0\n",
       "госслужащий        40.0\n",
       "компаньон          39.0\n",
       "пенсионер          60.0\n",
       "предприниматель    42.5\n",
       "сотрудник          39.0\n",
       "студент            22.0\n",
       "Name: dob_years, dtype: float64"
      ]
     },
     "metadata": {},
     "output_type": "display_data"
    },
    {
     "data": {
      "text/html": [
       "<div>\n",
       "<style scoped>\n",
       "    .dataframe tbody tr th:only-of-type {\n",
       "        vertical-align: middle;\n",
       "    }\n",
       "\n",
       "    .dataframe tbody tr th {\n",
       "        vertical-align: top;\n",
       "    }\n",
       "\n",
       "    .dataframe thead th {\n",
       "        text-align: right;\n",
       "    }\n",
       "</style>\n",
       "<table border=\"1\" class=\"dataframe\">\n",
       "  <thead>\n",
       "    <tr style=\"text-align: right;\">\n",
       "      <th></th>\n",
       "      <th></th>\n",
       "      <th>debt</th>\n",
       "    </tr>\n",
       "    <tr>\n",
       "      <th>dob_years</th>\n",
       "      <th>income_type</th>\n",
       "      <th></th>\n",
       "    </tr>\n",
       "  </thead>\n",
       "  <tbody>\n",
       "    <tr>\n",
       "      <th rowspan=\"4\" valign=\"top\">0</th>\n",
       "      <th>госслужащий</th>\n",
       "      <td>6</td>\n",
       "    </tr>\n",
       "    <tr>\n",
       "      <th>компаньон</th>\n",
       "      <td>20</td>\n",
       "    </tr>\n",
       "    <tr>\n",
       "      <th>пенсионер</th>\n",
       "      <td>20</td>\n",
       "    </tr>\n",
       "    <tr>\n",
       "      <th>сотрудник</th>\n",
       "      <td>55</td>\n",
       "    </tr>\n",
       "    <tr>\n",
       "      <th>19</th>\n",
       "      <th>госслужащий</th>\n",
       "      <td>1</td>\n",
       "    </tr>\n",
       "    <tr>\n",
       "      <th>...</th>\n",
       "      <th>...</th>\n",
       "      <td>...</td>\n",
       "    </tr>\n",
       "    <tr>\n",
       "      <th>73</th>\n",
       "      <th>пенсионер</th>\n",
       "      <td>7</td>\n",
       "    </tr>\n",
       "    <tr>\n",
       "      <th rowspan=\"3\" valign=\"top\">74</th>\n",
       "      <th>компаньон</th>\n",
       "      <td>1</td>\n",
       "    </tr>\n",
       "    <tr>\n",
       "      <th>пенсионер</th>\n",
       "      <td>4</td>\n",
       "    </tr>\n",
       "    <tr>\n",
       "      <th>сотрудник</th>\n",
       "      <td>1</td>\n",
       "    </tr>\n",
       "    <tr>\n",
       "      <th>75</th>\n",
       "      <th>госслужащий</th>\n",
       "      <td>1</td>\n",
       "    </tr>\n",
       "  </tbody>\n",
       "</table>\n",
       "<p>221 rows × 1 columns</p>\n",
       "</div>"
      ],
      "text/plain": [
       "                       debt\n",
       "dob_years income_type      \n",
       "0         госслужащий     6\n",
       "          компаньон      20\n",
       "          пенсионер      20\n",
       "          сотрудник      55\n",
       "19        госслужащий     1\n",
       "...                     ...\n",
       "73        пенсионер       7\n",
       "74        компаньон       1\n",
       "          пенсионер       4\n",
       "          сотрудник       1\n",
       "75        госслужащий     1\n",
       "\n",
       "[221 rows x 1 columns]"
      ]
     },
     "metadata": {},
     "output_type": "display_data"
    }
   ],
   "source": [
    "# дополнительно\n",
    "# проверим какие типы занятости имеют 0 в возрасте и заменим на медианные значения\n",
    "\n",
    "data_pivot_age = data.pivot_table(index=['dob_years', 'income_type'], values='debt', aggfunc='count')\n",
    "\n",
    "# медианы для каждого типа занятости\n",
    "\n",
    "data_grouped_age = data.groupby('income_type')['dob_years'].median()\n",
    "display(data_grouped_age)\n",
    "\n",
    "civil_servant = 40\n",
    "companion = 39\n",
    "retired = 60\n",
    "employee = 39\n",
    "\n",
    "for index in range(len(data)):\n",
    "    if data['income_type'][index] == 'госслужащий' and data['dob_years'][index] == 0:\n",
    "        data['dob_years'][index] = civil_servant\n",
    "    if data['income_type'][index] == 'компаньон' and data['dob_years'][index] == 0:\n",
    "        data['dob_years'][index] = companion\n",
    "    if data['income_type'][index] == 'пенсионер' and data['dob_years'][index] == 0:\n",
    "        data['dob_years'][index] = retired\n",
    "    if data['income_type'][index] == 'сотрудник' and data['dob_years'][index] == 0:\n",
    "        data['dob_years'][index] = employee\n",
    "\n",
    "display(data_pivot_age)"
   ]
  },
  {
   "cell_type": "code",
   "execution_count": 47,
   "metadata": {
    "scrolled": true
   },
   "outputs": [
    {
     "data": {
      "text/html": [
       "<div>\n",
       "<style scoped>\n",
       "    .dataframe tbody tr th:only-of-type {\n",
       "        vertical-align: middle;\n",
       "    }\n",
       "\n",
       "    .dataframe tbody tr th {\n",
       "        vertical-align: top;\n",
       "    }\n",
       "\n",
       "    .dataframe thead tr th {\n",
       "        text-align: left;\n",
       "    }\n",
       "\n",
       "    .dataframe thead tr:last-of-type th {\n",
       "        text-align: right;\n",
       "    }\n",
       "</style>\n",
       "<table border=\"1\" class=\"dataframe\">\n",
       "  <thead>\n",
       "    <tr>\n",
       "      <th></th>\n",
       "      <th></th>\n",
       "      <th>count</th>\n",
       "      <th>sum</th>\n",
       "      <th>mean</th>\n",
       "    </tr>\n",
       "    <tr>\n",
       "      <th></th>\n",
       "      <th></th>\n",
       "      <th>debt</th>\n",
       "      <th>debt</th>\n",
       "      <th>debt</th>\n",
       "    </tr>\n",
       "    <tr>\n",
       "      <th>children_category</th>\n",
       "      <th>age_groups</th>\n",
       "      <th></th>\n",
       "      <th></th>\n",
       "      <th></th>\n",
       "    </tr>\n",
       "  </thead>\n",
       "  <tbody>\n",
       "    <tr>\n",
       "      <th rowspan=\"4\" valign=\"top\">есть дети</th>\n",
       "      <th>группа 36-45</th>\n",
       "      <td>2848</td>\n",
       "      <td>243</td>\n",
       "      <td>0.085323</td>\n",
       "    </tr>\n",
       "    <tr>\n",
       "      <th>группа 46-60</th>\n",
       "      <td>1111</td>\n",
       "      <td>82</td>\n",
       "      <td>0.073807</td>\n",
       "    </tr>\n",
       "    <tr>\n",
       "      <th>группа 60+</th>\n",
       "      <td>111</td>\n",
       "      <td>5</td>\n",
       "      <td>0.045045</td>\n",
       "    </tr>\n",
       "    <tr>\n",
       "      <th>группа до 35</th>\n",
       "      <td>3273</td>\n",
       "      <td>347</td>\n",
       "      <td>0.106019</td>\n",
       "    </tr>\n",
       "    <tr>\n",
       "      <th rowspan=\"4\" valign=\"top\">нет детей</th>\n",
       "      <th>группа 36-45</th>\n",
       "      <td>2866</td>\n",
       "      <td>231</td>\n",
       "      <td>0.080600</td>\n",
       "    </tr>\n",
       "    <tr>\n",
       "      <th>группа 46-60</th>\n",
       "      <td>5966</td>\n",
       "      <td>386</td>\n",
       "      <td>0.064700</td>\n",
       "    </tr>\n",
       "    <tr>\n",
       "      <th>группа 60+</th>\n",
       "      <td>1674</td>\n",
       "      <td>86</td>\n",
       "      <td>0.051374</td>\n",
       "    </tr>\n",
       "    <tr>\n",
       "      <th>группа до 35</th>\n",
       "      <td>3321</td>\n",
       "      <td>351</td>\n",
       "      <td>0.105691</td>\n",
       "    </tr>\n",
       "  </tbody>\n",
       "</table>\n",
       "</div>"
      ],
      "text/plain": [
       "                               count  sum      mean\n",
       "                                debt debt      debt\n",
       "children_category age_groups                       \n",
       "есть дети         группа 36-45  2848  243  0.085323\n",
       "                  группа 46-60  1111   82  0.073807\n",
       "                  группа 60+     111    5  0.045045\n",
       "                  группа до 35  3273  347  0.106019\n",
       "нет детей         группа 36-45  2866  231  0.080600\n",
       "                  группа 46-60  5966  386  0.064700\n",
       "                  группа 60+    1674   86  0.051374\n",
       "                  группа до 35  3321  351  0.105691"
      ]
     },
     "metadata": {},
     "output_type": "display_data"
    }
   ],
   "source": [
    "# дополнительно по собственному желанию\n",
    "# распределим на группы по возрасту\n",
    "\n",
    "def function_age (row):\n",
    "    age = row['dob_years']\n",
    "    \n",
    "    if age <= 35:\n",
    "        return 'группа до 35'\n",
    "    \n",
    "    if age > 35 and age <= 45:\n",
    "        return 'группа 36-45'\n",
    "    \n",
    "    if age > 45 and age <= 60:\n",
    "        return 'группа 46-60'\n",
    "    \n",
    "    if age > 61:\n",
    "        return 'группа 60+'\n",
    "    \n",
    "data['age_groups'] = data.apply(function_age, axis=1)\n",
    "\n",
    "data_pivot_age_children = data.pivot_table(index=['children_category', 'age_groups'], values='debt', aggfunc=['count', 'sum', 'mean'])\n",
    "\n",
    "display(data_pivot_age_children)"
   ]
  },
  {
   "cell_type": "markdown",
   "metadata": {},
   "source": [
    "С помощью сводной талицы проверяем в каких категориях, относящихся к столбцу 'income_type', присутствуют значения возраста равные 0. Таких категорий 4:\n",
    "* госслужащий\n",
    "* компаньон\n",
    "* пенсионер\n",
    "* сотрудник\n",
    "\n",
    "Дале заменим нули на медианное значение по типу занятости с помощью цикла\n",
    "\n",
    "Далее возьмем возрастные категории и распределим их по группам:\n",
    "* до 35\n",
    "* 36-45\n",
    "* 46-60\n",
    "* от 61 и выше\n",
    "\n",
    "Построим сводную таблицу и рассмотрим такой вопрос \"Как влияет наличие/отсутвисе детей и возраст на возврат кредита в срок?\"\n",
    "\n",
    "Клиенты, у которых есть дети в возрастной категории 36-45 имеют задолженность по кредитам значительно чаще (9,3%) чем клиенты в возрасте 46-60 также сдетьми (5,6%). И показатели задолженностей по тем же возрастным категориям, но у клиентов, у которых нет детей примерно такие же: возраст 36-45 - 8,1%, возраст 46-60 - 5,5%. \n",
    "\n",
    "Согласно полученным данным, можно сделать вывод, что задолженности по кредитам у клиентов с детьми больше чем у клиентов без детей. Здесь мы еще раз подтверждаем ответ на первый вопрос нашего анализа. Касательно возраста, чаще всего должникам по кредитам являются клиенты возрастной категории 36-45.\n",
    "Группу людей до 35 можно не рассматривать либо обединить со второй группой, но они не сильно повлияют на анализ, так как по нашей таблице таких людей всего 3 человека."
   ]
  },
  {
   "cell_type": "markdown",
   "metadata": {},
   "source": [
    "**Вывод**"
   ]
  },
  {
   "cell_type": "markdown",
   "metadata": {},
   "source": [
    "В основном возврат кредита в срок не зависит от целей. Здесь лучше добавить к анализу еще какие-то данные. \n",
    "\n",
    "Задолженности по целям авто и образование немного выше, чем по целям недвижимость и свадьба.\n",
    "Такое проиходит, скорей всего, потому что, срок кредитования на недвижимость значительно выше чем на другие три группы, соответсвенно процентная ставка будет ниже, и как правило, недвижимость берут пары или супруги.\n",
    "\n",
    "Выведем дополнительно сводную по семейному положению и цели кредитования.\n",
    "Большая часть кредитов на недвижимость приходится на тех, кто в браке.\n",
    "\n",
    "Автомобили и образование имеют задолженностей больше, так как срок кредитования меньше и ставка выше. И к тому же на образование кредиты берут в основном студенты, а им сложнее зарабатывать без образования.\n",
    "\n",
    "Свадьбы. На свадьбы берут кредиты только пары в гражданском браке, это опять же пары, которые скорей всего уже делят семейный бюджет. Плюс сумма кредитования на свадьбу не большая."
   ]
  },
  {
   "cell_type": "markdown",
   "metadata": {},
   "source": [
    "## Шаг 4. Общий вывод"
   ]
  },
  {
   "cell_type": "markdown",
   "metadata": {},
   "source": [
    "В процессе анализа мы проверили 4 вопроса:\n",
    "\n",
    "1. Есть ли зависимость между наличием детей и возвратом кредита в срок?\n",
    "Полученные нами данные показали, что наличие детей влияет на погашение кредита в срок.\n",
    "\n",
    "2. Есть ли зависимость между семейным положением и возвратом кредита в срок?\n",
    "Семейное положение влияет на погашение - одинокие или люди не в браке имеют задолженность чаще.\n",
    "\n",
    "3. Есть ли зависимость между уровнем дохода и возвратом кредита в срок?\n",
    "Уровень дохода почти не влияет на погашение в срок - низкий и средний уровень дохода клиента показал почи одинаковый процент.\n",
    "\n",
    "4. Как разные цели кредита влияют на его возврат в срок?\n",
    "Здесь можно сказать, что от целей зависит, как клиент справляется с задолженностью, но это слишком общие данные. Лучше запросить у банка дополнительную информацию например по процентным ставкам или срокам кредитования.\n"
   ]
  }
 ],
 "metadata": {
  "ExecuteTimeLog": [
   {
    "duration": 736,
    "start_time": "2022-01-15T08:29:15.241Z"
   },
   {
    "duration": 58,
    "start_time": "2022-01-15T08:29:27.866Z"
   },
   {
    "duration": 65,
    "start_time": "2022-01-15T08:36:29.955Z"
   },
   {
    "duration": 61,
    "start_time": "2022-01-15T08:58:58.650Z"
   },
   {
    "duration": 62,
    "start_time": "2022-01-15T08:59:13.261Z"
   },
   {
    "duration": 56,
    "start_time": "2022-01-15T08:59:29.647Z"
   },
   {
    "duration": 64,
    "start_time": "2022-01-15T08:59:52.199Z"
   },
   {
    "duration": 61,
    "start_time": "2022-01-15T10:58:34.103Z"
   },
   {
    "duration": 68,
    "start_time": "2022-01-15T11:21:55.617Z"
   },
   {
    "duration": 180,
    "start_time": "2022-01-15T11:56:35.355Z"
   },
   {
    "duration": 11,
    "start_time": "2022-01-15T11:57:02.779Z"
   },
   {
    "duration": 178,
    "start_time": "2022-01-15T11:57:20.395Z"
   },
   {
    "duration": 8,
    "start_time": "2022-01-15T11:57:24.387Z"
   },
   {
    "duration": 69,
    "start_time": "2022-01-15T12:14:41.829Z"
   },
   {
    "duration": 1551,
    "start_time": "2022-01-15T12:16:25.141Z"
   },
   {
    "duration": 2337,
    "start_time": "2022-01-15T12:41:50.288Z"
   },
   {
    "duration": 167,
    "start_time": "2022-01-15T12:42:42.455Z"
   },
   {
    "duration": 6,
    "start_time": "2022-01-15T12:43:39.937Z"
   },
   {
    "duration": 80,
    "start_time": "2022-01-15T12:43:56.649Z"
   },
   {
    "duration": 190,
    "start_time": "2022-01-15T12:44:00.915Z"
   },
   {
    "duration": 5,
    "start_time": "2022-01-15T12:45:17.626Z"
   },
   {
    "duration": 2,
    "start_time": "2022-01-15T12:50:02.403Z"
   },
   {
    "duration": 5,
    "start_time": "2022-01-15T12:54:29.739Z"
   },
   {
    "duration": 1212,
    "start_time": "2022-01-15T12:55:10.223Z"
   },
   {
    "duration": 22,
    "start_time": "2022-01-15T12:57:56.766Z"
   },
   {
    "duration": 15,
    "start_time": "2022-01-15T12:59:32.195Z"
   },
   {
    "duration": 188,
    "start_time": "2022-01-15T13:01:20.538Z"
   },
   {
    "duration": 317,
    "start_time": "2022-01-15T13:02:50.549Z"
   },
   {
    "duration": 346,
    "start_time": "2022-01-16T03:27:02.063Z"
   },
   {
    "duration": 848,
    "start_time": "2022-01-16T03:27:07.299Z"
   },
   {
    "duration": 23,
    "start_time": "2022-01-16T03:27:12.464Z"
   },
   {
    "duration": 387,
    "start_time": "2022-01-16T03:28:30.722Z"
   },
   {
    "duration": 323,
    "start_time": "2022-01-16T03:29:03.348Z"
   },
   {
    "duration": 19,
    "start_time": "2022-01-16T03:30:33.434Z"
   },
   {
    "duration": 23,
    "start_time": "2022-01-16T04:04:39.751Z"
   },
   {
    "duration": 12,
    "start_time": "2022-01-16T04:04:53.568Z"
   },
   {
    "duration": 22,
    "start_time": "2022-01-16T04:06:45.221Z"
   },
   {
    "duration": 85,
    "start_time": "2022-01-16T04:07:00.225Z"
   },
   {
    "duration": 11,
    "start_time": "2022-01-16T04:07:05.175Z"
   },
   {
    "duration": 21,
    "start_time": "2022-01-16T04:07:51.254Z"
   },
   {
    "duration": 5,
    "start_time": "2022-01-16T04:08:08.285Z"
   },
   {
    "duration": 109,
    "start_time": "2022-01-16T04:08:14.289Z"
   },
   {
    "duration": 4,
    "start_time": "2022-01-16T04:08:24.089Z"
   },
   {
    "duration": 6,
    "start_time": "2022-01-16T04:08:42.824Z"
   },
   {
    "duration": 290,
    "start_time": "2022-01-16T04:08:54.048Z"
   },
   {
    "duration": 297,
    "start_time": "2022-01-16T04:22:15.651Z"
   },
   {
    "duration": 4,
    "start_time": "2022-01-16T04:22:24.417Z"
   },
   {
    "duration": 10,
    "start_time": "2022-01-16T04:22:53.842Z"
   },
   {
    "duration": 10,
    "start_time": "2022-01-16T04:23:01.121Z"
   },
   {
    "duration": 10,
    "start_time": "2022-01-16T04:32:07.776Z"
   },
   {
    "duration": 14,
    "start_time": "2022-01-16T04:37:31.983Z"
   },
   {
    "duration": 304,
    "start_time": "2022-01-16T04:39:49.043Z"
   },
   {
    "duration": 292,
    "start_time": "2022-01-16T04:41:43.505Z"
   },
   {
    "duration": 350,
    "start_time": "2022-01-16T04:44:01.795Z"
   },
   {
    "duration": 342,
    "start_time": "2022-01-16T04:44:10.264Z"
   },
   {
    "duration": 310,
    "start_time": "2022-01-16T04:49:22.465Z"
   },
   {
    "duration": 536,
    "start_time": "2022-01-16T04:49:30.630Z"
   },
   {
    "duration": 294,
    "start_time": "2022-01-16T04:49:33.124Z"
   },
   {
    "duration": 276,
    "start_time": "2022-01-16T04:52:45.228Z"
   },
   {
    "duration": 86,
    "start_time": "2022-01-16T04:53:03.798Z"
   },
   {
    "duration": 10,
    "start_time": "2022-01-16T04:53:08.096Z"
   },
   {
    "duration": 26,
    "start_time": "2022-01-16T04:53:31.831Z"
   },
   {
    "duration": 22,
    "start_time": "2022-01-16T04:53:53.278Z"
   },
   {
    "duration": 27,
    "start_time": "2022-01-16T04:55:08.006Z"
   },
   {
    "duration": 82,
    "start_time": "2022-01-16T05:01:54.062Z"
   },
   {
    "duration": 15,
    "start_time": "2022-01-16T05:01:54.147Z"
   },
   {
    "duration": 18,
    "start_time": "2022-01-16T05:05:49.637Z"
   },
   {
    "duration": 27,
    "start_time": "2022-01-16T05:06:08.797Z"
   },
   {
    "duration": 9564,
    "start_time": "2022-01-16T05:06:40.541Z"
   },
   {
    "duration": 9726,
    "start_time": "2022-01-16T05:06:58.830Z"
   },
   {
    "duration": 9059,
    "start_time": "2022-01-16T05:07:58.503Z"
   },
   {
    "duration": 12,
    "start_time": "2022-01-16T05:15:48.186Z"
   },
   {
    "duration": 111,
    "start_time": "2022-01-16T05:27:23.035Z"
   },
   {
    "duration": 103,
    "start_time": "2022-01-16T05:27:36.471Z"
   },
   {
    "duration": 101,
    "start_time": "2022-01-16T05:28:12.697Z"
   },
   {
    "duration": 85,
    "start_time": "2022-01-16T05:28:35.652Z"
   },
   {
    "duration": 18,
    "start_time": "2022-01-16T05:29:00.619Z"
   },
   {
    "duration": 105,
    "start_time": "2022-01-16T05:30:30.151Z"
   },
   {
    "duration": 85,
    "start_time": "2022-01-16T05:30:41.672Z"
   },
   {
    "duration": 102,
    "start_time": "2022-01-16T05:30:45.004Z"
   },
   {
    "duration": 93,
    "start_time": "2022-01-16T05:34:54.501Z"
   },
   {
    "duration": 34,
    "start_time": "2022-01-16T05:36:54.028Z"
   },
   {
    "duration": 84,
    "start_time": "2022-01-16T05:37:52.075Z"
   },
   {
    "duration": 37,
    "start_time": "2022-01-16T05:37:52.161Z"
   },
   {
    "duration": 305,
    "start_time": "2022-01-16T05:40:29.067Z"
   },
   {
    "duration": 320,
    "start_time": "2022-01-16T05:48:08.935Z"
   },
   {
    "duration": 88,
    "start_time": "2022-01-16T05:48:16.808Z"
   },
   {
    "duration": 9,
    "start_time": "2022-01-16T05:48:21.135Z"
   },
   {
    "duration": 83,
    "start_time": "2022-01-16T06:01:36.775Z"
   },
   {
    "duration": 99,
    "start_time": "2022-01-16T06:01:39.250Z"
   },
   {
    "duration": 532,
    "start_time": "2022-01-16T06:01:55.109Z"
   },
   {
    "duration": 600,
    "start_time": "2022-01-16T06:02:36.822Z"
   },
   {
    "duration": 298,
    "start_time": "2022-01-16T06:05:53.643Z"
   },
   {
    "duration": 20,
    "start_time": "2022-01-16T06:06:17.957Z"
   },
   {
    "duration": 82,
    "start_time": "2022-01-16T06:06:24.545Z"
   },
   {
    "duration": 21,
    "start_time": "2022-01-16T06:06:24.631Z"
   },
   {
    "duration": 29,
    "start_time": "2022-01-16T06:06:46.634Z"
   },
   {
    "duration": 22,
    "start_time": "2022-01-16T06:11:19.145Z"
   },
   {
    "duration": 20,
    "start_time": "2022-01-16T06:13:02.662Z"
   },
   {
    "duration": 17,
    "start_time": "2022-01-16T06:20:50.740Z"
   },
   {
    "duration": 16,
    "start_time": "2022-01-16T06:21:01.788Z"
   },
   {
    "duration": 15,
    "start_time": "2022-01-16T06:23:00.811Z"
   },
   {
    "duration": 16,
    "start_time": "2022-01-16T06:23:37.444Z"
   },
   {
    "duration": 18,
    "start_time": "2022-01-16T06:23:51.698Z"
   },
   {
    "duration": 17,
    "start_time": "2022-01-16T06:25:23.335Z"
   },
   {
    "duration": 518,
    "start_time": "2022-01-16T06:28:11.821Z"
   },
   {
    "duration": 258,
    "start_time": "2022-01-16T06:28:58.130Z"
   },
   {
    "duration": 561,
    "start_time": "2022-01-16T06:29:04.342Z"
   },
   {
    "duration": 450,
    "start_time": "2022-01-16T06:30:19.544Z"
   },
   {
    "duration": 16,
    "start_time": "2022-01-16T06:31:26.806Z"
   },
   {
    "duration": 13,
    "start_time": "2022-01-16T06:33:31.949Z"
   },
   {
    "duration": 13,
    "start_time": "2022-01-16T06:33:43.150Z"
   },
   {
    "duration": 12,
    "start_time": "2022-01-16T06:33:55.280Z"
   },
   {
    "duration": 530,
    "start_time": "2022-01-16T06:34:29.698Z"
   },
   {
    "duration": 390,
    "start_time": "2022-01-16T06:34:46.281Z"
   },
   {
    "duration": 86,
    "start_time": "2022-01-16T06:34:50.626Z"
   },
   {
    "duration": 21,
    "start_time": "2022-01-16T06:34:50.715Z"
   },
   {
    "duration": 17,
    "start_time": "2022-01-16T06:35:00.920Z"
   },
   {
    "duration": 88,
    "start_time": "2022-01-16T06:44:38.770Z"
   },
   {
    "duration": 17,
    "start_time": "2022-01-16T06:46:20.630Z"
   },
   {
    "duration": 17,
    "start_time": "2022-01-16T07:11:17.181Z"
   },
   {
    "duration": 23,
    "start_time": "2022-01-16T07:25:28.164Z"
   },
   {
    "duration": 375,
    "start_time": "2022-01-16T07:32:15.100Z"
   },
   {
    "duration": -7316,
    "start_time": "2022-01-16T07:36:35.446Z"
   },
   {
    "duration": -7323,
    "start_time": "2022-01-16T07:36:35.455Z"
   },
   {
    "duration": -7326,
    "start_time": "2022-01-16T07:36:35.461Z"
   },
   {
    "duration": -6956,
    "start_time": "2022-01-16T07:36:45.109Z"
   },
   {
    "duration": 7409,
    "start_time": "2022-01-16T07:37:25.491Z"
   },
   {
    "duration": 22,
    "start_time": "2022-01-16T07:38:03.094Z"
   },
   {
    "duration": 15,
    "start_time": "2022-01-16T07:38:11.804Z"
   },
   {
    "duration": 90,
    "start_time": "2022-01-16T07:51:09.508Z"
   },
   {
    "duration": 31,
    "start_time": "2022-01-16T07:51:09.602Z"
   },
   {
    "duration": 7070,
    "start_time": "2022-01-16T07:51:12.613Z"
   },
   {
    "duration": 7873,
    "start_time": "2022-01-16T07:52:56.040Z"
   },
   {
    "duration": 15376,
    "start_time": "2022-01-16T07:55:29.125Z"
   },
   {
    "duration": 31,
    "start_time": "2022-01-16T07:58:50.551Z"
   },
   {
    "duration": 32,
    "start_time": "2022-01-16T07:59:15.230Z"
   },
   {
    "duration": 31,
    "start_time": "2022-01-16T07:59:36.450Z"
   },
   {
    "duration": 315,
    "start_time": "2022-01-16T08:03:09.579Z"
   },
   {
    "duration": 52,
    "start_time": "2022-01-16T08:16:56.394Z"
   },
   {
    "duration": 47,
    "start_time": "2022-01-16T08:18:46.127Z"
   },
   {
    "duration": 85,
    "start_time": "2022-01-16T08:18:52.601Z"
   },
   {
    "duration": 53,
    "start_time": "2022-01-16T08:18:52.689Z"
   },
   {
    "duration": 33,
    "start_time": "2022-01-16T08:19:45.729Z"
   },
   {
    "duration": 34,
    "start_time": "2022-01-16T08:22:28.997Z"
   },
   {
    "duration": 34,
    "start_time": "2022-01-16T08:22:39.804Z"
   },
   {
    "duration": 30,
    "start_time": "2022-01-16T08:23:20.574Z"
   },
   {
    "duration": 31,
    "start_time": "2022-01-16T08:23:32.535Z"
   },
   {
    "duration": 36,
    "start_time": "2022-01-16T08:24:58.448Z"
   },
   {
    "duration": 38,
    "start_time": "2022-01-16T08:28:19.547Z"
   },
   {
    "duration": 30,
    "start_time": "2022-01-16T08:28:36.513Z"
   },
   {
    "duration": 25,
    "start_time": "2022-01-16T08:28:47.533Z"
   },
   {
    "duration": 26,
    "start_time": "2022-01-16T08:29:06.846Z"
   },
   {
    "duration": 292,
    "start_time": "2022-01-16T08:35:23.022Z"
   },
   {
    "duration": 31,
    "start_time": "2022-01-16T08:47:26.407Z"
   },
   {
    "duration": 32,
    "start_time": "2022-01-16T08:51:27.189Z"
   },
   {
    "duration": 26,
    "start_time": "2022-01-16T08:51:43.063Z"
   },
   {
    "duration": 20,
    "start_time": "2022-01-16T08:51:55.051Z"
   },
   {
    "duration": 25,
    "start_time": "2022-01-16T08:52:00.111Z"
   },
   {
    "duration": 27,
    "start_time": "2022-01-16T08:52:23.378Z"
   },
   {
    "duration": 33,
    "start_time": "2022-01-16T08:52:31.573Z"
   },
   {
    "duration": 28,
    "start_time": "2022-01-16T08:53:31.506Z"
   },
   {
    "duration": 33,
    "start_time": "2022-01-16T08:53:43.061Z"
   },
   {
    "duration": 314,
    "start_time": "2022-01-16T08:54:52.849Z"
   },
   {
    "duration": 322,
    "start_time": "2022-01-16T08:55:32.768Z"
   },
   {
    "duration": 20,
    "start_time": "2022-01-16T08:56:12.623Z"
   },
   {
    "duration": 19,
    "start_time": "2022-01-16T08:56:27.776Z"
   },
   {
    "duration": 372,
    "start_time": "2022-01-16T09:40:14.795Z"
   },
   {
    "duration": 87,
    "start_time": "2022-01-16T09:40:38.941Z"
   },
   {
    "duration": 304,
    "start_time": "2022-01-16T09:40:39.030Z"
   },
   {
    "duration": 298,
    "start_time": "2022-01-16T09:40:45.425Z"
   },
   {
    "duration": 301,
    "start_time": "2022-01-16T09:40:51.394Z"
   },
   {
    "duration": 336,
    "start_time": "2022-01-16T10:00:38.317Z"
   },
   {
    "duration": 803,
    "start_time": "2022-01-16T10:00:46.228Z"
   },
   {
    "duration": 905,
    "start_time": "2022-01-16T10:02:11.512Z"
   },
   {
    "duration": 96,
    "start_time": "2022-01-16T10:05:16.892Z"
   },
   {
    "duration": 93789,
    "start_time": "2022-01-16T10:05:38.874Z"
   },
   {
    "duration": 94,
    "start_time": "2022-01-16T10:07:53.183Z"
   },
   {
    "duration": 85189,
    "start_time": "2022-01-16T10:11:00.225Z"
   },
   {
    "duration": 89,
    "start_time": "2022-01-16T10:12:25.417Z"
   },
   {
    "duration": 21,
    "start_time": "2022-01-16T10:12:25.509Z"
   },
   {
    "duration": 85243,
    "start_time": "2022-01-16T10:13:32.623Z"
   },
   {
    "duration": 22,
    "start_time": "2022-01-16T10:16:07.660Z"
   },
   {
    "duration": 86,
    "start_time": "2022-01-16T10:16:11.908Z"
   },
   {
    "duration": 14,
    "start_time": "2022-01-16T10:16:11.997Z"
   },
   {
    "duration": 24,
    "start_time": "2022-01-16T10:16:12.013Z"
   },
   {
    "duration": 8689,
    "start_time": "2022-01-16T10:19:10.969Z"
   },
   {
    "duration": 18,
    "start_time": "2022-01-16T10:22:07.550Z"
   },
   {
    "duration": 85,
    "start_time": "2022-01-16T10:22:13.353Z"
   },
   {
    "duration": 13,
    "start_time": "2022-01-16T10:22:13.441Z"
   },
   {
    "duration": 17,
    "start_time": "2022-01-16T10:22:13.457Z"
   },
   {
    "duration": 1805,
    "start_time": "2022-01-16T10:22:39.936Z"
   },
   {
    "duration": 84,
    "start_time": "2022-01-16T10:22:45.334Z"
   },
   {
    "duration": 13,
    "start_time": "2022-01-16T10:22:45.421Z"
   },
   {
    "duration": 1815,
    "start_time": "2022-01-16T10:22:45.436Z"
   },
   {
    "duration": 1795,
    "start_time": "2022-01-16T10:22:51.520Z"
   },
   {
    "duration": 17,
    "start_time": "2022-01-16T10:38:46.532Z"
   },
   {
    "duration": 83,
    "start_time": "2022-01-16T10:38:50.459Z"
   },
   {
    "duration": 13,
    "start_time": "2022-01-16T10:38:50.544Z"
   },
   {
    "duration": 15,
    "start_time": "2022-01-16T10:38:50.560Z"
   },
   {
    "duration": 16,
    "start_time": "2022-01-16T11:23:51.074Z"
   },
   {
    "duration": 853,
    "start_time": "2022-01-16T13:57:16.246Z"
   },
   {
    "duration": 31,
    "start_time": "2022-01-16T13:57:17.103Z"
   },
   {
    "duration": 779,
    "start_time": "2022-01-16T14:01:38.238Z"
   },
   {
    "duration": 22,
    "start_time": "2022-01-16T14:01:39.020Z"
   },
   {
    "duration": 84,
    "start_time": "2022-01-16T14:21:37.249Z"
   },
   {
    "duration": 15,
    "start_time": "2022-01-16T14:21:41.671Z"
   },
   {
    "duration": 17,
    "start_time": "2022-01-16T14:25:32.971Z"
   },
   {
    "duration": 8,
    "start_time": "2022-01-16T14:26:30.302Z"
   },
   {
    "duration": 12,
    "start_time": "2022-01-16T14:26:52.098Z"
   },
   {
    "duration": 10,
    "start_time": "2022-01-16T14:28:23.137Z"
   },
   {
    "duration": 16,
    "start_time": "2022-01-16T14:29:19.561Z"
   },
   {
    "duration": 16,
    "start_time": "2022-01-16T14:29:34.557Z"
   },
   {
    "duration": 16,
    "start_time": "2022-01-16T14:29:52.660Z"
   },
   {
    "duration": 25,
    "start_time": "2022-01-16T14:32:20.453Z"
   },
   {
    "duration": 25,
    "start_time": "2022-01-16T14:32:29.473Z"
   },
   {
    "duration": 22,
    "start_time": "2022-01-16T14:32:43.436Z"
   },
   {
    "duration": 29,
    "start_time": "2022-01-16T14:33:11.968Z"
   },
   {
    "duration": 28,
    "start_time": "2022-01-16T14:33:40.666Z"
   },
   {
    "duration": 13,
    "start_time": "2022-01-16T14:34:18.643Z"
   },
   {
    "duration": 29,
    "start_time": "2022-01-16T14:34:20.961Z"
   },
   {
    "duration": 38,
    "start_time": "2022-01-16T14:34:40.564Z"
   },
   {
    "duration": 27,
    "start_time": "2022-01-16T14:34:52.802Z"
   },
   {
    "duration": 26,
    "start_time": "2022-01-16T14:35:10.117Z"
   },
   {
    "duration": 82,
    "start_time": "2022-01-16T14:35:17.038Z"
   },
   {
    "duration": 14,
    "start_time": "2022-01-16T14:35:21.069Z"
   },
   {
    "duration": 26,
    "start_time": "2022-01-16T14:35:22.688Z"
   },
   {
    "duration": 26,
    "start_time": "2022-01-16T14:35:54.092Z"
   },
   {
    "duration": 18,
    "start_time": "2022-01-16T14:36:05.692Z"
   },
   {
    "duration": 6,
    "start_time": "2022-01-16T14:36:40.007Z"
   },
   {
    "duration": 7,
    "start_time": "2022-01-16T14:36:50.689Z"
   },
   {
    "duration": 18,
    "start_time": "2022-01-16T14:36:56.134Z"
   },
   {
    "duration": 13,
    "start_time": "2022-01-16T14:37:01.451Z"
   },
   {
    "duration": 85,
    "start_time": "2022-01-16T14:37:19.698Z"
   },
   {
    "duration": 14,
    "start_time": "2022-01-16T14:37:28.372Z"
   },
   {
    "duration": 13,
    "start_time": "2022-01-16T14:37:31.059Z"
   },
   {
    "duration": 5,
    "start_time": "2022-01-16T14:38:09.981Z"
   },
   {
    "duration": 32,
    "start_time": "2022-01-16T14:39:06.932Z"
   },
   {
    "duration": 13,
    "start_time": "2022-01-16T14:39:42.802Z"
   },
   {
    "duration": 18,
    "start_time": "2022-01-16T14:39:49.387Z"
   },
   {
    "duration": 98,
    "start_time": "2022-01-16T14:41:13.901Z"
   },
   {
    "duration": 30,
    "start_time": "2022-01-16T14:41:36.211Z"
   },
   {
    "duration": 18,
    "start_time": "2022-01-16T14:41:53.114Z"
   },
   {
    "duration": 21,
    "start_time": "2022-01-16T14:41:58.784Z"
   },
   {
    "duration": 91,
    "start_time": "2022-01-16T14:42:10.087Z"
   },
   {
    "duration": 42,
    "start_time": "2022-01-16T14:42:10.182Z"
   },
   {
    "duration": 19,
    "start_time": "2022-01-16T14:42:14.221Z"
   },
   {
    "duration": 13,
    "start_time": "2022-01-16T14:50:39.048Z"
   },
   {
    "duration": 13,
    "start_time": "2022-01-16T14:50:45.843Z"
   },
   {
    "duration": 17,
    "start_time": "2022-01-16T14:51:37.724Z"
   },
   {
    "duration": 6,
    "start_time": "2022-01-16T14:51:43.796Z"
   },
   {
    "duration": 15,
    "start_time": "2022-01-16T14:53:04.061Z"
   },
   {
    "duration": 15,
    "start_time": "2022-01-16T14:53:25.162Z"
   },
   {
    "duration": 20,
    "start_time": "2022-01-16T14:55:54.593Z"
   },
   {
    "duration": 14,
    "start_time": "2022-01-16T14:56:06.416Z"
   },
   {
    "duration": 15,
    "start_time": "2022-01-16T14:57:31.000Z"
   },
   {
    "duration": 315,
    "start_time": "2022-01-16T14:58:33.089Z"
   },
   {
    "duration": 14,
    "start_time": "2022-01-16T14:58:50.965Z"
   },
   {
    "duration": 20,
    "start_time": "2022-01-16T14:59:03.460Z"
   },
   {
    "duration": 23,
    "start_time": "2022-01-16T15:00:06.082Z"
   },
   {
    "duration": 102,
    "start_time": "2022-01-16T15:00:12.117Z"
   },
   {
    "duration": 20,
    "start_time": "2022-01-16T15:00:16.779Z"
   },
   {
    "duration": 19,
    "start_time": "2022-01-16T15:04:54.580Z"
   },
   {
    "duration": 7628,
    "start_time": "2022-01-16T15:05:18.131Z"
   },
   {
    "duration": 20,
    "start_time": "2022-01-16T15:08:56.220Z"
   },
   {
    "duration": 13,
    "start_time": "2022-01-16T15:09:41.209Z"
   },
   {
    "duration": 20,
    "start_time": "2022-01-16T15:09:48.257Z"
   },
   {
    "duration": 14,
    "start_time": "2022-01-16T15:10:02.565Z"
   },
   {
    "duration": 37,
    "start_time": "2022-01-16T15:11:15.047Z"
   },
   {
    "duration": 25,
    "start_time": "2022-01-16T15:11:38.518Z"
   },
   {
    "duration": 18,
    "start_time": "2022-01-16T15:11:46.307Z"
   },
   {
    "duration": 12,
    "start_time": "2022-01-16T15:15:27.177Z"
   },
   {
    "duration": 87,
    "start_time": "2022-01-16T15:15:32.940Z"
   },
   {
    "duration": 24,
    "start_time": "2022-01-16T15:15:33.031Z"
   },
   {
    "duration": 15,
    "start_time": "2022-01-16T15:15:33.058Z"
   },
   {
    "duration": 2349,
    "start_time": "2022-01-16T15:21:24.467Z"
   },
   {
    "duration": 28,
    "start_time": "2022-01-16T15:21:26.820Z"
   },
   {
    "duration": 46,
    "start_time": "2022-01-16T15:22:54.077Z"
   },
   {
    "duration": 22,
    "start_time": "2022-01-16T15:22:54.144Z"
   },
   {
    "duration": 64,
    "start_time": "2022-01-16T15:22:54.168Z"
   },
   {
    "duration": 874,
    "start_time": "2022-01-16T15:22:56.367Z"
   },
   {
    "duration": 20,
    "start_time": "2022-01-16T15:22:57.243Z"
   },
   {
    "duration": 15,
    "start_time": "2022-01-16T15:22:57.265Z"
   },
   {
    "duration": 36,
    "start_time": "2022-01-16T15:37:18.256Z"
   },
   {
    "duration": 19,
    "start_time": "2022-01-16T15:39:34.455Z"
   },
   {
    "duration": 15,
    "start_time": "2022-01-16T15:48:22.078Z"
   },
   {
    "duration": 18,
    "start_time": "2022-01-16T15:48:32.800Z"
   },
   {
    "duration": 24,
    "start_time": "2022-01-16T15:48:39.070Z"
   },
   {
    "duration": 19,
    "start_time": "2022-01-16T15:49:07.257Z"
   },
   {
    "duration": 85,
    "start_time": "2022-01-16T15:49:17.273Z"
   },
   {
    "duration": 21,
    "start_time": "2022-01-16T15:49:17.361Z"
   },
   {
    "duration": 28,
    "start_time": "2022-01-16T15:49:18.378Z"
   },
   {
    "duration": -116,
    "start_time": "2022-01-16T15:52:27.932Z"
   },
   {
    "duration": 101,
    "start_time": "2022-01-16T15:52:30.913Z"
   },
   {
    "duration": 30,
    "start_time": "2022-01-16T15:52:31.017Z"
   },
   {
    "duration": 311,
    "start_time": "2022-01-16T15:52:33.495Z"
   },
   {
    "duration": 1511,
    "start_time": "2022-01-16T15:52:42.058Z"
   },
   {
    "duration": 28,
    "start_time": "2022-01-16T15:52:58.404Z"
   },
   {
    "duration": 18,
    "start_time": "2022-01-16T15:53:06.435Z"
   },
   {
    "duration": 25,
    "start_time": "2022-01-16T15:53:40.714Z"
   },
   {
    "duration": 83,
    "start_time": "2022-01-16T15:53:47.816Z"
   },
   {
    "duration": 31,
    "start_time": "2022-01-16T15:53:47.902Z"
   },
   {
    "duration": 17,
    "start_time": "2022-01-16T15:53:47.935Z"
   },
   {
    "duration": 18,
    "start_time": "2022-01-16T15:54:03.026Z"
   },
   {
    "duration": 16,
    "start_time": "2022-01-16T15:54:21.683Z"
   },
   {
    "duration": 118,
    "start_time": "2022-01-16T15:54:24.703Z"
   },
   {
    "duration": 21,
    "start_time": "2022-01-16T15:54:24.825Z"
   },
   {
    "duration": 1279,
    "start_time": "2022-01-16T15:54:24.849Z"
   },
   {
    "duration": 7396,
    "start_time": "2022-01-16T15:54:36.332Z"
   },
   {
    "duration": 24,
    "start_time": "2022-01-16T15:55:33.963Z"
   },
   {
    "duration": 17,
    "start_time": "2022-01-16T15:57:14.750Z"
   },
   {
    "duration": 17,
    "start_time": "2022-01-16T15:57:23.672Z"
   },
   {
    "duration": 18,
    "start_time": "2022-01-16T15:57:43.560Z"
   },
   {
    "duration": 19,
    "start_time": "2022-01-16T15:59:17.944Z"
   },
   {
    "duration": 20,
    "start_time": "2022-01-16T16:00:22.093Z"
   },
   {
    "duration": 17,
    "start_time": "2022-01-16T16:00:28.614Z"
   },
   {
    "duration": 86,
    "start_time": "2022-01-16T16:00:36.446Z"
   },
   {
    "duration": 19,
    "start_time": "2022-01-16T16:00:36.535Z"
   },
   {
    "duration": 20,
    "start_time": "2022-01-16T16:00:36.556Z"
   },
   {
    "duration": 16,
    "start_time": "2022-01-16T16:01:01.459Z"
   },
   {
    "duration": 85,
    "start_time": "2022-01-16T16:01:05.391Z"
   },
   {
    "duration": 18,
    "start_time": "2022-01-16T16:01:05.478Z"
   },
   {
    "duration": 36,
    "start_time": "2022-01-16T16:01:05.499Z"
   },
   {
    "duration": 18,
    "start_time": "2022-01-16T16:01:08.007Z"
   },
   {
    "duration": 20,
    "start_time": "2022-01-16T16:01:44.647Z"
   },
   {
    "duration": 82,
    "start_time": "2022-01-16T16:01:48.924Z"
   },
   {
    "duration": 29,
    "start_time": "2022-01-16T16:01:49.009Z"
   },
   {
    "duration": 20,
    "start_time": "2022-01-16T16:01:49.041Z"
   },
   {
    "duration": 6,
    "start_time": "2022-01-16T16:02:22.138Z"
   },
   {
    "duration": 21,
    "start_time": "2022-01-16T16:02:30.856Z"
   },
   {
    "duration": 8,
    "start_time": "2022-01-16T16:02:42.675Z"
   },
   {
    "duration": 19,
    "start_time": "2022-01-16T16:07:40.251Z"
   },
   {
    "duration": 8,
    "start_time": "2022-01-16T16:07:43.324Z"
   },
   {
    "duration": 315,
    "start_time": "2022-01-16T16:09:34.172Z"
   },
   {
    "duration": 8,
    "start_time": "2022-01-16T16:09:38.838Z"
   },
   {
    "duration": 8,
    "start_time": "2022-01-16T16:09:59.444Z"
   },
   {
    "duration": 12,
    "start_time": "2022-01-16T16:10:14.562Z"
   },
   {
    "duration": 18,
    "start_time": "2022-01-16T16:11:17.736Z"
   },
   {
    "duration": 110,
    "start_time": "2022-01-16T16:12:55.019Z"
   },
   {
    "duration": 16,
    "start_time": "2022-01-16T16:13:20.748Z"
   },
   {
    "duration": 87,
    "start_time": "2022-01-16T16:13:24.519Z"
   },
   {
    "duration": 29,
    "start_time": "2022-01-16T16:13:24.609Z"
   },
   {
    "duration": 20,
    "start_time": "2022-01-16T16:13:24.641Z"
   },
   {
    "duration": 17,
    "start_time": "2022-01-16T16:14:21.707Z"
   },
   {
    "duration": 90,
    "start_time": "2022-01-16T16:14:45.594Z"
   },
   {
    "duration": 39,
    "start_time": "2022-01-16T16:14:45.687Z"
   },
   {
    "duration": 19,
    "start_time": "2022-01-16T16:14:47.038Z"
   },
   {
    "duration": 287,
    "start_time": "2022-01-16T16:15:21.991Z"
   },
   {
    "duration": 17,
    "start_time": "2022-01-16T16:16:57.784Z"
   },
   {
    "duration": 84,
    "start_time": "2022-01-16T16:19:12.511Z"
   },
   {
    "duration": 40,
    "start_time": "2022-01-16T16:19:12.598Z"
   },
   {
    "duration": 19,
    "start_time": "2022-01-16T16:19:13.937Z"
   },
   {
    "duration": 20,
    "start_time": "2022-01-16T16:20:24.057Z"
   },
   {
    "duration": 85,
    "start_time": "2022-01-16T16:20:49.687Z"
   },
   {
    "duration": 18,
    "start_time": "2022-01-16T16:20:49.775Z"
   },
   {
    "duration": 18,
    "start_time": "2022-01-16T16:20:53.597Z"
   },
   {
    "duration": 17,
    "start_time": "2022-01-16T16:21:13.340Z"
   },
   {
    "duration": 89,
    "start_time": "2022-01-16T16:21:19.379Z"
   },
   {
    "duration": 22,
    "start_time": "2022-01-16T16:21:19.472Z"
   },
   {
    "duration": 19,
    "start_time": "2022-01-16T16:21:20.889Z"
   },
   {
    "duration": 24,
    "start_time": "2022-01-16T16:21:54.374Z"
   },
   {
    "duration": 20,
    "start_time": "2022-01-16T16:22:11.861Z"
   },
   {
    "duration": 22,
    "start_time": "2022-01-16T16:25:50.192Z"
   },
   {
    "duration": 87,
    "start_time": "2022-01-16T16:26:39.749Z"
   },
   {
    "duration": 24,
    "start_time": "2022-01-16T16:26:42.260Z"
   },
   {
    "duration": 21,
    "start_time": "2022-01-16T16:26:53.311Z"
   },
   {
    "duration": 17,
    "start_time": "2022-01-16T16:32:19.375Z"
   },
   {
    "duration": 25,
    "start_time": "2022-01-16T16:37:21.209Z"
   },
   {
    "duration": 342,
    "start_time": "2022-01-17T02:16:38.360Z"
   },
   {
    "duration": 872,
    "start_time": "2022-01-17T02:16:41.395Z"
   },
   {
    "duration": 18,
    "start_time": "2022-01-17T02:16:42.270Z"
   },
   {
    "duration": 28,
    "start_time": "2022-01-17T02:16:42.291Z"
   },
   {
    "duration": 15,
    "start_time": "2022-01-17T02:16:49.311Z"
   },
   {
    "duration": 20,
    "start_time": "2022-01-17T04:25:51.931Z"
   },
   {
    "duration": 89,
    "start_time": "2022-01-17T04:25:58.463Z"
   },
   {
    "duration": 19,
    "start_time": "2022-01-17T04:25:58.556Z"
   },
   {
    "duration": 20,
    "start_time": "2022-01-17T04:25:58.578Z"
   },
   {
    "duration": 3880,
    "start_time": "2022-01-17T04:26:48.052Z"
   },
   {
    "duration": 87,
    "start_time": "2022-01-17T04:35:10.526Z"
   },
   {
    "duration": 2950,
    "start_time": "2022-01-17T04:35:16.519Z"
   },
   {
    "duration": 18,
    "start_time": "2022-01-17T04:36:34.525Z"
   },
   {
    "duration": 283,
    "start_time": "2022-01-17T04:37:09.531Z"
   },
   {
    "duration": 11,
    "start_time": "2022-01-17T04:37:18.989Z"
   },
   {
    "duration": 11,
    "start_time": "2022-01-17T04:38:14.988Z"
   },
   {
    "duration": 14,
    "start_time": "2022-01-17T04:39:06.564Z"
   },
   {
    "duration": 5424,
    "start_time": "2022-01-17T04:40:10.878Z"
   },
   {
    "duration": 17,
    "start_time": "2022-01-17T04:40:42.699Z"
   },
   {
    "duration": 89,
    "start_time": "2022-01-17T04:40:50.850Z"
   },
   {
    "duration": 18,
    "start_time": "2022-01-17T04:40:53.193Z"
   },
   {
    "duration": 274,
    "start_time": "2022-01-17T04:43:19.846Z"
   },
   {
    "duration": 504,
    "start_time": "2022-01-17T04:43:38.630Z"
   },
   {
    "duration": 261,
    "start_time": "2022-01-17T04:43:55.292Z"
   },
   {
    "duration": 17,
    "start_time": "2022-01-17T04:44:08.995Z"
   },
   {
    "duration": 9,
    "start_time": "2022-01-17T04:44:35.723Z"
   },
   {
    "duration": 8,
    "start_time": "2022-01-17T04:44:43.073Z"
   },
   {
    "duration": 10,
    "start_time": "2022-01-17T04:44:54.654Z"
   },
   {
    "duration": 9,
    "start_time": "2022-01-17T04:45:03.739Z"
   },
   {
    "duration": 25,
    "start_time": "2022-01-17T04:45:07.124Z"
   },
   {
    "duration": 265,
    "start_time": "2022-01-17T04:50:00.379Z"
   },
   {
    "duration": 17,
    "start_time": "2022-01-17T04:50:08.834Z"
   },
   {
    "duration": 86,
    "start_time": "2022-01-17T04:50:13.947Z"
   },
   {
    "duration": 18,
    "start_time": "2022-01-17T04:50:14.035Z"
   },
   {
    "duration": 17,
    "start_time": "2022-01-17T04:50:14.055Z"
   },
   {
    "duration": 93,
    "start_time": "2022-01-17T05:29:57.132Z"
   },
   {
    "duration": 91,
    "start_time": "2022-01-17T05:30:07.609Z"
   },
   {
    "duration": 19,
    "start_time": "2022-01-17T05:30:20.659Z"
   },
   {
    "duration": 27,
    "start_time": "2022-01-17T05:31:06.263Z"
   },
   {
    "duration": 27,
    "start_time": "2022-01-17T05:31:27.665Z"
   },
   {
    "duration": 32,
    "start_time": "2022-01-17T05:37:43.964Z"
   },
   {
    "duration": 25,
    "start_time": "2022-01-17T05:37:56.985Z"
   },
   {
    "duration": 25,
    "start_time": "2022-01-17T05:54:48.835Z"
   },
   {
    "duration": 25,
    "start_time": "2022-01-17T05:55:01.161Z"
   },
   {
    "duration": 19,
    "start_time": "2022-01-17T05:55:32.175Z"
   },
   {
    "duration": 88,
    "start_time": "2022-01-17T05:55:35.457Z"
   },
   {
    "duration": 19,
    "start_time": "2022-01-17T05:55:35.547Z"
   },
   {
    "duration": 20,
    "start_time": "2022-01-17T05:55:35.568Z"
   },
   {
    "duration": 12,
    "start_time": "2022-01-17T05:56:40.332Z"
   },
   {
    "duration": 11,
    "start_time": "2022-01-17T05:56:55.091Z"
   },
   {
    "duration": 353,
    "start_time": "2022-01-17T05:57:03.257Z"
   },
   {
    "duration": 299,
    "start_time": "2022-01-17T05:59:58.408Z"
   },
   {
    "duration": 14,
    "start_time": "2022-01-17T06:00:04.516Z"
   },
   {
    "duration": 244,
    "start_time": "2022-01-17T06:00:53.314Z"
   },
   {
    "duration": 258,
    "start_time": "2022-01-17T06:01:04.405Z"
   },
   {
    "duration": 327,
    "start_time": "2022-01-17T06:01:27.006Z"
   },
   {
    "duration": 270,
    "start_time": "2022-01-17T06:01:29.788Z"
   },
   {
    "duration": 259,
    "start_time": "2022-01-17T06:01:32.709Z"
   },
   {
    "duration": 13,
    "start_time": "2022-01-17T06:01:45.860Z"
   },
   {
    "duration": 15,
    "start_time": "2022-01-17T06:02:06.963Z"
   },
   {
    "duration": 266,
    "start_time": "2022-01-17T06:04:50.335Z"
   },
   {
    "duration": 89,
    "start_time": "2022-01-17T06:05:04.901Z"
   },
   {
    "duration": 24,
    "start_time": "2022-01-17T06:05:04.993Z"
   },
   {
    "duration": 295,
    "start_time": "2022-01-17T06:05:05.020Z"
   },
   {
    "duration": 18,
    "start_time": "2022-01-17T06:05:38.001Z"
   },
   {
    "duration": 397,
    "start_time": "2022-01-17T06:33:28.326Z"
   },
   {
    "duration": 310,
    "start_time": "2022-01-17T06:33:42.397Z"
   },
   {
    "duration": 298,
    "start_time": "2022-01-17T06:33:53.694Z"
   },
   {
    "duration": 12,
    "start_time": "2022-01-17T06:37:20.264Z"
   },
   {
    "duration": 17,
    "start_time": "2022-01-17T06:37:36.733Z"
   },
   {
    "duration": 24,
    "start_time": "2022-01-17T06:38:21.157Z"
   },
   {
    "duration": 83,
    "start_time": "2022-01-17T06:38:27.643Z"
   },
   {
    "duration": 26,
    "start_time": "2022-01-17T06:38:34.478Z"
   },
   {
    "duration": 267,
    "start_time": "2022-01-17T06:39:15.692Z"
   },
   {
    "duration": 31,
    "start_time": "2022-01-17T06:44:13.024Z"
   },
   {
    "duration": 87,
    "start_time": "2022-01-17T06:47:35.592Z"
   },
   {
    "duration": 93,
    "start_time": "2022-01-17T06:48:05.675Z"
   },
   {
    "duration": 90,
    "start_time": "2022-01-17T06:48:27.903Z"
   },
   {
    "duration": 90,
    "start_time": "2022-01-17T06:52:19.369Z"
   },
   {
    "duration": 18,
    "start_time": "2022-01-17T06:52:19.461Z"
   },
   {
    "duration": 92,
    "start_time": "2022-01-17T06:52:22.085Z"
   },
   {
    "duration": 96,
    "start_time": "2022-01-17T06:52:34.390Z"
   },
   {
    "duration": 18,
    "start_time": "2022-01-17T06:53:37.923Z"
   },
   {
    "duration": 274,
    "start_time": "2022-01-17T06:54:11.627Z"
   },
   {
    "duration": 1261,
    "start_time": "2022-01-17T07:44:01.142Z"
   },
   {
    "duration": 412,
    "start_time": "2022-01-17T07:47:42.203Z"
   },
   {
    "duration": 87,
    "start_time": "2022-01-17T07:47:47.636Z"
   },
   {
    "duration": 19,
    "start_time": "2022-01-17T07:47:47.727Z"
   },
   {
    "duration": 534,
    "start_time": "2022-01-17T07:47:47.748Z"
   },
   {
    "duration": 416,
    "start_time": "2022-01-17T07:47:49.714Z"
   },
   {
    "duration": 343,
    "start_time": "2022-01-17T07:47:58.792Z"
   },
   {
    "duration": 90,
    "start_time": "2022-01-17T07:48:10.067Z"
   },
   {
    "duration": 19,
    "start_time": "2022-01-17T07:48:10.160Z"
   },
   {
    "duration": 86,
    "start_time": "2022-01-17T07:48:59.117Z"
   },
   {
    "duration": 90,
    "start_time": "2022-01-17T07:49:07.582Z"
   },
   {
    "duration": 427,
    "start_time": "2022-01-17T07:49:13.730Z"
   },
   {
    "duration": 992,
    "start_time": "2022-01-17T07:50:34.964Z"
   },
   {
    "duration": 489,
    "start_time": "2022-01-17T07:51:46.333Z"
   },
   {
    "duration": 90,
    "start_time": "2022-01-17T07:57:12.537Z"
   },
   {
    "duration": 18,
    "start_time": "2022-01-17T07:57:12.629Z"
   },
   {
    "duration": 1036,
    "start_time": "2022-01-17T07:57:32.357Z"
   },
   {
    "duration": 431,
    "start_time": "2022-01-17T07:57:50.144Z"
   },
   {
    "duration": 726,
    "start_time": "2022-01-17T08:03:36.603Z"
   },
   {
    "duration": 266,
    "start_time": "2022-01-17T08:03:47.239Z"
   },
   {
    "duration": 33,
    "start_time": "2022-01-17T08:04:18.526Z"
   },
   {
    "duration": 34,
    "start_time": "2022-01-17T08:04:31.291Z"
   },
   {
    "duration": 14,
    "start_time": "2022-01-17T08:05:31.182Z"
   },
   {
    "duration": 528,
    "start_time": "2022-01-17T08:07:04.815Z"
   },
   {
    "duration": 304,
    "start_time": "2022-01-17T08:07:12.386Z"
   },
   {
    "duration": 277,
    "start_time": "2022-01-17T08:07:28.922Z"
   },
   {
    "duration": 292,
    "start_time": "2022-01-17T08:07:33.401Z"
   },
   {
    "duration": 261,
    "start_time": "2022-01-17T08:08:06.592Z"
   },
   {
    "duration": 89,
    "start_time": "2022-01-17T08:08:10.303Z"
   },
   {
    "duration": 32,
    "start_time": "2022-01-17T08:08:10.396Z"
   },
   {
    "duration": 254,
    "start_time": "2022-01-17T08:08:10.431Z"
   },
   {
    "duration": 267,
    "start_time": "2022-01-17T08:08:18.081Z"
   },
   {
    "duration": 14,
    "start_time": "2022-01-17T08:08:36.847Z"
   },
   {
    "duration": 13,
    "start_time": "2022-01-17T08:08:50.112Z"
   },
   {
    "duration": 10,
    "start_time": "2022-01-17T08:08:56.311Z"
   },
   {
    "duration": 14,
    "start_time": "2022-01-17T08:09:20.167Z"
   },
   {
    "duration": 14,
    "start_time": "2022-01-17T08:10:11.734Z"
   },
   {
    "duration": 1103,
    "start_time": "2022-01-17T08:11:20.956Z"
   },
   {
    "duration": 732,
    "start_time": "2022-01-17T08:11:47.752Z"
   },
   {
    "duration": 1118,
    "start_time": "2022-01-17T08:12:01.923Z"
   },
   {
    "duration": 92,
    "start_time": "2022-01-17T08:12:12.705Z"
   },
   {
    "duration": 26,
    "start_time": "2022-01-17T08:12:12.800Z"
   },
   {
    "duration": 1146,
    "start_time": "2022-01-17T08:12:12.829Z"
   },
   {
    "duration": 1150,
    "start_time": "2022-01-17T08:12:14.627Z"
   },
   {
    "duration": 298,
    "start_time": "2022-01-17T08:12:48.108Z"
   },
   {
    "duration": 33,
    "start_time": "2022-01-17T08:13:00.818Z"
   },
   {
    "duration": 95,
    "start_time": "2022-01-17T08:13:04.063Z"
   },
   {
    "duration": 17,
    "start_time": "2022-01-17T08:13:04.161Z"
   },
   {
    "duration": 42,
    "start_time": "2022-01-17T08:13:04.182Z"
   },
   {
    "duration": 579,
    "start_time": "2022-01-17T08:13:38.257Z"
   },
   {
    "duration": 743,
    "start_time": "2022-01-17T08:13:43.885Z"
   },
   {
    "duration": 682,
    "start_time": "2022-01-17T08:13:49.891Z"
   },
   {
    "duration": 879,
    "start_time": "2022-01-17T08:13:55.644Z"
   },
   {
    "duration": 358,
    "start_time": "2022-01-17T08:14:12.639Z"
   },
   {
    "duration": 362,
    "start_time": "2022-01-17T08:16:37.950Z"
   },
   {
    "duration": 18,
    "start_time": "2022-01-17T08:16:58.588Z"
   },
   {
    "duration": 19,
    "start_time": "2022-01-17T08:18:16.980Z"
   },
   {
    "duration": 37,
    "start_time": "2022-01-17T08:18:30.342Z"
   },
   {
    "duration": 65,
    "start_time": "2022-01-17T09:51:58.681Z"
   },
   {
    "duration": 38,
    "start_time": "2022-01-17T09:52:58.403Z"
   },
   {
    "duration": 43,
    "start_time": "2022-01-17T09:53:05.319Z"
   },
   {
    "duration": 21,
    "start_time": "2022-01-17T09:55:55.013Z"
   },
   {
    "duration": 33,
    "start_time": "2022-01-17T10:03:49.354Z"
   },
   {
    "duration": 29,
    "start_time": "2022-01-17T10:31:03.953Z"
   },
   {
    "duration": 88,
    "start_time": "2022-01-17T10:31:12.079Z"
   },
   {
    "duration": 28,
    "start_time": "2022-01-17T10:31:14.318Z"
   },
   {
    "duration": 25,
    "start_time": "2022-01-17T10:44:46.297Z"
   },
   {
    "duration": 34,
    "start_time": "2022-01-17T10:44:52.206Z"
   },
   {
    "duration": 34,
    "start_time": "2022-01-17T10:45:13.459Z"
   },
   {
    "duration": 93,
    "start_time": "2022-01-17T10:46:00.645Z"
   },
   {
    "duration": 34,
    "start_time": "2022-01-17T10:46:16.676Z"
   },
   {
    "duration": 216,
    "start_time": "2022-01-17T13:06:01.810Z"
   },
   {
    "duration": 625,
    "start_time": "2022-01-17T13:06:06.315Z"
   },
   {
    "duration": 26,
    "start_time": "2022-01-17T13:06:06.943Z"
   },
   {
    "duration": 273,
    "start_time": "2022-01-17T13:06:06.971Z"
   },
   {
    "duration": 264,
    "start_time": "2022-01-17T13:06:13.298Z"
   },
   {
    "duration": 251,
    "start_time": "2022-01-17T13:07:00.597Z"
   },
   {
    "duration": 23,
    "start_time": "2022-01-17T13:13:00.169Z"
   },
   {
    "duration": 256,
    "start_time": "2022-01-17T13:15:20.936Z"
   },
   {
    "duration": 47,
    "start_time": "2022-01-17T13:18:13.301Z"
   },
   {
    "duration": 27,
    "start_time": "2022-01-17T13:24:14.225Z"
   },
   {
    "duration": 28,
    "start_time": "2022-01-17T13:28:16.506Z"
   },
   {
    "duration": 42,
    "start_time": "2022-01-17T13:29:35.216Z"
   },
   {
    "duration": 25,
    "start_time": "2022-01-17T13:30:14.988Z"
   },
   {
    "duration": 26,
    "start_time": "2022-01-17T13:30:45.452Z"
   },
   {
    "duration": 24,
    "start_time": "2022-01-17T13:31:55.430Z"
   },
   {
    "duration": 33,
    "start_time": "2022-01-17T13:32:20.871Z"
   },
   {
    "duration": 26,
    "start_time": "2022-01-17T13:33:41.373Z"
   },
   {
    "duration": 229,
    "start_time": "2022-01-17T13:33:57.345Z"
   },
   {
    "duration": 217,
    "start_time": "2022-01-17T13:34:22.836Z"
   },
   {
    "duration": 19,
    "start_time": "2022-01-17T13:34:34.330Z"
   },
   {
    "duration": 9,
    "start_time": "2022-01-17T13:35:34.989Z"
   },
   {
    "duration": 7,
    "start_time": "2022-01-17T13:36:26.613Z"
   },
   {
    "duration": 16,
    "start_time": "2022-01-17T13:37:52.983Z"
   },
   {
    "duration": 4,
    "start_time": "2022-01-17T13:49:55.963Z"
   },
   {
    "duration": 7,
    "start_time": "2022-01-17T13:50:35.771Z"
   },
   {
    "duration": 184,
    "start_time": "2022-01-17T14:01:46.417Z"
   },
   {
    "duration": 246,
    "start_time": "2022-01-17T14:08:41.312Z"
   },
   {
    "duration": 76,
    "start_time": "2022-01-17T14:08:47.349Z"
   },
   {
    "duration": 25,
    "start_time": "2022-01-17T14:08:47.428Z"
   },
   {
    "duration": 275,
    "start_time": "2022-01-17T14:08:47.455Z"
   },
   {
    "duration": 266,
    "start_time": "2022-01-17T14:08:49.834Z"
   },
   {
    "duration": 253,
    "start_time": "2022-01-17T14:09:00.256Z"
   },
   {
    "duration": 12,
    "start_time": "2022-01-17T14:09:12.335Z"
   },
   {
    "duration": 9,
    "start_time": "2022-01-17T14:09:18.077Z"
   },
   {
    "duration": 167,
    "start_time": "2022-01-17T14:09:22.329Z"
   },
   {
    "duration": 156,
    "start_time": "2022-01-17T14:11:50.725Z"
   },
   {
    "duration": 162,
    "start_time": "2022-01-17T14:12:17.072Z"
   },
   {
    "duration": 173,
    "start_time": "2022-01-17T14:12:29.782Z"
   },
   {
    "duration": 164,
    "start_time": "2022-01-17T14:13:52.141Z"
   },
   {
    "duration": 186,
    "start_time": "2022-01-17T14:13:59.596Z"
   },
   {
    "duration": 213,
    "start_time": "2022-01-17T14:15:55.011Z"
   },
   {
    "duration": 170,
    "start_time": "2022-01-17T14:16:12.297Z"
   },
   {
    "duration": 158,
    "start_time": "2022-01-17T14:16:37.530Z"
   },
   {
    "duration": 70,
    "start_time": "2022-01-17T14:16:50.053Z"
   },
   {
    "duration": 26,
    "start_time": "2022-01-17T14:16:50.125Z"
   },
   {
    "duration": 281,
    "start_time": "2022-01-17T14:16:50.153Z"
   },
   {
    "duration": 13,
    "start_time": "2022-01-17T14:16:50.436Z"
   },
   {
    "duration": 8,
    "start_time": "2022-01-17T14:16:50.451Z"
   },
   {
    "duration": 179,
    "start_time": "2022-01-17T14:16:53.076Z"
   },
   {
    "duration": 169,
    "start_time": "2022-01-17T14:18:25.600Z"
   },
   {
    "duration": 21,
    "start_time": "2022-01-17T14:18:29.462Z"
   },
   {
    "duration": 171,
    "start_time": "2022-01-17T14:23:10.603Z"
   },
   {
    "duration": 208,
    "start_time": "2022-01-17T14:23:44.892Z"
   },
   {
    "duration": 171,
    "start_time": "2022-01-17T14:29:36.699Z"
   },
   {
    "duration": 159,
    "start_time": "2022-01-17T14:32:40.620Z"
   },
   {
    "duration": 17,
    "start_time": "2022-01-17T14:32:57.654Z"
   },
   {
    "duration": 18,
    "start_time": "2022-01-17T14:40:27.671Z"
   },
   {
    "duration": 168,
    "start_time": "2022-01-17T14:41:46.967Z"
   },
   {
    "duration": 169,
    "start_time": "2022-01-17T14:42:04.229Z"
   },
   {
    "duration": 23,
    "start_time": "2022-01-17T14:54:21.379Z"
   },
   {
    "duration": 171,
    "start_time": "2022-01-17T14:54:36.143Z"
   },
   {
    "duration": 164,
    "start_time": "2022-01-17T14:56:38.439Z"
   },
   {
    "duration": 170,
    "start_time": "2022-01-17T15:00:18.632Z"
   },
   {
    "duration": 166,
    "start_time": "2022-01-17T15:00:22.428Z"
   },
   {
    "duration": 3435,
    "start_time": "2022-01-17T15:07:11.099Z"
   },
   {
    "duration": 8867,
    "start_time": "2022-01-17T15:07:22.540Z"
   },
   {
    "duration": 7804,
    "start_time": "2022-01-17T15:07:50.612Z"
   },
   {
    "duration": 2136,
    "start_time": "2022-01-17T15:11:37.126Z"
   },
   {
    "duration": 85,
    "start_time": "2022-01-17T15:11:39.264Z"
   },
   {
    "duration": 60,
    "start_time": "2022-01-17T15:11:39.351Z"
   },
   {
    "duration": 255,
    "start_time": "2022-01-17T15:11:39.413Z"
   },
   {
    "duration": 22,
    "start_time": "2022-01-17T15:11:39.670Z"
   },
   {
    "duration": 6,
    "start_time": "2022-01-17T15:11:39.694Z"
   },
   {
    "duration": 20,
    "start_time": "2022-01-17T15:18:54.916Z"
   },
   {
    "duration": 20,
    "start_time": "2022-01-17T15:19:17.559Z"
   },
   {
    "duration": 70,
    "start_time": "2022-01-17T15:22:46.035Z"
   },
   {
    "duration": 24,
    "start_time": "2022-01-17T15:22:46.107Z"
   },
   {
    "duration": 266,
    "start_time": "2022-01-17T15:22:46.133Z"
   },
   {
    "duration": 13,
    "start_time": "2022-01-17T15:22:46.401Z"
   },
   {
    "duration": 19,
    "start_time": "2022-01-17T15:22:46.415Z"
   },
   {
    "duration": 2372,
    "start_time": "2022-01-17T15:22:48.162Z"
   },
   {
    "duration": 7,
    "start_time": "2022-01-17T15:27:45.869Z"
   },
   {
    "duration": 1979,
    "start_time": "2022-01-17T15:27:50.215Z"
   },
   {
    "duration": 221,
    "start_time": "2022-01-17T15:48:18.685Z"
   },
   {
    "duration": 288,
    "start_time": "2022-01-17T15:49:03.075Z"
   },
   {
    "duration": 115,
    "start_time": "2022-01-17T15:49:33.453Z"
   },
   {
    "duration": 23,
    "start_time": "2022-01-17T15:49:33.569Z"
   },
   {
    "duration": 254,
    "start_time": "2022-01-17T15:49:33.594Z"
   },
   {
    "duration": 11,
    "start_time": "2022-01-17T15:49:33.850Z"
   },
   {
    "duration": 5,
    "start_time": "2022-01-17T15:49:33.863Z"
   },
   {
    "duration": 2855,
    "start_time": "2022-01-17T15:49:33.869Z"
   },
   {
    "duration": 238,
    "start_time": "2022-01-17T15:49:36.726Z"
   },
   {
    "duration": 237,
    "start_time": "2022-01-17T15:49:57.522Z"
   },
   {
    "duration": 163,
    "start_time": "2022-01-17T15:52:00.734Z"
   },
   {
    "duration": 21,
    "start_time": "2022-01-17T15:52:03.843Z"
   },
   {
    "duration": 103,
    "start_time": "2022-01-17T15:52:12.169Z"
   },
   {
    "duration": 27,
    "start_time": "2022-01-17T15:52:12.273Z"
   },
   {
    "duration": 263,
    "start_time": "2022-01-17T15:52:12.302Z"
   },
   {
    "duration": 31,
    "start_time": "2022-01-17T15:52:12.567Z"
   },
   {
    "duration": 20,
    "start_time": "2022-01-17T15:52:13.918Z"
   },
   {
    "duration": 22,
    "start_time": "2022-01-17T15:52:50.440Z"
   },
   {
    "duration": 19,
    "start_time": "2022-01-17T15:53:17.026Z"
   },
   {
    "duration": 23,
    "start_time": "2022-01-17T15:53:33.738Z"
   },
   {
    "duration": 698,
    "start_time": "2022-01-17T15:56:00.289Z"
   },
   {
    "duration": 65,
    "start_time": "2022-01-17T15:56:06.096Z"
   },
   {
    "duration": 22,
    "start_time": "2022-01-17T15:56:06.163Z"
   },
   {
    "duration": 253,
    "start_time": "2022-01-17T15:56:06.191Z"
   },
   {
    "duration": 11,
    "start_time": "2022-01-17T15:56:06.446Z"
   },
   {
    "duration": 35,
    "start_time": "2022-01-17T15:56:06.459Z"
   },
   {
    "duration": 2847,
    "start_time": "2022-01-17T15:56:06.496Z"
   },
   {
    "duration": 760,
    "start_time": "2022-01-17T15:56:09.345Z"
   },
   {
    "duration": 249,
    "start_time": "2022-01-17T15:56:15.788Z"
   },
   {
    "duration": 260,
    "start_time": "2022-01-17T16:02:11.354Z"
   },
   {
    "duration": 236,
    "start_time": "2022-01-17T16:02:23.937Z"
   },
   {
    "duration": 427,
    "start_time": "2022-01-17T16:14:57.256Z"
   },
   {
    "duration": 4,
    "start_time": "2022-01-17T16:16:07.410Z"
   },
   {
    "duration": 7,
    "start_time": "2022-01-17T16:16:19.708Z"
   },
   {
    "duration": 18,
    "start_time": "2022-01-17T16:16:59.609Z"
   },
   {
    "duration": 372,
    "start_time": "2022-01-18T02:55:06.176Z"
   },
   {
    "duration": 613,
    "start_time": "2022-01-18T02:55:12.183Z"
   },
   {
    "duration": 35,
    "start_time": "2022-01-18T02:55:12.797Z"
   },
   {
    "duration": 236,
    "start_time": "2022-01-18T02:55:12.835Z"
   },
   {
    "duration": 5,
    "start_time": "2022-01-18T02:55:13.073Z"
   },
   {
    "duration": 110,
    "start_time": "2022-01-18T03:01:42.394Z"
   },
   {
    "duration": 18,
    "start_time": "2022-01-18T03:01:47.624Z"
   },
   {
    "duration": 19,
    "start_time": "2022-01-18T03:02:27.481Z"
   },
   {
    "duration": 71,
    "start_time": "2022-01-18T03:02:34.866Z"
   },
   {
    "duration": 36,
    "start_time": "2022-01-18T03:02:34.938Z"
   },
   {
    "duration": 251,
    "start_time": "2022-01-18T03:02:34.976Z"
   },
   {
    "duration": 228,
    "start_time": "2022-01-18T03:02:42.982Z"
   },
   {
    "duration": 13,
    "start_time": "2022-01-18T03:02:47.807Z"
   },
   {
    "duration": 17,
    "start_time": "2022-01-18T03:02:52.654Z"
   },
   {
    "duration": 221,
    "start_time": "2022-01-18T03:09:55.410Z"
   },
   {
    "duration": 21,
    "start_time": "2022-01-18T03:14:07.903Z"
   },
   {
    "duration": 19,
    "start_time": "2022-01-18T03:15:09.702Z"
   },
   {
    "duration": 69,
    "start_time": "2022-01-18T03:15:21.213Z"
   },
   {
    "duration": 43,
    "start_time": "2022-01-18T03:15:21.284Z"
   },
   {
    "duration": 211,
    "start_time": "2022-01-18T03:15:25.843Z"
   },
   {
    "duration": 209,
    "start_time": "2022-01-18T03:15:52.693Z"
   },
   {
    "duration": 69,
    "start_time": "2022-01-18T03:16:07.834Z"
   },
   {
    "duration": 33,
    "start_time": "2022-01-18T03:16:07.905Z"
   },
   {
    "duration": 215,
    "start_time": "2022-01-18T03:16:14.405Z"
   },
   {
    "duration": 184,
    "start_time": "2022-01-18T03:16:39.717Z"
   },
   {
    "duration": 181,
    "start_time": "2022-01-18T03:16:47.692Z"
   },
   {
    "duration": 180,
    "start_time": "2022-01-18T03:16:52.859Z"
   },
   {
    "duration": 69,
    "start_time": "2022-01-18T03:16:56.450Z"
   },
   {
    "duration": 36,
    "start_time": "2022-01-18T03:16:56.520Z"
   },
   {
    "duration": 225,
    "start_time": "2022-01-18T03:16:56.558Z"
   },
   {
    "duration": 213,
    "start_time": "2022-01-18T03:17:09.147Z"
   },
   {
    "duration": 117,
    "start_time": "2022-01-18T03:17:37.985Z"
   },
   {
    "duration": 215,
    "start_time": "2022-01-18T03:17:44.954Z"
   },
   {
    "duration": 222,
    "start_time": "2022-01-18T03:18:03.824Z"
   },
   {
    "duration": 19,
    "start_time": "2022-01-18T03:18:25.778Z"
   },
   {
    "duration": 70,
    "start_time": "2022-01-18T03:18:52.477Z"
   },
   {
    "duration": 34,
    "start_time": "2022-01-18T03:18:52.549Z"
   },
   {
    "duration": 222,
    "start_time": "2022-01-18T03:18:52.584Z"
   },
   {
    "duration": 26,
    "start_time": "2022-01-18T03:18:52.807Z"
   },
   {
    "duration": 15,
    "start_time": "2022-01-18T03:18:52.835Z"
   },
   {
    "duration": 16,
    "start_time": "2022-01-18T03:18:52.851Z"
   },
   {
    "duration": 18,
    "start_time": "2022-01-18T03:18:55.129Z"
   },
   {
    "duration": 567,
    "start_time": "2022-01-18T03:19:34.586Z"
   },
   {
    "duration": 193,
    "start_time": "2022-01-18T03:19:48.494Z"
   },
   {
    "duration": 189,
    "start_time": "2022-01-18T03:19:57.329Z"
   },
   {
    "duration": 21,
    "start_time": "2022-01-18T03:20:13.042Z"
   },
   {
    "duration": 18,
    "start_time": "2022-01-18T03:21:00.607Z"
   },
   {
    "duration": 70,
    "start_time": "2022-01-18T03:22:14.101Z"
   },
   {
    "duration": 37,
    "start_time": "2022-01-18T03:22:20.974Z"
   },
   {
    "duration": 225,
    "start_time": "2022-01-18T03:22:26.952Z"
   },
   {
    "duration": 638,
    "start_time": "2022-01-18T03:22:48.044Z"
   },
   {
    "duration": 19,
    "start_time": "2022-01-18T03:22:48.684Z"
   },
   {
    "duration": 238,
    "start_time": "2022-01-18T03:22:48.705Z"
   },
   {
    "duration": 15,
    "start_time": "2022-01-18T03:22:48.945Z"
   },
   {
    "duration": 16,
    "start_time": "2022-01-18T03:22:48.962Z"
   },
   {
    "duration": 17,
    "start_time": "2022-01-18T03:22:48.980Z"
   },
   {
    "duration": 29,
    "start_time": "2022-01-18T03:22:48.998Z"
   },
   {
    "duration": 2,
    "start_time": "2022-01-18T03:22:49.029Z"
   },
   {
    "duration": 5,
    "start_time": "2022-01-18T03:22:49.032Z"
   },
   {
    "duration": 5,
    "start_time": "2022-01-18T03:22:49.038Z"
   },
   {
    "duration": 4,
    "start_time": "2022-01-18T03:22:49.044Z"
   },
   {
    "duration": 464,
    "start_time": "2022-01-18T03:23:39.986Z"
   },
   {
    "duration": 196,
    "start_time": "2022-01-18T03:23:50.872Z"
   },
   {
    "duration": 17,
    "start_time": "2022-01-18T03:24:05.119Z"
   },
   {
    "duration": 18,
    "start_time": "2022-01-18T03:24:13.730Z"
   },
   {
    "duration": 18,
    "start_time": "2022-01-18T03:24:20.774Z"
   },
   {
    "duration": 14,
    "start_time": "2022-01-18T03:24:52.134Z"
   },
   {
    "duration": 17,
    "start_time": "2022-01-18T03:25:21.093Z"
   },
   {
    "duration": 13,
    "start_time": "2022-01-18T03:25:40.135Z"
   },
   {
    "duration": 65,
    "start_time": "2022-01-18T03:25:54.804Z"
   },
   {
    "duration": 22,
    "start_time": "2022-01-18T03:25:54.871Z"
   },
   {
    "duration": 237,
    "start_time": "2022-01-18T03:25:54.896Z"
   },
   {
    "duration": 483,
    "start_time": "2022-01-18T03:33:43.477Z"
   },
   {
    "duration": 15,
    "start_time": "2022-01-18T03:33:56.204Z"
   },
   {
    "duration": 13,
    "start_time": "2022-01-18T03:34:10.043Z"
   },
   {
    "duration": 25,
    "start_time": "2022-01-18T03:34:14.150Z"
   },
   {
    "duration": 2,
    "start_time": "2022-01-18T03:34:36.890Z"
   },
   {
    "duration": 22,
    "start_time": "2022-01-18T03:42:57.113Z"
   },
   {
    "duration": 387,
    "start_time": "2022-01-18T03:44:37.117Z"
   },
   {
    "duration": 341,
    "start_time": "2022-01-18T03:57:24.817Z"
   },
   {
    "duration": 181,
    "start_time": "2022-01-18T03:57:34.910Z"
   },
   {
    "duration": 6920,
    "start_time": "2022-01-18T04:04:07.303Z"
   },
   {
    "duration": 6272,
    "start_time": "2022-01-18T04:05:08.798Z"
   },
   {
    "duration": 182,
    "start_time": "2022-01-18T04:08:45.536Z"
   },
   {
    "duration": 62,
    "start_time": "2022-01-18T04:08:59.773Z"
   },
   {
    "duration": 20,
    "start_time": "2022-01-18T04:08:59.836Z"
   },
   {
    "duration": 462,
    "start_time": "2022-01-18T04:09:01.953Z"
   },
   {
    "duration": 15,
    "start_time": "2022-01-18T04:09:10.343Z"
   },
   {
    "duration": 18,
    "start_time": "2022-01-18T04:09:13.072Z"
   },
   {
    "duration": 16,
    "start_time": "2022-01-18T04:11:28.401Z"
   },
   {
    "duration": 17,
    "start_time": "2022-01-18T04:11:29.980Z"
   },
   {
    "duration": 13,
    "start_time": "2022-01-18T04:11:35.750Z"
   },
   {
    "duration": 63,
    "start_time": "2022-01-18T04:11:38.960Z"
   },
   {
    "duration": 21,
    "start_time": "2022-01-18T04:11:39.024Z"
   },
   {
    "duration": 473,
    "start_time": "2022-01-18T04:11:39.047Z"
   },
   {
    "duration": 18,
    "start_time": "2022-01-18T04:11:39.521Z"
   },
   {
    "duration": 13,
    "start_time": "2022-01-18T04:11:40.741Z"
   },
   {
    "duration": 17,
    "start_time": "2022-01-18T04:11:43.436Z"
   },
   {
    "duration": 5,
    "start_time": "2022-01-18T04:12:54.795Z"
   },
   {
    "duration": 9,
    "start_time": "2022-01-18T04:13:46.171Z"
   },
   {
    "duration": 9,
    "start_time": "2022-01-18T04:13:53.513Z"
   },
   {
    "duration": 8,
    "start_time": "2022-01-18T04:14:17.136Z"
   },
   {
    "duration": 8,
    "start_time": "2022-01-18T04:14:44.670Z"
   },
   {
    "duration": 9,
    "start_time": "2022-01-18T04:15:06.728Z"
   },
   {
    "duration": 336,
    "start_time": "2022-01-18T04:15:22.498Z"
   },
   {
    "duration": 9,
    "start_time": "2022-01-18T04:15:33.759Z"
   },
   {
    "duration": 5,
    "start_time": "2022-01-18T04:15:43.158Z"
   },
   {
    "duration": 338,
    "start_time": "2022-01-18T04:37:28.479Z"
   },
   {
    "duration": 338,
    "start_time": "2022-01-18T04:37:41.984Z"
   },
   {
    "duration": 241,
    "start_time": "2022-01-18T04:38:47.179Z"
   },
   {
    "duration": 6,
    "start_time": "2022-01-18T04:41:22.997Z"
   },
   {
    "duration": 6,
    "start_time": "2022-01-18T04:41:39.013Z"
   },
   {
    "duration": 4694,
    "start_time": "2022-01-18T04:42:06.192Z"
   },
   {
    "duration": 8,
    "start_time": "2022-01-18T04:42:41.424Z"
   },
   {
    "duration": 356,
    "start_time": "2022-01-18T04:47:34.160Z"
   },
   {
    "duration": 345,
    "start_time": "2022-01-18T04:49:10.319Z"
   },
   {
    "duration": 21,
    "start_time": "2022-01-18T04:49:19.607Z"
   },
   {
    "duration": 32,
    "start_time": "2022-01-18T04:51:04.140Z"
   },
   {
    "duration": 18,
    "start_time": "2022-01-18T04:51:16.652Z"
   },
   {
    "duration": 21,
    "start_time": "2022-01-18T04:51:26.272Z"
   },
   {
    "duration": 334,
    "start_time": "2022-01-18T05:21:37.767Z"
   },
   {
    "duration": 24,
    "start_time": "2022-01-18T05:22:09.492Z"
   },
   {
    "duration": 28,
    "start_time": "2022-01-18T05:22:40.574Z"
   },
   {
    "duration": 29,
    "start_time": "2022-01-18T05:23:14.285Z"
   },
   {
    "duration": 38,
    "start_time": "2022-01-18T05:23:54.526Z"
   },
   {
    "duration": 31,
    "start_time": "2022-01-18T05:24:12.316Z"
   },
   {
    "duration": 17,
    "start_time": "2022-01-18T05:24:21.085Z"
   },
   {
    "duration": 120,
    "start_time": "2022-01-18T05:30:24.362Z"
   },
   {
    "duration": 130,
    "start_time": "2022-01-18T05:30:43.984Z"
   },
   {
    "duration": 114,
    "start_time": "2022-01-18T05:31:05.667Z"
   },
   {
    "duration": 112,
    "start_time": "2022-01-18T05:31:14.690Z"
   },
   {
    "duration": 74,
    "start_time": "2022-01-18T05:31:19.207Z"
   },
   {
    "duration": 21,
    "start_time": "2022-01-18T05:31:19.283Z"
   },
   {
    "duration": 514,
    "start_time": "2022-01-18T05:31:19.306Z"
   },
   {
    "duration": 43,
    "start_time": "2022-01-18T05:31:19.821Z"
   },
   {
    "duration": 18,
    "start_time": "2022-01-18T05:31:19.866Z"
   },
   {
    "duration": 115,
    "start_time": "2022-01-18T05:31:24.836Z"
   },
   {
    "duration": 12,
    "start_time": "2022-01-18T05:44:15.173Z"
   },
   {
    "duration": 18,
    "start_time": "2022-01-18T05:44:28.353Z"
   },
   {
    "duration": 2794,
    "start_time": "2022-01-18T05:45:12.307Z"
   },
   {
    "duration": 2065,
    "start_time": "2022-01-18T05:46:20.752Z"
   },
   {
    "duration": 228,
    "start_time": "2022-01-18T05:46:34.646Z"
   },
   {
    "duration": 119,
    "start_time": "2022-01-18T05:59:45.920Z"
   },
   {
    "duration": 109,
    "start_time": "2022-01-18T06:00:38.389Z"
   },
   {
    "duration": 334,
    "start_time": "2022-01-18T06:07:48.790Z"
   },
   {
    "duration": 116,
    "start_time": "2022-01-18T06:09:15.151Z"
   },
   {
    "duration": 8477,
    "start_time": "2022-01-18T06:13:54.958Z"
   },
   {
    "duration": 113,
    "start_time": "2022-01-18T06:40:10.007Z"
   },
   {
    "duration": 61,
    "start_time": "2022-01-18T06:42:16.432Z"
   },
   {
    "duration": 21,
    "start_time": "2022-01-18T06:42:16.495Z"
   },
   {
    "duration": 536,
    "start_time": "2022-01-18T06:42:16.518Z"
   },
   {
    "duration": 29,
    "start_time": "2022-01-18T06:42:17.056Z"
   },
   {
    "duration": 16,
    "start_time": "2022-01-18T06:42:17.086Z"
   },
   {
    "duration": 34,
    "start_time": "2022-01-18T06:42:17.104Z"
   },
   {
    "duration": 18,
    "start_time": "2022-01-18T06:42:17.139Z"
   },
   {
    "duration": 2700,
    "start_time": "2022-01-18T06:42:17.160Z"
   },
   {
    "duration": 223,
    "start_time": "2022-01-18T06:42:19.862Z"
   },
   {
    "duration": 11,
    "start_time": "2022-01-18T06:44:52.608Z"
   },
   {
    "duration": 10,
    "start_time": "2022-01-18T06:45:17.505Z"
   },
   {
    "duration": 336,
    "start_time": "2022-01-18T06:55:52.281Z"
   },
   {
    "duration": 335,
    "start_time": "2022-01-18T06:56:22.737Z"
   },
   {
    "duration": 428,
    "start_time": "2022-01-18T06:56:34.363Z"
   },
   {
    "duration": 23,
    "start_time": "2022-01-18T06:58:06.443Z"
   },
   {
    "duration": 20,
    "start_time": "2022-01-18T06:58:34.480Z"
   },
   {
    "duration": 23,
    "start_time": "2022-01-18T06:59:57.463Z"
   },
   {
    "duration": 22,
    "start_time": "2022-01-18T07:48:44.626Z"
   },
   {
    "duration": 451,
    "start_time": "2022-01-18T09:18:36.586Z"
   },
   {
    "duration": 493,
    "start_time": "2022-01-18T09:19:07.603Z"
   },
   {
    "duration": 20,
    "start_time": "2022-01-18T09:20:47.038Z"
   },
   {
    "duration": 413,
    "start_time": "2022-01-18T09:21:06.259Z"
   },
   {
    "duration": 19,
    "start_time": "2022-01-18T09:21:09.866Z"
   },
   {
    "duration": 19,
    "start_time": "2022-01-18T09:21:24.414Z"
   },
   {
    "duration": 22,
    "start_time": "2022-01-18T09:21:34.116Z"
   },
   {
    "duration": 338,
    "start_time": "2022-01-18T09:22:07.201Z"
   },
   {
    "duration": 21,
    "start_time": "2022-01-18T09:22:26.686Z"
   },
   {
    "duration": 22,
    "start_time": "2022-01-18T09:23:17.899Z"
   },
   {
    "duration": 22,
    "start_time": "2022-01-18T09:23:37.467Z"
   },
   {
    "duration": 35,
    "start_time": "2022-01-18T09:24:38.277Z"
   },
   {
    "duration": 23,
    "start_time": "2022-01-18T09:27:14.392Z"
   },
   {
    "duration": 37,
    "start_time": "2022-01-18T09:27:17.838Z"
   },
   {
    "duration": 363,
    "start_time": "2022-01-18T09:27:51.221Z"
   },
   {
    "duration": 33,
    "start_time": "2022-01-18T09:27:53.942Z"
   },
   {
    "duration": 24,
    "start_time": "2022-01-18T10:15:30.901Z"
   },
   {
    "duration": 23,
    "start_time": "2022-01-18T10:23:17.009Z"
   },
   {
    "duration": 21,
    "start_time": "2022-01-18T10:30:12.280Z"
   },
   {
    "duration": 102,
    "start_time": "2022-01-18T10:42:40.914Z"
   },
   {
    "duration": 111,
    "start_time": "2022-01-18T10:43:11.544Z"
   },
   {
    "duration": 333,
    "start_time": "2022-01-18T10:44:02.567Z"
   },
   {
    "duration": 30,
    "start_time": "2022-01-18T10:44:16.562Z"
   },
   {
    "duration": 213,
    "start_time": "2022-01-18T10:45:03.079Z"
   },
   {
    "duration": 315,
    "start_time": "2022-01-18T12:39:21.981Z"
   },
   {
    "duration": 848,
    "start_time": "2022-01-18T12:39:30.492Z"
   },
   {
    "duration": 34,
    "start_time": "2022-01-18T12:39:31.343Z"
   },
   {
    "duration": 1044,
    "start_time": "2022-01-18T12:39:31.380Z"
   },
   {
    "duration": 48,
    "start_time": "2022-01-18T12:39:32.427Z"
   },
   {
    "duration": 28,
    "start_time": "2022-01-18T12:39:32.478Z"
   },
   {
    "duration": 17,
    "start_time": "2022-01-18T12:39:32.532Z"
   },
   {
    "duration": 27,
    "start_time": "2022-01-18T12:39:32.551Z"
   },
   {
    "duration": 3193,
    "start_time": "2022-01-18T12:39:32.582Z"
   },
   {
    "duration": 409,
    "start_time": "2022-01-18T12:39:35.778Z"
   },
   {
    "duration": 45,
    "start_time": "2022-01-18T12:39:36.189Z"
   },
   {
    "duration": 24,
    "start_time": "2022-01-18T12:43:33.201Z"
   },
   {
    "duration": 89,
    "start_time": "2022-01-18T13:00:25.458Z"
   },
   {
    "duration": 25,
    "start_time": "2022-01-18T13:03:23.052Z"
   },
   {
    "duration": 279,
    "start_time": "2022-01-18T13:07:33.547Z"
   },
   {
    "duration": 34,
    "start_time": "2022-01-18T13:07:48.939Z"
   },
   {
    "duration": 27,
    "start_time": "2022-01-18T13:08:13.229Z"
   },
   {
    "duration": 43,
    "start_time": "2022-01-18T13:15:19.117Z"
   },
   {
    "duration": 87,
    "start_time": "2022-01-18T13:31:10.576Z"
   },
   {
    "duration": 32,
    "start_time": "2022-01-18T13:31:16.596Z"
   },
   {
    "duration": 33,
    "start_time": "2022-01-18T13:42:46.776Z"
   },
   {
    "duration": 34,
    "start_time": "2022-01-18T13:43:04.573Z"
   },
   {
    "duration": 37,
    "start_time": "2022-01-18T13:59:55.668Z"
   },
   {
    "duration": 31,
    "start_time": "2022-01-18T14:01:28.779Z"
   },
   {
    "duration": 27,
    "start_time": "2022-01-18T14:09:39.593Z"
   },
   {
    "duration": 81,
    "start_time": "2022-01-18T14:10:23.312Z"
   },
   {
    "duration": 96,
    "start_time": "2022-01-18T14:10:29.396Z"
   },
   {
    "duration": 81,
    "start_time": "2022-01-18T14:10:34.549Z"
   },
   {
    "duration": 90,
    "start_time": "2022-01-18T14:10:43.671Z"
   },
   {
    "duration": 27,
    "start_time": "2022-01-18T14:10:48.456Z"
   },
   {
    "duration": 48,
    "start_time": "2022-01-18T14:12:14.070Z"
   },
   {
    "duration": 270,
    "start_time": "2022-01-18T14:17:09.913Z"
   },
   {
    "duration": 20,
    "start_time": "2022-01-18T14:17:18.010Z"
   },
   {
    "duration": 134,
    "start_time": "2022-01-18T14:17:47.982Z"
   },
   {
    "duration": 42,
    "start_time": "2022-01-18T14:17:48.119Z"
   },
   {
    "duration": 1182,
    "start_time": "2022-01-18T14:17:48.165Z"
   },
   {
    "duration": 45,
    "start_time": "2022-01-18T14:17:49.350Z"
   },
   {
    "duration": 73,
    "start_time": "2022-01-18T14:17:49.398Z"
   },
   {
    "duration": 28,
    "start_time": "2022-01-18T14:17:49.474Z"
   },
   {
    "duration": 63,
    "start_time": "2022-01-18T14:17:49.505Z"
   },
   {
    "duration": 3886,
    "start_time": "2022-01-18T14:17:49.573Z"
   },
   {
    "duration": 421,
    "start_time": "2022-01-18T14:17:53.461Z"
   },
   {
    "duration": 50,
    "start_time": "2022-01-18T14:17:53.884Z"
   },
   {
    "duration": 26,
    "start_time": "2022-01-18T14:17:53.936Z"
   },
   {
    "duration": 16,
    "start_time": "2022-01-18T14:17:58.521Z"
   },
   {
    "duration": 269,
    "start_time": "2022-01-18T14:37:07.526Z"
   },
   {
    "duration": 330,
    "start_time": "2022-01-18T14:39:57.833Z"
   },
   {
    "duration": 125,
    "start_time": "2022-01-18T14:40:05.793Z"
   },
   {
    "duration": 44,
    "start_time": "2022-01-18T14:40:05.920Z"
   },
   {
    "duration": 1037,
    "start_time": "2022-01-18T14:40:05.967Z"
   },
   {
    "duration": 48,
    "start_time": "2022-01-18T14:40:07.006Z"
   },
   {
    "duration": 29,
    "start_time": "2022-01-18T14:40:07.056Z"
   },
   {
    "duration": 50,
    "start_time": "2022-01-18T14:40:07.087Z"
   },
   {
    "duration": 29,
    "start_time": "2022-01-18T14:40:07.140Z"
   },
   {
    "duration": 3598,
    "start_time": "2022-01-18T14:40:07.173Z"
   },
   {
    "duration": 405,
    "start_time": "2022-01-18T14:40:10.773Z"
   },
   {
    "duration": 30,
    "start_time": "2022-01-18T14:40:11.180Z"
   },
   {
    "duration": 40,
    "start_time": "2022-01-18T14:40:11.212Z"
   },
   {
    "duration": 264,
    "start_time": "2022-01-18T14:40:11.255Z"
   },
   {
    "duration": 252,
    "start_time": "2022-01-18T14:46:19.049Z"
   },
   {
    "duration": 264,
    "start_time": "2022-01-18T14:46:31.605Z"
   },
   {
    "duration": 268,
    "start_time": "2022-01-18T14:47:43.980Z"
   },
   {
    "duration": 87,
    "start_time": "2022-01-18T14:48:47.290Z"
   },
   {
    "duration": 86,
    "start_time": "2022-01-18T14:49:06.980Z"
   },
   {
    "duration": 88,
    "start_time": "2022-01-18T14:49:16.163Z"
   },
   {
    "duration": 365,
    "start_time": "2022-01-18T14:49:25.890Z"
   },
   {
    "duration": 395,
    "start_time": "2022-01-18T14:58:21.864Z"
   },
   {
    "duration": 417,
    "start_time": "2022-01-18T14:59:18.168Z"
   },
   {
    "duration": 413,
    "start_time": "2022-01-18T15:00:25.131Z"
   },
   {
    "duration": 416,
    "start_time": "2022-01-18T15:00:35.516Z"
   },
   {
    "duration": 435,
    "start_time": "2022-01-18T15:19:27.066Z"
   },
   {
    "duration": 131,
    "start_time": "2022-01-18T15:28:09.374Z"
   },
   {
    "duration": 39,
    "start_time": "2022-01-18T15:28:09.508Z"
   },
   {
    "duration": 1231,
    "start_time": "2022-01-18T15:28:11.429Z"
   },
   {
    "duration": 451,
    "start_time": "2022-01-18T15:30:28.675Z"
   },
   {
    "duration": 1046,
    "start_time": "2022-01-18T15:31:10.109Z"
   },
   {
    "duration": 51,
    "start_time": "2022-01-18T15:35:12.771Z"
   },
   {
    "duration": 100,
    "start_time": "2022-01-18T15:35:21.712Z"
   },
   {
    "duration": 41,
    "start_time": "2022-01-18T15:35:21.815Z"
   },
   {
    "duration": 1478,
    "start_time": "2022-01-18T15:35:21.859Z"
   },
   {
    "duration": 43,
    "start_time": "2022-01-18T15:35:23.340Z"
   },
   {
    "duration": 73,
    "start_time": "2022-01-18T15:35:23.386Z"
   },
   {
    "duration": 24,
    "start_time": "2022-01-18T15:35:23.462Z"
   },
   {
    "duration": 49,
    "start_time": "2022-01-18T15:35:23.488Z"
   },
   {
    "duration": 3699,
    "start_time": "2022-01-18T15:35:23.542Z"
   },
   {
    "duration": 398,
    "start_time": "2022-01-18T15:35:27.243Z"
   },
   {
    "duration": 31,
    "start_time": "2022-01-18T15:35:27.643Z"
   },
   {
    "duration": 25,
    "start_time": "2022-01-18T15:35:27.677Z"
   },
   {
    "duration": 462,
    "start_time": "2022-01-18T15:35:27.705Z"
   },
   {
    "duration": 44,
    "start_time": "2022-01-18T15:35:31.416Z"
   },
   {
    "duration": 337,
    "start_time": "2022-01-18T16:01:00.132Z"
   },
   {
    "duration": 259,
    "start_time": "2022-01-18T16:01:09.953Z"
   },
   {
    "duration": 263,
    "start_time": "2022-01-18T16:01:30.655Z"
   },
   {
    "duration": 61,
    "start_time": "2022-01-18T16:01:46.989Z"
   },
   {
    "duration": 44,
    "start_time": "2022-01-18T16:02:17.442Z"
   },
   {
    "duration": 70,
    "start_time": "2022-01-18T16:02:28.617Z"
   },
   {
    "duration": 33,
    "start_time": "2022-01-18T16:03:00.165Z"
   },
   {
    "duration": 37,
    "start_time": "2022-01-18T16:03:05.864Z"
   },
   {
    "duration": 34,
    "start_time": "2022-01-18T16:03:11.813Z"
   },
   {
    "duration": 60,
    "start_time": "2022-01-18T16:03:40.384Z"
   },
   {
    "duration": 63,
    "start_time": "2022-01-18T16:03:46.986Z"
   },
   {
    "duration": 101,
    "start_time": "2022-01-18T16:04:45.018Z"
   },
   {
    "duration": 139,
    "start_time": "2022-01-18T16:17:52.621Z"
   },
   {
    "duration": 171,
    "start_time": "2022-01-18T16:24:25.961Z"
   },
   {
    "duration": 28,
    "start_time": "2022-01-18T16:24:26.135Z"
   },
   {
    "duration": 1048,
    "start_time": "2022-01-18T16:24:26.166Z"
   },
   {
    "duration": 62,
    "start_time": "2022-01-18T16:24:27.217Z"
   },
   {
    "duration": 53,
    "start_time": "2022-01-18T16:24:27.281Z"
   },
   {
    "duration": 667,
    "start_time": "2022-01-22T08:29:40.682Z"
   },
   {
    "duration": 20,
    "start_time": "2022-01-22T08:29:41.351Z"
   },
   {
    "duration": 553,
    "start_time": "2022-01-22T08:29:41.373Z"
   },
   {
    "duration": 31,
    "start_time": "2022-01-22T08:29:41.927Z"
   },
   {
    "duration": 19,
    "start_time": "2022-01-22T08:29:41.960Z"
   },
   {
    "duration": 29,
    "start_time": "2022-01-22T08:29:41.980Z"
   },
   {
    "duration": 27,
    "start_time": "2022-01-22T08:29:42.011Z"
   },
   {
    "duration": 2338,
    "start_time": "2022-01-22T08:29:42.040Z"
   },
   {
    "duration": 252,
    "start_time": "2022-01-22T08:29:44.380Z"
   },
   {
    "duration": 20,
    "start_time": "2022-01-22T08:29:44.634Z"
   },
   {
    "duration": 20,
    "start_time": "2022-01-22T08:29:44.655Z"
   },
   {
    "duration": 276,
    "start_time": "2022-01-22T08:29:44.676Z"
   },
   {
    "duration": 73,
    "start_time": "2022-01-22T08:29:44.953Z"
   },
   {
    "duration": 785,
    "start_time": "2022-01-22T09:38:12.019Z"
   },
   {
    "duration": 30,
    "start_time": "2022-01-22T09:38:12.806Z"
   },
   {
    "duration": 908,
    "start_time": "2022-01-22T09:38:12.838Z"
   },
   {
    "duration": 40,
    "start_time": "2022-01-22T09:38:13.749Z"
   },
   {
    "duration": 45,
    "start_time": "2022-01-22T09:38:13.792Z"
   },
   {
    "duration": 19,
    "start_time": "2022-01-22T09:38:17.033Z"
   },
   {
    "duration": 86,
    "start_time": "2022-01-22T09:39:25.936Z"
   },
   {
    "duration": 28,
    "start_time": "2022-01-22T09:39:26.025Z"
   },
   {
    "duration": 932,
    "start_time": "2022-01-22T09:39:26.055Z"
   },
   {
    "duration": 48,
    "start_time": "2022-01-22T09:39:26.989Z"
   },
   {
    "duration": 25,
    "start_time": "2022-01-22T09:39:27.040Z"
   },
   {
    "duration": 17,
    "start_time": "2022-01-22T09:39:27.067Z"
   },
   {
    "duration": 55,
    "start_time": "2022-01-22T09:39:27.086Z"
   },
   {
    "duration": 3211,
    "start_time": "2022-01-22T09:39:27.145Z"
   },
   {
    "duration": 371,
    "start_time": "2022-01-22T09:39:30.359Z"
   },
   {
    "duration": 31,
    "start_time": "2022-01-22T09:39:30.732Z"
   },
   {
    "duration": 24,
    "start_time": "2022-01-22T09:39:30.765Z"
   },
   {
    "duration": 442,
    "start_time": "2022-01-22T09:39:30.792Z"
   },
   {
    "duration": 89,
    "start_time": "2022-01-22T09:39:31.390Z"
   },
   {
    "duration": 44,
    "start_time": "2022-01-22T10:10:02.748Z"
   },
   {
    "duration": 350,
    "start_time": "2022-01-22T10:11:16.046Z"
   },
   {
    "duration": 48,
    "start_time": "2022-01-22T10:12:27.838Z"
   },
   {
    "duration": 133,
    "start_time": "2022-01-22T10:12:34.212Z"
   },
   {
    "duration": 31,
    "start_time": "2022-01-22T10:12:34.348Z"
   },
   {
    "duration": 970,
    "start_time": "2022-01-22T10:12:34.383Z"
   },
   {
    "duration": 45,
    "start_time": "2022-01-22T10:12:35.355Z"
   },
   {
    "duration": 59,
    "start_time": "2022-01-22T10:12:35.402Z"
   },
   {
    "duration": 45,
    "start_time": "2022-01-22T10:12:37.732Z"
   },
   {
    "duration": 363,
    "start_time": "2022-01-22T10:12:43.977Z"
   },
   {
    "duration": 84,
    "start_time": "2022-01-22T10:12:50.408Z"
   },
   {
    "duration": 43,
    "start_time": "2022-01-22T10:12:50.500Z"
   },
   {
    "duration": 966,
    "start_time": "2022-01-22T10:12:50.545Z"
   },
   {
    "duration": 47,
    "start_time": "2022-01-22T10:12:51.513Z"
   },
   {
    "duration": 367,
    "start_time": "2022-01-22T10:12:51.563Z"
   },
   {
    "duration": 30,
    "start_time": "2022-01-22T10:13:08.961Z"
   },
   {
    "duration": 36,
    "start_time": "2022-01-22T10:13:19.796Z"
   },
   {
    "duration": 36,
    "start_time": "2022-01-22T10:13:32.264Z"
   },
   {
    "duration": 339,
    "start_time": "2022-01-22T10:13:46.172Z"
   },
   {
    "duration": 351,
    "start_time": "2022-01-22T10:13:50.211Z"
   },
   {
    "duration": 84,
    "start_time": "2022-01-22T10:13:53.752Z"
   },
   {
    "duration": 27,
    "start_time": "2022-01-22T10:13:53.839Z"
   },
   {
    "duration": 997,
    "start_time": "2022-01-22T10:13:53.869Z"
   },
   {
    "duration": 54,
    "start_time": "2022-01-22T10:13:54.869Z"
   },
   {
    "duration": 379,
    "start_time": "2022-01-22T10:13:54.926Z"
   },
   {
    "duration": 372,
    "start_time": "2022-01-22T10:13:56.199Z"
   },
   {
    "duration": 446,
    "start_time": "2022-01-22T10:14:19.914Z"
   },
   {
    "duration": 28,
    "start_time": "2022-01-22T10:14:41.296Z"
   },
   {
    "duration": 38,
    "start_time": "2022-01-22T10:17:28.622Z"
   },
   {
    "duration": 43,
    "start_time": "2022-01-22T10:17:41.376Z"
   },
   {
    "duration": 40,
    "start_time": "2022-01-22T10:17:55.176Z"
   },
   {
    "duration": 83,
    "start_time": "2022-01-22T10:18:00.194Z"
   },
   {
    "duration": 46,
    "start_time": "2022-01-22T10:18:00.280Z"
   },
   {
    "duration": 947,
    "start_time": "2022-01-22T10:18:00.329Z"
   },
   {
    "duration": 59,
    "start_time": "2022-01-22T10:18:01.278Z"
   },
   {
    "duration": 43,
    "start_time": "2022-01-22T10:18:01.339Z"
   },
   {
    "duration": 6940,
    "start_time": "2022-01-22T10:24:13.814Z"
   },
   {
    "duration": 83,
    "start_time": "2022-01-22T10:24:30.372Z"
   },
   {
    "duration": 28,
    "start_time": "2022-01-22T10:24:30.457Z"
   },
   {
    "duration": 901,
    "start_time": "2022-01-22T10:24:30.489Z"
   },
   {
    "duration": 48,
    "start_time": "2022-01-22T10:24:31.393Z"
   },
   {
    "duration": 38,
    "start_time": "2022-01-22T10:24:31.443Z"
   },
   {
    "duration": 46,
    "start_time": "2022-01-22T10:24:31.483Z"
   },
   {
    "duration": 25,
    "start_time": "2022-01-22T10:24:31.531Z"
   },
   {
    "duration": 357,
    "start_time": "2022-01-22T10:24:31.559Z"
   },
   {
    "duration": -7021,
    "start_time": "2022-01-22T10:24:38.939Z"
   },
   {
    "duration": -7054,
    "start_time": "2022-01-22T10:24:38.974Z"
   },
   {
    "duration": -7077,
    "start_time": "2022-01-22T10:24:38.998Z"
   },
   {
    "duration": -7087,
    "start_time": "2022-01-22T10:24:39.010Z"
   },
   {
    "duration": -7097,
    "start_time": "2022-01-22T10:24:39.022Z"
   },
   {
    "duration": 91,
    "start_time": "2022-01-22T10:25:17.481Z"
   },
   {
    "duration": 26,
    "start_time": "2022-01-22T10:25:17.574Z"
   },
   {
    "duration": 925,
    "start_time": "2022-01-22T10:25:17.603Z"
   },
   {
    "duration": 40,
    "start_time": "2022-01-22T10:25:18.530Z"
   },
   {
    "duration": 68,
    "start_time": "2022-01-22T10:25:18.573Z"
   },
   {
    "duration": 18,
    "start_time": "2022-01-22T10:25:18.644Z"
   },
   {
    "duration": 23,
    "start_time": "2022-01-22T10:25:18.664Z"
   },
   {
    "duration": 292,
    "start_time": "2022-01-22T10:25:18.690Z"
   },
   {
    "duration": -7218,
    "start_time": "2022-01-22T10:25:26.202Z"
   },
   {
    "duration": -7230,
    "start_time": "2022-01-22T10:25:26.216Z"
   },
   {
    "duration": -7238,
    "start_time": "2022-01-22T10:25:26.225Z"
   },
   {
    "duration": -7246,
    "start_time": "2022-01-22T10:25:26.234Z"
   },
   {
    "duration": 98,
    "start_time": "2022-01-22T10:25:22.211Z"
   },
   {
    "duration": 7863,
    "start_time": "2022-01-22T10:25:26.663Z"
   },
   {
    "duration": 372,
    "start_time": "2022-01-22T10:25:57.390Z"
   },
   {
    "duration": 337,
    "start_time": "2022-01-22T10:26:03.268Z"
   },
   {
    "duration": 514,
    "start_time": "2022-01-22T10:26:35.354Z"
   },
   {
    "duration": 26,
    "start_time": "2022-01-22T10:27:08.999Z"
   },
   {
    "duration": 279,
    "start_time": "2022-01-22T10:27:18.245Z"
   },
   {
    "duration": 40,
    "start_time": "2022-01-22T10:28:08.805Z"
   },
   {
    "duration": 15,
    "start_time": "2022-01-22T10:28:16.898Z"
   },
   {
    "duration": 25,
    "start_time": "2022-01-22T10:28:20.137Z"
   },
   {
    "duration": 68,
    "start_time": "2022-01-22T10:29:36.982Z"
   },
   {
    "duration": 44,
    "start_time": "2022-01-22T10:31:43.201Z"
   },
   {
    "duration": 76,
    "start_time": "2022-01-22T10:31:51.369Z"
   },
   {
    "duration": 29,
    "start_time": "2022-01-22T10:31:51.447Z"
   },
   {
    "duration": 943,
    "start_time": "2022-01-22T10:31:51.480Z"
   },
   {
    "duration": 40,
    "start_time": "2022-01-22T10:31:52.425Z"
   },
   {
    "duration": 32,
    "start_time": "2022-01-22T10:31:56.216Z"
   },
   {
    "duration": 45,
    "start_time": "2022-01-22T10:32:25.337Z"
   },
   {
    "duration": 54,
    "start_time": "2022-01-22T10:32:39.356Z"
   },
   {
    "duration": 43,
    "start_time": "2022-01-22T10:33:01.569Z"
   },
   {
    "duration": 80,
    "start_time": "2022-01-22T10:33:09.224Z"
   },
   {
    "duration": 34,
    "start_time": "2022-01-22T10:33:09.306Z"
   },
   {
    "duration": 974,
    "start_time": "2022-01-22T10:33:09.343Z"
   },
   {
    "duration": 60,
    "start_time": "2022-01-22T10:33:10.324Z"
   },
   {
    "duration": 65,
    "start_time": "2022-01-22T10:33:10.386Z"
   },
   {
    "duration": 45,
    "start_time": "2022-01-22T10:33:24.009Z"
   },
   {
    "duration": 45,
    "start_time": "2022-01-22T10:33:36.194Z"
   },
   {
    "duration": 42,
    "start_time": "2022-01-22T10:33:49.257Z"
   },
   {
    "duration": 78,
    "start_time": "2022-01-22T10:33:53.655Z"
   },
   {
    "duration": 26,
    "start_time": "2022-01-22T10:33:53.736Z"
   },
   {
    "duration": 881,
    "start_time": "2022-01-22T10:33:53.765Z"
   },
   {
    "duration": 41,
    "start_time": "2022-01-22T10:33:54.648Z"
   },
   {
    "duration": 41,
    "start_time": "2022-01-22T10:33:56.720Z"
   },
   {
    "duration": 48,
    "start_time": "2022-01-22T10:34:01.760Z"
   },
   {
    "duration": 24,
    "start_time": "2022-01-22T10:34:21.785Z"
   },
   {
    "duration": 27,
    "start_time": "2022-01-22T10:34:26.741Z"
   },
   {
    "duration": 80,
    "start_time": "2022-01-22T10:34:45.893Z"
   },
   {
    "duration": 48,
    "start_time": "2022-01-22T10:34:45.975Z"
   },
   {
    "duration": 904,
    "start_time": "2022-01-22T10:34:46.026Z"
   },
   {
    "duration": 43,
    "start_time": "2022-01-22T10:34:46.933Z"
   },
   {
    "duration": 50,
    "start_time": "2022-01-22T10:34:46.978Z"
   },
   {
    "duration": 16,
    "start_time": "2022-01-22T10:34:47.031Z"
   },
   {
    "duration": 23,
    "start_time": "2022-01-22T10:34:47.049Z"
   },
   {
    "duration": 3355,
    "start_time": "2022-01-22T10:34:47.075Z"
   },
   {
    "duration": 394,
    "start_time": "2022-01-22T10:34:50.433Z"
   },
   {
    "duration": 27,
    "start_time": "2022-01-22T10:34:50.829Z"
   },
   {
    "duration": 24,
    "start_time": "2022-01-22T10:34:50.858Z"
   },
   {
    "duration": 450,
    "start_time": "2022-01-22T10:34:50.884Z"
   },
   {
    "duration": 102,
    "start_time": "2022-01-22T10:34:51.337Z"
   },
   {
    "duration": 17,
    "start_time": "2022-01-22T10:35:08.720Z"
   },
   {
    "duration": 20,
    "start_time": "2022-01-22T10:35:51.328Z"
   },
   {
    "duration": 18,
    "start_time": "2022-01-22T10:36:02.504Z"
   },
   {
    "duration": 26,
    "start_time": "2022-01-22T10:38:24.934Z"
   },
   {
    "duration": 388,
    "start_time": "2022-01-22T10:38:41.201Z"
   },
   {
    "duration": 315,
    "start_time": "2022-01-22T10:38:48.946Z"
   },
   {
    "duration": 25,
    "start_time": "2022-01-22T10:39:10.876Z"
   },
   {
    "duration": 283,
    "start_time": "2022-01-22T10:39:18.564Z"
   },
   {
    "duration": 266,
    "start_time": "2022-01-22T10:39:23.474Z"
   },
   {
    "duration": 24,
    "start_time": "2022-01-22T10:39:38.156Z"
   },
   {
    "duration": 25,
    "start_time": "2022-01-22T10:39:49.543Z"
   },
   {
    "duration": 14,
    "start_time": "2022-01-22T10:39:56.869Z"
   },
   {
    "duration": 14,
    "start_time": "2022-01-22T10:40:04.636Z"
   },
   {
    "duration": 14,
    "start_time": "2022-01-22T10:40:14.172Z"
   },
   {
    "duration": 19,
    "start_time": "2022-01-22T11:22:05.119Z"
   },
   {
    "duration": 19,
    "start_time": "2022-01-22T11:22:27.975Z"
   },
   {
    "duration": 13,
    "start_time": "2022-01-22T11:45:31.521Z"
   },
   {
    "duration": 53,
    "start_time": "2022-01-22T11:49:46.613Z"
   },
   {
    "duration": 70,
    "start_time": "2022-01-22T11:49:57.660Z"
   },
   {
    "duration": 74,
    "start_time": "2022-01-22T11:50:58.058Z"
   },
   {
    "duration": 75,
    "start_time": "2022-01-22T11:51:24.426Z"
   },
   {
    "duration": 31,
    "start_time": "2022-01-22T11:51:38.360Z"
   },
   {
    "duration": 293,
    "start_time": "2022-01-22T11:51:47.740Z"
   },
   {
    "duration": 55,
    "start_time": "2022-01-22T11:52:19.320Z"
   },
   {
    "duration": 151,
    "start_time": "2022-01-22T12:06:06.913Z"
   },
   {
    "duration": 128,
    "start_time": "2022-01-22T12:06:17.971Z"
   },
   {
    "duration": 103,
    "start_time": "2022-01-22T12:07:43.969Z"
   },
   {
    "duration": 92,
    "start_time": "2022-01-22T12:08:08.792Z"
   },
   {
    "duration": 344,
    "start_time": "2022-01-22T12:08:20.437Z"
   },
   {
    "duration": 307,
    "start_time": "2022-01-22T12:09:24.019Z"
   },
   {
    "duration": 330,
    "start_time": "2022-01-22T12:10:00.355Z"
   },
   {
    "duration": 123,
    "start_time": "2022-01-22T12:10:08.708Z"
   },
   {
    "duration": 27,
    "start_time": "2022-01-22T12:10:08.834Z"
   },
   {
    "duration": 912,
    "start_time": "2022-01-22T12:10:08.863Z"
   },
   {
    "duration": 50,
    "start_time": "2022-01-22T12:10:09.777Z"
   },
   {
    "duration": 27,
    "start_time": "2022-01-22T12:10:09.829Z"
   },
   {
    "duration": 19,
    "start_time": "2022-01-22T12:10:09.859Z"
   },
   {
    "duration": 53,
    "start_time": "2022-01-22T12:10:09.880Z"
   },
   {
    "duration": 3391,
    "start_time": "2022-01-22T12:10:09.936Z"
   },
   {
    "duration": 396,
    "start_time": "2022-01-22T12:10:13.330Z"
   },
   {
    "duration": 29,
    "start_time": "2022-01-22T12:10:13.729Z"
   },
   {
    "duration": 25,
    "start_time": "2022-01-22T12:10:13.760Z"
   },
   {
    "duration": 435,
    "start_time": "2022-01-22T12:10:13.788Z"
   },
   {
    "duration": 98,
    "start_time": "2022-01-22T12:10:14.225Z"
   },
   {
    "duration": 450,
    "start_time": "2022-01-22T12:10:19.119Z"
   },
   {
    "duration": 305,
    "start_time": "2022-01-22T12:13:22.484Z"
   },
   {
    "duration": 32,
    "start_time": "2022-01-22T12:13:34.472Z"
   },
   {
    "duration": 281,
    "start_time": "2022-01-22T12:15:23.440Z"
   },
   {
    "duration": 330,
    "start_time": "2022-01-22T12:41:24.933Z"
   },
   {
    "duration": 3950,
    "start_time": "2022-01-22T12:44:44.436Z"
   },
   {
    "duration": 125,
    "start_time": "2022-01-22T12:45:32.041Z"
   },
   {
    "duration": 25,
    "start_time": "2022-01-22T12:45:32.169Z"
   },
   {
    "duration": 934,
    "start_time": "2022-01-22T12:45:32.197Z"
   },
   {
    "duration": 45,
    "start_time": "2022-01-22T12:45:33.134Z"
   },
   {
    "duration": 53,
    "start_time": "2022-01-22T12:45:33.181Z"
   },
   {
    "duration": 21,
    "start_time": "2022-01-22T12:45:33.236Z"
   },
   {
    "duration": 28,
    "start_time": "2022-01-22T12:45:33.259Z"
   },
   {
    "duration": 3287,
    "start_time": "2022-01-22T12:45:33.290Z"
   },
   {
    "duration": 443,
    "start_time": "2022-01-22T12:45:36.581Z"
   },
   {
    "duration": 35,
    "start_time": "2022-01-22T12:45:37.027Z"
   },
   {
    "duration": 27,
    "start_time": "2022-01-22T12:45:37.064Z"
   },
   {
    "duration": 532,
    "start_time": "2022-01-22T12:45:37.093Z"
   },
   {
    "duration": 113,
    "start_time": "2022-01-22T12:45:37.628Z"
   },
   {
    "duration": 3976,
    "start_time": "2022-01-22T12:45:43.058Z"
   },
   {
    "duration": 1583,
    "start_time": "2022-01-22T13:22:19.184Z"
   },
   {
    "duration": 1532,
    "start_time": "2022-01-22T13:24:19.483Z"
   },
   {
    "duration": 1508,
    "start_time": "2022-01-22T13:44:26.282Z"
   },
   {
    "duration": 457,
    "start_time": "2022-01-22T14:38:02.853Z"
   },
   {
    "duration": 129,
    "start_time": "2022-01-22T15:28:59.691Z"
   },
   {
    "duration": 308,
    "start_time": "2022-01-22T15:29:11.879Z"
   },
   {
    "duration": 1513,
    "start_time": "2022-01-22T15:29:32.474Z"
   },
   {
    "duration": 719,
    "start_time": "2022-01-23T09:05:14.958Z"
   },
   {
    "duration": 18,
    "start_time": "2022-01-23T09:05:15.679Z"
   },
   {
    "duration": 474,
    "start_time": "2022-01-23T09:05:15.701Z"
   },
   {
    "duration": 28,
    "start_time": "2022-01-23T09:05:16.176Z"
   },
   {
    "duration": 33,
    "start_time": "2022-01-23T09:05:16.205Z"
   },
   {
    "duration": 13,
    "start_time": "2022-01-23T09:05:16.239Z"
   },
   {
    "duration": 16,
    "start_time": "2022-01-23T09:05:16.253Z"
   },
   {
    "duration": 2602,
    "start_time": "2022-01-23T09:05:16.271Z"
   },
   {
    "duration": 221,
    "start_time": "2022-01-23T09:05:18.875Z"
   },
   {
    "duration": 32,
    "start_time": "2022-01-23T09:05:19.097Z"
   },
   {
    "duration": 16,
    "start_time": "2022-01-23T09:05:19.131Z"
   },
   {
    "duration": 246,
    "start_time": "2022-01-23T09:05:19.149Z"
   },
   {
    "duration": 71,
    "start_time": "2022-01-23T09:05:19.396Z"
   },
   {
    "duration": 873,
    "start_time": "2022-01-23T09:05:19.469Z"
   },
   {
    "duration": 247,
    "start_time": "2022-01-23T09:05:20.343Z"
   },
   {
    "duration": 453,
    "start_time": "2022-04-06T13:29:17.025Z"
   }
  ],
  "kernelspec": {
   "display_name": "Python 3.9.7 ('base')",
   "language": "python",
   "name": "python3"
  },
  "language_info": {
   "codemirror_mode": {
    "name": "ipython",
    "version": 3
   },
   "file_extension": ".py",
   "mimetype": "text/x-python",
   "name": "python",
   "nbconvert_exporter": "python",
   "pygments_lexer": "ipython3",
   "version": "3.9.7"
  },
  "toc": {
   "base_numbering": 1,
   "nav_menu": {},
   "number_sections": true,
   "sideBar": true,
   "skip_h1_title": true,
   "title_cell": "Table of Contents",
   "title_sidebar": "Contents",
   "toc_cell": false,
   "toc_position": {},
   "toc_section_display": true,
   "toc_window_display": false
  },
  "vscode": {
   "interpreter": {
    "hash": "47bb262127e83f4e352f9a4661074feb316fd893d8b83e773ca2637ac59da0c2"
   }
  }
 },
 "nbformat": 4,
 "nbformat_minor": 2
}
