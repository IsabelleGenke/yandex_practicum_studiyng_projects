{
 "cells": [
  {
   "cell_type": "markdown",
   "metadata": {},
   "source": [
    "# Определение стоимости автомобилей"
   ]
  },
  {
   "cell_type": "markdown",
   "metadata": {},
   "source": [
    "Сервис по продаже автомобилей с пробегом «Не бит, не крашен» разрабатывает приложение для привлечения новых клиентов. В нём можно быстро узнать рыночную стоимость своего автомобиля. В нашем распоряжении исторические данные: технические характеристики, комплектации и цены автомобилей. Нужно построить модель для определения стоимости. \n",
    "\n",
    "Заказчику важны:\n",
    "\n",
    "- качество предсказания;\n",
    "- скорость предсказания;\n",
    "- время обучения."
   ]
  },
  {
   "cell_type": "markdown",
   "metadata": {},
   "source": [
    "**Описание данных**\n",
    "\n",
    "Признаки\n",
    "- DateCrawled — дата скачивания анкеты из базы\n",
    "- VehicleType — тип автомобильного кузова\n",
    "- RegistrationYear — год регистрации автомобиля\n",
    "- Gearbox — тип коробки передач\n",
    "- Power — мощность (л. с.)\n",
    "- Model — модель автомобиля\n",
    "- Kilometer — пробег (км)\n",
    "- RegistrationMonth — месяц регистрации автомобиля\n",
    "- FuelType — тип топлива\n",
    "- Brand — марка автомобиля\n",
    "- NotRepaired — была машина в ремонте или нет\n",
    "- DateCreated — дата создания анкеты\n",
    "- NumberOfPictures — количество фотографий автомобиля\n",
    "- PostalCode — почтовый индекс владельца анкеты (пользователя)\n",
    "- LastSeen — дата последней активности пользователя\n",
    "\n",
    "\n",
    "Целевой признак\n",
    "- Price — цена (евро)"
   ]
  },
  {
   "cell_type": "markdown",
   "metadata": {},
   "source": [
    "**План работы:**\n",
    "\n",
    "1. Подготовить данные:\n",
    "- изучить данные;\n",
    "- провести статистический анализ;\n",
    "- провести предобработку данных;\n",
    "2. Обучить разные модели, использовав различные гиперпараметры\n",
    "- разбить данные на выборки;\n",
    "- обучить несколько моделей и расчитать RMSE на обучающей выборке;\n",
    "- выбрать модели с наилучшими показателями.\n",
    "3. Проанализировать скорость работы и качество моделей\n",
    "- обучить выбранные модели и расчитать RMSE на тестовой выборке;\n",
    "- сделать вывод."
   ]
  },
  {
   "cell_type": "markdown",
   "metadata": {},
   "source": [
    "## Подготовка данных"
   ]
  },
  {
   "cell_type": "markdown",
   "metadata": {},
   "source": [
    "### Предобработка данных"
   ]
  },
  {
   "cell_type": "code",
   "execution_count": 1,
   "metadata": {},
   "outputs": [],
   "source": [
    "# импортируем библиотеки\n",
    "\n",
    "import pandas as pd\n",
    "import numpy as np\n",
    "import time\n",
    "\n",
    "import seaborn as sns\n",
    "import matplotlib.pyplot as plt\n",
    "import lightgbm as lgb\n",
    "from sklearn.datasets import load_iris\n",
    "from sklearn.datasets import  make_classification\n",
    "\n",
    "from sklearn.linear_model import SGDRegressor\n",
    "from sklearn.linear_model import LinearRegression\n",
    "from sklearn.linear_model import Lasso\n",
    "from sklearn.linear_model import Ridge\n",
    "from sklearn.tree import DecisionTreeRegressor\n",
    "from sklearn.dummy import DummyRegressor\n",
    "\n",
    "from sklearn.model_selection import GridSearchCV\n",
    "from sklearn.model_selection import KFold\n",
    "from sklearn.pipeline import Pipeline\n",
    "from sklearn.impute import SimpleImputer\n",
    "from sklearn.metrics import make_scorer\n",
    "from sklearn.preprocessing import StandardScaler\n",
    "\n",
    "from sklearn.metrics import mean_squared_error as MSE\n",
    "from sklearn.model_selection import train_test_split\n",
    "\n",
    "from catboost import Pool, cv, CatBoostRegressor\n",
    "\n",
    "import warnings\n",
    "warnings.simplefilter(\"ignore\")\n",
    "import warnings\n",
    "warnings.filterwarnings(\"ignore\")\n",
    "\n",
    "from numpy.random import RandomState\n",
    "STATE = RandomState(12345)\n"
   ]
  },
  {
   "cell_type": "code",
   "execution_count": 2,
   "metadata": {},
   "outputs": [
    {
     "data": {
      "text/html": [
       "<div>\n",
       "<style scoped>\n",
       "    .dataframe tbody tr th:only-of-type {\n",
       "        vertical-align: middle;\n",
       "    }\n",
       "\n",
       "    .dataframe tbody tr th {\n",
       "        vertical-align: top;\n",
       "    }\n",
       "\n",
       "    .dataframe thead th {\n",
       "        text-align: right;\n",
       "    }\n",
       "</style>\n",
       "<table border=\"1\" class=\"dataframe\">\n",
       "  <thead>\n",
       "    <tr style=\"text-align: right;\">\n",
       "      <th></th>\n",
       "      <th>DateCrawled</th>\n",
       "      <th>Price</th>\n",
       "      <th>VehicleType</th>\n",
       "      <th>RegistrationYear</th>\n",
       "      <th>Gearbox</th>\n",
       "      <th>Power</th>\n",
       "      <th>Model</th>\n",
       "      <th>Kilometer</th>\n",
       "      <th>RegistrationMonth</th>\n",
       "      <th>FuelType</th>\n",
       "      <th>Brand</th>\n",
       "      <th>NotRepaired</th>\n",
       "      <th>DateCreated</th>\n",
       "      <th>NumberOfPictures</th>\n",
       "      <th>PostalCode</th>\n",
       "      <th>LastSeen</th>\n",
       "    </tr>\n",
       "  </thead>\n",
       "  <tbody>\n",
       "    <tr>\n",
       "      <th>0</th>\n",
       "      <td>2016-03-24 11:52:17</td>\n",
       "      <td>480</td>\n",
       "      <td>NaN</td>\n",
       "      <td>1993</td>\n",
       "      <td>manual</td>\n",
       "      <td>0</td>\n",
       "      <td>golf</td>\n",
       "      <td>150000</td>\n",
       "      <td>0</td>\n",
       "      <td>petrol</td>\n",
       "      <td>volkswagen</td>\n",
       "      <td>NaN</td>\n",
       "      <td>2016-03-24 00:00:00</td>\n",
       "      <td>0</td>\n",
       "      <td>70435</td>\n",
       "      <td>2016-04-07 03:16:57</td>\n",
       "    </tr>\n",
       "    <tr>\n",
       "      <th>1</th>\n",
       "      <td>2016-03-24 10:58:45</td>\n",
       "      <td>18300</td>\n",
       "      <td>coupe</td>\n",
       "      <td>2011</td>\n",
       "      <td>manual</td>\n",
       "      <td>190</td>\n",
       "      <td>NaN</td>\n",
       "      <td>125000</td>\n",
       "      <td>5</td>\n",
       "      <td>gasoline</td>\n",
       "      <td>audi</td>\n",
       "      <td>yes</td>\n",
       "      <td>2016-03-24 00:00:00</td>\n",
       "      <td>0</td>\n",
       "      <td>66954</td>\n",
       "      <td>2016-04-07 01:46:50</td>\n",
       "    </tr>\n",
       "    <tr>\n",
       "      <th>2</th>\n",
       "      <td>2016-03-14 12:52:21</td>\n",
       "      <td>9800</td>\n",
       "      <td>suv</td>\n",
       "      <td>2004</td>\n",
       "      <td>auto</td>\n",
       "      <td>163</td>\n",
       "      <td>grand</td>\n",
       "      <td>125000</td>\n",
       "      <td>8</td>\n",
       "      <td>gasoline</td>\n",
       "      <td>jeep</td>\n",
       "      <td>NaN</td>\n",
       "      <td>2016-03-14 00:00:00</td>\n",
       "      <td>0</td>\n",
       "      <td>90480</td>\n",
       "      <td>2016-04-05 12:47:46</td>\n",
       "    </tr>\n",
       "    <tr>\n",
       "      <th>3</th>\n",
       "      <td>2016-03-17 16:54:04</td>\n",
       "      <td>1500</td>\n",
       "      <td>small</td>\n",
       "      <td>2001</td>\n",
       "      <td>manual</td>\n",
       "      <td>75</td>\n",
       "      <td>golf</td>\n",
       "      <td>150000</td>\n",
       "      <td>6</td>\n",
       "      <td>petrol</td>\n",
       "      <td>volkswagen</td>\n",
       "      <td>no</td>\n",
       "      <td>2016-03-17 00:00:00</td>\n",
       "      <td>0</td>\n",
       "      <td>91074</td>\n",
       "      <td>2016-03-17 17:40:17</td>\n",
       "    </tr>\n",
       "    <tr>\n",
       "      <th>4</th>\n",
       "      <td>2016-03-31 17:25:20</td>\n",
       "      <td>3600</td>\n",
       "      <td>small</td>\n",
       "      <td>2008</td>\n",
       "      <td>manual</td>\n",
       "      <td>69</td>\n",
       "      <td>fabia</td>\n",
       "      <td>90000</td>\n",
       "      <td>7</td>\n",
       "      <td>gasoline</td>\n",
       "      <td>skoda</td>\n",
       "      <td>no</td>\n",
       "      <td>2016-03-31 00:00:00</td>\n",
       "      <td>0</td>\n",
       "      <td>60437</td>\n",
       "      <td>2016-04-06 10:17:21</td>\n",
       "    </tr>\n",
       "    <tr>\n",
       "      <th>...</th>\n",
       "      <td>...</td>\n",
       "      <td>...</td>\n",
       "      <td>...</td>\n",
       "      <td>...</td>\n",
       "      <td>...</td>\n",
       "      <td>...</td>\n",
       "      <td>...</td>\n",
       "      <td>...</td>\n",
       "      <td>...</td>\n",
       "      <td>...</td>\n",
       "      <td>...</td>\n",
       "      <td>...</td>\n",
       "      <td>...</td>\n",
       "      <td>...</td>\n",
       "      <td>...</td>\n",
       "      <td>...</td>\n",
       "    </tr>\n",
       "    <tr>\n",
       "      <th>354364</th>\n",
       "      <td>2016-03-21 09:50:58</td>\n",
       "      <td>0</td>\n",
       "      <td>NaN</td>\n",
       "      <td>2005</td>\n",
       "      <td>manual</td>\n",
       "      <td>0</td>\n",
       "      <td>colt</td>\n",
       "      <td>150000</td>\n",
       "      <td>7</td>\n",
       "      <td>petrol</td>\n",
       "      <td>mitsubishi</td>\n",
       "      <td>yes</td>\n",
       "      <td>2016-03-21 00:00:00</td>\n",
       "      <td>0</td>\n",
       "      <td>2694</td>\n",
       "      <td>2016-03-21 10:42:49</td>\n",
       "    </tr>\n",
       "    <tr>\n",
       "      <th>354365</th>\n",
       "      <td>2016-03-14 17:48:27</td>\n",
       "      <td>2200</td>\n",
       "      <td>NaN</td>\n",
       "      <td>2005</td>\n",
       "      <td>NaN</td>\n",
       "      <td>0</td>\n",
       "      <td>NaN</td>\n",
       "      <td>20000</td>\n",
       "      <td>1</td>\n",
       "      <td>NaN</td>\n",
       "      <td>sonstige_autos</td>\n",
       "      <td>NaN</td>\n",
       "      <td>2016-03-14 00:00:00</td>\n",
       "      <td>0</td>\n",
       "      <td>39576</td>\n",
       "      <td>2016-04-06 00:46:52</td>\n",
       "    </tr>\n",
       "    <tr>\n",
       "      <th>354366</th>\n",
       "      <td>2016-03-05 19:56:21</td>\n",
       "      <td>1199</td>\n",
       "      <td>convertible</td>\n",
       "      <td>2000</td>\n",
       "      <td>auto</td>\n",
       "      <td>101</td>\n",
       "      <td>fortwo</td>\n",
       "      <td>125000</td>\n",
       "      <td>3</td>\n",
       "      <td>petrol</td>\n",
       "      <td>smart</td>\n",
       "      <td>no</td>\n",
       "      <td>2016-03-05 00:00:00</td>\n",
       "      <td>0</td>\n",
       "      <td>26135</td>\n",
       "      <td>2016-03-11 18:17:12</td>\n",
       "    </tr>\n",
       "    <tr>\n",
       "      <th>354367</th>\n",
       "      <td>2016-03-19 18:57:12</td>\n",
       "      <td>9200</td>\n",
       "      <td>bus</td>\n",
       "      <td>1996</td>\n",
       "      <td>manual</td>\n",
       "      <td>102</td>\n",
       "      <td>transporter</td>\n",
       "      <td>150000</td>\n",
       "      <td>3</td>\n",
       "      <td>gasoline</td>\n",
       "      <td>volkswagen</td>\n",
       "      <td>no</td>\n",
       "      <td>2016-03-19 00:00:00</td>\n",
       "      <td>0</td>\n",
       "      <td>87439</td>\n",
       "      <td>2016-04-07 07:15:26</td>\n",
       "    </tr>\n",
       "    <tr>\n",
       "      <th>354368</th>\n",
       "      <td>2016-03-20 19:41:08</td>\n",
       "      <td>3400</td>\n",
       "      <td>wagon</td>\n",
       "      <td>2002</td>\n",
       "      <td>manual</td>\n",
       "      <td>100</td>\n",
       "      <td>golf</td>\n",
       "      <td>150000</td>\n",
       "      <td>6</td>\n",
       "      <td>gasoline</td>\n",
       "      <td>volkswagen</td>\n",
       "      <td>NaN</td>\n",
       "      <td>2016-03-20 00:00:00</td>\n",
       "      <td>0</td>\n",
       "      <td>40764</td>\n",
       "      <td>2016-03-24 12:45:21</td>\n",
       "    </tr>\n",
       "  </tbody>\n",
       "</table>\n",
       "<p>354369 rows × 16 columns</p>\n",
       "</div>"
      ],
      "text/plain": [
       "                DateCrawled  Price  VehicleType  RegistrationYear Gearbox  \\\n",
       "0       2016-03-24 11:52:17    480          NaN              1993  manual   \n",
       "1       2016-03-24 10:58:45  18300        coupe              2011  manual   \n",
       "2       2016-03-14 12:52:21   9800          suv              2004    auto   \n",
       "3       2016-03-17 16:54:04   1500        small              2001  manual   \n",
       "4       2016-03-31 17:25:20   3600        small              2008  manual   \n",
       "...                     ...    ...          ...               ...     ...   \n",
       "354364  2016-03-21 09:50:58      0          NaN              2005  manual   \n",
       "354365  2016-03-14 17:48:27   2200          NaN              2005     NaN   \n",
       "354366  2016-03-05 19:56:21   1199  convertible              2000    auto   \n",
       "354367  2016-03-19 18:57:12   9200          bus              1996  manual   \n",
       "354368  2016-03-20 19:41:08   3400        wagon              2002  manual   \n",
       "\n",
       "        Power        Model  Kilometer  RegistrationMonth  FuelType  \\\n",
       "0           0         golf     150000                  0    petrol   \n",
       "1         190          NaN     125000                  5  gasoline   \n",
       "2         163        grand     125000                  8  gasoline   \n",
       "3          75         golf     150000                  6    petrol   \n",
       "4          69        fabia      90000                  7  gasoline   \n",
       "...       ...          ...        ...                ...       ...   \n",
       "354364      0         colt     150000                  7    petrol   \n",
       "354365      0          NaN      20000                  1       NaN   \n",
       "354366    101       fortwo     125000                  3    petrol   \n",
       "354367    102  transporter     150000                  3  gasoline   \n",
       "354368    100         golf     150000                  6  gasoline   \n",
       "\n",
       "                 Brand NotRepaired          DateCreated  NumberOfPictures  \\\n",
       "0           volkswagen         NaN  2016-03-24 00:00:00                 0   \n",
       "1                 audi         yes  2016-03-24 00:00:00                 0   \n",
       "2                 jeep         NaN  2016-03-14 00:00:00                 0   \n",
       "3           volkswagen          no  2016-03-17 00:00:00                 0   \n",
       "4                skoda          no  2016-03-31 00:00:00                 0   \n",
       "...                ...         ...                  ...               ...   \n",
       "354364      mitsubishi         yes  2016-03-21 00:00:00                 0   \n",
       "354365  sonstige_autos         NaN  2016-03-14 00:00:00                 0   \n",
       "354366           smart          no  2016-03-05 00:00:00                 0   \n",
       "354367      volkswagen          no  2016-03-19 00:00:00                 0   \n",
       "354368      volkswagen         NaN  2016-03-20 00:00:00                 0   \n",
       "\n",
       "        PostalCode             LastSeen  \n",
       "0            70435  2016-04-07 03:16:57  \n",
       "1            66954  2016-04-07 01:46:50  \n",
       "2            90480  2016-04-05 12:47:46  \n",
       "3            91074  2016-03-17 17:40:17  \n",
       "4            60437  2016-04-06 10:17:21  \n",
       "...            ...                  ...  \n",
       "354364        2694  2016-03-21 10:42:49  \n",
       "354365       39576  2016-04-06 00:46:52  \n",
       "354366       26135  2016-03-11 18:17:12  \n",
       "354367       87439  2016-04-07 07:15:26  \n",
       "354368       40764  2016-03-24 12:45:21  \n",
       "\n",
       "[354369 rows x 16 columns]"
      ]
     },
     "execution_count": 2,
     "metadata": {},
     "output_type": "execute_result"
    }
   ],
   "source": [
    "# загрузим данные \n",
    "\n",
    "try:\n",
    "    data = pd.read_csv('/datasets/autos.csv')\n",
    "except:\n",
    "    data = pd.read_csv('autos.csv')\n",
    "\n",
    "data"
   ]
  },
  {
   "cell_type": "code",
   "execution_count": 3,
   "metadata": {},
   "outputs": [
    {
     "name": "stdout",
     "output_type": "stream",
     "text": [
      "<class 'pandas.core.frame.DataFrame'>\n",
      "RangeIndex: 354369 entries, 0 to 354368\n",
      "Data columns (total 16 columns):\n",
      " #   Column             Non-Null Count   Dtype \n",
      "---  ------             --------------   ----- \n",
      " 0   DateCrawled        354369 non-null  object\n",
      " 1   Price              354369 non-null  int64 \n",
      " 2   VehicleType        316879 non-null  object\n",
      " 3   RegistrationYear   354369 non-null  int64 \n",
      " 4   Gearbox            334536 non-null  object\n",
      " 5   Power              354369 non-null  int64 \n",
      " 6   Model              334664 non-null  object\n",
      " 7   Kilometer          354369 non-null  int64 \n",
      " 8   RegistrationMonth  354369 non-null  int64 \n",
      " 9   FuelType           321474 non-null  object\n",
      " 10  Brand              354369 non-null  object\n",
      " 11  NotRepaired        283215 non-null  object\n",
      " 12  DateCreated        354369 non-null  object\n",
      " 13  NumberOfPictures   354369 non-null  int64 \n",
      " 14  PostalCode         354369 non-null  int64 \n",
      " 15  LastSeen           354369 non-null  object\n",
      "dtypes: int64(7), object(9)\n",
      "memory usage: 43.3+ MB\n"
     ]
    }
   ],
   "source": [
    "# изучим общую информацию \n",
    " \n",
    "data.info()"
   ]
  },
  {
   "cell_type": "code",
   "execution_count": 4,
   "metadata": {},
   "outputs": [
    {
     "data": {
      "text/plain": [
       "DateCrawled              0\n",
       "Price                    0\n",
       "VehicleType          37490\n",
       "RegistrationYear         0\n",
       "Gearbox              19833\n",
       "Power                    0\n",
       "Model                19705\n",
       "Kilometer                0\n",
       "RegistrationMonth        0\n",
       "FuelType             32895\n",
       "Brand                    0\n",
       "NotRepaired          71154\n",
       "DateCreated              0\n",
       "NumberOfPictures         0\n",
       "PostalCode               0\n",
       "LastSeen                 0\n",
       "dtype: int64"
      ]
     },
     "execution_count": 4,
     "metadata": {},
     "output_type": "execute_result"
    }
   ],
   "source": [
    "# проверим пропуски\n",
    "\n",
    "data.isna().sum()"
   ]
  },
  {
   "cell_type": "code",
   "execution_count": 5,
   "metadata": {},
   "outputs": [
    {
     "name": "stdout",
     "output_type": "stream",
     "text": [
      "Дубликатов в таблице: 4\n"
     ]
    }
   ],
   "source": [
    "# проверим на наличие дубликатов\n",
    "\n",
    "print(f'Дубликатов в таблице: {data.duplicated().sum()}')"
   ]
  },
  {
   "cell_type": "code",
   "execution_count": 6,
   "metadata": {},
   "outputs": [
    {
     "data": {
      "text/html": [
       "<div>\n",
       "<style scoped>\n",
       "    .dataframe tbody tr th:only-of-type {\n",
       "        vertical-align: middle;\n",
       "    }\n",
       "\n",
       "    .dataframe tbody tr th {\n",
       "        vertical-align: top;\n",
       "    }\n",
       "\n",
       "    .dataframe thead th {\n",
       "        text-align: right;\n",
       "    }\n",
       "</style>\n",
       "<table border=\"1\" class=\"dataframe\">\n",
       "  <thead>\n",
       "    <tr style=\"text-align: right;\">\n",
       "      <th></th>\n",
       "      <th>Price</th>\n",
       "      <th>RegistrationYear</th>\n",
       "      <th>Power</th>\n",
       "      <th>Kilometer</th>\n",
       "      <th>RegistrationMonth</th>\n",
       "      <th>NumberOfPictures</th>\n",
       "      <th>PostalCode</th>\n",
       "    </tr>\n",
       "  </thead>\n",
       "  <tbody>\n",
       "    <tr>\n",
       "      <th>count</th>\n",
       "      <td>354369.000000</td>\n",
       "      <td>354369.000000</td>\n",
       "      <td>354369.000000</td>\n",
       "      <td>354369.000000</td>\n",
       "      <td>354369.000000</td>\n",
       "      <td>354369.0</td>\n",
       "      <td>354369.000000</td>\n",
       "    </tr>\n",
       "    <tr>\n",
       "      <th>mean</th>\n",
       "      <td>4416.656776</td>\n",
       "      <td>2004.234448</td>\n",
       "      <td>110.094337</td>\n",
       "      <td>128211.172535</td>\n",
       "      <td>5.714645</td>\n",
       "      <td>0.0</td>\n",
       "      <td>50508.689087</td>\n",
       "    </tr>\n",
       "    <tr>\n",
       "      <th>std</th>\n",
       "      <td>4514.158514</td>\n",
       "      <td>90.227958</td>\n",
       "      <td>189.850405</td>\n",
       "      <td>37905.341530</td>\n",
       "      <td>3.726421</td>\n",
       "      <td>0.0</td>\n",
       "      <td>25783.096248</td>\n",
       "    </tr>\n",
       "    <tr>\n",
       "      <th>min</th>\n",
       "      <td>0.000000</td>\n",
       "      <td>1000.000000</td>\n",
       "      <td>0.000000</td>\n",
       "      <td>5000.000000</td>\n",
       "      <td>0.000000</td>\n",
       "      <td>0.0</td>\n",
       "      <td>1067.000000</td>\n",
       "    </tr>\n",
       "    <tr>\n",
       "      <th>25%</th>\n",
       "      <td>1050.000000</td>\n",
       "      <td>1999.000000</td>\n",
       "      <td>69.000000</td>\n",
       "      <td>125000.000000</td>\n",
       "      <td>3.000000</td>\n",
       "      <td>0.0</td>\n",
       "      <td>30165.000000</td>\n",
       "    </tr>\n",
       "    <tr>\n",
       "      <th>50%</th>\n",
       "      <td>2700.000000</td>\n",
       "      <td>2003.000000</td>\n",
       "      <td>105.000000</td>\n",
       "      <td>150000.000000</td>\n",
       "      <td>6.000000</td>\n",
       "      <td>0.0</td>\n",
       "      <td>49413.000000</td>\n",
       "    </tr>\n",
       "    <tr>\n",
       "      <th>75%</th>\n",
       "      <td>6400.000000</td>\n",
       "      <td>2008.000000</td>\n",
       "      <td>143.000000</td>\n",
       "      <td>150000.000000</td>\n",
       "      <td>9.000000</td>\n",
       "      <td>0.0</td>\n",
       "      <td>71083.000000</td>\n",
       "    </tr>\n",
       "    <tr>\n",
       "      <th>max</th>\n",
       "      <td>20000.000000</td>\n",
       "      <td>9999.000000</td>\n",
       "      <td>20000.000000</td>\n",
       "      <td>150000.000000</td>\n",
       "      <td>12.000000</td>\n",
       "      <td>0.0</td>\n",
       "      <td>99998.000000</td>\n",
       "    </tr>\n",
       "  </tbody>\n",
       "</table>\n",
       "</div>"
      ],
      "text/plain": [
       "               Price  RegistrationYear          Power      Kilometer  \\\n",
       "count  354369.000000     354369.000000  354369.000000  354369.000000   \n",
       "mean     4416.656776       2004.234448     110.094337  128211.172535   \n",
       "std      4514.158514         90.227958     189.850405   37905.341530   \n",
       "min         0.000000       1000.000000       0.000000    5000.000000   \n",
       "25%      1050.000000       1999.000000      69.000000  125000.000000   \n",
       "50%      2700.000000       2003.000000     105.000000  150000.000000   \n",
       "75%      6400.000000       2008.000000     143.000000  150000.000000   \n",
       "max     20000.000000       9999.000000   20000.000000  150000.000000   \n",
       "\n",
       "       RegistrationMonth  NumberOfPictures     PostalCode  \n",
       "count      354369.000000          354369.0  354369.000000  \n",
       "mean            5.714645               0.0   50508.689087  \n",
       "std             3.726421               0.0   25783.096248  \n",
       "min             0.000000               0.0    1067.000000  \n",
       "25%             3.000000               0.0   30165.000000  \n",
       "50%             6.000000               0.0   49413.000000  \n",
       "75%             9.000000               0.0   71083.000000  \n",
       "max            12.000000               0.0   99998.000000  "
      ]
     },
     "execution_count": 6,
     "metadata": {},
     "output_type": "execute_result"
    }
   ],
   "source": [
    "# получим статистические данные \n",
    "\n",
    "data.describe()"
   ]
  },
  {
   "cell_type": "code",
   "execution_count": 7,
   "metadata": {},
   "outputs": [
    {
     "name": "stdout",
     "output_type": "stream",
     "text": [
      "Power    40225\n",
      "dtype: int64\n",
      "Price    10772\n",
      "dtype: int64\n"
     ]
    }
   ],
   "source": [
    "# проверим сколько нулевых значений есть в столбцах Power и Price\n",
    "\n",
    "power = data.loc[data['Power'] == 0, ['Power']]\n",
    "print(power.count())\n",
    "\n",
    "price = data.loc[data['Price'] == 0, ['Price']]\n",
    "print(price.count())"
   ]
  },
  {
   "cell_type": "markdown",
   "metadata": {},
   "source": [
    "**Вывод**\n",
    "\n",
    "- таблица состоит из 14 столбцов и более 350 000 строк;\n",
    "- собержит данные об автомобилях (тип кузова, тип топлива, мощьность, дата регистрации, пробег, марка и т.д.);\n",
    "- данные представлены в виде типов object и int;\n",
    "- имеются пропуски (в столбцах - VehicleType, Gearbox, Model, FuelType и NotRepaired);\n",
    "- дубликатов всего четыре;\n",
    "- также в таблице есть нулевые значения.\n",
    "\n",
    "Приведем наименования столбцов в нужный вид.\n",
    "\n",
    "Нулевые значения в нкеоторых столбцах тоже необходимо обработать. Цена и мощность не могут быть равны нулю. Можно заменить на значения похожих автомобилей по году, марке и модели. Отсальные строчки удалим. \n",
    "\n",
    "Необходимо обработать пропуски:\n",
    "1. Для столбца NotRepaired пропущенные значения можно заменить на 'no' - в данном столбце только два значения (yes и no), скорей всего поле было пропущено так как машиyа не была в ремонте;\n",
    "2. Пропуски в столбцах Model, VehicleType, Gearbox и FuelType попробуем удалить, так как все столбцы имеют различные строковые значение.\n",
    "\n",
    "И можно использовать одно значение в случае с типами топлива petrol и gasoline - это одно и то же.\n",
    "\n",
    "Столбцы DateCrawled, RegistrationMonth, DateCreated, LastSeen и PostalCode удаляем, так как они не информативны в нашем случае. Также удаляем столбец NumberOfPictures - все значения равны 0.\n",
    "\n",
    "Дубликаты не будем удалять или править - для такого объема данных, 4 дубликата не исказят результаты.\n",
    "\n"
   ]
  },
  {
   "cell_type": "code",
   "execution_count": 8,
   "metadata": {},
   "outputs": [
    {
     "data": {
      "text/plain": [
       "Index(['date_crawled', 'price', 'vehicle_type', 'registration_year', 'gearbox',\n",
       "       'power', 'model', 'kilometer', 'registration_month', 'fuel_type',\n",
       "       'brand', 'not_repaired', 'date_created', 'number_of_pictures',\n",
       "       'postal_code', 'last_seen'],\n",
       "      dtype='object')"
      ]
     },
     "execution_count": 8,
     "metadata": {},
     "output_type": "execute_result"
    }
   ],
   "source": [
    "# приведем в порядок наименования столбцов \n",
    "\n",
    "data.columns = ['date_crawled', 'price', 'vehicle_type', 'registration_year', 'gearbox',\n",
    "       'power', 'model', 'kilometer', 'registration_month', 'fuel_type', 'brand',\n",
    "       'not_repaired', 'date_created', 'number_of_pictures', 'postal_code',\n",
    "       'last_seen']\n",
    "data.columns"
   ]
  },
  {
   "cell_type": "code",
   "execution_count": 9,
   "metadata": {},
   "outputs": [],
   "source": [
    "# поменяем тип топлива gasoline на petrol\n",
    "\n",
    "data.loc[data['fuel_type'] == 'gasoline', 'fuel_type'] = 'petrol'"
   ]
  },
  {
   "cell_type": "code",
   "execution_count": 10,
   "metadata": {},
   "outputs": [
    {
     "data": {
      "image/png": "[encoded data removed]",
      "text/plain": [
       "<Figure size 1280x480 with 2 Axes>"
      ]
     },
     "metadata": {
      "needs_background": "light"
     },
     "output_type": "display_data"
    },
    {
     "data": {
      "image/png": "[encoded data removed]",
      "text/plain": [
       "<Figure size 1280x480 with 2 Axes>"
      ]
     },
     "metadata": {
      "needs_background": "light"
     },
     "output_type": "display_data"
    },
    {
     "data": {
      "image/png": "[encoded data removed]",
      "text/plain": [
       "<Figure size 1280x480 with 2 Axes>"
      ]
     },
     "metadata": {
      "needs_background": "light"
     },
     "output_type": "display_data"
    }
   ],
   "source": [
    "# проверим выбросы и распределение \n",
    "# для цены\n",
    "price = data['price']\n",
    "\n",
    "fig, (ax1, ax2) = plt.subplots(1, 2,figsize=(16,6), dpi= 80)\n",
    "sns.boxplot(price, ax=ax1)\n",
    "sns.distplot(price, ax=ax2)\n",
    "plt.show()\n",
    "\n",
    "# для мощности\n",
    "power = data['power']\n",
    "\n",
    "fig, (ax1, ax2) = plt.subplots(1, 2,figsize=(16,6), dpi= 80)\n",
    "sns.boxplot(power, ax=ax1)\n",
    "sns.distplot(power, ax=ax2)\n",
    "plt.show()\n",
    "\n",
    "# для года registration_year\n",
    "year = data['registration_year']\n",
    "\n",
    "fig, (ax1, ax2) = plt.subplots(1, 2,figsize=(16,6), dpi= 80)\n",
    "sns.boxplot(year, ax=ax1)\n",
    "sns.distplot(year, ax=ax2)\n",
    "plt.show()"
   ]
  },
  {
   "cell_type": "markdown",
   "metadata": {},
   "source": [
    "- Выбросы имеются в каждом проверенном столбце, особенно в столбце с мощностью (все значения собраны в сотнях). В столбце с ценами выбросы начинаются на отметке 15 000, а с годом - 1980; \n",
    "- По распределениям выделяется столбец с ценами - экспоненциальное распределение (скорей всего из-за зависимости цены от года, большая часть машин свежего года, соответсвенно цена выше), остальные проверенные данные распределены нормально.\n",
    "\n",
    "Итого:\n",
    "\n",
    "Обработаем столбец с мощностью, так как не может быть мощности более 1300 л.с., год регистрации возьмем от 1960, цены от 500 до 15000\n"
   ]
  },
  {
   "cell_type": "code",
   "execution_count": 11,
   "metadata": {},
   "outputs": [],
   "source": [
    "# определим значения в столбцах power и price\n",
    "# для power значения от 40 до 1300 л.с.\n",
    "# для price свыше 500\n",
    "\n",
    "conditions = ((data['power'] >= 40) & (data['power'] <= 1300) & \\\n",
    "              (data['price'] >= 500) & (data['price'] <= 15000) & \\\n",
    "              (data['registration_year'] >= 1960))\n",
    "\n",
    "data = data.loc[conditions]\n",
    "\n",
    "# заполним медианами по марке, году и модели\n",
    "\n",
    "data['power'] = data['power'].fillna(data.groupby(['brand', 'registration_year', \\\n",
    "                                                   'model'])['power'].transform('median'))\n"
   ]
  },
  {
   "cell_type": "code",
   "execution_count": 12,
   "metadata": {},
   "outputs": [
    {
     "data": {
      "text/html": [
       "<div>\n",
       "<style scoped>\n",
       "    .dataframe tbody tr th:only-of-type {\n",
       "        vertical-align: middle;\n",
       "    }\n",
       "\n",
       "    .dataframe tbody tr th {\n",
       "        vertical-align: top;\n",
       "    }\n",
       "\n",
       "    .dataframe thead th {\n",
       "        text-align: right;\n",
       "    }\n",
       "</style>\n",
       "<table border=\"1\" class=\"dataframe\">\n",
       "  <thead>\n",
       "    <tr style=\"text-align: right;\">\n",
       "      <th></th>\n",
       "      <th>date_crawled</th>\n",
       "      <th>price</th>\n",
       "      <th>vehicle_type</th>\n",
       "      <th>registration_year</th>\n",
       "      <th>gearbox</th>\n",
       "      <th>power</th>\n",
       "      <th>model</th>\n",
       "      <th>kilometer</th>\n",
       "      <th>registration_month</th>\n",
       "      <th>fuel_type</th>\n",
       "      <th>brand</th>\n",
       "      <th>not_repaired</th>\n",
       "      <th>date_created</th>\n",
       "      <th>number_of_pictures</th>\n",
       "      <th>postal_code</th>\n",
       "      <th>last_seen</th>\n",
       "    </tr>\n",
       "  </thead>\n",
       "  <tbody>\n",
       "  </tbody>\n",
       "</table>\n",
       "</div>"
      ],
      "text/plain": [
       "Empty DataFrame\n",
       "Columns: [date_crawled, price, vehicle_type, registration_year, gearbox, power, model, kilometer, registration_month, fuel_type, brand, not_repaired, date_created, number_of_pictures, postal_code, last_seen]\n",
       "Index: []"
      ]
     },
     "execution_count": 12,
     "metadata": {},
     "output_type": "execute_result"
    }
   ],
   "source": [
    "#код ревьюера\n",
    "data[data['price']==200]"
   ]
  },
  {
   "cell_type": "code",
   "execution_count": 13,
   "metadata": {},
   "outputs": [],
   "source": [
    "# заменим пропуски в not_repaired на no если пробег меньше 10000\n",
    "\n",
    "data['not_repaired'] = np.where(data['kilometer'] < 10000, data['not_repaired'].fillna('no'), \\\n",
    "                                data['not_repaired'].fillna('yes'))\n"
   ]
  },
  {
   "cell_type": "code",
   "execution_count": 14,
   "metadata": {},
   "outputs": [
    {
     "name": "stdout",
     "output_type": "stream",
     "text": [
      "brand     40\n",
      "model    249\n",
      "dtype: int64\n"
     ]
    }
   ],
   "source": [
    "# проверим сколько марок и моделей у нас стоалось\n",
    "\n",
    "cols = ['brand','model']\n",
    "print(data[cols].nunique())"
   ]
  },
  {
   "cell_type": "code",
   "execution_count": 15,
   "metadata": {},
   "outputs": [
    {
     "name": "stdout",
     "output_type": "stream",
     "text": [
      "<class 'pandas.core.frame.DataFrame'>\n",
      "Int64Index: 237702 entries, 2 to 354368\n",
      "Data columns (total 16 columns):\n",
      " #   Column              Non-Null Count   Dtype \n",
      "---  ------              --------------   ----- \n",
      " 0   date_crawled        237702 non-null  object\n",
      " 1   price               237702 non-null  int64 \n",
      " 2   vehicle_type        237702 non-null  object\n",
      " 3   registration_year   237702 non-null  int64 \n",
      " 4   gearbox             237702 non-null  object\n",
      " 5   power               237702 non-null  int64 \n",
      " 6   model               237702 non-null  object\n",
      " 7   kilometer           237702 non-null  int64 \n",
      " 8   registration_month  237702 non-null  int64 \n",
      " 9   fuel_type           237702 non-null  object\n",
      " 10  brand               237702 non-null  object\n",
      " 11  not_repaired        237702 non-null  object\n",
      " 12  date_created        237702 non-null  object\n",
      " 13  number_of_pictures  237702 non-null  int64 \n",
      " 14  postal_code         237702 non-null  int64 \n",
      " 15  last_seen           237702 non-null  object\n",
      "dtypes: int64(7), object(9)\n",
      "memory usage: 30.8+ MB\n"
     ]
    }
   ],
   "source": [
    "# попробуем удалить все оставшиеся строки с пропущенными значениями и проверим сколько данных мы потеряли\n",
    "\n",
    "data = data.dropna()\n",
    "data.info()"
   ]
  },
  {
   "cell_type": "markdown",
   "metadata": {},
   "source": [
    "- В процессе предобработки мы потеряли 33% данных, одну марку и одну модель автомобиля"
   ]
  },
  {
   "cell_type": "code",
   "execution_count": 16,
   "metadata": {},
   "outputs": [
    {
     "data": {
      "text/html": [
       "<div>\n",
       "<style scoped>\n",
       "    .dataframe tbody tr th:only-of-type {\n",
       "        vertical-align: middle;\n",
       "    }\n",
       "\n",
       "    .dataframe tbody tr th {\n",
       "        vertical-align: top;\n",
       "    }\n",
       "\n",
       "    .dataframe thead th {\n",
       "        text-align: right;\n",
       "    }\n",
       "</style>\n",
       "<table border=\"1\" class=\"dataframe\">\n",
       "  <thead>\n",
       "    <tr style=\"text-align: right;\">\n",
       "      <th></th>\n",
       "      <th>price</th>\n",
       "      <th>vehicle_type</th>\n",
       "      <th>registration_year</th>\n",
       "      <th>gearbox</th>\n",
       "      <th>power</th>\n",
       "      <th>model</th>\n",
       "      <th>kilometer</th>\n",
       "      <th>fuel_type</th>\n",
       "      <th>brand</th>\n",
       "      <th>not_repaired</th>\n",
       "    </tr>\n",
       "  </thead>\n",
       "  <tbody>\n",
       "    <tr>\n",
       "      <th>2</th>\n",
       "      <td>9800</td>\n",
       "      <td>suv</td>\n",
       "      <td>2004</td>\n",
       "      <td>auto</td>\n",
       "      <td>163</td>\n",
       "      <td>grand</td>\n",
       "      <td>125000</td>\n",
       "      <td>petrol</td>\n",
       "      <td>jeep</td>\n",
       "      <td>yes</td>\n",
       "    </tr>\n",
       "    <tr>\n",
       "      <th>3</th>\n",
       "      <td>1500</td>\n",
       "      <td>small</td>\n",
       "      <td>2001</td>\n",
       "      <td>manual</td>\n",
       "      <td>75</td>\n",
       "      <td>golf</td>\n",
       "      <td>150000</td>\n",
       "      <td>petrol</td>\n",
       "      <td>volkswagen</td>\n",
       "      <td>no</td>\n",
       "    </tr>\n",
       "    <tr>\n",
       "      <th>4</th>\n",
       "      <td>3600</td>\n",
       "      <td>small</td>\n",
       "      <td>2008</td>\n",
       "      <td>manual</td>\n",
       "      <td>69</td>\n",
       "      <td>fabia</td>\n",
       "      <td>90000</td>\n",
       "      <td>petrol</td>\n",
       "      <td>skoda</td>\n",
       "      <td>no</td>\n",
       "    </tr>\n",
       "    <tr>\n",
       "      <th>5</th>\n",
       "      <td>650</td>\n",
       "      <td>sedan</td>\n",
       "      <td>1995</td>\n",
       "      <td>manual</td>\n",
       "      <td>102</td>\n",
       "      <td>3er</td>\n",
       "      <td>150000</td>\n",
       "      <td>petrol</td>\n",
       "      <td>bmw</td>\n",
       "      <td>yes</td>\n",
       "    </tr>\n",
       "    <tr>\n",
       "      <th>6</th>\n",
       "      <td>2200</td>\n",
       "      <td>convertible</td>\n",
       "      <td>2004</td>\n",
       "      <td>manual</td>\n",
       "      <td>109</td>\n",
       "      <td>2_reihe</td>\n",
       "      <td>150000</td>\n",
       "      <td>petrol</td>\n",
       "      <td>peugeot</td>\n",
       "      <td>no</td>\n",
       "    </tr>\n",
       "    <tr>\n",
       "      <th>...</th>\n",
       "      <td>...</td>\n",
       "      <td>...</td>\n",
       "      <td>...</td>\n",
       "      <td>...</td>\n",
       "      <td>...</td>\n",
       "      <td>...</td>\n",
       "      <td>...</td>\n",
       "      <td>...</td>\n",
       "      <td>...</td>\n",
       "      <td>...</td>\n",
       "    </tr>\n",
       "    <tr>\n",
       "      <th>354359</th>\n",
       "      <td>7900</td>\n",
       "      <td>sedan</td>\n",
       "      <td>2010</td>\n",
       "      <td>manual</td>\n",
       "      <td>140</td>\n",
       "      <td>golf</td>\n",
       "      <td>150000</td>\n",
       "      <td>petrol</td>\n",
       "      <td>volkswagen</td>\n",
       "      <td>no</td>\n",
       "    </tr>\n",
       "    <tr>\n",
       "      <th>354362</th>\n",
       "      <td>3200</td>\n",
       "      <td>sedan</td>\n",
       "      <td>2004</td>\n",
       "      <td>manual</td>\n",
       "      <td>225</td>\n",
       "      <td>leon</td>\n",
       "      <td>150000</td>\n",
       "      <td>petrol</td>\n",
       "      <td>seat</td>\n",
       "      <td>yes</td>\n",
       "    </tr>\n",
       "    <tr>\n",
       "      <th>354366</th>\n",
       "      <td>1199</td>\n",
       "      <td>convertible</td>\n",
       "      <td>2000</td>\n",
       "      <td>auto</td>\n",
       "      <td>101</td>\n",
       "      <td>fortwo</td>\n",
       "      <td>125000</td>\n",
       "      <td>petrol</td>\n",
       "      <td>smart</td>\n",
       "      <td>no</td>\n",
       "    </tr>\n",
       "    <tr>\n",
       "      <th>354367</th>\n",
       "      <td>9200</td>\n",
       "      <td>bus</td>\n",
       "      <td>1996</td>\n",
       "      <td>manual</td>\n",
       "      <td>102</td>\n",
       "      <td>transporter</td>\n",
       "      <td>150000</td>\n",
       "      <td>petrol</td>\n",
       "      <td>volkswagen</td>\n",
       "      <td>no</td>\n",
       "    </tr>\n",
       "    <tr>\n",
       "      <th>354368</th>\n",
       "      <td>3400</td>\n",
       "      <td>wagon</td>\n",
       "      <td>2002</td>\n",
       "      <td>manual</td>\n",
       "      <td>100</td>\n",
       "      <td>golf</td>\n",
       "      <td>150000</td>\n",
       "      <td>petrol</td>\n",
       "      <td>volkswagen</td>\n",
       "      <td>yes</td>\n",
       "    </tr>\n",
       "  </tbody>\n",
       "</table>\n",
       "<p>237702 rows × 10 columns</p>\n",
       "</div>"
      ],
      "text/plain": [
       "        price vehicle_type  registration_year gearbox  power        model  \\\n",
       "2        9800          suv               2004    auto    163        grand   \n",
       "3        1500        small               2001  manual     75         golf   \n",
       "4        3600        small               2008  manual     69        fabia   \n",
       "5         650        sedan               1995  manual    102          3er   \n",
       "6        2200  convertible               2004  manual    109      2_reihe   \n",
       "...       ...          ...                ...     ...    ...          ...   \n",
       "354359   7900        sedan               2010  manual    140         golf   \n",
       "354362   3200        sedan               2004  manual    225         leon   \n",
       "354366   1199  convertible               2000    auto    101       fortwo   \n",
       "354367   9200          bus               1996  manual    102  transporter   \n",
       "354368   3400        wagon               2002  manual    100         golf   \n",
       "\n",
       "        kilometer fuel_type       brand not_repaired  \n",
       "2          125000    petrol        jeep          yes  \n",
       "3          150000    petrol  volkswagen           no  \n",
       "4           90000    petrol       skoda           no  \n",
       "5          150000    petrol         bmw          yes  \n",
       "6          150000    petrol     peugeot           no  \n",
       "...           ...       ...         ...          ...  \n",
       "354359     150000    petrol  volkswagen           no  \n",
       "354362     150000    petrol        seat          yes  \n",
       "354366     125000    petrol       smart           no  \n",
       "354367     150000    petrol  volkswagen           no  \n",
       "354368     150000    petrol  volkswagen          yes  \n",
       "\n",
       "[237702 rows x 10 columns]"
      ]
     },
     "execution_count": 16,
     "metadata": {},
     "output_type": "execute_result"
    }
   ],
   "source": [
    "# удалим столбцы date_crawled, registration_month, date_created, last_seen, number_of_pictures и postal_code\n",
    "\n",
    "data = data.drop(['date_crawled','registration_month',\\\n",
    "                  'date_created','last_seen','number_of_pictures', 'postal_code'], axis=1)\n",
    "data"
   ]
  },
  {
   "cell_type": "code",
   "execution_count": 17,
   "metadata": {},
   "outputs": [],
   "source": [
    "# можно заменить yes и no на True(1) и False(0)\n",
    "\n",
    "data['not_repaired'] = data['not_repaired'].map({'no':0, 'yes':1})"
   ]
  },
  {
   "cell_type": "markdown",
   "metadata": {},
   "source": [
    "### Анализ данных"
   ]
  },
  {
   "cell_type": "code",
   "execution_count": 18,
   "metadata": {},
   "outputs": [
    {
     "data": {
      "text/html": [
       "<div>\n",
       "<style scoped>\n",
       "    .dataframe tbody tr th:only-of-type {\n",
       "        vertical-align: middle;\n",
       "    }\n",
       "\n",
       "    .dataframe tbody tr th {\n",
       "        vertical-align: top;\n",
       "    }\n",
       "\n",
       "    .dataframe thead th {\n",
       "        text-align: right;\n",
       "    }\n",
       "</style>\n",
       "<table border=\"1\" class=\"dataframe\">\n",
       "  <thead>\n",
       "    <tr style=\"text-align: right;\">\n",
       "      <th></th>\n",
       "      <th>price</th>\n",
       "      <th>registration_year</th>\n",
       "      <th>power</th>\n",
       "      <th>kilometer</th>\n",
       "      <th>not_repaired</th>\n",
       "    </tr>\n",
       "  </thead>\n",
       "  <tbody>\n",
       "    <tr>\n",
       "      <th>price</th>\n",
       "      <td>1.000000</td>\n",
       "      <td>0.558438</td>\n",
       "      <td>0.434455</td>\n",
       "      <td>-0.355031</td>\n",
       "      <td>-0.200877</td>\n",
       "    </tr>\n",
       "    <tr>\n",
       "      <th>registration_year</th>\n",
       "      <td>0.558438</td>\n",
       "      <td>1.000000</td>\n",
       "      <td>0.073420</td>\n",
       "      <td>-0.349122</td>\n",
       "      <td>-0.125002</td>\n",
       "    </tr>\n",
       "    <tr>\n",
       "      <th>power</th>\n",
       "      <td>0.434455</td>\n",
       "      <td>0.073420</td>\n",
       "      <td>1.000000</td>\n",
       "      <td>0.161018</td>\n",
       "      <td>-0.016660</td>\n",
       "    </tr>\n",
       "    <tr>\n",
       "      <th>kilometer</th>\n",
       "      <td>-0.355031</td>\n",
       "      <td>-0.349122</td>\n",
       "      <td>0.161018</td>\n",
       "      <td>1.000000</td>\n",
       "      <td>0.102880</td>\n",
       "    </tr>\n",
       "    <tr>\n",
       "      <th>not_repaired</th>\n",
       "      <td>-0.200877</td>\n",
       "      <td>-0.125002</td>\n",
       "      <td>-0.016660</td>\n",
       "      <td>0.102880</td>\n",
       "      <td>1.000000</td>\n",
       "    </tr>\n",
       "  </tbody>\n",
       "</table>\n",
       "</div>"
      ],
      "text/plain": [
       "                      price  registration_year     power  kilometer  \\\n",
       "price              1.000000           0.558438  0.434455  -0.355031   \n",
       "registration_year  0.558438           1.000000  0.073420  -0.349122   \n",
       "power              0.434455           0.073420  1.000000   0.161018   \n",
       "kilometer         -0.355031          -0.349122  0.161018   1.000000   \n",
       "not_repaired      -0.200877          -0.125002 -0.016660   0.102880   \n",
       "\n",
       "                   not_repaired  \n",
       "price                 -0.200877  \n",
       "registration_year     -0.125002  \n",
       "power                 -0.016660  \n",
       "kilometer              0.102880  \n",
       "not_repaired           1.000000  "
      ]
     },
     "execution_count": 18,
     "metadata": {},
     "output_type": "execute_result"
    }
   ],
   "source": [
    "# посмотрим на корреляцию данных\n",
    "\n",
    "data.corr()"
   ]
  },
  {
   "cell_type": "markdown",
   "metadata": {},
   "source": [
    "- Из всех данных для цены самую высокую положительную корреляцию показывает год выпуска (0.5), а отрицательную - пробег (почти 0.4)"
   ]
  },
  {
   "cell_type": "code",
   "execution_count": 19,
   "metadata": {},
   "outputs": [
    {
     "data": {
      "text/html": [
       "<div>\n",
       "<style scoped>\n",
       "    .dataframe tbody tr th:only-of-type {\n",
       "        vertical-align: middle;\n",
       "    }\n",
       "\n",
       "    .dataframe tbody tr th {\n",
       "        vertical-align: top;\n",
       "    }\n",
       "\n",
       "    .dataframe thead th {\n",
       "        text-align: right;\n",
       "    }\n",
       "</style>\n",
       "<table border=\"1\" class=\"dataframe\">\n",
       "  <thead>\n",
       "    <tr style=\"text-align: right;\">\n",
       "      <th></th>\n",
       "      <th>price</th>\n",
       "      <th>registration_year</th>\n",
       "      <th>power</th>\n",
       "      <th>kilometer</th>\n",
       "      <th>not_repaired</th>\n",
       "    </tr>\n",
       "  </thead>\n",
       "  <tbody>\n",
       "    <tr>\n",
       "      <th>count</th>\n",
       "      <td>237702.000000</td>\n",
       "      <td>237702.00000</td>\n",
       "      <td>237702.000000</td>\n",
       "      <td>237702.000000</td>\n",
       "      <td>237702.000000</td>\n",
       "    </tr>\n",
       "    <tr>\n",
       "      <th>mean</th>\n",
       "      <td>4600.878916</td>\n",
       "      <td>2002.78524</td>\n",
       "      <td>120.867856</td>\n",
       "      <td>129614.517337</td>\n",
       "      <td>0.192329</td>\n",
       "    </tr>\n",
       "    <tr>\n",
       "      <th>std</th>\n",
       "      <td>3724.914695</td>\n",
       "      <td>5.72082</td>\n",
       "      <td>52.551249</td>\n",
       "      <td>35026.944454</td>\n",
       "      <td>0.394131</td>\n",
       "    </tr>\n",
       "    <tr>\n",
       "      <th>min</th>\n",
       "      <td>500.000000</td>\n",
       "      <td>1960.00000</td>\n",
       "      <td>40.000000</td>\n",
       "      <td>5000.000000</td>\n",
       "      <td>0.000000</td>\n",
       "    </tr>\n",
       "    <tr>\n",
       "      <th>25%</th>\n",
       "      <td>1550.000000</td>\n",
       "      <td>1999.00000</td>\n",
       "      <td>80.000000</td>\n",
       "      <td>125000.000000</td>\n",
       "      <td>0.000000</td>\n",
       "    </tr>\n",
       "    <tr>\n",
       "      <th>50%</th>\n",
       "      <td>3400.000000</td>\n",
       "      <td>2003.00000</td>\n",
       "      <td>114.000000</td>\n",
       "      <td>150000.000000</td>\n",
       "      <td>0.000000</td>\n",
       "    </tr>\n",
       "    <tr>\n",
       "      <th>75%</th>\n",
       "      <td>6800.000000</td>\n",
       "      <td>2007.00000</td>\n",
       "      <td>150.000000</td>\n",
       "      <td>150000.000000</td>\n",
       "      <td>0.000000</td>\n",
       "    </tr>\n",
       "    <tr>\n",
       "      <th>max</th>\n",
       "      <td>15000.000000</td>\n",
       "      <td>2018.00000</td>\n",
       "      <td>1300.000000</td>\n",
       "      <td>150000.000000</td>\n",
       "      <td>1.000000</td>\n",
       "    </tr>\n",
       "  </tbody>\n",
       "</table>\n",
       "</div>"
      ],
      "text/plain": [
       "               price  registration_year          power      kilometer  \\\n",
       "count  237702.000000       237702.00000  237702.000000  237702.000000   \n",
       "mean     4600.878916         2002.78524     120.867856  129614.517337   \n",
       "std      3724.914695            5.72082      52.551249   35026.944454   \n",
       "min       500.000000         1960.00000      40.000000    5000.000000   \n",
       "25%      1550.000000         1999.00000      80.000000  125000.000000   \n",
       "50%      3400.000000         2003.00000     114.000000  150000.000000   \n",
       "75%      6800.000000         2007.00000     150.000000  150000.000000   \n",
       "max     15000.000000         2018.00000    1300.000000  150000.000000   \n",
       "\n",
       "        not_repaired  \n",
       "count  237702.000000  \n",
       "mean        0.192329  \n",
       "std         0.394131  \n",
       "min         0.000000  \n",
       "25%         0.000000  \n",
       "50%         0.000000  \n",
       "75%         0.000000  \n",
       "max         1.000000  "
      ]
     },
     "execution_count": 19,
     "metadata": {},
     "output_type": "execute_result"
    }
   ],
   "source": [
    "# посмотрим на статистические данные после обработки\n",
    "\n",
    "data.describe()"
   ]
  },
  {
   "cell_type": "markdown",
   "metadata": {},
   "source": [
    "- нулевые значения ушли\n",
    "- год 1000 и 9999 так же исчезли\n",
    "- остались значения, которые похожи на выбросы"
   ]
  },
  {
   "cell_type": "code",
   "execution_count": 20,
   "metadata": {},
   "outputs": [
    {
     "data": {
      "image/png": "[encoded data removed]",
      "text/plain": [
       "<Figure size 1280x480 with 2 Axes>"
      ]
     },
     "metadata": {
      "needs_background": "light"
     },
     "output_type": "display_data"
    },
    {
     "data": {
      "image/png": "[encoded data removed]",
      "text/plain": [
       "<Figure size 1280x480 with 2 Axes>"
      ]
     },
     "metadata": {
      "needs_background": "light"
     },
     "output_type": "display_data"
    },
    {
     "data": {
      "image/png": "[encoded data removed]",
      "text/plain": [
       "<Figure size 1280x480 with 2 Axes>"
      ]
     },
     "metadata": {
      "needs_background": "light"
     },
     "output_type": "display_data"
    }
   ],
   "source": [
    "# снова проверим выбросы и распределение \n",
    "# для цены\n",
    "price = data['price']\n",
    "\n",
    "fig, (ax1, ax2) = plt.subplots(1, 2,figsize=(16,6), dpi= 80)\n",
    "sns.boxplot(price, ax=ax1)\n",
    "sns.distplot(price, ax=ax2)\n",
    "plt.show()\n",
    "\n",
    "# для мощности\n",
    "power = data['power']\n",
    "\n",
    "fig, (ax1, ax2) = plt.subplots(1, 2,figsize=(16,6), dpi= 80)\n",
    "sns.boxplot(power, ax=ax1)\n",
    "sns.distplot(power, ax=ax2)\n",
    "plt.show()\n",
    "\n",
    "# для года registration_year\n",
    "year = data['registration_year']\n",
    "\n",
    "fig, (ax1, ax2) = plt.subplots(1, 2,figsize=(16,6), dpi= 80)\n",
    "sns.boxplot(year, ax=ax1)\n",
    "sns.distplot(year, ax=ax2)\n",
    "plt.show()\n"
   ]
  },
  {
   "cell_type": "markdown",
   "metadata": {},
   "source": [
    "- Картина с распределениями и выбросами стала лучше."
   ]
  },
  {
   "cell_type": "markdown",
   "metadata": {},
   "source": [
    "## Обучение моделей"
   ]
  },
  {
   "cell_type": "markdown",
   "metadata": {},
   "source": [
    "### Подготовим данные"
   ]
  },
  {
   "cell_type": "code",
   "execution_count": 21,
   "metadata": {},
   "outputs": [],
   "source": [
    "# напишем функцию расчета RMSE\n",
    "\n",
    "def RMSE(predictions, target):\n",
    "    rmse = MSE(predictions, target) ** 0.5\n",
    "    return rmse\n"
   ]
  },
  {
   "cell_type": "code",
   "execution_count": 22,
   "metadata": {},
   "outputs": [
    {
     "name": "stdout",
     "output_type": "stream",
     "text": [
      "Размер обучающей выборки: 166391\n",
      "Размер тестовой выборки: 71311\n"
     ]
    }
   ],
   "source": [
    "# поделим первоначальные данные на признаки\n",
    "\n",
    "features = data.drop(['price'], axis=1)\n",
    "target = data['price']\n",
    "\n",
    "# поделим признаки на выборки\n",
    "\n",
    "features_train, features_test, target_train, target_test = train_test_split(\n",
    "    features, target, test_size=0.3, random_state=STATE)\n",
    "\n",
    "print(f'Размер обучающей выборки: {features_train.shape[0]}')\n",
    "print(f'Размер тестовой выборки: {features_test.shape[0]}')"
   ]
  },
  {
   "cell_type": "code",
   "execution_count": 23,
   "metadata": {},
   "outputs": [
    {
     "name": "stdout",
     "output_type": "stream",
     "text": [
      "Размер обучающей выборки: 166391\n",
      "Размер тестовой выборки: 71311\n"
     ]
    }
   ],
   "source": [
    "# проведем прямое кодирование\n",
    "\n",
    "data_ohe = pd.get_dummies(data, drop_first=True)\n",
    "\n",
    "\n",
    "# поделим кодированные данные на признаки\n",
    "\n",
    "features_ohe = data_ohe.drop(['price'], axis=1)\n",
    "target_ohe = data_ohe['price']\n",
    "\n",
    "# поделим признаки на выборки\n",
    "\n",
    "features_train_ohe, features_test_ohe, target_train_ohe, target_test_ohe = train_test_split(\n",
    "    features_ohe, target_ohe, test_size=0.3, random_state=12345)\n",
    "\n",
    "print(f'Размер обучающей выборки: {features_train_ohe.shape[0]}')\n",
    "print(f'Размер тестовой выборки: {features_test_ohe.shape[0]}')"
   ]
  },
  {
   "cell_type": "markdown",
   "metadata": {},
   "source": [
    "### Подберем параметры и лучший результат с помощью GridSearchCV"
   ]
  },
  {
   "cell_type": "code",
   "execution_count": 24,
   "metadata": {},
   "outputs": [],
   "source": [
    "# подготовим rmse для расчетов в моделях\n",
    "rmse_score = make_scorer(RMSE, greater_is_better=False)\n",
    "\n",
    "# подготовим необходимые параметры для GridSearchCV\n",
    "cross = KFold(n_splits=5, shuffle=False)\n"
   ]
  },
  {
   "cell_type": "code",
   "execution_count": 25,
   "metadata": {},
   "outputs": [
    {
     "name": "stdout",
     "output_type": "stream",
     "text": [
      "Best params: {'imp__strategy': 'mean', 'model': DecisionTreeRegressor(max_depth=14,\n",
      "                      random_state=RandomState(MT19937) at 0x7F014BA0B140), 'model__max_depth': 14}\n",
      "Best rmse score: 1575.3851107622263\n",
      "307.02730798721313 seconds\n"
     ]
    }
   ],
   "source": [
    "# DecisionTreeRegressor\n",
    "\n",
    "pipe_dtr = Pipeline([\n",
    "    ('imp', SimpleImputer(missing_values=np.nan)),\n",
    "    ('model', DecisionTreeRegressor(random_state=STATE))\n",
    "])\n",
    "\n",
    "params_dtr = {\n",
    "        'imp__strategy': ['mean', 'median'],\n",
    "        'model': [DecisionTreeRegressor(random_state=STATE)],\n",
    "        'model__max_depth': range(2, 15, 2)\n",
    "}\n",
    "\n",
    "model_dtr = DecisionTreeRegressor()\n",
    "start = time.time()\n",
    "\n",
    "grid_dtr = GridSearchCV(pipe_dtr, param_grid=params_dtr, cv=cross, scoring=rmse_score)\n",
    "grid_dtr.fit(features_train_ohe, target_train_ohe)\n",
    "time_dtr = time.time() - start\n",
    "\n",
    "print(f'Best params: {grid_dtr.best_params_}')\n",
    "print(f'Best rmse score: {-grid_dtr.best_score_}')\n",
    "print('%s seconds' % time_dtr)"
   ]
  },
  {
   "cell_type": "code",
   "execution_count": 26,
   "metadata": {},
   "outputs": [
    {
     "name": "stdout",
     "output_type": "stream",
     "text": [
      "Best params: {'imp__strategy': 'mean', 'model': LinearRegression()}\n",
      "Best rmse score: 2117.109490215845\n",
      "188.03761053085327 seconds\n"
     ]
    }
   ],
   "source": [
    "# LinearRegression\n",
    "\n",
    "pipe_lr = Pipeline([\n",
    "    ('imp', SimpleImputer(missing_values=np.nan)),\n",
    "    ('model', LinearRegression())\n",
    "])\n",
    "\n",
    "param_lr = {\n",
    "        'imp__strategy': ['mean', 'median'],\n",
    "        'model': [LinearRegression()]\n",
    "    }\n",
    "\n",
    "model_lr = LinearRegression()\n",
    "start = time.time()\n",
    "\n",
    "grid_lr = GridSearchCV(pipe_lr, param_grid=param_lr, cv=cross, scoring=rmse_score, n_jobs=-1)\n",
    "grid_lr = grid_lr.fit(features_train_ohe, target_train_ohe)\n",
    "time_lr = time.time() - start\n",
    "\n",
    "print(f'Best params: {grid_lr.best_params_}')\n",
    "print(f'Best rmse score: {-grid_lr.best_score_}')\n",
    "print('%s seconds' % time_lr)\n"
   ]
  },
  {
   "cell_type": "code",
   "execution_count": 27,
   "metadata": {
    "scrolled": false
   },
   "outputs": [
    {
     "name": "stdout",
     "output_type": "stream",
     "text": [
      "Best params: {'alpha': 1.2589254117941673, 'max_iter': 400}\n",
      "Best rmse score: 2116.96632723481\n",
      "50.50743126869202 seconds\n"
     ]
    }
   ],
   "source": [
    "# Ridge\n",
    "\n",
    "param_ridge = {\n",
    "        'alpha': np.logspace(0.1, 1, 5),\n",
    "        'max_iter': [400]\n",
    "    }\n",
    "\n",
    "model_ridge = Ridge(random_state=STATE)\n",
    "start = time.time()\n",
    "\n",
    "grid_ridge = GridSearchCV(model_ridge, param_grid=param_ridge, cv=cross, scoring=rmse_score)\n",
    "grid_ridge = grid_ridge.fit(features_train_ohe, target_train_ohe)\n",
    "time_ridge = time.time() - start\n",
    "\n",
    "print(f'Best params: {grid_ridge.best_params_}')\n",
    "print(f'Best rmse score: {-grid_ridge.best_score_}')\n",
    "print('%s seconds' % time_ridge)\n"
   ]
  },
  {
   "cell_type": "code",
   "execution_count": 42,
   "metadata": {},
   "outputs": [
    {
     "name": "stdout",
     "output_type": "stream",
     "text": [
      "Best params: {'model': SGDRegressor(alpha=1.2589254117941673, max_iter=600,\n",
      "             random_state=RandomState(MT19937) at 0x7F014BA0B140), 'model__alpha': 1.2589254117941673, 'model__max_iter': 600, 'model__verbose': 0}\n",
      "Best rmse score: 2584.337750078002\n",
      "178.07590007781982 seconds\n"
     ]
    }
   ],
   "source": [
    "# SGDRegressor\n",
    "\n",
    "pipe_sgd = Pipeline([\n",
    "    ('imp', SimpleImputer(missing_values=np.nan)),\n",
    "    ('scaler', StandardScaler()),\n",
    "    ('model', SGDRegressor(random_state=STATE))\n",
    "])\n",
    "\n",
    "param_sgd = { \n",
    "        'model': [SGDRegressor(random_state=STATE)],\n",
    "        'model__max_iter': [600],\n",
    "        'model__verbose': [0],\n",
    "        'model__alpha': np.logspace(0.1, 1, 5)\n",
    "    }\n",
    "\n",
    "model_sgd = SGDRegressor(random_state=STATE)\n",
    "start = time.time()\n",
    "\n",
    "grid_sgd = GridSearchCV(pipe_sgd, param_grid=param_sgd, cv=cross, scoring=rmse_score)\n",
    "grid_sgd = grid_sgd.fit(features_train_ohe, target_train_ohe)\n",
    "time_sgd = time.time() - start\n",
    "\n",
    "print(f'Best params: {grid_sgd.best_params_}')\n",
    "print(f'Best rmse score: {-grid_sgd.best_score_}')\n",
    "print('%s seconds' % time_sgd)\n"
   ]
  },
  {
   "cell_type": "code",
   "execution_count": 46,
   "metadata": {
    "scrolled": false
   },
   "outputs": [
    {
     "name": "stdout",
     "output_type": "stream",
     "text": [
      "Learning rate set to 0.113661\n",
      "0:\tlearn: 3466.5668948\ttest: 3475.5047127\tbest: 3475.5047127 (0)\ttotal: 175ms\tremaining: 2m 54s\n",
      "200:\tlearn: 1472.9257803\ttest: 1472.4846825\tbest: 1472.4846825 (200)\ttotal: 29.1s\tremaining: 1m 55s\n",
      "400:\tlearn: 1419.1670663\ttest: 1434.2929865\tbest: 1434.2929865 (400)\ttotal: 59.5s\tremaining: 1m 28s\n",
      "600:\tlearn: 1385.8943638\ttest: 1415.5048325\tbest: 1415.5048325 (600)\ttotal: 1m 30s\tremaining: 1m\n",
      "800:\tlearn: 1364.5963275\ttest: 1404.7507418\tbest: 1404.7507418 (800)\ttotal: 2m 3s\tremaining: 30.7s\n",
      "999:\tlearn: 1346.4894771\ttest: 1396.2663387\tbest: 1396.2663387 (999)\ttotal: 2m 34s\tremaining: 0us\n",
      "\n",
      "bestTest = 1396.266339\n",
      "bestIteration = 999\n",
      "\n",
      "157.21636199951172 seconds\n"
     ]
    }
   ],
   "source": [
    "# проверим работу CatBoostRegressor\n",
    "\n",
    "cat_model = CatBoostRegressor()\n",
    "start = time.time()\n",
    "\n",
    "cat_model.fit(features_train, target_train, eval_set=(features_test, target_test), \\\n",
    "        cat_features=['vehicle_type', 'registration_year', 'gearbox', 'power', \\\n",
    "                      'model', 'kilometer', 'fuel_type', 'brand', 'not_repaired'], verbose=200)\n",
    "\n",
    "time_cat = time.time() - start\n",
    "\n",
    "print('%s seconds' % time_cat)\n"
   ]
  },
  {
   "cell_type": "code",
   "execution_count": 44,
   "metadata": {},
   "outputs": [
    {
     "name": "stdout",
     "output_type": "stream",
     "text": [
      "nan_mode, Min\n",
      "eval_metric, RMSE\n",
      "combinations_ctr, ['Borders:CtrBorderCount=15:CtrBorderType=Uniform:TargetBorderCount=1:TargetBorderType=MinEntropy:Prior=0/1:Prior=0.5/1:Prior=1/1', 'Counter:CtrBorderCount=15:CtrBorderType=Uniform:Prior=0/1']\n",
      "iterations, 1000\n",
      "sampling_frequency, PerTree\n",
      "fold_permutation_block, 0\n",
      "leaf_estimation_method, Newton\n",
      "counter_calc_method, SkipTest\n",
      "grow_policy, SymmetricTree\n",
      "penalties_coefficient, 1\n",
      "boosting_type, Plain\n",
      "model_shrink_mode, Constant\n",
      "feature_border_type, GreedyLogSum\n",
      "ctr_leaf_count_limit, 18446744073709551615\n",
      "bayesian_matrix_reg, 0.10000000149011612\n",
      "one_hot_max_size, 2\n",
      "force_unit_auto_pair_weights, False\n",
      "l2_leaf_reg, 3\n",
      "random_strength, 1\n",
      "rsm, 1\n",
      "boost_from_average, True\n",
      "max_ctr_complexity, 4\n",
      "model_size_reg, 0.5\n",
      "simple_ctr, ['Borders:CtrBorderCount=15:CtrBorderType=Uniform:TargetBorderCount=1:TargetBorderType=MinEntropy:Prior=0/1:Prior=0.5/1:Prior=1/1', 'Counter:CtrBorderCount=15:CtrBorderType=Uniform:Prior=0/1']\n",
      "pool_metainfo_options, {'tags': {}}\n",
      "subsample, 0.800000011920929\n",
      "use_best_model, True\n",
      "random_seed, 0\n",
      "depth, 6\n",
      "ctr_target_border_count, 1\n",
      "posterior_sampling, False\n",
      "has_time, False\n",
      "store_all_simple_ctr, False\n",
      "border_count, 254\n",
      "classes_count, 0\n",
      "auto_class_weights, None\n",
      "sparse_features_conflict_fraction, 0\n",
      "leaf_estimation_backtracking, AnyImprovement\n",
      "best_model_min_trees, 1\n",
      "model_shrink_rate, 0\n",
      "min_data_in_leaf, 1\n",
      "loss_function, RMSE\n",
      "learning_rate, 0.1136609986424446\n",
      "score_function, Cosine\n",
      "task_type, CPU\n",
      "leaf_estimation_iterations, 1\n",
      "bootstrap_type, MVS\n",
      "max_leaves, 64\n",
      "permutation_count, 4\n"
     ]
    }
   ],
   "source": [
    "# посмотрим какие параметры использовала CatBoostRegressor\n",
    "\n",
    "for key,value in cat_model.get_all_params().items():\n",
    " print('{}, {}'.format(key,value))"
   ]
  },
  {
   "cell_type": "code",
   "execution_count": 53,
   "metadata": {},
   "outputs": [
    {
     "name": "stdout",
     "output_type": "stream",
     "text": [
      "[LightGBM] [Warning] Auto-choosing row-wise multi-threading, the overhead of testing was 0.482743 seconds.\n",
      "You can set `force_row_wise=true` to remove the overhead.\n",
      "And if memory is not enough, you can set `force_col_wise=true`.\n",
      "[LightGBM] [Info] Total Bins 627\n",
      "[LightGBM] [Info] Number of data points in the train set: 166391, number of used features: 9\n",
      "[LightGBM] [Info] Start training from score 4600.298141\n",
      "[1]\tvalid_0's l2: 1.20088e+07\tvalid_0's rmse: 3465.38\n",
      "Training until validation scores don't improve for 5 rounds\n",
      "[2]\tvalid_0's l2: 1.10159e+07\tvalid_0's rmse: 3319.02\n",
      "[3]\tvalid_0's l2: 1.00888e+07\tvalid_0's rmse: 3176.29\n",
      "[4]\tvalid_0's l2: 8.8125e+06\tvalid_0's rmse: 2968.59\n",
      "[5]\tvalid_0's l2: 7.78497e+06\tvalid_0's rmse: 2790.16\n",
      "[6]\tvalid_0's l2: 7.00916e+06\tvalid_0's rmse: 2647.48\n",
      "[7]\tvalid_0's l2: 6.29055e+06\tvalid_0's rmse: 2508.1\n",
      "[8]\tvalid_0's l2: 5.8259e+06\tvalid_0's rmse: 2413.69\n",
      "[9]\tvalid_0's l2: 5.29841e+06\tvalid_0's rmse: 2301.83\n",
      "[10]\tvalid_0's l2: 4.85177e+06\tvalid_0's rmse: 2202.67\n",
      "[11]\tvalid_0's l2: 4.45776e+06\tvalid_0's rmse: 2111.34\n",
      "[12]\tvalid_0's l2: 4.21113e+06\tvalid_0's rmse: 2052.1\n",
      "[13]\tvalid_0's l2: 4.02177e+06\tvalid_0's rmse: 2005.43\n",
      "[14]\tvalid_0's l2: 3.86985e+06\tvalid_0's rmse: 1967.19\n",
      "[15]\tvalid_0's l2: 3.74205e+06\tvalid_0's rmse: 1934.44\n",
      "[16]\tvalid_0's l2: 3.51052e+06\tvalid_0's rmse: 1873.64\n",
      "[17]\tvalid_0's l2: 3.34244e+06\tvalid_0's rmse: 1828.23\n",
      "[18]\tvalid_0's l2: 3.18208e+06\tvalid_0's rmse: 1783.84\n",
      "[19]\tvalid_0's l2: 3.07955e+06\tvalid_0's rmse: 1754.86\n",
      "[20]\tvalid_0's l2: 3.0216e+06\tvalid_0's rmse: 1738.27\n",
      "Did not meet early stopping. Best iteration is:\n",
      "[20]\tvalid_0's l2: 3.0216e+06\tvalid_0's rmse: 1738.27\n",
      "The rmse of prediction is: 1738.274079786964\n",
      "529.5371448993683 seconds\n"
     ]
    }
   ],
   "source": [
    "# проверим работу LightGBM\n",
    "\n",
    "features_cols = ['vehicle_type', 'registration_year', 'gearbox', 'power', 'model',\n",
    "       'kilometer', 'fuel_type', 'brand', 'not_repaired']\n",
    "\n",
    "features_train = features_train.astype('category')\n",
    "features_test = features_test.astype('category')\n",
    "\n",
    "lgb_train = lgb.Dataset(features_train, target_train)\n",
    "lgb_eval = lgb.Dataset(features_test, target_test, reference=lgb_train)\n",
    "\n",
    "estimator = lgb.LGBMRegressor()\n",
    "\n",
    "params = {\n",
    "    'task': 'train',\n",
    "    'boosting_type': 'gbdt',  \n",
    "    'objective': 'regression', \n",
    "    'metric': {'l2', 'RMSE'}, \n",
    "    'num_leaves': 31, \n",
    "    'learning_rate': 0.1,\n",
    "    'feature_fraction': 0.6, \n",
    "    'bagging_fraction': 0.6, \n",
    "    'bagging_freq': 5, \n",
    "    'verbose': 1\n",
    "}\n",
    "\n",
    "time_lgb = time.time() - start\n",
    "\n",
    "gbm = lgb.train(params, lgb_train, num_boost_round=20, valid_sets=lgb_eval, \\\n",
    "                categorical_feature=features_cols, early_stopping_rounds=5)\n",
    "y_pred = gbm.predict(features_test, num_iteration=gbm.best_iteration)\n",
    "rmse_res = RMSE(target_test, y_pred)\n",
    "\n",
    "time_cat = time.time() - start\n",
    "\n",
    "print('The rmse of prediction is:', rmse_res)\n",
    "print('%s seconds' % time_lgb)\n"
   ]
  },
  {
   "cell_type": "code",
   "execution_count": 49,
   "metadata": {},
   "outputs": [
    {
     "name": "stdout",
     "output_type": "stream",
     "text": [
      "boosting_type, gbdt\n",
      "class_weight, None\n",
      "colsample_bytree, 1.0\n",
      "importance_type, split\n",
      "learning_rate, 0.1\n",
      "max_depth, -1\n",
      "min_child_samples, 20\n",
      "min_child_weight, 0.001\n",
      "min_split_gain, 0.0\n",
      "n_estimators, 100\n",
      "n_jobs, -1\n",
      "num_leaves, 31\n",
      "objective, None\n",
      "random_state, None\n",
      "reg_alpha, 0.0\n",
      "reg_lambda, 0.0\n",
      "silent, warn\n",
      "subsample, 1.0\n",
      "subsample_for_bin, 200000\n",
      "subsample_freq, 0\n"
     ]
    }
   ],
   "source": [
    "# посмотрим какие параметры использовала LGBMRegressor\n",
    "\n",
    "for key,value in estimator.get_params().items():\n",
    " print('{}, {}'.format(key,value))"
   ]
  },
  {
   "cell_type": "markdown",
   "metadata": {},
   "source": [
    "**Выведем таблицу с полученными значениями**"
   ]
  },
  {
   "cell_type": "code",
   "execution_count": 54,
   "metadata": {
    "scrolled": true
   },
   "outputs": [
    {
     "data": {
      "text/html": [
       "<div>\n",
       "<style scoped>\n",
       "    .dataframe tbody tr th:only-of-type {\n",
       "        vertical-align: middle;\n",
       "    }\n",
       "\n",
       "    .dataframe tbody tr th {\n",
       "        vertical-align: top;\n",
       "    }\n",
       "\n",
       "    .dataframe thead th {\n",
       "        text-align: right;\n",
       "    }\n",
       "</style>\n",
       "<table border=\"1\" class=\"dataframe\">\n",
       "  <thead>\n",
       "    <tr style=\"text-align: right;\">\n",
       "      <th></th>\n",
       "      <th>DecisionTreeRegressor</th>\n",
       "      <th>LinearRegression</th>\n",
       "      <th>Ridge</th>\n",
       "      <th>SGD</th>\n",
       "      <th>CatBoostRegressor</th>\n",
       "      <th>LGBMRegressor</th>\n",
       "    </tr>\n",
       "  </thead>\n",
       "  <tbody>\n",
       "    <tr>\n",
       "      <th>RMSE</th>\n",
       "      <td>1575.385111</td>\n",
       "      <td>2117.109490</td>\n",
       "      <td>2116.966327</td>\n",
       "      <td>2584.33775</td>\n",
       "      <td>1396.266339</td>\n",
       "      <td>1738.274080</td>\n",
       "    </tr>\n",
       "    <tr>\n",
       "      <th>time</th>\n",
       "      <td>307.027308</td>\n",
       "      <td>188.037611</td>\n",
       "      <td>50.507431</td>\n",
       "      <td>178.07590</td>\n",
       "      <td>610.942218</td>\n",
       "      <td>529.537145</td>\n",
       "    </tr>\n",
       "  </tbody>\n",
       "</table>\n",
       "</div>"
      ],
      "text/plain": [
       "      DecisionTreeRegressor  LinearRegression        Ridge         SGD  \\\n",
       "RMSE            1575.385111       2117.109490  2116.966327  2584.33775   \n",
       "time             307.027308        188.037611    50.507431   178.07590   \n",
       "\n",
       "      CatBoostRegressor  LGBMRegressor  \n",
       "RMSE        1396.266339    1738.274080  \n",
       "time         610.942218     529.537145  "
      ]
     },
     "execution_count": 54,
     "metadata": {},
     "output_type": "execute_result"
    }
   ],
   "source": [
    "first_results = {'DecisionTreeRegressor': [-grid_dtr.best_score_, time_dtr], \n",
    "                 'LinearRegression': [-grid_lr.best_score_, time_lr], \n",
    "                 'Ridge': [-grid_ridge.best_score_, time_ridge], \n",
    "                 'SGD': [-grid_sgd.best_score_, time_sgd], \n",
    "                 'CatBoostRegressor': [1396.266339, time_cat], \n",
    "                 'LGBMRegressor': [rmse_res, time_lgb]}\n",
    "\n",
    "total_frame = pd.DataFrame(first_results, index=['RMSE', 'time'])\n",
    "total_frame"
   ]
  },
  {
   "cell_type": "markdown",
   "metadata": {},
   "source": [
    "- Наилучший показатель RMSE показала модель CatBoostRegressor\n",
    "- Наилучшее время у модели Ridge\n",
    "\n",
    "Исходя из полученных данных, анализ моделей будем проводить на DecisionTreeRegressor, CatBoostRegressor и LGBMRegressor."
   ]
  },
  {
   "cell_type": "markdown",
   "metadata": {},
   "source": [
    "## Анализ моделей"
   ]
  },
  {
   "cell_type": "markdown",
   "metadata": {},
   "source": [
    "### Проверим наши модели на тестовой выборке"
   ]
  },
  {
   "cell_type": "code",
   "execution_count": 62,
   "metadata": {},
   "outputs": [
    {
     "name": "stdout",
     "output_type": "stream",
     "text": [
      "3.628206253051758 seconds\n",
      "\n",
      " RMSE: 1574.929385813174\n"
     ]
    }
   ],
   "source": [
    "# проверим работу DecisionTreeRegressor\n",
    "\n",
    "model_dtr = DecisionTreeRegressor(random_state=STATE, max_depth=14)\n",
    "start_time = time.time()\n",
    "\n",
    "model_dtr.fit(features_train_ohe, target_train_ohe)\n",
    "predictions_dtr = model_dtr.predict(features_test_ohe)\n",
    "result_dtr = RMSE(predictions_dtr, target_test_ohe)\n",
    "\n",
    "time_dtr_1 = (time.time() - start_time)\n",
    "\n",
    "print('%s seconds' % time_dtr_1)\n",
    "print()\n",
    "print(f' RMSE: {result_dtr}')"
   ]
  },
  {
   "cell_type": "code",
   "execution_count": 64,
   "metadata": {},
   "outputs": [
    {
     "name": "stderr",
     "output_type": "stream",
     "text": [
      "Custom logger is already specified. Specify more than one logger at same time is not thread safe."
     ]
    },
    {
     "data": {
      "application/vnd.jupyter.widget-view+json": {
       "model_id": "6bc8ba9ff9b34e1c9bed8bf97b9498ed",
       "version_major": 2,
       "version_minor": 0
      },
      "text/plain": [
       "MetricVisualizer(layout=Layout(align_self='stretch', height='500px'))"
      ]
     },
     "metadata": {},
     "output_type": "display_data"
    },
    {
     "name": "stdout",
     "output_type": "stream",
     "text": [
      "187.44466638565063 seconds\n"
     ]
    }
   ],
   "source": [
    "# проверим работу CatBoostRegressor на тестовой выборке с параметрами полученными выше\n",
    "\n",
    "cat = CatBoostRegressor(loss_function='RMSE', \n",
    "                        iterations=1000, \n",
    "                        learning_rate=0.11, \n",
    "                        thread_count=-1,  \n",
    "                        max_depth=6, \n",
    "                        l2_leaf_reg=3, \n",
    "                        max_leaves=64)\n",
    "\n",
    "start = time.time()\n",
    "cat.fit(features_train, target_train, eval_set=(features_test, target_test), \\\n",
    "        cat_features=['vehicle_type', 'registration_year', 'gearbox', 'power', \\\n",
    "                      'model', 'kilometer', 'fuel_type', 'brand', 'not_repaired'], verbose=False, plot=True);\n",
    "\n",
    "time_cat_1 = time.time() - start_time\n",
    "\n",
    "print('%s seconds' % time_cat_1)\n"
   ]
  },
  {
   "cell_type": "code",
   "execution_count": 65,
   "metadata": {
    "scrolled": false
   },
   "outputs": [
    {
     "name": "stdout",
     "output_type": "stream",
     "text": [
      "[LightGBM] [Warning] Auto-choosing row-wise multi-threading, the overhead of testing was 0.004134 seconds.\n",
      "You can set `force_row_wise=true` to remove the overhead.\n",
      "And if memory is not enough, you can set `force_col_wise=true`.\n",
      "[LightGBM] [Info] Total Bins 627\n",
      "[LightGBM] [Info] Number of data points in the train set: 166391, number of used features: 9\n",
      "[LightGBM] [Info] Start training from score 4600.298141\n",
      "[1]\tvalid_0's l2: 1.20021e+07\tvalid_0's rmse: 3464.4\n",
      "Training until validation scores don't improve for 5 rounds\n",
      "[2]\tvalid_0's l2: 1.04107e+07\tvalid_0's rmse: 3226.57\n",
      "[3]\tvalid_0's l2: 9.09695e+06\tvalid_0's rmse: 3016.12\n",
      "[4]\tvalid_0's l2: 8.01312e+06\tvalid_0's rmse: 2830.75\n",
      "[5]\tvalid_0's l2: 7.09966e+06\tvalid_0's rmse: 2664.52\n",
      "[6]\tvalid_0's l2: 6.35419e+06\tvalid_0's rmse: 2520.75\n",
      "[7]\tvalid_0's l2: 5.73227e+06\tvalid_0's rmse: 2394.22\n",
      "[8]\tvalid_0's l2: 5.2056e+06\tvalid_0's rmse: 2281.58\n",
      "[9]\tvalid_0's l2: 4.76419e+06\tvalid_0's rmse: 2182.7\n",
      "[10]\tvalid_0's l2: 4.39106e+06\tvalid_0's rmse: 2095.49\n",
      "[11]\tvalid_0's l2: 4.07792e+06\tvalid_0's rmse: 2019.39\n",
      "[12]\tvalid_0's l2: 3.80757e+06\tvalid_0's rmse: 1951.3\n",
      "[13]\tvalid_0's l2: 3.58258e+06\tvalid_0's rmse: 1892.77\n",
      "[14]\tvalid_0's l2: 3.39284e+06\tvalid_0's rmse: 1841.97\n",
      "[15]\tvalid_0's l2: 3.23015e+06\tvalid_0's rmse: 1797.26\n",
      "[16]\tvalid_0's l2: 3.08872e+06\tvalid_0's rmse: 1757.47\n",
      "[17]\tvalid_0's l2: 2.96721e+06\tvalid_0's rmse: 1722.56\n",
      "[18]\tvalid_0's l2: 2.8653e+06\tvalid_0's rmse: 1692.72\n",
      "[19]\tvalid_0's l2: 2.76815e+06\tvalid_0's rmse: 1663.78\n",
      "[20]\tvalid_0's l2: 2.68594e+06\tvalid_0's rmse: 1638.88\n",
      "Did not meet early stopping. Best iteration is:\n",
      "[20]\tvalid_0's l2: 2.68594e+06\tvalid_0's rmse: 1638.88\n",
      "The rmse of prediction is: 1638.883282980981\n",
      "1.6268672943115234 seconds\n"
     ]
    }
   ],
   "source": [
    "# проверим работу LGBMRegressor на тестовой выборке\n",
    "\n",
    "model_lgb = lgb.LGBMRegressor()\n",
    "start = time.time()\n",
    "\n",
    "params = {\n",
    "    'task': 'train',\n",
    "    'boosting_type': 'gbdt',  \n",
    "    'objective': 'regression', \n",
    "    'metric': {'l2', 'RMSE'}, \n",
    "    'max_depth': -1, \n",
    "    'num_leaves': 31, \n",
    "    'learning_rate': 0.1\n",
    "}\n",
    "\n",
    "gbm_1 = lgb.train(params, lgb_train, num_boost_round=20, valid_sets=lgb_eval, \\\n",
    "                categorical_feature=features_cols, early_stopping_rounds=5)\n",
    "y_pred = gbm_1.predict(featurcves_test, num_iteration=gbm.best_iteration)\n",
    "result_lgb = RMSE(target_test, y_pred)\n",
    "\n",
    "\n",
    "time_lgb_1 = time.time() - start\n",
    "\n",
    "print('The rmse of prediction is:', result_lgb)\n",
    "print('%s seconds' % time_lgb_1)\n"
   ]
  },
  {
   "cell_type": "markdown",
   "metadata": {},
   "source": [
    "**Выведем таблицу с полученными значениями**"
   ]
  },
  {
   "cell_type": "code",
   "execution_count": 66,
   "metadata": {},
   "outputs": [
    {
     "data": {
      "text/html": [
       "<div>\n",
       "<style scoped>\n",
       "    .dataframe tbody tr th:only-of-type {\n",
       "        vertical-align: middle;\n",
       "    }\n",
       "\n",
       "    .dataframe tbody tr th {\n",
       "        vertical-align: top;\n",
       "    }\n",
       "\n",
       "    .dataframe thead th {\n",
       "        text-align: right;\n",
       "    }\n",
       "</style>\n",
       "<table border=\"1\" class=\"dataframe\">\n",
       "  <thead>\n",
       "    <tr style=\"text-align: right;\">\n",
       "      <th></th>\n",
       "      <th>DecisionTreeRegressor</th>\n",
       "      <th>CatBoostRegressor</th>\n",
       "      <th>LGBMRegressor</th>\n",
       "    </tr>\n",
       "  </thead>\n",
       "  <tbody>\n",
       "    <tr>\n",
       "      <th>RMSE</th>\n",
       "      <td>1574.929386</td>\n",
       "      <td>1398.086439</td>\n",
       "      <td>1638.883283</td>\n",
       "    </tr>\n",
       "    <tr>\n",
       "      <th>time</th>\n",
       "      <td>3.628206</td>\n",
       "      <td>187.444666</td>\n",
       "      <td>1.626867</td>\n",
       "    </tr>\n",
       "  </tbody>\n",
       "</table>\n",
       "</div>"
      ],
      "text/plain": [
       "      DecisionTreeRegressor  CatBoostRegressor  LGBMRegressor\n",
       "RMSE            1574.929386        1398.086439    1638.883283\n",
       "time               3.628206         187.444666       1.626867"
      ]
     },
     "execution_count": 66,
     "metadata": {},
     "output_type": "execute_result"
    }
   ],
   "source": [
    "second_results = {'DecisionTreeRegressor': [result_dtr, time_dtr_1], \n",
    "                 'CatBoostRegressor': [1398.086439, time_cat_1], \n",
    "                 'LGBMRegressor': [result_lgb, time_lgb_1]}\n",
    "\n",
    "frame = pd.DataFrame(second_results, index=['RMSE', 'time'])\n",
    "frame"
   ]
  },
  {
   "cell_type": "markdown",
   "metadata": {},
   "source": [
    "- Наилучший показатель RMSE показала модель\n",
    "- Наилучшее время у модели "
   ]
  },
  {
   "cell_type": "code",
   "execution_count": 67,
   "metadata": {},
   "outputs": [
    {
     "name": "stdout",
     "output_type": "stream",
     "text": [
      " RMSE на DummyRegressor: 3734.328474099451\n"
     ]
    }
   ],
   "source": [
    "# также посмотрим какие резултаты даст нам константная модель\n",
    "\n",
    "model_dummy = DummyRegressor()\n",
    "\n",
    "model_dummy.fit(features_train_ohe, target_train_ohe)\n",
    "pred = model_dummy.predict(features_test_ohe)\n",
    "res = RMSE(pred, target_test_ohe)\n",
    "\n",
    "print(f' RMSE на DummyRegressor: {res}')"
   ]
  },
  {
   "cell_type": "markdown",
   "metadata": {},
   "source": [
    "\n",
    "- Показатель RMSE на константной модели хуже, чем на выбранных нами моделях"
   ]
  },
  {
   "cell_type": "markdown",
   "metadata": {},
   "source": [
    "## Общий вывод"
   ]
  },
  {
   "cell_type": "markdown",
   "metadata": {},
   "source": [
    "1. В процессе предобработки мы потеряли 33% данных.\n",
    "2. Обучили 3 модели и сравнили показатель RMSE в каждой. \n",
    "3. Наилучший результат RMSE на тестовой выборке показала модель CatBoostRegressor - 1398, но с наихудшим временем 187.44 секунд.\n",
    "4. Наилучшее время выдала LGBMRegressor - 1.62 секунд, но RMSE - (самое высокое среди выбранных моделей).\n",
    "\n",
    "Для более точного предсказания стоит выбрать модель CatBoostRegressor, но так как нам важно еще и время работы лучше использовать DecisionTreeRegressor (время у нее 3.62, а RMSE отличается от показателя в CatBoostRegressor не очень сильно)."
   ]
  }
 ],
 "metadata": {
  "ExecuteTimeLog": [
   {
    "duration": 1546,
    "start_time": "2022-05-30T07:32:05.090Z"
   },
   {
    "duration": 41,
    "start_time": "2022-05-30T07:33:32.226Z"
   },
   {
    "duration": 40,
    "start_time": "2022-05-30T07:35:57.287Z"
   },
   {
    "duration": 4,
    "start_time": "2022-05-30T07:41:39.160Z"
   },
   {
    "duration": 1090,
    "start_time": "2022-05-30T07:41:39.701Z"
   },
   {
    "duration": 142,
    "start_time": "2022-05-30T07:41:40.792Z"
   },
   {
    "duration": 125,
    "start_time": "2022-05-30T07:41:40.937Z"
   },
   {
    "duration": 490,
    "start_time": "2022-05-30T07:41:41.064Z"
   },
   {
    "duration": 110,
    "start_time": "2022-05-30T07:41:41.555Z"
   },
   {
    "duration": 37,
    "start_time": "2022-05-30T07:41:41.667Z"
   },
   {
    "duration": 5,
    "start_time": "2022-05-30T07:41:42.137Z"
   },
   {
    "duration": 27,
    "start_time": "2022-05-30T07:41:42.830Z"
   },
   {
    "duration": 169,
    "start_time": "2022-05-30T07:41:43.423Z"
   },
   {
    "duration": 44,
    "start_time": "2022-05-30T07:41:43.818Z"
   },
   {
    "duration": 23,
    "start_time": "2022-05-30T07:41:44.156Z"
   },
   {
    "duration": 81,
    "start_time": "2022-05-30T07:41:44.906Z"
   },
   {
    "duration": 242,
    "start_time": "2022-05-30T07:41:46.377Z"
   },
   {
    "duration": 59,
    "start_time": "2022-05-30T07:41:47.136Z"
   },
   {
    "duration": 45,
    "start_time": "2022-05-30T07:41:48.236Z"
   },
   {
    "duration": 28,
    "start_time": "2022-05-30T07:41:48.648Z"
   },
   {
    "duration": 38,
    "start_time": "2022-05-30T07:41:49.532Z"
   },
   {
    "duration": 759,
    "start_time": "2022-05-30T07:42:04.698Z"
   },
   {
    "duration": 511,
    "start_time": "2022-05-30T07:42:33.832Z"
   },
   {
    "duration": 647,
    "start_time": "2022-05-30T07:43:01.112Z"
   },
   {
    "duration": 89,
    "start_time": "2022-05-30T07:43:06.848Z"
   },
   {
    "duration": 6,
    "start_time": "2022-05-30T07:43:18.480Z"
   },
   {
    "duration": 581,
    "start_time": "2022-05-30T07:43:28.116Z"
   },
   {
    "duration": 16,
    "start_time": "2022-05-30T07:43:51.591Z"
   },
   {
    "duration": 509,
    "start_time": "2022-05-30T07:44:16.667Z"
   },
   {
    "duration": 486,
    "start_time": "2022-05-30T07:44:39.468Z"
   },
   {
    "duration": 27,
    "start_time": "2022-05-30T07:44:58.174Z"
   },
   {
    "duration": 28,
    "start_time": "2022-05-30T07:45:04.126Z"
   },
   {
    "duration": 1171,
    "start_time": "2022-05-30T07:45:18.457Z"
   },
   {
    "duration": 599,
    "start_time": "2022-05-30T07:45:45.350Z"
   },
   {
    "duration": 28,
    "start_time": "2022-05-30T07:45:51.375Z"
   },
   {
    "duration": 1204,
    "start_time": "2022-05-30T07:46:09.427Z"
   },
   {
    "duration": 2124,
    "start_time": "2022-05-30T07:46:21.188Z"
   },
   {
    "duration": 39,
    "start_time": "2022-05-30T07:46:32.094Z"
   },
   {
    "duration": 33,
    "start_time": "2022-05-30T07:47:00.914Z"
   },
   {
    "duration": 21,
    "start_time": "2022-05-30T07:48:13.847Z"
   },
   {
    "duration": 20,
    "start_time": "2022-05-30T07:53:58.107Z"
   },
   {
    "duration": 21,
    "start_time": "2022-05-30T07:58:29.242Z"
   },
   {
    "duration": 4,
    "start_time": "2022-05-30T08:19:00.561Z"
   },
   {
    "duration": 827,
    "start_time": "2022-05-30T08:19:00.567Z"
   },
   {
    "duration": 130,
    "start_time": "2022-05-30T08:19:01.395Z"
   },
   {
    "duration": 127,
    "start_time": "2022-05-30T08:19:01.527Z"
   },
   {
    "duration": 460,
    "start_time": "2022-05-30T08:19:01.656Z"
   },
   {
    "duration": 94,
    "start_time": "2022-05-30T08:19:02.122Z"
   },
   {
    "duration": 33,
    "start_time": "2022-05-30T08:19:02.217Z"
   },
   {
    "duration": 4,
    "start_time": "2022-05-30T08:19:02.252Z"
   },
   {
    "duration": 49,
    "start_time": "2022-05-30T08:19:02.258Z"
   },
   {
    "duration": 170,
    "start_time": "2022-05-30T08:19:02.309Z"
   },
   {
    "duration": 28,
    "start_time": "2022-05-30T08:19:02.480Z"
   },
   {
    "duration": 32,
    "start_time": "2022-05-30T08:19:02.510Z"
   },
   {
    "duration": 110,
    "start_time": "2022-05-30T08:19:02.544Z"
   },
   {
    "duration": 302,
    "start_time": "2022-05-30T08:19:02.657Z"
   },
   {
    "duration": 80,
    "start_time": "2022-05-30T08:19:02.961Z"
   },
   {
    "duration": 43,
    "start_time": "2022-05-30T08:19:03.043Z"
   },
   {
    "duration": 54,
    "start_time": "2022-05-30T08:19:03.087Z"
   },
   {
    "duration": 38,
    "start_time": "2022-05-30T08:19:03.143Z"
   },
   {
    "duration": 78,
    "start_time": "2022-05-30T08:19:03.183Z"
   },
   {
    "duration": 4135,
    "start_time": "2022-05-30T08:19:03.263Z"
   },
   {
    "duration": 24,
    "start_time": "2022-05-30T08:19:07.399Z"
   },
   {
    "duration": 3,
    "start_time": "2022-05-30T08:19:07.425Z"
   },
   {
    "duration": 82,
    "start_time": "2022-05-30T08:19:07.429Z"
   },
   {
    "duration": 997,
    "start_time": "2022-05-30T08:19:07.513Z"
   },
   {
    "duration": 347722,
    "start_time": "2022-05-30T08:19:08.512Z"
   },
   {
    "duration": 66038,
    "start_time": "2022-05-30T08:24:56.237Z"
   },
   {
    "duration": 31217,
    "start_time": "2022-05-30T08:26:02.277Z"
   },
   {
    "duration": 7,
    "start_time": "2022-05-30T08:26:33.496Z"
   },
   {
    "duration": 23621,
    "start_time": "2022-05-30T08:26:33.505Z"
   },
   {
    "duration": 2503,
    "start_time": "2022-05-30T08:26:57.128Z"
   },
   {
    "duration": 28893,
    "start_time": "2022-05-30T08:26:59.726Z"
   },
   {
    "duration": 5703,
    "start_time": "2022-05-30T08:27:28.621Z"
   },
   {
    "duration": 5,
    "start_time": "2022-05-30T08:27:34.326Z"
   },
   {
    "duration": 2163,
    "start_time": "2022-05-30T12:19:48.624Z"
   },
   {
    "duration": 1204,
    "start_time": "2022-05-30T12:19:50.790Z"
   },
   {
    "duration": 143,
    "start_time": "2022-05-30T12:19:51.996Z"
   },
   {
    "duration": 132,
    "start_time": "2022-05-30T12:19:52.141Z"
   },
   {
    "duration": 446,
    "start_time": "2022-05-30T12:19:52.276Z"
   },
   {
    "duration": 116,
    "start_time": "2022-05-30T12:19:52.724Z"
   },
   {
    "duration": 33,
    "start_time": "2022-05-30T12:19:52.842Z"
   },
   {
    "duration": 6,
    "start_time": "2022-05-30T12:19:52.877Z"
   },
   {
    "duration": 52,
    "start_time": "2022-05-30T12:19:52.885Z"
   },
   {
    "duration": 608,
    "start_time": "2022-05-30T12:19:55.840Z"
   },
   {
    "duration": 8,
    "start_time": "2022-05-30T12:20:48.357Z"
   },
   {
    "duration": 57,
    "start_time": "2022-05-30T12:21:08.687Z"
   },
   {
    "duration": 64,
    "start_time": "2022-05-30T12:22:02.304Z"
   },
   {
    "duration": 280,
    "start_time": "2022-05-30T12:23:21.805Z"
   },
   {
    "duration": 29,
    "start_time": "2022-05-30T12:23:25.867Z"
   },
   {
    "duration": 50,
    "start_time": "2022-05-30T12:23:49.318Z"
   },
   {
    "duration": 144,
    "start_time": "2022-05-30T12:23:55.053Z"
   },
   {
    "duration": 15,
    "start_time": "2022-05-30T12:23:55.821Z"
   },
   {
    "duration": 172,
    "start_time": "2022-05-30T12:24:18.918Z"
   },
   {
    "duration": 116,
    "start_time": "2022-05-30T12:24:25.490Z"
   },
   {
    "duration": 25,
    "start_time": "2022-05-30T12:24:40.549Z"
   },
   {
    "duration": 117,
    "start_time": "2022-05-30T12:24:52.970Z"
   },
   {
    "duration": 24,
    "start_time": "2022-05-30T12:25:47.777Z"
   },
   {
    "duration": 81,
    "start_time": "2022-05-30T12:26:10.181Z"
   },
   {
    "duration": 12,
    "start_time": "2022-05-30T12:26:10.952Z"
   },
   {
    "duration": 22,
    "start_time": "2022-05-30T12:26:12.052Z"
   },
   {
    "duration": 159,
    "start_time": "2022-05-30T12:26:16.521Z"
   },
   {
    "duration": 72,
    "start_time": "2022-05-30T12:26:40.394Z"
   },
   {
    "duration": 10,
    "start_time": "2022-05-30T12:26:40.812Z"
   },
   {
    "duration": 32,
    "start_time": "2022-05-30T12:26:41.272Z"
   },
   {
    "duration": 119,
    "start_time": "2022-05-30T12:26:42.726Z"
   },
   {
    "duration": 64,
    "start_time": "2022-05-30T12:26:58.034Z"
   },
   {
    "duration": 10,
    "start_time": "2022-05-30T12:26:58.889Z"
   },
   {
    "duration": 62,
    "start_time": "2022-05-30T12:27:12.048Z"
   },
   {
    "duration": 24,
    "start_time": "2022-05-30T12:27:17.780Z"
   },
   {
    "duration": 47,
    "start_time": "2022-05-30T12:27:26.147Z"
   },
   {
    "duration": 62,
    "start_time": "2022-05-30T12:33:22.137Z"
   },
   {
    "duration": 24,
    "start_time": "2022-05-30T12:33:44.636Z"
   },
   {
    "duration": 18,
    "start_time": "2022-05-30T12:38:43.998Z"
   },
   {
    "duration": 75,
    "start_time": "2022-05-30T12:38:45.481Z"
   },
   {
    "duration": 238,
    "start_time": "2022-05-30T12:38:58.309Z"
   },
   {
    "duration": 67,
    "start_time": "2022-05-30T12:39:06.697Z"
   },
   {
    "duration": 45,
    "start_time": "2022-05-30T12:39:10.787Z"
   },
   {
    "duration": 31,
    "start_time": "2022-05-30T12:39:15.240Z"
   },
   {
    "duration": 34,
    "start_time": "2022-05-30T12:39:31.356Z"
   },
   {
    "duration": 68,
    "start_time": "2022-05-30T12:39:38.665Z"
   },
   {
    "duration": 98,
    "start_time": "2022-05-30T12:59:32.195Z"
   },
   {
    "duration": 123,
    "start_time": "2022-05-30T12:59:38.616Z"
   },
   {
    "duration": 6,
    "start_time": "2022-05-30T12:59:55.342Z"
   },
   {
    "duration": 797,
    "start_time": "2022-05-30T12:59:55.350Z"
   },
   {
    "duration": 170,
    "start_time": "2022-05-30T12:59:56.148Z"
   },
   {
    "duration": 159,
    "start_time": "2022-05-30T12:59:56.320Z"
   },
   {
    "duration": 433,
    "start_time": "2022-05-30T12:59:56.482Z"
   },
   {
    "duration": 93,
    "start_time": "2022-05-30T12:59:56.917Z"
   },
   {
    "duration": 37,
    "start_time": "2022-05-30T12:59:57.012Z"
   },
   {
    "duration": 5,
    "start_time": "2022-05-30T12:59:57.052Z"
   },
   {
    "duration": 27,
    "start_time": "2022-05-30T12:59:57.059Z"
   },
   {
    "duration": 58,
    "start_time": "2022-05-30T12:59:57.087Z"
   },
   {
    "duration": 52,
    "start_time": "2022-05-30T13:00:08.326Z"
   },
   {
    "duration": 118,
    "start_time": "2022-05-30T13:00:12.726Z"
   },
   {
    "duration": 123,
    "start_time": "2022-05-30T13:00:22.489Z"
   },
   {
    "duration": 441,
    "start_time": "2022-05-30T13:03:00.744Z"
   },
   {
    "duration": 25,
    "start_time": "2022-05-30T13:03:12.751Z"
   },
   {
    "duration": 26,
    "start_time": "2022-05-30T13:03:19.241Z"
   },
   {
    "duration": 578,
    "start_time": "2022-05-30T13:03:35.726Z"
   },
   {
    "duration": 385,
    "start_time": "2022-05-30T13:03:58.724Z"
   },
   {
    "duration": 156,
    "start_time": "2022-05-30T13:09:56.518Z"
   },
   {
    "duration": 56,
    "start_time": "2022-05-30T13:10:49.300Z"
   },
   {
    "duration": 5,
    "start_time": "2022-05-30T16:29:49.139Z"
   },
   {
    "duration": 827,
    "start_time": "2022-05-30T16:29:49.145Z"
   },
   {
    "duration": 112,
    "start_time": "2022-05-30T16:29:49.973Z"
   },
   {
    "duration": 117,
    "start_time": "2022-05-30T16:29:50.087Z"
   },
   {
    "duration": 355,
    "start_time": "2022-05-30T16:29:50.207Z"
   },
   {
    "duration": 93,
    "start_time": "2022-05-30T16:29:50.564Z"
   },
   {
    "duration": 28,
    "start_time": "2022-05-30T16:29:50.659Z"
   },
   {
    "duration": 4,
    "start_time": "2022-05-30T16:29:50.689Z"
   },
   {
    "duration": 52,
    "start_time": "2022-05-30T16:29:50.695Z"
   },
   {
    "duration": 4571,
    "start_time": "2022-05-30T16:29:50.749Z"
   },
   {
    "duration": 77,
    "start_time": "2022-05-30T16:29:55.326Z"
   },
   {
    "duration": 9,
    "start_time": "2022-05-30T16:29:55.404Z"
   },
   {
    "duration": 52,
    "start_time": "2022-05-30T16:29:55.414Z"
   },
   {
    "duration": 67,
    "start_time": "2022-05-30T16:29:55.468Z"
   },
   {
    "duration": 195,
    "start_time": "2022-05-30T16:29:55.536Z"
   },
   {
    "duration": 30,
    "start_time": "2022-05-30T16:29:55.733Z"
   },
   {
    "duration": 23,
    "start_time": "2022-05-30T16:29:55.765Z"
   },
   {
    "duration": 55,
    "start_time": "2022-05-30T16:29:55.789Z"
   },
   {
    "duration": 49,
    "start_time": "2022-05-30T16:29:55.845Z"
   },
   {
    "duration": 3467,
    "start_time": "2022-05-30T16:29:55.896Z"
   },
   {
    "duration": 1240,
    "start_time": "2022-05-30T16:47:42.668Z"
   },
   {
    "duration": 748,
    "start_time": "2022-05-30T16:47:43.910Z"
   },
   {
    "duration": 128,
    "start_time": "2022-05-30T16:47:44.659Z"
   },
   {
    "duration": 131,
    "start_time": "2022-05-30T16:47:44.789Z"
   },
   {
    "duration": 468,
    "start_time": "2022-05-30T16:47:44.926Z"
   },
   {
    "duration": 96,
    "start_time": "2022-05-30T16:47:45.397Z"
   },
   {
    "duration": 41,
    "start_time": "2022-05-30T16:47:45.494Z"
   },
   {
    "duration": 6,
    "start_time": "2022-05-30T16:47:45.536Z"
   },
   {
    "duration": 26,
    "start_time": "2022-05-30T16:47:45.543Z"
   },
   {
    "duration": 4666,
    "start_time": "2022-05-30T16:47:45.570Z"
   },
   {
    "duration": 91,
    "start_time": "2022-05-30T16:47:50.238Z"
   },
   {
    "duration": 8,
    "start_time": "2022-05-30T16:47:50.331Z"
   },
   {
    "duration": 30,
    "start_time": "2022-05-30T16:47:50.341Z"
   },
   {
    "duration": 73,
    "start_time": "2022-05-30T16:47:50.375Z"
   },
   {
    "duration": 214,
    "start_time": "2022-05-30T16:47:50.450Z"
   },
   {
    "duration": 33,
    "start_time": "2022-05-30T16:47:50.666Z"
   },
   {
    "duration": 44,
    "start_time": "2022-05-30T16:47:50.701Z"
   },
   {
    "duration": 37,
    "start_time": "2022-05-30T16:47:50.746Z"
   },
   {
    "duration": 72,
    "start_time": "2022-05-30T16:47:50.785Z"
   },
   {
    "duration": 3429,
    "start_time": "2022-05-30T16:47:50.859Z"
   },
   {
    "duration": 3,
    "start_time": "2022-05-30T16:47:54.290Z"
   },
   {
    "duration": 67,
    "start_time": "2022-05-30T16:47:54.295Z"
   },
   {
    "duration": 763,
    "start_time": "2022-05-30T16:47:54.364Z"
   },
   {
    "duration": 272301,
    "start_time": "2022-05-30T16:47:55.128Z"
   },
   {
    "duration": 48348,
    "start_time": "2022-05-30T16:52:27.431Z"
   },
   {
    "duration": 25132,
    "start_time": "2022-05-30T16:53:15.781Z"
   },
   {
    "duration": 6,
    "start_time": "2022-05-30T16:53:40.915Z"
   },
   {
    "duration": 18008,
    "start_time": "2022-05-30T16:53:40.922Z"
   },
   {
    "duration": 2505,
    "start_time": "2022-05-30T16:53:58.932Z"
   },
   {
    "duration": 23387,
    "start_time": "2022-05-30T16:54:01.528Z"
   },
   {
    "duration": 4236,
    "start_time": "2022-05-30T16:54:24.917Z"
   },
   {
    "duration": 5,
    "start_time": "2022-05-30T16:54:29.155Z"
   },
   {
    "duration": 4,
    "start_time": "2022-05-31T02:10:38.131Z"
   },
   {
    "duration": 782,
    "start_time": "2022-05-31T02:10:38.137Z"
   },
   {
    "duration": 121,
    "start_time": "2022-05-31T02:10:38.920Z"
   },
   {
    "duration": 119,
    "start_time": "2022-05-31T02:10:39.043Z"
   },
   {
    "duration": 395,
    "start_time": "2022-05-31T02:10:39.164Z"
   },
   {
    "duration": 97,
    "start_time": "2022-05-31T02:10:39.561Z"
   },
   {
    "duration": 36,
    "start_time": "2022-05-31T02:10:39.660Z"
   },
   {
    "duration": 6,
    "start_time": "2022-05-31T02:10:39.698Z"
   },
   {
    "duration": 53,
    "start_time": "2022-05-31T02:10:39.706Z"
   },
   {
    "duration": 4450,
    "start_time": "2022-05-31T02:10:39.762Z"
   },
   {
    "duration": 86,
    "start_time": "2022-05-31T02:10:44.214Z"
   },
   {
    "duration": 9,
    "start_time": "2022-05-31T02:10:44.302Z"
   },
   {
    "duration": 62,
    "start_time": "2022-05-31T02:10:44.312Z"
   },
   {
    "duration": 63,
    "start_time": "2022-05-31T02:10:44.376Z"
   },
   {
    "duration": 206,
    "start_time": "2022-05-31T02:10:44.440Z"
   },
   {
    "duration": 28,
    "start_time": "2022-05-31T02:10:44.648Z"
   },
   {
    "duration": 22,
    "start_time": "2022-05-31T02:10:44.678Z"
   },
   {
    "duration": 53,
    "start_time": "2022-05-31T02:10:44.702Z"
   },
   {
    "duration": 71,
    "start_time": "2022-05-31T02:10:44.757Z"
   },
   {
    "duration": 3559,
    "start_time": "2022-05-31T02:10:44.830Z"
   },
   {
    "duration": 3,
    "start_time": "2022-05-31T02:10:48.391Z"
   },
   {
    "duration": 63,
    "start_time": "2022-05-31T02:10:48.396Z"
   },
   {
    "duration": 780,
    "start_time": "2022-05-31T02:10:48.460Z"
   },
   {
    "duration": 8,
    "start_time": "2022-05-31T02:13:33.056Z"
   },
   {
    "duration": 4,
    "start_time": "2022-05-31T02:14:16.604Z"
   },
   {
    "duration": 127806,
    "start_time": "2022-05-31T02:18:02.758Z"
   },
   {
    "duration": 1245,
    "start_time": "2022-05-31T03:04:21.373Z"
   },
   {
    "duration": 774,
    "start_time": "2022-05-31T03:04:22.620Z"
   },
   {
    "duration": 127,
    "start_time": "2022-05-31T03:04:23.395Z"
   },
   {
    "duration": 135,
    "start_time": "2022-05-31T03:04:23.527Z"
   },
   {
    "duration": 477,
    "start_time": "2022-05-31T03:04:23.664Z"
   },
   {
    "duration": 98,
    "start_time": "2022-05-31T03:04:24.143Z"
   },
   {
    "duration": 33,
    "start_time": "2022-05-31T03:04:24.242Z"
   },
   {
    "duration": 5,
    "start_time": "2022-05-31T03:04:24.277Z"
   },
   {
    "duration": 52,
    "start_time": "2022-05-31T03:04:24.283Z"
   },
   {
    "duration": 4737,
    "start_time": "2022-05-31T03:04:24.337Z"
   },
   {
    "duration": 104,
    "start_time": "2022-05-31T03:04:29.075Z"
   },
   {
    "duration": 8,
    "start_time": "2022-05-31T03:04:29.181Z"
   },
   {
    "duration": 37,
    "start_time": "2022-05-31T03:04:29.190Z"
   },
   {
    "duration": 57,
    "start_time": "2022-05-31T03:04:29.230Z"
   },
   {
    "duration": 219,
    "start_time": "2022-05-31T03:04:29.289Z"
   },
   {
    "duration": 37,
    "start_time": "2022-05-31T03:04:29.510Z"
   },
   {
    "duration": 21,
    "start_time": "2022-05-31T03:04:29.549Z"
   },
   {
    "duration": 33,
    "start_time": "2022-05-31T03:04:29.572Z"
   },
   {
    "duration": 72,
    "start_time": "2022-05-31T03:04:29.606Z"
   },
   {
    "duration": 3788,
    "start_time": "2022-05-31T03:04:29.679Z"
   },
   {
    "duration": 3,
    "start_time": "2022-05-31T03:04:33.468Z"
   },
   {
    "duration": 56,
    "start_time": "2022-05-31T03:04:33.472Z"
   },
   {
    "duration": 757,
    "start_time": "2022-05-31T03:04:33.530Z"
   },
   {
    "duration": 5,
    "start_time": "2022-05-31T03:04:34.288Z"
   },
   {
    "duration": 129444,
    "start_time": "2022-05-31T03:04:34.295Z"
   },
   {
    "duration": 135549,
    "start_time": "2022-05-31T03:08:22.439Z"
   },
   {
    "duration": 116,
    "start_time": "2022-05-31T03:10:37.990Z"
   },
   {
    "duration": 5,
    "start_time": "2022-05-31T03:10:49.491Z"
   },
   {
    "duration": 7,
    "start_time": "2022-05-31T03:11:02.375Z"
   },
   {
    "duration": 135020,
    "start_time": "2022-05-31T03:11:44.360Z"
   },
   {
    "duration": 6,
    "start_time": "2022-05-31T03:14:54.067Z"
   },
   {
    "duration": 278004,
    "start_time": "2022-05-31T03:14:58.105Z"
   },
   {
    "duration": 1371,
    "start_time": "2022-05-31T04:15:16.416Z"
   },
   {
    "duration": 859,
    "start_time": "2022-05-31T04:15:17.789Z"
   },
   {
    "duration": 127,
    "start_time": "2022-05-31T04:15:18.650Z"
   },
   {
    "duration": 125,
    "start_time": "2022-05-31T04:15:18.779Z"
   },
   {
    "duration": 491,
    "start_time": "2022-05-31T04:15:18.906Z"
   },
   {
    "duration": 109,
    "start_time": "2022-05-31T04:15:19.399Z"
   },
   {
    "duration": 43,
    "start_time": "2022-05-31T04:15:19.510Z"
   },
   {
    "duration": 5,
    "start_time": "2022-05-31T04:15:19.555Z"
   },
   {
    "duration": 30,
    "start_time": "2022-05-31T04:15:19.561Z"
   },
   {
    "duration": 4778,
    "start_time": "2022-05-31T04:15:19.592Z"
   },
   {
    "duration": 111,
    "start_time": "2022-05-31T04:15:24.372Z"
   },
   {
    "duration": 11,
    "start_time": "2022-05-31T04:15:24.484Z"
   },
   {
    "duration": 49,
    "start_time": "2022-05-31T04:15:24.497Z"
   },
   {
    "duration": 78,
    "start_time": "2022-05-31T04:15:24.549Z"
   },
   {
    "duration": 243,
    "start_time": "2022-05-31T04:15:24.629Z"
   },
   {
    "duration": 33,
    "start_time": "2022-05-31T04:15:24.875Z"
   },
   {
    "duration": 37,
    "start_time": "2022-05-31T04:15:24.910Z"
   },
   {
    "duration": 35,
    "start_time": "2022-05-31T04:15:24.949Z"
   },
   {
    "duration": 99,
    "start_time": "2022-05-31T04:15:24.986Z"
   },
   {
    "duration": 3966,
    "start_time": "2022-05-31T04:15:25.088Z"
   },
   {
    "duration": 4,
    "start_time": "2022-05-31T04:15:29.056Z"
   },
   {
    "duration": 65,
    "start_time": "2022-05-31T04:15:29.063Z"
   },
   {
    "duration": 852,
    "start_time": "2022-05-31T04:15:29.130Z"
   },
   {
    "duration": 7,
    "start_time": "2022-05-31T04:15:29.983Z"
   },
   {
    "duration": 300321,
    "start_time": "2022-05-31T04:15:29.992Z"
   },
   {
    "duration": 5,
    "start_time": "2022-05-31T04:20:30.317Z"
   },
   {
    "duration": 834,
    "start_time": "2022-05-31T04:20:30.323Z"
   },
   {
    "duration": 153,
    "start_time": "2022-05-31T04:20:31.159Z"
   },
   {
    "duration": 128,
    "start_time": "2022-05-31T04:20:31.314Z"
   },
   {
    "duration": 459,
    "start_time": "2022-05-31T04:20:31.443Z"
   },
   {
    "duration": 112,
    "start_time": "2022-05-31T04:20:31.904Z"
   },
   {
    "duration": 43,
    "start_time": "2022-05-31T04:20:32.018Z"
   },
   {
    "duration": 7,
    "start_time": "2022-05-31T04:20:32.063Z"
   },
   {
    "duration": 33,
    "start_time": "2022-05-31T04:20:32.072Z"
   },
   {
    "duration": 5019,
    "start_time": "2022-05-31T04:20:32.107Z"
   },
   {
    "duration": 108,
    "start_time": "2022-05-31T04:20:37.129Z"
   },
   {
    "duration": 12,
    "start_time": "2022-05-31T04:20:37.239Z"
   },
   {
    "duration": 64,
    "start_time": "2022-05-31T04:20:37.253Z"
   },
   {
    "duration": 70,
    "start_time": "2022-05-31T04:20:37.319Z"
   },
   {
    "duration": 245,
    "start_time": "2022-05-31T04:20:37.391Z"
   },
   {
    "duration": 34,
    "start_time": "2022-05-31T04:20:37.638Z"
   },
   {
    "duration": 26,
    "start_time": "2022-05-31T04:20:37.674Z"
   },
   {
    "duration": 58,
    "start_time": "2022-05-31T04:20:37.702Z"
   },
   {
    "duration": 75,
    "start_time": "2022-05-31T04:20:37.763Z"
   },
   {
    "duration": 4047,
    "start_time": "2022-05-31T04:20:37.839Z"
   },
   {
    "duration": 3,
    "start_time": "2022-05-31T04:20:41.887Z"
   },
   {
    "duration": 97,
    "start_time": "2022-05-31T04:20:41.892Z"
   },
   {
    "duration": 820,
    "start_time": "2022-05-31T04:20:41.992Z"
   },
   {
    "duration": 10,
    "start_time": "2022-05-31T04:26:01.232Z"
   },
   {
    "duration": 318263,
    "start_time": "2022-05-31T04:26:02.284Z"
   },
   {
    "duration": 313896,
    "start_time": "2022-05-31T04:31:55.591Z"
   },
   {
    "duration": 219789,
    "start_time": "2022-05-31T05:47:14.839Z"
   },
   {
    "duration": 1241,
    "start_time": "2022-05-31T06:21:51.435Z"
   },
   {
    "duration": 740,
    "start_time": "2022-05-31T06:21:52.678Z"
   },
   {
    "duration": 111,
    "start_time": "2022-05-31T06:21:53.420Z"
   },
   {
    "duration": 115,
    "start_time": "2022-05-31T06:21:53.533Z"
   },
   {
    "duration": 424,
    "start_time": "2022-05-31T06:21:53.650Z"
   },
   {
    "duration": 93,
    "start_time": "2022-05-31T06:21:54.076Z"
   },
   {
    "duration": 28,
    "start_time": "2022-05-31T06:21:54.170Z"
   },
   {
    "duration": 4,
    "start_time": "2022-05-31T06:21:54.200Z"
   },
   {
    "duration": 43,
    "start_time": "2022-05-31T06:21:54.206Z"
   },
   {
    "duration": 4444,
    "start_time": "2022-05-31T06:21:54.252Z"
   },
   {
    "duration": 99,
    "start_time": "2022-05-31T06:21:58.698Z"
   },
   {
    "duration": 9,
    "start_time": "2022-05-31T06:21:58.799Z"
   },
   {
    "duration": 37,
    "start_time": "2022-05-31T06:21:58.810Z"
   },
   {
    "duration": 53,
    "start_time": "2022-05-31T06:21:58.849Z"
   },
   {
    "duration": 210,
    "start_time": "2022-05-31T06:21:58.904Z"
   },
   {
    "duration": 30,
    "start_time": "2022-05-31T06:21:59.116Z"
   },
   {
    "duration": 21,
    "start_time": "2022-05-31T06:21:59.148Z"
   },
   {
    "duration": 32,
    "start_time": "2022-05-31T06:21:59.171Z"
   },
   {
    "duration": 69,
    "start_time": "2022-05-31T06:21:59.204Z"
   },
   {
    "duration": 3505,
    "start_time": "2022-05-31T06:21:59.277Z"
   },
   {
    "duration": 3,
    "start_time": "2022-05-31T06:22:02.783Z"
   },
   {
    "duration": 58,
    "start_time": "2022-05-31T06:22:02.787Z"
   },
   {
    "duration": 793,
    "start_time": "2022-05-31T06:22:02.847Z"
   },
   {
    "duration": 2,
    "start_time": "2022-05-31T06:22:07.667Z"
   },
   {
    "duration": 111,
    "start_time": "2022-05-31T06:22:08.731Z"
   },
   {
    "duration": 289205,
    "start_time": "2022-05-31T06:22:30.582Z"
   },
   {
    "duration": 4,
    "start_time": "2022-05-31T06:39:24.259Z"
   },
   {
    "duration": 1117,
    "start_time": "2022-05-31T06:49:48.549Z"
   },
   {
    "duration": 1100,
    "start_time": "2022-05-31T06:51:13.967Z"
   },
   {
    "duration": 1360,
    "start_time": "2022-05-31T06:57:28.892Z"
   },
   {
    "duration": 857,
    "start_time": "2022-05-31T06:57:30.253Z"
   },
   {
    "duration": 140,
    "start_time": "2022-05-31T06:57:31.112Z"
   },
   {
    "duration": 134,
    "start_time": "2022-05-31T06:57:31.261Z"
   },
   {
    "duration": 501,
    "start_time": "2022-05-31T06:57:31.397Z"
   },
   {
    "duration": 143,
    "start_time": "2022-05-31T06:57:31.902Z"
   },
   {
    "duration": 32,
    "start_time": "2022-05-31T06:57:32.048Z"
   },
   {
    "duration": 5,
    "start_time": "2022-05-31T06:57:32.082Z"
   },
   {
    "duration": 40,
    "start_time": "2022-05-31T06:57:32.088Z"
   },
   {
    "duration": 4944,
    "start_time": "2022-05-31T06:57:32.131Z"
   },
   {
    "duration": 108,
    "start_time": "2022-05-31T06:57:37.076Z"
   },
   {
    "duration": 9,
    "start_time": "2022-05-31T06:57:37.186Z"
   },
   {
    "duration": 40,
    "start_time": "2022-05-31T06:57:37.196Z"
   },
   {
    "duration": 89,
    "start_time": "2022-05-31T06:57:37.240Z"
   },
   {
    "duration": 218,
    "start_time": "2022-05-31T06:57:37.331Z"
   },
   {
    "duration": 29,
    "start_time": "2022-05-31T06:57:37.551Z"
   },
   {
    "duration": 22,
    "start_time": "2022-05-31T06:57:37.581Z"
   },
   {
    "duration": 55,
    "start_time": "2022-05-31T06:57:37.605Z"
   },
   {
    "duration": 51,
    "start_time": "2022-05-31T06:57:37.661Z"
   },
   {
    "duration": 3702,
    "start_time": "2022-05-31T06:57:37.737Z"
   },
   {
    "duration": 2,
    "start_time": "2022-05-31T06:57:41.442Z"
   },
   {
    "duration": 54,
    "start_time": "2022-05-31T06:57:41.446Z"
   },
   {
    "duration": 809,
    "start_time": "2022-05-31T06:57:41.502Z"
   },
   {
    "duration": 4,
    "start_time": "2022-05-31T06:57:42.312Z"
   },
   {
    "duration": 300289,
    "start_time": "2022-05-31T06:57:42.317Z"
   },
   {
    "duration": 271142,
    "start_time": "2022-05-31T07:02:42.608Z"
   },
   {
    "duration": 235,
    "start_time": "2022-05-31T07:07:13.752Z"
   },
   {
    "duration": 0,
    "start_time": "2022-05-31T07:07:13.988Z"
   },
   {
    "duration": 0,
    "start_time": "2022-05-31T07:07:13.989Z"
   },
   {
    "duration": 25,
    "start_time": "2022-05-31T07:28:36.890Z"
   },
   {
    "duration": 24,
    "start_time": "2022-05-31T07:29:02.941Z"
   },
   {
    "duration": 25,
    "start_time": "2022-05-31T07:29:11.939Z"
   },
   {
    "duration": 25,
    "start_time": "2022-05-31T07:30:05.078Z"
   },
   {
    "duration": 38,
    "start_time": "2022-05-31T07:30:19.337Z"
   },
   {
    "duration": 5,
    "start_time": "2022-05-31T07:30:36.138Z"
   },
   {
    "duration": 780,
    "start_time": "2022-05-31T07:30:36.145Z"
   },
   {
    "duration": 113,
    "start_time": "2022-05-31T07:30:36.927Z"
   },
   {
    "duration": 109,
    "start_time": "2022-05-31T07:30:37.042Z"
   },
   {
    "duration": 391,
    "start_time": "2022-05-31T07:30:37.153Z"
   },
   {
    "duration": 93,
    "start_time": "2022-05-31T07:30:37.545Z"
   },
   {
    "duration": 30,
    "start_time": "2022-05-31T07:30:37.641Z"
   },
   {
    "duration": 6,
    "start_time": "2022-05-31T07:30:37.673Z"
   },
   {
    "duration": 51,
    "start_time": "2022-05-31T07:30:37.680Z"
   },
   {
    "duration": 4461,
    "start_time": "2022-05-31T07:30:37.733Z"
   },
   {
    "duration": 82,
    "start_time": "2022-05-31T07:30:42.197Z"
   },
   {
    "duration": 9,
    "start_time": "2022-05-31T07:30:42.280Z"
   },
   {
    "duration": 36,
    "start_time": "2022-05-31T07:30:42.291Z"
   },
   {
    "duration": 52,
    "start_time": "2022-05-31T07:30:42.329Z"
   },
   {
    "duration": 213,
    "start_time": "2022-05-31T07:30:42.383Z"
   },
   {
    "duration": 35,
    "start_time": "2022-05-31T07:30:42.597Z"
   },
   {
    "duration": 21,
    "start_time": "2022-05-31T07:30:42.633Z"
   },
   {
    "duration": 33,
    "start_time": "2022-05-31T07:30:42.656Z"
   },
   {
    "duration": 70,
    "start_time": "2022-05-31T07:30:42.691Z"
   },
   {
    "duration": 3478,
    "start_time": "2022-05-31T07:30:42.763Z"
   },
   {
    "duration": 4,
    "start_time": "2022-05-31T07:30:46.242Z"
   },
   {
    "duration": 68,
    "start_time": "2022-05-31T07:30:46.248Z"
   },
   {
    "duration": 750,
    "start_time": "2022-05-31T07:30:46.327Z"
   },
   {
    "duration": 2,
    "start_time": "2022-05-31T07:30:55.432Z"
   },
   {
    "duration": 26,
    "start_time": "2022-05-31T07:31:02.251Z"
   },
   {
    "duration": 9,
    "start_time": "2022-05-31T07:31:27.150Z"
   },
   {
    "duration": 9,
    "start_time": "2022-05-31T07:31:34.998Z"
   },
   {
    "duration": 9,
    "start_time": "2022-05-31T07:31:49.110Z"
   },
   {
    "duration": 8,
    "start_time": "2022-05-31T07:34:19.771Z"
   },
   {
    "duration": 10,
    "start_time": "2022-05-31T07:35:57.558Z"
   },
   {
    "duration": 10,
    "start_time": "2022-05-31T07:36:03.958Z"
   },
   {
    "duration": 8,
    "start_time": "2022-05-31T07:36:11.932Z"
   },
   {
    "duration": 8,
    "start_time": "2022-05-31T07:36:27.772Z"
   },
   {
    "duration": 9,
    "start_time": "2022-05-31T07:36:31.742Z"
   },
   {
    "duration": 4,
    "start_time": "2022-05-31T07:38:15.306Z"
   },
   {
    "duration": 31,
    "start_time": "2022-05-31T07:38:57.959Z"
   },
   {
    "duration": 29,
    "start_time": "2022-05-31T07:39:35.878Z"
   },
   {
    "duration": 27,
    "start_time": "2022-05-31T07:40:02.550Z"
   },
   {
    "duration": 28,
    "start_time": "2022-05-31T07:40:53.931Z"
   },
   {
    "duration": 30,
    "start_time": "2022-05-31T07:41:08.251Z"
   },
   {
    "duration": 25,
    "start_time": "2022-05-31T07:41:18.359Z"
   },
   {
    "duration": 31,
    "start_time": "2022-05-31T07:41:43.658Z"
   },
   {
    "duration": 16,
    "start_time": "2022-05-31T07:41:58.667Z"
   },
   {
    "duration": 26,
    "start_time": "2022-05-31T07:42:23.958Z"
   },
   {
    "duration": 1290,
    "start_time": "2022-05-31T07:56:07.450Z"
   },
   {
    "duration": 806,
    "start_time": "2022-05-31T07:56:13.512Z"
   },
   {
    "duration": 133,
    "start_time": "2022-05-31T07:56:14.320Z"
   },
   {
    "duration": 113,
    "start_time": "2022-05-31T07:56:15.110Z"
   },
   {
    "duration": 462,
    "start_time": "2022-05-31T07:56:15.931Z"
   },
   {
    "duration": 93,
    "start_time": "2022-05-31T07:56:16.782Z"
   },
   {
    "duration": 32,
    "start_time": "2022-05-31T07:56:17.682Z"
   },
   {
    "duration": 6,
    "start_time": "2022-05-31T07:56:19.526Z"
   },
   {
    "duration": 28,
    "start_time": "2022-05-31T07:56:20.232Z"
   },
   {
    "duration": 5001,
    "start_time": "2022-05-31T07:56:20.983Z"
   },
   {
    "duration": 110,
    "start_time": "2022-05-31T07:56:25.986Z"
   },
   {
    "duration": 9,
    "start_time": "2022-05-31T07:56:26.098Z"
   },
   {
    "duration": 47,
    "start_time": "2022-05-31T07:56:26.109Z"
   },
   {
    "duration": 91,
    "start_time": "2022-05-31T07:56:26.411Z"
   },
   {
    "duration": 212,
    "start_time": "2022-05-31T07:56:27.347Z"
   },
   {
    "duration": 38,
    "start_time": "2022-05-31T07:56:28.874Z"
   },
   {
    "duration": 34,
    "start_time": "2022-05-31T07:56:29.714Z"
   },
   {
    "duration": 38,
    "start_time": "2022-05-31T07:56:32.582Z"
   },
   {
    "duration": 51,
    "start_time": "2022-05-31T07:56:33.894Z"
   },
   {
    "duration": 3619,
    "start_time": "2022-05-31T07:56:37.374Z"
   },
   {
    "duration": 3,
    "start_time": "2022-05-31T07:56:40.994Z"
   },
   {
    "duration": 51,
    "start_time": "2022-05-31T07:56:43.682Z"
   },
   {
    "duration": 767,
    "start_time": "2022-05-31T07:56:44.500Z"
   },
   {
    "duration": 6,
    "start_time": "2022-05-31T07:56:56.731Z"
   },
   {
    "duration": 1497,
    "start_time": "2022-05-31T07:59:37.041Z"
   },
   {
    "duration": 867,
    "start_time": "2022-05-31T07:59:38.541Z"
   },
   {
    "duration": 175,
    "start_time": "2022-05-31T07:59:39.409Z"
   },
   {
    "duration": 144,
    "start_time": "2022-05-31T07:59:39.587Z"
   },
   {
    "duration": 444,
    "start_time": "2022-05-31T07:59:39.734Z"
   },
   {
    "duration": 117,
    "start_time": "2022-05-31T07:59:40.179Z"
   },
   {
    "duration": 34,
    "start_time": "2022-05-31T07:59:40.298Z"
   },
   {
    "duration": 6,
    "start_time": "2022-05-31T07:59:40.333Z"
   },
   {
    "duration": 68,
    "start_time": "2022-05-31T07:59:40.341Z"
   },
   {
    "duration": 5238,
    "start_time": "2022-05-31T07:59:40.411Z"
   },
   {
    "duration": 120,
    "start_time": "2022-05-31T07:59:45.651Z"
   },
   {
    "duration": 11,
    "start_time": "2022-05-31T07:59:45.773Z"
   },
   {
    "duration": 102,
    "start_time": "2022-05-31T07:59:45.788Z"
   },
   {
    "duration": 71,
    "start_time": "2022-05-31T07:59:45.893Z"
   },
   {
    "duration": 228,
    "start_time": "2022-05-31T07:59:45.966Z"
   },
   {
    "duration": 51,
    "start_time": "2022-05-31T07:59:46.196Z"
   },
   {
    "duration": 60,
    "start_time": "2022-05-31T07:59:46.249Z"
   },
   {
    "duration": 57,
    "start_time": "2022-05-31T07:59:46.311Z"
   },
   {
    "duration": 77,
    "start_time": "2022-05-31T07:59:46.370Z"
   },
   {
    "duration": 4093,
    "start_time": "2022-05-31T07:59:46.450Z"
   },
   {
    "duration": 2,
    "start_time": "2022-05-31T07:59:50.546Z"
   },
   {
    "duration": 81,
    "start_time": "2022-05-31T07:59:50.552Z"
   },
   {
    "duration": 820,
    "start_time": "2022-05-31T07:59:50.635Z"
   },
   {
    "duration": 3,
    "start_time": "2022-05-31T07:59:51.457Z"
   },
   {
    "duration": 292070,
    "start_time": "2022-05-31T07:59:57.345Z"
   },
   {
    "duration": 143,
    "start_time": "2022-05-31T08:06:50.079Z"
   },
   {
    "duration": 33,
    "start_time": "2022-05-31T08:09:47.418Z"
   },
   {
    "duration": 26,
    "start_time": "2022-05-31T08:10:11.547Z"
   },
   {
    "duration": 23333,
    "start_time": "2022-05-31T08:10:27.995Z"
   },
   {
    "duration": 29,
    "start_time": "2022-05-31T08:11:01.614Z"
   },
   {
    "duration": 12,
    "start_time": "2022-05-31T08:11:16.296Z"
   },
   {
    "duration": 14,
    "start_time": "2022-05-31T08:11:24.777Z"
   },
   {
    "duration": 1754,
    "start_time": "2022-05-31T08:34:45.445Z"
   },
   {
    "duration": 1143,
    "start_time": "2022-05-31T08:34:47.202Z"
   },
   {
    "duration": 229,
    "start_time": "2022-05-31T08:34:48.350Z"
   },
   {
    "duration": 189,
    "start_time": "2022-05-31T08:34:48.582Z"
   },
   {
    "duration": 469,
    "start_time": "2022-05-31T08:34:48.774Z"
   },
   {
    "duration": 113,
    "start_time": "2022-05-31T08:34:49.246Z"
   },
   {
    "duration": 40,
    "start_time": "2022-05-31T08:34:49.361Z"
   },
   {
    "duration": 6,
    "start_time": "2022-05-31T08:34:49.403Z"
   },
   {
    "duration": 41,
    "start_time": "2022-05-31T08:34:49.428Z"
   },
   {
    "duration": 7414,
    "start_time": "2022-05-31T08:34:49.472Z"
   },
   {
    "duration": 140,
    "start_time": "2022-05-31T08:34:56.888Z"
   },
   {
    "duration": 10,
    "start_time": "2022-05-31T08:34:57.030Z"
   },
   {
    "duration": 52,
    "start_time": "2022-05-31T08:34:57.042Z"
   },
   {
    "duration": 70,
    "start_time": "2022-05-31T08:34:57.098Z"
   },
   {
    "duration": 372,
    "start_time": "2022-05-31T08:34:57.170Z"
   },
   {
    "duration": 37,
    "start_time": "2022-05-31T08:34:57.546Z"
   },
   {
    "duration": 48,
    "start_time": "2022-05-31T08:34:57.585Z"
   },
   {
    "duration": 47,
    "start_time": "2022-05-31T08:34:57.635Z"
   },
   {
    "duration": 90,
    "start_time": "2022-05-31T08:34:57.684Z"
   },
   {
    "duration": 4637,
    "start_time": "2022-05-31T08:34:57.776Z"
   },
   {
    "duration": 4,
    "start_time": "2022-05-31T08:35:02.415Z"
   },
   {
    "duration": 83,
    "start_time": "2022-05-31T08:35:02.420Z"
   },
   {
    "duration": 916,
    "start_time": "2022-05-31T08:35:02.506Z"
   },
   {
    "duration": 4,
    "start_time": "2022-05-31T08:35:10.795Z"
   },
   {
    "duration": 361755,
    "start_time": "2022-05-31T08:36:18.711Z"
   },
   {
    "duration": 1829,
    "start_time": "2022-05-31T08:44:14.650Z"
   },
   {
    "duration": 1076,
    "start_time": "2022-05-31T08:44:16.481Z"
   },
   {
    "duration": 173,
    "start_time": "2022-05-31T08:44:17.559Z"
   },
   {
    "duration": 137,
    "start_time": "2022-05-31T08:44:17.741Z"
   },
   {
    "duration": 560,
    "start_time": "2022-05-31T08:44:17.881Z"
   },
   {
    "duration": 113,
    "start_time": "2022-05-31T08:44:18.443Z"
   },
   {
    "duration": 33,
    "start_time": "2022-05-31T08:44:18.559Z"
   },
   {
    "duration": 7,
    "start_time": "2022-05-31T08:44:18.594Z"
   },
   {
    "duration": 63,
    "start_time": "2022-05-31T08:44:18.602Z"
   },
   {
    "duration": 5598,
    "start_time": "2022-05-31T08:44:18.667Z"
   },
   {
    "duration": 115,
    "start_time": "2022-05-31T08:44:24.267Z"
   },
   {
    "duration": 12,
    "start_time": "2022-05-31T08:44:24.384Z"
   },
   {
    "duration": 65,
    "start_time": "2022-05-31T08:44:24.399Z"
   },
   {
    "duration": 71,
    "start_time": "2022-05-31T08:44:24.468Z"
   },
   {
    "duration": 317,
    "start_time": "2022-05-31T08:44:24.542Z"
   },
   {
    "duration": 46,
    "start_time": "2022-05-31T08:44:24.862Z"
   },
   {
    "duration": 49,
    "start_time": "2022-05-31T08:44:24.910Z"
   },
   {
    "duration": 44,
    "start_time": "2022-05-31T08:44:24.962Z"
   },
   {
    "duration": 87,
    "start_time": "2022-05-31T08:44:25.008Z"
   },
   {
    "duration": 4315,
    "start_time": "2022-05-31T08:44:25.097Z"
   },
   {
    "duration": 3,
    "start_time": "2022-05-31T08:44:29.415Z"
   },
   {
    "duration": 93,
    "start_time": "2022-05-31T08:44:29.420Z"
   },
   {
    "duration": 892,
    "start_time": "2022-05-31T08:44:29.514Z"
   },
   {
    "duration": 4,
    "start_time": "2022-05-31T08:44:30.408Z"
   },
   {
    "duration": 6,
    "start_time": "2022-05-31T08:44:36.474Z"
   },
   {
    "duration": 1294,
    "start_time": "2022-05-31T09:42:40.333Z"
   },
   {
    "duration": 800,
    "start_time": "2022-05-31T09:42:41.629Z"
   },
   {
    "duration": 119,
    "start_time": "2022-05-31T09:42:42.431Z"
   },
   {
    "duration": 117,
    "start_time": "2022-05-31T09:42:42.551Z"
   },
   {
    "duration": 446,
    "start_time": "2022-05-31T09:42:42.670Z"
   },
   {
    "duration": 91,
    "start_time": "2022-05-31T09:42:43.117Z"
   },
   {
    "duration": 41,
    "start_time": "2022-05-31T09:42:43.210Z"
   },
   {
    "duration": 5,
    "start_time": "2022-05-31T09:42:43.253Z"
   },
   {
    "duration": 40,
    "start_time": "2022-05-31T09:42:43.259Z"
   },
   {
    "duration": 4663,
    "start_time": "2022-05-31T09:42:43.302Z"
   },
   {
    "duration": 111,
    "start_time": "2022-05-31T09:42:47.967Z"
   },
   {
    "duration": 9,
    "start_time": "2022-05-31T09:42:48.079Z"
   },
   {
    "duration": 43,
    "start_time": "2022-05-31T09:42:48.090Z"
   },
   {
    "duration": 64,
    "start_time": "2022-05-31T09:42:48.135Z"
   },
   {
    "duration": 238,
    "start_time": "2022-05-31T09:42:48.200Z"
   },
   {
    "duration": 32,
    "start_time": "2022-05-31T09:42:48.440Z"
   },
   {
    "duration": 31,
    "start_time": "2022-05-31T09:42:48.474Z"
   },
   {
    "duration": 38,
    "start_time": "2022-05-31T09:42:48.526Z"
   },
   {
    "duration": 72,
    "start_time": "2022-05-31T09:42:48.566Z"
   },
   {
    "duration": 3563,
    "start_time": "2022-05-31T09:42:48.639Z"
   },
   {
    "duration": 3,
    "start_time": "2022-05-31T09:42:52.204Z"
   },
   {
    "duration": 63,
    "start_time": "2022-05-31T09:42:52.208Z"
   },
   {
    "duration": 798,
    "start_time": "2022-05-31T09:42:52.273Z"
   },
   {
    "duration": 3,
    "start_time": "2022-05-31T09:42:53.073Z"
   },
   {
    "duration": 5,
    "start_time": "2022-05-31T09:43:13.798Z"
   },
   {
    "duration": 4,
    "start_time": "2022-05-31T09:43:55.153Z"
   },
   {
    "duration": 7,
    "start_time": "2022-05-31T09:44:37.650Z"
   },
   {
    "duration": 826,
    "start_time": "2022-05-31T09:44:37.659Z"
   },
   {
    "duration": 122,
    "start_time": "2022-05-31T09:44:38.487Z"
   },
   {
    "duration": 125,
    "start_time": "2022-05-31T09:44:38.612Z"
   },
   {
    "duration": 412,
    "start_time": "2022-05-31T09:44:38.738Z"
   },
   {
    "duration": 100,
    "start_time": "2022-05-31T09:44:39.152Z"
   },
   {
    "duration": 35,
    "start_time": "2022-05-31T09:44:39.255Z"
   },
   {
    "duration": 31,
    "start_time": "2022-05-31T09:44:39.292Z"
   },
   {
    "duration": 50,
    "start_time": "2022-05-31T09:44:39.326Z"
   },
   {
    "duration": 4565,
    "start_time": "2022-05-31T09:44:39.380Z"
   },
   {
    "duration": 92,
    "start_time": "2022-05-31T09:44:43.947Z"
   },
   {
    "duration": 9,
    "start_time": "2022-05-31T09:44:44.041Z"
   },
   {
    "duration": 42,
    "start_time": "2022-05-31T09:44:44.052Z"
   },
   {
    "duration": 63,
    "start_time": "2022-05-31T09:44:44.096Z"
   },
   {
    "duration": 209,
    "start_time": "2022-05-31T09:44:44.161Z"
   },
   {
    "duration": 30,
    "start_time": "2022-05-31T09:44:44.372Z"
   },
   {
    "duration": 35,
    "start_time": "2022-05-31T09:44:44.403Z"
   },
   {
    "duration": 38,
    "start_time": "2022-05-31T09:44:44.440Z"
   },
   {
    "duration": 78,
    "start_time": "2022-05-31T09:44:44.480Z"
   },
   {
    "duration": 3845,
    "start_time": "2022-05-31T09:44:44.560Z"
   },
   {
    "duration": 3,
    "start_time": "2022-05-31T09:44:48.406Z"
   },
   {
    "duration": 63,
    "start_time": "2022-05-31T09:44:48.410Z"
   },
   {
    "duration": 757,
    "start_time": "2022-05-31T09:44:48.475Z"
   },
   {
    "duration": 4,
    "start_time": "2022-05-31T09:44:49.234Z"
   },
   {
    "duration": 4,
    "start_time": "2022-05-31T09:45:00.063Z"
   },
   {
    "duration": 5,
    "start_time": "2022-05-31T09:46:15.175Z"
   },
   {
    "duration": 163859,
    "start_time": "2022-05-31T09:46:40.897Z"
   },
   {
    "duration": 1043,
    "start_time": "2022-05-31T10:00:22.113Z"
   },
   {
    "duration": 32,
    "start_time": "2022-05-31T10:01:04.187Z"
   },
   {
    "duration": 26,
    "start_time": "2022-05-31T10:01:12.620Z"
   },
   {
    "duration": 944,
    "start_time": "2022-05-31T10:01:20.512Z"
   },
   {
    "duration": 4,
    "start_time": "2022-05-31T10:03:27.150Z"
   },
   {
    "duration": 22027,
    "start_time": "2022-05-31T10:04:33.312Z"
   },
   {
    "duration": 54,
    "start_time": "2022-05-31T10:05:23.750Z"
   },
   {
    "duration": 33,
    "start_time": "2022-05-31T10:05:31.502Z"
   },
   {
    "duration": 12,
    "start_time": "2022-05-31T10:06:34.532Z"
   },
   {
    "duration": 15,
    "start_time": "2022-05-31T10:06:55.513Z"
   },
   {
    "duration": 28,
    "start_time": "2022-05-31T10:07:16.082Z"
   },
   {
    "duration": 36,
    "start_time": "2022-05-31T10:07:33.229Z"
   },
   {
    "duration": 29,
    "start_time": "2022-05-31T10:08:37.329Z"
   },
   {
    "duration": 26,
    "start_time": "2022-05-31T10:09:46.771Z"
   },
   {
    "duration": 1754930,
    "start_time": "2022-05-31T10:10:14.109Z"
   },
   {
    "duration": 5,
    "start_time": "2022-05-31T13:12:47.819Z"
   },
   {
    "duration": 1059,
    "start_time": "2022-05-31T13:12:51.387Z"
   },
   {
    "duration": 116,
    "start_time": "2022-05-31T13:12:53.939Z"
   },
   {
    "duration": 149,
    "start_time": "2022-05-31T13:12:54.476Z"
   },
   {
    "duration": 399,
    "start_time": "2022-05-31T13:12:54.986Z"
   },
   {
    "duration": 93,
    "start_time": "2022-05-31T13:12:55.395Z"
   },
   {
    "duration": 31,
    "start_time": "2022-05-31T13:12:55.802Z"
   },
   {
    "duration": 7,
    "start_time": "2022-05-31T13:12:57.085Z"
   },
   {
    "duration": 32,
    "start_time": "2022-05-31T13:12:57.547Z"
   },
   {
    "duration": 4850,
    "start_time": "2022-05-31T13:12:57.954Z"
   },
   {
    "duration": 91,
    "start_time": "2022-05-31T13:13:02.807Z"
   },
   {
    "duration": 10,
    "start_time": "2022-05-31T13:13:02.900Z"
   },
   {
    "duration": 30,
    "start_time": "2022-05-31T13:13:03.163Z"
   },
   {
    "duration": 69,
    "start_time": "2022-05-31T13:13:03.764Z"
   },
   {
    "duration": 211,
    "start_time": "2022-05-31T13:13:04.301Z"
   },
   {
    "duration": 31,
    "start_time": "2022-05-31T13:13:05.383Z"
   },
   {
    "duration": 23,
    "start_time": "2022-05-31T13:13:05.940Z"
   },
   {
    "duration": 34,
    "start_time": "2022-05-31T13:13:08.338Z"
   },
   {
    "duration": 60,
    "start_time": "2022-05-31T13:13:09.436Z"
   },
   {
    "duration": 3833,
    "start_time": "2022-05-31T13:13:11.760Z"
   },
   {
    "duration": 3,
    "start_time": "2022-05-31T13:13:15.595Z"
   },
   {
    "duration": 77,
    "start_time": "2022-05-31T13:13:15.599Z"
   },
   {
    "duration": 1076,
    "start_time": "2022-05-31T13:13:15.678Z"
   },
   {
    "duration": 4,
    "start_time": "2022-05-31T13:13:19.691Z"
   },
   {
    "duration": 54,
    "start_time": "2022-05-31T13:13:48.039Z"
   },
   {
    "duration": 24,
    "start_time": "2022-05-31T13:14:19.870Z"
   },
   {
    "duration": 32,
    "start_time": "2022-05-31T13:14:46.765Z"
   },
   {
    "duration": 2129,
    "start_time": "2022-05-31T13:15:34.858Z"
   },
   {
    "duration": 955,
    "start_time": "2022-05-31T13:15:40.004Z"
   },
   {
    "duration": 130,
    "start_time": "2022-05-31T13:15:40.962Z"
   },
   {
    "duration": 149,
    "start_time": "2022-05-31T13:15:41.094Z"
   },
   {
    "duration": 483,
    "start_time": "2022-05-31T13:15:41.433Z"
   },
   {
    "duration": 103,
    "start_time": "2022-05-31T13:15:42.156Z"
   },
   {
    "duration": 33,
    "start_time": "2022-05-31T13:15:42.785Z"
   },
   {
    "duration": 7,
    "start_time": "2022-05-31T13:15:44.346Z"
   },
   {
    "duration": 27,
    "start_time": "2022-05-31T13:15:44.702Z"
   },
   {
    "duration": 4951,
    "start_time": "2022-05-31T13:15:45.102Z"
   },
   {
    "duration": 126,
    "start_time": "2022-05-31T13:15:50.056Z"
   },
   {
    "duration": 9,
    "start_time": "2022-05-31T13:15:50.184Z"
   },
   {
    "duration": 49,
    "start_time": "2022-05-31T13:15:50.195Z"
   },
   {
    "duration": 66,
    "start_time": "2022-05-31T13:15:50.248Z"
   },
   {
    "duration": 250,
    "start_time": "2022-05-31T13:15:50.328Z"
   },
   {
    "duration": 52,
    "start_time": "2022-05-31T13:15:50.579Z"
   },
   {
    "duration": 35,
    "start_time": "2022-05-31T13:15:50.633Z"
   },
   {
    "duration": 58,
    "start_time": "2022-05-31T13:15:50.811Z"
   },
   {
    "duration": 59,
    "start_time": "2022-05-31T13:15:51.535Z"
   },
   {
    "duration": 4158,
    "start_time": "2022-05-31T13:15:53.305Z"
   },
   {
    "duration": 4,
    "start_time": "2022-05-31T13:15:57.465Z"
   },
   {
    "duration": 79,
    "start_time": "2022-05-31T13:15:57.470Z"
   },
   {
    "duration": 853,
    "start_time": "2022-05-31T13:15:57.551Z"
   },
   {
    "duration": 3,
    "start_time": "2022-05-31T13:16:00.373Z"
   },
   {
    "duration": 6,
    "start_time": "2022-05-31T13:16:00.923Z"
   },
   {
    "duration": 8,
    "start_time": "2022-05-31T13:16:11.767Z"
   },
   {
    "duration": 6,
    "start_time": "2022-05-31T13:16:51.366Z"
   },
   {
    "duration": 2925,
    "start_time": "2022-05-31T13:16:51.374Z"
   },
   {
    "duration": 0,
    "start_time": "2022-05-31T13:16:54.301Z"
   },
   {
    "duration": 0,
    "start_time": "2022-05-31T13:16:54.302Z"
   },
   {
    "duration": 0,
    "start_time": "2022-05-31T13:16:54.303Z"
   },
   {
    "duration": 0,
    "start_time": "2022-05-31T13:16:54.304Z"
   },
   {
    "duration": 0,
    "start_time": "2022-05-31T13:16:54.305Z"
   },
   {
    "duration": 0,
    "start_time": "2022-05-31T13:16:54.306Z"
   },
   {
    "duration": 0,
    "start_time": "2022-05-31T13:16:54.307Z"
   },
   {
    "duration": 0,
    "start_time": "2022-05-31T13:16:54.308Z"
   },
   {
    "duration": 0,
    "start_time": "2022-05-31T13:16:54.309Z"
   },
   {
    "duration": 0,
    "start_time": "2022-05-31T13:16:54.309Z"
   },
   {
    "duration": 0,
    "start_time": "2022-05-31T13:16:54.310Z"
   },
   {
    "duration": 0,
    "start_time": "2022-05-31T13:16:54.311Z"
   },
   {
    "duration": 0,
    "start_time": "2022-05-31T13:16:54.312Z"
   },
   {
    "duration": 1,
    "start_time": "2022-05-31T13:16:54.313Z"
   },
   {
    "duration": 0,
    "start_time": "2022-05-31T13:16:54.314Z"
   },
   {
    "duration": 0,
    "start_time": "2022-05-31T13:16:54.327Z"
   },
   {
    "duration": 0,
    "start_time": "2022-05-31T13:16:54.329Z"
   },
   {
    "duration": 0,
    "start_time": "2022-05-31T13:16:54.330Z"
   },
   {
    "duration": 0,
    "start_time": "2022-05-31T13:16:54.331Z"
   },
   {
    "duration": 0,
    "start_time": "2022-05-31T13:16:54.332Z"
   },
   {
    "duration": 0,
    "start_time": "2022-05-31T13:16:54.333Z"
   },
   {
    "duration": 7,
    "start_time": "2022-05-31T13:17:13.931Z"
   },
   {
    "duration": 921,
    "start_time": "2022-05-31T13:17:13.941Z"
   },
   {
    "duration": 191,
    "start_time": "2022-05-31T13:17:14.864Z"
   },
   {
    "duration": 124,
    "start_time": "2022-05-31T13:17:15.058Z"
   },
   {
    "duration": 453,
    "start_time": "2022-05-31T13:17:15.184Z"
   },
   {
    "duration": 99,
    "start_time": "2022-05-31T13:17:15.639Z"
   },
   {
    "duration": 34,
    "start_time": "2022-05-31T13:17:15.740Z"
   },
   {
    "duration": 7,
    "start_time": "2022-05-31T13:17:15.776Z"
   },
   {
    "duration": 59,
    "start_time": "2022-05-31T13:17:15.784Z"
   },
   {
    "duration": 5191,
    "start_time": "2022-05-31T13:17:15.845Z"
   },
   {
    "duration": 102,
    "start_time": "2022-05-31T13:17:21.038Z"
   },
   {
    "duration": 10,
    "start_time": "2022-05-31T13:17:21.144Z"
   },
   {
    "duration": 31,
    "start_time": "2022-05-31T13:17:21.156Z"
   },
   {
    "duration": 76,
    "start_time": "2022-05-31T13:17:21.189Z"
   },
   {
    "duration": 240,
    "start_time": "2022-05-31T13:17:21.268Z"
   },
   {
    "duration": 38,
    "start_time": "2022-05-31T13:17:21.510Z"
   },
   {
    "duration": 23,
    "start_time": "2022-05-31T13:17:21.549Z"
   },
   {
    "duration": 57,
    "start_time": "2022-05-31T13:17:21.573Z"
   },
   {
    "duration": 55,
    "start_time": "2022-05-31T13:17:21.632Z"
   },
   {
    "duration": 4138,
    "start_time": "2022-05-31T13:17:21.689Z"
   },
   {
    "duration": 3,
    "start_time": "2022-05-31T13:17:25.829Z"
   },
   {
    "duration": 73,
    "start_time": "2022-05-31T13:17:25.834Z"
   },
   {
    "duration": 1221,
    "start_time": "2022-05-31T13:17:25.909Z"
   },
   {
    "duration": 5,
    "start_time": "2022-05-31T13:17:27.132Z"
   },
   {
    "duration": 7,
    "start_time": "2022-05-31T13:17:29.673Z"
   },
   {
    "duration": 100721,
    "start_time": "2022-05-31T13:17:32.325Z"
   },
   {
    "duration": 2150,
    "start_time": "2022-05-31T13:20:37.865Z"
   },
   {
    "duration": 1405,
    "start_time": "2022-05-31T13:20:40.016Z"
   },
   {
    "duration": 160,
    "start_time": "2022-05-31T13:20:41.423Z"
   },
   {
    "duration": 137,
    "start_time": "2022-05-31T13:20:41.585Z"
   },
   {
    "duration": 507,
    "start_time": "2022-05-31T13:20:41.729Z"
   },
   {
    "duration": 102,
    "start_time": "2022-05-31T13:20:42.238Z"
   },
   {
    "duration": 39,
    "start_time": "2022-05-31T13:20:42.343Z"
   },
   {
    "duration": 6,
    "start_time": "2022-05-31T13:20:42.384Z"
   },
   {
    "duration": 52,
    "start_time": "2022-05-31T13:20:42.392Z"
   },
   {
    "duration": 6190,
    "start_time": "2022-05-31T13:20:42.448Z"
   },
   {
    "duration": 138,
    "start_time": "2022-05-31T13:20:48.639Z"
   },
   {
    "duration": 11,
    "start_time": "2022-05-31T13:20:48.778Z"
   },
   {
    "duration": 44,
    "start_time": "2022-05-31T13:20:48.791Z"
   },
   {
    "duration": 92,
    "start_time": "2022-05-31T13:20:48.836Z"
   },
   {
    "duration": 406,
    "start_time": "2022-05-31T13:20:48.930Z"
   },
   {
    "duration": 47,
    "start_time": "2022-05-31T13:20:49.340Z"
   },
   {
    "duration": 40,
    "start_time": "2022-05-31T13:20:49.390Z"
   },
   {
    "duration": 47,
    "start_time": "2022-05-31T13:20:49.434Z"
   },
   {
    "duration": 88,
    "start_time": "2022-05-31T13:20:49.483Z"
   },
   {
    "duration": 4600,
    "start_time": "2022-05-31T13:20:49.573Z"
   },
   {
    "duration": 3,
    "start_time": "2022-05-31T13:20:54.175Z"
   },
   {
    "duration": 90,
    "start_time": "2022-05-31T13:20:54.180Z"
   },
   {
    "duration": 888,
    "start_time": "2022-05-31T13:20:54.272Z"
   },
   {
    "duration": 2,
    "start_time": "2022-05-31T13:20:55.162Z"
   },
   {
    "duration": 5,
    "start_time": "2022-05-31T13:20:58.755Z"
   },
   {
    "duration": 548677,
    "start_time": "2022-05-31T13:21:28.223Z"
   },
   {
    "duration": 37,
    "start_time": "2022-05-31T13:37:17.808Z"
   },
   {
    "duration": 165,
    "start_time": "2022-05-31T13:37:25.044Z"
   },
   {
    "duration": 1619453,
    "start_time": "2022-05-31T13:37:54.023Z"
   },
   {
    "duration": 0,
    "start_time": "2022-05-31T14:04:53.479Z"
   },
   {
    "duration": 1774,
    "start_time": "2022-05-31T14:05:20.391Z"
   },
   {
    "duration": 1280,
    "start_time": "2022-05-31T14:05:22.167Z"
   },
   {
    "duration": 128,
    "start_time": "2022-05-31T14:05:23.449Z"
   },
   {
    "duration": 141,
    "start_time": "2022-05-31T14:05:23.579Z"
   },
   {
    "duration": 526,
    "start_time": "2022-05-31T14:05:23.722Z"
   },
   {
    "duration": 126,
    "start_time": "2022-05-31T14:05:24.250Z"
   },
   {
    "duration": 36,
    "start_time": "2022-05-31T14:05:24.377Z"
   },
   {
    "duration": 18,
    "start_time": "2022-05-31T14:05:24.415Z"
   },
   {
    "duration": 44,
    "start_time": "2022-05-31T14:05:24.440Z"
   },
   {
    "duration": 4966,
    "start_time": "2022-05-31T14:05:24.487Z"
   },
   {
    "duration": 112,
    "start_time": "2022-05-31T14:05:29.455Z"
   },
   {
    "duration": 10,
    "start_time": "2022-05-31T14:05:29.568Z"
   },
   {
    "duration": 33,
    "start_time": "2022-05-31T14:05:29.580Z"
   },
   {
    "duration": 74,
    "start_time": "2022-05-31T14:05:29.615Z"
   },
   {
    "duration": 232,
    "start_time": "2022-05-31T14:05:29.690Z"
   },
   {
    "duration": 40,
    "start_time": "2022-05-31T14:05:29.927Z"
   },
   {
    "duration": 40,
    "start_time": "2022-05-31T14:05:29.968Z"
   },
   {
    "duration": 61,
    "start_time": "2022-05-31T14:05:30.011Z"
   },
   {
    "duration": 78,
    "start_time": "2022-05-31T14:05:30.074Z"
   },
   {
    "duration": 4057,
    "start_time": "2022-05-31T14:05:30.154Z"
   },
   {
    "duration": 3,
    "start_time": "2022-05-31T14:05:34.212Z"
   },
   {
    "duration": 71,
    "start_time": "2022-05-31T14:05:34.217Z"
   },
   {
    "duration": 869,
    "start_time": "2022-05-31T14:05:34.290Z"
   },
   {
    "duration": 3,
    "start_time": "2022-05-31T14:05:35.161Z"
   },
   {
    "duration": 139,
    "start_time": "2022-05-31T14:05:35.166Z"
   },
   {
    "duration": 1175838,
    "start_time": "2022-05-31T14:05:48.165Z"
   },
   {
    "duration": 6,
    "start_time": "2022-05-31T14:25:46.165Z"
   },
   {
    "duration": 952,
    "start_time": "2022-05-31T14:25:46.174Z"
   },
   {
    "duration": 166,
    "start_time": "2022-05-31T14:25:47.130Z"
   },
   {
    "duration": 146,
    "start_time": "2022-05-31T14:25:47.298Z"
   },
   {
    "duration": 467,
    "start_time": "2022-05-31T14:25:47.447Z"
   },
   {
    "duration": 95,
    "start_time": "2022-05-31T14:25:47.915Z"
   },
   {
    "duration": 46,
    "start_time": "2022-05-31T14:25:48.011Z"
   },
   {
    "duration": 6,
    "start_time": "2022-05-31T14:25:48.058Z"
   },
   {
    "duration": 30,
    "start_time": "2022-05-31T14:25:48.066Z"
   },
   {
    "duration": 4835,
    "start_time": "2022-05-31T14:25:48.099Z"
   },
   {
    "duration": 94,
    "start_time": "2022-05-31T14:25:52.946Z"
   },
   {
    "duration": 9,
    "start_time": "2022-05-31T14:25:53.042Z"
   },
   {
    "duration": 31,
    "start_time": "2022-05-31T14:25:53.052Z"
   },
   {
    "duration": 68,
    "start_time": "2022-05-31T14:25:53.084Z"
   },
   {
    "duration": 231,
    "start_time": "2022-05-31T14:25:53.153Z"
   },
   {
    "duration": 29,
    "start_time": "2022-05-31T14:25:53.386Z"
   },
   {
    "duration": 40,
    "start_time": "2022-05-31T14:25:53.417Z"
   },
   {
    "duration": 36,
    "start_time": "2022-05-31T14:25:53.459Z"
   },
   {
    "duration": 195,
    "start_time": "2022-05-31T14:25:53.497Z"
   },
   {
    "duration": 4030,
    "start_time": "2022-05-31T14:25:53.694Z"
   },
   {
    "duration": 2,
    "start_time": "2022-05-31T14:25:57.726Z"
   },
   {
    "duration": 71,
    "start_time": "2022-05-31T14:25:57.736Z"
   },
   {
    "duration": 839,
    "start_time": "2022-05-31T14:25:57.809Z"
   },
   {
    "duration": 3,
    "start_time": "2022-05-31T14:25:58.650Z"
   },
   {
    "duration": 335980,
    "start_time": "2022-05-31T14:26:01.837Z"
   },
   {
    "duration": 1477,
    "start_time": "2022-05-31T14:35:04.306Z"
   },
   {
    "duration": 912,
    "start_time": "2022-05-31T14:35:05.785Z"
   },
   {
    "duration": 147,
    "start_time": "2022-05-31T14:35:06.698Z"
   },
   {
    "duration": 134,
    "start_time": "2022-05-31T14:35:06.847Z"
   },
   {
    "duration": 456,
    "start_time": "2022-05-31T14:35:06.984Z"
   },
   {
    "duration": 102,
    "start_time": "2022-05-31T14:35:07.442Z"
   },
   {
    "duration": 28,
    "start_time": "2022-05-31T14:35:07.546Z"
   },
   {
    "duration": 4,
    "start_time": "2022-05-31T14:35:07.576Z"
   },
   {
    "duration": 31,
    "start_time": "2022-05-31T14:35:07.582Z"
   },
   {
    "duration": 5289,
    "start_time": "2022-05-31T14:35:07.615Z"
   },
   {
    "duration": 102,
    "start_time": "2022-05-31T14:35:12.905Z"
   },
   {
    "duration": 9,
    "start_time": "2022-05-31T14:35:13.009Z"
   },
   {
    "duration": 44,
    "start_time": "2022-05-31T14:35:13.019Z"
   },
   {
    "duration": 68,
    "start_time": "2022-05-31T14:35:13.066Z"
   },
   {
    "duration": 251,
    "start_time": "2022-05-31T14:35:13.136Z"
   },
   {
    "duration": 55,
    "start_time": "2022-05-31T14:35:13.389Z"
   },
   {
    "duration": 32,
    "start_time": "2022-05-31T14:35:13.446Z"
   },
   {
    "duration": 56,
    "start_time": "2022-05-31T14:35:13.480Z"
   },
   {
    "duration": 54,
    "start_time": "2022-05-31T14:35:13.540Z"
   },
   {
    "duration": 3901,
    "start_time": "2022-05-31T14:35:13.596Z"
   },
   {
    "duration": 3,
    "start_time": "2022-05-31T14:35:17.498Z"
   },
   {
    "duration": 66,
    "start_time": "2022-05-31T14:35:17.502Z"
   },
   {
    "duration": 838,
    "start_time": "2022-05-31T14:35:17.569Z"
   },
   {
    "duration": 2,
    "start_time": "2022-05-31T14:35:18.409Z"
   },
   {
    "duration": 410989,
    "start_time": "2022-05-31T14:35:18.413Z"
   },
   {
    "duration": 137,
    "start_time": "2022-05-31T14:42:09.404Z"
   },
   {
    "duration": 0,
    "start_time": "2022-05-31T14:42:09.546Z"
   },
   {
    "duration": 0,
    "start_time": "2022-05-31T14:42:09.549Z"
   },
   {
    "duration": 0,
    "start_time": "2022-05-31T14:42:09.551Z"
   },
   {
    "duration": 0,
    "start_time": "2022-05-31T14:42:09.552Z"
   },
   {
    "duration": 0,
    "start_time": "2022-05-31T14:42:09.553Z"
   },
   {
    "duration": 0,
    "start_time": "2022-05-31T14:42:09.554Z"
   },
   {
    "duration": 408791,
    "start_time": "2022-05-31T14:46:54.344Z"
   },
   {
    "duration": 1340,
    "start_time": "2022-05-31T15:48:35.524Z"
   },
   {
    "duration": 774,
    "start_time": "2022-05-31T15:48:36.866Z"
   },
   {
    "duration": 124,
    "start_time": "2022-05-31T15:48:37.642Z"
   },
   {
    "duration": 119,
    "start_time": "2022-05-31T15:48:37.768Z"
   },
   {
    "duration": 434,
    "start_time": "2022-05-31T15:48:37.889Z"
   },
   {
    "duration": 92,
    "start_time": "2022-05-31T15:48:38.327Z"
   },
   {
    "duration": 39,
    "start_time": "2022-05-31T15:48:38.420Z"
   },
   {
    "duration": 6,
    "start_time": "2022-05-31T15:48:38.460Z"
   },
   {
    "duration": 31,
    "start_time": "2022-05-31T15:48:38.468Z"
   },
   {
    "duration": 4620,
    "start_time": "2022-05-31T15:48:38.501Z"
   },
   {
    "duration": 108,
    "start_time": "2022-05-31T15:48:43.123Z"
   },
   {
    "duration": 8,
    "start_time": "2022-05-31T15:48:43.233Z"
   },
   {
    "duration": 38,
    "start_time": "2022-05-31T15:48:43.242Z"
   },
   {
    "duration": 78,
    "start_time": "2022-05-31T15:48:43.283Z"
   },
   {
    "duration": 210,
    "start_time": "2022-05-31T15:48:43.362Z"
   },
   {
    "duration": 33,
    "start_time": "2022-05-31T15:48:43.574Z"
   },
   {
    "duration": 35,
    "start_time": "2022-05-31T15:48:43.609Z"
   },
   {
    "duration": 37,
    "start_time": "2022-05-31T15:48:43.645Z"
   },
   {
    "duration": 70,
    "start_time": "2022-05-31T15:48:43.684Z"
   },
   {
    "duration": 3741,
    "start_time": "2022-05-31T15:48:43.756Z"
   },
   {
    "duration": 4,
    "start_time": "2022-05-31T15:48:47.498Z"
   },
   {
    "duration": 69,
    "start_time": "2022-05-31T15:48:47.504Z"
   },
   {
    "duration": 816,
    "start_time": "2022-05-31T15:48:47.575Z"
   },
   {
    "duration": 4,
    "start_time": "2022-05-31T15:48:51.787Z"
   },
   {
    "duration": 127,
    "start_time": "2022-05-31T15:48:57.304Z"
   },
   {
    "duration": 26,
    "start_time": "2022-05-31T15:49:26.928Z"
   },
   {
    "duration": 0,
    "start_time": "2022-05-31T15:58:38.358Z"
   },
   {
    "duration": 0,
    "start_time": "2022-05-31T15:58:38.362Z"
   },
   {
    "duration": 47,
    "start_time": "2022-05-31T15:58:39.033Z"
   },
   {
    "duration": 68,
    "start_time": "2022-05-31T15:58:39.691Z"
   },
   {
    "duration": 88,
    "start_time": "2022-05-31T15:58:40.223Z"
   },
   {
    "duration": 50,
    "start_time": "2022-05-31T15:58:40.774Z"
   },
   {
    "duration": 384,
    "start_time": "2022-05-31T15:58:41.216Z"
   },
   {
    "duration": 126,
    "start_time": "2022-05-31T15:58:43.637Z"
   },
   {
    "duration": 16,
    "start_time": "2022-05-31T15:58:44.129Z"
   },
   {
    "duration": 1275,
    "start_time": "2022-05-31T15:59:05.083Z"
   },
   {
    "duration": 815,
    "start_time": "2022-05-31T15:59:06.360Z"
   },
   {
    "duration": 133,
    "start_time": "2022-05-31T15:59:07.177Z"
   },
   {
    "duration": 115,
    "start_time": "2022-05-31T15:59:08.216Z"
   },
   {
    "duration": 431,
    "start_time": "2022-05-31T15:59:08.919Z"
   },
   {
    "duration": 95,
    "start_time": "2022-05-31T15:59:09.549Z"
   },
   {
    "duration": 31,
    "start_time": "2022-05-31T15:59:10.270Z"
   },
   {
    "duration": 6,
    "start_time": "2022-05-31T15:59:12.134Z"
   },
   {
    "duration": 26,
    "start_time": "2022-05-31T15:59:12.754Z"
   },
   {
    "duration": 4663,
    "start_time": "2022-05-31T15:59:13.471Z"
   },
   {
    "duration": 104,
    "start_time": "2022-05-31T15:59:18.136Z"
   },
   {
    "duration": 9,
    "start_time": "2022-05-31T15:59:18.242Z"
   },
   {
    "duration": 34,
    "start_time": "2022-05-31T15:59:18.253Z"
   },
   {
    "duration": 71,
    "start_time": "2022-05-31T15:59:18.288Z"
   },
   {
    "duration": 203,
    "start_time": "2022-05-31T15:59:18.573Z"
   },
   {
    "duration": 30,
    "start_time": "2022-05-31T15:59:19.889Z"
   },
   {
    "duration": 22,
    "start_time": "2022-05-31T15:59:20.450Z"
   },
   {
    "duration": 32,
    "start_time": "2022-05-31T15:59:22.401Z"
   },
   {
    "duration": 54,
    "start_time": "2022-05-31T15:59:23.505Z"
   },
   {
    "duration": 3613,
    "start_time": "2022-05-31T15:59:26.264Z"
   },
   {
    "duration": 3,
    "start_time": "2022-05-31T15:59:33.937Z"
   },
   {
    "duration": 51,
    "start_time": "2022-05-31T15:59:34.480Z"
   },
   {
    "duration": 779,
    "start_time": "2022-05-31T15:59:37.144Z"
   },
   {
    "duration": 3,
    "start_time": "2022-05-31T15:59:43.532Z"
   },
   {
    "duration": 159,
    "start_time": "2022-05-31T16:00:08.376Z"
   },
   {
    "duration": 25,
    "start_time": "2022-05-31T16:00:29.874Z"
   },
   {
    "duration": 25,
    "start_time": "2022-05-31T16:00:50.861Z"
   },
   {
    "duration": 23333,
    "start_time": "2022-05-31T16:01:07.694Z"
   },
   {
    "duration": 54189,
    "start_time": "2022-05-31T16:02:57.444Z"
   },
   {
    "duration": 38,
    "start_time": "2022-05-31T16:18:23.513Z"
   },
   {
    "duration": 39506,
    "start_time": "2022-05-31T16:18:32.036Z"
   },
   {
    "duration": 10,
    "start_time": "2022-05-31T16:23:52.238Z"
   },
   {
    "duration": 10,
    "start_time": "2022-05-31T16:24:02.207Z"
   },
   {
    "duration": 4,
    "start_time": "2022-05-31T16:24:13.496Z"
   },
   {
    "duration": 29,
    "start_time": "2022-05-31T16:25:32.354Z"
   },
   {
    "duration": 1281,
    "start_time": "2022-05-31T16:32:11.824Z"
   },
   {
    "duration": 780,
    "start_time": "2022-05-31T16:32:13.107Z"
   },
   {
    "duration": 127,
    "start_time": "2022-05-31T16:32:13.889Z"
   },
   {
    "duration": 146,
    "start_time": "2022-05-31T16:32:14.018Z"
   },
   {
    "duration": 430,
    "start_time": "2022-05-31T16:32:14.166Z"
   },
   {
    "duration": 97,
    "start_time": "2022-05-31T16:32:14.598Z"
   },
   {
    "duration": 41,
    "start_time": "2022-05-31T16:32:14.696Z"
   },
   {
    "duration": 5,
    "start_time": "2022-05-31T16:32:14.739Z"
   },
   {
    "duration": 52,
    "start_time": "2022-05-31T16:32:14.745Z"
   },
   {
    "duration": 4529,
    "start_time": "2022-05-31T16:32:14.799Z"
   },
   {
    "duration": 102,
    "start_time": "2022-05-31T16:32:19.330Z"
   },
   {
    "duration": 8,
    "start_time": "2022-05-31T16:32:19.434Z"
   },
   {
    "duration": 50,
    "start_time": "2022-05-31T16:32:19.444Z"
   },
   {
    "duration": 72,
    "start_time": "2022-05-31T16:32:19.497Z"
   },
   {
    "duration": 206,
    "start_time": "2022-05-31T16:32:19.572Z"
   },
   {
    "duration": 31,
    "start_time": "2022-05-31T16:32:19.779Z"
   },
   {
    "duration": 34,
    "start_time": "2022-05-31T16:32:19.812Z"
   },
   {
    "duration": 55,
    "start_time": "2022-05-31T16:32:19.848Z"
   },
   {
    "duration": 51,
    "start_time": "2022-05-31T16:32:19.905Z"
   },
   {
    "duration": 3562,
    "start_time": "2022-05-31T16:32:19.958Z"
   },
   {
    "duration": 3,
    "start_time": "2022-05-31T16:32:35.247Z"
   },
   {
    "duration": 48,
    "start_time": "2022-05-31T16:32:35.846Z"
   },
   {
    "duration": 739,
    "start_time": "2022-05-31T16:32:36.452Z"
   },
   {
    "duration": 2,
    "start_time": "2022-05-31T16:32:39.519Z"
   },
   {
    "duration": 5,
    "start_time": "2022-05-31T16:32:44.859Z"
   },
   {
    "duration": 640083,
    "start_time": "2022-05-31T16:33:07.746Z"
   },
   {
    "duration": 1327,
    "start_time": "2022-05-31T17:34:58.194Z"
   },
   {
    "duration": 788,
    "start_time": "2022-05-31T17:34:59.523Z"
   },
   {
    "duration": 125,
    "start_time": "2022-05-31T17:35:00.313Z"
   },
   {
    "duration": 114,
    "start_time": "2022-05-31T17:35:00.440Z"
   },
   {
    "duration": 451,
    "start_time": "2022-05-31T17:35:00.556Z"
   },
   {
    "duration": 99,
    "start_time": "2022-05-31T17:35:01.008Z"
   },
   {
    "duration": 47,
    "start_time": "2022-05-31T17:35:01.109Z"
   },
   {
    "duration": 5,
    "start_time": "2022-05-31T17:35:01.157Z"
   },
   {
    "duration": 31,
    "start_time": "2022-05-31T17:35:01.163Z"
   },
   {
    "duration": 4770,
    "start_time": "2022-05-31T17:35:01.196Z"
   },
   {
    "duration": 115,
    "start_time": "2022-05-31T17:35:05.968Z"
   },
   {
    "duration": 9,
    "start_time": "2022-05-31T17:35:06.085Z"
   },
   {
    "duration": 41,
    "start_time": "2022-05-31T17:35:06.096Z"
   },
   {
    "duration": 67,
    "start_time": "2022-05-31T17:35:06.140Z"
   },
   {
    "duration": 286,
    "start_time": "2022-05-31T17:35:06.226Z"
   },
   {
    "duration": 48,
    "start_time": "2022-05-31T17:35:06.513Z"
   },
   {
    "duration": 33,
    "start_time": "2022-05-31T17:35:06.562Z"
   },
   {
    "duration": 56,
    "start_time": "2022-05-31T17:35:06.596Z"
   },
   {
    "duration": 52,
    "start_time": "2022-05-31T17:35:06.653Z"
   },
   {
    "duration": 3485,
    "start_time": "2022-05-31T17:35:06.707Z"
   },
   {
    "duration": 2,
    "start_time": "2022-05-31T17:35:10.194Z"
   },
   {
    "duration": 62,
    "start_time": "2022-05-31T17:35:10.198Z"
   },
   {
    "duration": 759,
    "start_time": "2022-05-31T17:35:10.262Z"
   },
   {
    "duration": 4,
    "start_time": "2022-05-31T17:35:11.023Z"
   },
   {
    "duration": 1456,
    "start_time": "2022-06-01T01:03:57.608Z"
   },
   {
    "duration": 5,
    "start_time": "2022-06-01T01:04:03.862Z"
   },
   {
    "duration": 1231,
    "start_time": "2022-06-01T01:04:03.870Z"
   },
   {
    "duration": 147,
    "start_time": "2022-06-01T01:04:05.103Z"
   },
   {
    "duration": 134,
    "start_time": "2022-06-01T01:04:05.252Z"
   },
   {
    "duration": 470,
    "start_time": "2022-06-01T01:04:05.388Z"
   },
   {
    "duration": 109,
    "start_time": "2022-06-01T01:04:05.860Z"
   },
   {
    "duration": 33,
    "start_time": "2022-06-01T01:04:05.970Z"
   },
   {
    "duration": 23,
    "start_time": "2022-06-01T01:04:06.005Z"
   },
   {
    "duration": 56,
    "start_time": "2022-06-01T01:04:06.030Z"
   },
   {
    "duration": 4679,
    "start_time": "2022-06-01T01:04:06.088Z"
   },
   {
    "duration": 100,
    "start_time": "2022-06-01T01:04:10.769Z"
   },
   {
    "duration": 9,
    "start_time": "2022-06-01T01:04:10.871Z"
   },
   {
    "duration": 44,
    "start_time": "2022-06-01T01:04:10.881Z"
   },
   {
    "duration": 68,
    "start_time": "2022-06-01T01:04:10.927Z"
   },
   {
    "duration": 218,
    "start_time": "2022-06-01T01:04:10.997Z"
   },
   {
    "duration": 40,
    "start_time": "2022-06-01T01:04:11.216Z"
   },
   {
    "duration": 21,
    "start_time": "2022-06-01T01:04:11.258Z"
   },
   {
    "duration": 56,
    "start_time": "2022-06-01T01:04:11.281Z"
   },
   {
    "duration": 53,
    "start_time": "2022-06-01T01:04:11.338Z"
   },
   {
    "duration": 3734,
    "start_time": "2022-06-01T01:04:11.393Z"
   },
   {
    "duration": 3,
    "start_time": "2022-06-01T01:04:34.049Z"
   },
   {
    "duration": 51,
    "start_time": "2022-06-01T01:04:34.369Z"
   },
   {
    "duration": 777,
    "start_time": "2022-06-01T01:04:34.929Z"
   },
   {
    "duration": 2,
    "start_time": "2022-06-01T01:04:37.089Z"
   },
   {
    "duration": 1378,
    "start_time": "2022-06-01T03:09:01.283Z"
   },
   {
    "duration": 894,
    "start_time": "2022-06-01T03:09:02.663Z"
   },
   {
    "duration": 126,
    "start_time": "2022-06-01T03:09:03.559Z"
   },
   {
    "duration": 147,
    "start_time": "2022-06-01T03:09:03.687Z"
   },
   {
    "duration": 492,
    "start_time": "2022-06-01T03:09:03.836Z"
   },
   {
    "duration": 106,
    "start_time": "2022-06-01T03:09:04.329Z"
   },
   {
    "duration": 32,
    "start_time": "2022-06-01T03:09:04.437Z"
   },
   {
    "duration": 6,
    "start_time": "2022-06-01T03:09:04.471Z"
   },
   {
    "duration": 49,
    "start_time": "2022-06-01T03:09:04.479Z"
   },
   {
    "duration": 5128,
    "start_time": "2022-06-01T03:09:04.530Z"
   },
   {
    "duration": 123,
    "start_time": "2022-06-01T03:09:09.660Z"
   },
   {
    "duration": 11,
    "start_time": "2022-06-01T03:09:09.785Z"
   },
   {
    "duration": 53,
    "start_time": "2022-06-01T03:09:09.798Z"
   },
   {
    "duration": 62,
    "start_time": "2022-06-01T03:09:09.855Z"
   },
   {
    "duration": 245,
    "start_time": "2022-06-01T03:09:09.937Z"
   },
   {
    "duration": 52,
    "start_time": "2022-06-01T03:09:10.184Z"
   },
   {
    "duration": 39,
    "start_time": "2022-06-01T03:09:10.239Z"
   },
   {
    "duration": 58,
    "start_time": "2022-06-01T03:09:10.280Z"
   },
   {
    "duration": 62,
    "start_time": "2022-06-01T03:09:10.341Z"
   },
   {
    "duration": 3847,
    "start_time": "2022-06-01T03:09:10.404Z"
   },
   {
    "duration": 3,
    "start_time": "2022-06-01T03:09:14.253Z"
   },
   {
    "duration": 68,
    "start_time": "2022-06-01T03:09:14.258Z"
   },
   {
    "duration": 847,
    "start_time": "2022-06-01T03:09:14.329Z"
   },
   {
    "duration": 2,
    "start_time": "2022-06-01T03:09:15.178Z"
   },
   {
    "duration": 307039,
    "start_time": "2022-06-01T03:09:15.182Z"
   },
   {
    "duration": 1378,
    "start_time": "2022-06-01T03:15:05.857Z"
   },
   {
    "duration": 825,
    "start_time": "2022-06-01T03:15:07.237Z"
   },
   {
    "duration": 127,
    "start_time": "2022-06-01T03:15:08.064Z"
   },
   {
    "duration": 119,
    "start_time": "2022-06-01T03:15:08.193Z"
   },
   {
    "duration": 457,
    "start_time": "2022-06-01T03:15:08.315Z"
   },
   {
    "duration": 110,
    "start_time": "2022-06-01T03:15:08.774Z"
   },
   {
    "duration": 41,
    "start_time": "2022-06-01T03:15:08.886Z"
   },
   {
    "duration": 5,
    "start_time": "2022-06-01T03:15:08.929Z"
   },
   {
    "duration": 55,
    "start_time": "2022-06-01T03:15:08.935Z"
   },
   {
    "duration": 4579,
    "start_time": "2022-06-01T03:15:08.992Z"
   },
   {
    "duration": 101,
    "start_time": "2022-06-01T03:15:13.572Z"
   },
   {
    "duration": 9,
    "start_time": "2022-06-01T03:15:13.675Z"
   },
   {
    "duration": 41,
    "start_time": "2022-06-01T03:15:13.686Z"
   },
   {
    "duration": 59,
    "start_time": "2022-06-01T03:15:13.729Z"
   },
   {
    "duration": 232,
    "start_time": "2022-06-01T03:15:13.790Z"
   },
   {
    "duration": 32,
    "start_time": "2022-06-01T03:15:14.027Z"
   },
   {
    "duration": 25,
    "start_time": "2022-06-01T03:15:14.061Z"
   },
   {
    "duration": 55,
    "start_time": "2022-06-01T03:15:14.087Z"
   },
   {
    "duration": 53,
    "start_time": "2022-06-01T03:15:14.144Z"
   },
   {
    "duration": 3722,
    "start_time": "2022-06-01T03:15:14.198Z"
   },
   {
    "duration": 6,
    "start_time": "2022-06-01T03:15:17.922Z"
   },
   {
    "duration": 90,
    "start_time": "2022-06-01T03:15:17.929Z"
   },
   {
    "duration": 798,
    "start_time": "2022-06-01T03:15:18.020Z"
   },
   {
    "duration": 7,
    "start_time": "2022-06-01T03:15:18.820Z"
   },
   {
    "duration": 147961,
    "start_time": "2022-06-01T03:15:25.425Z"
   },
   {
    "duration": 23438,
    "start_time": "2022-06-01T03:17:53.388Z"
   },
   {
    "duration": 125,
    "start_time": "2022-06-01T03:18:16.827Z"
   },
   {
    "duration": 12,
    "start_time": "2022-06-01T03:33:33.959Z"
   },
   {
    "duration": 13,
    "start_time": "2022-06-01T03:33:46.194Z"
   },
   {
    "duration": 5,
    "start_time": "2022-06-01T03:34:03.385Z"
   },
   {
    "duration": 13,
    "start_time": "2022-06-01T03:34:12.731Z"
   },
   {
    "duration": 11,
    "start_time": "2022-06-01T03:34:21.998Z"
   },
   {
    "duration": 17,
    "start_time": "2022-06-01T03:34:37.827Z"
   },
   {
    "duration": 15,
    "start_time": "2022-06-01T03:34:56.445Z"
   },
   {
    "duration": 24,
    "start_time": "2022-06-01T03:58:57.315Z"
   },
   {
    "duration": 4316,
    "start_time": "2022-06-01T03:59:31.326Z"
   },
   {
    "duration": 7841,
    "start_time": "2022-06-01T04:03:46.099Z"
   },
   {
    "duration": 89800,
    "start_time": "2022-06-01T04:07:51.938Z"
   },
   {
    "duration": 362,
    "start_time": "2022-06-01T04:09:21.740Z"
   },
   {
    "duration": 24,
    "start_time": "2022-06-01T04:12:25.794Z"
   },
   {
    "duration": 35,
    "start_time": "2022-06-01T04:13:52.304Z"
   },
   {
    "duration": 15,
    "start_time": "2022-06-01T04:14:31.729Z"
   },
   {
    "duration": 6,
    "start_time": "2022-06-01T04:24:05.547Z"
   },
   {
    "duration": 836,
    "start_time": "2022-06-01T04:24:05.555Z"
   },
   {
    "duration": 165,
    "start_time": "2022-06-01T04:24:06.393Z"
   },
   {
    "duration": 124,
    "start_time": "2022-06-01T04:24:06.560Z"
   },
   {
    "duration": 384,
    "start_time": "2022-06-01T04:24:06.687Z"
   },
   {
    "duration": 97,
    "start_time": "2022-06-01T04:24:07.073Z"
   },
   {
    "duration": 31,
    "start_time": "2022-06-01T04:24:07.172Z"
   },
   {
    "duration": 14,
    "start_time": "2022-06-01T04:24:07.204Z"
   },
   {
    "duration": 46,
    "start_time": "2022-06-01T04:24:07.219Z"
   },
   {
    "duration": 5056,
    "start_time": "2022-06-01T04:24:07.267Z"
   },
   {
    "duration": 81,
    "start_time": "2022-06-01T04:24:12.326Z"
   },
   {
    "duration": 19,
    "start_time": "2022-06-01T04:24:12.409Z"
   },
   {
    "duration": 30,
    "start_time": "2022-06-01T04:24:12.430Z"
   },
   {
    "duration": 69,
    "start_time": "2022-06-01T04:24:12.463Z"
   },
   {
    "duration": 220,
    "start_time": "2022-06-01T04:24:12.534Z"
   },
   {
    "duration": 32,
    "start_time": "2022-06-01T04:24:12.755Z"
   },
   {
    "duration": 38,
    "start_time": "2022-06-01T04:24:12.789Z"
   },
   {
    "duration": 35,
    "start_time": "2022-06-01T04:24:12.829Z"
   },
   {
    "duration": 71,
    "start_time": "2022-06-01T04:24:12.866Z"
   },
   {
    "duration": 3744,
    "start_time": "2022-06-01T04:24:12.938Z"
   },
   {
    "duration": 3,
    "start_time": "2022-06-01T04:24:16.684Z"
   },
   {
    "duration": 65,
    "start_time": "2022-06-01T04:24:16.688Z"
   },
   {
    "duration": 772,
    "start_time": "2022-06-01T04:24:16.755Z"
   },
   {
    "duration": 2,
    "start_time": "2022-06-01T04:24:17.529Z"
   },
   {
    "duration": 303003,
    "start_time": "2022-06-01T04:24:21.676Z"
   },
   {
    "duration": 1361,
    "start_time": "2022-06-01T05:13:37.783Z"
   },
   {
    "duration": 844,
    "start_time": "2022-06-01T05:13:39.145Z"
   },
   {
    "duration": 152,
    "start_time": "2022-06-01T05:13:39.990Z"
   },
   {
    "duration": 123,
    "start_time": "2022-06-01T05:13:40.144Z"
   },
   {
    "duration": 493,
    "start_time": "2022-06-01T05:13:40.270Z"
   },
   {
    "duration": 101,
    "start_time": "2022-06-01T05:13:40.765Z"
   },
   {
    "duration": 35,
    "start_time": "2022-06-01T05:13:40.868Z"
   },
   {
    "duration": 5,
    "start_time": "2022-06-01T05:13:40.904Z"
   },
   {
    "duration": 28,
    "start_time": "2022-06-01T05:13:40.928Z"
   },
   {
    "duration": 4667,
    "start_time": "2022-06-01T05:13:40.958Z"
   },
   {
    "duration": 147,
    "start_time": "2022-06-01T05:13:45.628Z"
   },
   {
    "duration": 11,
    "start_time": "2022-06-01T05:13:45.776Z"
   },
   {
    "duration": 45,
    "start_time": "2022-06-01T05:13:45.789Z"
   },
   {
    "duration": 58,
    "start_time": "2022-06-01T05:13:45.837Z"
   },
   {
    "duration": 325,
    "start_time": "2022-06-01T05:13:45.898Z"
   },
   {
    "duration": 38,
    "start_time": "2022-06-01T05:13:46.227Z"
   },
   {
    "duration": 42,
    "start_time": "2022-06-01T05:13:46.267Z"
   },
   {
    "duration": 51,
    "start_time": "2022-06-01T05:13:46.311Z"
   },
   {
    "duration": 81,
    "start_time": "2022-06-01T05:13:46.364Z"
   },
   {
    "duration": 3798,
    "start_time": "2022-06-01T05:13:46.447Z"
   },
   {
    "duration": 4,
    "start_time": "2022-06-01T05:13:50.247Z"
   },
   {
    "duration": 61,
    "start_time": "2022-06-01T05:13:50.253Z"
   },
   {
    "duration": 833,
    "start_time": "2022-06-01T05:13:50.317Z"
   },
   {
    "duration": 7,
    "start_time": "2022-06-01T05:13:51.152Z"
   },
   {
    "duration": 277899,
    "start_time": "2022-06-01T05:19:04.292Z"
   },
   {
    "duration": 0,
    "start_time": "2022-06-01T05:23:42.193Z"
   },
   {
    "duration": 1351,
    "start_time": "2022-06-01T05:23:56.940Z"
   },
   {
    "duration": 806,
    "start_time": "2022-06-01T05:23:58.293Z"
   },
   {
    "duration": 127,
    "start_time": "2022-06-01T05:23:59.101Z"
   },
   {
    "duration": 126,
    "start_time": "2022-06-01T05:23:59.229Z"
   },
   {
    "duration": 457,
    "start_time": "2022-06-01T05:23:59.357Z"
   },
   {
    "duration": 92,
    "start_time": "2022-06-01T05:23:59.816Z"
   },
   {
    "duration": 45,
    "start_time": "2022-06-01T05:23:59.910Z"
   },
   {
    "duration": 4,
    "start_time": "2022-06-01T05:23:59.957Z"
   },
   {
    "duration": 42,
    "start_time": "2022-06-01T05:23:59.963Z"
   },
   {
    "duration": 4532,
    "start_time": "2022-06-01T05:24:00.007Z"
   },
   {
    "duration": 100,
    "start_time": "2022-06-01T05:24:04.541Z"
   },
   {
    "duration": 10,
    "start_time": "2022-06-01T05:24:04.643Z"
   },
   {
    "duration": 40,
    "start_time": "2022-06-01T05:24:04.654Z"
   },
   {
    "duration": 93,
    "start_time": "2022-06-01T05:24:04.699Z"
   },
   {
    "duration": 225,
    "start_time": "2022-06-01T05:24:04.794Z"
   },
   {
    "duration": 32,
    "start_time": "2022-06-01T05:24:05.026Z"
   },
   {
    "duration": 25,
    "start_time": "2022-06-01T05:24:05.060Z"
   },
   {
    "duration": 84,
    "start_time": "2022-06-01T05:24:05.087Z"
   },
   {
    "duration": 54,
    "start_time": "2022-06-01T05:24:05.173Z"
   },
   {
    "duration": 3763,
    "start_time": "2022-06-01T05:24:05.229Z"
   },
   {
    "duration": 3,
    "start_time": "2022-06-01T05:24:08.993Z"
   },
   {
    "duration": 61,
    "start_time": "2022-06-01T05:24:08.997Z"
   },
   {
    "duration": 803,
    "start_time": "2022-06-01T05:24:09.059Z"
   },
   {
    "duration": 4,
    "start_time": "2022-06-01T05:24:09.863Z"
   },
   {
    "duration": 310761,
    "start_time": "2022-06-01T05:24:19.965Z"
   },
   {
    "duration": 16878,
    "start_time": "2022-06-01T05:30:23.903Z"
   },
   {
    "duration": 194531,
    "start_time": "2022-06-01T05:33:04.105Z"
   },
   {
    "duration": 842398,
    "start_time": "2022-06-01T05:37:45.537Z"
   },
   {
    "duration": 711099,
    "start_time": "2022-06-01T05:56:36.930Z"
   },
   {
    "duration": 888886,
    "start_time": "2022-06-01T06:09:57.258Z"
   },
   {
    "duration": 1433,
    "start_time": "2022-06-01T06:25:18.783Z"
   },
   {
    "duration": 850,
    "start_time": "2022-06-01T06:25:20.218Z"
   },
   {
    "duration": 120,
    "start_time": "2022-06-01T06:25:21.070Z"
   },
   {
    "duration": 149,
    "start_time": "2022-06-01T06:25:21.192Z"
   },
   {
    "duration": 463,
    "start_time": "2022-06-01T06:25:21.344Z"
   },
   {
    "duration": 102,
    "start_time": "2022-06-01T06:25:21.809Z"
   },
   {
    "duration": 54,
    "start_time": "2022-06-01T06:25:21.913Z"
   },
   {
    "duration": 5,
    "start_time": "2022-06-01T06:25:21.969Z"
   },
   {
    "duration": 33,
    "start_time": "2022-06-01T06:25:21.976Z"
   },
   {
    "duration": 5480,
    "start_time": "2022-06-01T06:25:22.011Z"
   },
   {
    "duration": 124,
    "start_time": "2022-06-01T06:25:27.493Z"
   },
   {
    "duration": 15,
    "start_time": "2022-06-01T06:25:27.619Z"
   },
   {
    "duration": 37,
    "start_time": "2022-06-01T06:25:27.636Z"
   },
   {
    "duration": 81,
    "start_time": "2022-06-01T06:25:27.675Z"
   },
   {
    "duration": 243,
    "start_time": "2022-06-01T06:25:27.758Z"
   },
   {
    "duration": 59,
    "start_time": "2022-06-01T06:25:28.002Z"
   },
   {
    "duration": 58,
    "start_time": "2022-06-01T06:25:28.063Z"
   },
   {
    "duration": 61,
    "start_time": "2022-06-01T06:25:28.123Z"
   },
   {
    "duration": 74,
    "start_time": "2022-06-01T06:25:28.189Z"
   },
   {
    "duration": 3971,
    "start_time": "2022-06-01T06:25:28.265Z"
   },
   {
    "duration": 3,
    "start_time": "2022-06-01T06:25:32.238Z"
   },
   {
    "duration": 67,
    "start_time": "2022-06-01T06:25:32.243Z"
   },
   {
    "duration": 844,
    "start_time": "2022-06-01T06:25:32.311Z"
   },
   {
    "duration": 3,
    "start_time": "2022-06-01T06:25:33.157Z"
   },
   {
    "duration": 652178,
    "start_time": "2022-06-01T06:25:38.042Z"
   },
   {
    "duration": 158199,
    "start_time": "2022-06-01T06:38:59.891Z"
   },
   {
    "duration": 25363,
    "start_time": "2022-06-01T06:41:38.092Z"
   },
   {
    "duration": 8,
    "start_time": "2022-06-01T06:42:03.458Z"
   },
   {
    "duration": 1052253,
    "start_time": "2022-06-01T06:43:30.474Z"
   },
   {
    "duration": 12,
    "start_time": "2022-06-01T07:05:27.503Z"
   },
   {
    "duration": 25,
    "start_time": "2022-06-01T07:05:45.882Z"
   },
   {
    "duration": 22,
    "start_time": "2022-06-01T07:05:58.922Z"
   },
   {
    "duration": 4,
    "start_time": "2022-06-01T07:06:26.780Z"
   },
   {
    "duration": 11,
    "start_time": "2022-06-01T07:06:31.344Z"
   },
   {
    "duration": 14,
    "start_time": "2022-06-01T07:06:32.309Z"
   },
   {
    "duration": 1302,
    "start_time": "2022-06-01T07:13:43.499Z"
   },
   {
    "duration": 792,
    "start_time": "2022-06-01T07:13:44.803Z"
   },
   {
    "duration": 137,
    "start_time": "2022-06-01T07:13:45.597Z"
   },
   {
    "duration": 115,
    "start_time": "2022-06-01T07:13:45.736Z"
   },
   {
    "duration": 451,
    "start_time": "2022-06-01T07:13:45.853Z"
   },
   {
    "duration": 112,
    "start_time": "2022-06-01T07:13:46.306Z"
   },
   {
    "duration": 42,
    "start_time": "2022-06-01T07:13:46.420Z"
   },
   {
    "duration": 6,
    "start_time": "2022-06-01T07:13:46.464Z"
   },
   {
    "duration": 58,
    "start_time": "2022-06-01T07:13:46.472Z"
   },
   {
    "duration": 4470,
    "start_time": "2022-06-01T07:13:46.532Z"
   },
   {
    "duration": 100,
    "start_time": "2022-06-01T07:13:51.003Z"
   },
   {
    "duration": 8,
    "start_time": "2022-06-01T07:13:51.104Z"
   },
   {
    "duration": 41,
    "start_time": "2022-06-01T07:13:51.113Z"
   },
   {
    "duration": 56,
    "start_time": "2022-06-01T07:13:51.157Z"
   },
   {
    "duration": 218,
    "start_time": "2022-06-01T07:13:51.227Z"
   },
   {
    "duration": 31,
    "start_time": "2022-06-01T07:13:51.447Z"
   },
   {
    "duration": 23,
    "start_time": "2022-06-01T07:13:51.480Z"
   },
   {
    "duration": 55,
    "start_time": "2022-06-01T07:13:51.504Z"
   },
   {
    "duration": 50,
    "start_time": "2022-06-01T07:13:51.561Z"
   },
   {
    "duration": 3523,
    "start_time": "2022-06-01T07:13:51.613Z"
   },
   {
    "duration": 3,
    "start_time": "2022-06-01T07:13:55.137Z"
   },
   {
    "duration": 49,
    "start_time": "2022-06-01T07:13:55.142Z"
   },
   {
    "duration": 750,
    "start_time": "2022-06-01T07:13:55.193Z"
   },
   {
    "duration": 3,
    "start_time": "2022-06-01T07:13:55.944Z"
   },
   {
    "duration": 145723,
    "start_time": "2022-06-01T07:15:30.095Z"
   },
   {
    "duration": 22341,
    "start_time": "2022-06-01T07:17:55.820Z"
   },
   {
    "duration": 8,
    "start_time": "2022-06-01T07:18:18.163Z"
   },
   {
    "duration": 88126,
    "start_time": "2022-06-01T07:19:05.107Z"
   },
   {
    "duration": 197,
    "start_time": "2022-06-01T07:21:35.266Z"
   },
   {
    "duration": 12,
    "start_time": "2022-06-01T07:21:51.827Z"
   },
   {
    "duration": 4,
    "start_time": "2022-06-01T07:22:10.696Z"
   },
   {
    "duration": 1282,
    "start_time": "2022-06-01T07:22:19.346Z"
   },
   {
    "duration": 1204,
    "start_time": "2022-06-01T07:23:16.446Z"
   },
   {
    "duration": 89750,
    "start_time": "2022-06-01T07:24:10.385Z"
   },
   {
    "duration": 1414,
    "start_time": "2022-06-01T07:30:40.611Z"
   },
   {
    "duration": 755,
    "start_time": "2022-06-01T07:30:42.027Z"
   },
   {
    "duration": 119,
    "start_time": "2022-06-01T07:30:42.784Z"
   },
   {
    "duration": 109,
    "start_time": "2022-06-01T07:30:42.905Z"
   },
   {
    "duration": 414,
    "start_time": "2022-06-01T07:30:43.017Z"
   },
   {
    "duration": 98,
    "start_time": "2022-06-01T07:30:43.433Z"
   },
   {
    "duration": 31,
    "start_time": "2022-06-01T07:30:43.533Z"
   },
   {
    "duration": 5,
    "start_time": "2022-06-01T07:30:43.565Z"
   },
   {
    "duration": 42,
    "start_time": "2022-06-01T07:30:43.572Z"
   },
   {
    "duration": 4525,
    "start_time": "2022-06-01T07:30:43.615Z"
   },
   {
    "duration": 98,
    "start_time": "2022-06-01T07:30:48.141Z"
   },
   {
    "duration": 8,
    "start_time": "2022-06-01T07:30:48.241Z"
   },
   {
    "duration": 31,
    "start_time": "2022-06-01T07:30:48.250Z"
   },
   {
    "duration": 67,
    "start_time": "2022-06-01T07:30:48.284Z"
   },
   {
    "duration": 214,
    "start_time": "2022-06-01T07:30:48.353Z"
   },
   {
    "duration": 33,
    "start_time": "2022-06-01T07:30:48.569Z"
   },
   {
    "duration": 41,
    "start_time": "2022-06-01T07:30:48.603Z"
   },
   {
    "duration": 36,
    "start_time": "2022-06-01T07:30:48.646Z"
   },
   {
    "duration": 64,
    "start_time": "2022-06-01T07:30:48.684Z"
   },
   {
    "duration": 3803,
    "start_time": "2022-06-01T07:30:48.750Z"
   },
   {
    "duration": 2,
    "start_time": "2022-06-01T07:30:52.555Z"
   },
   {
    "duration": 56,
    "start_time": "2022-06-01T07:30:52.559Z"
   },
   {
    "duration": 747,
    "start_time": "2022-06-01T07:30:52.617Z"
   },
   {
    "duration": 2,
    "start_time": "2022-06-01T07:30:53.366Z"
   },
   {
    "duration": 300318,
    "start_time": "2022-06-01T07:30:53.370Z"
   },
   {
    "duration": 179840,
    "start_time": "2022-06-01T07:35:53.689Z"
   },
   {
    "duration": 54998,
    "start_time": "2022-06-01T07:55:33.036Z"
   },
   {
    "duration": 40221,
    "start_time": "2022-06-01T07:56:28.036Z"
   },
   {
    "duration": 152501,
    "start_time": "2022-06-01T07:57:08.258Z"
   },
   {
    "duration": 23480,
    "start_time": "2022-06-01T07:59:40.761Z"
   },
   {
    "duration": 9,
    "start_time": "2022-06-01T08:00:04.243Z"
   },
   {
    "duration": 54,
    "start_time": "2022-06-01T08:23:56.085Z"
   },
   {
    "duration": 1350,
    "start_time": "2022-06-01T08:24:04.012Z"
   },
   {
    "duration": 814,
    "start_time": "2022-06-01T08:24:05.364Z"
   },
   {
    "duration": 159,
    "start_time": "2022-06-01T08:24:06.180Z"
   },
   {
    "duration": 155,
    "start_time": "2022-06-01T08:24:06.342Z"
   },
   {
    "duration": 454,
    "start_time": "2022-06-01T08:24:06.499Z"
   },
   {
    "duration": 102,
    "start_time": "2022-06-01T08:24:06.955Z"
   },
   {
    "duration": 33,
    "start_time": "2022-06-01T08:24:07.059Z"
   },
   {
    "duration": 6,
    "start_time": "2022-06-01T08:24:07.093Z"
   },
   {
    "duration": 46,
    "start_time": "2022-06-01T08:24:07.100Z"
   },
   {
    "duration": 4605,
    "start_time": "2022-06-01T08:24:07.148Z"
   },
   {
    "duration": 121,
    "start_time": "2022-06-01T08:24:11.755Z"
   },
   {
    "duration": 8,
    "start_time": "2022-06-01T08:24:11.878Z"
   },
   {
    "duration": 45,
    "start_time": "2022-06-01T08:24:11.888Z"
   },
   {
    "duration": 100,
    "start_time": "2022-06-01T08:24:11.935Z"
   },
   {
    "duration": 229,
    "start_time": "2022-06-01T08:24:12.036Z"
   },
   {
    "duration": 42,
    "start_time": "2022-06-01T08:24:12.266Z"
   },
   {
    "duration": 33,
    "start_time": "2022-06-01T08:24:12.326Z"
   },
   {
    "duration": 39,
    "start_time": "2022-06-01T08:24:12.360Z"
   },
   {
    "duration": 76,
    "start_time": "2022-06-01T08:24:12.401Z"
   },
   {
    "duration": 3701,
    "start_time": "2022-06-01T08:24:12.479Z"
   },
   {
    "duration": 5,
    "start_time": "2022-06-01T08:24:16.182Z"
   },
   {
    "duration": 113,
    "start_time": "2022-06-01T08:24:16.190Z"
   },
   {
    "duration": 810,
    "start_time": "2022-06-01T08:24:16.306Z"
   },
   {
    "duration": 2,
    "start_time": "2022-06-01T08:24:19.695Z"
   },
   {
    "duration": 305419,
    "start_time": "2022-06-01T08:24:21.056Z"
   },
   {
    "duration": 193558,
    "start_time": "2022-06-01T08:29:26.478Z"
   },
   {
    "duration": 869838,
    "start_time": "2022-06-01T08:32:40.128Z"
   },
   {
    "duration": 0,
    "start_time": "2022-06-01T08:47:09.968Z"
   },
   {
    "duration": 0,
    "start_time": "2022-06-01T08:47:09.969Z"
   },
   {
    "duration": 0,
    "start_time": "2022-06-01T08:47:09.971Z"
   },
   {
    "duration": 0,
    "start_time": "2022-06-01T08:47:09.972Z"
   },
   {
    "duration": 84333,
    "start_time": "2022-06-01T08:50:11.396Z"
   },
   {
    "duration": 1389,
    "start_time": "2022-06-01T09:06:05.360Z"
   },
   {
    "duration": 854,
    "start_time": "2022-06-01T09:06:06.752Z"
   },
   {
    "duration": 133,
    "start_time": "2022-06-01T09:06:07.608Z"
   },
   {
    "duration": 153,
    "start_time": "2022-06-01T09:06:07.743Z"
   },
   {
    "duration": 477,
    "start_time": "2022-06-01T09:06:07.898Z"
   },
   {
    "duration": 108,
    "start_time": "2022-06-01T09:06:08.377Z"
   },
   {
    "duration": 42,
    "start_time": "2022-06-01T09:06:08.487Z"
   },
   {
    "duration": 5,
    "start_time": "2022-06-01T09:06:08.531Z"
   },
   {
    "duration": 32,
    "start_time": "2022-06-01T09:06:08.538Z"
   },
   {
    "duration": 5035,
    "start_time": "2022-06-01T09:06:08.572Z"
   },
   {
    "duration": 108,
    "start_time": "2022-06-01T09:06:13.609Z"
   },
   {
    "duration": 14,
    "start_time": "2022-06-01T09:06:13.719Z"
   },
   {
    "duration": 31,
    "start_time": "2022-06-01T09:06:13.736Z"
   },
   {
    "duration": 88,
    "start_time": "2022-06-01T09:06:13.769Z"
   },
   {
    "duration": 233,
    "start_time": "2022-06-01T09:06:13.859Z"
   },
   {
    "duration": 43,
    "start_time": "2022-06-01T09:06:14.093Z"
   },
   {
    "duration": 23,
    "start_time": "2022-06-01T09:06:14.138Z"
   },
   {
    "duration": 36,
    "start_time": "2022-06-01T09:06:14.163Z"
   },
   {
    "duration": 79,
    "start_time": "2022-06-01T09:06:14.201Z"
   },
   {
    "duration": 3859,
    "start_time": "2022-06-01T09:06:14.282Z"
   },
   {
    "duration": 4,
    "start_time": "2022-06-01T09:06:18.144Z"
   },
   {
    "duration": 69,
    "start_time": "2022-06-01T09:06:18.151Z"
   },
   {
    "duration": 809,
    "start_time": "2022-06-01T09:06:18.222Z"
   },
   {
    "duration": 3,
    "start_time": "2022-06-01T09:06:19.033Z"
   },
   {
    "duration": 163172,
    "start_time": "2022-06-01T09:06:39.942Z"
   },
   {
    "duration": 8,
    "start_time": "2022-06-01T09:09:41.170Z"
   },
   {
    "duration": 208,
    "start_time": "2022-06-01T09:15:20.708Z"
   },
   {
    "duration": 39,
    "start_time": "2022-06-01T09:15:52.643Z"
   },
   {
    "duration": 26,
    "start_time": "2022-06-01T09:16:19.251Z"
   },
   {
    "duration": 24,
    "start_time": "2022-06-01T09:16:27.258Z"
   },
   {
    "duration": 22,
    "start_time": "2022-06-01T09:17:15.283Z"
   },
   {
    "duration": 22,
    "start_time": "2022-06-01T09:17:29.200Z"
   },
   {
    "duration": 31,
    "start_time": "2022-06-01T09:17:48.246Z"
   },
   {
    "duration": 292,
    "start_time": "2022-06-01T09:18:13.345Z"
   },
   {
    "duration": 21,
    "start_time": "2022-06-01T09:19:29.679Z"
   },
   {
    "duration": 30,
    "start_time": "2022-06-01T09:20:26.241Z"
   },
   {
    "duration": 23,
    "start_time": "2022-06-01T09:21:21.811Z"
   },
   {
    "duration": 24767,
    "start_time": "2022-06-01T09:22:12.768Z"
   },
   {
    "duration": 24628,
    "start_time": "2022-06-01T09:23:13.411Z"
   },
   {
    "duration": 75387,
    "start_time": "2022-06-01T09:25:29.348Z"
   },
   {
    "duration": 6,
    "start_time": "2022-06-01T10:21:42.954Z"
   },
   {
    "duration": 763,
    "start_time": "2022-06-01T10:21:42.961Z"
   },
   {
    "duration": 124,
    "start_time": "2022-06-01T10:21:43.726Z"
   },
   {
    "duration": 116,
    "start_time": "2022-06-01T10:21:43.851Z"
   },
   {
    "duration": 386,
    "start_time": "2022-06-01T10:21:43.968Z"
   },
   {
    "duration": 99,
    "start_time": "2022-06-01T10:21:44.355Z"
   },
   {
    "duration": 31,
    "start_time": "2022-06-01T10:21:44.456Z"
   },
   {
    "duration": 6,
    "start_time": "2022-06-01T10:21:44.489Z"
   },
   {
    "duration": 43,
    "start_time": "2022-06-01T10:21:44.496Z"
   },
   {
    "duration": 4686,
    "start_time": "2022-06-01T10:21:44.542Z"
   },
   {
    "duration": 84,
    "start_time": "2022-06-01T10:21:49.230Z"
   },
   {
    "duration": 15,
    "start_time": "2022-06-01T10:21:49.316Z"
   },
   {
    "duration": 49,
    "start_time": "2022-06-01T10:21:49.333Z"
   },
   {
    "duration": 97,
    "start_time": "2022-06-01T10:21:49.384Z"
   },
   {
    "duration": 219,
    "start_time": "2022-06-01T10:21:49.483Z"
   },
   {
    "duration": 42,
    "start_time": "2022-06-01T10:21:49.704Z"
   },
   {
    "duration": 22,
    "start_time": "2022-06-01T10:21:49.748Z"
   },
   {
    "duration": 38,
    "start_time": "2022-06-01T10:21:49.772Z"
   },
   {
    "duration": 181,
    "start_time": "2022-06-01T10:21:49.812Z"
   },
   {
    "duration": 3385,
    "start_time": "2022-06-01T10:21:49.995Z"
   },
   {
    "duration": 3,
    "start_time": "2022-06-01T10:21:53.382Z"
   },
   {
    "duration": 60,
    "start_time": "2022-06-01T10:21:53.386Z"
   },
   {
    "duration": 747,
    "start_time": "2022-06-01T10:21:53.448Z"
   },
   {
    "duration": 3,
    "start_time": "2022-06-01T10:21:54.196Z"
   },
   {
    "duration": 300103,
    "start_time": "2022-06-01T10:21:54.200Z"
   },
   {
    "duration": 156923,
    "start_time": "2022-06-01T10:26:54.305Z"
   },
   {
    "duration": 51203,
    "start_time": "2022-06-01T10:29:31.230Z"
   },
   {
    "duration": 191678,
    "start_time": "2022-06-01T10:30:22.437Z"
   },
   {
    "duration": 148158,
    "start_time": "2022-06-01T10:33:34.117Z"
   },
   {
    "duration": 7,
    "start_time": "2022-06-01T10:36:02.277Z"
   },
   {
    "duration": 2454,
    "start_time": "2022-06-01T10:36:02.286Z"
   },
   {
    "duration": 11,
    "start_time": "2022-06-01T10:38:13.461Z"
   },
   {
    "duration": 5,
    "start_time": "2022-06-01T10:39:26.718Z"
   },
   {
    "duration": 7,
    "start_time": "2022-06-01T10:39:34.452Z"
   },
   {
    "duration": 16,
    "start_time": "2022-06-01T10:40:39.861Z"
   },
   {
    "duration": 12,
    "start_time": "2022-06-01T10:41:39.120Z"
   },
   {
    "duration": 10,
    "start_time": "2022-06-01T10:43:39.917Z"
   },
   {
    "duration": 144132,
    "start_time": "2022-06-01T10:47:03.986Z"
   },
   {
    "duration": 0,
    "start_time": "2022-06-01T10:49:28.119Z"
   },
   {
    "duration": 1878,
    "start_time": "2022-06-01T10:51:16.959Z"
   },
   {
    "duration": 11,
    "start_time": "2022-06-01T10:51:26.770Z"
   },
   {
    "duration": 1518,
    "start_time": "2022-06-01T12:29:00.708Z"
   },
   {
    "duration": 1177,
    "start_time": "2022-06-01T12:29:02.228Z"
   },
   {
    "duration": 125,
    "start_time": "2022-06-01T12:29:03.407Z"
   },
   {
    "duration": 127,
    "start_time": "2022-06-01T12:29:03.534Z"
   },
   {
    "duration": 437,
    "start_time": "2022-06-01T12:29:03.664Z"
   },
   {
    "duration": 109,
    "start_time": "2022-06-01T12:29:04.102Z"
   },
   {
    "duration": 34,
    "start_time": "2022-06-01T12:29:04.213Z"
   },
   {
    "duration": 6,
    "start_time": "2022-06-01T12:29:04.249Z"
   },
   {
    "duration": 42,
    "start_time": "2022-06-01T12:29:04.256Z"
   },
   {
    "duration": 4864,
    "start_time": "2022-06-01T12:29:04.299Z"
   },
   {
    "duration": 102,
    "start_time": "2022-06-01T12:29:09.164Z"
   },
   {
    "duration": 17,
    "start_time": "2022-06-01T12:29:09.267Z"
   },
   {
    "duration": 32,
    "start_time": "2022-06-01T12:29:09.286Z"
   },
   {
    "duration": 75,
    "start_time": "2022-06-01T12:29:09.321Z"
   },
   {
    "duration": 222,
    "start_time": "2022-06-01T12:29:09.398Z"
   },
   {
    "duration": 32,
    "start_time": "2022-06-01T12:29:09.622Z"
   },
   {
    "duration": 38,
    "start_time": "2022-06-01T12:29:09.655Z"
   },
   {
    "duration": 38,
    "start_time": "2022-06-01T12:29:09.695Z"
   },
   {
    "duration": 81,
    "start_time": "2022-06-01T12:29:09.734Z"
   },
   {
    "duration": 3910,
    "start_time": "2022-06-01T12:29:09.817Z"
   },
   {
    "duration": 3,
    "start_time": "2022-06-01T12:29:13.729Z"
   },
   {
    "duration": 63,
    "start_time": "2022-06-01T12:29:13.733Z"
   },
   {
    "duration": 880,
    "start_time": "2022-06-01T12:29:13.798Z"
   },
   {
    "duration": 3,
    "start_time": "2022-06-01T12:29:14.680Z"
   },
   {
    "duration": 338986,
    "start_time": "2022-06-01T12:29:14.685Z"
   },
   {
    "duration": 220609,
    "start_time": "2022-06-01T12:34:53.673Z"
   },
   {
    "duration": 59700,
    "start_time": "2022-06-01T12:38:34.284Z"
   },
   {
    "duration": 165486,
    "start_time": "2022-06-01T12:43:00.795Z"
   },
   {
    "duration": 0,
    "start_time": "2022-06-01T12:45:46.282Z"
   },
   {
    "duration": 0,
    "start_time": "2022-06-01T12:45:46.284Z"
   },
   {
    "duration": 0,
    "start_time": "2022-06-01T12:45:46.285Z"
   },
   {
    "duration": 177422,
    "start_time": "2022-06-01T12:56:06.784Z"
   },
   {
    "duration": 3463,
    "start_time": "2022-06-01T13:00:01.667Z"
   },
   {
    "duration": 173628,
    "start_time": "2022-06-01T13:00:40.525Z"
   },
   {
    "duration": 10,
    "start_time": "2022-06-01T13:03:34.155Z"
   },
   {
    "duration": 41928,
    "start_time": "2022-06-01T13:03:34.167Z"
   },
   {
    "duration": 91,
    "start_time": "2022-06-01T13:04:16.098Z"
   },
   {
    "duration": 215724,
    "start_time": "2022-06-01T13:04:16.191Z"
   },
   {
    "duration": 13,
    "start_time": "2022-06-01T13:07:51.918Z"
   },
   {
    "duration": 20441,
    "start_time": "2022-06-01T13:12:32.540Z"
   },
   {
    "duration": 23664,
    "start_time": "2022-06-01T13:14:30.117Z"
   },
   {
    "duration": 5702,
    "start_time": "2022-06-01T13:14:53.785Z"
   },
   {
    "duration": 33,
    "start_time": "2022-06-01T13:17:36.082Z"
   },
   {
    "duration": 751,
    "start_time": "2022-06-01T13:17:42.343Z"
   },
   {
    "duration": 171905,
    "start_time": "2022-06-01T13:18:32.984Z"
   },
   {
    "duration": 180803,
    "start_time": "2022-06-01T13:21:52.931Z"
   },
   {
    "duration": 173686,
    "start_time": "2022-06-01T13:25:43.274Z"
   },
   {
    "duration": 176623,
    "start_time": "2022-06-01T13:28:36.961Z"
   },
   {
    "duration": 167977,
    "start_time": "2022-06-01T13:31:33.586Z"
   },
   {
    "duration": 14,
    "start_time": "2022-06-01T13:36:52.390Z"
   },
   {
    "duration": 188108,
    "start_time": "2022-06-01T13:43:41.807Z"
   },
   {
    "duration": 27,
    "start_time": "2022-06-01T13:46:55.066Z"
   },
   {
    "duration": 25,
    "start_time": "2022-06-01T13:47:03.859Z"
   },
   {
    "duration": 109,
    "start_time": "2022-06-01T13:47:12.183Z"
   },
   {
    "duration": 0,
    "start_time": "2022-06-01T15:17:27.109Z"
   },
   {
    "duration": 1716407,
    "start_time": "2022-06-01T15:17:48.791Z"
   },
   {
    "duration": 1,
    "start_time": "2022-06-01T15:46:25.201Z"
   },
   {
    "duration": 0,
    "start_time": "2022-06-01T15:46:25.204Z"
   },
   {
    "duration": 43468,
    "start_time": "2022-06-01T15:47:14.213Z"
   },
   {
    "duration": 10,
    "start_time": "2022-06-01T15:47:57.683Z"
   },
   {
    "duration": 5,
    "start_time": "2022-06-01T15:48:12.912Z"
   },
   {
    "duration": 11,
    "start_time": "2022-06-01T15:50:37.381Z"
   },
   {
    "duration": 14,
    "start_time": "2022-06-01T15:50:46.958Z"
   },
   {
    "duration": 16,
    "start_time": "2022-06-01T15:50:57.888Z"
   },
   {
    "duration": 17,
    "start_time": "2022-06-01T15:51:10.339Z"
   },
   {
    "duration": 15,
    "start_time": "2022-06-01T15:51:16.608Z"
   },
   {
    "duration": 14,
    "start_time": "2022-06-01T15:51:23.439Z"
   },
   {
    "duration": 148005,
    "start_time": "2022-06-01T15:51:34.879Z"
   },
   {
    "duration": 1226,
    "start_time": "2022-06-01T16:04:53.833Z"
   },
   {
    "duration": 776,
    "start_time": "2022-06-01T16:04:55.061Z"
   },
   {
    "duration": 114,
    "start_time": "2022-06-01T16:04:55.839Z"
   },
   {
    "duration": 134,
    "start_time": "2022-06-01T16:04:55.954Z"
   },
   {
    "duration": 453,
    "start_time": "2022-06-01T16:04:56.090Z"
   },
   {
    "duration": 104,
    "start_time": "2022-06-01T16:04:56.545Z"
   },
   {
    "duration": 41,
    "start_time": "2022-06-01T16:04:56.651Z"
   },
   {
    "duration": 5,
    "start_time": "2022-06-01T16:04:56.693Z"
   },
   {
    "duration": 33,
    "start_time": "2022-06-01T16:04:56.700Z"
   },
   {
    "duration": 4950,
    "start_time": "2022-06-01T16:04:56.735Z"
   },
   {
    "duration": 117,
    "start_time": "2022-06-01T16:05:01.687Z"
   },
   {
    "duration": 11,
    "start_time": "2022-06-01T16:05:01.806Z"
   },
   {
    "duration": 48,
    "start_time": "2022-06-01T16:05:01.819Z"
   },
   {
    "duration": 71,
    "start_time": "2022-06-01T16:05:01.880Z"
   },
   {
    "duration": 255,
    "start_time": "2022-06-01T16:05:01.953Z"
   },
   {
    "duration": 49,
    "start_time": "2022-06-01T16:05:02.209Z"
   },
   {
    "duration": 43,
    "start_time": "2022-06-01T16:05:02.261Z"
   },
   {
    "duration": 40,
    "start_time": "2022-06-01T16:05:02.306Z"
   },
   {
    "duration": 89,
    "start_time": "2022-06-01T16:05:02.347Z"
   },
   {
    "duration": 3774,
    "start_time": "2022-06-01T16:05:02.438Z"
   },
   {
    "duration": 3,
    "start_time": "2022-06-01T16:05:06.214Z"
   },
   {
    "duration": 66,
    "start_time": "2022-06-01T16:05:06.218Z"
   },
   {
    "duration": 815,
    "start_time": "2022-06-01T16:05:06.286Z"
   },
   {
    "duration": 3,
    "start_time": "2022-06-01T16:05:07.102Z"
   },
   {
    "duration": 307039,
    "start_time": "2022-06-01T16:05:07.106Z"
   },
   {
    "duration": 188046,
    "start_time": "2022-06-01T16:10:14.147Z"
   },
   {
    "duration": 50600,
    "start_time": "2022-06-01T16:13:22.281Z"
   },
   {
    "duration": 173299,
    "start_time": "2022-06-01T16:14:12.885Z"
   },
   {
    "duration": 31770,
    "start_time": "2022-06-01T16:19:31.816Z"
   },
   {
    "duration": 4,
    "start_time": "2022-06-01T16:20:03.588Z"
   },
   {
    "duration": 11,
    "start_time": "2022-06-01T16:20:03.594Z"
   },
   {
    "duration": 3454,
    "start_time": "2022-06-01T16:20:03.607Z"
   },
   {
    "duration": 147277,
    "start_time": "2022-06-01T16:20:07.062Z"
   },
   {
    "duration": 139996,
    "start_time": "2022-06-01T16:22:34.340Z"
   },
   {
    "duration": 10,
    "start_time": "2022-06-01T16:24:54.338Z"
   },
   {
    "duration": 18,
    "start_time": "2022-06-01T16:24:54.350Z"
   },
   {
    "duration": 23753,
    "start_time": "2022-06-01T16:43:06.116Z"
   },
   {
    "duration": 12941,
    "start_time": "2022-06-01T16:43:37.978Z"
   },
   {
    "duration": 10,
    "start_time": "2022-06-01T16:44:36.182Z"
   },
   {
    "duration": 178082,
    "start_time": "2022-06-01T16:44:51.089Z"
   },
   {
    "duration": 156604,
    "start_time": "2022-06-01T16:47:49.173Z"
   },
   {
    "duration": 6,
    "start_time": "2022-06-01T16:50:25.778Z"
   },
   {
    "duration": 161392,
    "start_time": "2022-06-01T16:50:56.011Z"
   },
   {
    "duration": 157222,
    "start_time": "2022-06-01T16:55:30.840Z"
   },
   {
    "duration": 11,
    "start_time": "2022-06-01T16:58:33.110Z"
   },
   {
    "duration": 77497,
    "start_time": "2022-06-01T17:00:18.387Z"
   },
   {
    "duration": 4,
    "start_time": "2022-06-01T17:01:35.886Z"
   },
   {
    "duration": 26,
    "start_time": "2022-06-01T17:02:44.703Z"
   },
   {
    "duration": 47,
    "start_time": "2022-06-01T17:03:51.117Z"
   },
   {
    "duration": 56,
    "start_time": "2022-06-01T17:04:13.964Z"
   },
   {
    "duration": 81417,
    "start_time": "2022-06-01T17:04:20.372Z"
   },
   {
    "duration": 15,
    "start_time": "2022-06-01T17:05:41.792Z"
   },
   {
    "duration": 69562,
    "start_time": "2022-06-01T17:06:34.433Z"
   },
   {
    "duration": 67259,
    "start_time": "2022-06-01T17:08:41.323Z"
   },
   {
    "duration": 10,
    "start_time": "2022-06-01T17:09:48.586Z"
   },
   {
    "duration": 0,
    "start_time": "2022-06-01T17:09:48.597Z"
   },
   {
    "duration": 3954,
    "start_time": "2022-06-01T17:10:09.423Z"
   },
   {
    "duration": 12,
    "start_time": "2022-06-01T17:12:04.884Z"
   },
   {
    "duration": 3609,
    "start_time": "2022-06-01T17:12:16.145Z"
   },
   {
    "duration": 10,
    "start_time": "2022-06-01T17:12:33.672Z"
   },
   {
    "duration": 3634,
    "start_time": "2022-06-01T17:12:42.810Z"
   },
   {
    "duration": 28023,
    "start_time": "2022-06-01T17:12:49.590Z"
   },
   {
    "duration": 0,
    "start_time": "2022-06-01T17:13:17.615Z"
   },
   {
    "duration": 150825,
    "start_time": "2022-06-01T17:13:19.435Z"
   },
   {
    "duration": 1720,
    "start_time": "2022-06-01T17:15:50.261Z"
   },
   {
    "duration": 9,
    "start_time": "2022-06-01T17:15:51.983Z"
   },
   {
    "duration": 6,
    "start_time": "2022-06-01T17:17:17.029Z"
   },
   {
    "duration": 44,
    "start_time": "2022-06-02T07:50:39.626Z"
   }
  ],
  "interpreter": {
   "hash": "47bb262127e83f4e352f9a4661074feb316fd893d8b83e773ca2637ac59da0c2"
  },
  "kernelspec": {
   "display_name": "Python 3 (ipykernel)",
   "language": "python",
   "name": "python3"
  },
  "language_info": {
   "codemirror_mode": {
    "name": "ipython",
    "version": 3
   },
   "file_extension": ".py",
   "mimetype": "text/x-python",
   "name": "python",
   "nbconvert_exporter": "python",
   "pygments_lexer": "ipython3",
   "version": "3.9.7"
  },
  "toc": {
   "base_numbering": 1,
   "nav_menu": {},
   "number_sections": true,
   "sideBar": true,
   "skip_h1_title": true,
   "title_cell": "Table of Contents",
   "title_sidebar": "Contents",
   "toc_cell": false,
   "toc_position": {
    "height": "calc(100% - 180px)",
    "left": "10px",
    "top": "150px",
    "width": "165px"
   },
   "toc_section_display": true,
   "toc_window_display": true
  }
 },
 "nbformat": 4,
 "nbformat_minor": 2
}
