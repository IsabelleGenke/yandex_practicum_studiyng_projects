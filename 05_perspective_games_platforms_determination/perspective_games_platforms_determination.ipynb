{
 "cells": [
  {
   "cell_type": "markdown",
   "id": "f45560d4",
   "metadata": {},
   "source": [
    "# Проект для интернет-магазина"
   ]
  },
  {
   "cell_type": "markdown",
   "id": "9d33b221",
   "metadata": {},
   "source": [
    "Мы работаем в интернет-магазине «Стримчик», который продаёт по всему миру компьютерные игры. Из открытых источников доступны исторические данные о продажах игр, оценки пользователей и экспертов, жанры и платформы (например, Xbox или PlayStation). \n",
    "\n",
    "Необходимо выявить определяющие успешность игры закономерности. Это позволит сделать ставку на потенциально популярный продукт и спланировать рекламные кампании. Перед нами данные до 2016 года. Представим, что сейчас декабрь 2016 г., и мы планируем кампанию на 2017-й. Нужно отработать принцип работы с данными. \n",
    "\n",
    "В наборе данных попадается аббревиатура ESRB (Entertainment Software Rating Board) — это ассоциация, определяющая возрастной рейтинг компьютерных игр. ESRB оценивает игровой контент и присваивает ему подходящую возрастную категорию, например, «Для взрослых», «Для детей младшего возраста» или «Для подростков».\n",
    "\n",
    "**Цель исследования:** выявить определяющие успешность игры закономерности\n",
    "\n",
    "**Описание данных**\n",
    "- Name — название игры\n",
    "- Platform — платформа\n",
    "- Year_of_Release — год выпуска\n",
    "- Genre — жанр игры\n",
    "- NA_sales — продажи в Северной Америке (миллионы проданных копий)\n",
    "- EU_sales — продажи в Европе (миллионы проданных копий)\n",
    "- JP_sales — продажи в Японии (миллионы проданных копий)\n",
    "- Other_sales — продажи в других странах (миллионы проданных копий)\n",
    "- Critic_Score — оценка критиков (максимум 100)\n",
    "- User_Score — оценка пользователей (максимум 10)\n",
    "- Rating — рейтинг от организации ESRB (англ. Entertainment Software Rating Board). Эта ассоциация определяет рейтинг компьютерных игр и присваивает им подходящую возрастную категорию.\n",
    "\n",
    "**План работы**\n",
    "1. Загрузка данных, общая информация о них.\n",
    "2. Предобработка данных.\n",
    "3. Исследовательский анализ данных.\n",
    "4. Портрет пользователя по регилнам.\n",
    "5. Проверка гипотез.\n",
    "6. Общий вывод.\n"
   ]
  },
  {
   "cell_type": "markdown",
   "id": "dae72bf3",
   "metadata": {},
   "source": [
    "### Шаг 1. Изучение общей информации"
   ]
  },
  {
   "cell_type": "code",
   "execution_count": 2,
   "id": "ed806a92",
   "metadata": {},
   "outputs": [],
   "source": [
    "# импортируем библиотеки\n",
    "\n",
    "import pandas as pd\n",
    "import numpy as np\n",
    "import matplotlib.pyplot as plt\n",
    "import seaborn as sns\n",
    "from scipy import stats as st\n",
    "\n",
    "import warnings\n",
    "warnings.simplefilter(\"ignore\")\n"
   ]
  },
  {
   "cell_type": "code",
   "execution_count": 3,
   "id": "911b97d4",
   "metadata": {},
   "outputs": [
    {
     "name": "stdout",
     "output_type": "stream",
     "text": [
      "<class 'pandas.core.frame.DataFrame'>\n",
      "RangeIndex: 16715 entries, 0 to 16714\n",
      "Data columns (total 11 columns):\n",
      " #   Column           Non-Null Count  Dtype  \n",
      "---  ------           --------------  -----  \n",
      " 0   Name             16713 non-null  object \n",
      " 1   Platform         16715 non-null  object \n",
      " 2   Year_of_Release  16446 non-null  float64\n",
      " 3   Genre            16713 non-null  object \n",
      " 4   NA_sales         16715 non-null  float64\n",
      " 5   EU_sales         16715 non-null  float64\n",
      " 6   JP_sales         16715 non-null  float64\n",
      " 7   Other_sales      16715 non-null  float64\n",
      " 8   Critic_Score     8137 non-null   float64\n",
      " 9   User_Score       10014 non-null  object \n",
      " 10  Rating           9949 non-null   object \n",
      "dtypes: float64(6), object(5)\n",
      "memory usage: 1.4+ MB\n"
     ]
    },
    {
     "data": {
      "text/html": [
       "<div>\n",
       "<style scoped>\n",
       "    .dataframe tbody tr th:only-of-type {\n",
       "        vertical-align: middle;\n",
       "    }\n",
       "\n",
       "    .dataframe tbody tr th {\n",
       "        vertical-align: top;\n",
       "    }\n",
       "\n",
       "    .dataframe thead th {\n",
       "        text-align: right;\n",
       "    }\n",
       "</style>\n",
       "<table border=\"1\" class=\"dataframe\">\n",
       "  <thead>\n",
       "    <tr style=\"text-align: right;\">\n",
       "      <th></th>\n",
       "      <th>Name</th>\n",
       "      <th>Platform</th>\n",
       "      <th>Year_of_Release</th>\n",
       "      <th>Genre</th>\n",
       "      <th>NA_sales</th>\n",
       "      <th>EU_sales</th>\n",
       "      <th>JP_sales</th>\n",
       "      <th>Other_sales</th>\n",
       "      <th>Critic_Score</th>\n",
       "      <th>User_Score</th>\n",
       "      <th>Rating</th>\n",
       "    </tr>\n",
       "  </thead>\n",
       "  <tbody>\n",
       "    <tr>\n",
       "      <th>0</th>\n",
       "      <td>Wii Sports</td>\n",
       "      <td>Wii</td>\n",
       "      <td>2006.0</td>\n",
       "      <td>Sports</td>\n",
       "      <td>41.36</td>\n",
       "      <td>28.96</td>\n",
       "      <td>3.77</td>\n",
       "      <td>8.45</td>\n",
       "      <td>76.0</td>\n",
       "      <td>8</td>\n",
       "      <td>E</td>\n",
       "    </tr>\n",
       "    <tr>\n",
       "      <th>1</th>\n",
       "      <td>Super Mario Bros.</td>\n",
       "      <td>NES</td>\n",
       "      <td>1985.0</td>\n",
       "      <td>Platform</td>\n",
       "      <td>29.08</td>\n",
       "      <td>3.58</td>\n",
       "      <td>6.81</td>\n",
       "      <td>0.77</td>\n",
       "      <td>NaN</td>\n",
       "      <td>NaN</td>\n",
       "      <td>NaN</td>\n",
       "    </tr>\n",
       "    <tr>\n",
       "      <th>2</th>\n",
       "      <td>Mario Kart Wii</td>\n",
       "      <td>Wii</td>\n",
       "      <td>2008.0</td>\n",
       "      <td>Racing</td>\n",
       "      <td>15.68</td>\n",
       "      <td>12.76</td>\n",
       "      <td>3.79</td>\n",
       "      <td>3.29</td>\n",
       "      <td>82.0</td>\n",
       "      <td>8.3</td>\n",
       "      <td>E</td>\n",
       "    </tr>\n",
       "    <tr>\n",
       "      <th>3</th>\n",
       "      <td>Wii Sports Resort</td>\n",
       "      <td>Wii</td>\n",
       "      <td>2009.0</td>\n",
       "      <td>Sports</td>\n",
       "      <td>15.61</td>\n",
       "      <td>10.93</td>\n",
       "      <td>3.28</td>\n",
       "      <td>2.95</td>\n",
       "      <td>80.0</td>\n",
       "      <td>8</td>\n",
       "      <td>E</td>\n",
       "    </tr>\n",
       "    <tr>\n",
       "      <th>4</th>\n",
       "      <td>Pokemon Red/Pokemon Blue</td>\n",
       "      <td>GB</td>\n",
       "      <td>1996.0</td>\n",
       "      <td>Role-Playing</td>\n",
       "      <td>11.27</td>\n",
       "      <td>8.89</td>\n",
       "      <td>10.22</td>\n",
       "      <td>1.00</td>\n",
       "      <td>NaN</td>\n",
       "      <td>NaN</td>\n",
       "      <td>NaN</td>\n",
       "    </tr>\n",
       "    <tr>\n",
       "      <th>...</th>\n",
       "      <td>...</td>\n",
       "      <td>...</td>\n",
       "      <td>...</td>\n",
       "      <td>...</td>\n",
       "      <td>...</td>\n",
       "      <td>...</td>\n",
       "      <td>...</td>\n",
       "      <td>...</td>\n",
       "      <td>...</td>\n",
       "      <td>...</td>\n",
       "      <td>...</td>\n",
       "    </tr>\n",
       "    <tr>\n",
       "      <th>16710</th>\n",
       "      <td>Samurai Warriors: Sanada Maru</td>\n",
       "      <td>PS3</td>\n",
       "      <td>2016.0</td>\n",
       "      <td>Action</td>\n",
       "      <td>0.00</td>\n",
       "      <td>0.00</td>\n",
       "      <td>0.01</td>\n",
       "      <td>0.00</td>\n",
       "      <td>NaN</td>\n",
       "      <td>NaN</td>\n",
       "      <td>NaN</td>\n",
       "    </tr>\n",
       "    <tr>\n",
       "      <th>16711</th>\n",
       "      <td>LMA Manager 2007</td>\n",
       "      <td>X360</td>\n",
       "      <td>2006.0</td>\n",
       "      <td>Sports</td>\n",
       "      <td>0.00</td>\n",
       "      <td>0.01</td>\n",
       "      <td>0.00</td>\n",
       "      <td>0.00</td>\n",
       "      <td>NaN</td>\n",
       "      <td>NaN</td>\n",
       "      <td>NaN</td>\n",
       "    </tr>\n",
       "    <tr>\n",
       "      <th>16712</th>\n",
       "      <td>Haitaka no Psychedelica</td>\n",
       "      <td>PSV</td>\n",
       "      <td>2016.0</td>\n",
       "      <td>Adventure</td>\n",
       "      <td>0.00</td>\n",
       "      <td>0.00</td>\n",
       "      <td>0.01</td>\n",
       "      <td>0.00</td>\n",
       "      <td>NaN</td>\n",
       "      <td>NaN</td>\n",
       "      <td>NaN</td>\n",
       "    </tr>\n",
       "    <tr>\n",
       "      <th>16713</th>\n",
       "      <td>Spirits &amp; Spells</td>\n",
       "      <td>GBA</td>\n",
       "      <td>2003.0</td>\n",
       "      <td>Platform</td>\n",
       "      <td>0.01</td>\n",
       "      <td>0.00</td>\n",
       "      <td>0.00</td>\n",
       "      <td>0.00</td>\n",
       "      <td>NaN</td>\n",
       "      <td>NaN</td>\n",
       "      <td>NaN</td>\n",
       "    </tr>\n",
       "    <tr>\n",
       "      <th>16714</th>\n",
       "      <td>Winning Post 8 2016</td>\n",
       "      <td>PSV</td>\n",
       "      <td>2016.0</td>\n",
       "      <td>Simulation</td>\n",
       "      <td>0.00</td>\n",
       "      <td>0.00</td>\n",
       "      <td>0.01</td>\n",
       "      <td>0.00</td>\n",
       "      <td>NaN</td>\n",
       "      <td>NaN</td>\n",
       "      <td>NaN</td>\n",
       "    </tr>\n",
       "  </tbody>\n",
       "</table>\n",
       "<p>16715 rows × 11 columns</p>\n",
       "</div>"
      ],
      "text/plain": [
       "                                Name Platform  Year_of_Release         Genre  \\\n",
       "0                         Wii Sports      Wii           2006.0        Sports   \n",
       "1                  Super Mario Bros.      NES           1985.0      Platform   \n",
       "2                     Mario Kart Wii      Wii           2008.0        Racing   \n",
       "3                  Wii Sports Resort      Wii           2009.0        Sports   \n",
       "4           Pokemon Red/Pokemon Blue       GB           1996.0  Role-Playing   \n",
       "...                              ...      ...              ...           ...   \n",
       "16710  Samurai Warriors: Sanada Maru      PS3           2016.0        Action   \n",
       "16711               LMA Manager 2007     X360           2006.0        Sports   \n",
       "16712        Haitaka no Psychedelica      PSV           2016.0     Adventure   \n",
       "16713               Spirits & Spells      GBA           2003.0      Platform   \n",
       "16714            Winning Post 8 2016      PSV           2016.0    Simulation   \n",
       "\n",
       "       NA_sales  EU_sales  JP_sales  Other_sales  Critic_Score User_Score  \\\n",
       "0         41.36     28.96      3.77         8.45          76.0          8   \n",
       "1         29.08      3.58      6.81         0.77           NaN        NaN   \n",
       "2         15.68     12.76      3.79         3.29          82.0        8.3   \n",
       "3         15.61     10.93      3.28         2.95          80.0          8   \n",
       "4         11.27      8.89     10.22         1.00           NaN        NaN   \n",
       "...         ...       ...       ...          ...           ...        ...   \n",
       "16710      0.00      0.00      0.01         0.00           NaN        NaN   \n",
       "16711      0.00      0.01      0.00         0.00           NaN        NaN   \n",
       "16712      0.00      0.00      0.01         0.00           NaN        NaN   \n",
       "16713      0.01      0.00      0.00         0.00           NaN        NaN   \n",
       "16714      0.00      0.00      0.01         0.00           NaN        NaN   \n",
       "\n",
       "      Rating  \n",
       "0          E  \n",
       "1        NaN  \n",
       "2          E  \n",
       "3          E  \n",
       "4        NaN  \n",
       "...      ...  \n",
       "16710    NaN  \n",
       "16711    NaN  \n",
       "16712    NaN  \n",
       "16713    NaN  \n",
       "16714    NaN  \n",
       "\n",
       "[16715 rows x 11 columns]"
      ]
     },
     "execution_count": 3,
     "metadata": {},
     "output_type": "execute_result"
    }
   ],
   "source": [
    "# загрузим данные\n",
    "\n",
    "try:\n",
    "    df = pd.read_csv('games.csv')\n",
    "except:\n",
    "    df = pd.read_csv('/datasets/games.csv')\n",
    "df.info()\n",
    "df"
   ]
  },
  {
   "cell_type": "markdown",
   "id": "30cd4b12",
   "metadata": {},
   "source": [
    "**Вывод**"
   ]
  },
  {
   "cell_type": "markdown",
   "id": "e54c927d",
   "metadata": {},
   "source": [
    "Таблица состоит почти из 17 тысяч строк и 11 столбцов. \n",
    "\n",
    "В ней содержатся данные по компьютерным играм за 2016 год, такие как наименование, год выпуска, жанры, продажы в Северной Америке (na), Европе (eu), Японии (jp) и других странах мира (миллионы копий), оценки критиков и пользователей, а также рейтинг от организации ESRB.\n",
    "\n",
    "Что необходимо доработать на начальном этапе:\n",
    "* наименования столбцов привести к стандартному змеиному стилю (а именно исправить регистр)\n",
    "* в некоторых столбцах меняем тип данных, например в столбце с годом выпуска\n",
    "* наименования игр, жанров и платформ приводим в нижний регистр"
   ]
  },
  {
   "cell_type": "markdown",
   "id": "f58fe3ae",
   "metadata": {},
   "source": [
    "### Шаг 2. Подготовка данных"
   ]
  },
  {
   "cell_type": "markdown",
   "id": "21b6fdb5",
   "metadata": {},
   "source": [
    "**2.1 Замена названия столбцов (приводим названия к нижнему регистру)**"
   ]
  },
  {
   "cell_type": "code",
   "execution_count": 4,
   "id": "bc23d523",
   "metadata": {},
   "outputs": [
    {
     "data": {
      "text/plain": [
       "Index(['name', 'platform', 'year_of_release', 'genre', 'na_sales', 'eu_sales',\n",
       "       'jp_sales', 'other_sales', 'critic_score', 'user_score', 'rating'],\n",
       "      dtype='object')"
      ]
     },
     "execution_count": 4,
     "metadata": {},
     "output_type": "execute_result"
    }
   ],
   "source": [
    "\n",
    "df.columns = df.columns.str.lower()\n",
    "df.columns"
   ]
  },
  {
   "cell_type": "code",
   "execution_count": 5,
   "id": "fe259c84",
   "metadata": {},
   "outputs": [
    {
     "data": {
      "text/html": [
       "<div>\n",
       "<style scoped>\n",
       "    .dataframe tbody tr th:only-of-type {\n",
       "        vertical-align: middle;\n",
       "    }\n",
       "\n",
       "    .dataframe tbody tr th {\n",
       "        vertical-align: top;\n",
       "    }\n",
       "\n",
       "    .dataframe thead th {\n",
       "        text-align: right;\n",
       "    }\n",
       "</style>\n",
       "<table border=\"1\" class=\"dataframe\">\n",
       "  <thead>\n",
       "    <tr style=\"text-align: right;\">\n",
       "      <th></th>\n",
       "      <th>name</th>\n",
       "      <th>platform</th>\n",
       "      <th>year_of_release</th>\n",
       "      <th>genre</th>\n",
       "      <th>na_sales</th>\n",
       "      <th>eu_sales</th>\n",
       "      <th>jp_sales</th>\n",
       "      <th>other_sales</th>\n",
       "      <th>critic_score</th>\n",
       "      <th>user_score</th>\n",
       "      <th>rating</th>\n",
       "    </tr>\n",
       "  </thead>\n",
       "  <tbody>\n",
       "    <tr>\n",
       "      <th>0</th>\n",
       "      <td>wii sports</td>\n",
       "      <td>Wii</td>\n",
       "      <td>2006.0</td>\n",
       "      <td>sports</td>\n",
       "      <td>41.36</td>\n",
       "      <td>28.96</td>\n",
       "      <td>3.77</td>\n",
       "      <td>8.45</td>\n",
       "      <td>76.0</td>\n",
       "      <td>8</td>\n",
       "      <td>E</td>\n",
       "    </tr>\n",
       "    <tr>\n",
       "      <th>1</th>\n",
       "      <td>super mario bros.</td>\n",
       "      <td>NES</td>\n",
       "      <td>1985.0</td>\n",
       "      <td>platform</td>\n",
       "      <td>29.08</td>\n",
       "      <td>3.58</td>\n",
       "      <td>6.81</td>\n",
       "      <td>0.77</td>\n",
       "      <td>NaN</td>\n",
       "      <td>NaN</td>\n",
       "      <td>NaN</td>\n",
       "    </tr>\n",
       "    <tr>\n",
       "      <th>2</th>\n",
       "      <td>mario kart wii</td>\n",
       "      <td>Wii</td>\n",
       "      <td>2008.0</td>\n",
       "      <td>racing</td>\n",
       "      <td>15.68</td>\n",
       "      <td>12.76</td>\n",
       "      <td>3.79</td>\n",
       "      <td>3.29</td>\n",
       "      <td>82.0</td>\n",
       "      <td>8.3</td>\n",
       "      <td>E</td>\n",
       "    </tr>\n",
       "    <tr>\n",
       "      <th>3</th>\n",
       "      <td>wii sports resort</td>\n",
       "      <td>Wii</td>\n",
       "      <td>2009.0</td>\n",
       "      <td>sports</td>\n",
       "      <td>15.61</td>\n",
       "      <td>10.93</td>\n",
       "      <td>3.28</td>\n",
       "      <td>2.95</td>\n",
       "      <td>80.0</td>\n",
       "      <td>8</td>\n",
       "      <td>E</td>\n",
       "    </tr>\n",
       "    <tr>\n",
       "      <th>4</th>\n",
       "      <td>pokemon red/pokemon blue</td>\n",
       "      <td>GB</td>\n",
       "      <td>1996.0</td>\n",
       "      <td>role-playing</td>\n",
       "      <td>11.27</td>\n",
       "      <td>8.89</td>\n",
       "      <td>10.22</td>\n",
       "      <td>1.00</td>\n",
       "      <td>NaN</td>\n",
       "      <td>NaN</td>\n",
       "      <td>NaN</td>\n",
       "    </tr>\n",
       "    <tr>\n",
       "      <th>...</th>\n",
       "      <td>...</td>\n",
       "      <td>...</td>\n",
       "      <td>...</td>\n",
       "      <td>...</td>\n",
       "      <td>...</td>\n",
       "      <td>...</td>\n",
       "      <td>...</td>\n",
       "      <td>...</td>\n",
       "      <td>...</td>\n",
       "      <td>...</td>\n",
       "      <td>...</td>\n",
       "    </tr>\n",
       "    <tr>\n",
       "      <th>16710</th>\n",
       "      <td>samurai warriors: sanada maru</td>\n",
       "      <td>PS3</td>\n",
       "      <td>2016.0</td>\n",
       "      <td>action</td>\n",
       "      <td>0.00</td>\n",
       "      <td>0.00</td>\n",
       "      <td>0.01</td>\n",
       "      <td>0.00</td>\n",
       "      <td>NaN</td>\n",
       "      <td>NaN</td>\n",
       "      <td>NaN</td>\n",
       "    </tr>\n",
       "    <tr>\n",
       "      <th>16711</th>\n",
       "      <td>lma manager 2007</td>\n",
       "      <td>X360</td>\n",
       "      <td>2006.0</td>\n",
       "      <td>sports</td>\n",
       "      <td>0.00</td>\n",
       "      <td>0.01</td>\n",
       "      <td>0.00</td>\n",
       "      <td>0.00</td>\n",
       "      <td>NaN</td>\n",
       "      <td>NaN</td>\n",
       "      <td>NaN</td>\n",
       "    </tr>\n",
       "    <tr>\n",
       "      <th>16712</th>\n",
       "      <td>haitaka no psychedelica</td>\n",
       "      <td>PSV</td>\n",
       "      <td>2016.0</td>\n",
       "      <td>adventure</td>\n",
       "      <td>0.00</td>\n",
       "      <td>0.00</td>\n",
       "      <td>0.01</td>\n",
       "      <td>0.00</td>\n",
       "      <td>NaN</td>\n",
       "      <td>NaN</td>\n",
       "      <td>NaN</td>\n",
       "    </tr>\n",
       "    <tr>\n",
       "      <th>16713</th>\n",
       "      <td>spirits &amp; spells</td>\n",
       "      <td>GBA</td>\n",
       "      <td>2003.0</td>\n",
       "      <td>platform</td>\n",
       "      <td>0.01</td>\n",
       "      <td>0.00</td>\n",
       "      <td>0.00</td>\n",
       "      <td>0.00</td>\n",
       "      <td>NaN</td>\n",
       "      <td>NaN</td>\n",
       "      <td>NaN</td>\n",
       "    </tr>\n",
       "    <tr>\n",
       "      <th>16714</th>\n",
       "      <td>winning post 8 2016</td>\n",
       "      <td>PSV</td>\n",
       "      <td>2016.0</td>\n",
       "      <td>simulation</td>\n",
       "      <td>0.00</td>\n",
       "      <td>0.00</td>\n",
       "      <td>0.01</td>\n",
       "      <td>0.00</td>\n",
       "      <td>NaN</td>\n",
       "      <td>NaN</td>\n",
       "      <td>NaN</td>\n",
       "    </tr>\n",
       "  </tbody>\n",
       "</table>\n",
       "<p>16715 rows × 11 columns</p>\n",
       "</div>"
      ],
      "text/plain": [
       "                                name platform  year_of_release         genre  \\\n",
       "0                         wii sports      Wii           2006.0        sports   \n",
       "1                  super mario bros.      NES           1985.0      platform   \n",
       "2                     mario kart wii      Wii           2008.0        racing   \n",
       "3                  wii sports resort      Wii           2009.0        sports   \n",
       "4           pokemon red/pokemon blue       GB           1996.0  role-playing   \n",
       "...                              ...      ...              ...           ...   \n",
       "16710  samurai warriors: sanada maru      PS3           2016.0        action   \n",
       "16711               lma manager 2007     X360           2006.0        sports   \n",
       "16712        haitaka no psychedelica      PSV           2016.0     adventure   \n",
       "16713               spirits & spells      GBA           2003.0      platform   \n",
       "16714            winning post 8 2016      PSV           2016.0    simulation   \n",
       "\n",
       "       na_sales  eu_sales  jp_sales  other_sales  critic_score user_score  \\\n",
       "0         41.36     28.96      3.77         8.45          76.0          8   \n",
       "1         29.08      3.58      6.81         0.77           NaN        NaN   \n",
       "2         15.68     12.76      3.79         3.29          82.0        8.3   \n",
       "3         15.61     10.93      3.28         2.95          80.0          8   \n",
       "4         11.27      8.89     10.22         1.00           NaN        NaN   \n",
       "...         ...       ...       ...          ...           ...        ...   \n",
       "16710      0.00      0.00      0.01         0.00           NaN        NaN   \n",
       "16711      0.00      0.01      0.00         0.00           NaN        NaN   \n",
       "16712      0.00      0.00      0.01         0.00           NaN        NaN   \n",
       "16713      0.01      0.00      0.00         0.00           NaN        NaN   \n",
       "16714      0.00      0.00      0.01         0.00           NaN        NaN   \n",
       "\n",
       "      rating  \n",
       "0          E  \n",
       "1        NaN  \n",
       "2          E  \n",
       "3          E  \n",
       "4        NaN  \n",
       "...      ...  \n",
       "16710    NaN  \n",
       "16711    NaN  \n",
       "16712    NaN  \n",
       "16713    NaN  \n",
       "16714    NaN  \n",
       "\n",
       "[16715 rows x 11 columns]"
      ]
     },
     "execution_count": 5,
     "metadata": {},
     "output_type": "execute_result"
    }
   ],
   "source": [
    "# приведем информацию в столбцах name и genre в нижний регистр\n",
    "\n",
    "df['name'] = df['name'].str.lower()\n",
    "df['genre'] = df['genre'].str.lower()\n",
    "df"
   ]
  },
  {
   "cell_type": "markdown",
   "id": "a8f09f76",
   "metadata": {},
   "source": [
    "**2.2 Обработка пропусков**\n",
    "\n",
    "Начнем с пропусков, потому что далее будем менять тип данных, а пропуски будут нам мешать."
   ]
  },
  {
   "cell_type": "code",
   "execution_count": 6,
   "id": "198d8a5f",
   "metadata": {},
   "outputs": [
    {
     "data": {
      "text/plain": [
       "name                  2\n",
       "platform              0\n",
       "year_of_release     269\n",
       "genre                 2\n",
       "na_sales              0\n",
       "eu_sales              0\n",
       "jp_sales              0\n",
       "other_sales           0\n",
       "critic_score       8578\n",
       "user_score         6701\n",
       "rating             6766\n",
       "dtype: int64"
      ]
     },
     "execution_count": 6,
     "metadata": {},
     "output_type": "execute_result"
    }
   ],
   "source": [
    "df.isna().sum()"
   ]
  },
  {
   "cell_type": "code",
   "execution_count": 7,
   "id": "69ea8047",
   "metadata": {
    "scrolled": true
   },
   "outputs": [
    {
     "data": {
      "text/html": [
       "<div>\n",
       "<style scoped>\n",
       "    .dataframe tbody tr th:only-of-type {\n",
       "        vertical-align: middle;\n",
       "    }\n",
       "\n",
       "    .dataframe tbody tr th {\n",
       "        vertical-align: top;\n",
       "    }\n",
       "\n",
       "    .dataframe thead th {\n",
       "        text-align: right;\n",
       "    }\n",
       "</style>\n",
       "<table border=\"1\" class=\"dataframe\">\n",
       "  <thead>\n",
       "    <tr style=\"text-align: right;\">\n",
       "      <th></th>\n",
       "      <th>name</th>\n",
       "      <th>platform</th>\n",
       "      <th>year_of_release</th>\n",
       "      <th>genre</th>\n",
       "      <th>na_sales</th>\n",
       "      <th>eu_sales</th>\n",
       "      <th>jp_sales</th>\n",
       "      <th>other_sales</th>\n",
       "      <th>critic_score</th>\n",
       "      <th>user_score</th>\n",
       "      <th>rating</th>\n",
       "    </tr>\n",
       "  </thead>\n",
       "  <tbody>\n",
       "    <tr>\n",
       "      <th>659</th>\n",
       "      <td>NaN</td>\n",
       "      <td>GEN</td>\n",
       "      <td>1993.0</td>\n",
       "      <td>NaN</td>\n",
       "      <td>1.78</td>\n",
       "      <td>0.53</td>\n",
       "      <td>0.00</td>\n",
       "      <td>0.08</td>\n",
       "      <td>NaN</td>\n",
       "      <td>NaN</td>\n",
       "      <td>NaN</td>\n",
       "    </tr>\n",
       "    <tr>\n",
       "      <th>14244</th>\n",
       "      <td>NaN</td>\n",
       "      <td>GEN</td>\n",
       "      <td>1993.0</td>\n",
       "      <td>NaN</td>\n",
       "      <td>0.00</td>\n",
       "      <td>0.00</td>\n",
       "      <td>0.03</td>\n",
       "      <td>0.00</td>\n",
       "      <td>NaN</td>\n",
       "      <td>NaN</td>\n",
       "      <td>NaN</td>\n",
       "    </tr>\n",
       "  </tbody>\n",
       "</table>\n",
       "</div>"
      ],
      "text/plain": [
       "      name platform  year_of_release genre  na_sales  eu_sales  jp_sales  \\\n",
       "659    NaN      GEN           1993.0   NaN      1.78      0.53      0.00   \n",
       "14244  NaN      GEN           1993.0   NaN      0.00      0.00      0.03   \n",
       "\n",
       "       other_sales  critic_score user_score rating  \n",
       "659           0.08           NaN        NaN    NaN  \n",
       "14244         0.00           NaN        NaN    NaN  "
      ]
     },
     "metadata": {},
     "output_type": "display_data"
    }
   ],
   "source": [
    "# проверим 2 строки с пропущенными названиями\n",
    "\n",
    "df_name = df[df['name'].isna()]\n",
    "display(df_name)"
   ]
  },
  {
   "cell_type": "markdown",
   "id": "30b8fa25",
   "metadata": {},
   "source": [
    "**Пропуски в названии совпадают с пропусками в жанре, убираем 2 эти строки.**"
   ]
  },
  {
   "cell_type": "code",
   "execution_count": 8,
   "id": "d74449d1",
   "metadata": {},
   "outputs": [],
   "source": [
    "df.dropna(subset=['name'], axis=0, inplace=True)"
   ]
  },
  {
   "cell_type": "markdown",
   "id": "cede9743",
   "metadata": {},
   "source": [
    "Проверили сколько пропущенных значений содержиться в датасете.\n",
    "Не так много столбцов задето. Если поле имя и жанр совпадают по пропускам (всего 2 NaN-а), то эти две строки можем удалить. 269 пропуска в годах выпуска, обработаем их по возможности.\n",
    "\n",
    "А вот с рейтингом и оценками пользователей и критиков стоит подумать, очень много значений может повлиять на половину таблицы и качественный анализ."
   ]
  },
  {
   "cell_type": "code",
   "execution_count": 9,
   "id": "c8c51dce",
   "metadata": {},
   "outputs": [
    {
     "name": "stdout",
     "output_type": "stream",
     "text": [
      "name                  0\n",
      "platform              0\n",
      "year_of_release     146\n",
      "genre                 0\n",
      "na_sales              0\n",
      "eu_sales              0\n",
      "jp_sales              0\n",
      "other_sales           0\n",
      "critic_score       8576\n",
      "user_score         6699\n",
      "rating             6764\n",
      "dtype: int64\n",
      "\n",
      "0\n",
      "\n"
     ]
    },
    {
     "data": {
      "text/html": [
       "<div>\n",
       "<style scoped>\n",
       "    .dataframe tbody tr th:only-of-type {\n",
       "        vertical-align: middle;\n",
       "    }\n",
       "\n",
       "    .dataframe tbody tr th {\n",
       "        vertical-align: top;\n",
       "    }\n",
       "\n",
       "    .dataframe thead th {\n",
       "        text-align: right;\n",
       "    }\n",
       "</style>\n",
       "<table border=\"1\" class=\"dataframe\">\n",
       "  <thead>\n",
       "    <tr style=\"text-align: right;\">\n",
       "      <th></th>\n",
       "      <th>eu_sales</th>\n",
       "      <th>jp_sales</th>\n",
       "      <th>na_sales</th>\n",
       "      <th>other_sales</th>\n",
       "    </tr>\n",
       "    <tr>\n",
       "      <th>genre</th>\n",
       "      <th></th>\n",
       "      <th></th>\n",
       "      <th></th>\n",
       "      <th></th>\n",
       "    </tr>\n",
       "  </thead>\n",
       "  <tbody>\n",
       "    <tr>\n",
       "      <th>action</th>\n",
       "      <td>0.057407</td>\n",
       "      <td>0.047407</td>\n",
       "      <td>0.196667</td>\n",
       "      <td>0.014815</td>\n",
       "    </tr>\n",
       "    <tr>\n",
       "      <th>adventure</th>\n",
       "      <td>0.035556</td>\n",
       "      <td>0.006667</td>\n",
       "      <td>0.415556</td>\n",
       "      <td>0.013333</td>\n",
       "    </tr>\n",
       "    <tr>\n",
       "      <th>fighting</th>\n",
       "      <td>0.162857</td>\n",
       "      <td>0.028571</td>\n",
       "      <td>0.308571</td>\n",
       "      <td>0.062857</td>\n",
       "    </tr>\n",
       "    <tr>\n",
       "      <th>misc</th>\n",
       "      <td>0.094667</td>\n",
       "      <td>0.004667</td>\n",
       "      <td>0.372000</td>\n",
       "      <td>0.068667</td>\n",
       "    </tr>\n",
       "    <tr>\n",
       "      <th>platform</th>\n",
       "      <td>0.053333</td>\n",
       "      <td>0.013333</td>\n",
       "      <td>0.117778</td>\n",
       "      <td>0.008889</td>\n",
       "    </tr>\n",
       "    <tr>\n",
       "      <th>puzzle</th>\n",
       "      <td>0.027143</td>\n",
       "      <td>0.090000</td>\n",
       "      <td>0.168571</td>\n",
       "      <td>0.004286</td>\n",
       "    </tr>\n",
       "    <tr>\n",
       "      <th>racing</th>\n",
       "      <td>0.080000</td>\n",
       "      <td>0.005385</td>\n",
       "      <td>0.111538</td>\n",
       "      <td>0.022308</td>\n",
       "    </tr>\n",
       "    <tr>\n",
       "      <th>role-playing</th>\n",
       "      <td>0.029286</td>\n",
       "      <td>0.109286</td>\n",
       "      <td>0.049286</td>\n",
       "      <td>0.011429</td>\n",
       "    </tr>\n",
       "    <tr>\n",
       "      <th>shooter</th>\n",
       "      <td>0.031667</td>\n",
       "      <td>0.005000</td>\n",
       "      <td>0.157500</td>\n",
       "      <td>0.008333</td>\n",
       "    </tr>\n",
       "    <tr>\n",
       "      <th>simulation</th>\n",
       "      <td>0.011538</td>\n",
       "      <td>0.012308</td>\n",
       "      <td>0.082308</td>\n",
       "      <td>0.010000</td>\n",
       "    </tr>\n",
       "    <tr>\n",
       "      <th>sports</th>\n",
       "      <td>0.079333</td>\n",
       "      <td>0.018000</td>\n",
       "      <td>0.182667</td>\n",
       "      <td>0.024000</td>\n",
       "    </tr>\n",
       "    <tr>\n",
       "      <th>strategy</th>\n",
       "      <td>0.034000</td>\n",
       "      <td>0.066000</td>\n",
       "      <td>0.086000</td>\n",
       "      <td>0.010000</td>\n",
       "    </tr>\n",
       "  </tbody>\n",
       "</table>\n",
       "</div>"
      ],
      "text/plain": [
       "              eu_sales  jp_sales  na_sales  other_sales\n",
       "genre                                                  \n",
       "action        0.057407  0.047407  0.196667     0.014815\n",
       "adventure     0.035556  0.006667  0.415556     0.013333\n",
       "fighting      0.162857  0.028571  0.308571     0.062857\n",
       "misc          0.094667  0.004667  0.372000     0.068667\n",
       "platform      0.053333  0.013333  0.117778     0.008889\n",
       "puzzle        0.027143  0.090000  0.168571     0.004286\n",
       "racing        0.080000  0.005385  0.111538     0.022308\n",
       "role-playing  0.029286  0.109286  0.049286     0.011429\n",
       "shooter       0.031667  0.005000  0.157500     0.008333\n",
       "simulation    0.011538  0.012308  0.082308     0.010000\n",
       "sports        0.079333  0.018000  0.182667     0.024000\n",
       "strategy      0.034000  0.066000  0.086000     0.010000"
      ]
     },
     "metadata": {},
     "output_type": "display_data"
    },
    {
     "name": "stdout",
     "output_type": "stream",
     "text": [
      "\n",
      "name                  0\n",
      "platform              0\n",
      "year_of_release       0\n",
      "genre                 0\n",
      "na_sales              0\n",
      "eu_sales              0\n",
      "jp_sales              0\n",
      "other_sales           0\n",
      "critic_score       8492\n",
      "user_score         6633\n",
      "rating             6699\n",
      "dtype: int64\n",
      "\n"
     ]
    }
   ],
   "source": [
    "# замена пропусков year_of_release\n",
    "\n",
    "df['year_of_release'] = df['year_of_release'].fillna(df.groupby('name')['year_of_release'].transform('median'))\n",
    "print(df.isna().sum())\n",
    "print()\n",
    "\n",
    "#количество уникальных значений где year_of_release не определен\n",
    "\n",
    "df_test = df[df['year_of_release'].isna()]\n",
    "print(df_test['year_of_release'].value_counts().sum())\n",
    "print()\n",
    "\n",
    "# проверяем продажи копий\n",
    "\n",
    "df_test_pivot = df_test.pivot_table(index='genre', values=['na_sales', 'eu_sales',\n",
    "       'jp_sales', 'other_sales'])\n",
    "display(df_test_pivot)\n",
    "print()\n",
    "\n",
    "# удаление строк с пропусками в годах\n",
    "\n",
    "df.dropna(subset=['year_of_release'], axis=0, inplace=True)\n",
    "print(df.isna().sum())\n",
    "print()"
   ]
  },
  {
   "cell_type": "markdown",
   "id": "f31cd258",
   "metadata": {},
   "source": [
    "Половину пропусков по годам выпуска заменили на медианные значения по названиям игр. Оставшиеся 146 значений - уникальны. Рискнем и удалим эти строки, так как для всего датасета это менее 1% данных и, если посмотреть на сводную по жанрам из этой выборки, мы видим, что средние продажи данных игр составляют меньше миллиона копий."
   ]
  },
  {
   "cell_type": "code",
   "execution_count": 10,
   "id": "dc76389d",
   "metadata": {
    "scrolled": false
   },
   "outputs": [],
   "source": [
    "# замена пропусков rating\n",
    "\n",
    "df['rating'] = df['rating'].fillna('undefind')"
   ]
  },
  {
   "cell_type": "markdown",
   "id": "ace0ba72",
   "metadata": {},
   "source": [
    "Итого у нас остаются пробелы только в оценках и рейтинге. Причинами пропущенных значений в столбце 'rating' могут быть не обновленные данные, сбои при получении данных, неподдерживаемые форматы, ошибки машины и прочее. Иправить ситуацию можно запросив у коллег корректные данные. Сейчас можно заменить NaN-ы в столбце 'rating' на \"undefind\"."
   ]
  },
  {
   "cell_type": "code",
   "execution_count": 11,
   "id": "314a1570",
   "metadata": {},
   "outputs": [
    {
     "data": {
      "text/html": [
       "<div>\n",
       "<style scoped>\n",
       "    .dataframe tbody tr th:only-of-type {\n",
       "        vertical-align: middle;\n",
       "    }\n",
       "\n",
       "    .dataframe tbody tr th {\n",
       "        vertical-align: top;\n",
       "    }\n",
       "\n",
       "    .dataframe thead th {\n",
       "        text-align: right;\n",
       "    }\n",
       "</style>\n",
       "<table border=\"1\" class=\"dataframe\">\n",
       "  <thead>\n",
       "    <tr style=\"text-align: right;\">\n",
       "      <th></th>\n",
       "      <th>name</th>\n",
       "      <th>platform</th>\n",
       "      <th>year_of_release</th>\n",
       "      <th>genre</th>\n",
       "      <th>na_sales</th>\n",
       "      <th>eu_sales</th>\n",
       "      <th>jp_sales</th>\n",
       "      <th>other_sales</th>\n",
       "      <th>critic_score</th>\n",
       "      <th>user_score</th>\n",
       "      <th>rating</th>\n",
       "    </tr>\n",
       "  </thead>\n",
       "  <tbody>\n",
       "  </tbody>\n",
       "</table>\n",
       "</div>"
      ],
      "text/plain": [
       "Empty DataFrame\n",
       "Columns: [name, platform, year_of_release, genre, na_sales, eu_sales, jp_sales, other_sales, critic_score, user_score, rating]\n",
       "Index: []"
      ]
     },
     "execution_count": 11,
     "metadata": {},
     "output_type": "execute_result"
    }
   ],
   "source": [
    "# проверим сколько строк в critic_score с нулевым значением\n",
    "\n",
    "df.loc[df['critic_score']==0.0]"
   ]
  },
  {
   "cell_type": "code",
   "execution_count": 12,
   "id": "73bfd2e7",
   "metadata": {},
   "outputs": [
    {
     "name": "stdout",
     "output_type": "stream",
     "text": [
      "name                  0\n",
      "platform              0\n",
      "year_of_release       0\n",
      "genre                 0\n",
      "na_sales              0\n",
      "eu_sales              0\n",
      "jp_sales              0\n",
      "other_sales           0\n",
      "critic_score       8492\n",
      "user_score         6633\n",
      "rating                0\n",
      "dtype: int64\n",
      "name                  0\n",
      "platform              0\n",
      "year_of_release       0\n",
      "genre                 0\n",
      "na_sales              0\n",
      "eu_sales              0\n",
      "jp_sales              0\n",
      "other_sales           0\n",
      "critic_score          0\n",
      "user_score         6633\n",
      "rating                0\n",
      "dtype: int64\n"
     ]
    }
   ],
   "source": [
    "print(df.isna().sum())\n",
    "df['critic_score'] = df['critic_score'].fillna(0.0)\n",
    "\n",
    "df_critics = df[df['critic_score'].isna()]\n",
    "print(df.isna().sum())"
   ]
  },
  {
   "cell_type": "markdown",
   "id": "627710c7",
   "metadata": {},
   "source": [
    "Касательно оценок, можно предположить, что данные были утеряны при импорте файла, или же критики пропустили графу \"Оценить\". Исключая пропуски, в таблице нет значений равных нулю. Предположим, что оценки не были проставлены и заменим пропуски в critic_score на 0."
   ]
  },
  {
   "cell_type": "code",
   "execution_count": 13,
   "id": "36ac30c6",
   "metadata": {},
   "outputs": [
    {
     "data": {
      "text/html": [
       "<div>\n",
       "<style scoped>\n",
       "    .dataframe tbody tr th:only-of-type {\n",
       "        vertical-align: middle;\n",
       "    }\n",
       "\n",
       "    .dataframe tbody tr th {\n",
       "        vertical-align: top;\n",
       "    }\n",
       "\n",
       "    .dataframe thead th {\n",
       "        text-align: right;\n",
       "    }\n",
       "</style>\n",
       "<table border=\"1\" class=\"dataframe\">\n",
       "  <thead>\n",
       "    <tr style=\"text-align: right;\">\n",
       "      <th></th>\n",
       "      <th>name</th>\n",
       "      <th>platform</th>\n",
       "      <th>year_of_release</th>\n",
       "      <th>genre</th>\n",
       "      <th>na_sales</th>\n",
       "      <th>eu_sales</th>\n",
       "      <th>jp_sales</th>\n",
       "      <th>other_sales</th>\n",
       "      <th>critic_score</th>\n",
       "      <th>user_score</th>\n",
       "      <th>rating</th>\n",
       "    </tr>\n",
       "  </thead>\n",
       "  <tbody>\n",
       "  </tbody>\n",
       "</table>\n",
       "</div>"
      ],
      "text/plain": [
       "Empty DataFrame\n",
       "Columns: [name, platform, year_of_release, genre, na_sales, eu_sales, jp_sales, other_sales, critic_score, user_score, rating]\n",
       "Index: []"
      ]
     },
     "execution_count": 13,
     "metadata": {},
     "output_type": "execute_result"
    }
   ],
   "source": [
    "# проверим сколько строк в user_score с нулевым значением\n",
    "\n",
    "df.loc[df['user_score']==0.0]"
   ]
  },
  {
   "cell_type": "code",
   "execution_count": 14,
   "id": "8b8ea87a",
   "metadata": {},
   "outputs": [
    {
     "data": {
      "text/html": [
       "<div>\n",
       "<style scoped>\n",
       "    .dataframe tbody tr th:only-of-type {\n",
       "        vertical-align: middle;\n",
       "    }\n",
       "\n",
       "    .dataframe tbody tr th {\n",
       "        vertical-align: top;\n",
       "    }\n",
       "\n",
       "    .dataframe thead th {\n",
       "        text-align: right;\n",
       "    }\n",
       "</style>\n",
       "<table border=\"1\" class=\"dataframe\">\n",
       "  <thead>\n",
       "    <tr style=\"text-align: right;\">\n",
       "      <th></th>\n",
       "      <th>name</th>\n",
       "      <th>platform</th>\n",
       "      <th>year_of_release</th>\n",
       "      <th>genre</th>\n",
       "      <th>na_sales</th>\n",
       "      <th>eu_sales</th>\n",
       "      <th>jp_sales</th>\n",
       "      <th>other_sales</th>\n",
       "      <th>critic_score</th>\n",
       "      <th>user_score</th>\n",
       "      <th>rating</th>\n",
       "    </tr>\n",
       "  </thead>\n",
       "  <tbody>\n",
       "    <tr>\n",
       "      <th>0</th>\n",
       "      <td>wii sports</td>\n",
       "      <td>Wii</td>\n",
       "      <td>2006.0</td>\n",
       "      <td>sports</td>\n",
       "      <td>41.36</td>\n",
       "      <td>28.96</td>\n",
       "      <td>3.77</td>\n",
       "      <td>8.45</td>\n",
       "      <td>76.0</td>\n",
       "      <td>8</td>\n",
       "      <td>E</td>\n",
       "    </tr>\n",
       "    <tr>\n",
       "      <th>1</th>\n",
       "      <td>super mario bros.</td>\n",
       "      <td>NES</td>\n",
       "      <td>1985.0</td>\n",
       "      <td>platform</td>\n",
       "      <td>29.08</td>\n",
       "      <td>3.58</td>\n",
       "      <td>6.81</td>\n",
       "      <td>0.77</td>\n",
       "      <td>0.0</td>\n",
       "      <td>NaN</td>\n",
       "      <td>undefind</td>\n",
       "    </tr>\n",
       "    <tr>\n",
       "      <th>2</th>\n",
       "      <td>mario kart wii</td>\n",
       "      <td>Wii</td>\n",
       "      <td>2008.0</td>\n",
       "      <td>racing</td>\n",
       "      <td>15.68</td>\n",
       "      <td>12.76</td>\n",
       "      <td>3.79</td>\n",
       "      <td>3.29</td>\n",
       "      <td>82.0</td>\n",
       "      <td>8.3</td>\n",
       "      <td>E</td>\n",
       "    </tr>\n",
       "    <tr>\n",
       "      <th>3</th>\n",
       "      <td>wii sports resort</td>\n",
       "      <td>Wii</td>\n",
       "      <td>2009.0</td>\n",
       "      <td>sports</td>\n",
       "      <td>15.61</td>\n",
       "      <td>10.93</td>\n",
       "      <td>3.28</td>\n",
       "      <td>2.95</td>\n",
       "      <td>80.0</td>\n",
       "      <td>8</td>\n",
       "      <td>E</td>\n",
       "    </tr>\n",
       "    <tr>\n",
       "      <th>4</th>\n",
       "      <td>pokemon red/pokemon blue</td>\n",
       "      <td>GB</td>\n",
       "      <td>1996.0</td>\n",
       "      <td>role-playing</td>\n",
       "      <td>11.27</td>\n",
       "      <td>8.89</td>\n",
       "      <td>10.22</td>\n",
       "      <td>1.00</td>\n",
       "      <td>0.0</td>\n",
       "      <td>NaN</td>\n",
       "      <td>undefind</td>\n",
       "    </tr>\n",
       "    <tr>\n",
       "      <th>...</th>\n",
       "      <td>...</td>\n",
       "      <td>...</td>\n",
       "      <td>...</td>\n",
       "      <td>...</td>\n",
       "      <td>...</td>\n",
       "      <td>...</td>\n",
       "      <td>...</td>\n",
       "      <td>...</td>\n",
       "      <td>...</td>\n",
       "      <td>...</td>\n",
       "      <td>...</td>\n",
       "    </tr>\n",
       "    <tr>\n",
       "      <th>16710</th>\n",
       "      <td>samurai warriors: sanada maru</td>\n",
       "      <td>PS3</td>\n",
       "      <td>2016.0</td>\n",
       "      <td>action</td>\n",
       "      <td>0.00</td>\n",
       "      <td>0.00</td>\n",
       "      <td>0.01</td>\n",
       "      <td>0.00</td>\n",
       "      <td>0.0</td>\n",
       "      <td>NaN</td>\n",
       "      <td>undefind</td>\n",
       "    </tr>\n",
       "    <tr>\n",
       "      <th>16711</th>\n",
       "      <td>lma manager 2007</td>\n",
       "      <td>X360</td>\n",
       "      <td>2006.0</td>\n",
       "      <td>sports</td>\n",
       "      <td>0.00</td>\n",
       "      <td>0.01</td>\n",
       "      <td>0.00</td>\n",
       "      <td>0.00</td>\n",
       "      <td>0.0</td>\n",
       "      <td>NaN</td>\n",
       "      <td>undefind</td>\n",
       "    </tr>\n",
       "    <tr>\n",
       "      <th>16712</th>\n",
       "      <td>haitaka no psychedelica</td>\n",
       "      <td>PSV</td>\n",
       "      <td>2016.0</td>\n",
       "      <td>adventure</td>\n",
       "      <td>0.00</td>\n",
       "      <td>0.00</td>\n",
       "      <td>0.01</td>\n",
       "      <td>0.00</td>\n",
       "      <td>0.0</td>\n",
       "      <td>NaN</td>\n",
       "      <td>undefind</td>\n",
       "    </tr>\n",
       "    <tr>\n",
       "      <th>16713</th>\n",
       "      <td>spirits &amp; spells</td>\n",
       "      <td>GBA</td>\n",
       "      <td>2003.0</td>\n",
       "      <td>platform</td>\n",
       "      <td>0.01</td>\n",
       "      <td>0.00</td>\n",
       "      <td>0.00</td>\n",
       "      <td>0.00</td>\n",
       "      <td>0.0</td>\n",
       "      <td>NaN</td>\n",
       "      <td>undefind</td>\n",
       "    </tr>\n",
       "    <tr>\n",
       "      <th>16714</th>\n",
       "      <td>winning post 8 2016</td>\n",
       "      <td>PSV</td>\n",
       "      <td>2016.0</td>\n",
       "      <td>simulation</td>\n",
       "      <td>0.00</td>\n",
       "      <td>0.00</td>\n",
       "      <td>0.01</td>\n",
       "      <td>0.00</td>\n",
       "      <td>0.0</td>\n",
       "      <td>NaN</td>\n",
       "      <td>undefind</td>\n",
       "    </tr>\n",
       "  </tbody>\n",
       "</table>\n",
       "<p>16567 rows × 11 columns</p>\n",
       "</div>"
      ],
      "text/plain": [
       "                                name platform  year_of_release         genre  \\\n",
       "0                         wii sports      Wii           2006.0        sports   \n",
       "1                  super mario bros.      NES           1985.0      platform   \n",
       "2                     mario kart wii      Wii           2008.0        racing   \n",
       "3                  wii sports resort      Wii           2009.0        sports   \n",
       "4           pokemon red/pokemon blue       GB           1996.0  role-playing   \n",
       "...                              ...      ...              ...           ...   \n",
       "16710  samurai warriors: sanada maru      PS3           2016.0        action   \n",
       "16711               lma manager 2007     X360           2006.0        sports   \n",
       "16712        haitaka no psychedelica      PSV           2016.0     adventure   \n",
       "16713               spirits & spells      GBA           2003.0      platform   \n",
       "16714            winning post 8 2016      PSV           2016.0    simulation   \n",
       "\n",
       "       na_sales  eu_sales  jp_sales  other_sales  critic_score user_score  \\\n",
       "0         41.36     28.96      3.77         8.45          76.0          8   \n",
       "1         29.08      3.58      6.81         0.77           0.0        NaN   \n",
       "2         15.68     12.76      3.79         3.29          82.0        8.3   \n",
       "3         15.61     10.93      3.28         2.95          80.0          8   \n",
       "4         11.27      8.89     10.22         1.00           0.0        NaN   \n",
       "...         ...       ...       ...          ...           ...        ...   \n",
       "16710      0.00      0.00      0.01         0.00           0.0        NaN   \n",
       "16711      0.00      0.01      0.00         0.00           0.0        NaN   \n",
       "16712      0.00      0.00      0.01         0.00           0.0        NaN   \n",
       "16713      0.01      0.00      0.00         0.00           0.0        NaN   \n",
       "16714      0.00      0.00      0.01         0.00           0.0        NaN   \n",
       "\n",
       "         rating  \n",
       "0             E  \n",
       "1      undefind  \n",
       "2             E  \n",
       "3             E  \n",
       "4      undefind  \n",
       "...         ...  \n",
       "16710  undefind  \n",
       "16711  undefind  \n",
       "16712  undefind  \n",
       "16713  undefind  \n",
       "16714  undefind  \n",
       "\n",
       "[16567 rows x 11 columns]"
      ]
     },
     "execution_count": 14,
     "metadata": {},
     "output_type": "execute_result"
    }
   ],
   "source": [
    "df.loc[df['user_score'] == 'tbd', 'user_score'] = 0.0\n",
    "\n",
    "df"
   ]
  },
  {
   "cell_type": "markdown",
   "id": "b1df2cc5",
   "metadata": {},
   "source": [
    "Помимо пропусков в столбце с оценкой пользователей встречается аббревиатура 'tbd'. Запрос в поисковике выдал расшифровку аббревиатуры как \"To Be Determined\" - \"будет определено\". Используется, если какая-то информация еще не определена. Т.е. в нашем случае оценки пользователей еще не обработаны или не собраны. Таких значений в нашей таблице 2 394 строк.\n",
    "\n",
    "Если мы прежположим, что сейчас у нас нет реальной возможности получить обновленные данные по оценкам пользователей, то мы можем считать эти значения равными 0. По данному столбцу также нет нулевых значений. Заменили все 'tbd' на 0."
   ]
  },
  {
   "cell_type": "code",
   "execution_count": 15,
   "id": "03fcc0fe",
   "metadata": {},
   "outputs": [
    {
     "name": "stdout",
     "output_type": "stream",
     "text": [
      "Уникальных значений: 5730\n",
      "\n",
      "name               0\n",
      "platform           0\n",
      "year_of_release    0\n",
      "genre              0\n",
      "na_sales           0\n",
      "eu_sales           0\n",
      "jp_sales           0\n",
      "other_sales        0\n",
      "critic_score       0\n",
      "user_score         0\n",
      "rating             0\n",
      "dtype: int64\n"
     ]
    }
   ],
   "source": [
    "# закончим с обработкой пропусков по оценкам пользователей\n",
    "\n",
    "data_users = df[df['user_score'].isna()]\n",
    "\n",
    "print('Уникальных значений:', len(data_users['name'].unique()))\n",
    "print()\n",
    "\n",
    "df['user_score'] = df['user_score'].fillna(0)\n",
    "print(df.isna().sum())"
   ]
  },
  {
   "cell_type": "markdown",
   "id": "4ec15f46",
   "metadata": {},
   "source": [
    "Так же как и с критиками, пропуски могут быть просто не заполненными значениями: игру приобрело мало людей и оценки не были просталены. Проверим по уникальным играм, можем ли мы заменить NaN-ы в оценках пользователей на нулевые значения. 5 730 не повторяющихся игр, проставляем нули."
   ]
  },
  {
   "cell_type": "markdown",
   "id": "e029b6c3",
   "metadata": {},
   "source": [
    "**2.3 Преобразование данных в нужные типы.**\n",
    "\n",
    "На данном этапе меняем тип данных только в столбце с годом выпуска. Данные по продажам представлены в миллионах копий т.е. значения после запятой - тысячи они немаловажны. Данные по оценкам чаще всего представляются как дробные числа и \"хвосты\" этих дробей могут повлиять на общую картину."
   ]
  },
  {
   "cell_type": "code",
   "execution_count": 16,
   "id": "65608b95",
   "metadata": {},
   "outputs": [
    {
     "name": "stdout",
     "output_type": "stream",
     "text": [
      "<class 'pandas.core.frame.DataFrame'>\n",
      "Int64Index: 16567 entries, 0 to 16714\n",
      "Data columns (total 11 columns):\n",
      " #   Column           Non-Null Count  Dtype  \n",
      "---  ------           --------------  -----  \n",
      " 0   name             16567 non-null  object \n",
      " 1   platform         16567 non-null  object \n",
      " 2   year_of_release  16567 non-null  int64  \n",
      " 3   genre            16567 non-null  object \n",
      " 4   na_sales         16567 non-null  float64\n",
      " 5   eu_sales         16567 non-null  float64\n",
      " 6   jp_sales         16567 non-null  float64\n",
      " 7   other_sales      16567 non-null  float64\n",
      " 8   critic_score     16567 non-null  float64\n",
      " 9   user_score       16567 non-null  float64\n",
      " 10  rating           16567 non-null  object \n",
      "dtypes: float64(6), int64(1), object(4)\n",
      "memory usage: 1.5+ MB\n"
     ]
    }
   ],
   "source": [
    "df['year_of_release'] = df['year_of_release'].astype(int, errors='ignore')\n",
    "df['user_score'] = df['user_score'].astype(float, errors='ignore')\n",
    "df.info()"
   ]
  },
  {
   "cell_type": "markdown",
   "id": "2baa5b12",
   "metadata": {},
   "source": [
    "**Вывод**"
   ]
  },
  {
   "cell_type": "markdown",
   "id": "aac442f3",
   "metadata": {},
   "source": [
    "На этапе подготовки данных мы обработали почти всю таблицу:\n",
    "\n",
    "* Названия столбцов приведены к общему стилю.\n",
    "* Наименования игр и их жанры переведены в нижний регистр (на случай если в данных есть дубликаты в разных регистрах).\n",
    "* Пропуски. Строк, в которых отсутствовали названия и жанры две, поэтому мы их удалили, так как их продажи не сильно бы повлияли на анализ. Пропущенные значения в столбце с годами выпуска заменили на медианные по группам из названий, а оставшиеся удалили (146 строк). NaN-ы ESRB заполнили значениями 'undefind', возможно некоторые игры еще не получили свой рейтинг. Данные без оценки критиков получили нули, без оценки пользователей заполнены все нулями. \n",
    "По оценкам было два предположения: либо пропуски случайны по каким-то техническим причинам, либо игры и правда были не оценены. В первом случае мы можем запросить корректные данные у коллег, но у нас нет такой возможности, а убирать все эти пропуски из таблицы, значит потерять половину данных. Поэтому мы попробуем поработать с вариантом \"пропуски в оценках - на самом деле пропуски\".\n",
    "* Также попалась аббревиатура в оценках пользователей 'tbd'. Пришли к выводу что этих оценок пока что нет, но будут позже. Поэтому пока что заполняем нулями.\n",
    "* Последнее, что поменяли это типы данных. По-моему мнению замену типа данных явно требует только столбец с годами выпуска."
   ]
  },
  {
   "cell_type": "markdown",
   "id": "b06af6a2",
   "metadata": {},
   "source": [
    "**2.4 Посчитаем суммарные продажи во всех регионах и запишем их в отдельный столбец**"
   ]
  },
  {
   "cell_type": "code",
   "execution_count": 17,
   "id": "f3a7303d",
   "metadata": {},
   "outputs": [
    {
     "data": {
      "text/html": [
       "<div>\n",
       "<style scoped>\n",
       "    .dataframe tbody tr th:only-of-type {\n",
       "        vertical-align: middle;\n",
       "    }\n",
       "\n",
       "    .dataframe tbody tr th {\n",
       "        vertical-align: top;\n",
       "    }\n",
       "\n",
       "    .dataframe thead th {\n",
       "        text-align: right;\n",
       "    }\n",
       "</style>\n",
       "<table border=\"1\" class=\"dataframe\">\n",
       "  <thead>\n",
       "    <tr style=\"text-align: right;\">\n",
       "      <th></th>\n",
       "      <th>name</th>\n",
       "      <th>platform</th>\n",
       "      <th>year_of_release</th>\n",
       "      <th>genre</th>\n",
       "      <th>na_sales</th>\n",
       "      <th>eu_sales</th>\n",
       "      <th>jp_sales</th>\n",
       "      <th>other_sales</th>\n",
       "      <th>critic_score</th>\n",
       "      <th>user_score</th>\n",
       "      <th>rating</th>\n",
       "      <th>all_sales</th>\n",
       "    </tr>\n",
       "  </thead>\n",
       "  <tbody>\n",
       "    <tr>\n",
       "      <th>0</th>\n",
       "      <td>wii sports</td>\n",
       "      <td>Wii</td>\n",
       "      <td>2006</td>\n",
       "      <td>sports</td>\n",
       "      <td>41.36</td>\n",
       "      <td>28.96</td>\n",
       "      <td>3.77</td>\n",
       "      <td>8.45</td>\n",
       "      <td>76.0</td>\n",
       "      <td>8.0</td>\n",
       "      <td>E</td>\n",
       "      <td>82.54</td>\n",
       "    </tr>\n",
       "    <tr>\n",
       "      <th>1</th>\n",
       "      <td>super mario bros.</td>\n",
       "      <td>NES</td>\n",
       "      <td>1985</td>\n",
       "      <td>platform</td>\n",
       "      <td>29.08</td>\n",
       "      <td>3.58</td>\n",
       "      <td>6.81</td>\n",
       "      <td>0.77</td>\n",
       "      <td>0.0</td>\n",
       "      <td>0.0</td>\n",
       "      <td>undefind</td>\n",
       "      <td>40.24</td>\n",
       "    </tr>\n",
       "    <tr>\n",
       "      <th>2</th>\n",
       "      <td>mario kart wii</td>\n",
       "      <td>Wii</td>\n",
       "      <td>2008</td>\n",
       "      <td>racing</td>\n",
       "      <td>15.68</td>\n",
       "      <td>12.76</td>\n",
       "      <td>3.79</td>\n",
       "      <td>3.29</td>\n",
       "      <td>82.0</td>\n",
       "      <td>8.3</td>\n",
       "      <td>E</td>\n",
       "      <td>35.52</td>\n",
       "    </tr>\n",
       "    <tr>\n",
       "      <th>3</th>\n",
       "      <td>wii sports resort</td>\n",
       "      <td>Wii</td>\n",
       "      <td>2009</td>\n",
       "      <td>sports</td>\n",
       "      <td>15.61</td>\n",
       "      <td>10.93</td>\n",
       "      <td>3.28</td>\n",
       "      <td>2.95</td>\n",
       "      <td>80.0</td>\n",
       "      <td>8.0</td>\n",
       "      <td>E</td>\n",
       "      <td>32.77</td>\n",
       "    </tr>\n",
       "    <tr>\n",
       "      <th>4</th>\n",
       "      <td>pokemon red/pokemon blue</td>\n",
       "      <td>GB</td>\n",
       "      <td>1996</td>\n",
       "      <td>role-playing</td>\n",
       "      <td>11.27</td>\n",
       "      <td>8.89</td>\n",
       "      <td>10.22</td>\n",
       "      <td>1.00</td>\n",
       "      <td>0.0</td>\n",
       "      <td>0.0</td>\n",
       "      <td>undefind</td>\n",
       "      <td>31.38</td>\n",
       "    </tr>\n",
       "    <tr>\n",
       "      <th>...</th>\n",
       "      <td>...</td>\n",
       "      <td>...</td>\n",
       "      <td>...</td>\n",
       "      <td>...</td>\n",
       "      <td>...</td>\n",
       "      <td>...</td>\n",
       "      <td>...</td>\n",
       "      <td>...</td>\n",
       "      <td>...</td>\n",
       "      <td>...</td>\n",
       "      <td>...</td>\n",
       "      <td>...</td>\n",
       "    </tr>\n",
       "    <tr>\n",
       "      <th>16710</th>\n",
       "      <td>samurai warriors: sanada maru</td>\n",
       "      <td>PS3</td>\n",
       "      <td>2016</td>\n",
       "      <td>action</td>\n",
       "      <td>0.00</td>\n",
       "      <td>0.00</td>\n",
       "      <td>0.01</td>\n",
       "      <td>0.00</td>\n",
       "      <td>0.0</td>\n",
       "      <td>0.0</td>\n",
       "      <td>undefind</td>\n",
       "      <td>0.01</td>\n",
       "    </tr>\n",
       "    <tr>\n",
       "      <th>16711</th>\n",
       "      <td>lma manager 2007</td>\n",
       "      <td>X360</td>\n",
       "      <td>2006</td>\n",
       "      <td>sports</td>\n",
       "      <td>0.00</td>\n",
       "      <td>0.01</td>\n",
       "      <td>0.00</td>\n",
       "      <td>0.00</td>\n",
       "      <td>0.0</td>\n",
       "      <td>0.0</td>\n",
       "      <td>undefind</td>\n",
       "      <td>0.01</td>\n",
       "    </tr>\n",
       "    <tr>\n",
       "      <th>16712</th>\n",
       "      <td>haitaka no psychedelica</td>\n",
       "      <td>PSV</td>\n",
       "      <td>2016</td>\n",
       "      <td>adventure</td>\n",
       "      <td>0.00</td>\n",
       "      <td>0.00</td>\n",
       "      <td>0.01</td>\n",
       "      <td>0.00</td>\n",
       "      <td>0.0</td>\n",
       "      <td>0.0</td>\n",
       "      <td>undefind</td>\n",
       "      <td>0.01</td>\n",
       "    </tr>\n",
       "    <tr>\n",
       "      <th>16713</th>\n",
       "      <td>spirits &amp; spells</td>\n",
       "      <td>GBA</td>\n",
       "      <td>2003</td>\n",
       "      <td>platform</td>\n",
       "      <td>0.01</td>\n",
       "      <td>0.00</td>\n",
       "      <td>0.00</td>\n",
       "      <td>0.00</td>\n",
       "      <td>0.0</td>\n",
       "      <td>0.0</td>\n",
       "      <td>undefind</td>\n",
       "      <td>0.01</td>\n",
       "    </tr>\n",
       "    <tr>\n",
       "      <th>16714</th>\n",
       "      <td>winning post 8 2016</td>\n",
       "      <td>PSV</td>\n",
       "      <td>2016</td>\n",
       "      <td>simulation</td>\n",
       "      <td>0.00</td>\n",
       "      <td>0.00</td>\n",
       "      <td>0.01</td>\n",
       "      <td>0.00</td>\n",
       "      <td>0.0</td>\n",
       "      <td>0.0</td>\n",
       "      <td>undefind</td>\n",
       "      <td>0.01</td>\n",
       "    </tr>\n",
       "  </tbody>\n",
       "</table>\n",
       "<p>16567 rows × 12 columns</p>\n",
       "</div>"
      ],
      "text/plain": [
       "                                name platform  year_of_release         genre  \\\n",
       "0                         wii sports      Wii             2006        sports   \n",
       "1                  super mario bros.      NES             1985      platform   \n",
       "2                     mario kart wii      Wii             2008        racing   \n",
       "3                  wii sports resort      Wii             2009        sports   \n",
       "4           pokemon red/pokemon blue       GB             1996  role-playing   \n",
       "...                              ...      ...              ...           ...   \n",
       "16710  samurai warriors: sanada maru      PS3             2016        action   \n",
       "16711               lma manager 2007     X360             2006        sports   \n",
       "16712        haitaka no psychedelica      PSV             2016     adventure   \n",
       "16713               spirits & spells      GBA             2003      platform   \n",
       "16714            winning post 8 2016      PSV             2016    simulation   \n",
       "\n",
       "       na_sales  eu_sales  jp_sales  other_sales  critic_score  user_score  \\\n",
       "0         41.36     28.96      3.77         8.45          76.0         8.0   \n",
       "1         29.08      3.58      6.81         0.77           0.0         0.0   \n",
       "2         15.68     12.76      3.79         3.29          82.0         8.3   \n",
       "3         15.61     10.93      3.28         2.95          80.0         8.0   \n",
       "4         11.27      8.89     10.22         1.00           0.0         0.0   \n",
       "...         ...       ...       ...          ...           ...         ...   \n",
       "16710      0.00      0.00      0.01         0.00           0.0         0.0   \n",
       "16711      0.00      0.01      0.00         0.00           0.0         0.0   \n",
       "16712      0.00      0.00      0.01         0.00           0.0         0.0   \n",
       "16713      0.01      0.00      0.00         0.00           0.0         0.0   \n",
       "16714      0.00      0.00      0.01         0.00           0.0         0.0   \n",
       "\n",
       "         rating  all_sales  \n",
       "0             E      82.54  \n",
       "1      undefind      40.24  \n",
       "2             E      35.52  \n",
       "3             E      32.77  \n",
       "4      undefind      31.38  \n",
       "...         ...        ...  \n",
       "16710  undefind       0.01  \n",
       "16711  undefind       0.01  \n",
       "16712  undefind       0.01  \n",
       "16713  undefind       0.01  \n",
       "16714  undefind       0.01  \n",
       "\n",
       "[16567 rows x 12 columns]"
      ]
     },
     "execution_count": 17,
     "metadata": {},
     "output_type": "execute_result"
    }
   ],
   "source": [
    "df['all_sales'] = df['na_sales'] + df['eu_sales'] + df['jp_sales'] + df['other_sales']\n",
    "df"
   ]
  },
  {
   "cell_type": "markdown",
   "id": "6bb6f07d",
   "metadata": {},
   "source": [
    "### Шаг 3. Проведение исследовательского анализа данных "
   ]
  },
  {
   "cell_type": "markdown",
   "id": "dd30c164",
   "metadata": {},
   "source": [
    "**3.1 Проверим, сколько игр выпускалось в разные годы. Важны ли данные за все периоды?**"
   ]
  },
  {
   "cell_type": "code",
   "execution_count": 18,
   "id": "b40a66c1",
   "metadata": {
    "scrolled": true
   },
   "outputs": [
    {
     "data": {
      "text/html": [
       "<div>\n",
       "<style scoped>\n",
       "    .dataframe tbody tr th:only-of-type {\n",
       "        vertical-align: middle;\n",
       "    }\n",
       "\n",
       "    .dataframe tbody tr th {\n",
       "        vertical-align: top;\n",
       "    }\n",
       "\n",
       "    .dataframe thead th {\n",
       "        text-align: right;\n",
       "    }\n",
       "</style>\n",
       "<table border=\"1\" class=\"dataframe\">\n",
       "  <thead>\n",
       "    <tr style=\"text-align: right;\">\n",
       "      <th></th>\n",
       "      <th>name</th>\n",
       "    </tr>\n",
       "    <tr>\n",
       "      <th>year_of_release</th>\n",
       "      <th></th>\n",
       "    </tr>\n",
       "  </thead>\n",
       "  <tbody>\n",
       "    <tr>\n",
       "      <th>1980</th>\n",
       "      <td>9</td>\n",
       "    </tr>\n",
       "    <tr>\n",
       "      <th>1981</th>\n",
       "      <td>46</td>\n",
       "    </tr>\n",
       "    <tr>\n",
       "      <th>1982</th>\n",
       "      <td>36</td>\n",
       "    </tr>\n",
       "    <tr>\n",
       "      <th>1983</th>\n",
       "      <td>17</td>\n",
       "    </tr>\n",
       "    <tr>\n",
       "      <th>1984</th>\n",
       "      <td>14</td>\n",
       "    </tr>\n",
       "    <tr>\n",
       "      <th>1985</th>\n",
       "      <td>14</td>\n",
       "    </tr>\n",
       "    <tr>\n",
       "      <th>1986</th>\n",
       "      <td>21</td>\n",
       "    </tr>\n",
       "    <tr>\n",
       "      <th>1987</th>\n",
       "      <td>16</td>\n",
       "    </tr>\n",
       "    <tr>\n",
       "      <th>1988</th>\n",
       "      <td>15</td>\n",
       "    </tr>\n",
       "    <tr>\n",
       "      <th>1989</th>\n",
       "      <td>17</td>\n",
       "    </tr>\n",
       "    <tr>\n",
       "      <th>1990</th>\n",
       "      <td>16</td>\n",
       "    </tr>\n",
       "    <tr>\n",
       "      <th>1991</th>\n",
       "      <td>41</td>\n",
       "    </tr>\n",
       "    <tr>\n",
       "      <th>1992</th>\n",
       "      <td>43</td>\n",
       "    </tr>\n",
       "    <tr>\n",
       "      <th>1993</th>\n",
       "      <td>60</td>\n",
       "    </tr>\n",
       "    <tr>\n",
       "      <th>1994</th>\n",
       "      <td>121</td>\n",
       "    </tr>\n",
       "    <tr>\n",
       "      <th>1995</th>\n",
       "      <td>219</td>\n",
       "    </tr>\n",
       "    <tr>\n",
       "      <th>1996</th>\n",
       "      <td>263</td>\n",
       "    </tr>\n",
       "    <tr>\n",
       "      <th>1997</th>\n",
       "      <td>289</td>\n",
       "    </tr>\n",
       "    <tr>\n",
       "      <th>1998</th>\n",
       "      <td>379</td>\n",
       "    </tr>\n",
       "    <tr>\n",
       "      <th>1999</th>\n",
       "      <td>340</td>\n",
       "    </tr>\n",
       "    <tr>\n",
       "      <th>2000</th>\n",
       "      <td>351</td>\n",
       "    </tr>\n",
       "    <tr>\n",
       "      <th>2001</th>\n",
       "      <td>486</td>\n",
       "    </tr>\n",
       "    <tr>\n",
       "      <th>2002</th>\n",
       "      <td>844</td>\n",
       "    </tr>\n",
       "    <tr>\n",
       "      <th>2003</th>\n",
       "      <td>784</td>\n",
       "    </tr>\n",
       "    <tr>\n",
       "      <th>2004</th>\n",
       "      <td>765</td>\n",
       "    </tr>\n",
       "    <tr>\n",
       "      <th>2005</th>\n",
       "      <td>948</td>\n",
       "    </tr>\n",
       "    <tr>\n",
       "      <th>2006</th>\n",
       "      <td>1019</td>\n",
       "    </tr>\n",
       "    <tr>\n",
       "      <th>2007</th>\n",
       "      <td>1202</td>\n",
       "    </tr>\n",
       "    <tr>\n",
       "      <th>2008</th>\n",
       "      <td>1441</td>\n",
       "    </tr>\n",
       "    <tr>\n",
       "      <th>2009</th>\n",
       "      <td>1430</td>\n",
       "    </tr>\n",
       "    <tr>\n",
       "      <th>2010</th>\n",
       "      <td>1269</td>\n",
       "    </tr>\n",
       "    <tr>\n",
       "      <th>2011</th>\n",
       "      <td>1153</td>\n",
       "    </tr>\n",
       "    <tr>\n",
       "      <th>2012</th>\n",
       "      <td>662</td>\n",
       "    </tr>\n",
       "    <tr>\n",
       "      <th>2013</th>\n",
       "      <td>548</td>\n",
       "    </tr>\n",
       "    <tr>\n",
       "      <th>2014</th>\n",
       "      <td>581</td>\n",
       "    </tr>\n",
       "    <tr>\n",
       "      <th>2015</th>\n",
       "      <td>606</td>\n",
       "    </tr>\n",
       "    <tr>\n",
       "      <th>2016</th>\n",
       "      <td>502</td>\n",
       "    </tr>\n",
       "  </tbody>\n",
       "</table>\n",
       "</div>"
      ],
      "text/plain": [
       "                 name\n",
       "year_of_release      \n",
       "1980                9\n",
       "1981               46\n",
       "1982               36\n",
       "1983               17\n",
       "1984               14\n",
       "1985               14\n",
       "1986               21\n",
       "1987               16\n",
       "1988               15\n",
       "1989               17\n",
       "1990               16\n",
       "1991               41\n",
       "1992               43\n",
       "1993               60\n",
       "1994              121\n",
       "1995              219\n",
       "1996              263\n",
       "1997              289\n",
       "1998              379\n",
       "1999              340\n",
       "2000              351\n",
       "2001              486\n",
       "2002              844\n",
       "2003              784\n",
       "2004              765\n",
       "2005              948\n",
       "2006             1019\n",
       "2007             1202\n",
       "2008             1441\n",
       "2009             1430\n",
       "2010             1269\n",
       "2011             1153\n",
       "2012              662\n",
       "2013              548\n",
       "2014              581\n",
       "2015              606\n",
       "2016              502"
      ]
     },
     "execution_count": 18,
     "metadata": {},
     "output_type": "execute_result"
    }
   ],
   "source": [
    "data_years = df.pivot_table(index='year_of_release', values='name', aggfunc='count')\n",
    "data_years"
   ]
  },
  {
   "cell_type": "markdown",
   "id": "c0c305c2",
   "metadata": {},
   "source": [
    "С 1980 по 1993 года выпускалось не так много игр, за год меньше 100 наименований. Следовательно можно рассматривать данные с 1994 года по 2016."
   ]
  },
  {
   "cell_type": "markdown",
   "id": "9fdea561",
   "metadata": {},
   "source": [
    "**3.2 Посмотрим, как менялись продажи по платформам. Выберем платформы с наибольшими суммарными продажами и построим распределение по годам. За какой характерный срок появляются новые и исчезают старые платформы?**"
   ]
  },
  {
   "cell_type": "code",
   "execution_count": 19,
   "id": "bb3cba3e",
   "metadata": {
    "scrolled": true
   },
   "outputs": [
    {
     "data": {
      "text/html": [
       "<div>\n",
       "<style scoped>\n",
       "    .dataframe tbody tr th:only-of-type {\n",
       "        vertical-align: middle;\n",
       "    }\n",
       "\n",
       "    .dataframe tbody tr th {\n",
       "        vertical-align: top;\n",
       "    }\n",
       "\n",
       "    .dataframe thead th {\n",
       "        text-align: right;\n",
       "    }\n",
       "</style>\n",
       "<table border=\"1\" class=\"dataframe\">\n",
       "  <thead>\n",
       "    <tr style=\"text-align: right;\">\n",
       "      <th></th>\n",
       "      <th>platform</th>\n",
       "      <th>all_sales</th>\n",
       "    </tr>\n",
       "  </thead>\n",
       "  <tbody>\n",
       "    <tr>\n",
       "      <th>16</th>\n",
       "      <td>PS2</td>\n",
       "      <td>1247.16</td>\n",
       "    </tr>\n",
       "    <tr>\n",
       "      <th>28</th>\n",
       "      <td>X360</td>\n",
       "      <td>966.61</td>\n",
       "    </tr>\n",
       "    <tr>\n",
       "      <th>17</th>\n",
       "      <td>PS3</td>\n",
       "      <td>935.19</td>\n",
       "    </tr>\n",
       "    <tr>\n",
       "      <th>26</th>\n",
       "      <td>Wii</td>\n",
       "      <td>903.31</td>\n",
       "    </tr>\n",
       "    <tr>\n",
       "      <th>4</th>\n",
       "      <td>DS</td>\n",
       "      <td>804.28</td>\n",
       "    </tr>\n",
       "    <tr>\n",
       "      <th>15</th>\n",
       "      <td>PS</td>\n",
       "      <td>727.58</td>\n",
       "    </tr>\n",
       "    <tr>\n",
       "      <th>18</th>\n",
       "      <td>PS4</td>\n",
       "      <td>314.14</td>\n",
       "    </tr>\n",
       "    <tr>\n",
       "      <th>6</th>\n",
       "      <td>GBA</td>\n",
       "      <td>313.73</td>\n",
       "    </tr>\n",
       "    <tr>\n",
       "      <th>19</th>\n",
       "      <td>PSP</td>\n",
       "      <td>293.57</td>\n",
       "    </tr>\n",
       "    <tr>\n",
       "      <th>13</th>\n",
       "      <td>PC</td>\n",
       "      <td>258.86</td>\n",
       "    </tr>\n",
       "    <tr>\n",
       "      <th>2</th>\n",
       "      <td>3DS</td>\n",
       "      <td>258.53</td>\n",
       "    </tr>\n",
       "    <tr>\n",
       "      <th>29</th>\n",
       "      <td>XB</td>\n",
       "      <td>256.69</td>\n",
       "    </tr>\n",
       "    <tr>\n",
       "      <th>5</th>\n",
       "      <td>GB</td>\n",
       "      <td>254.43</td>\n",
       "    </tr>\n",
       "    <tr>\n",
       "      <th>11</th>\n",
       "      <td>NES</td>\n",
       "      <td>251.05</td>\n",
       "    </tr>\n",
       "    <tr>\n",
       "      <th>10</th>\n",
       "      <td>N64</td>\n",
       "      <td>218.48</td>\n",
       "    </tr>\n",
       "    <tr>\n",
       "      <th>23</th>\n",
       "      <td>SNES</td>\n",
       "      <td>200.04</td>\n",
       "    </tr>\n",
       "    <tr>\n",
       "      <th>7</th>\n",
       "      <td>GC</td>\n",
       "      <td>198.66</td>\n",
       "    </tr>\n",
       "    <tr>\n",
       "      <th>30</th>\n",
       "      <td>XOne</td>\n",
       "      <td>159.32</td>\n",
       "    </tr>\n",
       "    <tr>\n",
       "      <th>0</th>\n",
       "      <td>2600</td>\n",
       "      <td>89.01</td>\n",
       "    </tr>\n",
       "    <tr>\n",
       "      <th>27</th>\n",
       "      <td>WiiU</td>\n",
       "      <td>82.19</td>\n",
       "    </tr>\n",
       "    <tr>\n",
       "      <th>20</th>\n",
       "      <td>PSV</td>\n",
       "      <td>53.81</td>\n",
       "    </tr>\n",
       "    <tr>\n",
       "      <th>21</th>\n",
       "      <td>SAT</td>\n",
       "      <td>33.59</td>\n",
       "    </tr>\n",
       "    <tr>\n",
       "      <th>8</th>\n",
       "      <td>GEN</td>\n",
       "      <td>28.35</td>\n",
       "    </tr>\n",
       "    <tr>\n",
       "      <th>3</th>\n",
       "      <td>DC</td>\n",
       "      <td>15.95</td>\n",
       "    </tr>\n",
       "    <tr>\n",
       "      <th>22</th>\n",
       "      <td>SCD</td>\n",
       "      <td>1.86</td>\n",
       "    </tr>\n",
       "    <tr>\n",
       "      <th>12</th>\n",
       "      <td>NG</td>\n",
       "      <td>1.44</td>\n",
       "    </tr>\n",
       "    <tr>\n",
       "      <th>25</th>\n",
       "      <td>WS</td>\n",
       "      <td>1.42</td>\n",
       "    </tr>\n",
       "    <tr>\n",
       "      <th>24</th>\n",
       "      <td>TG16</td>\n",
       "      <td>0.16</td>\n",
       "    </tr>\n",
       "    <tr>\n",
       "      <th>1</th>\n",
       "      <td>3DO</td>\n",
       "      <td>0.10</td>\n",
       "    </tr>\n",
       "    <tr>\n",
       "      <th>9</th>\n",
       "      <td>GG</td>\n",
       "      <td>0.04</td>\n",
       "    </tr>\n",
       "    <tr>\n",
       "      <th>14</th>\n",
       "      <td>PCFX</td>\n",
       "      <td>0.03</td>\n",
       "    </tr>\n",
       "  </tbody>\n",
       "</table>\n",
       "</div>"
      ],
      "text/plain": [
       "   platform  all_sales\n",
       "16      PS2    1247.16\n",
       "28     X360     966.61\n",
       "17      PS3     935.19\n",
       "26      Wii     903.31\n",
       "4        DS     804.28\n",
       "15       PS     727.58\n",
       "18      PS4     314.14\n",
       "6       GBA     313.73\n",
       "19      PSP     293.57\n",
       "13       PC     258.86\n",
       "2       3DS     258.53\n",
       "29       XB     256.69\n",
       "5        GB     254.43\n",
       "11      NES     251.05\n",
       "10      N64     218.48\n",
       "23     SNES     200.04\n",
       "7        GC     198.66\n",
       "30     XOne     159.32\n",
       "0      2600      89.01\n",
       "27     WiiU      82.19\n",
       "20      PSV      53.81\n",
       "21      SAT      33.59\n",
       "8       GEN      28.35\n",
       "3        DC      15.95\n",
       "22      SCD       1.86\n",
       "12       NG       1.44\n",
       "25       WS       1.42\n",
       "24     TG16       0.16\n",
       "1       3DO       0.10\n",
       "9        GG       0.04\n",
       "14     PCFX       0.03"
      ]
     },
     "metadata": {},
     "output_type": "display_data"
    }
   ],
   "source": [
    "data_platform = df.pivot_table(index='platform', values='all_sales', aggfunc='sum')\n",
    "data_platform.reset_index(inplace=True)\n",
    "\n",
    "display(data_platform.sort_values(['all_sales'], ascending=False))"
   ]
  },
  {
   "cell_type": "markdown",
   "id": "ec09e0cf",
   "metadata": {},
   "source": [
    "Резкий переход по самым крупным продажам заметен от платформы PS (727.58) к платформе PS4 (314.00). Чтобы сильно не нагружать график, можно взять первые 6 платформ и поработать с ними."
   ]
  },
  {
   "cell_type": "code",
   "execution_count": 20,
   "id": "e75c8032",
   "metadata": {
    "scrolled": false
   },
   "outputs": [
    {
     "data": {
      "text/html": [
       "<div>\n",
       "<style scoped>\n",
       "    .dataframe tbody tr th:only-of-type {\n",
       "        vertical-align: middle;\n",
       "    }\n",
       "\n",
       "    .dataframe tbody tr th {\n",
       "        vertical-align: top;\n",
       "    }\n",
       "\n",
       "    .dataframe thead th {\n",
       "        text-align: right;\n",
       "    }\n",
       "</style>\n",
       "<table border=\"1\" class=\"dataframe\">\n",
       "  <thead>\n",
       "    <tr style=\"text-align: right;\">\n",
       "      <th></th>\n",
       "      <th>name</th>\n",
       "      <th>platform</th>\n",
       "      <th>year_of_release</th>\n",
       "      <th>genre</th>\n",
       "      <th>na_sales</th>\n",
       "      <th>eu_sales</th>\n",
       "      <th>jp_sales</th>\n",
       "      <th>other_sales</th>\n",
       "      <th>critic_score</th>\n",
       "      <th>user_score</th>\n",
       "      <th>rating</th>\n",
       "      <th>all_sales</th>\n",
       "    </tr>\n",
       "  </thead>\n",
       "  <tbody>\n",
       "    <tr>\n",
       "      <th>0</th>\n",
       "      <td>wii sports</td>\n",
       "      <td>Wii</td>\n",
       "      <td>2006</td>\n",
       "      <td>sports</td>\n",
       "      <td>41.36</td>\n",
       "      <td>28.96</td>\n",
       "      <td>3.77</td>\n",
       "      <td>8.45</td>\n",
       "      <td>76.0</td>\n",
       "      <td>8.0</td>\n",
       "      <td>E</td>\n",
       "      <td>82.54</td>\n",
       "    </tr>\n",
       "    <tr>\n",
       "      <th>2</th>\n",
       "      <td>mario kart wii</td>\n",
       "      <td>Wii</td>\n",
       "      <td>2008</td>\n",
       "      <td>racing</td>\n",
       "      <td>15.68</td>\n",
       "      <td>12.76</td>\n",
       "      <td>3.79</td>\n",
       "      <td>3.29</td>\n",
       "      <td>82.0</td>\n",
       "      <td>8.3</td>\n",
       "      <td>E</td>\n",
       "      <td>35.52</td>\n",
       "    </tr>\n",
       "    <tr>\n",
       "      <th>3</th>\n",
       "      <td>wii sports resort</td>\n",
       "      <td>Wii</td>\n",
       "      <td>2009</td>\n",
       "      <td>sports</td>\n",
       "      <td>15.61</td>\n",
       "      <td>10.93</td>\n",
       "      <td>3.28</td>\n",
       "      <td>2.95</td>\n",
       "      <td>80.0</td>\n",
       "      <td>8.0</td>\n",
       "      <td>E</td>\n",
       "      <td>32.77</td>\n",
       "    </tr>\n",
       "    <tr>\n",
       "      <th>6</th>\n",
       "      <td>new super mario bros.</td>\n",
       "      <td>DS</td>\n",
       "      <td>2006</td>\n",
       "      <td>platform</td>\n",
       "      <td>11.28</td>\n",
       "      <td>9.14</td>\n",
       "      <td>6.50</td>\n",
       "      <td>2.88</td>\n",
       "      <td>89.0</td>\n",
       "      <td>8.5</td>\n",
       "      <td>E</td>\n",
       "      <td>29.80</td>\n",
       "    </tr>\n",
       "    <tr>\n",
       "      <th>7</th>\n",
       "      <td>wii play</td>\n",
       "      <td>Wii</td>\n",
       "      <td>2006</td>\n",
       "      <td>misc</td>\n",
       "      <td>13.96</td>\n",
       "      <td>9.18</td>\n",
       "      <td>2.93</td>\n",
       "      <td>2.84</td>\n",
       "      <td>58.0</td>\n",
       "      <td>6.6</td>\n",
       "      <td>E</td>\n",
       "      <td>28.91</td>\n",
       "    </tr>\n",
       "    <tr>\n",
       "      <th>...</th>\n",
       "      <td>...</td>\n",
       "      <td>...</td>\n",
       "      <td>...</td>\n",
       "      <td>...</td>\n",
       "      <td>...</td>\n",
       "      <td>...</td>\n",
       "      <td>...</td>\n",
       "      <td>...</td>\n",
       "      <td>...</td>\n",
       "      <td>...</td>\n",
       "      <td>...</td>\n",
       "      <td>...</td>\n",
       "    </tr>\n",
       "    <tr>\n",
       "      <th>16700</th>\n",
       "      <td>mezase!! tsuri master ds</td>\n",
       "      <td>DS</td>\n",
       "      <td>2009</td>\n",
       "      <td>sports</td>\n",
       "      <td>0.00</td>\n",
       "      <td>0.00</td>\n",
       "      <td>0.01</td>\n",
       "      <td>0.00</td>\n",
       "      <td>0.0</td>\n",
       "      <td>0.0</td>\n",
       "      <td>undefind</td>\n",
       "      <td>0.01</td>\n",
       "    </tr>\n",
       "    <tr>\n",
       "      <th>16704</th>\n",
       "      <td>plushees</td>\n",
       "      <td>DS</td>\n",
       "      <td>2008</td>\n",
       "      <td>simulation</td>\n",
       "      <td>0.01</td>\n",
       "      <td>0.00</td>\n",
       "      <td>0.00</td>\n",
       "      <td>0.00</td>\n",
       "      <td>0.0</td>\n",
       "      <td>0.0</td>\n",
       "      <td>E</td>\n",
       "      <td>0.01</td>\n",
       "    </tr>\n",
       "    <tr>\n",
       "      <th>16709</th>\n",
       "      <td>score international baja 1000: the official game</td>\n",
       "      <td>PS2</td>\n",
       "      <td>2008</td>\n",
       "      <td>racing</td>\n",
       "      <td>0.00</td>\n",
       "      <td>0.00</td>\n",
       "      <td>0.00</td>\n",
       "      <td>0.00</td>\n",
       "      <td>0.0</td>\n",
       "      <td>0.0</td>\n",
       "      <td>undefind</td>\n",
       "      <td>0.00</td>\n",
       "    </tr>\n",
       "    <tr>\n",
       "      <th>16710</th>\n",
       "      <td>samurai warriors: sanada maru</td>\n",
       "      <td>PS3</td>\n",
       "      <td>2016</td>\n",
       "      <td>action</td>\n",
       "      <td>0.00</td>\n",
       "      <td>0.00</td>\n",
       "      <td>0.01</td>\n",
       "      <td>0.00</td>\n",
       "      <td>0.0</td>\n",
       "      <td>0.0</td>\n",
       "      <td>undefind</td>\n",
       "      <td>0.01</td>\n",
       "    </tr>\n",
       "    <tr>\n",
       "      <th>16711</th>\n",
       "      <td>lma manager 2007</td>\n",
       "      <td>X360</td>\n",
       "      <td>2006</td>\n",
       "      <td>sports</td>\n",
       "      <td>0.00</td>\n",
       "      <td>0.01</td>\n",
       "      <td>0.00</td>\n",
       "      <td>0.00</td>\n",
       "      <td>0.0</td>\n",
       "      <td>0.0</td>\n",
       "      <td>undefind</td>\n",
       "      <td>0.01</td>\n",
       "    </tr>\n",
       "  </tbody>\n",
       "</table>\n",
       "<p>9329 rows × 12 columns</p>\n",
       "</div>"
      ],
      "text/plain": [
       "                                                   name platform  \\\n",
       "0                                            wii sports      Wii   \n",
       "2                                        mario kart wii      Wii   \n",
       "3                                     wii sports resort      Wii   \n",
       "6                                 new super mario bros.       DS   \n",
       "7                                              wii play      Wii   \n",
       "...                                                 ...      ...   \n",
       "16700                          mezase!! tsuri master ds       DS   \n",
       "16704                                          plushees       DS   \n",
       "16709  score international baja 1000: the official game      PS2   \n",
       "16710                     samurai warriors: sanada maru      PS3   \n",
       "16711                                  lma manager 2007     X360   \n",
       "\n",
       "       year_of_release       genre  na_sales  eu_sales  jp_sales  other_sales  \\\n",
       "0                 2006      sports     41.36     28.96      3.77         8.45   \n",
       "2                 2008      racing     15.68     12.76      3.79         3.29   \n",
       "3                 2009      sports     15.61     10.93      3.28         2.95   \n",
       "6                 2006    platform     11.28      9.14      6.50         2.88   \n",
       "7                 2006        misc     13.96      9.18      2.93         2.84   \n",
       "...                ...         ...       ...       ...       ...          ...   \n",
       "16700             2009      sports      0.00      0.00      0.01         0.00   \n",
       "16704             2008  simulation      0.01      0.00      0.00         0.00   \n",
       "16709             2008      racing      0.00      0.00      0.00         0.00   \n",
       "16710             2016      action      0.00      0.00      0.01         0.00   \n",
       "16711             2006      sports      0.00      0.01      0.00         0.00   \n",
       "\n",
       "       critic_score  user_score    rating  all_sales  \n",
       "0              76.0         8.0         E      82.54  \n",
       "2              82.0         8.3         E      35.52  \n",
       "3              80.0         8.0         E      32.77  \n",
       "6              89.0         8.5         E      29.80  \n",
       "7              58.0         6.6         E      28.91  \n",
       "...             ...         ...       ...        ...  \n",
       "16700           0.0         0.0  undefind       0.01  \n",
       "16704           0.0         0.0         E       0.01  \n",
       "16709           0.0         0.0  undefind       0.00  \n",
       "16710           0.0         0.0  undefind       0.01  \n",
       "16711           0.0         0.0  undefind       0.01  \n",
       "\n",
       "[9329 rows x 12 columns]"
      ]
     },
     "metadata": {},
     "output_type": "display_data"
    },
    {
     "data": {
      "image/png": "[encoded data removed]",
      "text/plain": [
       "<Figure size 1440x720 with 1 Axes>"
      ]
     },
     "metadata": {
      "needs_background": "light"
     },
     "output_type": "display_data"
    }
   ],
   "source": [
    "# сделаем выборку для платформ\n",
    "\n",
    "data_big_platform = df.query('year_of_release >= 1994 and (\"PS2\" in platform \\\n",
    "                               or \"X360\" in platform or \"PS3\" in platform \\\n",
    "                               or \"Wii\" in platform or \"DS\" in platform or \"PS\" in platform)')\n",
    "\n",
    "display(data_big_platform)\n",
    "\n",
    "plt.figure(figsize=(20,10))\n",
    "\n",
    "sns.barplot(x='platform', y='all_sales', hue='year_of_release', \\\n",
    "            estimator = np.sum, data=data_big_platform, ci=0, ec='black')\n",
    "plt.title('Период существования платформ', fontsize=20)\n",
    "plt.xlabel('Самые продаваемые платформы', fontsize=15)\n",
    "plt.ylabel('Продажи', fontsize=15)\n",
    "plt.xticks(rotation=90)\n",
    "plt.show()"
   ]
  },
  {
   "cell_type": "markdown",
   "id": "420e1a0f",
   "metadata": {},
   "source": [
    "Платформы Wii, DS, X360, PS3 использовались примерно в одно время, начиная с 2004-2005 годов и к 2011-2012 годам начинают исчезать. \n",
    "\n",
    "Платформа PS2 появилась раньше, примерно в 2000 году, соответственно и исчезла раньше предыдущих, в 2008 году уже пошла на спад и в 2012 году ее уже нет. \n",
    "\n",
    "Касательно PS, она сама старая из 6 рассматриваемых платформ. По имеющимся у нас данным, эта платформа начала использоваться в 1994 году. В 1997-1999 годах пик продаж игр на этой платформе, после она пошла на спад и к 2004 году пропала вовсе.\n",
    "\n",
    "На основе общей картины можно сделать вывод, что примерно каждые 5-7 лет производители меняют платформы для игр"
   ]
  },
  {
   "cell_type": "markdown",
   "id": "647ead9a",
   "metadata": {},
   "source": [
    "**3.3 Какие платформы лидируют по продажам, растут или падают?**"
   ]
  },
  {
   "cell_type": "markdown",
   "id": "86bc41f9",
   "metadata": {},
   "source": [
    "Судя по графику пик продаж наступает примерно спустя 4-6 лет после релиза. То есть, если мы берем 2016 год, возьмем период 2011-2016."
   ]
  },
  {
   "cell_type": "code",
   "execution_count": 22,
   "id": "c36143a7",
   "metadata": {},
   "outputs": [
    {
     "data": {
      "text/html": [
       "<div>\n",
       "<style scoped>\n",
       "    .dataframe tbody tr th:only-of-type {\n",
       "        vertical-align: middle;\n",
       "    }\n",
       "\n",
       "    .dataframe tbody tr th {\n",
       "        vertical-align: top;\n",
       "    }\n",
       "\n",
       "    .dataframe thead th {\n",
       "        text-align: right;\n",
       "    }\n",
       "</style>\n",
       "<table border=\"1\" class=\"dataframe\">\n",
       "  <thead>\n",
       "    <tr style=\"text-align: right;\">\n",
       "      <th></th>\n",
       "      <th>name</th>\n",
       "      <th>platform</th>\n",
       "      <th>year_of_release</th>\n",
       "      <th>genre</th>\n",
       "      <th>na_sales</th>\n",
       "      <th>eu_sales</th>\n",
       "      <th>jp_sales</th>\n",
       "      <th>other_sales</th>\n",
       "      <th>critic_score</th>\n",
       "      <th>user_score</th>\n",
       "      <th>rating</th>\n",
       "      <th>all_sales</th>\n",
       "    </tr>\n",
       "  </thead>\n",
       "  <tbody>\n",
       "    <tr>\n",
       "      <th>16</th>\n",
       "      <td>grand theft auto v</td>\n",
       "      <td>PS3</td>\n",
       "      <td>2013</td>\n",
       "      <td>action</td>\n",
       "      <td>7.02</td>\n",
       "      <td>9.09</td>\n",
       "      <td>0.98</td>\n",
       "      <td>3.96</td>\n",
       "      <td>97.0</td>\n",
       "      <td>8.2</td>\n",
       "      <td>M</td>\n",
       "      <td>21.05</td>\n",
       "    </tr>\n",
       "    <tr>\n",
       "      <th>23</th>\n",
       "      <td>grand theft auto v</td>\n",
       "      <td>X360</td>\n",
       "      <td>2013</td>\n",
       "      <td>action</td>\n",
       "      <td>9.66</td>\n",
       "      <td>5.14</td>\n",
       "      <td>0.06</td>\n",
       "      <td>1.41</td>\n",
       "      <td>97.0</td>\n",
       "      <td>8.1</td>\n",
       "      <td>M</td>\n",
       "      <td>16.27</td>\n",
       "    </tr>\n",
       "    <tr>\n",
       "      <th>29</th>\n",
       "      <td>call of duty: modern warfare 3</td>\n",
       "      <td>X360</td>\n",
       "      <td>2011</td>\n",
       "      <td>shooter</td>\n",
       "      <td>9.04</td>\n",
       "      <td>4.24</td>\n",
       "      <td>0.13</td>\n",
       "      <td>1.32</td>\n",
       "      <td>88.0</td>\n",
       "      <td>3.4</td>\n",
       "      <td>M</td>\n",
       "      <td>14.73</td>\n",
       "    </tr>\n",
       "    <tr>\n",
       "      <th>31</th>\n",
       "      <td>call of duty: black ops 3</td>\n",
       "      <td>PS4</td>\n",
       "      <td>2015</td>\n",
       "      <td>shooter</td>\n",
       "      <td>6.03</td>\n",
       "      <td>5.86</td>\n",
       "      <td>0.36</td>\n",
       "      <td>2.38</td>\n",
       "      <td>0.0</td>\n",
       "      <td>0.0</td>\n",
       "      <td>undefind</td>\n",
       "      <td>14.63</td>\n",
       "    </tr>\n",
       "    <tr>\n",
       "      <th>33</th>\n",
       "      <td>pokemon x/pokemon y</td>\n",
       "      <td>3DS</td>\n",
       "      <td>2013</td>\n",
       "      <td>role-playing</td>\n",
       "      <td>5.28</td>\n",
       "      <td>4.19</td>\n",
       "      <td>4.35</td>\n",
       "      <td>0.78</td>\n",
       "      <td>0.0</td>\n",
       "      <td>0.0</td>\n",
       "      <td>undefind</td>\n",
       "      <td>14.60</td>\n",
       "    </tr>\n",
       "    <tr>\n",
       "      <th>...</th>\n",
       "      <td>...</td>\n",
       "      <td>...</td>\n",
       "      <td>...</td>\n",
       "      <td>...</td>\n",
       "      <td>...</td>\n",
       "      <td>...</td>\n",
       "      <td>...</td>\n",
       "      <td>...</td>\n",
       "      <td>...</td>\n",
       "      <td>...</td>\n",
       "      <td>...</td>\n",
       "      <td>...</td>\n",
       "    </tr>\n",
       "    <tr>\n",
       "      <th>16703</th>\n",
       "      <td>strawberry nauts</td>\n",
       "      <td>PSV</td>\n",
       "      <td>2016</td>\n",
       "      <td>adventure</td>\n",
       "      <td>0.00</td>\n",
       "      <td>0.00</td>\n",
       "      <td>0.01</td>\n",
       "      <td>0.00</td>\n",
       "      <td>0.0</td>\n",
       "      <td>0.0</td>\n",
       "      <td>undefind</td>\n",
       "      <td>0.01</td>\n",
       "    </tr>\n",
       "    <tr>\n",
       "      <th>16707</th>\n",
       "      <td>aiyoku no eustia</td>\n",
       "      <td>PSV</td>\n",
       "      <td>2014</td>\n",
       "      <td>misc</td>\n",
       "      <td>0.00</td>\n",
       "      <td>0.00</td>\n",
       "      <td>0.01</td>\n",
       "      <td>0.00</td>\n",
       "      <td>0.0</td>\n",
       "      <td>0.0</td>\n",
       "      <td>undefind</td>\n",
       "      <td>0.01</td>\n",
       "    </tr>\n",
       "    <tr>\n",
       "      <th>16710</th>\n",
       "      <td>samurai warriors: sanada maru</td>\n",
       "      <td>PS3</td>\n",
       "      <td>2016</td>\n",
       "      <td>action</td>\n",
       "      <td>0.00</td>\n",
       "      <td>0.00</td>\n",
       "      <td>0.01</td>\n",
       "      <td>0.00</td>\n",
       "      <td>0.0</td>\n",
       "      <td>0.0</td>\n",
       "      <td>undefind</td>\n",
       "      <td>0.01</td>\n",
       "    </tr>\n",
       "    <tr>\n",
       "      <th>16712</th>\n",
       "      <td>haitaka no psychedelica</td>\n",
       "      <td>PSV</td>\n",
       "      <td>2016</td>\n",
       "      <td>adventure</td>\n",
       "      <td>0.00</td>\n",
       "      <td>0.00</td>\n",
       "      <td>0.01</td>\n",
       "      <td>0.00</td>\n",
       "      <td>0.0</td>\n",
       "      <td>0.0</td>\n",
       "      <td>undefind</td>\n",
       "      <td>0.01</td>\n",
       "    </tr>\n",
       "    <tr>\n",
       "      <th>16714</th>\n",
       "      <td>winning post 8 2016</td>\n",
       "      <td>PSV</td>\n",
       "      <td>2016</td>\n",
       "      <td>simulation</td>\n",
       "      <td>0.00</td>\n",
       "      <td>0.00</td>\n",
       "      <td>0.01</td>\n",
       "      <td>0.00</td>\n",
       "      <td>0.0</td>\n",
       "      <td>0.0</td>\n",
       "      <td>undefind</td>\n",
       "      <td>0.01</td>\n",
       "    </tr>\n",
       "  </tbody>\n",
       "</table>\n",
       "<p>4052 rows × 12 columns</p>\n",
       "</div>"
      ],
      "text/plain": [
       "                                 name platform  year_of_release         genre  \\\n",
       "16                 grand theft auto v      PS3             2013        action   \n",
       "23                 grand theft auto v     X360             2013        action   \n",
       "29     call of duty: modern warfare 3     X360             2011       shooter   \n",
       "31          call of duty: black ops 3      PS4             2015       shooter   \n",
       "33                pokemon x/pokemon y      3DS             2013  role-playing   \n",
       "...                               ...      ...              ...           ...   \n",
       "16703                strawberry nauts      PSV             2016     adventure   \n",
       "16707                aiyoku no eustia      PSV             2014          misc   \n",
       "16710   samurai warriors: sanada maru      PS3             2016        action   \n",
       "16712         haitaka no psychedelica      PSV             2016     adventure   \n",
       "16714             winning post 8 2016      PSV             2016    simulation   \n",
       "\n",
       "       na_sales  eu_sales  jp_sales  other_sales  critic_score  user_score  \\\n",
       "16         7.02      9.09      0.98         3.96          97.0         8.2   \n",
       "23         9.66      5.14      0.06         1.41          97.0         8.1   \n",
       "29         9.04      4.24      0.13         1.32          88.0         3.4   \n",
       "31         6.03      5.86      0.36         2.38           0.0         0.0   \n",
       "33         5.28      4.19      4.35         0.78           0.0         0.0   \n",
       "...         ...       ...       ...          ...           ...         ...   \n",
       "16703      0.00      0.00      0.01         0.00           0.0         0.0   \n",
       "16707      0.00      0.00      0.01         0.00           0.0         0.0   \n",
       "16710      0.00      0.00      0.01         0.00           0.0         0.0   \n",
       "16712      0.00      0.00      0.01         0.00           0.0         0.0   \n",
       "16714      0.00      0.00      0.01         0.00           0.0         0.0   \n",
       "\n",
       "         rating  all_sales  \n",
       "16            M      21.05  \n",
       "23            M      16.27  \n",
       "29            M      14.73  \n",
       "31     undefind      14.63  \n",
       "33     undefind      14.60  \n",
       "...         ...        ...  \n",
       "16703  undefind       0.01  \n",
       "16707  undefind       0.01  \n",
       "16710  undefind       0.01  \n",
       "16712  undefind       0.01  \n",
       "16714  undefind       0.01  \n",
       "\n",
       "[4052 rows x 12 columns]"
      ]
     },
     "execution_count": 22,
     "metadata": {},
     "output_type": "execute_result"
    }
   ],
   "source": [
    "# сделаем еще одну выборку\n",
    "\n",
    "data_stat = df[df['year_of_release'] >= 2011]\n",
    "data_stat = data_stat[data_stat['year_of_release'] <= 2016]\n",
    "data_stat"
   ]
  },
  {
   "cell_type": "markdown",
   "id": "7bb906a7",
   "metadata": {},
   "source": [
    "Построим сводную и график, чтобы выбрать самые прибыльные платформы за  выбранный период."
   ]
  },
  {
   "cell_type": "code",
   "execution_count": 23,
   "id": "fbcb4d43",
   "metadata": {
    "scrolled": false
   },
   "outputs": [
    {
     "data": {
      "text/html": [
       "<div>\n",
       "<style scoped>\n",
       "    .dataframe tbody tr th:only-of-type {\n",
       "        vertical-align: middle;\n",
       "    }\n",
       "\n",
       "    .dataframe tbody tr th {\n",
       "        vertical-align: top;\n",
       "    }\n",
       "\n",
       "    .dataframe thead th {\n",
       "        text-align: right;\n",
       "    }\n",
       "</style>\n",
       "<table border=\"1\" class=\"dataframe\">\n",
       "  <thead>\n",
       "    <tr style=\"text-align: right;\">\n",
       "      <th></th>\n",
       "      <th>platform</th>\n",
       "      <th>all_sales</th>\n",
       "    </tr>\n",
       "  </thead>\n",
       "  <tbody>\n",
       "    <tr>\n",
       "      <th>4</th>\n",
       "      <td>PS3</td>\n",
       "      <td>447.69</td>\n",
       "    </tr>\n",
       "    <tr>\n",
       "      <th>10</th>\n",
       "      <td>X360</td>\n",
       "      <td>382.75</td>\n",
       "    </tr>\n",
       "    <tr>\n",
       "      <th>5</th>\n",
       "      <td>PS4</td>\n",
       "      <td>314.14</td>\n",
       "    </tr>\n",
       "    <tr>\n",
       "      <th>0</th>\n",
       "      <td>3DS</td>\n",
       "      <td>258.21</td>\n",
       "    </tr>\n",
       "    <tr>\n",
       "      <th>11</th>\n",
       "      <td>XOne</td>\n",
       "      <td>159.32</td>\n",
       "    </tr>\n",
       "    <tr>\n",
       "      <th>2</th>\n",
       "      <td>PC</td>\n",
       "      <td>98.67</td>\n",
       "    </tr>\n",
       "    <tr>\n",
       "      <th>8</th>\n",
       "      <td>Wii</td>\n",
       "      <td>96.39</td>\n",
       "    </tr>\n",
       "    <tr>\n",
       "      <th>9</th>\n",
       "      <td>WiiU</td>\n",
       "      <td>82.19</td>\n",
       "    </tr>\n",
       "    <tr>\n",
       "      <th>7</th>\n",
       "      <td>PSV</td>\n",
       "      <td>53.81</td>\n",
       "    </tr>\n",
       "    <tr>\n",
       "      <th>1</th>\n",
       "      <td>DS</td>\n",
       "      <td>39.54</td>\n",
       "    </tr>\n",
       "    <tr>\n",
       "      <th>6</th>\n",
       "      <td>PSP</td>\n",
       "      <td>29.51</td>\n",
       "    </tr>\n",
       "    <tr>\n",
       "      <th>3</th>\n",
       "      <td>PS2</td>\n",
       "      <td>0.45</td>\n",
       "    </tr>\n",
       "  </tbody>\n",
       "</table>\n",
       "</div>"
      ],
      "text/plain": [
       "   platform  all_sales\n",
       "4       PS3     447.69\n",
       "10     X360     382.75\n",
       "5       PS4     314.14\n",
       "0       3DS     258.21\n",
       "11     XOne     159.32\n",
       "2        PC      98.67\n",
       "8       Wii      96.39\n",
       "9      WiiU      82.19\n",
       "7       PSV      53.81\n",
       "1        DS      39.54\n",
       "6       PSP      29.51\n",
       "3       PS2       0.45"
      ]
     },
     "metadata": {},
     "output_type": "display_data"
    },
    {
     "data": {
      "text/plain": [
       "<AxesSubplot:xlabel='platform'>"
      ]
     },
     "execution_count": 23,
     "metadata": {},
     "output_type": "execute_result"
    },
    {
     "data": {
      "image/png": "[encoded data removed]",
      "text/plain": [
       "<Figure size 720x360 with 1 Axes>"
      ]
     },
     "metadata": {
      "needs_background": "light"
     },
     "output_type": "display_data"
    }
   ],
   "source": [
    "data_stat_pvt = data_stat.pivot_table(index='platform', values='all_sales', aggfunc='sum')\n",
    "data_stat_pvt.reset_index(inplace=True)\n",
    "\n",
    "data_stat_pvt.columns = ['platform', 'all_sales']\n",
    "\n",
    "data_stat_pvt\n",
    "display(data_stat_pvt.sort_values(['all_sales'], ascending=False))\n",
    "\n",
    "data_stat_pvt.plot(x='platform', y='all_sales', kind='bar', figsize=(10,5))"
   ]
  },
  {
   "cell_type": "markdown",
   "id": "eda480fa",
   "metadata": {},
   "source": [
    "Итого получаем: самые продаваемые платформы за последние 6 лет это '3DS', 'PS3', 'PS4', 'X360'. "
   ]
  },
  {
   "cell_type": "code",
   "execution_count": 24,
   "id": "9c2062cd",
   "metadata": {
    "scrolled": false
   },
   "outputs": [
    {
     "data": {
      "text/html": [
       "<div>\n",
       "<style scoped>\n",
       "    .dataframe tbody tr th:only-of-type {\n",
       "        vertical-align: middle;\n",
       "    }\n",
       "\n",
       "    .dataframe tbody tr th {\n",
       "        vertical-align: top;\n",
       "    }\n",
       "\n",
       "    .dataframe thead th {\n",
       "        text-align: right;\n",
       "    }\n",
       "</style>\n",
       "<table border=\"1\" class=\"dataframe\">\n",
       "  <thead>\n",
       "    <tr style=\"text-align: right;\">\n",
       "      <th>platform</th>\n",
       "      <th>year_of_release</th>\n",
       "      <th>3DS</th>\n",
       "      <th>PS3</th>\n",
       "      <th>PS4</th>\n",
       "      <th>WiiU</th>\n",
       "      <th>X360</th>\n",
       "    </tr>\n",
       "  </thead>\n",
       "  <tbody>\n",
       "    <tr>\n",
       "      <th>0</th>\n",
       "      <td>2011</td>\n",
       "      <td>63.20</td>\n",
       "      <td>157.98</td>\n",
       "      <td>NaN</td>\n",
       "      <td>NaN</td>\n",
       "      <td>145.23</td>\n",
       "    </tr>\n",
       "    <tr>\n",
       "      <th>1</th>\n",
       "      <td>2012</td>\n",
       "      <td>51.76</td>\n",
       "      <td>108.28</td>\n",
       "      <td>NaN</td>\n",
       "      <td>17.56</td>\n",
       "      <td>100.72</td>\n",
       "    </tr>\n",
       "    <tr>\n",
       "      <th>2</th>\n",
       "      <td>2013</td>\n",
       "      <td>56.57</td>\n",
       "      <td>113.25</td>\n",
       "      <td>25.99</td>\n",
       "      <td>21.65</td>\n",
       "      <td>88.58</td>\n",
       "    </tr>\n",
       "    <tr>\n",
       "      <th>3</th>\n",
       "      <td>2014</td>\n",
       "      <td>43.76</td>\n",
       "      <td>47.76</td>\n",
       "      <td>100.00</td>\n",
       "      <td>22.03</td>\n",
       "      <td>34.74</td>\n",
       "    </tr>\n",
       "    <tr>\n",
       "      <th>4</th>\n",
       "      <td>2015</td>\n",
       "      <td>27.78</td>\n",
       "      <td>16.82</td>\n",
       "      <td>118.90</td>\n",
       "      <td>16.35</td>\n",
       "      <td>11.96</td>\n",
       "    </tr>\n",
       "    <tr>\n",
       "      <th>5</th>\n",
       "      <td>2016</td>\n",
       "      <td>15.14</td>\n",
       "      <td>3.60</td>\n",
       "      <td>69.25</td>\n",
       "      <td>4.60</td>\n",
       "      <td>1.52</td>\n",
       "    </tr>\n",
       "  </tbody>\n",
       "</table>\n",
       "</div>"
      ],
      "text/plain": [
       "platform  year_of_release    3DS     PS3     PS4   WiiU    X360\n",
       "0                    2011  63.20  157.98     NaN    NaN  145.23\n",
       "1                    2012  51.76  108.28     NaN  17.56  100.72\n",
       "2                    2013  56.57  113.25   25.99  21.65   88.58\n",
       "3                    2014  43.76   47.76  100.00  22.03   34.74\n",
       "4                    2015  27.78   16.82  118.90  16.35   11.96\n",
       "5                    2016  15.14    3.60   69.25   4.60    1.52"
      ]
     },
     "metadata": {},
     "output_type": "display_data"
    },
    {
     "data": {
      "text/plain": [
       "Index(['year_of_release', '3DS', 'PS3', 'PS4', 'WiiU', 'X360'], dtype='object', name='platform')"
      ]
     },
     "execution_count": 24,
     "metadata": {},
     "output_type": "execute_result"
    },
    {
     "data": {
      "image/png": "[encoded data removed]",
      "text/plain": [
       "<Figure size 720x360 with 1 Axes>"
      ]
     },
     "metadata": {
      "needs_background": "light"
     },
     "output_type": "display_data"
    }
   ],
   "source": [
    "platforms_list = ['3DS', 'PS3', 'PS4', 'X360', 'WiiU']\n",
    "\n",
    "data_new = data_stat.query('platform == @platforms_list')\n",
    "\n",
    "data_new_pvt = data_new.pivot_table(index='year_of_release', columns='platform', values='all_sales', aggfunc='sum')\n",
    "data_new_pvt.reset_index(inplace=True)\n",
    "\n",
    "display(data_new_pvt)\n",
    "\n",
    "# посмотрим на диаграмму размаха\n",
    "data_new_pvt.boxplot(platforms_list, vert=0, figsize=(10,5))\n",
    "data_new_pvt.columns"
   ]
  },
  {
   "cell_type": "markdown",
   "id": "d62cbeb9",
   "metadata": {},
   "source": [
    "Для того чтобы построить графики, сгруппирвали таблицу по годам и платформам. \n",
    "\n",
    "По диаграмме размаха можем определить серидинное значение продаж каждой платформы:\n",
    "* X360 - продажи в среднем состовляют чуть больше 60 млн копий\n",
    "* PS4 - около 85 млн копий\n",
    "* PS3 - около 80 млн копий\n",
    "* 3DS - около 45 млн копий"
   ]
  },
  {
   "cell_type": "code",
   "execution_count": 25,
   "id": "970ce32a",
   "metadata": {
    "scrolled": true
   },
   "outputs": [
    {
     "data": {
      "text/plain": [
       "<AxesSubplot:xlabel='year_of_release'>"
      ]
     },
     "execution_count": 25,
     "metadata": {},
     "output_type": "execute_result"
    },
    {
     "data": {
      "image/png": "[encoded data removed]",
      "text/plain": [
       "<Figure size 360x360 with 1 Axes>"
      ]
     },
     "metadata": {
      "needs_background": "light"
     },
     "output_type": "display_data"
    },
    {
     "data": {
      "image/png": "[encoded data removed]",
      "text/plain": [
       "<Figure size 360x360 with 1 Axes>"
      ]
     },
     "metadata": {
      "needs_background": "light"
     },
     "output_type": "display_data"
    },
    {
     "data": {
      "image/png": "[encoded data removed]",
      "text/plain": [
       "<Figure size 360x360 with 1 Axes>"
      ]
     },
     "metadata": {
      "needs_background": "light"
     },
     "output_type": "display_data"
    },
    {
     "data": {
      "image/png": "[encoded data removed]",
      "text/plain": [
       "<Figure size 360x360 with 1 Axes>"
      ]
     },
     "metadata": {
      "needs_background": "light"
     },
     "output_type": "display_data"
    }
   ],
   "source": [
    "# построим график для каждой платформы\n",
    "data_new_pvt.plot(x='year_of_release', y='X360', kind='bar', figsize=(5,5))\n",
    "data_new_pvt.plot(x='year_of_release', y='PS4', kind='bar', figsize=(5,5))\n",
    "data_new_pvt.plot(x='year_of_release', y='PS3', kind='bar', figsize=(5,5))\n",
    "data_new_pvt.plot(x='year_of_release', y='3DS', kind='bar', figsize=(5,5))\n"
   ]
  },
  {
   "cell_type": "markdown",
   "id": "da763e26",
   "metadata": {},
   "source": [
    "По графикам видно, что игры на платформе 'X360' приобретали больше в 2011, к 2016 году продажи упали почти совсем.\n",
    "\n",
    "Продажи игр на платформе 'PS4' с 2013 года до 2015 росли, и к 2016 году пошли на спад. Но в 2016 году все еще хороашая продаваемость.\n",
    "\n",
    "Платформа 'PS3' - в 2011 году показывает пик продаж, затем к 2012 немного упали и продержались на этой отметке 2 года. Затем к 2016 году почти ушли на нет.\n",
    "\n",
    "Платформа '3DS' продавалась хорошо в 2011 году на протяжении 3 лет, в 2014 году продажи начали падать. Но все же в 2016 году эта платформа еще держится.\n",
    "\n",
    "Сделаем вывод: из нашей выборки по продажам лидируют три платформы (исходя из пиковых отметок) - 'X360', 'PS4', 'PS3'. Все выбранные платформы падают в продажах к 2016 году."
   ]
  },
  {
   "cell_type": "code",
   "execution_count": 26,
   "id": "365d4dc5",
   "metadata": {
    "scrolled": true
   },
   "outputs": [
    {
     "data": {
      "image/png": "[encoded data removed]",
      "text/plain": [
       "<Figure size 360x360 with 1 Axes>"
      ]
     },
     "metadata": {
      "needs_background": "light"
     },
     "output_type": "display_data"
    },
    {
     "data": {
      "image/png": "[encoded data removed]",
      "text/plain": [
       "<Figure size 360x360 with 1 Axes>"
      ]
     },
     "metadata": {
      "needs_background": "light"
     },
     "output_type": "display_data"
    },
    {
     "data": {
      "image/png": "[encoded data removed]",
      "text/plain": [
       "<Figure size 360x360 with 1 Axes>"
      ]
     },
     "metadata": {
      "needs_background": "light"
     },
     "output_type": "display_data"
    },
    {
     "data": {
      "image/png": "[encoded data removed]",
      "text/plain": [
       "<Figure size 360x360 with 1 Axes>"
      ]
     },
     "metadata": {
      "needs_background": "light"
     },
     "output_type": "display_data"
    },
    {
     "data": {
      "image/png": "[encoded data removed]",
      "text/plain": [
       "<Figure size 360x360 with 1 Axes>"
      ]
     },
     "metadata": {
      "needs_background": "light"
     },
     "output_type": "display_data"
    },
    {
     "data": {
      "image/png": "[encoded data removed]",
      "text/plain": [
       "<Figure size 360x360 with 1 Axes>"
      ]
     },
     "metadata": {
      "needs_background": "light"
     },
     "output_type": "display_data"
    },
    {
     "data": {
      "image/png": "[encoded data removed]",
      "text/plain": [
       "<Figure size 360x360 with 1 Axes>"
      ]
     },
     "metadata": {
      "needs_background": "light"
     },
     "output_type": "display_data"
    },
    {
     "data": {
      "image/png": "[encoded data removed]",
      "text/plain": [
       "<Figure size 360x360 with 1 Axes>"
      ]
     },
     "metadata": {
      "needs_background": "light"
     },
     "output_type": "display_data"
    },
    {
     "data": {
      "image/png": "[encoded data removed]",
      "text/plain": [
       "<Figure size 360x360 with 1 Axes>"
      ]
     },
     "metadata": {
      "needs_background": "light"
     },
     "output_type": "display_data"
    },
    {
     "data": {
      "image/png": "[encoded data removed]",
      "text/plain": [
       "<Figure size 360x360 with 1 Axes>"
      ]
     },
     "metadata": {
      "needs_background": "light"
     },
     "output_type": "display_data"
    },
    {
     "data": {
      "image/png": "[encoded data removed]",
      "text/plain": [
       "<Figure size 360x360 with 1 Axes>"
      ]
     },
     "metadata": {
      "needs_background": "light"
     },
     "output_type": "display_data"
    },
    {
     "data": {
      "image/png": "[encoded data removed]",
      "text/plain": [
       "<Figure size 360x360 with 1 Axes>"
      ]
     },
     "metadata": {
      "needs_background": "light"
     },
     "output_type": "display_data"
    }
   ],
   "source": [
    "data_all_platforms = data_stat.pivot_table(index='year_of_release', \\\n",
    "                                           columns='platform', values='all_sales', \\\n",
    "                                           aggfunc='sum')\n",
    "data_all_platforms.reset_index(inplace=True)\n",
    "\n",
    "platforms = ['3DS', 'DS', 'PC', 'PS2', 'PS3', 'PS4', 'PSP', 'PSV', 'Wii', 'WiiU', 'X360', 'XOne']\n",
    "\n",
    "for i in platforms:\n",
    "    data_all_platforms.plot(x='year_of_release', y=i, kind='bar', figsize=(5,5))\n"
   ]
  },
  {
   "cell_type": "markdown",
   "id": "47e93cc5",
   "metadata": {},
   "source": [
    "**3.4 Посмотрим, как влияют на продажи внутри одной популярной платформы (например 'PS3') отзывы пользователей и критиков.**"
   ]
  },
  {
   "cell_type": "code",
   "execution_count": 27,
   "id": "ecbc5eeb",
   "metadata": {
    "scrolled": true
   },
   "outputs": [
    {
     "data": {
      "text/html": [
       "<div>\n",
       "<style scoped>\n",
       "    .dataframe tbody tr th:only-of-type {\n",
       "        vertical-align: middle;\n",
       "    }\n",
       "\n",
       "    .dataframe tbody tr th {\n",
       "        vertical-align: top;\n",
       "    }\n",
       "\n",
       "    .dataframe thead th {\n",
       "        text-align: right;\n",
       "    }\n",
       "</style>\n",
       "<table border=\"1\" class=\"dataframe\">\n",
       "  <thead>\n",
       "    <tr style=\"text-align: right;\">\n",
       "      <th></th>\n",
       "      <th>year_of_release</th>\n",
       "      <th>na_sales</th>\n",
       "      <th>eu_sales</th>\n",
       "      <th>jp_sales</th>\n",
       "      <th>other_sales</th>\n",
       "      <th>critic_score</th>\n",
       "      <th>user_score</th>\n",
       "      <th>all_sales</th>\n",
       "    </tr>\n",
       "  </thead>\n",
       "  <tbody>\n",
       "    <tr>\n",
       "      <th>count</th>\n",
       "      <td>344.000000</td>\n",
       "      <td>344.000000</td>\n",
       "      <td>344.000000</td>\n",
       "      <td>344.000000</td>\n",
       "      <td>344.000000</td>\n",
       "      <td>344.000000</td>\n",
       "      <td>344.000000</td>\n",
       "      <td>344.000000</td>\n",
       "    </tr>\n",
       "    <tr>\n",
       "      <th>mean</th>\n",
       "      <td>2012.078488</td>\n",
       "      <td>0.397849</td>\n",
       "      <td>0.369767</td>\n",
       "      <td>0.087180</td>\n",
       "      <td>0.148895</td>\n",
       "      <td>71.462209</td>\n",
       "      <td>6.732849</td>\n",
       "      <td>1.003692</td>\n",
       "    </tr>\n",
       "    <tr>\n",
       "      <th>std</th>\n",
       "      <td>1.025734</td>\n",
       "      <td>0.729531</td>\n",
       "      <td>0.841955</td>\n",
       "      <td>0.156563</td>\n",
       "      <td>0.328996</td>\n",
       "      <td>13.312515</td>\n",
       "      <td>1.454679</td>\n",
       "      <td>1.906585</td>\n",
       "    </tr>\n",
       "    <tr>\n",
       "      <th>min</th>\n",
       "      <td>2011.000000</td>\n",
       "      <td>0.000000</td>\n",
       "      <td>0.000000</td>\n",
       "      <td>0.000000</td>\n",
       "      <td>0.000000</td>\n",
       "      <td>13.000000</td>\n",
       "      <td>1.000000</td>\n",
       "      <td>0.010000</td>\n",
       "    </tr>\n",
       "    <tr>\n",
       "      <th>25%</th>\n",
       "      <td>2011.000000</td>\n",
       "      <td>0.070000</td>\n",
       "      <td>0.040000</td>\n",
       "      <td>0.000000</td>\n",
       "      <td>0.020000</td>\n",
       "      <td>64.000000</td>\n",
       "      <td>6.000000</td>\n",
       "      <td>0.200000</td>\n",
       "    </tr>\n",
       "    <tr>\n",
       "      <th>50%</th>\n",
       "      <td>2012.000000</td>\n",
       "      <td>0.180000</td>\n",
       "      <td>0.140000</td>\n",
       "      <td>0.030000</td>\n",
       "      <td>0.060000</td>\n",
       "      <td>74.000000</td>\n",
       "      <td>7.100000</td>\n",
       "      <td>0.485000</td>\n",
       "    </tr>\n",
       "    <tr>\n",
       "      <th>75%</th>\n",
       "      <td>2013.000000</td>\n",
       "      <td>0.412500</td>\n",
       "      <td>0.382500</td>\n",
       "      <td>0.092500</td>\n",
       "      <td>0.152500</td>\n",
       "      <td>81.000000</td>\n",
       "      <td>7.800000</td>\n",
       "      <td>1.005000</td>\n",
       "    </tr>\n",
       "    <tr>\n",
       "      <th>max</th>\n",
       "      <td>2015.000000</td>\n",
       "      <td>7.020000</td>\n",
       "      <td>9.090000</td>\n",
       "      <td>0.980000</td>\n",
       "      <td>3.960000</td>\n",
       "      <td>97.000000</td>\n",
       "      <td>9.100000</td>\n",
       "      <td>21.050000</td>\n",
       "    </tr>\n",
       "  </tbody>\n",
       "</table>\n",
       "</div>"
      ],
      "text/plain": [
       "       year_of_release    na_sales    eu_sales    jp_sales  other_sales  \\\n",
       "count       344.000000  344.000000  344.000000  344.000000   344.000000   \n",
       "mean       2012.078488    0.397849    0.369767    0.087180     0.148895   \n",
       "std           1.025734    0.729531    0.841955    0.156563     0.328996   \n",
       "min        2011.000000    0.000000    0.000000    0.000000     0.000000   \n",
       "25%        2011.000000    0.070000    0.040000    0.000000     0.020000   \n",
       "50%        2012.000000    0.180000    0.140000    0.030000     0.060000   \n",
       "75%        2013.000000    0.412500    0.382500    0.092500     0.152500   \n",
       "max        2015.000000    7.020000    9.090000    0.980000     3.960000   \n",
       "\n",
       "       critic_score  user_score   all_sales  \n",
       "count    344.000000  344.000000  344.000000  \n",
       "mean      71.462209    6.732849    1.003692  \n",
       "std       13.312515    1.454679    1.906585  \n",
       "min       13.000000    1.000000    0.010000  \n",
       "25%       64.000000    6.000000    0.200000  \n",
       "50%       74.000000    7.100000    0.485000  \n",
       "75%       81.000000    7.800000    1.005000  \n",
       "max       97.000000    9.100000   21.050000  "
      ]
     },
     "execution_count": 27,
     "metadata": {},
     "output_type": "execute_result"
    }
   ],
   "source": [
    "data_ps3 = data_new[(data_new['platform'] == 'PS3') & \\\n",
    "                    (data_new['critic_score'] != 0.0) & \\\n",
    "                    (data_new['user_score'] != 0.0)]\n",
    "data_ps3.describe()"
   ]
  },
  {
   "cell_type": "markdown",
   "id": "0c594789",
   "metadata": {},
   "source": [
    "Числовые характеристики оценок критиков и пользователей сильно отличаются, скорей всего это, потому что пользователи не часто ставят оценки."
   ]
  },
  {
   "cell_type": "code",
   "execution_count": 28,
   "id": "6bb3a624",
   "metadata": {},
   "outputs": [
    {
     "name": "stdout",
     "output_type": "stream",
     "text": [
      "Зависимость продаж от оценок пользователей: 0.024950369201715592\n",
      "Зависимость продаж от оценок критиков: 0.37613768367126077\n"
     ]
    },
    {
     "data": {
      "image/png": "[encoded data removed]",
      "text/plain": [
       "<Figure size 432x288 with 1 Axes>"
      ]
     },
     "metadata": {
      "needs_background": "light"
     },
     "output_type": "display_data"
    },
    {
     "data": {
      "image/png": "[encoded data removed]",
      "text/plain": [
       "<Figure size 432x288 with 1 Axes>"
      ]
     },
     "metadata": {
      "needs_background": "light"
     },
     "output_type": "display_data"
    }
   ],
   "source": [
    "# диаграммы рассеяния\n",
    "data_ps3.plot(x='all_sales', y='user_score', kind='scatter', grid=True, alpha=0.3)\n",
    "data_ps3.plot(x='all_sales', y='critic_score', kind='scatter', grid=True, alpha=0.3)\n",
    "\n",
    "# корреляция\n",
    "print('Зависимость продаж от оценок пользователей:', data_ps3['user_score'].corr(data_ps3['all_sales']))\n",
    "print('Зависимость продаж от оценок критиков:', data_ps3['critic_score'].corr(data_ps3['all_sales']))\n"
   ]
  },
  {
   "cell_type": "markdown",
   "id": "5eb1540a",
   "metadata": {},
   "source": [
    "Оценки пользователей и критиков слабо влияют на продажи игр на платформе 'PS3', но корреляция положительная."
   ]
  },
  {
   "cell_type": "markdown",
   "id": "952978bb",
   "metadata": {},
   "source": [
    "**3.5 Соотнеcем выводы с продажами игр на других платформах. Проверим платформы '3DS' и 'X360'.**"
   ]
  },
  {
   "cell_type": "code",
   "execution_count": 29,
   "id": "2c3bcfcc",
   "metadata": {},
   "outputs": [
    {
     "data": {
      "text/html": [
       "<div>\n",
       "<style scoped>\n",
       "    .dataframe tbody tr th:only-of-type {\n",
       "        vertical-align: middle;\n",
       "    }\n",
       "\n",
       "    .dataframe tbody tr th {\n",
       "        vertical-align: top;\n",
       "    }\n",
       "\n",
       "    .dataframe thead th {\n",
       "        text-align: right;\n",
       "    }\n",
       "</style>\n",
       "<table border=\"1\" class=\"dataframe\">\n",
       "  <thead>\n",
       "    <tr style=\"text-align: right;\">\n",
       "      <th></th>\n",
       "      <th>year_of_release</th>\n",
       "      <th>na_sales</th>\n",
       "      <th>eu_sales</th>\n",
       "      <th>jp_sales</th>\n",
       "      <th>other_sales</th>\n",
       "      <th>critic_score</th>\n",
       "      <th>user_score</th>\n",
       "      <th>all_sales</th>\n",
       "    </tr>\n",
       "  </thead>\n",
       "  <tbody>\n",
       "    <tr>\n",
       "      <th>count</th>\n",
       "      <td>157.000000</td>\n",
       "      <td>157.000000</td>\n",
       "      <td>157.000000</td>\n",
       "      <td>157.000000</td>\n",
       "      <td>157.000000</td>\n",
       "      <td>157.000000</td>\n",
       "      <td>157.000000</td>\n",
       "      <td>157.000000</td>\n",
       "    </tr>\n",
       "    <tr>\n",
       "      <th>mean</th>\n",
       "      <td>2012.617834</td>\n",
       "      <td>0.311146</td>\n",
       "      <td>0.213503</td>\n",
       "      <td>0.215732</td>\n",
       "      <td>0.048917</td>\n",
       "      <td>67.942675</td>\n",
       "      <td>6.940127</td>\n",
       "      <td>0.789299</td>\n",
       "    </tr>\n",
       "    <tr>\n",
       "      <th>std</th>\n",
       "      <td>1.639008</td>\n",
       "      <td>0.666473</td>\n",
       "      <td>0.521668</td>\n",
       "      <td>0.540312</td>\n",
       "      <td>0.113987</td>\n",
       "      <td>12.333113</td>\n",
       "      <td>1.335744</td>\n",
       "      <td>1.748637</td>\n",
       "    </tr>\n",
       "    <tr>\n",
       "      <th>min</th>\n",
       "      <td>2011.000000</td>\n",
       "      <td>0.000000</td>\n",
       "      <td>0.000000</td>\n",
       "      <td>0.000000</td>\n",
       "      <td>0.000000</td>\n",
       "      <td>26.000000</td>\n",
       "      <td>2.400000</td>\n",
       "      <td>0.010000</td>\n",
       "    </tr>\n",
       "    <tr>\n",
       "      <th>25%</th>\n",
       "      <td>2011.000000</td>\n",
       "      <td>0.070000</td>\n",
       "      <td>0.010000</td>\n",
       "      <td>0.000000</td>\n",
       "      <td>0.010000</td>\n",
       "      <td>60.000000</td>\n",
       "      <td>6.100000</td>\n",
       "      <td>0.140000</td>\n",
       "    </tr>\n",
       "    <tr>\n",
       "      <th>50%</th>\n",
       "      <td>2012.000000</td>\n",
       "      <td>0.140000</td>\n",
       "      <td>0.070000</td>\n",
       "      <td>0.050000</td>\n",
       "      <td>0.020000</td>\n",
       "      <td>69.000000</td>\n",
       "      <td>7.200000</td>\n",
       "      <td>0.320000</td>\n",
       "    </tr>\n",
       "    <tr>\n",
       "      <th>75%</th>\n",
       "      <td>2014.000000</td>\n",
       "      <td>0.300000</td>\n",
       "      <td>0.200000</td>\n",
       "      <td>0.190000</td>\n",
       "      <td>0.040000</td>\n",
       "      <td>77.000000</td>\n",
       "      <td>7.900000</td>\n",
       "      <td>0.640000</td>\n",
       "    </tr>\n",
       "    <tr>\n",
       "      <th>max</th>\n",
       "      <td>2016.000000</td>\n",
       "      <td>5.030000</td>\n",
       "      <td>4.020000</td>\n",
       "      <td>4.390000</td>\n",
       "      <td>0.910000</td>\n",
       "      <td>92.000000</td>\n",
       "      <td>9.100000</td>\n",
       "      <td>12.650000</td>\n",
       "    </tr>\n",
       "  </tbody>\n",
       "</table>\n",
       "</div>"
      ],
      "text/plain": [
       "       year_of_release    na_sales    eu_sales    jp_sales  other_sales  \\\n",
       "count       157.000000  157.000000  157.000000  157.000000   157.000000   \n",
       "mean       2012.617834    0.311146    0.213503    0.215732     0.048917   \n",
       "std           1.639008    0.666473    0.521668    0.540312     0.113987   \n",
       "min        2011.000000    0.000000    0.000000    0.000000     0.000000   \n",
       "25%        2011.000000    0.070000    0.010000    0.000000     0.010000   \n",
       "50%        2012.000000    0.140000    0.070000    0.050000     0.020000   \n",
       "75%        2014.000000    0.300000    0.200000    0.190000     0.040000   \n",
       "max        2016.000000    5.030000    4.020000    4.390000     0.910000   \n",
       "\n",
       "       critic_score  user_score   all_sales  \n",
       "count    157.000000  157.000000  157.000000  \n",
       "mean      67.942675    6.940127    0.789299  \n",
       "std       12.333113    1.335744    1.748637  \n",
       "min       26.000000    2.400000    0.010000  \n",
       "25%       60.000000    6.100000    0.140000  \n",
       "50%       69.000000    7.200000    0.320000  \n",
       "75%       77.000000    7.900000    0.640000  \n",
       "max       92.000000    9.100000   12.650000  "
      ]
     },
     "execution_count": 29,
     "metadata": {},
     "output_type": "execute_result"
    }
   ],
   "source": [
    "data_3ds = data_new[(data_new['platform'] == '3DS') & \\\n",
    "                    (data_new['critic_score'] != 0.0) & \\\n",
    "                    (data_new['user_score'] != 0.0)]\n",
    "data_3ds.describe()"
   ]
  },
  {
   "cell_type": "code",
   "execution_count": 30,
   "id": "f0bb4eb5",
   "metadata": {},
   "outputs": [
    {
     "name": "stdout",
     "output_type": "stream",
     "text": [
      "Зависимость продаж от оценок пользователей: 0.23244358107814947\n",
      "Зависимость продаж от оценок критиков: 0.3384264578906769\n"
     ]
    },
    {
     "data": {
      "image/png": "[encoded data removed]",
      "text/plain": [
       "<Figure size 432x288 with 1 Axes>"
      ]
     },
     "metadata": {
      "needs_background": "light"
     },
     "output_type": "display_data"
    },
    {
     "data": {
      "image/png": "[encoded data removed]",
      "text/plain": [
       "<Figure size 432x288 with 1 Axes>"
      ]
     },
     "metadata": {
      "needs_background": "light"
     },
     "output_type": "display_data"
    }
   ],
   "source": [
    "# диаграммы рассеяния\n",
    "data_3ds.plot(x='all_sales', y='user_score', kind='scatter', grid=True, alpha=0.3)\n",
    "data_3ds.plot(x='all_sales', y='critic_score', kind='scatter', grid=True, alpha=0.3)\n",
    "\n",
    "# корреляция\n",
    "print('Зависимость продаж от оценок пользователей:', data_3ds['user_score'].corr(data_3ds['all_sales']))\n",
    "print('Зависимость продаж от оценок критиков:', data_3ds['critic_score'].corr(data_3ds['all_sales']))"
   ]
  },
  {
   "cell_type": "code",
   "execution_count": 31,
   "id": "04f84577",
   "metadata": {
    "scrolled": true
   },
   "outputs": [
    {
     "data": {
      "text/html": [
       "<div>\n",
       "<style scoped>\n",
       "    .dataframe tbody tr th:only-of-type {\n",
       "        vertical-align: middle;\n",
       "    }\n",
       "\n",
       "    .dataframe tbody tr th {\n",
       "        vertical-align: top;\n",
       "    }\n",
       "\n",
       "    .dataframe thead th {\n",
       "        text-align: right;\n",
       "    }\n",
       "</style>\n",
       "<table border=\"1\" class=\"dataframe\">\n",
       "  <thead>\n",
       "    <tr style=\"text-align: right;\">\n",
       "      <th></th>\n",
       "      <th>year_of_release</th>\n",
       "      <th>na_sales</th>\n",
       "      <th>eu_sales</th>\n",
       "      <th>jp_sales</th>\n",
       "      <th>other_sales</th>\n",
       "      <th>critic_score</th>\n",
       "      <th>user_score</th>\n",
       "      <th>all_sales</th>\n",
       "    </tr>\n",
       "  </thead>\n",
       "  <tbody>\n",
       "    <tr>\n",
       "      <th>count</th>\n",
       "      <td>295.000000</td>\n",
       "      <td>295.00000</td>\n",
       "      <td>295.000000</td>\n",
       "      <td>295.000000</td>\n",
       "      <td>295.000000</td>\n",
       "      <td>295.000000</td>\n",
       "      <td>295.000000</td>\n",
       "      <td>295.000000</td>\n",
       "    </tr>\n",
       "    <tr>\n",
       "      <th>mean</th>\n",
       "      <td>2011.945763</td>\n",
       "      <td>0.63522</td>\n",
       "      <td>0.324034</td>\n",
       "      <td>0.008814</td>\n",
       "      <td>0.091729</td>\n",
       "      <td>69.935593</td>\n",
       "      <td>6.537288</td>\n",
       "      <td>1.059797</td>\n",
       "    </tr>\n",
       "    <tr>\n",
       "      <th>std</th>\n",
       "      <td>0.977871</td>\n",
       "      <td>1.20475</td>\n",
       "      <td>0.625567</td>\n",
       "      <td>0.017112</td>\n",
       "      <td>0.171387</td>\n",
       "      <td>14.958420</td>\n",
       "      <td>1.469520</td>\n",
       "      <td>1.956575</td>\n",
       "    </tr>\n",
       "    <tr>\n",
       "      <th>min</th>\n",
       "      <td>2011.000000</td>\n",
       "      <td>0.00000</td>\n",
       "      <td>0.000000</td>\n",
       "      <td>0.000000</td>\n",
       "      <td>0.000000</td>\n",
       "      <td>19.000000</td>\n",
       "      <td>1.200000</td>\n",
       "      <td>0.010000</td>\n",
       "    </tr>\n",
       "    <tr>\n",
       "      <th>25%</th>\n",
       "      <td>2011.000000</td>\n",
       "      <td>0.10000</td>\n",
       "      <td>0.050000</td>\n",
       "      <td>0.000000</td>\n",
       "      <td>0.020000</td>\n",
       "      <td>61.000000</td>\n",
       "      <td>5.700000</td>\n",
       "      <td>0.190000</td>\n",
       "    </tr>\n",
       "    <tr>\n",
       "      <th>50%</th>\n",
       "      <td>2012.000000</td>\n",
       "      <td>0.28000</td>\n",
       "      <td>0.140000</td>\n",
       "      <td>0.000000</td>\n",
       "      <td>0.040000</td>\n",
       "      <td>74.000000</td>\n",
       "      <td>6.700000</td>\n",
       "      <td>0.480000</td>\n",
       "    </tr>\n",
       "    <tr>\n",
       "      <th>75%</th>\n",
       "      <td>2013.000000</td>\n",
       "      <td>0.66000</td>\n",
       "      <td>0.340000</td>\n",
       "      <td>0.010000</td>\n",
       "      <td>0.090000</td>\n",
       "      <td>80.500000</td>\n",
       "      <td>7.700000</td>\n",
       "      <td>1.090000</td>\n",
       "    </tr>\n",
       "    <tr>\n",
       "      <th>max</th>\n",
       "      <td>2014.000000</td>\n",
       "      <td>9.66000</td>\n",
       "      <td>5.140000</td>\n",
       "      <td>0.130000</td>\n",
       "      <td>1.410000</td>\n",
       "      <td>97.000000</td>\n",
       "      <td>8.900000</td>\n",
       "      <td>16.270000</td>\n",
       "    </tr>\n",
       "  </tbody>\n",
       "</table>\n",
       "</div>"
      ],
      "text/plain": [
       "       year_of_release   na_sales    eu_sales    jp_sales  other_sales  \\\n",
       "count       295.000000  295.00000  295.000000  295.000000   295.000000   \n",
       "mean       2011.945763    0.63522    0.324034    0.008814     0.091729   \n",
       "std           0.977871    1.20475    0.625567    0.017112     0.171387   \n",
       "min        2011.000000    0.00000    0.000000    0.000000     0.000000   \n",
       "25%        2011.000000    0.10000    0.050000    0.000000     0.020000   \n",
       "50%        2012.000000    0.28000    0.140000    0.000000     0.040000   \n",
       "75%        2013.000000    0.66000    0.340000    0.010000     0.090000   \n",
       "max        2014.000000    9.66000    5.140000    0.130000     1.410000   \n",
       "\n",
       "       critic_score  user_score   all_sales  \n",
       "count    295.000000  295.000000  295.000000  \n",
       "mean      69.935593    6.537288    1.059797  \n",
       "std       14.958420    1.469520    1.956575  \n",
       "min       19.000000    1.200000    0.010000  \n",
       "25%       61.000000    5.700000    0.190000  \n",
       "50%       74.000000    6.700000    0.480000  \n",
       "75%       80.500000    7.700000    1.090000  \n",
       "max       97.000000    8.900000   16.270000  "
      ]
     },
     "execution_count": 31,
     "metadata": {},
     "output_type": "execute_result"
    }
   ],
   "source": [
    "data_x360 = data_new[(data_new['platform'] == 'X360') & \\\n",
    "                    (data_new['critic_score'] != 0.0) & \\\n",
    "                    (data_new['user_score'] != 0.0)]\n",
    "data_x360.describe()"
   ]
  },
  {
   "cell_type": "code",
   "execution_count": 32,
   "id": "4350fecd",
   "metadata": {
    "scrolled": false
   },
   "outputs": [
    {
     "name": "stdout",
     "output_type": "stream",
     "text": [
      "Зависимость продаж от оценок пользователей: 0.022846157392019638\n",
      "Зависимость продаж от оценок критиков: 0.3893352638493179\n"
     ]
    },
    {
     "data": {
      "image/png": "[encoded data removed]",
      "text/plain": [
       "<Figure size 432x288 with 1 Axes>"
      ]
     },
     "metadata": {
      "needs_background": "light"
     },
     "output_type": "display_data"
    },
    {
     "data": {
      "image/png": "[encoded data removed]",
      "text/plain": [
       "<Figure size 432x288 with 1 Axes>"
      ]
     },
     "metadata": {
      "needs_background": "light"
     },
     "output_type": "display_data"
    }
   ],
   "source": [
    "# диаграммы рассеяния\n",
    "data_x360.plot(x='all_sales', y='user_score', kind='scatter', grid=True, alpha=0.3)\n",
    "data_x360.plot(x='all_sales', y='critic_score', kind='scatter', grid=True, alpha=0.3)\n",
    "\n",
    "# корреляция\n",
    "print('Зависимость продаж от оценок пользователей:', data_x360['user_score'].corr(data_x360['all_sales']))\n",
    "print('Зависимость продаж от оценок критиков:', data_x360['critic_score'].corr(data_x360['all_sales']))"
   ]
  },
  {
   "cell_type": "markdown",
   "id": "b5897d1e",
   "metadata": {},
   "source": [
    "**Вывод**"
   ]
  },
  {
   "cell_type": "markdown",
   "id": "82a8d695",
   "metadata": {},
   "source": [
    "Рассмотрев зависимости продаж от оценок пользователей и критиков по трем платформам, можно сказать, что оценки почти не влияют на продажи. Видна очень слабая положительная зависимость. По диаграммам также заметно сосредоточение высоких оценок на продажах до 5 млн."
   ]
  },
  {
   "cell_type": "markdown",
   "id": "ae4af48b",
   "metadata": {},
   "source": [
    "**3.6 Посмотрим на общее распределение игр по жанрам. Что можно сказать о самых прибыльных жанрах? Выделяются ли жанры с высокими и низкими продажами?**"
   ]
  },
  {
   "cell_type": "code",
   "execution_count": 33,
   "id": "29631818",
   "metadata": {
    "scrolled": false
   },
   "outputs": [
    {
     "data": {
      "text/html": [
       "<div>\n",
       "<style scoped>\n",
       "    .dataframe tbody tr th:only-of-type {\n",
       "        vertical-align: middle;\n",
       "    }\n",
       "\n",
       "    .dataframe tbody tr th {\n",
       "        vertical-align: top;\n",
       "    }\n",
       "\n",
       "    .dataframe thead th {\n",
       "        text-align: right;\n",
       "    }\n",
       "</style>\n",
       "<table border=\"1\" class=\"dataframe\">\n",
       "  <thead>\n",
       "    <tr style=\"text-align: right;\">\n",
       "      <th></th>\n",
       "      <th>genre</th>\n",
       "      <th>all_sales</th>\n",
       "    </tr>\n",
       "  </thead>\n",
       "  <tbody>\n",
       "    <tr>\n",
       "      <th>0</th>\n",
       "      <td>action</td>\n",
       "      <td>446.66</td>\n",
       "    </tr>\n",
       "    <tr>\n",
       "      <th>8</th>\n",
       "      <td>shooter</td>\n",
       "      <td>314.25</td>\n",
       "    </tr>\n",
       "    <tr>\n",
       "      <th>10</th>\n",
       "      <td>sports</td>\n",
       "      <td>183.48</td>\n",
       "    </tr>\n",
       "    <tr>\n",
       "      <th>7</th>\n",
       "      <td>role-playing</td>\n",
       "      <td>178.28</td>\n",
       "    </tr>\n",
       "    <tr>\n",
       "      <th>4</th>\n",
       "      <td>platform</td>\n",
       "      <td>77.93</td>\n",
       "    </tr>\n",
       "    <tr>\n",
       "      <th>3</th>\n",
       "      <td>misc</td>\n",
       "      <td>75.79</td>\n",
       "    </tr>\n",
       "    <tr>\n",
       "      <th>6</th>\n",
       "      <td>racing</td>\n",
       "      <td>70.43</td>\n",
       "    </tr>\n",
       "    <tr>\n",
       "      <th>2</th>\n",
       "      <td>fighting</td>\n",
       "      <td>58.39</td>\n",
       "    </tr>\n",
       "    <tr>\n",
       "      <th>9</th>\n",
       "      <td>simulation</td>\n",
       "      <td>34.79</td>\n",
       "    </tr>\n",
       "    <tr>\n",
       "      <th>1</th>\n",
       "      <td>adventure</td>\n",
       "      <td>30.93</td>\n",
       "    </tr>\n",
       "    <tr>\n",
       "      <th>11</th>\n",
       "      <td>strategy</td>\n",
       "      <td>7.10</td>\n",
       "    </tr>\n",
       "    <tr>\n",
       "      <th>5</th>\n",
       "      <td>puzzle</td>\n",
       "      <td>6.95</td>\n",
       "    </tr>\n",
       "  </tbody>\n",
       "</table>\n",
       "</div>"
      ],
      "text/plain": [
       "           genre  all_sales\n",
       "0         action     446.66\n",
       "8        shooter     314.25\n",
       "10        sports     183.48\n",
       "7   role-playing     178.28\n",
       "4       platform      77.93\n",
       "3           misc      75.79\n",
       "6         racing      70.43\n",
       "2       fighting      58.39\n",
       "9     simulation      34.79\n",
       "1      adventure      30.93\n",
       "11      strategy       7.10\n",
       "5         puzzle       6.95"
      ]
     },
     "metadata": {},
     "output_type": "display_data"
    },
    {
     "data": {
      "text/plain": [
       "<AxesSubplot:xlabel='genre'>"
      ]
     },
     "execution_count": 33,
     "metadata": {},
     "output_type": "execute_result"
    },
    {
     "data": {
      "image/png": "[encoded data removed]",
      "text/plain": [
       "<Figure size 360x360 with 1 Axes>"
      ]
     },
     "metadata": {
      "needs_background": "light"
     },
     "output_type": "display_data"
    }
   ],
   "source": [
    "grouped_genres = data_new.pivot_table(index='genre', values='all_sales', aggfunc='sum')\n",
    "grouped_genres.reset_index(inplace=True)\n",
    "\n",
    "grouped_genres = grouped_genres.sort_values(['all_sales'], ascending=False)\n",
    "\n",
    "display(grouped_genres)\n",
    "grouped_genres.plot(x='genre', y='all_sales', kind='bar', figsize=(5,5))"
   ]
  },
  {
   "cell_type": "markdown",
   "id": "c06a643a",
   "metadata": {},
   "source": [
    "Делаем вывод. По графику и сводной можно заметить четыре жанра с высокой продаваемостью остальные нижк (менее 100 млн копий). Пик продаж нашей выборки составляют игры жанра action, чуть меньше продаж идет от жанров sports и shooter, и и последний жанр role-playing."
   ]
  },
  {
   "cell_type": "code",
   "execution_count": 34,
   "id": "8062f3fb",
   "metadata": {
    "scrolled": false
   },
   "outputs": [
    {
     "data": {
      "text/html": [
       "<div>\n",
       "<style scoped>\n",
       "    .dataframe tbody tr th:only-of-type {\n",
       "        vertical-align: middle;\n",
       "    }\n",
       "\n",
       "    .dataframe tbody tr th {\n",
       "        vertical-align: top;\n",
       "    }\n",
       "\n",
       "    .dataframe thead th {\n",
       "        text-align: right;\n",
       "    }\n",
       "</style>\n",
       "<table border=\"1\" class=\"dataframe\">\n",
       "  <thead>\n",
       "    <tr style=\"text-align: right;\">\n",
       "      <th></th>\n",
       "      <th>genre</th>\n",
       "      <th>count</th>\n",
       "      <th>median</th>\n",
       "      <th>sum</th>\n",
       "    </tr>\n",
       "  </thead>\n",
       "  <tbody>\n",
       "    <tr>\n",
       "      <th>0</th>\n",
       "      <td>action</td>\n",
       "      <td>779</td>\n",
       "      <td>0.190</td>\n",
       "      <td>446.66</td>\n",
       "    </tr>\n",
       "    <tr>\n",
       "      <th>7</th>\n",
       "      <td>role-playing</td>\n",
       "      <td>244</td>\n",
       "      <td>0.215</td>\n",
       "      <td>178.28</td>\n",
       "    </tr>\n",
       "    <tr>\n",
       "      <th>10</th>\n",
       "      <td>sports</td>\n",
       "      <td>242</td>\n",
       "      <td>0.290</td>\n",
       "      <td>183.48</td>\n",
       "    </tr>\n",
       "    <tr>\n",
       "      <th>8</th>\n",
       "      <td>shooter</td>\n",
       "      <td>217</td>\n",
       "      <td>0.440</td>\n",
       "      <td>314.25</td>\n",
       "    </tr>\n",
       "    <tr>\n",
       "      <th>3</th>\n",
       "      <td>misc</td>\n",
       "      <td>202</td>\n",
       "      <td>0.125</td>\n",
       "      <td>75.79</td>\n",
       "    </tr>\n",
       "    <tr>\n",
       "      <th>1</th>\n",
       "      <td>adventure</td>\n",
       "      <td>150</td>\n",
       "      <td>0.060</td>\n",
       "      <td>30.93</td>\n",
       "    </tr>\n",
       "    <tr>\n",
       "      <th>2</th>\n",
       "      <td>fighting</td>\n",
       "      <td>116</td>\n",
       "      <td>0.210</td>\n",
       "      <td>58.39</td>\n",
       "    </tr>\n",
       "    <tr>\n",
       "      <th>6</th>\n",
       "      <td>racing</td>\n",
       "      <td>106</td>\n",
       "      <td>0.230</td>\n",
       "      <td>70.43</td>\n",
       "    </tr>\n",
       "    <tr>\n",
       "      <th>4</th>\n",
       "      <td>platform</td>\n",
       "      <td>83</td>\n",
       "      <td>0.260</td>\n",
       "      <td>77.93</td>\n",
       "    </tr>\n",
       "    <tr>\n",
       "      <th>9</th>\n",
       "      <td>simulation</td>\n",
       "      <td>67</td>\n",
       "      <td>0.150</td>\n",
       "      <td>34.79</td>\n",
       "    </tr>\n",
       "    <tr>\n",
       "      <th>11</th>\n",
       "      <td>strategy</td>\n",
       "      <td>39</td>\n",
       "      <td>0.080</td>\n",
       "      <td>7.10</td>\n",
       "    </tr>\n",
       "    <tr>\n",
       "      <th>5</th>\n",
       "      <td>puzzle</td>\n",
       "      <td>26</td>\n",
       "      <td>0.095</td>\n",
       "      <td>6.95</td>\n",
       "    </tr>\n",
       "  </tbody>\n",
       "</table>\n",
       "</div>"
      ],
      "text/plain": [
       "           genre  count  median     sum\n",
       "0         action    779   0.190  446.66\n",
       "7   role-playing    244   0.215  178.28\n",
       "10        sports    242   0.290  183.48\n",
       "8        shooter    217   0.440  314.25\n",
       "3           misc    202   0.125   75.79\n",
       "1      adventure    150   0.060   30.93\n",
       "2       fighting    116   0.210   58.39\n",
       "6         racing    106   0.230   70.43\n",
       "4       platform     83   0.260   77.93\n",
       "9     simulation     67   0.150   34.79\n",
       "11      strategy     39   0.080    7.10\n",
       "5         puzzle     26   0.095    6.95"
      ]
     },
     "metadata": {},
     "output_type": "display_data"
    }
   ],
   "source": [
    "# посмотрим на количество игр в каждом жанре\n",
    "\n",
    "data_genres_new = data_new.pivot_table(index='genre', values='all_sales', \\\n",
    "                                       aggfunc=('count', 'sum', 'median'), dropna=False)\n",
    "data_genres_new.reset_index(inplace=True)\n",
    "\n",
    "data_genres_new = data_genres_new.sort_values(['count'], ascending=False)\n",
    "\n",
    "display(data_genres_new)"
   ]
  },
  {
   "cell_type": "markdown",
   "id": "e7b0b7c5",
   "metadata": {},
   "source": [
    "Количество игр различается, в некоторых жанрах сильно. Самый лучший медианный показатель у жанра shooter, хоть и количество игр примерно как у болшинства жанров. А самый низкий у adventure, strategy и puzzle."
   ]
  },
  {
   "cell_type": "markdown",
   "id": "e4e76ddd",
   "metadata": {},
   "source": [
    "### Шаг 4. Составление портрета пользователя каждого региона "
   ]
  },
  {
   "cell_type": "markdown",
   "id": "e4077d66",
   "metadata": {},
   "source": [
    "Определим для пользователя каждого региона (NA, EU, JP):\n",
    "\n",
    "* Самые популярные платформы (топ-5).\n",
    "* Самые популярные жанры (топ-5).\n",
    "* Влияет ли рейтинг ESRB на продажи в отдельном регионе?\n",
    "\n",
    "Для каждого пункта необходимо создать выборки (небольшие сводные) и построить графики для визуализации.\n",
    "У нас 3 критерия, по которым нужно посмотреть самые высокие продажи по регионам - платформы, жанры, рейтинг ESRB."
   ]
  },
  {
   "cell_type": "code",
   "execution_count": 35,
   "id": "5412fbd7",
   "metadata": {},
   "outputs": [],
   "source": [
    "# создадим функцию \n",
    "\n",
    "def platforms(row):\n",
    "    \"\"\" \n",
    "    Функция берет в параметр наименование столбца, \n",
    "    по которому будут просчитываться суммарные продажи по платформам, жанрам и рейтингу с помощью сводной,\n",
    "    сортировать эти продажи в порядке убывания и выбирать первые 5 из списка.\n",
    "    Далее строятся графики.\n",
    "    \n",
    "    \"\"\"\n",
    "    # задаем параметры для графиков (размер и количество)\n",
    "    figure, ax = plt.subplots(1, 3, figsize=(15, 5))\n",
    "    \n",
    "    # создаем цикл для столбцов группировки и их графиков\n",
    "    for i, j in zip(list(['platform','genre','rating']), ax):\n",
    "        platforms_top = data_stat.pivot_table(index=i, values=row, aggfunc='sum')\\\n",
    "        .sort_values(by=row, ascending=False).reset_index().rename_axis(None, axis=1).head(5)\n",
    "        \n",
    "        display(platforms_top)\n",
    "        sns.barplot(data=platforms_top, x=i, y=row, ax=j)\n",
    "        "
   ]
  },
  {
   "cell_type": "markdown",
   "id": "35e64a10",
   "metadata": {},
   "source": [
    "**Портрет пользователя Северной Америки**"
   ]
  },
  {
   "cell_type": "code",
   "execution_count": 36,
   "id": "04a7ece2",
   "metadata": {},
   "outputs": [
    {
     "data": {
      "text/html": [
       "<div>\n",
       "<style scoped>\n",
       "    .dataframe tbody tr th:only-of-type {\n",
       "        vertical-align: middle;\n",
       "    }\n",
       "\n",
       "    .dataframe tbody tr th {\n",
       "        vertical-align: top;\n",
       "    }\n",
       "\n",
       "    .dataframe thead th {\n",
       "        text-align: right;\n",
       "    }\n",
       "</style>\n",
       "<table border=\"1\" class=\"dataframe\">\n",
       "  <thead>\n",
       "    <tr style=\"text-align: right;\">\n",
       "      <th></th>\n",
       "      <th>platform</th>\n",
       "      <th>na_sales</th>\n",
       "    </tr>\n",
       "  </thead>\n",
       "  <tbody>\n",
       "    <tr>\n",
       "      <th>0</th>\n",
       "      <td>X360</td>\n",
       "      <td>228.18</td>\n",
       "    </tr>\n",
       "    <tr>\n",
       "      <th>1</th>\n",
       "      <td>PS3</td>\n",
       "      <td>168.96</td>\n",
       "    </tr>\n",
       "    <tr>\n",
       "      <th>2</th>\n",
       "      <td>PS4</td>\n",
       "      <td>108.74</td>\n",
       "    </tr>\n",
       "    <tr>\n",
       "      <th>3</th>\n",
       "      <td>XOne</td>\n",
       "      <td>93.12</td>\n",
       "    </tr>\n",
       "    <tr>\n",
       "      <th>4</th>\n",
       "      <td>3DS</td>\n",
       "      <td>82.83</td>\n",
       "    </tr>\n",
       "  </tbody>\n",
       "</table>\n",
       "</div>"
      ],
      "text/plain": [
       "  platform  na_sales\n",
       "0     X360    228.18\n",
       "1      PS3    168.96\n",
       "2      PS4    108.74\n",
       "3     XOne     93.12\n",
       "4      3DS     82.83"
      ]
     },
     "metadata": {},
     "output_type": "display_data"
    },
    {
     "data": {
      "text/html": [
       "<div>\n",
       "<style scoped>\n",
       "    .dataframe tbody tr th:only-of-type {\n",
       "        vertical-align: middle;\n",
       "    }\n",
       "\n",
       "    .dataframe tbody tr th {\n",
       "        vertical-align: top;\n",
       "    }\n",
       "\n",
       "    .dataframe thead th {\n",
       "        text-align: right;\n",
       "    }\n",
       "</style>\n",
       "<table border=\"1\" class=\"dataframe\">\n",
       "  <thead>\n",
       "    <tr style=\"text-align: right;\">\n",
       "      <th></th>\n",
       "      <th>genre</th>\n",
       "      <th>na_sales</th>\n",
       "    </tr>\n",
       "  </thead>\n",
       "  <tbody>\n",
       "    <tr>\n",
       "      <th>0</th>\n",
       "      <td>action</td>\n",
       "      <td>234.41</td>\n",
       "    </tr>\n",
       "    <tr>\n",
       "      <th>1</th>\n",
       "      <td>shooter</td>\n",
       "      <td>194.45</td>\n",
       "    </tr>\n",
       "    <tr>\n",
       "      <th>2</th>\n",
       "      <td>sports</td>\n",
       "      <td>108.70</td>\n",
       "    </tr>\n",
       "    <tr>\n",
       "      <th>3</th>\n",
       "      <td>role-playing</td>\n",
       "      <td>83.78</td>\n",
       "    </tr>\n",
       "    <tr>\n",
       "      <th>4</th>\n",
       "      <td>misc</td>\n",
       "      <td>69.81</td>\n",
       "    </tr>\n",
       "  </tbody>\n",
       "</table>\n",
       "</div>"
      ],
      "text/plain": [
       "          genre  na_sales\n",
       "0        action    234.41\n",
       "1       shooter    194.45\n",
       "2        sports    108.70\n",
       "3  role-playing     83.78\n",
       "4          misc     69.81"
      ]
     },
     "metadata": {},
     "output_type": "display_data"
    },
    {
     "data": {
      "text/html": [
       "<div>\n",
       "<style scoped>\n",
       "    .dataframe tbody tr th:only-of-type {\n",
       "        vertical-align: middle;\n",
       "    }\n",
       "\n",
       "    .dataframe tbody tr th {\n",
       "        vertical-align: top;\n",
       "    }\n",
       "\n",
       "    .dataframe thead th {\n",
       "        text-align: right;\n",
       "    }\n",
       "</style>\n",
       "<table border=\"1\" class=\"dataframe\">\n",
       "  <thead>\n",
       "    <tr style=\"text-align: right;\">\n",
       "      <th></th>\n",
       "      <th>rating</th>\n",
       "      <th>na_sales</th>\n",
       "    </tr>\n",
       "  </thead>\n",
       "  <tbody>\n",
       "    <tr>\n",
       "      <th>0</th>\n",
       "      <td>M</td>\n",
       "      <td>309.32</td>\n",
       "    </tr>\n",
       "    <tr>\n",
       "      <th>1</th>\n",
       "      <td>E</td>\n",
       "      <td>170.25</td>\n",
       "    </tr>\n",
       "    <tr>\n",
       "      <th>2</th>\n",
       "      <td>undefind</td>\n",
       "      <td>124.03</td>\n",
       "    </tr>\n",
       "    <tr>\n",
       "      <th>3</th>\n",
       "      <td>E10+</td>\n",
       "      <td>119.95</td>\n",
       "    </tr>\n",
       "    <tr>\n",
       "      <th>4</th>\n",
       "      <td>T</td>\n",
       "      <td>109.62</td>\n",
       "    </tr>\n",
       "  </tbody>\n",
       "</table>\n",
       "</div>"
      ],
      "text/plain": [
       "     rating  na_sales\n",
       "0         M    309.32\n",
       "1         E    170.25\n",
       "2  undefind    124.03\n",
       "3      E10+    119.95\n",
       "4         T    109.62"
      ]
     },
     "metadata": {},
     "output_type": "display_data"
    },
    {
     "data": {
      "image/png": "[encoded data removed]",
      "text/plain": [
       "<Figure size 1080x360 with 3 Axes>"
      ]
     },
     "metadata": {
      "needs_background": "light"
     },
     "output_type": "display_data"
    }
   ],
   "source": [
    "platforms('na_sales')"
   ]
  },
  {
   "cell_type": "markdown",
   "id": "75296d42",
   "metadata": {},
   "source": [
    "* самые популярные платформы - X360, PS3, PS4, XOne, 3DS\n",
    "* жанры - action, sports, shooter, misc, role-playing\n",
    "* рейтинг - Е (для всех), М (для взрослых), Т (для подростков), Е10+ (для всех от 10 лет) и неопределенный."
   ]
  },
  {
   "cell_type": "markdown",
   "id": "20fa7dcb",
   "metadata": {},
   "source": [
    "**Портрет пользователя Европы**"
   ]
  },
  {
   "cell_type": "code",
   "execution_count": 37,
   "id": "75072ca2",
   "metadata": {},
   "outputs": [
    {
     "data": {
      "text/html": [
       "<div>\n",
       "<style scoped>\n",
       "    .dataframe tbody tr th:only-of-type {\n",
       "        vertical-align: middle;\n",
       "    }\n",
       "\n",
       "    .dataframe tbody tr th {\n",
       "        vertical-align: top;\n",
       "    }\n",
       "\n",
       "    .dataframe thead th {\n",
       "        text-align: right;\n",
       "    }\n",
       "</style>\n",
       "<table border=\"1\" class=\"dataframe\">\n",
       "  <thead>\n",
       "    <tr style=\"text-align: right;\">\n",
       "      <th></th>\n",
       "      <th>platform</th>\n",
       "      <th>eu_sales</th>\n",
       "    </tr>\n",
       "  </thead>\n",
       "  <tbody>\n",
       "    <tr>\n",
       "      <th>0</th>\n",
       "      <td>PS3</td>\n",
       "      <td>164.15</td>\n",
       "    </tr>\n",
       "    <tr>\n",
       "      <th>1</th>\n",
       "      <td>PS4</td>\n",
       "      <td>141.09</td>\n",
       "    </tr>\n",
       "    <tr>\n",
       "      <th>2</th>\n",
       "      <td>X360</td>\n",
       "      <td>117.87</td>\n",
       "    </tr>\n",
       "    <tr>\n",
       "      <th>3</th>\n",
       "      <td>3DS</td>\n",
       "      <td>61.46</td>\n",
       "    </tr>\n",
       "    <tr>\n",
       "      <th>4</th>\n",
       "      <td>PC</td>\n",
       "      <td>57.38</td>\n",
       "    </tr>\n",
       "  </tbody>\n",
       "</table>\n",
       "</div>"
      ],
      "text/plain": [
       "  platform  eu_sales\n",
       "0      PS3    164.15\n",
       "1      PS4    141.09\n",
       "2     X360    117.87\n",
       "3      3DS     61.46\n",
       "4       PC     57.38"
      ]
     },
     "metadata": {},
     "output_type": "display_data"
    },
    {
     "data": {
      "text/html": [
       "<div>\n",
       "<style scoped>\n",
       "    .dataframe tbody tr th:only-of-type {\n",
       "        vertical-align: middle;\n",
       "    }\n",
       "\n",
       "    .dataframe tbody tr th {\n",
       "        vertical-align: top;\n",
       "    }\n",
       "\n",
       "    .dataframe thead th {\n",
       "        text-align: right;\n",
       "    }\n",
       "</style>\n",
       "<table border=\"1\" class=\"dataframe\">\n",
       "  <thead>\n",
       "    <tr style=\"text-align: right;\">\n",
       "      <th></th>\n",
       "      <th>genre</th>\n",
       "      <th>eu_sales</th>\n",
       "    </tr>\n",
       "  </thead>\n",
       "  <tbody>\n",
       "    <tr>\n",
       "      <th>0</th>\n",
       "      <td>action</td>\n",
       "      <td>202.17</td>\n",
       "    </tr>\n",
       "    <tr>\n",
       "      <th>1</th>\n",
       "      <td>shooter</td>\n",
       "      <td>148.05</td>\n",
       "    </tr>\n",
       "    <tr>\n",
       "      <th>2</th>\n",
       "      <td>sports</td>\n",
       "      <td>88.67</td>\n",
       "    </tr>\n",
       "    <tr>\n",
       "      <th>3</th>\n",
       "      <td>role-playing</td>\n",
       "      <td>62.30</td>\n",
       "    </tr>\n",
       "    <tr>\n",
       "      <th>4</th>\n",
       "      <td>racing</td>\n",
       "      <td>40.58</td>\n",
       "    </tr>\n",
       "  </tbody>\n",
       "</table>\n",
       "</div>"
      ],
      "text/plain": [
       "          genre  eu_sales\n",
       "0        action    202.17\n",
       "1       shooter    148.05\n",
       "2        sports     88.67\n",
       "3  role-playing     62.30\n",
       "4        racing     40.58"
      ]
     },
     "metadata": {},
     "output_type": "display_data"
    },
    {
     "data": {
      "text/html": [
       "<div>\n",
       "<style scoped>\n",
       "    .dataframe tbody tr th:only-of-type {\n",
       "        vertical-align: middle;\n",
       "    }\n",
       "\n",
       "    .dataframe tbody tr th {\n",
       "        vertical-align: top;\n",
       "    }\n",
       "\n",
       "    .dataframe thead th {\n",
       "        text-align: right;\n",
       "    }\n",
       "</style>\n",
       "<table border=\"1\" class=\"dataframe\">\n",
       "  <thead>\n",
       "    <tr style=\"text-align: right;\">\n",
       "      <th></th>\n",
       "      <th>rating</th>\n",
       "      <th>eu_sales</th>\n",
       "    </tr>\n",
       "  </thead>\n",
       "  <tbody>\n",
       "    <tr>\n",
       "      <th>0</th>\n",
       "      <td>M</td>\n",
       "      <td>251.40</td>\n",
       "    </tr>\n",
       "    <tr>\n",
       "      <th>1</th>\n",
       "      <td>E</td>\n",
       "      <td>141.93</td>\n",
       "    </tr>\n",
       "    <tr>\n",
       "      <th>2</th>\n",
       "      <td>undefind</td>\n",
       "      <td>116.67</td>\n",
       "    </tr>\n",
       "    <tr>\n",
       "      <th>3</th>\n",
       "      <td>T</td>\n",
       "      <td>83.37</td>\n",
       "    </tr>\n",
       "    <tr>\n",
       "      <th>4</th>\n",
       "      <td>E10+</td>\n",
       "      <td>79.88</td>\n",
       "    </tr>\n",
       "  </tbody>\n",
       "</table>\n",
       "</div>"
      ],
      "text/plain": [
       "     rating  eu_sales\n",
       "0         M    251.40\n",
       "1         E    141.93\n",
       "2  undefind    116.67\n",
       "3         T     83.37\n",
       "4      E10+     79.88"
      ]
     },
     "metadata": {},
     "output_type": "display_data"
    },
    {
     "data": {
      "image/png": "[encoded data removed]",
      "text/plain": [
       "<Figure size 1080x360 with 3 Axes>"
      ]
     },
     "metadata": {
      "needs_background": "light"
     },
     "output_type": "display_data"
    }
   ],
   "source": [
    "platforms('eu_sales')"
   ]
  },
  {
   "cell_type": "markdown",
   "id": "9f4ba091",
   "metadata": {},
   "source": [
    "* самые популярные платформы - PS3, Wii, X360, DS, PC\n",
    "* жанры - action, sports, shooter, misc, racing\n",
    "* рейтинг - Е (для всех), М (для взрослых), Т (для подростков), неопределенный, Е10+ (для всех от 10 лет)."
   ]
  },
  {
   "cell_type": "markdown",
   "id": "b528e7c5",
   "metadata": {},
   "source": [
    "**Портрет пользователя Японии**"
   ]
  },
  {
   "cell_type": "code",
   "execution_count": 38,
   "id": "fd285e4e",
   "metadata": {},
   "outputs": [
    {
     "data": {
      "text/html": [
       "<div>\n",
       "<style scoped>\n",
       "    .dataframe tbody tr th:only-of-type {\n",
       "        vertical-align: middle;\n",
       "    }\n",
       "\n",
       "    .dataframe tbody tr th {\n",
       "        vertical-align: top;\n",
       "    }\n",
       "\n",
       "    .dataframe thead th {\n",
       "        text-align: right;\n",
       "    }\n",
       "</style>\n",
       "<table border=\"1\" class=\"dataframe\">\n",
       "  <thead>\n",
       "    <tr style=\"text-align: right;\">\n",
       "      <th></th>\n",
       "      <th>platform</th>\n",
       "      <th>jp_sales</th>\n",
       "    </tr>\n",
       "  </thead>\n",
       "  <tbody>\n",
       "    <tr>\n",
       "      <th>0</th>\n",
       "      <td>3DS</td>\n",
       "      <td>100.62</td>\n",
       "    </tr>\n",
       "    <tr>\n",
       "      <th>1</th>\n",
       "      <td>PS3</td>\n",
       "      <td>49.40</td>\n",
       "    </tr>\n",
       "    <tr>\n",
       "      <th>2</th>\n",
       "      <td>PSP</td>\n",
       "      <td>24.28</td>\n",
       "    </tr>\n",
       "    <tr>\n",
       "      <th>3</th>\n",
       "      <td>PSV</td>\n",
       "      <td>21.84</td>\n",
       "    </tr>\n",
       "    <tr>\n",
       "      <th>4</th>\n",
       "      <td>PS4</td>\n",
       "      <td>15.96</td>\n",
       "    </tr>\n",
       "  </tbody>\n",
       "</table>\n",
       "</div>"
      ],
      "text/plain": [
       "  platform  jp_sales\n",
       "0      3DS    100.62\n",
       "1      PS3     49.40\n",
       "2      PSP     24.28\n",
       "3      PSV     21.84\n",
       "4      PS4     15.96"
      ]
     },
     "metadata": {},
     "output_type": "display_data"
    },
    {
     "data": {
      "text/html": [
       "<div>\n",
       "<style scoped>\n",
       "    .dataframe tbody tr th:only-of-type {\n",
       "        vertical-align: middle;\n",
       "    }\n",
       "\n",
       "    .dataframe tbody tr th {\n",
       "        vertical-align: top;\n",
       "    }\n",
       "\n",
       "    .dataframe thead th {\n",
       "        text-align: right;\n",
       "    }\n",
       "</style>\n",
       "<table border=\"1\" class=\"dataframe\">\n",
       "  <thead>\n",
       "    <tr style=\"text-align: right;\">\n",
       "      <th></th>\n",
       "      <th>genre</th>\n",
       "      <th>jp_sales</th>\n",
       "    </tr>\n",
       "  </thead>\n",
       "  <tbody>\n",
       "    <tr>\n",
       "      <th>0</th>\n",
       "      <td>role-playing</td>\n",
       "      <td>79.87</td>\n",
       "    </tr>\n",
       "    <tr>\n",
       "      <th>1</th>\n",
       "      <td>action</td>\n",
       "      <td>63.63</td>\n",
       "    </tr>\n",
       "    <tr>\n",
       "      <th>2</th>\n",
       "      <td>misc</td>\n",
       "      <td>17.85</td>\n",
       "    </tr>\n",
       "    <tr>\n",
       "      <th>3</th>\n",
       "      <td>fighting</td>\n",
       "      <td>12.38</td>\n",
       "    </tr>\n",
       "    <tr>\n",
       "      <th>4</th>\n",
       "      <td>platform</td>\n",
       "      <td>12.13</td>\n",
       "    </tr>\n",
       "  </tbody>\n",
       "</table>\n",
       "</div>"
      ],
      "text/plain": [
       "          genre  jp_sales\n",
       "0  role-playing     79.87\n",
       "1        action     63.63\n",
       "2          misc     17.85\n",
       "3      fighting     12.38\n",
       "4      platform     12.13"
      ]
     },
     "metadata": {},
     "output_type": "display_data"
    },
    {
     "data": {
      "text/html": [
       "<div>\n",
       "<style scoped>\n",
       "    .dataframe tbody tr th:only-of-type {\n",
       "        vertical-align: middle;\n",
       "    }\n",
       "\n",
       "    .dataframe tbody tr th {\n",
       "        vertical-align: top;\n",
       "    }\n",
       "\n",
       "    .dataframe thead th {\n",
       "        text-align: right;\n",
       "    }\n",
       "</style>\n",
       "<table border=\"1\" class=\"dataframe\">\n",
       "  <thead>\n",
       "    <tr style=\"text-align: right;\">\n",
       "      <th></th>\n",
       "      <th>rating</th>\n",
       "      <th>jp_sales</th>\n",
       "    </tr>\n",
       "  </thead>\n",
       "  <tbody>\n",
       "    <tr>\n",
       "      <th>0</th>\n",
       "      <td>undefind</td>\n",
       "      <td>138.46</td>\n",
       "    </tr>\n",
       "    <tr>\n",
       "      <th>1</th>\n",
       "      <td>E</td>\n",
       "      <td>36.68</td>\n",
       "    </tr>\n",
       "    <tr>\n",
       "      <th>2</th>\n",
       "      <td>T</td>\n",
       "      <td>33.39</td>\n",
       "    </tr>\n",
       "    <tr>\n",
       "      <th>3</th>\n",
       "      <td>M</td>\n",
       "      <td>26.15</td>\n",
       "    </tr>\n",
       "    <tr>\n",
       "      <th>4</th>\n",
       "      <td>E10+</td>\n",
       "      <td>11.23</td>\n",
       "    </tr>\n",
       "  </tbody>\n",
       "</table>\n",
       "</div>"
      ],
      "text/plain": [
       "     rating  jp_sales\n",
       "0  undefind    138.46\n",
       "1         E     36.68\n",
       "2         T     33.39\n",
       "3         M     26.15\n",
       "4      E10+     11.23"
      ]
     },
     "metadata": {},
     "output_type": "display_data"
    },
    {
     "data": {
      "image/png": "[encoded data removed]",
      "text/plain": [
       "<Figure size 1080x360 with 3 Axes>"
      ]
     },
     "metadata": {
      "needs_background": "light"
     },
     "output_type": "display_data"
    }
   ],
   "source": [
    "platforms('jp_sales')"
   ]
  },
  {
   "cell_type": "markdown",
   "id": "f6fb86be",
   "metadata": {},
   "source": [
    "* самые популярные платформы - 3DS, PS3, PSP, PSV, PS4\n",
    "* жанры - role-playing, action, misc, fighting, platform\n",
    "* рейтинг - неопределенный, Е (для всех), Т (для подростков), Е10+ (для всех от 10 лет), М (для взрослых)"
   ]
  },
  {
   "cell_type": "markdown",
   "id": "543a92e7",
   "metadata": {},
   "source": [
    "**Вывод**"
   ]
  },
  {
   "cell_type": "markdown",
   "id": "d8bfbaf2",
   "metadata": {},
   "source": [
    "Доли продаж по регионам отличаются. Самые высокие продажи показаны в Северной Америке, а самые низкие из трех рассматриваемых регионов в Японии.\n",
    "\n",
    "Самые популярные жанры - action, role-playing.\n",
    "\n",
    "Сюдя по графикам и данным сводних рейтинг ESRB влияет на продажи. Например в Америке и Европе рейтинги Е (для всех), М (для взрослых), Т (для подростков) также высоки как и продажи игр по жанрам action, sports, shooter. "
   ]
  },
  {
   "cell_type": "markdown",
   "id": "e971c13a",
   "metadata": {},
   "source": [
    "### Шаг 5. Проверьте гипотезы"
   ]
  },
  {
   "cell_type": "markdown",
   "id": "ee241851",
   "metadata": {},
   "source": [
    "**Средние пользовательские рейтинги платформ Xbox One и PC одинаковые.**"
   ]
  },
  {
   "cell_type": "code",
   "execution_count": 39,
   "id": "ec1a8567",
   "metadata": {},
   "outputs": [],
   "source": [
    "# отфильтруем оценки пользователей по необходимым платформам\n",
    "\n",
    "xbox_one_data = df[(df['year_of_release'] >= 2011) & (df['platform'] >= 'XOne')]['user_score']\n",
    "pc_data = df[(df['year_of_release'] >= 2011) & (df['platform'] >= 'PC')]['user_score']"
   ]
  },
  {
   "cell_type": "code",
   "execution_count": 40,
   "id": "96d6a017",
   "metadata": {},
   "outputs": [
    {
     "name": "stdout",
     "output_type": "stream",
     "text": [
      "Средние оценки Xbox One: 4.805263157894736\n",
      "Средние оценки PC: 3.6761933174224257\n"
     ]
    }
   ],
   "source": [
    "# посчитаем средние оценки пользователей\n",
    "\n",
    "print('Средние оценки Xbox One:', xbox_one_data.mean())\n",
    "print('Средние оценки PC:', pc_data.mean())"
   ]
  },
  {
   "cell_type": "markdown",
   "id": "22e6e492",
   "metadata": {},
   "source": [
    "Сформулируем нулевую и алтернативную гипотезы: \n",
    "\n",
    "Нулевая - Средние пользовательские рейтинги платформ Xbox One и PC одинаковые.\n",
    "\n",
    "Алтернативная - Средние пользовательские рейтинги платформ Xbox One и PC отличаются."
   ]
  },
  {
   "cell_type": "code",
   "execution_count": 41,
   "id": "5c118834",
   "metadata": {},
   "outputs": [
    {
     "name": "stdout",
     "output_type": "stream",
     "text": [
      "p-значение:  7.695661405610139e-07\n",
      "Отвергаем нулевую гипотезу\n"
     ]
    }
   ],
   "source": [
    "alpha = .01\n",
    "\n",
    "results = st.ttest_ind(\n",
    "    xbox_one_data, \n",
    "    pc_data)\n",
    "\n",
    "print('p-значение: ', results.pvalue)\n",
    "\n",
    "if results.pvalue < alpha:\n",
    "    print(\"Отвергаем нулевую гипотезу\")\n",
    "else:\n",
    "    print(\"Не получилось отвергнуть нулевую гипотезу\") "
   ]
  },
  {
   "cell_type": "markdown",
   "id": "7b5c0eab",
   "metadata": {},
   "source": [
    "**Средние пользовательские рейтинги жанров Action (англ. «действие», экшенигры) и Sports (англ. «спортивные соревнования») разные.**"
   ]
  },
  {
   "cell_type": "code",
   "execution_count": 42,
   "id": "a12b9402",
   "metadata": {},
   "outputs": [],
   "source": [
    "# отфильтруем оценки пользователей по жанрам\n",
    "\n",
    "action_data = df[(df['year_of_release'] >= 2011) & (df['genre'] >= 'action')]['user_score']\n",
    "sports_data = df[(df['year_of_release'] >= 2011) & (df['genre'] >= 'sports')]['user_score']"
   ]
  },
  {
   "cell_type": "code",
   "execution_count": 43,
   "id": "8ae716dd",
   "metadata": {
    "scrolled": true
   },
   "outputs": [
    {
     "name": "stdout",
     "output_type": "stream",
     "text": [
      "Средние оценки Action: 3.3542941757156877\n",
      "Средние оценки Sports: 3.497047244094487\n"
     ]
    }
   ],
   "source": [
    "# посчитаем средние оценки пользователей\n",
    "\n",
    "print('Средние оценки Action:', action_data.mean())\n",
    "print('Средние оценки Sports:', sports_data.mean())"
   ]
  },
  {
   "cell_type": "markdown",
   "id": "373dcc4c",
   "metadata": {},
   "source": [
    "Сформулируем нулевую и алтернативную гипотезы: \n",
    "\n",
    "Нулевая - Средние пользовательские рейтинги жанров Action (англ. «действие», экшенигры) и Sports (англ. «спортивные соревнования») одинаковые.\n",
    "\n",
    "Алтернативная - Средние пользовательские рейтинги жанров Action (англ. «действие», экшенигры) и Sports (англ. «спортивные соревнования») разные."
   ]
  },
  {
   "cell_type": "code",
   "execution_count": 44,
   "id": "bc88c42e",
   "metadata": {},
   "outputs": [
    {
     "name": "stdout",
     "output_type": "stream",
     "text": [
      "p-значение:  0.3421744184488458\n",
      "Не получилось отвергнуть нулевую гипотезу\n"
     ]
    }
   ],
   "source": [
    "alpha = .01\n",
    "\n",
    "results = st.ttest_ind(\n",
    "    action_data, \n",
    "    sports_data, equal_var = False)\n",
    "\n",
    "print('p-значение: ', results.pvalue)\n",
    "\n",
    "if results.pvalue < alpha:\n",
    "    print(\"Отвергаем нулевую гипотезу\")\n",
    "else:\n",
    "    print(\"Не получилось отвергнуть нулевую гипотезу\") "
   ]
  },
  {
   "cell_type": "markdown",
   "id": "399c0094",
   "metadata": {},
   "source": [
    "Формулировка гипотез:\n",
    "- в первом случае мы создали альтернативную гипотезу (противоположную основной), за нулевую взяли основную гипотезу\n",
    "- во втором случае наоборот, основная гипотеза - альтернативная, нулевую создаем исходя из обратного\n",
    "\n",
    "Итого получаем:\n",
    "* Средние пользовательские рейтинги платформ Xbox One и PC одинаковые - ОТВЕРГАЕМ. Количество игр на первой платформе в разы меньше, чем на второй, возможно это и есть причина такой разницы.\n",
    "* Средние пользовательские рейтинги жанров Action (англ. «действие», экшенигры) и Sports (англ. «спортивные соревнования») разные - ПОДТВЕРЖДАЕМ. Также, скорей всего, дело в количестве игр в разных жанровых категориях.\n"
   ]
  },
  {
   "cell_type": "markdown",
   "id": "85fc66bc",
   "metadata": {},
   "source": [
    "### Шаг 6. Общий вывод "
   ]
  },
  {
   "cell_type": "markdown",
   "id": "0b8406a3",
   "metadata": {},
   "source": [
    "На текущий момент мы можем отметить несколько закономерностей, влияющих на успешность игры:\n",
    "* Регион. Продажи, например, в Америке и Европе значительно выше чем в Японии.\n",
    "* Оценки и рейтинг. Зависимсоть продаж от оценок очень низкая. Поэтому не стоит опираться на этот критерий при планировании продаж. А вот рейтинг ESRB показывает обратное. Можно будет проработать целевую аудиторию, на какую возрастную категорию сделать больший уклон.\n",
    "* Платформы. От платформы зависит многое, но в определенный период. В среднем каждая игровая платформа держится 5-7 лет, затем на рынок приходят новые платформы. Стоит поработать над обновленными платформами.\n",
    "* Жанры. Самые высокие продажи по жанрам action, sports, shooter, role-playing. Возможно стоит еще рассмотреть смежные жанры."
   ]
  }
 ],
 "metadata": {
  "ExecuteTimeLog": [
   {
    "duration": 1582,
    "start_time": "2022-03-12T16:15:47.243Z"
   },
   {
    "duration": 2739,
    "start_time": "2022-03-12T16:15:48.828Z"
   },
   {
    "duration": 431,
    "start_time": "2022-03-12T16:15:51.141Z"
   },
   {
    "duration": 429,
    "start_time": "2022-03-12T16:15:51.145Z"
   },
   {
    "duration": 428,
    "start_time": "2022-03-12T16:15:51.148Z"
   },
   {
    "duration": 425,
    "start_time": "2022-03-12T16:15:51.154Z"
   },
   {
    "duration": 420,
    "start_time": "2022-03-12T16:15:51.161Z"
   },
   {
    "duration": 417,
    "start_time": "2022-03-12T16:15:51.166Z"
   },
   {
    "duration": 413,
    "start_time": "2022-03-12T16:15:51.172Z"
   },
   {
    "duration": 410,
    "start_time": "2022-03-12T16:15:51.177Z"
   },
   {
    "duration": 409,
    "start_time": "2022-03-12T16:15:51.180Z"
   },
   {
    "duration": 407,
    "start_time": "2022-03-12T16:15:51.184Z"
   },
   {
    "duration": 405,
    "start_time": "2022-03-12T16:15:51.187Z"
   },
   {
    "duration": 404,
    "start_time": "2022-03-12T16:15:51.190Z"
   },
   {
    "duration": 400,
    "start_time": "2022-03-12T16:15:51.195Z"
   },
   {
    "duration": 398,
    "start_time": "2022-03-12T16:15:51.199Z"
   },
   {
    "duration": 395,
    "start_time": "2022-03-12T16:15:51.203Z"
   },
   {
    "duration": 394,
    "start_time": "2022-03-12T16:15:51.206Z"
   },
   {
    "duration": 380,
    "start_time": "2022-03-12T16:15:51.221Z"
   },
   {
    "duration": 378,
    "start_time": "2022-03-12T16:15:51.225Z"
   },
   {
    "duration": 374,
    "start_time": "2022-03-12T16:15:51.230Z"
   },
   {
    "duration": 372,
    "start_time": "2022-03-12T16:15:51.234Z"
   },
   {
    "duration": 369,
    "start_time": "2022-03-12T16:15:51.238Z"
   },
   {
    "duration": 367,
    "start_time": "2022-03-12T16:15:51.242Z"
   },
   {
    "duration": 365,
    "start_time": "2022-03-12T16:15:51.245Z"
   },
   {
    "duration": 363,
    "start_time": "2022-03-12T16:15:51.249Z"
   },
   {
    "duration": 360,
    "start_time": "2022-03-12T16:15:51.253Z"
   },
   {
    "duration": 358,
    "start_time": "2022-03-12T16:15:51.257Z"
   },
   {
    "duration": 413,
    "start_time": "2022-03-12T16:15:51.261Z"
   },
   {
    "duration": 407,
    "start_time": "2022-03-12T16:15:51.269Z"
   },
   {
    "duration": 406,
    "start_time": "2022-03-12T16:15:51.272Z"
   },
   {
    "duration": 405,
    "start_time": "2022-03-12T16:15:51.275Z"
   },
   {
    "duration": 404,
    "start_time": "2022-03-12T16:15:51.278Z"
   },
   {
    "duration": 402,
    "start_time": "2022-03-12T16:15:51.282Z"
   },
   {
    "duration": 398,
    "start_time": "2022-03-12T16:15:51.288Z"
   },
   {
    "duration": 397,
    "start_time": "2022-03-12T16:15:51.291Z"
   },
   {
    "duration": 387,
    "start_time": "2022-03-12T16:15:51.304Z"
   },
   {
    "duration": 382,
    "start_time": "2022-03-12T16:15:51.311Z"
   },
   {
    "duration": 380,
    "start_time": "2022-03-12T16:15:51.314Z"
   },
   {
    "duration": 1601,
    "start_time": "2022-03-12T16:17:07.350Z"
   },
   {
    "duration": 83,
    "start_time": "2022-03-12T16:17:08.953Z"
   },
   {
    "duration": 7,
    "start_time": "2022-03-12T16:17:09.040Z"
   },
   {
    "duration": 47,
    "start_time": "2022-03-12T16:17:09.075Z"
   },
   {
    "duration": 23,
    "start_time": "2022-03-12T16:17:09.124Z"
   },
   {
    "duration": 38,
    "start_time": "2022-03-12T16:17:09.151Z"
   },
   {
    "duration": 14,
    "start_time": "2022-03-12T16:17:09.192Z"
   },
   {
    "duration": 575,
    "start_time": "2022-03-12T16:17:09.210Z"
   },
   {
    "duration": 307,
    "start_time": "2022-03-12T16:17:09.483Z"
   },
   {
    "duration": 303,
    "start_time": "2022-03-12T16:17:09.489Z"
   },
   {
    "duration": 301,
    "start_time": "2022-03-12T16:17:09.493Z"
   },
   {
    "duration": 299,
    "start_time": "2022-03-12T16:17:09.497Z"
   },
   {
    "duration": 294,
    "start_time": "2022-03-12T16:17:09.503Z"
   },
   {
    "duration": 290,
    "start_time": "2022-03-12T16:17:09.508Z"
   },
   {
    "duration": 287,
    "start_time": "2022-03-12T16:17:09.512Z"
   },
   {
    "duration": 285,
    "start_time": "2022-03-12T16:17:09.516Z"
   },
   {
    "duration": 282,
    "start_time": "2022-03-12T16:17:09.520Z"
   },
   {
    "duration": 280,
    "start_time": "2022-03-12T16:17:09.523Z"
   },
   {
    "duration": 279,
    "start_time": "2022-03-12T16:17:09.526Z"
   },
   {
    "duration": 277,
    "start_time": "2022-03-12T16:17:09.529Z"
   },
   {
    "duration": 275,
    "start_time": "2022-03-12T16:17:09.532Z"
   },
   {
    "duration": 274,
    "start_time": "2022-03-12T16:17:09.535Z"
   },
   {
    "duration": 272,
    "start_time": "2022-03-12T16:17:09.538Z"
   },
   {
    "duration": 271,
    "start_time": "2022-03-12T16:17:09.541Z"
   },
   {
    "duration": 269,
    "start_time": "2022-03-12T16:17:09.544Z"
   },
   {
    "duration": 267,
    "start_time": "2022-03-12T16:17:09.548Z"
   },
   {
    "duration": 265,
    "start_time": "2022-03-12T16:17:09.551Z"
   },
   {
    "duration": 265,
    "start_time": "2022-03-12T16:17:09.554Z"
   },
   {
    "duration": 264,
    "start_time": "2022-03-12T16:17:09.557Z"
   },
   {
    "duration": 263,
    "start_time": "2022-03-12T16:17:09.560Z"
   },
   {
    "duration": 261,
    "start_time": "2022-03-12T16:17:09.563Z"
   },
   {
    "duration": 259,
    "start_time": "2022-03-12T16:17:09.566Z"
   },
   {
    "duration": 257,
    "start_time": "2022-03-12T16:17:09.569Z"
   },
   {
    "duration": 255,
    "start_time": "2022-03-12T16:17:09.572Z"
   },
   {
    "duration": 253,
    "start_time": "2022-03-12T16:17:09.575Z"
   },
   {
    "duration": 294,
    "start_time": "2022-03-12T16:17:09.580Z"
   },
   {
    "duration": 283,
    "start_time": "2022-03-12T16:17:09.592Z"
   },
   {
    "duration": 283,
    "start_time": "2022-03-12T16:17:09.595Z"
   },
   {
    "duration": 282,
    "start_time": "2022-03-12T16:17:09.598Z"
   },
   {
    "duration": 19381,
    "start_time": "2022-03-12T16:26:16.608Z"
   },
   {
    "duration": 2095,
    "start_time": "2022-03-12T16:26:59.676Z"
   },
   {
    "duration": 101,
    "start_time": "2022-03-12T16:27:01.774Z"
   },
   {
    "duration": 8,
    "start_time": "2022-03-12T16:27:01.879Z"
   },
   {
    "duration": 49,
    "start_time": "2022-03-12T16:27:01.891Z"
   },
   {
    "duration": 41,
    "start_time": "2022-03-12T16:27:01.943Z"
   },
   {
    "duration": 22,
    "start_time": "2022-03-12T16:27:01.987Z"
   },
   {
    "duration": 17,
    "start_time": "2022-03-12T16:27:02.011Z"
   },
   {
    "duration": 110,
    "start_time": "2022-03-12T16:27:02.032Z"
   },
   {
    "duration": 27,
    "start_time": "2022-03-12T16:27:02.146Z"
   },
   {
    "duration": 49,
    "start_time": "2022-03-12T16:27:02.176Z"
   },
   {
    "duration": 13,
    "start_time": "2022-03-12T16:27:02.228Z"
   },
   {
    "duration": 58,
    "start_time": "2022-03-12T16:27:02.244Z"
   },
   {
    "duration": 21,
    "start_time": "2022-03-12T16:27:02.306Z"
   },
   {
    "duration": 57,
    "start_time": "2022-03-12T16:27:02.330Z"
   },
   {
    "duration": 36,
    "start_time": "2022-03-12T16:27:02.390Z"
   },
   {
    "duration": 57,
    "start_time": "2022-03-12T16:27:02.429Z"
   },
   {
    "duration": 27,
    "start_time": "2022-03-12T16:27:02.489Z"
   },
   {
    "duration": 3699,
    "start_time": "2022-03-12T16:27:02.519Z"
   },
   {
    "duration": 55,
    "start_time": "2022-03-12T16:27:06.221Z"
   },
   {
    "duration": 1853,
    "start_time": "2022-03-12T16:27:06.278Z"
   },
   {
    "duration": 395,
    "start_time": "2022-03-12T16:27:08.134Z"
   },
   {
    "duration": 1197,
    "start_time": "2022-03-12T16:27:08.531Z"
   },
   {
    "duration": 63,
    "start_time": "2022-03-12T16:27:09.733Z"
   },
   {
    "duration": 868,
    "start_time": "2022-03-12T16:27:09.799Z"
   },
   {
    "duration": 45,
    "start_time": "2022-03-12T16:27:10.669Z"
   },
   {
    "duration": 840,
    "start_time": "2022-03-12T16:27:10.717Z"
   },
   {
    "duration": 52,
    "start_time": "2022-03-12T16:27:11.560Z"
   },
   {
    "duration": 839,
    "start_time": "2022-03-12T16:27:11.614Z"
   },
   {
    "duration": 475,
    "start_time": "2022-03-12T16:27:12.457Z"
   },
   {
    "duration": 6,
    "start_time": "2022-03-12T16:27:12.935Z"
   },
   {
    "duration": 870,
    "start_time": "2022-03-12T16:27:12.944Z"
   },
   {
    "duration": 786,
    "start_time": "2022-03-12T16:27:13.817Z"
   },
   {
    "duration": 819,
    "start_time": "2022-03-12T16:27:14.606Z"
   },
   {
    "duration": 12,
    "start_time": "2022-03-12T16:27:15.428Z"
   },
   {
    "duration": 35,
    "start_time": "2022-03-12T16:27:15.443Z"
   },
   {
    "duration": 22,
    "start_time": "2022-03-12T16:27:15.480Z"
   },
   {
    "duration": 27,
    "start_time": "2022-03-12T16:27:15.504Z"
   },
   {
    "duration": 18,
    "start_time": "2022-03-12T16:27:15.534Z"
   },
   {
    "duration": 21,
    "start_time": "2022-03-12T16:27:15.554Z"
   },
   {
    "duration": 13,
    "start_time": "2022-03-12T16:40:43.468Z"
   },
   {
    "duration": 15,
    "start_time": "2022-03-12T16:40:51.788Z"
   },
   {
    "duration": 9,
    "start_time": "2022-03-12T16:41:03.991Z"
   },
   {
    "duration": 8,
    "start_time": "2022-03-12T16:41:09.108Z"
   },
   {
    "duration": 7,
    "start_time": "2022-03-12T16:41:10.926Z"
   },
   {
    "duration": 38,
    "start_time": "2022-03-12T16:41:43.775Z"
   },
   {
    "duration": 13,
    "start_time": "2022-03-12T16:41:53.176Z"
   },
   {
    "duration": 31,
    "start_time": "2022-03-12T16:49:34.987Z"
   },
   {
    "duration": 76,
    "start_time": "2022-03-13T04:22:26.534Z"
   },
   {
    "duration": -1388,
    "start_time": "2022-03-13T04:22:28.001Z"
   },
   {
    "duration": -1546,
    "start_time": "2022-03-13T04:22:28.160Z"
   },
   {
    "duration": -1553,
    "start_time": "2022-03-13T04:22:28.167Z"
   },
   {
    "duration": -1554,
    "start_time": "2022-03-13T04:22:28.169Z"
   },
   {
    "duration": -1677,
    "start_time": "2022-03-13T04:22:28.293Z"
   },
   {
    "duration": -2028,
    "start_time": "2022-03-13T04:22:28.645Z"
   },
   {
    "duration": -2216,
    "start_time": "2022-03-13T04:22:28.835Z"
   },
   {
    "duration": -2224,
    "start_time": "2022-03-13T04:22:28.843Z"
   },
   {
    "duration": -2264,
    "start_time": "2022-03-13T04:22:28.884Z"
   },
   {
    "duration": -2265,
    "start_time": "2022-03-13T04:22:28.886Z"
   },
   {
    "duration": -2267,
    "start_time": "2022-03-13T04:22:28.889Z"
   },
   {
    "duration": -2405,
    "start_time": "2022-03-13T04:22:29.028Z"
   },
   {
    "duration": -2444,
    "start_time": "2022-03-13T04:22:29.068Z"
   },
   {
    "duration": -3492,
    "start_time": "2022-03-13T04:22:30.117Z"
   },
   {
    "duration": -3497,
    "start_time": "2022-03-13T04:22:30.123Z"
   },
   {
    "duration": -3828,
    "start_time": "2022-03-13T04:22:30.455Z"
   },
   {
    "duration": -3835,
    "start_time": "2022-03-13T04:22:30.463Z"
   },
   {
    "duration": -3838,
    "start_time": "2022-03-13T04:22:30.467Z"
   },
   {
    "duration": -3839,
    "start_time": "2022-03-13T04:22:30.469Z"
   },
   {
    "duration": -3851,
    "start_time": "2022-03-13T04:22:30.482Z"
   },
   {
    "duration": -3867,
    "start_time": "2022-03-13T04:22:30.499Z"
   },
   {
    "duration": -3868,
    "start_time": "2022-03-13T04:22:30.501Z"
   },
   {
    "duration": -3874,
    "start_time": "2022-03-13T04:22:30.508Z"
   },
   {
    "duration": 244,
    "start_time": "2022-03-13T04:22:27.190Z"
   },
   {
    "duration": -3853,
    "start_time": "2022-03-13T04:22:31.289Z"
   },
   {
    "duration": -3855,
    "start_time": "2022-03-13T04:22:31.292Z"
   },
   {
    "duration": -3868,
    "start_time": "2022-03-13T04:22:31.306Z"
   },
   {
    "duration": -3869,
    "start_time": "2022-03-13T04:22:31.308Z"
   },
   {
    "duration": 4,
    "start_time": "2022-03-13T04:22:27.449Z"
   },
   {
    "duration": 446,
    "start_time": "2022-03-13T04:22:27.455Z"
   },
   {
    "duration": -3946,
    "start_time": "2022-03-13T04:22:31.849Z"
   },
   {
    "duration": -4029,
    "start_time": "2022-03-13T04:22:31.933Z"
   },
   {
    "duration": -4031,
    "start_time": "2022-03-13T04:22:31.936Z"
   },
   {
    "duration": -4348,
    "start_time": "2022-03-13T04:22:32.254Z"
   },
   {
    "duration": -4423,
    "start_time": "2022-03-13T04:22:32.330Z"
   },
   {
    "duration": -4429,
    "start_time": "2022-03-13T04:22:32.337Z"
   },
   {
    "duration": -4459,
    "start_time": "2022-03-13T04:22:32.368Z"
   },
   {
    "duration": -4489,
    "start_time": "2022-03-13T04:22:32.399Z"
   },
   {
    "duration": 72,
    "start_time": "2022-03-13T04:22:59.639Z"
   },
   {
    "duration": 99,
    "start_time": "2022-03-13T04:30:39.697Z"
   },
   {
    "duration": 1165,
    "start_time": "2022-03-13T04:30:54.347Z"
   },
   {
    "duration": 5,
    "start_time": "2022-03-13T04:31:40.165Z"
   },
   {
    "duration": 6,
    "start_time": "2022-03-13T04:32:56.029Z"
   },
   {
    "duration": 4,
    "start_time": "2022-03-13T04:33:15.662Z"
   },
   {
    "duration": 199,
    "start_time": "2022-03-13T04:37:34.821Z"
   },
   {
    "duration": 3,
    "start_time": "2022-03-13T04:37:52.533Z"
   },
   {
    "duration": 207,
    "start_time": "2022-03-13T04:37:53.438Z"
   },
   {
    "duration": 4,
    "start_time": "2022-03-13T04:45:11.186Z"
   },
   {
    "duration": 30,
    "start_time": "2022-03-13T04:47:00.985Z"
   },
   {
    "duration": 9,
    "start_time": "2022-03-13T04:47:07.844Z"
   },
   {
    "duration": 14,
    "start_time": "2022-03-13T04:47:12.046Z"
   },
   {
    "duration": 8,
    "start_time": "2022-03-13T04:47:15.526Z"
   },
   {
    "duration": 300,
    "start_time": "2022-03-13T04:47:22.796Z"
   },
   {
    "duration": 45,
    "start_time": "2022-03-13T05:03:58.748Z"
   },
   {
    "duration": 3,
    "start_time": "2022-03-13T05:09:55.554Z"
   },
   {
    "duration": 194,
    "start_time": "2022-03-13T05:09:55.561Z"
   },
   {
    "duration": 4,
    "start_time": "2022-03-13T05:09:55.757Z"
   },
   {
    "duration": 26,
    "start_time": "2022-03-13T05:09:55.763Z"
   },
   {
    "duration": 8,
    "start_time": "2022-03-13T05:09:55.791Z"
   },
   {
    "duration": 12,
    "start_time": "2022-03-13T05:09:55.801Z"
   },
   {
    "duration": 7,
    "start_time": "2022-03-13T05:09:55.815Z"
   },
   {
    "duration": 42,
    "start_time": "2022-03-13T05:09:57.940Z"
   },
   {
    "duration": 9,
    "start_time": "2022-03-13T05:22:22.741Z"
   },
   {
    "duration": 12,
    "start_time": "2022-03-13T05:23:15.579Z"
   },
   {
    "duration": 21,
    "start_time": "2022-03-13T05:23:25.986Z"
   },
   {
    "duration": 8,
    "start_time": "2022-03-13T05:23:43.825Z"
   },
   {
    "duration": 17,
    "start_time": "2022-03-13T05:25:37.911Z"
   },
   {
    "duration": 15,
    "start_time": "2022-03-13T05:30:37.356Z"
   },
   {
    "duration": 10,
    "start_time": "2022-03-13T05:30:51.030Z"
   },
   {
    "duration": 3,
    "start_time": "2022-03-13T05:31:20.809Z"
   },
   {
    "duration": 204,
    "start_time": "2022-03-13T05:31:20.814Z"
   },
   {
    "duration": 6,
    "start_time": "2022-03-13T05:31:21.020Z"
   },
   {
    "duration": 36,
    "start_time": "2022-03-13T05:31:21.028Z"
   },
   {
    "duration": 9,
    "start_time": "2022-03-13T05:31:21.066Z"
   },
   {
    "duration": 15,
    "start_time": "2022-03-13T05:31:21.077Z"
   },
   {
    "duration": 11,
    "start_time": "2022-03-13T05:31:21.094Z"
   },
   {
    "duration": 66,
    "start_time": "2022-03-13T05:31:21.108Z"
   },
   {
    "duration": 5,
    "start_time": "2022-03-13T05:31:21.176Z"
   },
   {
    "duration": 10,
    "start_time": "2022-03-13T05:31:21.183Z"
   },
   {
    "duration": 16,
    "start_time": "2022-03-13T05:31:25.335Z"
   },
   {
    "duration": 10,
    "start_time": "2022-03-13T05:32:08.114Z"
   },
   {
    "duration": 9,
    "start_time": "2022-03-13T05:33:46.911Z"
   },
   {
    "duration": 28,
    "start_time": "2022-03-13T05:37:53.435Z"
   },
   {
    "duration": 26,
    "start_time": "2022-03-13T05:38:26.221Z"
   },
   {
    "duration": 20,
    "start_time": "2022-03-13T05:38:49.635Z"
   },
   {
    "duration": 11,
    "start_time": "2022-03-13T05:39:40.551Z"
   },
   {
    "duration": 18,
    "start_time": "2022-03-13T05:40:14.391Z"
   },
   {
    "duration": 24,
    "start_time": "2022-03-13T05:40:23.270Z"
   },
   {
    "duration": 3,
    "start_time": "2022-03-13T05:40:35.450Z"
   },
   {
    "duration": 185,
    "start_time": "2022-03-13T05:40:35.456Z"
   },
   {
    "duration": 5,
    "start_time": "2022-03-13T05:40:35.644Z"
   },
   {
    "duration": 36,
    "start_time": "2022-03-13T05:40:35.651Z"
   },
   {
    "duration": 9,
    "start_time": "2022-03-13T05:40:35.689Z"
   },
   {
    "duration": 14,
    "start_time": "2022-03-13T05:40:35.700Z"
   },
   {
    "duration": 8,
    "start_time": "2022-03-13T05:40:35.716Z"
   },
   {
    "duration": 68,
    "start_time": "2022-03-13T05:40:39.011Z"
   },
   {
    "duration": 4,
    "start_time": "2022-03-13T05:40:44.077Z"
   },
   {
    "duration": 19,
    "start_time": "2022-03-13T05:40:48.561Z"
   },
   {
    "duration": 10,
    "start_time": "2022-03-13T05:41:00.128Z"
   },
   {
    "duration": 16,
    "start_time": "2022-03-13T05:41:01.443Z"
   },
   {
    "duration": 9,
    "start_time": "2022-03-13T05:41:07.756Z"
   },
   {
    "duration": 30,
    "start_time": "2022-03-13T05:41:08.963Z"
   },
   {
    "duration": 25,
    "start_time": "2022-03-13T05:41:28.739Z"
   },
   {
    "duration": 17,
    "start_time": "2022-03-13T05:41:40.732Z"
   },
   {
    "duration": 5829,
    "start_time": "2022-03-13T05:42:08.241Z"
   },
   {
    "duration": 1102,
    "start_time": "2022-03-13T05:44:55.612Z"
   },
   {
    "duration": 186,
    "start_time": "2022-03-13T05:44:56.715Z"
   },
   {
    "duration": 5,
    "start_time": "2022-03-13T05:44:56.903Z"
   },
   {
    "duration": 29,
    "start_time": "2022-03-13T05:44:56.910Z"
   },
   {
    "duration": 9,
    "start_time": "2022-03-13T05:44:56.941Z"
   },
   {
    "duration": 12,
    "start_time": "2022-03-13T05:44:56.963Z"
   },
   {
    "duration": 9,
    "start_time": "2022-03-13T05:44:56.977Z"
   },
   {
    "duration": 44,
    "start_time": "2022-03-13T05:44:56.987Z"
   },
   {
    "duration": 30,
    "start_time": "2022-03-13T05:44:57.033Z"
   },
   {
    "duration": 8,
    "start_time": "2022-03-13T05:44:57.065Z"
   },
   {
    "duration": 16,
    "start_time": "2022-03-13T05:44:57.075Z"
   },
   {
    "duration": 8,
    "start_time": "2022-03-13T05:44:57.093Z"
   },
   {
    "duration": 298,
    "start_time": "2022-03-13T05:44:57.103Z"
   },
   {
    "duration": -54,
    "start_time": "2022-03-13T05:44:57.457Z"
   },
   {
    "duration": -57,
    "start_time": "2022-03-13T05:44:57.461Z"
   },
   {
    "duration": -66,
    "start_time": "2022-03-13T05:44:57.471Z"
   },
   {
    "duration": -69,
    "start_time": "2022-03-13T05:44:57.475Z"
   },
   {
    "duration": -82,
    "start_time": "2022-03-13T05:44:57.489Z"
   },
   {
    "duration": -83,
    "start_time": "2022-03-13T05:44:57.491Z"
   },
   {
    "duration": -98,
    "start_time": "2022-03-13T05:44:57.507Z"
   },
   {
    "duration": -111,
    "start_time": "2022-03-13T05:44:57.521Z"
   },
   {
    "duration": -111,
    "start_time": "2022-03-13T05:44:57.522Z"
   },
   {
    "duration": -111,
    "start_time": "2022-03-13T05:44:57.523Z"
   },
   {
    "duration": -130,
    "start_time": "2022-03-13T05:44:57.543Z"
   },
   {
    "duration": -147,
    "start_time": "2022-03-13T05:44:57.561Z"
   },
   {
    "duration": -152,
    "start_time": "2022-03-13T05:44:57.567Z"
   },
   {
    "duration": -161,
    "start_time": "2022-03-13T05:44:57.577Z"
   },
   {
    "duration": -161,
    "start_time": "2022-03-13T05:44:57.578Z"
   },
   {
    "duration": -174,
    "start_time": "2022-03-13T05:44:57.592Z"
   },
   {
    "duration": -176,
    "start_time": "2022-03-13T05:44:57.595Z"
   },
   {
    "duration": -183,
    "start_time": "2022-03-13T05:44:57.603Z"
   },
   {
    "duration": -183,
    "start_time": "2022-03-13T05:44:57.604Z"
   },
   {
    "duration": -183,
    "start_time": "2022-03-13T05:44:57.605Z"
   },
   {
    "duration": -201,
    "start_time": "2022-03-13T05:44:57.624Z"
   },
   {
    "duration": -210,
    "start_time": "2022-03-13T05:44:57.634Z"
   },
   {
    "duration": -244,
    "start_time": "2022-03-13T05:44:57.669Z"
   },
   {
    "duration": -257,
    "start_time": "2022-03-13T05:44:57.683Z"
   },
   {
    "duration": -257,
    "start_time": "2022-03-13T05:44:57.684Z"
   },
   {
    "duration": -270,
    "start_time": "2022-03-13T05:44:57.698Z"
   },
   {
    "duration": -270,
    "start_time": "2022-03-13T05:44:57.699Z"
   },
   {
    "duration": -282,
    "start_time": "2022-03-13T05:44:57.712Z"
   },
   {
    "duration": 3,
    "start_time": "2022-03-13T05:45:41.265Z"
   },
   {
    "duration": 190,
    "start_time": "2022-03-13T05:45:41.269Z"
   },
   {
    "duration": 4,
    "start_time": "2022-03-13T05:45:41.461Z"
   },
   {
    "duration": 33,
    "start_time": "2022-03-13T05:45:41.467Z"
   },
   {
    "duration": 9,
    "start_time": "2022-03-13T05:45:41.502Z"
   },
   {
    "duration": 13,
    "start_time": "2022-03-13T05:45:41.513Z"
   },
   {
    "duration": 14,
    "start_time": "2022-03-13T05:45:41.528Z"
   },
   {
    "duration": 61,
    "start_time": "2022-03-13T05:45:41.543Z"
   },
   {
    "duration": 4,
    "start_time": "2022-03-13T05:45:41.606Z"
   },
   {
    "duration": 12,
    "start_time": "2022-03-13T05:45:41.612Z"
   },
   {
    "duration": 13,
    "start_time": "2022-03-13T05:45:41.625Z"
   },
   {
    "duration": 29,
    "start_time": "2022-03-13T05:45:41.639Z"
   },
   {
    "duration": 265,
    "start_time": "2022-03-13T06:00:42.432Z"
   },
   {
    "duration": 22,
    "start_time": "2022-03-13T06:00:53.615Z"
   },
   {
    "duration": 14,
    "start_time": "2022-03-13T06:01:40.671Z"
   },
   {
    "duration": 21,
    "start_time": "2022-03-13T06:01:59.954Z"
   },
   {
    "duration": 15,
    "start_time": "2022-03-13T06:05:22.772Z"
   },
   {
    "duration": 243,
    "start_time": "2022-03-13T06:05:47.940Z"
   },
   {
    "duration": 14,
    "start_time": "2022-03-13T06:06:01.763Z"
   },
   {
    "duration": 23,
    "start_time": "2022-03-13T06:11:10.710Z"
   },
   {
    "duration": 14,
    "start_time": "2022-03-13T06:11:28.816Z"
   },
   {
    "duration": 16,
    "start_time": "2022-03-13T06:12:04.952Z"
   },
   {
    "duration": 2033,
    "start_time": "2022-03-13T06:19:06.605Z"
   },
   {
    "duration": 23,
    "start_time": "2022-03-13T08:22:48.608Z"
   },
   {
    "duration": 238,
    "start_time": "2022-03-13T08:24:12.661Z"
   },
   {
    "duration": 244,
    "start_time": "2022-03-13T08:25:16.445Z"
   },
   {
    "duration": 220,
    "start_time": "2022-03-13T08:25:39.481Z"
   },
   {
    "duration": 22,
    "start_time": "2022-03-13T08:27:25.596Z"
   },
   {
    "duration": 298,
    "start_time": "2022-03-13T08:27:31.535Z"
   },
   {
    "duration": 225,
    "start_time": "2022-03-13T08:28:36.499Z"
   },
   {
    "duration": 220,
    "start_time": "2022-03-13T08:30:50.500Z"
   },
   {
    "duration": 6677,
    "start_time": "2022-03-13T08:34:43.359Z"
   },
   {
    "duration": 631,
    "start_time": "2022-03-13T08:35:52.545Z"
   },
   {
    "duration": 1142,
    "start_time": "2022-03-13T09:18:52.214Z"
   },
   {
    "duration": 222,
    "start_time": "2022-03-13T09:18:53.358Z"
   },
   {
    "duration": 5,
    "start_time": "2022-03-13T09:18:53.582Z"
   },
   {
    "duration": 35,
    "start_time": "2022-03-13T09:18:53.589Z"
   },
   {
    "duration": 9,
    "start_time": "2022-03-13T09:18:53.626Z"
   },
   {
    "duration": 35,
    "start_time": "2022-03-13T09:18:53.637Z"
   },
   {
    "duration": 10,
    "start_time": "2022-03-13T09:18:53.673Z"
   },
   {
    "duration": 46,
    "start_time": "2022-03-13T09:18:53.685Z"
   },
   {
    "duration": 4,
    "start_time": "2022-03-13T09:18:53.732Z"
   },
   {
    "duration": 29,
    "start_time": "2022-03-13T09:18:53.738Z"
   },
   {
    "duration": 14,
    "start_time": "2022-03-13T09:18:53.769Z"
   },
   {
    "duration": 9,
    "start_time": "2022-03-13T09:18:53.784Z"
   },
   {
    "duration": 21,
    "start_time": "2022-03-13T09:18:53.795Z"
   },
   {
    "duration": 15,
    "start_time": "2022-03-13T09:18:53.818Z"
   },
   {
    "duration": 14,
    "start_time": "2022-03-13T09:18:53.863Z"
   },
   {
    "duration": 24,
    "start_time": "2022-03-13T09:18:53.879Z"
   },
   {
    "duration": 16,
    "start_time": "2022-03-13T09:18:53.905Z"
   },
   {
    "duration": 46,
    "start_time": "2022-03-13T09:18:53.923Z"
   },
   {
    "duration": 2215,
    "start_time": "2022-03-13T09:18:53.971Z"
   },
   {
    "duration": 22,
    "start_time": "2022-03-13T09:18:56.188Z"
   },
   {
    "duration": 230,
    "start_time": "2022-03-13T09:18:56.212Z"
   },
   {
    "duration": 245,
    "start_time": "2022-03-13T09:18:56.444Z"
   },
   {
    "duration": 731,
    "start_time": "2022-03-13T09:18:56.692Z"
   },
   {
    "duration": 39,
    "start_time": "2022-03-13T09:18:57.425Z"
   },
   {
    "duration": 551,
    "start_time": "2022-03-13T09:18:57.466Z"
   },
   {
    "duration": 25,
    "start_time": "2022-03-13T09:18:58.019Z"
   },
   {
    "duration": 326,
    "start_time": "2022-03-13T09:18:58.046Z"
   },
   {
    "duration": -65,
    "start_time": "2022-03-13T09:18:58.439Z"
   },
   {
    "duration": -76,
    "start_time": "2022-03-13T09:18:58.451Z"
   },
   {
    "duration": -78,
    "start_time": "2022-03-13T09:18:58.454Z"
   },
   {
    "duration": -85,
    "start_time": "2022-03-13T09:18:58.461Z"
   },
   {
    "duration": -91,
    "start_time": "2022-03-13T09:18:58.468Z"
   },
   {
    "duration": -96,
    "start_time": "2022-03-13T09:18:58.474Z"
   },
   {
    "duration": -97,
    "start_time": "2022-03-13T09:18:58.476Z"
   },
   {
    "duration": -118,
    "start_time": "2022-03-13T09:18:58.498Z"
   },
   {
    "duration": -131,
    "start_time": "2022-03-13T09:18:58.512Z"
   },
   {
    "duration": -146,
    "start_time": "2022-03-13T09:18:58.528Z"
   },
   {
    "duration": -151,
    "start_time": "2022-03-13T09:18:58.533Z"
   },
   {
    "duration": -152,
    "start_time": "2022-03-13T09:18:58.535Z"
   },
   {
    "duration": -157,
    "start_time": "2022-03-13T09:18:58.541Z"
   },
   {
    "duration": 33,
    "start_time": "2022-03-13T09:19:08.573Z"
   },
   {
    "duration": 449,
    "start_time": "2022-03-13T09:19:15.955Z"
   },
   {
    "duration": 28,
    "start_time": "2022-03-13T09:19:32.456Z"
   },
   {
    "duration": 27,
    "start_time": "2022-03-13T09:20:26.637Z"
   },
   {
    "duration": 31,
    "start_time": "2022-03-13T09:20:32.561Z"
   },
   {
    "duration": 32,
    "start_time": "2022-03-13T09:21:14.922Z"
   },
   {
    "duration": 606,
    "start_time": "2022-03-13T09:21:17.230Z"
   },
   {
    "duration": 31,
    "start_time": "2022-03-13T09:21:38.932Z"
   },
   {
    "duration": 512,
    "start_time": "2022-03-13T09:21:42.618Z"
   },
   {
    "duration": 305,
    "start_time": "2022-03-13T09:23:38.361Z"
   },
   {
    "duration": 6,
    "start_time": "2022-03-13T09:27:10.968Z"
   },
   {
    "duration": 487,
    "start_time": "2022-03-13T09:27:15.119Z"
   },
   {
    "duration": 549,
    "start_time": "2022-03-13T09:29:20.481Z"
   },
   {
    "duration": 425,
    "start_time": "2022-03-13T09:31:57.675Z"
   },
   {
    "duration": 11,
    "start_time": "2022-03-13T09:36:32.496Z"
   },
   {
    "duration": 5,
    "start_time": "2022-03-13T09:36:36.434Z"
   },
   {
    "duration": 5,
    "start_time": "2022-03-13T09:36:54.335Z"
   },
   {
    "duration": 18,
    "start_time": "2022-03-13T09:38:13.881Z"
   },
   {
    "duration": 4,
    "start_time": "2022-03-13T09:38:15.747Z"
   },
   {
    "duration": 7,
    "start_time": "2022-03-13T09:38:19.024Z"
   },
   {
    "duration": 1181,
    "start_time": "2022-03-13T16:19:50.033Z"
   },
   {
    "duration": 204,
    "start_time": "2022-03-13T16:19:51.215Z"
   },
   {
    "duration": 4,
    "start_time": "2022-03-13T16:19:51.424Z"
   },
   {
    "duration": 34,
    "start_time": "2022-03-13T16:19:51.429Z"
   },
   {
    "duration": 8,
    "start_time": "2022-03-13T16:19:51.465Z"
   },
   {
    "duration": 14,
    "start_time": "2022-03-13T16:19:51.475Z"
   },
   {
    "duration": 8,
    "start_time": "2022-03-13T16:19:51.491Z"
   },
   {
    "duration": 68,
    "start_time": "2022-03-13T16:19:51.500Z"
   },
   {
    "duration": 5,
    "start_time": "2022-03-13T16:19:51.570Z"
   },
   {
    "duration": 14,
    "start_time": "2022-03-13T16:19:51.577Z"
   },
   {
    "duration": 19,
    "start_time": "2022-03-13T16:19:51.593Z"
   },
   {
    "duration": 9,
    "start_time": "2022-03-13T16:19:51.613Z"
   },
   {
    "duration": 46,
    "start_time": "2022-03-13T16:19:51.623Z"
   },
   {
    "duration": 12,
    "start_time": "2022-03-13T16:19:51.671Z"
   },
   {
    "duration": 13,
    "start_time": "2022-03-13T16:19:51.685Z"
   },
   {
    "duration": 23,
    "start_time": "2022-03-13T16:19:51.700Z"
   },
   {
    "duration": 47,
    "start_time": "2022-03-13T16:19:51.725Z"
   },
   {
    "duration": 15,
    "start_time": "2022-03-13T16:19:51.775Z"
   },
   {
    "duration": 2171,
    "start_time": "2022-03-13T16:19:51.791Z"
   },
   {
    "duration": 23,
    "start_time": "2022-03-13T16:19:53.964Z"
   },
   {
    "duration": 355,
    "start_time": "2022-03-13T16:19:53.988Z"
   },
   {
    "duration": 265,
    "start_time": "2022-03-13T16:19:54.346Z"
   },
   {
    "duration": 725,
    "start_time": "2022-03-13T16:19:54.612Z"
   },
   {
    "duration": 37,
    "start_time": "2022-03-13T16:19:55.339Z"
   },
   {
    "duration": 510,
    "start_time": "2022-03-13T16:19:55.378Z"
   },
   {
    "duration": 29,
    "start_time": "2022-03-13T16:19:55.890Z"
   },
   {
    "duration": 447,
    "start_time": "2022-03-13T16:19:55.921Z"
   },
   {
    "duration": 157,
    "start_time": "2022-03-13T16:19:56.214Z"
   },
   {
    "duration": 154,
    "start_time": "2022-03-13T16:19:56.218Z"
   },
   {
    "duration": 151,
    "start_time": "2022-03-13T16:19:56.223Z"
   },
   {
    "duration": 148,
    "start_time": "2022-03-13T16:19:56.227Z"
   },
   {
    "duration": 146,
    "start_time": "2022-03-13T16:19:56.230Z"
   },
   {
    "duration": 144,
    "start_time": "2022-03-13T16:19:56.234Z"
   },
   {
    "duration": 139,
    "start_time": "2022-03-13T16:19:56.240Z"
   },
   {
    "duration": 137,
    "start_time": "2022-03-13T16:19:56.244Z"
   },
   {
    "duration": 134,
    "start_time": "2022-03-13T16:19:56.248Z"
   },
   {
    "duration": 132,
    "start_time": "2022-03-13T16:19:56.252Z"
   },
   {
    "duration": 128,
    "start_time": "2022-03-13T16:19:56.257Z"
   },
   {
    "duration": 127,
    "start_time": "2022-03-13T16:19:56.260Z"
   },
   {
    "duration": 124,
    "start_time": "2022-03-13T16:19:56.264Z"
   },
   {
    "duration": 30,
    "start_time": "2022-03-13T16:31:33.200Z"
   },
   {
    "duration": 480,
    "start_time": "2022-03-13T16:31:33.232Z"
   },
   {
    "duration": 211,
    "start_time": "2022-03-13T16:31:33.714Z"
   },
   {
    "duration": 5,
    "start_time": "2022-03-13T16:31:33.928Z"
   },
   {
    "duration": 431,
    "start_time": "2022-03-13T16:31:33.935Z"
   },
   {
    "duration": 461,
    "start_time": "2022-03-13T16:31:34.368Z"
   },
   {
    "duration": 551,
    "start_time": "2022-03-13T16:31:34.831Z"
   },
   {
    "duration": 10,
    "start_time": "2022-03-13T16:31:35.384Z"
   },
   {
    "duration": 10,
    "start_time": "2022-03-13T16:31:35.396Z"
   },
   {
    "duration": 6,
    "start_time": "2022-03-13T16:31:35.407Z"
   },
   {
    "duration": 37,
    "start_time": "2022-03-13T16:31:35.414Z"
   },
   {
    "duration": 8,
    "start_time": "2022-03-13T16:31:35.453Z"
   },
   {
    "duration": 8,
    "start_time": "2022-03-13T16:31:35.463Z"
   },
   {
    "duration": 21,
    "start_time": "2022-03-13T16:40:18.045Z"
   },
   {
    "duration": 1156,
    "start_time": "2022-03-14T02:50:27.351Z"
   },
   {
    "duration": 173,
    "start_time": "2022-03-14T02:50:28.509Z"
   },
   {
    "duration": 4,
    "start_time": "2022-03-14T02:50:28.684Z"
   },
   {
    "duration": 31,
    "start_time": "2022-03-14T02:50:28.690Z"
   },
   {
    "duration": 17,
    "start_time": "2022-03-14T02:50:28.723Z"
   },
   {
    "duration": 26,
    "start_time": "2022-03-14T02:50:28.742Z"
   },
   {
    "duration": 21,
    "start_time": "2022-03-14T02:50:28.770Z"
   },
   {
    "duration": 47,
    "start_time": "2022-03-14T02:50:28.794Z"
   },
   {
    "duration": 4,
    "start_time": "2022-03-14T02:50:28.843Z"
   },
   {
    "duration": 12,
    "start_time": "2022-03-14T02:50:28.849Z"
   },
   {
    "duration": 15,
    "start_time": "2022-03-14T02:50:28.863Z"
   },
   {
    "duration": 9,
    "start_time": "2022-03-14T02:50:28.880Z"
   },
   {
    "duration": 48,
    "start_time": "2022-03-14T02:50:28.890Z"
   },
   {
    "duration": 15,
    "start_time": "2022-03-14T02:50:28.940Z"
   },
   {
    "duration": 13,
    "start_time": "2022-03-14T02:50:28.957Z"
   },
   {
    "duration": 21,
    "start_time": "2022-03-14T02:50:28.972Z"
   },
   {
    "duration": 47,
    "start_time": "2022-03-14T02:50:28.995Z"
   },
   {
    "duration": 16,
    "start_time": "2022-03-14T02:50:29.044Z"
   },
   {
    "duration": 2146,
    "start_time": "2022-03-14T02:50:29.061Z"
   },
   {
    "duration": 32,
    "start_time": "2022-03-14T02:50:31.209Z"
   },
   {
    "duration": 257,
    "start_time": "2022-03-14T02:50:31.243Z"
   },
   {
    "duration": 248,
    "start_time": "2022-03-14T02:50:31.502Z"
   },
   {
    "duration": 776,
    "start_time": "2022-03-14T02:50:31.754Z"
   },
   {
    "duration": 35,
    "start_time": "2022-03-14T02:50:32.532Z"
   },
   {
    "duration": 512,
    "start_time": "2022-03-14T02:50:32.568Z"
   },
   {
    "duration": 30,
    "start_time": "2022-03-14T02:50:33.082Z"
   },
   {
    "duration": 272,
    "start_time": "2022-03-14T02:50:33.114Z"
   },
   {
    "duration": 59,
    "start_time": "2022-03-14T02:50:33.328Z"
   },
   {
    "duration": 59,
    "start_time": "2022-03-14T02:50:33.330Z"
   },
   {
    "duration": 57,
    "start_time": "2022-03-14T02:50:33.332Z"
   },
   {
    "duration": 56,
    "start_time": "2022-03-14T02:50:33.334Z"
   },
   {
    "duration": 55,
    "start_time": "2022-03-14T02:50:33.336Z"
   },
   {
    "duration": 54,
    "start_time": "2022-03-14T02:50:33.338Z"
   },
   {
    "duration": 53,
    "start_time": "2022-03-14T02:50:33.340Z"
   },
   {
    "duration": 53,
    "start_time": "2022-03-14T02:50:33.341Z"
   },
   {
    "duration": 52,
    "start_time": "2022-03-14T02:50:33.343Z"
   },
   {
    "duration": 51,
    "start_time": "2022-03-14T02:50:33.345Z"
   },
   {
    "duration": 49,
    "start_time": "2022-03-14T02:50:33.348Z"
   },
   {
    "duration": 48,
    "start_time": "2022-03-14T02:50:33.350Z"
   },
   {
    "duration": 46,
    "start_time": "2022-03-14T02:50:33.352Z"
   },
   {
    "duration": 3,
    "start_time": "2022-03-14T02:51:52.737Z"
   },
   {
    "duration": 177,
    "start_time": "2022-03-14T02:51:52.742Z"
   },
   {
    "duration": 4,
    "start_time": "2022-03-14T02:51:52.921Z"
   },
   {
    "duration": 41,
    "start_time": "2022-03-14T02:51:52.927Z"
   },
   {
    "duration": 9,
    "start_time": "2022-03-14T02:51:52.970Z"
   },
   {
    "duration": 27,
    "start_time": "2022-03-14T02:51:52.980Z"
   },
   {
    "duration": 29,
    "start_time": "2022-03-14T02:51:53.009Z"
   },
   {
    "duration": 60,
    "start_time": "2022-03-14T02:51:53.040Z"
   },
   {
    "duration": 4,
    "start_time": "2022-03-14T02:51:53.103Z"
   },
   {
    "duration": 46,
    "start_time": "2022-03-14T02:51:53.109Z"
   },
   {
    "duration": 36,
    "start_time": "2022-03-14T02:51:53.157Z"
   },
   {
    "duration": 13,
    "start_time": "2022-03-14T02:51:53.195Z"
   },
   {
    "duration": 39,
    "start_time": "2022-03-14T02:51:53.209Z"
   },
   {
    "duration": 14,
    "start_time": "2022-03-14T02:51:53.250Z"
   },
   {
    "duration": 20,
    "start_time": "2022-03-14T02:51:53.265Z"
   },
   {
    "duration": 27,
    "start_time": "2022-03-14T02:51:53.287Z"
   },
   {
    "duration": 29,
    "start_time": "2022-03-14T02:51:53.317Z"
   },
   {
    "duration": 17,
    "start_time": "2022-03-14T02:51:53.348Z"
   },
   {
    "duration": 2152,
    "start_time": "2022-03-14T02:51:53.367Z"
   },
   {
    "duration": 34,
    "start_time": "2022-03-14T02:51:55.521Z"
   },
   {
    "duration": 248,
    "start_time": "2022-03-14T02:51:55.557Z"
   },
   {
    "duration": 253,
    "start_time": "2022-03-14T02:51:55.807Z"
   },
   {
    "duration": 1091,
    "start_time": "2022-03-14T05:45:56.444Z"
   },
   {
    "duration": 252,
    "start_time": "2022-03-14T05:45:57.536Z"
   },
   {
    "duration": 4,
    "start_time": "2022-03-14T05:45:57.790Z"
   },
   {
    "duration": 28,
    "start_time": "2022-03-14T05:45:57.795Z"
   },
   {
    "duration": 8,
    "start_time": "2022-03-14T05:45:57.824Z"
   },
   {
    "duration": 17,
    "start_time": "2022-03-14T05:45:57.833Z"
   },
   {
    "duration": 8,
    "start_time": "2022-03-14T05:45:57.851Z"
   },
   {
    "duration": 57,
    "start_time": "2022-03-14T05:45:57.862Z"
   },
   {
    "duration": 4,
    "start_time": "2022-03-14T05:45:57.920Z"
   },
   {
    "duration": 10,
    "start_time": "2022-03-14T05:45:57.925Z"
   },
   {
    "duration": 13,
    "start_time": "2022-03-14T05:45:57.937Z"
   },
   {
    "duration": 7,
    "start_time": "2022-03-14T05:45:57.952Z"
   },
   {
    "duration": 22,
    "start_time": "2022-03-14T05:45:57.960Z"
   },
   {
    "duration": 13,
    "start_time": "2022-03-14T05:45:58.006Z"
   },
   {
    "duration": 11,
    "start_time": "2022-03-14T05:45:58.021Z"
   },
   {
    "duration": 18,
    "start_time": "2022-03-14T05:45:58.033Z"
   },
   {
    "duration": 12,
    "start_time": "2022-03-14T05:45:58.052Z"
   },
   {
    "duration": 49,
    "start_time": "2022-03-14T05:45:58.065Z"
   },
   {
    "duration": 1949,
    "start_time": "2022-03-14T05:45:58.116Z"
   },
   {
    "duration": 20,
    "start_time": "2022-03-14T05:46:00.067Z"
   },
   {
    "duration": 218,
    "start_time": "2022-03-14T05:46:00.089Z"
   },
   {
    "duration": 238,
    "start_time": "2022-03-14T05:46:00.309Z"
   },
   {
    "duration": 663,
    "start_time": "2022-03-14T05:46:00.550Z"
   },
   {
    "duration": 5,
    "start_time": "2022-03-14T05:46:01.215Z"
   },
   {
    "duration": 48,
    "start_time": "2022-03-14T05:46:01.221Z"
   },
   {
    "duration": 460,
    "start_time": "2022-03-14T05:46:01.271Z"
   },
   {
    "duration": 29,
    "start_time": "2022-03-14T05:46:01.733Z"
   },
   {
    "duration": 413,
    "start_time": "2022-03-14T05:46:01.764Z"
   },
   {
    "duration": -99,
    "start_time": "2022-03-14T05:46:02.278Z"
   },
   {
    "duration": -100,
    "start_time": "2022-03-14T05:46:02.280Z"
   },
   {
    "duration": -108,
    "start_time": "2022-03-14T05:46:02.289Z"
   },
   {
    "duration": -110,
    "start_time": "2022-03-14T05:46:02.292Z"
   },
   {
    "duration": -110,
    "start_time": "2022-03-14T05:46:02.294Z"
   },
   {
    "duration": -111,
    "start_time": "2022-03-14T05:46:02.296Z"
   },
   {
    "duration": -115,
    "start_time": "2022-03-14T05:46:02.302Z"
   },
   {
    "duration": -116,
    "start_time": "2022-03-14T05:46:02.304Z"
   },
   {
    "duration": -117,
    "start_time": "2022-03-14T05:46:02.306Z"
   },
   {
    "duration": -117,
    "start_time": "2022-03-14T05:46:02.308Z"
   },
   {
    "duration": -117,
    "start_time": "2022-03-14T05:46:02.309Z"
   },
   {
    "duration": -118,
    "start_time": "2022-03-14T05:46:02.311Z"
   },
   {
    "duration": -122,
    "start_time": "2022-03-14T05:46:02.316Z"
   },
   {
    "duration": 3,
    "start_time": "2022-03-14T05:48:49.353Z"
   },
   {
    "duration": 3,
    "start_time": "2022-03-14T05:48:59.591Z"
   },
   {
    "duration": 272,
    "start_time": "2022-03-14T05:48:59.595Z"
   },
   {
    "duration": 4,
    "start_time": "2022-03-14T05:48:59.868Z"
   },
   {
    "duration": 28,
    "start_time": "2022-03-14T05:48:59.874Z"
   },
   {
    "duration": 8,
    "start_time": "2022-03-14T05:48:59.903Z"
   },
   {
    "duration": 11,
    "start_time": "2022-03-14T05:48:59.912Z"
   },
   {
    "duration": 8,
    "start_time": "2022-03-14T05:48:59.925Z"
   },
   {
    "duration": 41,
    "start_time": "2022-03-14T05:48:59.935Z"
   },
   {
    "duration": 28,
    "start_time": "2022-03-14T05:48:59.978Z"
   },
   {
    "duration": 15,
    "start_time": "2022-03-14T05:49:00.008Z"
   },
   {
    "duration": 18,
    "start_time": "2022-03-14T05:49:00.024Z"
   },
   {
    "duration": 10,
    "start_time": "2022-03-14T05:49:00.043Z"
   },
   {
    "duration": 22,
    "start_time": "2022-03-14T05:49:00.054Z"
   },
   {
    "duration": 28,
    "start_time": "2022-03-14T05:49:00.077Z"
   },
   {
    "duration": 13,
    "start_time": "2022-03-14T05:49:00.107Z"
   },
   {
    "duration": 19,
    "start_time": "2022-03-14T05:49:00.121Z"
   },
   {
    "duration": 22,
    "start_time": "2022-03-14T05:49:00.142Z"
   },
   {
    "duration": 15,
    "start_time": "2022-03-14T05:49:00.165Z"
   },
   {
    "duration": 2000,
    "start_time": "2022-03-14T05:49:00.183Z"
   },
   {
    "duration": 28,
    "start_time": "2022-03-14T05:49:02.184Z"
   },
   {
    "duration": 212,
    "start_time": "2022-03-14T05:49:02.213Z"
   },
   {
    "duration": 223,
    "start_time": "2022-03-14T05:49:02.426Z"
   },
   {
    "duration": 601,
    "start_time": "2022-03-14T05:49:02.650Z"
   },
   {
    "duration": 3,
    "start_time": "2022-03-14T05:49:17.687Z"
   },
   {
    "duration": 8443,
    "start_time": "2022-03-14T05:50:15.741Z"
   },
   {
    "duration": 1392,
    "start_time": "2022-03-14T05:50:54.324Z"
   },
   {
    "duration": 8671,
    "start_time": "2022-03-14T05:55:28.767Z"
   },
   {
    "duration": 1400,
    "start_time": "2022-03-14T05:56:22.480Z"
   },
   {
    "duration": 625,
    "start_time": "2022-03-14T05:56:47.639Z"
   },
   {
    "duration": 616,
    "start_time": "2022-03-14T06:28:52.782Z"
   },
   {
    "duration": 19,
    "start_time": "2022-03-14T06:29:30.996Z"
   },
   {
    "duration": 20,
    "start_time": "2022-03-14T06:30:21.371Z"
   },
   {
    "duration": 394,
    "start_time": "2022-03-14T06:31:49.484Z"
   },
   {
    "duration": 330,
    "start_time": "2022-03-14T06:33:23.534Z"
   },
   {
    "duration": 343,
    "start_time": "2022-03-14T06:33:38.947Z"
   },
   {
    "duration": 1888,
    "start_time": "2022-03-14T06:39:26.941Z"
   },
   {
    "duration": 1543,
    "start_time": "2022-03-14T06:40:36.715Z"
   },
   {
    "duration": 1795,
    "start_time": "2022-03-14T06:40:49.904Z"
   },
   {
    "duration": 3,
    "start_time": "2022-03-14T07:36:53.629Z"
   },
   {
    "duration": 278,
    "start_time": "2022-03-14T07:36:53.633Z"
   },
   {
    "duration": 4,
    "start_time": "2022-03-14T07:36:53.914Z"
   },
   {
    "duration": 35,
    "start_time": "2022-03-14T07:36:53.920Z"
   },
   {
    "duration": 9,
    "start_time": "2022-03-14T07:36:53.956Z"
   },
   {
    "duration": 16,
    "start_time": "2022-03-14T07:36:53.966Z"
   },
   {
    "duration": 29,
    "start_time": "2022-03-14T07:36:53.984Z"
   },
   {
    "duration": 46,
    "start_time": "2022-03-14T07:36:54.014Z"
   },
   {
    "duration": 3,
    "start_time": "2022-03-14T07:36:54.062Z"
   },
   {
    "duration": 8,
    "start_time": "2022-03-14T07:36:54.289Z"
   },
   {
    "duration": 15,
    "start_time": "2022-03-14T07:36:54.299Z"
   },
   {
    "duration": 9,
    "start_time": "2022-03-14T07:36:54.316Z"
   },
   {
    "duration": 21,
    "start_time": "2022-03-14T07:36:54.327Z"
   },
   {
    "duration": 15,
    "start_time": "2022-03-14T07:36:54.350Z"
   },
   {
    "duration": 43,
    "start_time": "2022-03-14T07:36:54.367Z"
   },
   {
    "duration": 23,
    "start_time": "2022-03-14T07:36:54.412Z"
   },
   {
    "duration": 15,
    "start_time": "2022-03-14T07:36:54.437Z"
   },
   {
    "duration": 16,
    "start_time": "2022-03-14T07:36:54.812Z"
   },
   {
    "duration": 2179,
    "start_time": "2022-03-14T07:36:54.830Z"
   },
   {
    "duration": 21,
    "start_time": "2022-03-14T07:36:57.010Z"
   },
   {
    "duration": 232,
    "start_time": "2022-03-14T07:36:57.033Z"
   },
   {
    "duration": 231,
    "start_time": "2022-03-14T07:36:57.267Z"
   },
   {
    "duration": 1501,
    "start_time": "2022-03-14T12:47:02.880Z"
   },
   {
    "duration": 262,
    "start_time": "2022-03-14T12:47:04.384Z"
   },
   {
    "duration": 6,
    "start_time": "2022-03-14T12:47:04.649Z"
   },
   {
    "duration": 49,
    "start_time": "2022-03-14T12:47:04.658Z"
   },
   {
    "duration": 41,
    "start_time": "2022-03-14T12:47:04.710Z"
   },
   {
    "duration": 20,
    "start_time": "2022-03-14T12:47:04.754Z"
   },
   {
    "duration": 10,
    "start_time": "2022-03-14T12:47:04.777Z"
   },
   {
    "duration": 96,
    "start_time": "2022-03-14T12:47:04.791Z"
   },
   {
    "duration": 5,
    "start_time": "2022-03-14T12:47:04.890Z"
   },
   {
    "duration": 18,
    "start_time": "2022-03-14T12:47:04.897Z"
   },
   {
    "duration": 48,
    "start_time": "2022-03-14T12:47:04.917Z"
   },
   {
    "duration": 13,
    "start_time": "2022-03-14T12:47:04.967Z"
   },
   {
    "duration": 36,
    "start_time": "2022-03-14T12:47:04.982Z"
   },
   {
    "duration": 48,
    "start_time": "2022-03-14T12:47:05.021Z"
   },
   {
    "duration": 19,
    "start_time": "2022-03-14T12:47:05.071Z"
   },
   {
    "duration": 59,
    "start_time": "2022-03-14T12:47:05.093Z"
   },
   {
    "duration": 22,
    "start_time": "2022-03-14T12:47:05.155Z"
   },
   {
    "duration": 25,
    "start_time": "2022-03-14T12:47:05.179Z"
   },
   {
    "duration": 4123,
    "start_time": "2022-03-14T12:47:05.206Z"
   },
   {
    "duration": 46,
    "start_time": "2022-03-14T12:47:09.332Z"
   },
   {
    "duration": 394,
    "start_time": "2022-03-14T12:47:09.381Z"
   },
   {
    "duration": 406,
    "start_time": "2022-03-14T12:47:09.777Z"
   },
   {
    "duration": 1187,
    "start_time": "2022-03-14T12:47:10.188Z"
   },
   {
    "duration": 28,
    "start_time": "2022-03-14T12:47:11.377Z"
   },
   {
    "duration": 74,
    "start_time": "2022-03-14T12:47:11.407Z"
   },
   {
    "duration": 806,
    "start_time": "2022-03-14T12:47:11.484Z"
   },
   {
    "duration": 70,
    "start_time": "2022-03-14T12:47:12.294Z"
   },
   {
    "duration": 385,
    "start_time": "2022-03-14T12:47:12.367Z"
   },
   {
    "duration": 131,
    "start_time": "2022-03-14T12:47:12.624Z"
   },
   {
    "duration": 130,
    "start_time": "2022-03-14T12:47:12.627Z"
   },
   {
    "duration": 129,
    "start_time": "2022-03-14T12:47:12.629Z"
   },
   {
    "duration": 129,
    "start_time": "2022-03-14T12:47:12.631Z"
   },
   {
    "duration": 128,
    "start_time": "2022-03-14T12:47:12.633Z"
   },
   {
    "duration": 128,
    "start_time": "2022-03-14T12:47:12.635Z"
   },
   {
    "duration": 123,
    "start_time": "2022-03-14T12:47:12.641Z"
   },
   {
    "duration": 123,
    "start_time": "2022-03-14T12:47:12.643Z"
   },
   {
    "duration": 122,
    "start_time": "2022-03-14T12:47:12.645Z"
   },
   {
    "duration": 111,
    "start_time": "2022-03-14T12:47:12.658Z"
   },
   {
    "duration": 110,
    "start_time": "2022-03-14T12:47:12.660Z"
   },
   {
    "duration": 111,
    "start_time": "2022-03-14T12:47:12.661Z"
   },
   {
    "duration": 110,
    "start_time": "2022-03-14T12:47:12.663Z"
   },
   {
    "duration": 4,
    "start_time": "2022-03-14T12:51:27.013Z"
   },
   {
    "duration": 251,
    "start_time": "2022-03-14T12:51:27.020Z"
   },
   {
    "duration": 7,
    "start_time": "2022-03-14T12:51:27.275Z"
   },
   {
    "duration": 76,
    "start_time": "2022-03-14T12:51:27.286Z"
   },
   {
    "duration": 13,
    "start_time": "2022-03-14T12:51:27.365Z"
   },
   {
    "duration": 26,
    "start_time": "2022-03-14T12:51:27.380Z"
   },
   {
    "duration": 42,
    "start_time": "2022-03-14T12:51:27.409Z"
   },
   {
    "duration": 78,
    "start_time": "2022-03-14T12:51:27.456Z"
   },
   {
    "duration": 18,
    "start_time": "2022-03-14T12:51:27.537Z"
   },
   {
    "duration": 14,
    "start_time": "2022-03-14T12:51:27.558Z"
   },
   {
    "duration": 31,
    "start_time": "2022-03-14T12:51:27.575Z"
   },
   {
    "duration": 49,
    "start_time": "2022-03-14T12:51:27.609Z"
   },
   {
    "duration": 43,
    "start_time": "2022-03-14T12:51:27.660Z"
   },
   {
    "duration": 52,
    "start_time": "2022-03-14T12:51:27.706Z"
   },
   {
    "duration": 17,
    "start_time": "2022-03-14T12:51:27.760Z"
   },
   {
    "duration": 36,
    "start_time": "2022-03-14T12:51:27.780Z"
   },
   {
    "duration": 22,
    "start_time": "2022-03-14T12:51:27.850Z"
   },
   {
    "duration": 24,
    "start_time": "2022-03-14T12:51:27.875Z"
   },
   {
    "duration": 3986,
    "start_time": "2022-03-14T12:51:27.902Z"
   },
   {
    "duration": 39,
    "start_time": "2022-03-14T12:51:31.891Z"
   },
   {
    "duration": 420,
    "start_time": "2022-03-14T12:51:31.953Z"
   },
   {
    "duration": 428,
    "start_time": "2022-03-14T12:51:32.376Z"
   },
   {
    "duration": 1526,
    "start_time": "2022-03-14T12:51:32.810Z"
   },
   {
    "duration": 34,
    "start_time": "2022-03-14T12:51:58.005Z"
   },
   {
    "duration": 26,
    "start_time": "2022-03-14T12:53:25.455Z"
   },
   {
    "duration": 495,
    "start_time": "2022-03-14T12:53:49.738Z"
   },
   {
    "duration": 41,
    "start_time": "2022-03-14T12:55:07.923Z"
   },
   {
    "duration": 26,
    "start_time": "2022-03-14T12:56:16.022Z"
   },
   {
    "duration": 310,
    "start_time": "2022-03-14T12:57:32.820Z"
   },
   {
    "duration": 4,
    "start_time": "2022-03-14T12:57:40.110Z"
   },
   {
    "duration": 284,
    "start_time": "2022-03-14T12:57:40.121Z"
   },
   {
    "duration": 7,
    "start_time": "2022-03-14T12:57:40.408Z"
   },
   {
    "duration": 90,
    "start_time": "2022-03-14T12:57:40.418Z"
   },
   {
    "duration": 15,
    "start_time": "2022-03-14T12:57:40.512Z"
   },
   {
    "duration": 38,
    "start_time": "2022-03-14T12:57:40.530Z"
   },
   {
    "duration": 13,
    "start_time": "2022-03-14T12:57:40.571Z"
   },
   {
    "duration": 105,
    "start_time": "2022-03-14T12:57:40.586Z"
   },
   {
    "duration": 6,
    "start_time": "2022-03-14T12:57:40.695Z"
   },
   {
    "duration": 14,
    "start_time": "2022-03-14T12:57:40.704Z"
   },
   {
    "duration": 50,
    "start_time": "2022-03-14T12:57:40.720Z"
   },
   {
    "duration": 12,
    "start_time": "2022-03-14T12:57:40.773Z"
   },
   {
    "duration": 64,
    "start_time": "2022-03-14T12:57:40.787Z"
   },
   {
    "duration": 20,
    "start_time": "2022-03-14T12:57:40.854Z"
   },
   {
    "duration": 17,
    "start_time": "2022-03-14T12:57:40.876Z"
   },
   {
    "duration": 68,
    "start_time": "2022-03-14T12:57:40.896Z"
   },
   {
    "duration": 27,
    "start_time": "2022-03-14T12:57:40.967Z"
   },
   {
    "duration": 58,
    "start_time": "2022-03-14T12:57:40.997Z"
   },
   {
    "duration": 4056,
    "start_time": "2022-03-14T12:57:41.058Z"
   },
   {
    "duration": 54,
    "start_time": "2022-03-14T12:57:45.117Z"
   },
   {
    "duration": 400,
    "start_time": "2022-03-14T12:57:45.173Z"
   },
   {
    "duration": 403,
    "start_time": "2022-03-14T12:57:45.575Z"
   },
   {
    "duration": 1136,
    "start_time": "2022-03-14T12:57:45.980Z"
   },
   {
    "duration": 36,
    "start_time": "2022-03-14T12:57:47.120Z"
   },
   {
    "duration": 271,
    "start_time": "2022-03-14T12:57:48.997Z"
   },
   {
    "duration": 7990,
    "start_time": "2022-03-14T12:57:53.926Z"
   },
   {
    "duration": 82,
    "start_time": "2022-03-14T12:58:53.374Z"
   },
   {
    "duration": 7337,
    "start_time": "2022-03-14T12:58:59.747Z"
   },
   {
    "duration": 319,
    "start_time": "2022-03-14T13:00:30.403Z"
   },
   {
    "duration": 653,
    "start_time": "2022-03-14T13:00:56.687Z"
   },
   {
    "duration": 801,
    "start_time": "2022-03-14T13:01:08.125Z"
   },
   {
    "duration": 1062,
    "start_time": "2022-03-14T13:01:29.108Z"
   },
   {
    "duration": 992,
    "start_time": "2022-03-14T13:01:37.343Z"
   },
   {
    "duration": 448,
    "start_time": "2022-03-14T13:02:04.267Z"
   },
   {
    "duration": 12561,
    "start_time": "2022-03-14T13:03:06.615Z"
   },
   {
    "duration": 11233,
    "start_time": "2022-03-14T13:03:30.160Z"
   },
   {
    "duration": 124600,
    "start_time": "2022-03-14T13:04:45.056Z"
   },
   {
    "duration": 3507,
    "start_time": "2022-03-14T13:07:18.503Z"
   },
   {
    "duration": 3539,
    "start_time": "2022-03-14T13:07:40.653Z"
   },
   {
    "duration": -19,
    "start_time": "2022-03-14T13:10:59.640Z"
   },
   {
    "duration": 12147,
    "start_time": "2022-03-14T13:11:24.000Z"
   },
   {
    "duration": 8868,
    "start_time": "2022-03-14T13:11:38.924Z"
   },
   {
    "duration": 4878,
    "start_time": "2022-03-14T13:12:53.296Z"
   },
   {
    "duration": 3356,
    "start_time": "2022-03-14T13:13:02.551Z"
   },
   {
    "duration": 11888,
    "start_time": "2022-03-14T13:13:58.775Z"
   },
   {
    "duration": 24876,
    "start_time": "2022-03-14T13:14:24.810Z"
   },
   {
    "duration": 2656,
    "start_time": "2022-03-14T13:15:18.207Z"
   },
   {
    "duration": 534,
    "start_time": "2022-03-14T13:15:39.420Z"
   },
   {
    "duration": 3179,
    "start_time": "2022-03-14T13:18:02.240Z"
   },
   {
    "duration": 38235,
    "start_time": "2022-03-14T13:21:24.848Z"
   },
   {
    "duration": 338,
    "start_time": "2022-03-14T13:26:33.174Z"
   },
   {
    "duration": 6245,
    "start_time": "2022-03-14T13:27:41.323Z"
   },
   {
    "duration": 6300,
    "start_time": "2022-03-14T13:28:04.090Z"
   },
   {
    "duration": 6120,
    "start_time": "2022-03-14T13:30:25.900Z"
   },
   {
    "duration": 724,
    "start_time": "2022-03-14T13:30:49.541Z"
   },
   {
    "duration": 771,
    "start_time": "2022-03-14T13:30:56.683Z"
   },
   {
    "duration": 7697,
    "start_time": "2022-03-14T13:31:08.677Z"
   },
   {
    "duration": 3486,
    "start_time": "2022-03-14T13:33:09.505Z"
   },
   {
    "duration": 86,
    "start_time": "2022-03-14T13:34:14.877Z"
   },
   {
    "duration": 110,
    "start_time": "2022-03-14T13:34:27.398Z"
   },
   {
    "duration": 258,
    "start_time": "2022-03-14T13:34:47.099Z"
   },
   {
    "duration": 9112,
    "start_time": "2022-03-14T13:35:07.155Z"
   },
   {
    "duration": 10390,
    "start_time": "2022-03-14T13:35:58.693Z"
   },
   {
    "duration": 15323,
    "start_time": "2022-03-14T13:36:27.208Z"
   },
   {
    "duration": 121762,
    "start_time": "2022-03-14T13:36:50.540Z"
   },
   {
    "duration": 3196,
    "start_time": "2022-03-14T13:38:55.550Z"
   },
   {
    "duration": 1863,
    "start_time": "2022-03-14T13:56:24.293Z"
   },
   {
    "duration": 70,
    "start_time": "2022-03-14T13:57:27.089Z"
   },
   {
    "duration": 56,
    "start_time": "2022-03-14T13:57:54.122Z"
   },
   {
    "duration": 50,
    "start_time": "2022-03-14T13:58:18.306Z"
   },
   {
    "duration": 27,
    "start_time": "2022-03-14T13:59:01.506Z"
   },
   {
    "duration": 84,
    "start_time": "2022-03-14T13:59:15.057Z"
   },
   {
    "duration": 863,
    "start_time": "2022-03-14T13:59:28.266Z"
   },
   {
    "duration": 55,
    "start_time": "2022-03-14T14:00:11.537Z"
   },
   {
    "duration": 1070,
    "start_time": "2022-03-14T14:00:42.675Z"
   },
   {
    "duration": 898,
    "start_time": "2022-03-14T14:00:56.182Z"
   },
   {
    "duration": 70,
    "start_time": "2022-03-14T14:01:56.750Z"
   },
   {
    "duration": 894,
    "start_time": "2022-03-14T14:01:58.230Z"
   },
   {
    "duration": 56,
    "start_time": "2022-03-14T14:03:44.124Z"
   },
   {
    "duration": 1273,
    "start_time": "2022-03-14T14:03:52.817Z"
   },
   {
    "duration": 74,
    "start_time": "2022-03-14T14:04:05.553Z"
   },
   {
    "duration": 352,
    "start_time": "2022-03-14T14:04:07.168Z"
   },
   {
    "duration": 57,
    "start_time": "2022-03-14T14:04:24.627Z"
   },
   {
    "duration": 573,
    "start_time": "2022-03-14T14:05:02.041Z"
   },
   {
    "duration": 72,
    "start_time": "2022-03-14T14:05:14.252Z"
   },
   {
    "duration": 890,
    "start_time": "2022-03-14T14:05:21.380Z"
   },
   {
    "duration": 59,
    "start_time": "2022-03-14T14:05:40.283Z"
   },
   {
    "duration": 973,
    "start_time": "2022-03-14T14:05:41.158Z"
   },
   {
    "duration": 338,
    "start_time": "2022-03-14T14:08:04.792Z"
   },
   {
    "duration": 314,
    "start_time": "2022-03-14T14:08:40.423Z"
   },
   {
    "duration": 280,
    "start_time": "2022-03-14T14:08:50.356Z"
   },
   {
    "duration": 115,
    "start_time": "2022-03-14T14:09:15.024Z"
   },
   {
    "duration": 100,
    "start_time": "2022-03-14T14:09:23.784Z"
   },
   {
    "duration": 91,
    "start_time": "2022-03-14T14:09:43.997Z"
   },
   {
    "duration": 84,
    "start_time": "2022-03-14T14:09:53.855Z"
   },
   {
    "duration": 279,
    "start_time": "2022-03-14T14:13:25.492Z"
   },
   {
    "duration": 303,
    "start_time": "2022-03-14T14:13:35.883Z"
   },
   {
    "duration": 7991,
    "start_time": "2022-03-14T14:13:58.886Z"
   },
   {
    "duration": 357,
    "start_time": "2022-03-14T14:14:50.753Z"
   },
   {
    "duration": 44,
    "start_time": "2022-03-14T14:16:25.403Z"
   },
   {
    "duration": 32,
    "start_time": "2022-03-14T14:16:53.875Z"
   },
   {
    "duration": 299,
    "start_time": "2022-03-14T14:17:07.943Z"
   },
   {
    "duration": 31,
    "start_time": "2022-03-14T14:17:17.415Z"
   },
   {
    "duration": 35,
    "start_time": "2022-03-14T14:18:08.635Z"
   },
   {
    "duration": 6,
    "start_time": "2022-03-14T14:24:39.063Z"
   },
   {
    "duration": 728,
    "start_time": "2022-03-14T14:24:42.075Z"
   },
   {
    "duration": 776,
    "start_time": "2022-03-14T14:24:46.193Z"
   },
   {
    "duration": 801,
    "start_time": "2022-03-14T14:24:48.853Z"
   },
   {
    "duration": 19,
    "start_time": "2022-03-14T14:25:16.703Z"
   },
   {
    "duration": 18,
    "start_time": "2022-03-14T14:25:45.865Z"
   },
   {
    "duration": 8,
    "start_time": "2022-03-14T14:25:46.585Z"
   },
   {
    "duration": 7,
    "start_time": "2022-03-14T14:25:50.253Z"
   },
   {
    "duration": 15,
    "start_time": "2022-03-14T14:26:02.607Z"
   },
   {
    "duration": 14,
    "start_time": "2022-03-14T14:26:12.668Z"
   },
   {
    "duration": 7,
    "start_time": "2022-03-14T14:26:15.544Z"
   },
   {
    "duration": 10,
    "start_time": "2022-03-14T14:26:21.092Z"
   },
   {
    "duration": 1132,
    "start_time": "2022-03-14T19:03:25.979Z"
   },
   {
    "duration": 180,
    "start_time": "2022-03-14T19:03:27.113Z"
   },
   {
    "duration": 4,
    "start_time": "2022-03-14T19:03:27.295Z"
   },
   {
    "duration": 31,
    "start_time": "2022-03-14T19:03:27.301Z"
   },
   {
    "duration": 30,
    "start_time": "2022-03-14T19:03:27.334Z"
   },
   {
    "duration": 13,
    "start_time": "2022-03-14T19:03:27.366Z"
   },
   {
    "duration": 8,
    "start_time": "2022-03-14T19:03:27.381Z"
   },
   {
    "duration": 71,
    "start_time": "2022-03-14T19:03:27.392Z"
   },
   {
    "duration": 4,
    "start_time": "2022-03-14T19:03:27.465Z"
   },
   {
    "duration": 10,
    "start_time": "2022-03-14T19:03:27.471Z"
   },
   {
    "duration": 15,
    "start_time": "2022-03-14T19:03:27.483Z"
   },
   {
    "duration": 10,
    "start_time": "2022-03-14T19:03:27.500Z"
   },
   {
    "duration": 54,
    "start_time": "2022-03-14T19:03:27.512Z"
   },
   {
    "duration": 14,
    "start_time": "2022-03-14T19:03:27.567Z"
   },
   {
    "duration": 13,
    "start_time": "2022-03-14T19:03:27.583Z"
   },
   {
    "duration": 22,
    "start_time": "2022-03-14T19:03:27.597Z"
   },
   {
    "duration": 39,
    "start_time": "2022-03-14T19:03:27.621Z"
   },
   {
    "duration": 18,
    "start_time": "2022-03-14T19:03:27.662Z"
   },
   {
    "duration": 2361,
    "start_time": "2022-03-14T19:03:27.682Z"
   },
   {
    "duration": 32,
    "start_time": "2022-03-14T19:03:30.045Z"
   },
   {
    "duration": 264,
    "start_time": "2022-03-14T19:03:30.079Z"
   },
   {
    "duration": 295,
    "start_time": "2022-03-14T19:03:30.345Z"
   },
   {
    "duration": 793,
    "start_time": "2022-03-14T19:03:30.643Z"
   },
   {
    "duration": 2103,
    "start_time": "2022-03-14T19:03:31.438Z"
   },
   {
    "duration": 42,
    "start_time": "2022-03-14T19:03:33.542Z"
   },
   {
    "duration": 643,
    "start_time": "2022-03-14T19:03:33.586Z"
   },
   {
    "duration": 40,
    "start_time": "2022-03-14T19:03:34.231Z"
   },
   {
    "duration": 562,
    "start_time": "2022-03-14T19:03:34.273Z"
   },
   {
    "duration": 42,
    "start_time": "2022-03-14T19:03:34.836Z"
   },
   {
    "duration": 689,
    "start_time": "2022-03-14T19:03:34.880Z"
   },
   {
    "duration": 239,
    "start_time": "2022-03-14T19:03:35.571Z"
   },
   {
    "duration": 19,
    "start_time": "2022-03-14T19:03:35.812Z"
   },
   {
    "duration": 5,
    "start_time": "2022-03-14T19:03:35.833Z"
   },
   {
    "duration": 491,
    "start_time": "2022-03-14T19:03:35.839Z"
   },
   {
    "duration": 505,
    "start_time": "2022-03-14T19:03:36.332Z"
   },
   {
    "duration": 505,
    "start_time": "2022-03-14T19:03:36.839Z"
   },
   {
    "duration": 18,
    "start_time": "2022-03-14T19:03:37.346Z"
   },
   {
    "duration": 5,
    "start_time": "2022-03-14T19:03:37.365Z"
   },
   {
    "duration": 7,
    "start_time": "2022-03-14T19:03:37.372Z"
   },
   {
    "duration": 11,
    "start_time": "2022-03-14T19:03:37.381Z"
   },
   {
    "duration": 4,
    "start_time": "2022-03-14T19:03:37.393Z"
   },
   {
    "duration": 5,
    "start_time": "2022-03-14T19:03:37.399Z"
   },
   {
    "duration": 286,
    "start_time": "2022-03-14T19:07:55.567Z"
   },
   {
    "duration": 20,
    "start_time": "2022-03-14T19:08:05.798Z"
   },
   {
    "duration": 238,
    "start_time": "2022-03-14T19:08:09.514Z"
   },
   {
    "duration": 282,
    "start_time": "2022-03-14T19:08:24.036Z"
   }
  ],
  "kernelspec": {
   "display_name": "Python 3.9.7 ('base')",
   "language": "python",
   "name": "python3"
  },
  "language_info": {
   "codemirror_mode": {
    "name": "ipython",
    "version": 3
   },
   "file_extension": ".py",
   "mimetype": "text/x-python",
   "name": "python",
   "nbconvert_exporter": "python",
   "pygments_lexer": "ipython3",
   "version": "3.9.7"
  },
  "toc": {
   "base_numbering": 1,
   "nav_menu": {},
   "number_sections": true,
   "sideBar": true,
   "skip_h1_title": true,
   "title_cell": "Table of Contents",
   "title_sidebar": "Contents",
   "toc_cell": false,
   "toc_position": {},
   "toc_section_display": true,
   "toc_window_display": false
  },
  "vscode": {
   "interpreter": {
    "hash": "47bb262127e83f4e352f9a4661074feb316fd893d8b83e773ca2637ac59da0c2"
   }
  }
 },
 "nbformat": 4,
 "nbformat_minor": 5
}
