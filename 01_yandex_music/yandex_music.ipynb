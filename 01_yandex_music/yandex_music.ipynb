{
 "cells": [
  {
   "cell_type": "markdown",
   "metadata": {
    "id": "E0vqbgi9ay0H"
   },
   "source": [
    "# Яндекс.Музыка"
   ]
  },
  {
   "cell_type": "markdown",
   "metadata": {
    "id": "VUC88oWjTJw2"
   },
   "source": [
    "Сравнение Москвы и Петербурга окружено мифами. Например:\n",
    " * Москва — мегаполис, подчинённый жёсткому ритму рабочей недели;\n",
    " * Петербург — культурная столица, со своими вкусами.\n",
    "\n",
    "На данных Яндекс.Музыки мы сравним поведение пользователей двух столиц.\n",
    "\n",
    "**Цель исследования** — проверить три гипотезы:\n",
    "1. Активность пользователей зависит от дня недели. Причём в Москве и Петербурге это проявляется по-разному.\n",
    "2. В понедельник утром в Москве преобладают одни жанры, а в Петербурге — другие. Так же и вечером пятницы преобладают разные жанры — в зависимости от города. \n",
    "3. Москва и Петербург предпочитают разные жанры музыки. В Москве чаще слушают поп-музыку, в Петербурге — русский рэп.\n",
    "\n",
    "**План исследования**\n",
    "\n",
    " 1. Обзор данных.\n",
    " 2. Предобработка данных.\n",
    " 3. Проверка гипотез.\n",
    "\n"
   ]
  },
  {
   "cell_type": "markdown",
   "metadata": {
    "id": "Ml1hmfXC_Zcs"
   },
   "source": [
    "## Обзор данных\n",
    "\n",
    "Составим первое представление о данных Яндекс.Музыки."
   ]
  },
  {
   "cell_type": "code",
   "execution_count": 1,
   "metadata": {
    "id": "AXN7PHPN_Zcs"
   },
   "outputs": [],
   "source": [
    "# импорт библиотеки pandas\n",
    "\n",
    "import pandas as pd"
   ]
  },
  {
   "cell_type": "code",
   "execution_count": 3,
   "metadata": {
    "id": "fFVu7vqh_Zct"
   },
   "outputs": [],
   "source": [
    "# загрузим данные\n",
    "\n",
    "df = pd.read_csv('yandex_music_project.csv')"
   ]
  },
  {
   "cell_type": "code",
   "execution_count": 4,
   "metadata": {
    "id": "oWTVX3gW_Zct"
   },
   "outputs": [
    {
     "data": {
      "text/html": [
       "<div>\n",
       "<style scoped>\n",
       "    .dataframe tbody tr th:only-of-type {\n",
       "        vertical-align: middle;\n",
       "    }\n",
       "\n",
       "    .dataframe tbody tr th {\n",
       "        vertical-align: top;\n",
       "    }\n",
       "\n",
       "    .dataframe thead th {\n",
       "        text-align: right;\n",
       "    }\n",
       "</style>\n",
       "<table border=\"1\" class=\"dataframe\">\n",
       "  <thead>\n",
       "    <tr style=\"text-align: right;\">\n",
       "      <th></th>\n",
       "      <th>userID</th>\n",
       "      <th>Track</th>\n",
       "      <th>artist</th>\n",
       "      <th>genre</th>\n",
       "      <th>City</th>\n",
       "      <th>time</th>\n",
       "      <th>Day</th>\n",
       "    </tr>\n",
       "  </thead>\n",
       "  <tbody>\n",
       "    <tr>\n",
       "      <th>0</th>\n",
       "      <td>FFB692EC</td>\n",
       "      <td>Kamigata To Boots</td>\n",
       "      <td>The Mass Missile</td>\n",
       "      <td>rock</td>\n",
       "      <td>Saint-Petersburg</td>\n",
       "      <td>20:28:33</td>\n",
       "      <td>Wednesday</td>\n",
       "    </tr>\n",
       "    <tr>\n",
       "      <th>1</th>\n",
       "      <td>55204538</td>\n",
       "      <td>Delayed Because of Accident</td>\n",
       "      <td>Andreas Rönnberg</td>\n",
       "      <td>rock</td>\n",
       "      <td>Moscow</td>\n",
       "      <td>14:07:09</td>\n",
       "      <td>Friday</td>\n",
       "    </tr>\n",
       "    <tr>\n",
       "      <th>2</th>\n",
       "      <td>20EC38</td>\n",
       "      <td>Funiculì funiculà</td>\n",
       "      <td>Mario Lanza</td>\n",
       "      <td>pop</td>\n",
       "      <td>Saint-Petersburg</td>\n",
       "      <td>20:58:07</td>\n",
       "      <td>Wednesday</td>\n",
       "    </tr>\n",
       "    <tr>\n",
       "      <th>3</th>\n",
       "      <td>A3DD03C9</td>\n",
       "      <td>Dragons in the Sunset</td>\n",
       "      <td>Fire + Ice</td>\n",
       "      <td>folk</td>\n",
       "      <td>Saint-Petersburg</td>\n",
       "      <td>08:37:09</td>\n",
       "      <td>Monday</td>\n",
       "    </tr>\n",
       "    <tr>\n",
       "      <th>4</th>\n",
       "      <td>E2DC1FAE</td>\n",
       "      <td>Soul People</td>\n",
       "      <td>Space Echo</td>\n",
       "      <td>dance</td>\n",
       "      <td>Moscow</td>\n",
       "      <td>08:34:34</td>\n",
       "      <td>Monday</td>\n",
       "    </tr>\n",
       "    <tr>\n",
       "      <th>5</th>\n",
       "      <td>842029A1</td>\n",
       "      <td>Преданная</td>\n",
       "      <td>IMPERVTOR</td>\n",
       "      <td>rusrap</td>\n",
       "      <td>Saint-Petersburg</td>\n",
       "      <td>13:09:41</td>\n",
       "      <td>Friday</td>\n",
       "    </tr>\n",
       "    <tr>\n",
       "      <th>6</th>\n",
       "      <td>4CB90AA5</td>\n",
       "      <td>True</td>\n",
       "      <td>Roman Messer</td>\n",
       "      <td>dance</td>\n",
       "      <td>Moscow</td>\n",
       "      <td>13:00:07</td>\n",
       "      <td>Wednesday</td>\n",
       "    </tr>\n",
       "    <tr>\n",
       "      <th>7</th>\n",
       "      <td>F03E1C1F</td>\n",
       "      <td>Feeling This Way</td>\n",
       "      <td>Polina Griffith</td>\n",
       "      <td>dance</td>\n",
       "      <td>Moscow</td>\n",
       "      <td>20:47:49</td>\n",
       "      <td>Wednesday</td>\n",
       "    </tr>\n",
       "    <tr>\n",
       "      <th>8</th>\n",
       "      <td>8FA1D3BE</td>\n",
       "      <td>И вновь продолжается бой</td>\n",
       "      <td>NaN</td>\n",
       "      <td>ruspop</td>\n",
       "      <td>Moscow</td>\n",
       "      <td>09:17:40</td>\n",
       "      <td>Friday</td>\n",
       "    </tr>\n",
       "    <tr>\n",
       "      <th>9</th>\n",
       "      <td>E772D5C0</td>\n",
       "      <td>Pessimist</td>\n",
       "      <td>NaN</td>\n",
       "      <td>dance</td>\n",
       "      <td>Saint-Petersburg</td>\n",
       "      <td>21:20:49</td>\n",
       "      <td>Wednesday</td>\n",
       "    </tr>\n",
       "  </tbody>\n",
       "</table>\n",
       "</div>"
      ],
      "text/plain": [
       "     userID                        Track            artist   genre  \\\n",
       "0  FFB692EC            Kamigata To Boots  The Mass Missile    rock   \n",
       "1  55204538  Delayed Because of Accident  Andreas Rönnberg    rock   \n",
       "2    20EC38            Funiculì funiculà       Mario Lanza     pop   \n",
       "3  A3DD03C9        Dragons in the Sunset        Fire + Ice    folk   \n",
       "4  E2DC1FAE                  Soul People        Space Echo   dance   \n",
       "5  842029A1                    Преданная         IMPERVTOR  rusrap   \n",
       "6  4CB90AA5                         True      Roman Messer   dance   \n",
       "7  F03E1C1F             Feeling This Way   Polina Griffith   dance   \n",
       "8  8FA1D3BE     И вновь продолжается бой               NaN  ruspop   \n",
       "9  E772D5C0                    Pessimist               NaN   dance   \n",
       "\n",
       "             City        time        Day  \n",
       "0  Saint-Petersburg  20:28:33  Wednesday  \n",
       "1            Moscow  14:07:09     Friday  \n",
       "2  Saint-Petersburg  20:58:07  Wednesday  \n",
       "3  Saint-Petersburg  08:37:09     Monday  \n",
       "4            Moscow  08:34:34     Monday  \n",
       "5  Saint-Petersburg  13:09:41     Friday  \n",
       "6            Moscow  13:00:07  Wednesday  \n",
       "7            Moscow  20:47:49  Wednesday  \n",
       "8            Moscow  09:17:40     Friday  \n",
       "9  Saint-Petersburg  21:20:49  Wednesday  "
      ]
     },
     "metadata": {},
     "output_type": "display_data"
    }
   ],
   "source": [
    "# получим первые 10 строк таблицы\n",
    "\n",
    "display(df.head(10))"
   ]
  },
  {
   "cell_type": "code",
   "execution_count": 5,
   "metadata": {
    "id": "DSf2kIb-_Zct"
   },
   "outputs": [
    {
     "name": "stdout",
     "output_type": "stream",
     "text": [
      "<class 'pandas.core.frame.DataFrame'>\n",
      "RangeIndex: 65079 entries, 0 to 65078\n",
      "Data columns (total 7 columns):\n",
      " #   Column    Non-Null Count  Dtype \n",
      "---  ------    --------------  ----- \n",
      " 0     userID  65079 non-null  object\n",
      " 1   Track     63848 non-null  object\n",
      " 2   artist    57876 non-null  object\n",
      " 3   genre     63881 non-null  object\n",
      " 4     City    65079 non-null  object\n",
      " 5   time      65079 non-null  object\n",
      " 6   Day       65079 non-null  object\n",
      "dtypes: object(7)\n",
      "memory usage: 3.5+ MB\n"
     ]
    }
   ],
   "source": [
    "# посмотрим на общую информацию о данных\n",
    "\n",
    "df.info()"
   ]
  },
  {
   "cell_type": "markdown",
   "metadata": {
    "id": "TaQ2Iwbr_Zct"
   },
   "source": [
    "Итак, в таблице семь столбцов. Тип данных во всех столбцах — `object`.\n",
    "\n",
    "Согласно документации к данным:\n",
    "* `userID` — идентификатор пользователя;\n",
    "* `Track` — название трека;  \n",
    "* `artist` — имя исполнителя;\n",
    "* `genre` — название жанра;\n",
    "* `City` — город пользователя;\n",
    "* `time` — время начала прослушивания;\n",
    "* `Day` — день недели.\n",
    "\n",
    "В названиях колонок видны три нарушения стиля:\n",
    "1. Строчные буквы сочетаются с прописными.\n",
    "2. Встречаются пробелы.\n",
    "3. Вместо \"змеиного стиля\" парные слова написаны слитно.\n",
    "\n",
    "\n",
    "\n",
    "Количество значений в столбцах различается. Значит, в данных есть пропущенные значения.\n"
   ]
  },
  {
   "cell_type": "markdown",
   "metadata": {
    "id": "MCB6-dXG_Zct"
   },
   "source": [
    "**Выводы**\n",
    "\n",
    "В каждой строке таблицы — данные о прослушанном треке. Часть колонок описывает саму композицию: название, исполнителя и жанр. Остальные данные рассказывают о пользователе: из какого он города, когда он слушал музыку. \n",
    "\n",
    "Предварительно можно утверждать, что, данных достаточно для проверки гипотез. Но встречаются пропуски в данных, а в названиях колонок — расхождения с хорошим стилем.\n",
    "\n",
    "Чтобы двигаться дальше, нужно устранить проблемы в данных."
   ]
  },
  {
   "cell_type": "markdown",
   "metadata": {
    "id": "SjYF6Ub9_Zct"
   },
   "source": [
    "## Предобработка данных\n",
    "\n",
    "Исправим стиль в заголовках столбцов, исключим пропуски. Затем проверим данные на дубликаты."
   ]
  },
  {
   "cell_type": "markdown",
   "metadata": {
    "id": "dIaKXr29_Zct"
   },
   "source": [
    "### Стиль заголовков"
   ]
  },
  {
   "cell_type": "code",
   "execution_count": 6,
   "metadata": {
    "id": "oKOTdF_Q_Zct"
   },
   "outputs": [
    {
     "name": "stdout",
     "output_type": "stream",
     "text": [
      "Index(['  userID', 'Track', 'artist', 'genre', '  City  ', 'time', 'Day'], dtype='object')\n"
     ]
    }
   ],
   "source": [
    "# перечень названий столбцов\n",
    "\n",
    "print(df.columns)"
   ]
  },
  {
   "cell_type": "code",
   "execution_count": 7,
   "metadata": {
    "id": "ISlFqs5y_Zct"
   },
   "outputs": [],
   "source": [
    "# переименование столбцов\n",
    "\n",
    "df = df.rename(columns={'  userID':'user_id', 'Track':'track', '  City  ':'city', 'Day':'day'}) "
   ]
  },
  {
   "cell_type": "markdown",
   "metadata": {
    "id": "1dqbh00J_Zct"
   },
   "source": [
    "Проверим результат. Для этого ещё раз выведем на экран названия столбцов:"
   ]
  },
  {
   "cell_type": "code",
   "execution_count": 8,
   "metadata": {
    "id": "d4NOAmTW_Zct"
   },
   "outputs": [
    {
     "name": "stdout",
     "output_type": "stream",
     "text": [
      "Index(['user_id', 'track', 'artist', 'genre', 'city', 'time', 'day'], dtype='object')\n"
     ]
    }
   ],
   "source": [
    "# проверка результатов - перечень названий столбцов\n",
    "\n",
    "print(df.columns)"
   ]
  },
  {
   "cell_type": "markdown",
   "metadata": {
    "id": "5ISfbcfY_Zct"
   },
   "source": [
    "### Пропуски значений\n",
    "\n",
    "Сначала посчитаем, сколько в таблице пропущенных значений. "
   ]
  },
  {
   "cell_type": "code",
   "execution_count": 9,
   "metadata": {
    "id": "RskX29qr_Zct"
   },
   "outputs": [
    {
     "name": "stdout",
     "output_type": "stream",
     "text": [
      "user_id       0\n",
      "track      1231\n",
      "artist     7203\n",
      "genre      1198\n",
      "city          0\n",
      "time          0\n",
      "day           0\n",
      "dtype: int64\n"
     ]
    }
   ],
   "source": [
    "# подсчёт пропусков\n",
    "\n",
    "print(df.isna().sum())"
   ]
  },
  {
   "cell_type": "markdown",
   "metadata": {
    "id": "qubhgnlO_Zct"
   },
   "source": [
    "Не все пропущенные значения влияют на исследование. Так в `track` и `artist` пропуски не важны для вашей работы. Достаточно заменить их явными обозначениями.\n",
    "\n",
    "Но пропуски в `genre` могут помешать сравнению музыкальных вкусов в Москве и Санкт-Петербурге. На практике было бы правильно установить причину пропусков и восстановить данные. Такой возможности пока что нет. Придётся:\n",
    "* заполнить и эти пропуски явными обозначениями,\n",
    "* оценить, насколько они повредят расчётам. "
   ]
  },
  {
   "cell_type": "markdown",
   "metadata": {
    "id": "fSv2laPA_Zct"
   },
   "source": [
    "Заменим пропущенные значения в столбцах `track`, `artist` и `genre` на строку `'unknown'`. Для этого создадим список `columns_to_replace`, переберем его элементы циклом `for` и для каждого столбца выполним замену пропущенных значений:"
   ]
  },
  {
   "cell_type": "code",
   "execution_count": 10,
   "metadata": {
    "id": "KplB5qWs_Zct"
   },
   "outputs": [],
   "source": [
    "# перебор названий столбцов в цикле и замена пропущенных значений на 'unknown'\n",
    "\n",
    "columns_to_replace = ['track', 'artist', 'genre']\n",
    "for column in columns_to_replace:\n",
    "    df[column] = df[column].fillna('unknown')"
   ]
  },
  {
   "cell_type": "markdown",
   "metadata": {
    "id": "Ilsm-MZo_Zct"
   },
   "source": [
    "Убедимся, что в таблице не осталось пропусков. Для этого ещё раз посчитаем пропущенные значения."
   ]
  },
  {
   "cell_type": "code",
   "execution_count": 11,
   "metadata": {
    "id": "Tq4nYRX4_Zct"
   },
   "outputs": [
    {
     "name": "stdout",
     "output_type": "stream",
     "text": [
      "user_id    0\n",
      "track      0\n",
      "artist     0\n",
      "genre      0\n",
      "city       0\n",
      "time       0\n",
      "day        0\n",
      "dtype: int64\n"
     ]
    }
   ],
   "source": [
    "# подсчёт пропусков\n",
    "\n",
    "print(df.isna().sum())"
   ]
  },
  {
   "cell_type": "markdown",
   "metadata": {
    "id": "BWKRtBJ3_Zct"
   },
   "source": [
    "### Дубликаты\n",
    "\n",
    "Посчитаем явные дубликаты в таблице:"
   ]
  },
  {
   "cell_type": "code",
   "execution_count": 12,
   "metadata": {
    "id": "36eES_S0_Zct"
   },
   "outputs": [
    {
     "name": "stdout",
     "output_type": "stream",
     "text": [
      "3826\n"
     ]
    }
   ],
   "source": [
    "# подсчёт дубликатов\n",
    "\n",
    "print(df.duplicated().sum())"
   ]
  },
  {
   "cell_type": "code",
   "execution_count": 13,
   "metadata": {
    "id": "exFHq6tt_Zct"
   },
   "outputs": [],
   "source": [
    "# удаление явных дубликатов\n",
    "\n",
    "df = df.drop_duplicates().reset_index(drop=True)"
   ]
  },
  {
   "cell_type": "code",
   "execution_count": 14,
   "metadata": {
    "id": "-8PuNWQ0_Zct"
   },
   "outputs": [
    {
     "name": "stdout",
     "output_type": "stream",
     "text": [
      "0\n"
     ]
    }
   ],
   "source": [
    "# проверка на отсутствие дубликатов\n",
    "\n",
    "print(df.duplicated().sum())"
   ]
  },
  {
   "cell_type": "markdown",
   "metadata": {
    "id": "QlFBsxAr_Zct"
   },
   "source": [
    "Теперь избавимся от неявных дубликатов в колонке `genre`. Например, название одного и того же жанра может быть записано немного по-разному. Такие ошибки тоже повлияют на результат исследования."
   ]
  },
  {
   "cell_type": "markdown",
   "metadata": {
    "id": "eSjWwsOh_Zct"
   },
   "source": [
    "Выведим на экран список уникальных названий жанров, отсортированный в алфавитном порядке. Для этого:\n",
    "* извлекем нужный столбец датафрейма, \n",
    "* применим к нему метод сортировки,\n",
    "* для отсортированного столбца вызовем метод, который вернёт уникальные значения из столбца."
   ]
  },
  {
   "cell_type": "code",
   "execution_count": 15,
   "metadata": {
    "id": "JIUcqzZN_Zct"
   },
   "outputs": [
    {
     "name": "stdout",
     "output_type": "stream",
     "text": [
      "['acid' 'acoustic' 'action' 'adult' 'africa' 'afrikaans' 'alternative'\n",
      " 'alternativepunk' 'ambient' 'americana' 'animated' 'anime' 'arabesk'\n",
      " 'arabic' 'arena' 'argentinetango' 'art' 'audiobook' 'author' 'avantgarde'\n",
      " 'axé' 'baile' 'balkan' 'beats' 'bigroom' 'black' 'bluegrass' 'blues'\n",
      " 'bollywood' 'bossa' 'brazilian' 'breakbeat' 'breaks' 'broadway'\n",
      " 'cantautori' 'cantopop' 'canzone' 'caribbean' 'caucasian' 'celtic'\n",
      " 'chamber' 'chanson' 'children' 'chill' 'chinese' 'choral' 'christian'\n",
      " 'christmas' 'classical' 'classicmetal' 'club' 'colombian' 'comedy'\n",
      " 'conjazz' 'contemporary' 'country' 'cuban' 'dance' 'dancehall' 'dancepop'\n",
      " 'dark' 'death' 'deep' 'deutschrock' 'deutschspr' 'dirty' 'disco' 'dnb'\n",
      " 'documentary' 'downbeat' 'downtempo' 'drum' 'dub' 'dubstep' 'eastern'\n",
      " 'easy' 'electronic' 'electropop' 'emo' 'entehno' 'epicmetal' 'estrada'\n",
      " 'ethnic' 'eurofolk' 'european' 'experimental' 'extrememetal' 'fado'\n",
      " 'fairytail' 'film' 'fitness' 'flamenco' 'folk' 'folklore' 'folkmetal'\n",
      " 'folkrock' 'folktronica' 'forró' 'frankreich' 'französisch' 'french'\n",
      " 'funk' 'future' 'gangsta' 'garage' 'german' 'ghazal' 'gitarre' 'glitch'\n",
      " 'gospel' 'gothic' 'grime' 'grunge' 'gypsy' 'handsup' \"hard'n'heavy\"\n",
      " 'hardcore' 'hardstyle' 'hardtechno' 'hip' 'hip-hop' 'hiphop' 'historisch'\n",
      " 'holiday' 'hop' 'horror' 'house' 'hymn' 'idm' 'independent' 'indian'\n",
      " 'indie' 'indipop' 'industrial' 'inspirational' 'instrumental'\n",
      " 'international' 'irish' 'jam' 'japanese' 'jazz' 'jewish' 'jpop' 'jungle'\n",
      " 'k-pop' 'karadeniz' 'karaoke' 'kayokyoku' 'korean' 'laiko' 'latin'\n",
      " 'latino' 'leftfield' 'local' 'lounge' 'loungeelectronic' 'lovers'\n",
      " 'malaysian' 'mandopop' 'marschmusik' 'meditative' 'mediterranean'\n",
      " 'melodic' 'metal' 'metalcore' 'mexican' 'middle' 'minimal'\n",
      " 'miscellaneous' 'modern' 'mood' 'mpb' 'muslim' 'native' 'neoklassik'\n",
      " 'neue' 'new' 'newage' 'newwave' 'nu' 'nujazz' 'numetal' 'oceania' 'old'\n",
      " 'opera' 'orchestral' 'other' 'piano' 'podcasts' 'pop' 'popdance'\n",
      " 'popelectronic' 'popeurodance' 'poprussian' 'post' 'posthardcore'\n",
      " 'postrock' 'power' 'progmetal' 'progressive' 'psychedelic' 'punjabi'\n",
      " 'punk' 'quebecois' 'ragga' 'ram' 'rancheras' 'rap' 'rave' 'reggae'\n",
      " 'reggaeton' 'regional' 'relax' 'religious' 'retro' 'rhythm' 'rnb' 'rnr'\n",
      " 'rock' 'rockabilly' 'rockalternative' 'rockindie' 'rockother' 'romance'\n",
      " 'roots' 'ruspop' 'rusrap' 'rusrock' 'russian' 'salsa' 'samba' 'scenic'\n",
      " 'schlager' 'self' 'sertanejo' 'shanson' 'shoegazing' 'showtunes' 'singer'\n",
      " 'ska' 'skarock' 'slow' 'smooth' 'soft' 'soul' 'soulful' 'sound'\n",
      " 'soundtrack' 'southern' 'specialty' 'speech' 'spiritual' 'sport'\n",
      " 'stonerrock' 'surf' 'swing' 'synthpop' 'synthrock' 'sängerportrait'\n",
      " 'tango' 'tanzorchester' 'taraftar' 'tatar' 'tech' 'techno' 'teen'\n",
      " 'thrash' 'top' 'traditional' 'tradjazz' 'trance' 'tribal' 'trip'\n",
      " 'triphop' 'tropical' 'türk' 'türkçe' 'ukrrock' 'unknown' 'urban' 'uzbek'\n",
      " 'variété' 'vi' 'videogame' 'vocal' 'western' 'world' 'worldbeat' 'ïîï'\n",
      " 'электроника']\n"
     ]
    }
   ],
   "source": [
    "# Просмотр уникальных названий жанров\n",
    "\n",
    "print(df['genre'].sort_values().unique())"
   ]
  },
  {
   "cell_type": "markdown",
   "metadata": {
    "id": "qej-Qmuo_Zct"
   },
   "source": [
    "Просмотрим список и найдем неявные дубликаты названия `hiphop`. Это могут быть названия с ошибками или альтернативные названия того же жанра.\n",
    "\n",
    "Заметны следующие неявные дубликаты:\n",
    "* *hip*,\n",
    "* *hop*,\n",
    "* *hip-hop*.\n",
    "\n",
    "Чтобы очистить от них таблицу, напишем функцию `replace_wrong_genres()` с двумя параметрами: \n",
    "* `wrong_genres` — список дубликатов,\n",
    "* `correct_genre` — строка с правильным значением.\n",
    "\n",
    "Функция исправит колонку `genre` в таблице `df`: заменит каждое значение из списка `wrong_genres` на значение из `correct_genre`."
   ]
  },
  {
   "cell_type": "code",
   "execution_count": 16,
   "metadata": {
    "id": "ErNDkmns_Zct"
   },
   "outputs": [],
   "source": [
    "# Функция для замены неявных дубликатов\n",
    "\n",
    "def replace_wrong_genres(wrong_genres, correct_genre):\n",
    "    for words in wrong_genres:\n",
    "        df['genre'] = df['genre'].replace(wrong_genres, correct_genre)"
   ]
  },
  {
   "cell_type": "code",
   "execution_count": 17,
   "metadata": {
    "id": "YN5i2hpmSo09"
   },
   "outputs": [],
   "source": [
    "# Устранение неявных дубликатов\n",
    "\n",
    "wrong_genres = ['hip', 'hop', 'hip-hop']\n",
    "correct_genre = 'hiphop'\n",
    "\n",
    "replace_wrong_genres(wrong_genres, correct_genre)"
   ]
  },
  {
   "cell_type": "markdown",
   "metadata": {
    "id": "zQKF16_RG15m"
   },
   "source": [
    "Проверим, что заменили неправильные названия:\n",
    "\n",
    "*   hip\n",
    "*   hop\n",
    "*   hip-hop\n",
    "\n",
    "Выведим отсортированный список уникальных значений столбца `genre`:"
   ]
  },
  {
   "cell_type": "code",
   "execution_count": 18,
   "metadata": {
    "id": "wvixALnFG15m"
   },
   "outputs": [
    {
     "name": "stdout",
     "output_type": "stream",
     "text": [
      "['acid' 'acoustic' 'action' 'adult' 'africa' 'afrikaans' 'alternative'\n",
      " 'alternativepunk' 'ambient' 'americana' 'animated' 'anime' 'arabesk'\n",
      " 'arabic' 'arena' 'argentinetango' 'art' 'audiobook' 'author' 'avantgarde'\n",
      " 'axé' 'baile' 'balkan' 'beats' 'bigroom' 'black' 'bluegrass' 'blues'\n",
      " 'bollywood' 'bossa' 'brazilian' 'breakbeat' 'breaks' 'broadway'\n",
      " 'cantautori' 'cantopop' 'canzone' 'caribbean' 'caucasian' 'celtic'\n",
      " 'chamber' 'chanson' 'children' 'chill' 'chinese' 'choral' 'christian'\n",
      " 'christmas' 'classical' 'classicmetal' 'club' 'colombian' 'comedy'\n",
      " 'conjazz' 'contemporary' 'country' 'cuban' 'dance' 'dancehall' 'dancepop'\n",
      " 'dark' 'death' 'deep' 'deutschrock' 'deutschspr' 'dirty' 'disco' 'dnb'\n",
      " 'documentary' 'downbeat' 'downtempo' 'drum' 'dub' 'dubstep' 'eastern'\n",
      " 'easy' 'electronic' 'electropop' 'emo' 'entehno' 'epicmetal' 'estrada'\n",
      " 'ethnic' 'eurofolk' 'european' 'experimental' 'extrememetal' 'fado'\n",
      " 'fairytail' 'film' 'fitness' 'flamenco' 'folk' 'folklore' 'folkmetal'\n",
      " 'folkrock' 'folktronica' 'forró' 'frankreich' 'französisch' 'french'\n",
      " 'funk' 'future' 'gangsta' 'garage' 'german' 'ghazal' 'gitarre' 'glitch'\n",
      " 'gospel' 'gothic' 'grime' 'grunge' 'gypsy' 'handsup' \"hard'n'heavy\"\n",
      " 'hardcore' 'hardstyle' 'hardtechno' 'hiphop' 'historisch' 'holiday'\n",
      " 'horror' 'house' 'hymn' 'idm' 'independent' 'indian' 'indie' 'indipop'\n",
      " 'industrial' 'inspirational' 'instrumental' 'international' 'irish' 'jam'\n",
      " 'japanese' 'jazz' 'jewish' 'jpop' 'jungle' 'k-pop' 'karadeniz' 'karaoke'\n",
      " 'kayokyoku' 'korean' 'laiko' 'latin' 'latino' 'leftfield' 'local'\n",
      " 'lounge' 'loungeelectronic' 'lovers' 'malaysian' 'mandopop' 'marschmusik'\n",
      " 'meditative' 'mediterranean' 'melodic' 'metal' 'metalcore' 'mexican'\n",
      " 'middle' 'minimal' 'miscellaneous' 'modern' 'mood' 'mpb' 'muslim'\n",
      " 'native' 'neoklassik' 'neue' 'new' 'newage' 'newwave' 'nu' 'nujazz'\n",
      " 'numetal' 'oceania' 'old' 'opera' 'orchestral' 'other' 'piano' 'podcasts'\n",
      " 'pop' 'popdance' 'popelectronic' 'popeurodance' 'poprussian' 'post'\n",
      " 'posthardcore' 'postrock' 'power' 'progmetal' 'progressive' 'psychedelic'\n",
      " 'punjabi' 'punk' 'quebecois' 'ragga' 'ram' 'rancheras' 'rap' 'rave'\n",
      " 'reggae' 'reggaeton' 'regional' 'relax' 'religious' 'retro' 'rhythm'\n",
      " 'rnb' 'rnr' 'rock' 'rockabilly' 'rockalternative' 'rockindie' 'rockother'\n",
      " 'romance' 'roots' 'ruspop' 'rusrap' 'rusrock' 'russian' 'salsa' 'samba'\n",
      " 'scenic' 'schlager' 'self' 'sertanejo' 'shanson' 'shoegazing' 'showtunes'\n",
      " 'singer' 'ska' 'skarock' 'slow' 'smooth' 'soft' 'soul' 'soulful' 'sound'\n",
      " 'soundtrack' 'southern' 'specialty' 'speech' 'spiritual' 'sport'\n",
      " 'stonerrock' 'surf' 'swing' 'synthpop' 'synthrock' 'sängerportrait'\n",
      " 'tango' 'tanzorchester' 'taraftar' 'tatar' 'tech' 'techno' 'teen'\n",
      " 'thrash' 'top' 'traditional' 'tradjazz' 'trance' 'tribal' 'trip'\n",
      " 'triphop' 'tropical' 'türk' 'türkçe' 'ukrrock' 'unknown' 'urban' 'uzbek'\n",
      " 'variété' 'vi' 'videogame' 'vocal' 'western' 'world' 'worldbeat' 'ïîï'\n",
      " 'электроника']\n"
     ]
    }
   ],
   "source": [
    "# Проверка на неявные дубликаты\n",
    "\n",
    "print(df['genre'].sort_values().unique())"
   ]
  },
  {
   "cell_type": "markdown",
   "metadata": {
    "id": "jz6a9-7HQUDd"
   },
   "source": [
    "**Выводы**\n",
    "\n",
    "Предобработка обнаружила три проблемы в данных:\n",
    "\n",
    "- нарушения в стиле заголовков,\n",
    "- пропущенные значения,\n",
    "- дубликаты — явные и неявные.\n",
    "\n",
    "Мы исправили заголовки, чтобы упростить работу с таблицей. Без дубликатов исследование станет более точным.\n",
    "\n",
    "Пропущенные значения мы заменили на `'unknown'`. Ещё предстоит увидеть, не повредят ли исследованию пропуски в колонке `genre`.\n",
    "\n",
    "Теперь можно перейти к проверке гипотез. "
   ]
  },
  {
   "cell_type": "markdown",
   "metadata": {
    "id": "WttZHXH0SqKk"
   },
   "source": [
    "## Проверка гипотез"
   ]
  },
  {
   "cell_type": "markdown",
   "metadata": {
    "id": "Im936VVi_Zcu"
   },
   "source": [
    "### Сравнение поведения пользователей двух столиц"
   ]
  },
  {
   "cell_type": "markdown",
   "metadata": {
    "id": "nwt_MuaL_Zcu"
   },
   "source": [
    "Первая гипотеза утверждает, что пользователи по-разному слушают музыку в Москве и Санкт-Петербурге. Проверим это предположение по данным о трёх днях недели — понедельнике, среде и пятнице. Для этого:\n",
    "\n",
    "* Разделим пользователей Москвы и Санкт-Петербурга\n",
    "* Сравним, сколько треков послушала каждая группа пользователей в понедельник, среду и пятницу.\n"
   ]
  },
  {
   "cell_type": "code",
   "execution_count": 19,
   "metadata": {
    "id": "0_Qs96oh_Zcu"
   },
   "outputs": [
    {
     "name": "stdout",
     "output_type": "stream",
     "text": [
      "city\n",
      "Moscow              42741\n",
      "Saint-Petersburg    18512\n",
      "Name: user_id, dtype: int64\n"
     ]
    }
   ],
   "source": [
    "# Подсчёт прослушиваний в каждом городе\n",
    "\n",
    "print(df.groupby('city')['user_id'].count())"
   ]
  },
  {
   "cell_type": "markdown",
   "metadata": {
    "id": "dzli3w8o_Zcu"
   },
   "source": [
    "В Москве прослушиваний больше, чем в Петербурге. Из этого не следует, что московские пользователи чаще слушают музыку. Просто самих пользователей в Москве больше.\n"
   ]
  },
  {
   "cell_type": "code",
   "execution_count": 20,
   "metadata": {
    "id": "uZMKjiJz_Zcu"
   },
   "outputs": [
    {
     "name": "stdout",
     "output_type": "stream",
     "text": [
      "day\n",
      "Friday       21840\n",
      "Monday       21354\n",
      "Wednesday    18059\n",
      "Name: user_id, dtype: int64\n"
     ]
    }
   ],
   "source": [
    "# Подсчёт прослушиваний в каждый из трёх дней\n",
    "\n",
    "print(df.groupby('day')['user_id'].count())"
   ]
  },
  {
   "cell_type": "markdown",
   "metadata": {
    "id": "cC2tNrlL_Zcu"
   },
   "source": [
    "В среднем пользователи из двух городов менее активны по средам. Но картина может измениться, если рассмотреть каждый город в отдельности."
   ]
  },
  {
   "cell_type": "markdown",
   "metadata": {
    "id": "POzs8bGa_Zcu"
   },
   "source": [
    "Напишем функцию.\n",
    "\n",
    "Создадим функцию `number_tracks()`, которая посчитает прослушивания для заданного дня и города. Ей понадобятся два параметра:\n",
    "* день недели,\n",
    "* название города.\n",
    "\n",
    "В функции сохраним в переменную строки исходной таблицы, у которых значение:\n",
    "  * в колонке `day` равно параметру `day`,\n",
    "  * в колонке `city` равно параметру `city`.\n",
    "\n",
    "Для этого применим последовательную фильтрацию с логической индексацией.\n",
    "\n",
    "Затем посчитаем значения в столбце `user_id` получившейся таблицы. Результат сохраним в новую переменную. Вернем эту переменную из функции."
   ]
  },
  {
   "cell_type": "code",
   "execution_count": 21,
   "metadata": {
    "id": "Nz3GdQB1_Zcu"
   },
   "outputs": [],
   "source": [
    "# создание функции number_tracks\n",
    "\n",
    "def number_tracks(day, city):\n",
    "    track_list = df[df['day'] == day]\n",
    "    track_list = track_list[track_list['city'] == city]\n",
    "    track_list_count = track_list['user_id'].count()    \n",
    "    return track_list_count    "
   ]
  },
  {
   "cell_type": "code",
   "execution_count": 22,
   "metadata": {
    "id": "rJcRATNQ_Zcu"
   },
   "outputs": [
    {
     "data": {
      "text/plain": [
       "15740"
      ]
     },
     "execution_count": 22,
     "metadata": {},
     "output_type": "execute_result"
    }
   ],
   "source": [
    "# количество прослушиваний в Москве по понедельникам\n",
    "\n",
    "number_tracks('Monday', 'Moscow')"
   ]
  },
  {
   "cell_type": "code",
   "execution_count": 23,
   "metadata": {
    "id": "hq_ncZ5T_Zcu"
   },
   "outputs": [
    {
     "data": {
      "text/plain": [
       "5614"
      ]
     },
     "execution_count": 23,
     "metadata": {},
     "output_type": "execute_result"
    }
   ],
   "source": [
    "# количество прослушиваний в Санкт-Петербурге по понедельникам\n",
    "\n",
    "number_tracks('Monday', 'Saint-Petersburg')"
   ]
  },
  {
   "cell_type": "code",
   "execution_count": 24,
   "metadata": {
    "id": "_NTy2VPU_Zcu"
   },
   "outputs": [
    {
     "data": {
      "text/plain": [
       "11056"
      ]
     },
     "execution_count": 24,
     "metadata": {},
     "output_type": "execute_result"
    }
   ],
   "source": [
    "# количество прослушиваний в Москве по средам\n",
    "\n",
    "number_tracks('Wednesday', 'Moscow')"
   ]
  },
  {
   "cell_type": "code",
   "execution_count": 25,
   "metadata": {
    "id": "j2y3TAwo_Zcu"
   },
   "outputs": [
    {
     "data": {
      "text/plain": [
       "7003"
      ]
     },
     "execution_count": 25,
     "metadata": {},
     "output_type": "execute_result"
    }
   ],
   "source": [
    "# количество прослушиваний в Санкт-Петербурге по средам\n",
    "\n",
    "number_tracks('Wednesday', 'Saint-Petersburg')"
   ]
  },
  {
   "cell_type": "code",
   "execution_count": 26,
   "metadata": {
    "id": "vYDw5u_K_Zcu"
   },
   "outputs": [
    {
     "data": {
      "text/plain": [
       "15945"
      ]
     },
     "execution_count": 26,
     "metadata": {},
     "output_type": "execute_result"
    }
   ],
   "source": [
    "# количество прослушиваний в Москве по пятницам\n",
    "\n",
    "number_tracks('Friday', 'Moscow')"
   ]
  },
  {
   "cell_type": "code",
   "execution_count": 27,
   "metadata": {
    "id": "8_yzFtW3_Zcu"
   },
   "outputs": [
    {
     "data": {
      "text/plain": [
       "5895"
      ]
     },
     "execution_count": 27,
     "metadata": {},
     "output_type": "execute_result"
    }
   ],
   "source": [
    "# количество прослушиваний в Санкт-Петербурге по пятницам\n",
    "\n",
    "number_tracks('Friday', 'Saint-Petersburg')"
   ]
  },
  {
   "cell_type": "markdown",
   "metadata": {
    "id": "7QXffbO-_Zcu"
   },
   "source": [
    "Создадим c помощью конструктора `pd.DataFrame` таблицу, где\n",
    "* названия колонок — `['city', 'monday', 'wednesday', 'friday']`;\n",
    "* данные — результаты, которые мы получили с помощью `number_tracks`."
   ]
  },
  {
   "cell_type": "code",
   "execution_count": 28,
   "metadata": {
    "id": "APAcLpOr_Zcu"
   },
   "outputs": [
    {
     "data": {
      "text/html": [
       "<div>\n",
       "<style scoped>\n",
       "    .dataframe tbody tr th:only-of-type {\n",
       "        vertical-align: middle;\n",
       "    }\n",
       "\n",
       "    .dataframe tbody tr th {\n",
       "        vertical-align: top;\n",
       "    }\n",
       "\n",
       "    .dataframe thead th {\n",
       "        text-align: right;\n",
       "    }\n",
       "</style>\n",
       "<table border=\"1\" class=\"dataframe\">\n",
       "  <thead>\n",
       "    <tr style=\"text-align: right;\">\n",
       "      <th></th>\n",
       "      <th>city</th>\n",
       "      <th>monday</th>\n",
       "      <th>wednesday</th>\n",
       "      <th>friday</th>\n",
       "    </tr>\n",
       "  </thead>\n",
       "  <tbody>\n",
       "    <tr>\n",
       "      <th>0</th>\n",
       "      <td>Moscow</td>\n",
       "      <td>15740</td>\n",
       "      <td>11056</td>\n",
       "      <td>15945</td>\n",
       "    </tr>\n",
       "    <tr>\n",
       "      <th>1</th>\n",
       "      <td>Saint-Petersburg</td>\n",
       "      <td>5614</td>\n",
       "      <td>7003</td>\n",
       "      <td>5895</td>\n",
       "    </tr>\n",
       "  </tbody>\n",
       "</table>\n",
       "</div>"
      ],
      "text/plain": [
       "               city  monday  wednesday  friday\n",
       "0            Moscow   15740      11056   15945\n",
       "1  Saint-Petersburg    5614       7003    5895"
      ]
     },
     "metadata": {},
     "output_type": "display_data"
    }
   ],
   "source": [
    "# Таблица с результатами\n",
    "\n",
    "columns_name = ['city', 'monday', 'wednesday', 'friday']\n",
    "datas = [\n",
    "    ['Moscow', number_tracks('Monday', 'Moscow'), number_tracks('Wednesday', 'Moscow'),number_tracks('Friday', 'Moscow')],\n",
    "    ['Saint-Petersburg', number_tracks('Monday', 'Saint-Petersburg'), number_tracks('Wednesday', 'Saint-Petersburg'), number_tracks('Friday', 'Saint-Petersburg')]\n",
    "]\n",
    "df_table = pd.DataFrame(data=datas, columns=columns_name)\n",
    "display(df_table)"
   ]
  },
  {
   "cell_type": "markdown",
   "metadata": {
    "id": "-EgPIHYu_Zcu"
   },
   "source": [
    "**Выводы**\n",
    "\n",
    "Данные показывают разницу поведения пользователей:\n",
    "\n",
    "- В Москве пик прослушиваний приходится на понедельник и пятницу, а в среду заметен спад.\n",
    "- В Петербурге, наоборот, больше слушают музыку по средам. Активность в понедельник и пятницу здесь почти в равной мере уступает среде.\n",
    "\n",
    "Значит, данные говорят в пользу первой гипотезы."
   ]
  },
  {
   "cell_type": "markdown",
   "metadata": {
    "id": "atZAxtq4_Zcu"
   },
   "source": [
    "### Музыка в начале и в конце недели"
   ]
  },
  {
   "cell_type": "markdown",
   "metadata": {
    "id": "eXrQqXFH_Zcu"
   },
   "source": [
    "Согласно второй гипотезе, утром в понедельник в Москве преобладают одни жанры, а в Петербурге — другие. Так же и вечером пятницы преобладают разные жанры — в зависимости от города."
   ]
  },
  {
   "cell_type": "markdown",
   "metadata": {
    "id": "S8UcW6Hw_Zcu"
   },
   "source": [
    "Сохраним таблицы с данными в две переменные:\n",
    "* по Москве — в `moscow_general`;\n",
    "* по Санкт-Петербургу — в `spb_general`."
   ]
  },
  {
   "cell_type": "code",
   "execution_count": 29,
   "metadata": {
    "id": "qeaFfM_P_Zcu"
   },
   "outputs": [],
   "source": [
    "# получение таблицы moscow_general из тех строк таблицы df, \n",
    "# для которых значение в столбце 'city' равно 'Moscow'\n",
    "\n",
    "moscow_general = df[df['city'] == 'Moscow']"
   ]
  },
  {
   "cell_type": "code",
   "execution_count": 30,
   "metadata": {
    "id": "ORaVRKto_Zcu"
   },
   "outputs": [],
   "source": [
    "# получение таблицы spb_general из тех строк таблицы df,\n",
    "# для которых значение в столбце 'city' равно 'Saint-Petersburg'\n",
    "\n",
    "spb_general = df[df['city'] == 'Saint-Petersburg']"
   ]
  },
  {
   "cell_type": "markdown",
   "metadata": {
    "id": "MEJV-CX2_Zcu"
   },
   "source": [
    "Напишем функцию `genre_weekday()` с четырьмя параметрами:\n",
    "* таблица (датафрейм) с данными,\n",
    "* день недели,\n",
    "* начальная временная метка в формате 'hh:mm', \n",
    "* последняя временная метка в формате 'hh:mm'.\n",
    "\n",
    "Функция вернет информацию о топ-10 жанров тех треков, которые прослушивали в указанный день, в промежутке между двумя отметками времени."
   ]
  },
  {
   "cell_type": "code",
   "execution_count": 31,
   "metadata": {
    "id": "laJT9BYl_Zcu"
   },
   "outputs": [],
   "source": [
    "# создадим функции genre_weekday() с параметрами table, day, time1, time2\n",
    "\n",
    "def genre_weekday(table, day, time1, time2):\n",
    "    genre_df = table[table['day'] == day]\n",
    "    genre_df = genre_df[genre_df['time'] > time1]\n",
    "    genre_df = genre_df[genre_df['time'] < time2]\n",
    "    genre_df_count = genre_df.groupby('genre')['user_id'].count()\n",
    "    genre_df_sorted = genre_df_count.sort_values(ascending=False)\n",
    "    return genre_df_sorted.head(10)\n"
   ]
  },
  {
   "cell_type": "markdown",
   "metadata": {
    "id": "la2s2_PF_Zcu"
   },
   "source": [
    "Сравним результаты функции `genre_weekday()` для Москвы и Санкт-Петербурга в понедельник утром (с 7:00 до 11:00) и в пятницу вечером (с 17:00 до 23:00):"
   ]
  },
  {
   "cell_type": "code",
   "execution_count": 32,
   "metadata": {
    "id": "yz7itPUQ_Zcu"
   },
   "outputs": [
    {
     "data": {
      "text/plain": [
       "genre\n",
       "pop            781\n",
       "dance          549\n",
       "electronic     480\n",
       "rock           474\n",
       "hiphop         286\n",
       "ruspop         186\n",
       "world          181\n",
       "rusrap         175\n",
       "alternative    164\n",
       "unknown        161\n",
       "Name: user_id, dtype: int64"
      ]
     },
     "execution_count": 32,
     "metadata": {},
     "output_type": "execute_result"
    }
   ],
   "source": [
    "# вызов функции для утра понедельника в Москве \n",
    "\n",
    "genre_weekday(moscow_general, 'Monday', '07:00', '11:00')"
   ]
  },
  {
   "cell_type": "code",
   "execution_count": 33,
   "metadata": {
    "id": "kwUcHPdy_Zcu"
   },
   "outputs": [
    {
     "data": {
      "text/plain": [
       "genre\n",
       "pop            218\n",
       "dance          182\n",
       "rock           162\n",
       "electronic     147\n",
       "hiphop          80\n",
       "ruspop          64\n",
       "alternative     58\n",
       "rusrap          55\n",
       "jazz            44\n",
       "classical       40\n",
       "Name: user_id, dtype: int64"
      ]
     },
     "execution_count": 33,
     "metadata": {},
     "output_type": "execute_result"
    }
   ],
   "source": [
    "# вызов функции для утра понедельника в Петербурге\n",
    "\n",
    "genre_weekday(spb_general, 'Monday', '07:00', '11:00')"
   ]
  },
  {
   "cell_type": "code",
   "execution_count": 34,
   "metadata": {
    "id": "EzXVRE1o_Zcu"
   },
   "outputs": [
    {
     "data": {
      "text/plain": [
       "genre\n",
       "pop            717\n",
       "dance          524\n",
       "rock           518\n",
       "electronic     485\n",
       "hiphop         238\n",
       "alternative    182\n",
       "classical      172\n",
       "world          172\n",
       "ruspop         149\n",
       "rusrap         133\n",
       "Name: user_id, dtype: int64"
      ]
     },
     "execution_count": 34,
     "metadata": {},
     "output_type": "execute_result"
    }
   ],
   "source": [
    "# вызов функции для вечера пятницы в Москве\n",
    "\n",
    "genre_weekday(moscow_general, 'Monday', '17:00', '23:00')"
   ]
  },
  {
   "cell_type": "code",
   "execution_count": 35,
   "metadata": {
    "id": "JZaEKu5v_Zcu"
   },
   "outputs": [
    {
     "data": {
      "text/plain": [
       "genre\n",
       "pop            263\n",
       "rock           208\n",
       "electronic     192\n",
       "dance          191\n",
       "hiphop         104\n",
       "alternative     72\n",
       "classical       71\n",
       "jazz            57\n",
       "rusrap          54\n",
       "ruspop          53\n",
       "Name: user_id, dtype: int64"
      ]
     },
     "execution_count": 35,
     "metadata": {},
     "output_type": "execute_result"
    }
   ],
   "source": [
    "# вызов функции для вечера пятницы в Петербурге\n",
    "\n",
    "genre_weekday(spb_general, 'Monday', '17:00', '23:00')"
   ]
  },
  {
   "cell_type": "markdown",
   "metadata": {
    "id": "wrCe4MNX_Zcu"
   },
   "source": [
    "**Выводы**\n",
    "\n",
    "Если сравнить топ-10 жанров в понедельник утром, можно сделать такие выводы:\n",
    "\n",
    "1. В Москве и Петербурге слушают похожую музыку. Единственное отличие — в московский рейтинг вошёл жанр “world”, а в петербургский — джаз и классика.\n",
    "\n",
    "2. В Москве пропущенных значений оказалось так много, что значение `'unknown'` заняло десятое место среди самых популярных жанров. Значит, пропущенные значения занимают существенную долю в данных и угрожают достоверности исследования.\n",
    "\n",
    "Вечер пятницы не меняет эту картину. Некоторые жанры поднимаются немного выше, другие спускаются, но в целом топ-10 остаётся тем же самым.\n",
    "\n",
    "Таким образом, вторая гипотеза подтвердилась лишь частично:\n",
    "* Пользователи слушают похожую музыку в начале недели и в конце.\n",
    "* Разница между Москвой и Петербургом не слишком выражена. В Москве чаще слушают русскую популярную музыку, в Петербурге — джаз.\n",
    "\n",
    "Однако пропуски в данных ставят под сомнение этот результат. В Москве их так много, что рейтинг топ-10 мог бы выглядеть иначе, если бы не утерянные  данные о жанрах."
   ]
  },
  {
   "cell_type": "markdown",
   "metadata": {
    "id": "JolODAqr_Zcu"
   },
   "source": [
    "### Жанровые предпочтения в Москве и Петербурге\n",
    "\n",
    "Гипотеза: Петербург — столица рэпа, музыку этого жанра там слушают чаще, чем в Москве.  А Москва — город контрастов, в котором, тем не менее, преобладает поп-музыка."
   ]
  },
  {
   "cell_type": "markdown",
   "metadata": {
    "id": "DlegSvaT_Zcu"
   },
   "source": [
    "Сгруппируем таблицу `moscow_general` по жанру и посчитаем прослушивания треков каждого жанра методом `count()`. Затем отсортируем результат в порядке убывания и сохраним его в таблице `moscow_genres`."
   ]
  },
  {
   "cell_type": "code",
   "execution_count": 36,
   "metadata": {
    "id": "r19lIPke_Zcu"
   },
   "outputs": [],
   "source": [
    "# группировка таблицы moscow_general по столбцу 'genre', \n",
    "# подсчёт числа значений 'genre' в этой группировке методом count(), \n",
    "# сортировка получившегося Series в порядке убывания и сохранение в moscow_genres\n",
    "\n",
    "moscow_genres = moscow_general.groupby('genre')['genre'].count().sort_values(ascending=False)"
   ]
  },
  {
   "cell_type": "markdown",
   "metadata": {
    "id": "6kMuomxTiIr8"
   },
   "source": [
    "Выведем на экран первые десять строк `moscow_genres`:"
   ]
  },
  {
   "cell_type": "code",
   "execution_count": 37,
   "metadata": {
    "id": "WhCSooF8_Zcv"
   },
   "outputs": [
    {
     "data": {
      "text/plain": [
       "genre\n",
       "pop            5892\n",
       "dance          4435\n",
       "rock           3965\n",
       "electronic     3786\n",
       "hiphop         2096\n",
       "classical      1616\n",
       "world          1432\n",
       "alternative    1379\n",
       "ruspop         1372\n",
       "rusrap         1161\n",
       "Name: genre, dtype: int64"
      ]
     },
     "metadata": {},
     "output_type": "display_data"
    }
   ],
   "source": [
    "# просмотр первых 10 строк moscow_genres\n",
    "\n",
    "display(moscow_genres.head(10))"
   ]
  },
  {
   "cell_type": "markdown",
   "metadata": {
    "id": "cnPG2vnN_Zcv"
   },
   "source": [
    "Теперь повторим то же и для Петербурга.\n",
    "\n",
    "Сгруппируем таблицу `spb_general` по жанру. Посчитаем прослушивания треков каждого жанра. Результат отсортируем в порядке убывания и сохраним в таблице `spb_genres`:\n"
   ]
  },
  {
   "cell_type": "code",
   "execution_count": 38,
   "metadata": {
    "id": "gluLIpE7_Zcv"
   },
   "outputs": [],
   "source": [
    "# группировка таблицы spb_general по столбцу 'genre', \n",
    "# подсчёт числа значений 'genre' в этой группировке методом count(), \n",
    "# сортировка получившегося Series в порядке убывания и сохранение в spb_genres\n",
    "\n",
    "spb_genres = spb_general.groupby('genre')['genre'].count().sort_values(ascending=False)"
   ]
  },
  {
   "cell_type": "markdown",
   "metadata": {
    "id": "5Doha_ODgyQ8"
   },
   "source": [
    "Выведем на экран первые десять строк `spb_genres`:"
   ]
  },
  {
   "cell_type": "code",
   "execution_count": 39,
   "metadata": {
    "id": "uaGJHjVU_Zcv"
   },
   "outputs": [
    {
     "data": {
      "text/plain": [
       "genre\n",
       "pop            2431\n",
       "dance          1932\n",
       "rock           1879\n",
       "electronic     1736\n",
       "hiphop          960\n",
       "alternative     649\n",
       "classical       646\n",
       "rusrap          564\n",
       "ruspop          538\n",
       "world           515\n",
       "Name: genre, dtype: int64"
      ]
     },
     "metadata": {},
     "output_type": "display_data"
    }
   ],
   "source": [
    "# просмотр первых 10 строк spb_genres\n",
    "\n",
    "display(spb_genres.head(10))"
   ]
  },
  {
   "cell_type": "markdown",
   "metadata": {
    "id": "RY51YJYu_Zcv"
   },
   "source": [
    "**Выводы**"
   ]
  },
  {
   "cell_type": "markdown",
   "metadata": {
    "id": "nVhnJEm__Zcv"
   },
   "source": [
    "Гипотеза частично подтвердилась:\n",
    "* Поп-музыка — самый популярный жанр в Москве, как и предполагала гипотеза. Более того, в топ-10 жанров встречается близкий жанр — русская популярная музыка.\n",
    "* Вопреки ожиданиям, рэп одинаково популярен в Москве и Петербурге. \n"
   ]
  },
  {
   "cell_type": "markdown",
   "metadata": {
    "id": "ykKQ0N65_Zcv"
   },
   "source": [
    "## Итоги исследования"
   ]
  },
  {
   "cell_type": "markdown",
   "metadata": {
    "id": "tjUwbHb3_Zcv"
   },
   "source": [
    "Мы проверили три гипотезы и установили:\n",
    "\n",
    "1. День недели по-разному влияет на активность пользователей в Москве и Петербурге. \n",
    "\n",
    "Первая гипотеза полностью подтвердилась.\n",
    "\n",
    "2. Музыкальные предпочтения не сильно меняются в течение недели — будь то Москва или Петербург. Небольшие различия заметны в начале недели, по понедельникам:\n",
    "* в Москве слушают музыку жанра “world”,\n",
    "* в Петербурге — джаз и классику.\n",
    "\n",
    "Таким образом, вторая гипотеза подтвердилась лишь отчасти. Этот результат мог оказаться иным, если бы не пропуски в данных.\n",
    "\n",
    "3. Во вкусах пользователей Москвы и Петербурга больше общего чем различий. Вопреки ожиданиям, предпочтения жанров в Петербурге напоминают московские.\n",
    "\n",
    "Третья гипотеза не подтвердилась. Если различия в предпочтениях и существуют, на основной массе пользователей они незаметны."
   ]
  },
  {
   "cell_type": "markdown",
   "metadata": {},
   "source": []
  }
 ],
 "metadata": {
  "ExecuteTimeLog": [
   {
    "duration": 248,
    "start_time": "2021-12-24T05:42:14.417Z"
   },
   {
    "duration": 622,
    "start_time": "2021-12-24T05:42:16.482Z"
   },
   {
    "duration": 140,
    "start_time": "2021-12-24T05:42:24.296Z"
   },
   {
    "duration": 17,
    "start_time": "2021-12-24T05:42:58.691Z"
   },
   {
    "duration": 24,
    "start_time": "2021-12-24T05:43:57.287Z"
   },
   {
    "duration": 26,
    "start_time": "2021-12-24T05:44:23.236Z"
   },
   {
    "duration": 25,
    "start_time": "2021-12-24T05:44:31.229Z"
   },
   {
    "duration": 25,
    "start_time": "2021-12-24T05:44:34.234Z"
   },
   {
    "duration": 222,
    "start_time": "2021-12-24T07:56:28.475Z"
   },
   {
    "duration": 177,
    "start_time": "2021-12-24T07:56:50.621Z"
   },
   {
    "duration": 5,
    "start_time": "2021-12-24T07:58:08.605Z"
   },
   {
    "duration": 6,
    "start_time": "2021-12-24T07:58:22.501Z"
   },
   {
    "duration": 24,
    "start_time": "2021-12-24T08:01:54.416Z"
   },
   {
    "duration": 4,
    "start_time": "2021-12-24T08:02:07.313Z"
   },
   {
    "duration": 4,
    "start_time": "2021-12-24T08:06:18.374Z"
   },
   {
    "duration": 4,
    "start_time": "2021-12-24T08:06:30.754Z"
   },
   {
    "duration": 30,
    "start_time": "2021-12-24T08:08:03.955Z"
   },
   {
    "duration": 23,
    "start_time": "2021-12-24T08:08:29.861Z"
   },
   {
    "duration": 9,
    "start_time": "2021-12-24T08:09:01.252Z"
   },
   {
    "duration": 23,
    "start_time": "2021-12-24T08:09:29.777Z"
   },
   {
    "duration": 23,
    "start_time": "2021-12-24T08:09:52.718Z"
   },
   {
    "duration": 30,
    "start_time": "2021-12-24T08:18:45.110Z"
   },
   {
    "duration": 3,
    "start_time": "2021-12-24T08:20:27.090Z"
   },
   {
    "duration": 166,
    "start_time": "2021-12-24T08:20:29.177Z"
   },
   {
    "duration": 11,
    "start_time": "2021-12-24T08:20:32.005Z"
   },
   {
    "duration": 10,
    "start_time": "2021-12-24T08:20:41.697Z"
   },
   {
    "duration": 24,
    "start_time": "2021-12-24T08:20:44.849Z"
   },
   {
    "duration": 3,
    "start_time": "2021-12-24T08:20:48.610Z"
   },
   {
    "duration": 22,
    "start_time": "2021-12-24T08:20:51.830Z"
   },
   {
    "duration": 4,
    "start_time": "2021-12-24T08:20:53.360Z"
   },
   {
    "duration": 39,
    "start_time": "2021-12-24T08:21:08.885Z"
   },
   {
    "duration": 16,
    "start_time": "2021-12-24T08:25:05.922Z"
   },
   {
    "duration": 13,
    "start_time": "2021-12-24T08:25:37.505Z"
   },
   {
    "duration": 10,
    "start_time": "2021-12-24T08:26:38.300Z"
   },
   {
    "duration": 10,
    "start_time": "2021-12-24T08:27:20.282Z"
   },
   {
    "duration": 10,
    "start_time": "2021-12-24T08:27:33.193Z"
   },
   {
    "duration": 10,
    "start_time": "2021-12-24T08:28:10.376Z"
   },
   {
    "duration": 11,
    "start_time": "2021-12-24T08:28:46.263Z"
   },
   {
    "duration": 186,
    "start_time": "2021-12-24T08:31:26.908Z"
   },
   {
    "duration": 202,
    "start_time": "2021-12-24T08:33:30.154Z"
   },
   {
    "duration": 4,
    "start_time": "2021-12-24T08:33:46.146Z"
   },
   {
    "duration": 180,
    "start_time": "2021-12-24T10:38:15.786Z"
   },
   {
    "duration": 308,
    "start_time": "2021-12-24T10:38:29.448Z"
   },
   {
    "duration": 8,
    "start_time": "2021-12-24T10:40:18.573Z"
   },
   {
    "duration": 23,
    "start_time": "2021-12-24T10:40:40.868Z"
   },
   {
    "duration": 9,
    "start_time": "2021-12-24T10:41:30.287Z"
   },
   {
    "duration": 9,
    "start_time": "2021-12-24T10:41:40.542Z"
   },
   {
    "duration": 71,
    "start_time": "2021-12-24T10:43:21.670Z"
   },
   {
    "duration": 25,
    "start_time": "2021-12-24T10:43:26.226Z"
   },
   {
    "duration": 22,
    "start_time": "2021-12-24T10:43:41.250Z"
   },
   {
    "duration": 22,
    "start_time": "2021-12-24T10:55:23.558Z"
   },
   {
    "duration": 27,
    "start_time": "2021-12-24T10:56:02.555Z"
   },
   {
    "duration": 19,
    "start_time": "2021-12-24T10:56:21.639Z"
   },
   {
    "duration": 23,
    "start_time": "2021-12-24T10:56:25.178Z"
   },
   {
    "duration": 335,
    "start_time": "2021-12-24T13:50:49.486Z"
   },
   {
    "duration": 305,
    "start_time": "2021-12-24T13:51:15.978Z"
   },
   {
    "duration": 743,
    "start_time": "2021-12-24T13:51:58.342Z"
   },
   {
    "duration": 168,
    "start_time": "2021-12-24T13:51:59.088Z"
   },
   {
    "duration": 25,
    "start_time": "2021-12-24T13:51:59.259Z"
   },
   {
    "duration": 43,
    "start_time": "2021-12-24T13:51:59.287Z"
   },
   {
    "duration": 8,
    "start_time": "2021-12-24T13:51:59.332Z"
   },
   {
    "duration": 32,
    "start_time": "2021-12-24T13:51:59.343Z"
   },
   {
    "duration": 12,
    "start_time": "2021-12-24T13:51:59.378Z"
   },
   {
    "duration": 48,
    "start_time": "2021-12-24T13:51:59.394Z"
   },
   {
    "duration": 27,
    "start_time": "2021-12-24T13:51:59.445Z"
   },
   {
    "duration": 37,
    "start_time": "2021-12-24T13:51:59.474Z"
   },
   {
    "duration": 79,
    "start_time": "2021-12-24T13:51:59.514Z"
   },
   {
    "duration": 3,
    "start_time": "2021-12-24T13:51:59.596Z"
   },
   {
    "duration": 21,
    "start_time": "2021-12-24T13:51:59.602Z"
   },
   {
    "duration": 33,
    "start_time": "2021-12-24T13:51:59.625Z"
   },
   {
    "duration": 15,
    "start_time": "2021-12-24T13:51:59.660Z"
   },
   {
    "duration": 28,
    "start_time": "2021-12-24T13:51:59.677Z"
   },
   {
    "duration": 13,
    "start_time": "2021-12-24T13:51:59.707Z"
   },
   {
    "duration": 17,
    "start_time": "2021-12-24T13:51:59.722Z"
   },
   {
    "duration": 17,
    "start_time": "2021-12-24T13:51:59.741Z"
   },
   {
    "duration": 18,
    "start_time": "2021-12-24T13:51:59.760Z"
   },
   {
    "duration": 22,
    "start_time": "2021-12-24T13:51:59.781Z"
   },
   {
    "duration": 17,
    "start_time": "2021-12-24T13:51:59.805Z"
   },
   {
    "duration": 13,
    "start_time": "2021-12-24T13:51:59.827Z"
   },
   {
    "duration": 17,
    "start_time": "2021-12-24T13:51:59.842Z"
   },
   {
    "duration": 18,
    "start_time": "2021-12-24T13:51:59.862Z"
   },
   {
    "duration": 16,
    "start_time": "2021-12-24T13:51:59.882Z"
   },
   {
    "duration": 13,
    "start_time": "2021-12-24T13:51:59.900Z"
   },
   {
    "duration": 13,
    "start_time": "2021-12-24T13:51:59.915Z"
   },
   {
    "duration": 22,
    "start_time": "2021-12-24T13:51:59.930Z"
   },
   {
    "duration": 11,
    "start_time": "2021-12-24T13:51:59.954Z"
   },
   {
    "duration": 29,
    "start_time": "2021-12-24T13:51:59.967Z"
   },
   {
    "duration": 35,
    "start_time": "2021-12-24T13:51:59.998Z"
   },
   {
    "duration": 46,
    "start_time": "2021-12-24T13:52:00.036Z"
   },
   {
    "duration": 15,
    "start_time": "2021-12-24T13:52:00.084Z"
   },
   {
    "duration": 16,
    "start_time": "2021-12-24T13:52:00.101Z"
   },
   {
    "duration": 24,
    "start_time": "2021-12-24T13:52:00.120Z"
   },
   {
    "duration": 26,
    "start_time": "2021-12-24T13:52:00.147Z"
   },
   {
    "duration": 21,
    "start_time": "2021-12-24T13:52:00.176Z"
   },
   {
    "duration": 98,
    "start_time": "2021-12-24T14:13:53.864Z"
   },
   {
    "duration": 79,
    "start_time": "2021-12-24T14:14:05.299Z"
   },
   {
    "duration": 54,
    "start_time": "2021-12-24T14:25:24.668Z"
   },
   {
    "duration": 371,
    "start_time": "2021-12-24T14:25:34.798Z"
   },
   {
    "duration": 57,
    "start_time": "2021-12-24T14:25:51.488Z"
   },
   {
    "duration": 801,
    "start_time": "2021-12-24T15:54:34.865Z"
   },
   {
    "duration": 311,
    "start_time": "2021-12-24T16:09:20.336Z"
   },
   {
    "duration": 94,
    "start_time": "2021-12-24T16:09:22.911Z"
   },
   {
    "duration": 98,
    "start_time": "2021-12-24T16:09:50.049Z"
   },
   {
    "duration": 137,
    "start_time": "2021-12-24T16:10:32.588Z"
   },
   {
    "duration": 627,
    "start_time": "2021-12-24T16:11:02.582Z"
   },
   {
    "duration": 4,
    "start_time": "2021-12-24T16:11:10.643Z"
   },
   {
    "duration": 296,
    "start_time": "2021-12-24T16:11:13.232Z"
   },
   {
    "duration": 4,
    "start_time": "2021-12-24T16:11:30.612Z"
   },
   {
    "duration": 658,
    "start_time": "2021-12-24T16:11:33.003Z"
   },
   {
    "duration": 285,
    "start_time": "2021-12-24T16:12:53.516Z"
   },
   {
    "duration": 409,
    "start_time": "2021-12-24T16:13:02.900Z"
   },
   {
    "duration": 549,
    "start_time": "2021-12-24T16:13:33.945Z"
   },
   {
    "duration": 277,
    "start_time": "2021-12-24T16:13:43.191Z"
   },
   {
    "duration": 283,
    "start_time": "2021-12-24T16:14:17.076Z"
   },
   {
    "duration": 272,
    "start_time": "2021-12-24T16:15:21.680Z"
   },
   {
    "duration": 6,
    "start_time": "2021-12-24T16:15:24.329Z"
   },
   {
    "duration": 5,
    "start_time": "2021-12-24T16:15:26.810Z"
   },
   {
    "duration": 279,
    "start_time": "2021-12-24T16:15:29.036Z"
   },
   {
    "duration": 261,
    "start_time": "2021-12-24T16:19:42.343Z"
   },
   {
    "duration": 372,
    "start_time": "2021-12-24T16:20:15.580Z"
   },
   {
    "duration": 3,
    "start_time": "2021-12-24T16:22:43.228Z"
   },
   {
    "duration": 305,
    "start_time": "2021-12-25T08:09:13.606Z"
   },
   {
    "duration": 247,
    "start_time": "2021-12-25T08:10:10.020Z"
   },
   {
    "duration": 258,
    "start_time": "2021-12-25T08:10:28.323Z"
   },
   {
    "duration": 583,
    "start_time": "2021-12-25T08:12:46.533Z"
   },
   {
    "duration": 135,
    "start_time": "2021-12-25T08:12:47.118Z"
   },
   {
    "duration": 17,
    "start_time": "2021-12-25T08:12:47.255Z"
   },
   {
    "duration": 24,
    "start_time": "2021-12-25T08:12:47.274Z"
   },
   {
    "duration": 5,
    "start_time": "2021-12-25T08:12:47.300Z"
   },
   {
    "duration": 44,
    "start_time": "2021-12-25T08:12:47.307Z"
   },
   {
    "duration": 3,
    "start_time": "2021-12-25T08:12:47.353Z"
   },
   {
    "duration": 26,
    "start_time": "2021-12-25T08:12:47.358Z"
   },
   {
    "duration": 18,
    "start_time": "2021-12-25T08:12:47.386Z"
   },
   {
    "duration": 20,
    "start_time": "2021-12-25T08:12:47.405Z"
   },
   {
    "duration": 53,
    "start_time": "2021-12-25T08:12:47.441Z"
   },
   {
    "duration": 83,
    "start_time": "2021-12-25T08:12:47.496Z"
   },
   {
    "duration": 60,
    "start_time": "2021-12-25T08:12:47.581Z"
   },
   {
    "duration": 37,
    "start_time": "2021-12-25T08:12:47.643Z"
   },
   {
    "duration": -5073,
    "start_time": "2021-12-25T08:13:03.818Z"
   },
   {
    "duration": 6127,
    "start_time": "2021-12-25T08:13:10.818Z"
   },
   {
    "duration": 6528,
    "start_time": "2021-12-25T08:13:20.646Z"
   },
   {
    "duration": 5,
    "start_time": "2021-12-25T08:14:15.448Z"
   },
   {
    "duration": 40,
    "start_time": "2021-12-25T08:14:21.892Z"
   },
   {
    "duration": 87,
    "start_time": "2021-12-25T09:21:59.213Z"
   },
   {
    "duration": 86,
    "start_time": "2021-12-25T09:22:16.423Z"
   },
   {
    "duration": 241,
    "start_time": "2021-12-25T09:22:33.214Z"
   },
   {
    "duration": 3,
    "start_time": "2021-12-25T09:22:42.734Z"
   },
   {
    "duration": 4,
    "start_time": "2021-12-25T09:22:47.905Z"
   },
   {
    "duration": 3,
    "start_time": "2021-12-25T09:22:53.692Z"
   },
   {
    "duration": 3,
    "start_time": "2021-12-25T09:27:22.574Z"
   },
   {
    "duration": 3,
    "start_time": "2021-12-25T09:27:31.383Z"
   },
   {
    "duration": 233,
    "start_time": "2021-12-25T09:27:40.312Z"
   },
   {
    "duration": 2,
    "start_time": "2021-12-25T10:23:17.771Z"
   },
   {
    "duration": 137,
    "start_time": "2021-12-25T10:23:17.779Z"
   },
   {
    "duration": 26,
    "start_time": "2021-12-25T10:23:17.918Z"
   },
   {
    "duration": 31,
    "start_time": "2021-12-25T10:23:17.946Z"
   },
   {
    "duration": 15,
    "start_time": "2021-12-25T10:23:17.979Z"
   },
   {
    "duration": 37,
    "start_time": "2021-12-25T10:23:17.996Z"
   },
   {
    "duration": 3,
    "start_time": "2021-12-25T10:23:18.035Z"
   },
   {
    "duration": 32,
    "start_time": "2021-12-25T10:23:18.039Z"
   },
   {
    "duration": 29,
    "start_time": "2021-12-25T10:23:18.073Z"
   },
   {
    "duration": 19,
    "start_time": "2021-12-25T10:23:18.104Z"
   },
   {
    "duration": 65,
    "start_time": "2021-12-25T10:23:18.124Z"
   },
   {
    "duration": 56,
    "start_time": "2021-12-25T10:23:18.191Z"
   },
   {
    "duration": 49,
    "start_time": "2021-12-25T10:23:18.249Z"
   },
   {
    "duration": 49,
    "start_time": "2021-12-25T10:23:18.300Z"
   },
   {
    "duration": 4,
    "start_time": "2021-12-25T10:23:21.380Z"
   },
   {
    "duration": 4,
    "start_time": "2021-12-25T10:23:38.153Z"
   },
   {
    "duration": 3,
    "start_time": "2021-12-25T10:24:53.150Z"
   },
   {
    "duration": 4,
    "start_time": "2021-12-25T10:24:57.102Z"
   },
   {
    "duration": 3,
    "start_time": "2021-12-25T10:25:00.767Z"
   },
   {
    "duration": 3,
    "start_time": "2021-12-25T10:25:07.705Z"
   },
   {
    "duration": 3,
    "start_time": "2021-12-25T10:25:46.226Z"
   },
   {
    "duration": 3,
    "start_time": "2021-12-25T10:26:01.945Z"
   },
   {
    "duration": 4,
    "start_time": "2021-12-25T10:26:06.341Z"
   },
   {
    "duration": 4,
    "start_time": "2021-12-25T10:26:40.541Z"
   },
   {
    "duration": 4,
    "start_time": "2021-12-25T10:45:02.713Z"
   },
   {
    "duration": 4,
    "start_time": "2021-12-25T10:45:50.557Z"
   },
   {
    "duration": 4,
    "start_time": "2021-12-25T10:46:03.033Z"
   },
   {
    "duration": 4,
    "start_time": "2021-12-25T10:49:34.434Z"
   },
   {
    "duration": 4,
    "start_time": "2021-12-25T10:49:40.237Z"
   },
   {
    "duration": 4,
    "start_time": "2021-12-25T10:50:00.625Z"
   },
   {
    "duration": 258,
    "start_time": "2021-12-25T10:50:45.626Z"
   },
   {
    "duration": 4,
    "start_time": "2021-12-25T10:51:08.438Z"
   },
   {
    "duration": 3,
    "start_time": "2021-12-25T10:51:12.280Z"
   },
   {
    "duration": 3,
    "start_time": "2021-12-25T10:51:19.946Z"
   },
   {
    "duration": 2,
    "start_time": "2021-12-25T11:14:26.440Z"
   },
   {
    "duration": 227,
    "start_time": "2021-12-25T11:14:26.460Z"
   },
   {
    "duration": 9,
    "start_time": "2021-12-25T11:14:26.689Z"
   },
   {
    "duration": 25,
    "start_time": "2021-12-25T11:14:26.699Z"
   },
   {
    "duration": 5,
    "start_time": "2021-12-25T11:14:26.725Z"
   },
   {
    "duration": 19,
    "start_time": "2021-12-25T11:14:26.741Z"
   },
   {
    "duration": 3,
    "start_time": "2021-12-25T11:14:26.761Z"
   },
   {
    "duration": 23,
    "start_time": "2021-12-25T11:14:26.766Z"
   },
   {
    "duration": 17,
    "start_time": "2021-12-25T11:14:26.791Z"
   },
   {
    "duration": 36,
    "start_time": "2021-12-25T11:14:26.809Z"
   },
   {
    "duration": 51,
    "start_time": "2021-12-25T11:14:26.847Z"
   },
   {
    "duration": 70,
    "start_time": "2021-12-25T11:14:26.900Z"
   },
   {
    "duration": 52,
    "start_time": "2021-12-25T11:14:26.971Z"
   },
   {
    "duration": 45,
    "start_time": "2021-12-25T11:14:27.025Z"
   },
   {
    "duration": 4,
    "start_time": "2021-12-25T11:14:35.065Z"
   },
   {
    "duration": 247,
    "start_time": "2021-12-25T11:14:46.833Z"
   },
   {
    "duration": 288,
    "start_time": "2021-12-25T11:15:02.675Z"
   },
   {
    "duration": 88,
    "start_time": "2021-12-25T11:21:09.791Z"
   },
   {
    "duration": 37,
    "start_time": "2021-12-25T11:21:33.745Z"
   },
   {
    "duration": 49,
    "start_time": "2021-12-25T11:30:00.022Z"
   },
   {
    "duration": 16,
    "start_time": "2021-12-25T11:31:17.229Z"
   },
   {
    "duration": 39,
    "start_time": "2021-12-25T11:31:20.438Z"
   },
   {
    "duration": 2,
    "start_time": "2021-12-25T11:40:36.753Z"
   },
   {
    "duration": 124,
    "start_time": "2021-12-25T11:40:36.763Z"
   },
   {
    "duration": 9,
    "start_time": "2021-12-25T11:40:36.889Z"
   },
   {
    "duration": 22,
    "start_time": "2021-12-25T11:40:36.900Z"
   },
   {
    "duration": 3,
    "start_time": "2021-12-25T11:40:36.940Z"
   },
   {
    "duration": 17,
    "start_time": "2021-12-25T11:40:36.945Z"
   },
   {
    "duration": 3,
    "start_time": "2021-12-25T11:40:36.963Z"
   },
   {
    "duration": 22,
    "start_time": "2021-12-25T11:40:36.968Z"
   },
   {
    "duration": 16,
    "start_time": "2021-12-25T11:40:36.992Z"
   },
   {
    "duration": 47,
    "start_time": "2021-12-25T11:40:37.010Z"
   },
   {
    "duration": 50,
    "start_time": "2021-12-25T11:40:37.059Z"
   },
   {
    "duration": 70,
    "start_time": "2021-12-25T11:40:37.110Z"
   },
   {
    "duration": 47,
    "start_time": "2021-12-25T11:40:37.181Z"
   },
   {
    "duration": 44,
    "start_time": "2021-12-25T11:40:37.229Z"
   },
   {
    "duration": 2,
    "start_time": "2021-12-25T11:40:37.275Z"
   },
   {
    "duration": 14,
    "start_time": "2021-12-25T11:40:39.192Z"
   },
   {
    "duration": 35,
    "start_time": "2021-12-25T11:40:49.553Z"
   },
   {
    "duration": 3,
    "start_time": "2021-12-25T11:44:58.000Z"
   },
   {
    "duration": 31,
    "start_time": "2021-12-25T11:45:16.125Z"
   },
   {
    "duration": 31,
    "start_time": "2021-12-25T11:45:35.998Z"
   },
   {
    "duration": 30,
    "start_time": "2021-12-25T11:45:45.672Z"
   },
   {
    "duration": 9,
    "start_time": "2021-12-25T11:47:18.609Z"
   },
   {
    "duration": 12,
    "start_time": "2021-12-25T11:47:29.223Z"
   },
   {
    "duration": 80,
    "start_time": "2021-12-25T11:48:19.056Z"
   },
   {
    "duration": 84,
    "start_time": "2021-12-25T11:48:31.224Z"
   },
   {
    "duration": 245,
    "start_time": "2021-12-25T11:48:49.924Z"
   },
   {
    "duration": 27,
    "start_time": "2021-12-25T11:48:57.272Z"
   },
   {
    "duration": 88,
    "start_time": "2021-12-25T12:04:52.813Z"
   },
   {
    "duration": 4,
    "start_time": "2021-12-25T12:05:08.535Z"
   },
   {
    "duration": 370,
    "start_time": "2021-12-25T12:08:32.441Z"
   },
   {
    "duration": 249,
    "start_time": "2021-12-25T12:08:51.137Z"
   },
   {
    "duration": 229,
    "start_time": "2021-12-25T12:09:07.611Z"
   },
   {
    "duration": 75,
    "start_time": "2021-12-25T12:09:25.293Z"
   },
   {
    "duration": 17,
    "start_time": "2021-12-25T12:09:30.010Z"
   },
   {
    "duration": 16,
    "start_time": "2021-12-25T12:09:58.768Z"
   },
   {
    "duration": 18,
    "start_time": "2021-12-25T12:11:33.472Z"
   },
   {
    "duration": 14,
    "start_time": "2021-12-25T12:11:36.037Z"
   },
   {
    "duration": 15,
    "start_time": "2021-12-25T12:11:36.880Z"
   },
   {
    "duration": 14,
    "start_time": "2021-12-25T12:11:37.831Z"
   },
   {
    "duration": 17,
    "start_time": "2021-12-25T12:11:38.625Z"
   },
   {
    "duration": 23,
    "start_time": "2021-12-25T12:11:41.081Z"
   },
   {
    "duration": 278,
    "start_time": "2021-12-25T12:14:38.129Z"
   },
   {
    "duration": 249,
    "start_time": "2021-12-25T12:21:09.685Z"
   },
   {
    "duration": 233,
    "start_time": "2021-12-25T12:24:03.540Z"
   },
   {
    "duration": 490,
    "start_time": "2021-12-25T12:25:13.808Z"
   },
   {
    "duration": 483,
    "start_time": "2021-12-25T12:27:11.624Z"
   },
   {
    "duration": 402,
    "start_time": "2021-12-25T12:27:29.504Z"
   },
   {
    "duration": 274,
    "start_time": "2021-12-25T12:29:17.866Z"
   },
   {
    "duration": 323,
    "start_time": "2021-12-25T12:34:51.420Z"
   },
   {
    "duration": 355,
    "start_time": "2021-12-25T12:34:59.129Z"
   },
   {
    "duration": 67,
    "start_time": "2021-12-25T12:36:27.334Z"
   },
   {
    "duration": 341,
    "start_time": "2021-12-25T12:36:45.803Z"
   },
   {
    "duration": 374,
    "start_time": "2021-12-25T12:36:54.387Z"
   },
   {
    "duration": 310,
    "start_time": "2021-12-25T13:13:06.181Z"
   },
   {
    "duration": 90,
    "start_time": "2021-12-25T13:13:12.719Z"
   },
   {
    "duration": 317,
    "start_time": "2021-12-25T13:25:01.753Z"
   },
   {
    "duration": 99,
    "start_time": "2021-12-25T13:25:51.203Z"
   },
   {
    "duration": 317,
    "start_time": "2021-12-25T13:26:25.606Z"
   },
   {
    "duration": 302,
    "start_time": "2021-12-25T13:26:57.178Z"
   },
   {
    "duration": 61,
    "start_time": "2021-12-25T13:27:25.778Z"
   },
   {
    "duration": 17,
    "start_time": "2021-12-25T13:30:48.358Z"
   },
   {
    "duration": 14,
    "start_time": "2021-12-25T13:30:58.128Z"
   },
   {
    "duration": 10,
    "start_time": "2021-12-25T13:31:24.287Z"
   },
   {
    "duration": 15,
    "start_time": "2021-12-25T13:31:26.337Z"
   },
   {
    "duration": 10,
    "start_time": "2021-12-25T13:31:31.238Z"
   },
   {
    "duration": 305,
    "start_time": "2021-12-25T13:50:16.973Z"
   },
   {
    "duration": 4,
    "start_time": "2021-12-25T13:54:07.860Z"
   },
   {
    "duration": 3,
    "start_time": "2021-12-25T13:54:16.105Z"
   },
   {
    "duration": 144,
    "start_time": "2021-12-25T13:54:16.112Z"
   },
   {
    "duration": 9,
    "start_time": "2021-12-25T13:54:16.258Z"
   },
   {
    "duration": 25,
    "start_time": "2021-12-25T13:54:16.269Z"
   },
   {
    "duration": 2,
    "start_time": "2021-12-25T13:54:16.296Z"
   },
   {
    "duration": 54,
    "start_time": "2021-12-25T13:54:16.300Z"
   },
   {
    "duration": 3,
    "start_time": "2021-12-25T13:54:16.356Z"
   },
   {
    "duration": 28,
    "start_time": "2021-12-25T13:54:16.360Z"
   },
   {
    "duration": 18,
    "start_time": "2021-12-25T13:54:16.391Z"
   },
   {
    "duration": 46,
    "start_time": "2021-12-25T13:54:16.412Z"
   },
   {
    "duration": 55,
    "start_time": "2021-12-25T13:54:16.460Z"
   },
   {
    "duration": 75,
    "start_time": "2021-12-25T13:54:16.517Z"
   },
   {
    "duration": 55,
    "start_time": "2021-12-25T13:54:16.594Z"
   },
   {
    "duration": 38,
    "start_time": "2021-12-25T13:54:16.651Z"
   },
   {
    "duration": 3,
    "start_time": "2021-12-25T13:54:16.690Z"
   },
   {
    "duration": 15,
    "start_time": "2021-12-25T13:54:16.695Z"
   },
   {
    "duration": 60,
    "start_time": "2021-12-25T13:54:16.712Z"
   },
   {
    "duration": 29,
    "start_time": "2021-12-25T13:54:16.774Z"
   },
   {
    "duration": 48,
    "start_time": "2021-12-25T13:54:16.804Z"
   },
   {
    "duration": 3,
    "start_time": "2021-12-25T13:54:16.854Z"
   },
   {
    "duration": 22,
    "start_time": "2021-12-25T13:54:16.859Z"
   },
   {
    "duration": 12,
    "start_time": "2021-12-25T13:54:16.882Z"
   },
   {
    "duration": 15,
    "start_time": "2021-12-25T13:54:16.895Z"
   },
   {
    "duration": 33,
    "start_time": "2021-12-25T13:54:16.912Z"
   },
   {
    "duration": 16,
    "start_time": "2021-12-25T13:54:16.947Z"
   },
   {
    "duration": 13,
    "start_time": "2021-12-25T13:54:16.964Z"
   },
   {
    "duration": 86,
    "start_time": "2021-12-25T13:54:16.978Z"
   },
   {
    "duration": 12,
    "start_time": "2021-12-25T13:54:17.066Z"
   },
   {
    "duration": 11,
    "start_time": "2021-12-25T13:54:17.080Z"
   },
   {
    "duration": 4,
    "start_time": "2021-12-25T13:54:17.093Z"
   },
   {
    "duration": 741,
    "start_time": "2021-12-25T13:54:21.048Z"
   },
   {
    "duration": 4,
    "start_time": "2021-12-25T13:55:01.241Z"
   },
   {
    "duration": 370,
    "start_time": "2021-12-25T13:55:43.938Z"
   },
   {
    "duration": 5,
    "start_time": "2021-12-25T13:56:01.319Z"
   },
   {
    "duration": 4,
    "start_time": "2021-12-25T13:56:11.501Z"
   },
   {
    "duration": 4,
    "start_time": "2021-12-25T13:58:40.914Z"
   },
   {
    "duration": 506,
    "start_time": "2021-12-25T13:58:44.047Z"
   },
   {
    "duration": 325,
    "start_time": "2021-12-25T14:00:03.772Z"
   },
   {
    "duration": 4,
    "start_time": "2021-12-25T14:00:29.505Z"
   },
   {
    "duration": 515,
    "start_time": "2021-12-25T14:00:50.098Z"
   },
   {
    "duration": 4,
    "start_time": "2021-12-25T14:04:56.366Z"
   },
   {
    "duration": 595,
    "start_time": "2021-12-25T14:04:58.833Z"
   },
   {
    "duration": 312,
    "start_time": "2021-12-25T14:05:52.939Z"
   },
   {
    "duration": 15,
    "start_time": "2021-12-25T14:06:28.657Z"
   },
   {
    "duration": 287,
    "start_time": "2021-12-25T14:19:58.228Z"
   },
   {
    "duration": 255,
    "start_time": "2021-12-25T14:20:25.918Z"
   },
   {
    "duration": 20,
    "start_time": "2021-12-25T14:20:35.483Z"
   },
   {
    "duration": 93,
    "start_time": "2021-12-25T14:21:34.313Z"
   },
   {
    "duration": 249,
    "start_time": "2021-12-25T14:21:42.021Z"
   },
   {
    "duration": 4,
    "start_time": "2021-12-25T14:21:55.697Z"
   },
   {
    "duration": 529,
    "start_time": "2021-12-25T14:22:34.996Z"
   },
   {
    "duration": 10,
    "start_time": "2021-12-25T14:23:25.031Z"
   },
   {
    "duration": 4,
    "start_time": "2021-12-25T14:24:44.148Z"
   },
   {
    "duration": 517,
    "start_time": "2021-12-25T14:24:45.773Z"
   },
   {
    "duration": 3,
    "start_time": "2021-12-25T14:27:49.299Z"
   },
   {
    "duration": 513,
    "start_time": "2021-12-25T14:27:52.458Z"
   },
   {
    "duration": 4,
    "start_time": "2021-12-25T14:29:48.064Z"
   },
   {
    "duration": 795,
    "start_time": "2021-12-25T14:29:50.952Z"
   },
   {
    "duration": 4,
    "start_time": "2021-12-25T14:30:22.402Z"
   },
   {
    "duration": 668,
    "start_time": "2021-12-25T14:30:25.281Z"
   },
   {
    "duration": 5,
    "start_time": "2021-12-25T14:30:47.546Z"
   },
   {
    "duration": 524,
    "start_time": "2021-12-25T14:30:49.794Z"
   },
   {
    "duration": 5,
    "start_time": "2021-12-25T14:31:21.198Z"
   },
   {
    "duration": 512,
    "start_time": "2021-12-25T14:31:24.773Z"
   },
   {
    "duration": 4,
    "start_time": "2021-12-25T14:35:11.265Z"
   },
   {
    "duration": 5,
    "start_time": "2021-12-25T14:35:17.224Z"
   },
   {
    "duration": 594,
    "start_time": "2021-12-25T14:35:48.070Z"
   },
   {
    "duration": 557,
    "start_time": "2021-12-25T14:36:04.727Z"
   },
   {
    "duration": 4,
    "start_time": "2021-12-25T14:37:19.651Z"
   },
   {
    "duration": 542,
    "start_time": "2021-12-25T14:37:22.029Z"
   },
   {
    "duration": 6,
    "start_time": "2021-12-25T14:38:11.775Z"
   },
   {
    "duration": 395,
    "start_time": "2021-12-25T15:15:40.149Z"
   },
   {
    "duration": 4,
    "start_time": "2021-12-25T15:16:22.588Z"
   },
   {
    "duration": 5,
    "start_time": "2021-12-26T12:11:27.088Z"
   },
   {
    "duration": 342,
    "start_time": "2021-12-26T12:11:33.665Z"
   },
   {
    "duration": 641,
    "start_time": "2021-12-26T12:12:02.307Z"
   },
   {
    "duration": 152,
    "start_time": "2021-12-26T12:12:02.951Z"
   },
   {
    "duration": 19,
    "start_time": "2021-12-26T12:12:03.106Z"
   },
   {
    "duration": 39,
    "start_time": "2021-12-26T12:12:03.127Z"
   },
   {
    "duration": 3,
    "start_time": "2021-12-26T12:12:03.168Z"
   },
   {
    "duration": 28,
    "start_time": "2021-12-26T12:12:03.173Z"
   },
   {
    "duration": 11,
    "start_time": "2021-12-26T12:12:03.203Z"
   },
   {
    "duration": 33,
    "start_time": "2021-12-26T12:12:03.217Z"
   },
   {
    "duration": 18,
    "start_time": "2021-12-26T12:12:03.261Z"
   },
   {
    "duration": 22,
    "start_time": "2021-12-26T12:12:03.281Z"
   },
   {
    "duration": 82,
    "start_time": "2021-12-26T12:12:03.305Z"
   },
   {
    "duration": 80,
    "start_time": "2021-12-26T12:12:03.388Z"
   },
   {
    "duration": 50,
    "start_time": "2021-12-26T12:12:03.470Z"
   },
   {
    "duration": 49,
    "start_time": "2021-12-26T12:12:03.522Z"
   },
   {
    "duration": 3,
    "start_time": "2021-12-26T12:12:03.572Z"
   },
   {
    "duration": 23,
    "start_time": "2021-12-26T12:12:03.576Z"
   },
   {
    "duration": 67,
    "start_time": "2021-12-26T12:12:03.601Z"
   },
   {
    "duration": 31,
    "start_time": "2021-12-26T12:12:03.669Z"
   },
   {
    "duration": 28,
    "start_time": "2021-12-26T12:12:03.701Z"
   },
   {
    "duration": 3,
    "start_time": "2021-12-26T12:12:03.731Z"
   },
   {
    "duration": 18,
    "start_time": "2021-12-26T12:12:03.760Z"
   },
   {
    "duration": 14,
    "start_time": "2021-12-26T12:12:03.780Z"
   },
   {
    "duration": 20,
    "start_time": "2021-12-26T12:12:03.799Z"
   },
   {
    "duration": 49,
    "start_time": "2021-12-26T12:12:03.821Z"
   },
   {
    "duration": 24,
    "start_time": "2021-12-26T12:12:03.872Z"
   },
   {
    "duration": 21,
    "start_time": "2021-12-26T12:12:03.898Z"
   },
   {
    "duration": 94,
    "start_time": "2021-12-26T12:12:03.921Z"
   },
   {
    "duration": 10,
    "start_time": "2021-12-26T12:12:04.017Z"
   },
   {
    "duration": 9,
    "start_time": "2021-12-26T12:12:04.028Z"
   },
   {
    "duration": 22,
    "start_time": "2021-12-26T12:12:04.039Z"
   },
   {
    "duration": 542,
    "start_time": "2021-12-26T12:12:04.062Z"
   },
   {
    "duration": -83,
    "start_time": "2021-12-26T12:12:04.689Z"
   },
   {
    "duration": -92,
    "start_time": "2021-12-26T12:12:04.699Z"
   },
   {
    "duration": -103,
    "start_time": "2021-12-26T12:12:04.711Z"
   },
   {
    "duration": -109,
    "start_time": "2021-12-26T12:12:04.718Z"
   },
   {
    "duration": -117,
    "start_time": "2021-12-26T12:12:04.727Z"
   },
   {
    "duration": -124,
    "start_time": "2021-12-26T12:12:04.735Z"
   },
   {
    "duration": -133,
    "start_time": "2021-12-26T12:12:04.745Z"
   },
   {
    "duration": 4,
    "start_time": "2021-12-26T12:13:07.321Z"
   },
   {
    "duration": 24,
    "start_time": "2021-12-26T12:13:09.941Z"
   },
   {
    "duration": 24,
    "start_time": "2021-12-26T12:14:14.915Z"
   },
   {
    "duration": 17,
    "start_time": "2021-12-26T12:15:57.179Z"
   },
   {
    "duration": 4,
    "start_time": "2021-12-26T12:16:40.618Z"
   },
   {
    "duration": 668,
    "start_time": "2021-12-26T12:16:43.553Z"
   },
   {
    "duration": 4,
    "start_time": "2021-12-26T12:17:21.270Z"
   },
   {
    "duration": 510,
    "start_time": "2021-12-26T12:17:25.308Z"
   },
   {
    "duration": 4,
    "start_time": "2021-12-26T12:18:12.694Z"
   },
   {
    "duration": 554,
    "start_time": "2021-12-26T12:18:15.078Z"
   },
   {
    "duration": 4,
    "start_time": "2021-12-26T12:18:47.129Z"
   },
   {
    "duration": 24,
    "start_time": "2021-12-26T12:18:50.214Z"
   },
   {
    "duration": 17,
    "start_time": "2021-12-26T12:18:53.618Z"
   },
   {
    "duration": 17,
    "start_time": "2021-12-26T12:20:35.961Z"
   },
   {
    "duration": 26,
    "start_time": "2021-12-26T12:20:39.721Z"
   },
   {
    "duration": 17,
    "start_time": "2021-12-26T12:20:43.136Z"
   },
   {
    "duration": 19,
    "start_time": "2021-12-26T12:20:48.006Z"
   },
   {
    "duration": 17,
    "start_time": "2021-12-26T12:21:28.072Z"
   },
   {
    "duration": 4,
    "start_time": "2021-12-26T12:28:41.199Z"
   },
   {
    "duration": 693,
    "start_time": "2021-12-26T12:28:44.722Z"
   },
   {
    "duration": 6,
    "start_time": "2021-12-26T12:31:52.837Z"
   },
   {
    "duration": 548,
    "start_time": "2021-12-26T12:31:55.670Z"
   },
   {
    "duration": 5,
    "start_time": "2021-12-26T12:32:10.440Z"
   },
   {
    "duration": 675,
    "start_time": "2021-12-26T12:32:12.726Z"
   },
   {
    "duration": 4,
    "start_time": "2021-12-26T12:35:03.523Z"
   },
   {
    "duration": 4,
    "start_time": "2021-12-26T12:36:25.030Z"
   },
   {
    "duration": 672,
    "start_time": "2021-12-26T12:36:27.625Z"
   },
   {
    "duration": 4,
    "start_time": "2021-12-26T12:38:46.198Z"
   },
   {
    "duration": 650,
    "start_time": "2021-12-26T12:38:50.856Z"
   },
   {
    "duration": 7,
    "start_time": "2021-12-26T12:39:05.061Z"
   },
   {
    "duration": 804,
    "start_time": "2021-12-26T12:39:07.898Z"
   },
   {
    "duration": 5,
    "start_time": "2021-12-26T12:39:40.051Z"
   },
   {
    "duration": 20,
    "start_time": "2021-12-26T12:39:43.394Z"
   },
   {
    "duration": 21,
    "start_time": "2021-12-26T12:40:11.048Z"
   },
   {
    "duration": 20,
    "start_time": "2021-12-26T12:40:28.903Z"
   },
   {
    "duration": 22,
    "start_time": "2021-12-26T12:40:45.174Z"
   },
   {
    "duration": 14,
    "start_time": "2021-12-26T12:40:53.624Z"
   },
   {
    "duration": 18,
    "start_time": "2021-12-26T12:41:15.388Z"
   },
   {
    "duration": 14,
    "start_time": "2021-12-26T12:41:29.472Z"
   },
   {
    "duration": 305,
    "start_time": "2021-12-26T12:55:00.995Z"
   },
   {
    "duration": 9,
    "start_time": "2021-12-26T12:55:03.255Z"
   },
   {
    "duration": 5,
    "start_time": "2021-12-26T12:55:04.195Z"
   },
   {
    "duration": 8,
    "start_time": "2021-12-26T12:55:13.024Z"
   },
   {
    "duration": 5,
    "start_time": "2021-12-26T12:55:14.607Z"
   },
   {
    "duration": 7,
    "start_time": "2021-12-26T12:56:02.684Z"
   },
   {
    "duration": 8,
    "start_time": "2021-12-26T12:56:12.854Z"
   },
   {
    "duration": 5,
    "start_time": "2021-12-26T12:56:15.224Z"
   },
   {
    "duration": 9,
    "start_time": "2021-12-26T12:56:21.560Z"
   },
   {
    "duration": 5,
    "start_time": "2021-12-26T12:56:22.400Z"
   },
   {
    "duration": 259,
    "start_time": "2021-12-26T12:56:36.724Z"
   },
   {
    "duration": 257,
    "start_time": "2021-12-26T12:56:52.596Z"
   },
   {
    "duration": 9,
    "start_time": "2021-12-26T12:56:57.465Z"
   },
   {
    "duration": 5,
    "start_time": "2021-12-26T12:57:02.148Z"
   },
   {
    "duration": 270,
    "start_time": "2021-12-26T12:57:24.331Z"
   },
   {
    "duration": 5,
    "start_time": "2021-12-26T12:57:25.585Z"
   },
   {
    "duration": 8,
    "start_time": "2021-12-26T12:57:46.443Z"
   },
   {
    "duration": 5,
    "start_time": "2021-12-26T12:57:48.369Z"
   },
   {
    "duration": 262,
    "start_time": "2021-12-26T12:58:17.997Z"
   },
   {
    "duration": 8,
    "start_time": "2021-12-26T12:58:43.444Z"
   },
   {
    "duration": 5,
    "start_time": "2021-12-26T12:58:46.846Z"
   },
   {
    "duration": 3,
    "start_time": "2021-12-26T13:00:15.247Z"
   },
   {
    "duration": 168,
    "start_time": "2021-12-26T13:00:15.255Z"
   },
   {
    "duration": 11,
    "start_time": "2021-12-26T13:00:15.425Z"
   },
   {
    "duration": 66,
    "start_time": "2021-12-26T13:00:15.438Z"
   },
   {
    "duration": 13,
    "start_time": "2021-12-26T13:00:15.506Z"
   },
   {
    "duration": 22,
    "start_time": "2021-12-26T13:00:15.520Z"
   },
   {
    "duration": 3,
    "start_time": "2021-12-26T13:00:15.544Z"
   },
   {
    "duration": 40,
    "start_time": "2021-12-26T13:00:15.548Z"
   },
   {
    "duration": 48,
    "start_time": "2021-12-26T13:00:15.590Z"
   },
   {
    "duration": 54,
    "start_time": "2021-12-26T13:00:15.640Z"
   },
   {
    "duration": 75,
    "start_time": "2021-12-26T13:00:15.696Z"
   },
   {
    "duration": 64,
    "start_time": "2021-12-26T13:00:15.773Z"
   },
   {
    "duration": 68,
    "start_time": "2021-12-26T13:00:15.839Z"
   },
   {
    "duration": 52,
    "start_time": "2021-12-26T13:00:15.909Z"
   },
   {
    "duration": 6,
    "start_time": "2021-12-26T13:00:15.962Z"
   },
   {
    "duration": 29,
    "start_time": "2021-12-26T13:00:15.970Z"
   },
   {
    "duration": 53,
    "start_time": "2021-12-26T13:00:16.001Z"
   },
   {
    "duration": 60,
    "start_time": "2021-12-26T13:00:16.056Z"
   },
   {
    "duration": 30,
    "start_time": "2021-12-26T13:00:16.118Z"
   },
   {
    "duration": 9,
    "start_time": "2021-12-26T13:00:16.149Z"
   },
   {
    "duration": 48,
    "start_time": "2021-12-26T13:00:16.160Z"
   },
   {
    "duration": 24,
    "start_time": "2021-12-26T13:00:16.210Z"
   },
   {
    "duration": 30,
    "start_time": "2021-12-26T13:00:16.236Z"
   },
   {
    "duration": 25,
    "start_time": "2021-12-26T13:00:16.269Z"
   },
   {
    "duration": 19,
    "start_time": "2021-12-26T13:00:16.296Z"
   },
   {
    "duration": 23,
    "start_time": "2021-12-26T13:00:16.317Z"
   },
   {
    "duration": 72,
    "start_time": "2021-12-26T13:00:16.342Z"
   },
   {
    "duration": 10,
    "start_time": "2021-12-26T13:00:16.415Z"
   },
   {
    "duration": 22,
    "start_time": "2021-12-26T13:00:16.427Z"
   },
   {
    "duration": 17,
    "start_time": "2021-12-26T13:00:16.451Z"
   },
   {
    "duration": 39,
    "start_time": "2021-12-26T13:00:16.470Z"
   },
   {
    "duration": 34,
    "start_time": "2021-12-26T13:00:16.511Z"
   },
   {
    "duration": 46,
    "start_time": "2021-12-26T13:00:16.547Z"
   },
   {
    "duration": 57,
    "start_time": "2021-12-26T13:00:16.595Z"
   },
   {
    "duration": 29,
    "start_time": "2021-12-26T13:00:16.654Z"
   },
   {
    "duration": 21,
    "start_time": "2021-12-26T13:00:16.685Z"
   },
   {
    "duration": 7,
    "start_time": "2021-12-26T13:00:41.208Z"
   },
   {
    "duration": 6,
    "start_time": "2021-12-26T13:00:57.168Z"
   },
   {
    "duration": 5,
    "start_time": "2021-12-26T13:01:11.886Z"
   },
   {
    "duration": 2,
    "start_time": "2021-12-26T13:11:59.792Z"
   },
   {
    "duration": 144,
    "start_time": "2021-12-26T13:11:59.799Z"
   },
   {
    "duration": 19,
    "start_time": "2021-12-26T13:11:59.945Z"
   },
   {
    "duration": 28,
    "start_time": "2021-12-26T13:11:59.966Z"
   },
   {
    "duration": 7,
    "start_time": "2021-12-26T13:11:59.996Z"
   },
   {
    "duration": 30,
    "start_time": "2021-12-26T13:12:00.006Z"
   },
   {
    "duration": 24,
    "start_time": "2021-12-26T13:12:00.038Z"
   },
   {
    "duration": 34,
    "start_time": "2021-12-26T13:12:00.063Z"
   },
   {
    "duration": 23,
    "start_time": "2021-12-26T13:12:00.100Z"
   },
   {
    "duration": 52,
    "start_time": "2021-12-26T13:12:00.125Z"
   },
   {
    "duration": 67,
    "start_time": "2021-12-26T13:12:00.179Z"
   },
   {
    "duration": 74,
    "start_time": "2021-12-26T13:12:00.261Z"
   },
   {
    "duration": 72,
    "start_time": "2021-12-26T13:12:00.337Z"
   },
   {
    "duration": 55,
    "start_time": "2021-12-26T13:12:00.411Z"
   },
   {
    "duration": 6,
    "start_time": "2021-12-26T13:12:00.468Z"
   },
   {
    "duration": 18,
    "start_time": "2021-12-26T13:12:00.476Z"
   },
   {
    "duration": 53,
    "start_time": "2021-12-26T13:12:00.496Z"
   },
   {
    "duration": 41,
    "start_time": "2021-12-26T13:12:00.551Z"
   },
   {
    "duration": 35,
    "start_time": "2021-12-26T13:12:00.593Z"
   },
   {
    "duration": 3,
    "start_time": "2021-12-26T13:12:00.630Z"
   },
   {
    "duration": 43,
    "start_time": "2021-12-26T13:12:00.635Z"
   },
   {
    "duration": 17,
    "start_time": "2021-12-26T13:12:00.680Z"
   },
   {
    "duration": 23,
    "start_time": "2021-12-26T13:12:00.699Z"
   },
   {
    "duration": 15,
    "start_time": "2021-12-26T13:12:00.726Z"
   },
   {
    "duration": 36,
    "start_time": "2021-12-26T13:12:00.743Z"
   },
   {
    "duration": 18,
    "start_time": "2021-12-26T13:12:00.781Z"
   },
   {
    "duration": 106,
    "start_time": "2021-12-26T13:12:00.802Z"
   },
   {
    "duration": 15,
    "start_time": "2021-12-26T13:12:00.910Z"
   },
   {
    "duration": 12,
    "start_time": "2021-12-26T13:12:00.927Z"
   },
   {
    "duration": 19,
    "start_time": "2021-12-26T13:12:00.941Z"
   },
   {
    "duration": 30,
    "start_time": "2021-12-26T13:12:00.962Z"
   },
   {
    "duration": 17,
    "start_time": "2021-12-26T13:12:00.994Z"
   },
   {
    "duration": 26,
    "start_time": "2021-12-26T13:12:01.013Z"
   },
   {
    "duration": 21,
    "start_time": "2021-12-26T13:12:01.041Z"
   },
   {
    "duration": 9,
    "start_time": "2021-12-26T13:12:01.064Z"
   },
   {
    "duration": 6,
    "start_time": "2021-12-26T13:12:01.075Z"
   },
   {
    "duration": 12,
    "start_time": "2021-12-26T13:12:01.083Z"
   },
   {
    "duration": 20,
    "start_time": "2021-12-26T13:12:01.097Z"
   },
   {
    "duration": 777,
    "start_time": "2021-12-27T08:25:00.414Z"
   },
   {
    "duration": 186,
    "start_time": "2021-12-27T08:25:01.194Z"
   },
   {
    "duration": 44,
    "start_time": "2021-12-27T08:25:01.384Z"
   },
   {
    "duration": 34,
    "start_time": "2021-12-27T08:25:01.431Z"
   },
   {
    "duration": 10,
    "start_time": "2021-12-27T08:25:01.468Z"
   },
   {
    "duration": 49,
    "start_time": "2021-12-27T08:25:01.480Z"
   },
   {
    "duration": 5,
    "start_time": "2021-12-27T08:25:01.531Z"
   },
   {
    "duration": 33,
    "start_time": "2021-12-27T08:25:01.541Z"
   },
   {
    "duration": 56,
    "start_time": "2021-12-27T08:25:01.578Z"
   },
   {
    "duration": 30,
    "start_time": "2021-12-27T08:25:01.637Z"
   },
   {
    "duration": 107,
    "start_time": "2021-12-27T08:25:01.669Z"
   },
   {
    "duration": 93,
    "start_time": "2021-12-27T08:25:01.778Z"
   },
   {
    "duration": 78,
    "start_time": "2021-12-27T08:25:01.874Z"
   },
   {
    "duration": 54,
    "start_time": "2021-12-27T08:25:01.954Z"
   },
   {
    "duration": 3,
    "start_time": "2021-12-27T08:25:02.024Z"
   },
   {
    "duration": 22,
    "start_time": "2021-12-27T08:25:02.030Z"
   },
   {
    "duration": 74,
    "start_time": "2021-12-27T08:25:02.055Z"
   },
   {
    "duration": 38,
    "start_time": "2021-12-27T08:25:02.131Z"
   },
   {
    "duration": 59,
    "start_time": "2021-12-27T08:25:02.172Z"
   },
   {
    "duration": 5,
    "start_time": "2021-12-27T08:25:02.233Z"
   },
   {
    "duration": 27,
    "start_time": "2021-12-27T08:25:02.240Z"
   },
   {
    "duration": 17,
    "start_time": "2021-12-27T08:25:02.269Z"
   },
   {
    "duration": 43,
    "start_time": "2021-12-27T08:25:02.291Z"
   },
   {
    "duration": 17,
    "start_time": "2021-12-27T08:25:02.337Z"
   },
   {
    "duration": 20,
    "start_time": "2021-12-27T08:25:02.357Z"
   },
   {
    "duration": 50,
    "start_time": "2021-12-27T08:25:02.379Z"
   },
   {
    "duration": 102,
    "start_time": "2021-12-27T08:25:02.431Z"
   },
   {
    "duration": 13,
    "start_time": "2021-12-27T08:25:02.536Z"
   },
   {
    "duration": 11,
    "start_time": "2021-12-27T08:25:02.551Z"
   },
   {
    "duration": 7,
    "start_time": "2021-12-27T08:25:02.564Z"
   },
   {
    "duration": 55,
    "start_time": "2021-12-27T08:25:02.573Z"
   },
   {
    "duration": 15,
    "start_time": "2021-12-27T08:25:02.631Z"
   },
   {
    "duration": 22,
    "start_time": "2021-12-27T08:25:02.649Z"
   },
   {
    "duration": 57,
    "start_time": "2021-12-27T08:25:02.674Z"
   },
   {
    "duration": 13,
    "start_time": "2021-12-27T08:25:02.733Z"
   },
   {
    "duration": 7,
    "start_time": "2021-12-27T08:25:02.749Z"
   },
   {
    "duration": 11,
    "start_time": "2021-12-27T08:25:02.759Z"
   },
   {
    "duration": 51,
    "start_time": "2021-12-27T08:25:02.772Z"
   },
   {
    "duration": 377,
    "start_time": "2021-12-27T08:40:41.866Z"
   },
   {
    "duration": 614,
    "start_time": "2021-12-27T08:40:46.320Z"
   },
   {
    "duration": 127,
    "start_time": "2021-12-27T08:40:46.936Z"
   },
   {
    "duration": 15,
    "start_time": "2021-12-27T08:40:47.065Z"
   },
   {
    "duration": 22,
    "start_time": "2021-12-27T08:40:47.082Z"
   },
   {
    "duration": 4,
    "start_time": "2021-12-27T08:40:47.105Z"
   },
   {
    "duration": 34,
    "start_time": "2021-12-27T08:40:47.110Z"
   },
   {
    "duration": 3,
    "start_time": "2021-12-27T08:40:47.145Z"
   },
   {
    "duration": 22,
    "start_time": "2021-12-27T08:40:47.150Z"
   },
   {
    "duration": 14,
    "start_time": "2021-12-27T08:40:47.174Z"
   },
   {
    "duration": 38,
    "start_time": "2021-12-27T08:40:47.189Z"
   },
   {
    "duration": 52,
    "start_time": "2021-12-27T08:40:47.229Z"
   },
   {
    "duration": 74,
    "start_time": "2021-12-27T08:40:47.283Z"
   },
   {
    "duration": 47,
    "start_time": "2021-12-27T08:40:47.359Z"
   },
   {
    "duration": 49,
    "start_time": "2021-12-27T08:40:47.408Z"
   },
   {
    "duration": 2,
    "start_time": "2021-12-27T08:40:47.459Z"
   },
   {
    "duration": 19,
    "start_time": "2021-12-27T08:40:47.463Z"
   },
   {
    "duration": 48,
    "start_time": "2021-12-27T08:40:47.483Z"
   },
   {
    "duration": 10,
    "start_time": "2021-12-27T08:40:49.706Z"
   },
   {
    "duration": 10,
    "start_time": "2021-12-27T08:41:12.018Z"
   },
   {
    "duration": 10,
    "start_time": "2021-12-27T08:41:16.866Z"
   },
   {
    "duration": 10,
    "start_time": "2021-12-27T08:41:26.586Z"
   },
   {
    "duration": 10,
    "start_time": "2021-12-27T08:42:29.513Z"
   },
   {
    "duration": 14,
    "start_time": "2021-12-27T08:42:34.146Z"
   },
   {
    "duration": 29,
    "start_time": "2021-12-27T08:42:42.208Z"
   },
   {
    "duration": 10,
    "start_time": "2021-12-27T08:43:03.112Z"
   },
   {
    "duration": 9,
    "start_time": "2021-12-27T08:56:38.531Z"
   }
  ],
  "colab": {
   "collapsed_sections": [
    "E0vqbgi9ay0H",
    "VUC88oWjTJw2"
   ],
   "name": "yandex_music_project_2021.2.ipynb",
   "provenance": []
  },
  "kernelspec": {
   "display_name": "Python 3.9.7 ('base')",
   "language": "python",
   "name": "python3"
  },
  "language_info": {
   "codemirror_mode": {
    "name": "ipython",
    "version": 3
   },
   "file_extension": ".py",
   "mimetype": "text/x-python",
   "name": "python",
   "nbconvert_exporter": "python",
   "pygments_lexer": "ipython3",
   "version": "3.9.7"
  },
  "toc": {
   "base_numbering": 1,
   "nav_menu": {},
   "number_sections": false,
   "sideBar": true,
   "skip_h1_title": false,
   "title_cell": "Table of Contents",
   "title_sidebar": "Contents",
   "toc_cell": false,
   "toc_position": {
    "height": "calc(100% - 180px)",
    "left": "10px",
    "top": "150px",
    "width": "179px"
   },
   "toc_section_display": true,
   "toc_window_display": false
  },
  "vscode": {
   "interpreter": {
    "hash": "47bb262127e83f4e352f9a4661074feb316fd893d8b83e773ca2637ac59da0c2"
   }
  }
 },
 "nbformat": 4,
 "nbformat_minor": 1
}
