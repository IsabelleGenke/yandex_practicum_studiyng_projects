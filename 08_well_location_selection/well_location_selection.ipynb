{
 "cells": [
  {
   "cell_type": "markdown",
   "metadata": {},
   "source": [
    "# Выбор локации для скважины"
   ]
  },
  {
   "cell_type": "markdown",
   "metadata": {},
   "source": [
    "Мы работаем в добывающей компании «ГлавРосГосНефть». Нужно решить, где бурить новую скважину.\n",
    "\n",
    "Нам предоставлены пробы нефти в трёх регионах: в каждом 10 000 месторождений, где измерили качество нефти и объём её запасов. Необходимо построить модель машинного обучения, которая поможет определить регион, где добыча принесёт наибольшую прибыль. \n",
    "\n",
    "**Цель проекта:**\n",
    "- определить регион с наименьшими рисками убытков"
   ]
  },
  {
   "cell_type": "markdown",
   "metadata": {},
   "source": [
    "**Описание данных**\n",
    "\n",
    "- id — уникальный идентификатор скважины;\n",
    "- f0, f1, f2 — три признака точек (неважно, что они означают, но сами признаки значимы);\n",
    "- product — объём запасов в скважине (тыс. баррелей)."
   ]
  },
  {
   "cell_type": "markdown",
   "metadata": {},
   "source": [
    "## Загрузка и подготовка данных"
   ]
  },
  {
   "cell_type": "markdown",
   "metadata": {},
   "source": [
    "### Общая информация"
   ]
  },
  {
   "cell_type": "code",
   "execution_count": 19,
   "metadata": {},
   "outputs": [],
   "source": [
    "# импортируем библиотеки\n",
    "\n",
    "import pandas as pd\n",
    "import numpy as np\n",
    "\n",
    "from sklearn.linear_model import LinearRegression\n",
    "from sklearn.model_selection import train_test_split\n",
    "from sklearn.metrics import mean_squared_error"
   ]
  },
  {
   "cell_type": "code",
   "execution_count": 20,
   "metadata": {
    "scrolled": false
   },
   "outputs": [
    {
     "data": {
      "text/html": [
       "<div>\n",
       "<style scoped>\n",
       "    .dataframe tbody tr th:only-of-type {\n",
       "        vertical-align: middle;\n",
       "    }\n",
       "\n",
       "    .dataframe tbody tr th {\n",
       "        vertical-align: top;\n",
       "    }\n",
       "\n",
       "    .dataframe thead th {\n",
       "        text-align: right;\n",
       "    }\n",
       "</style>\n",
       "<table border=\"1\" class=\"dataframe\">\n",
       "  <thead>\n",
       "    <tr style=\"text-align: right;\">\n",
       "      <th></th>\n",
       "      <th>id</th>\n",
       "      <th>f0</th>\n",
       "      <th>f1</th>\n",
       "      <th>f2</th>\n",
       "      <th>product</th>\n",
       "    </tr>\n",
       "  </thead>\n",
       "  <tbody>\n",
       "    <tr>\n",
       "      <th>0</th>\n",
       "      <td>txEyH</td>\n",
       "      <td>0.705745</td>\n",
       "      <td>-0.497823</td>\n",
       "      <td>1.221170</td>\n",
       "      <td>105.280062</td>\n",
       "    </tr>\n",
       "    <tr>\n",
       "      <th>1</th>\n",
       "      <td>2acmU</td>\n",
       "      <td>1.334711</td>\n",
       "      <td>-0.340164</td>\n",
       "      <td>4.365080</td>\n",
       "      <td>73.037750</td>\n",
       "    </tr>\n",
       "    <tr>\n",
       "      <th>2</th>\n",
       "      <td>409Wp</td>\n",
       "      <td>1.022732</td>\n",
       "      <td>0.151990</td>\n",
       "      <td>1.419926</td>\n",
       "      <td>85.265647</td>\n",
       "    </tr>\n",
       "    <tr>\n",
       "      <th>3</th>\n",
       "      <td>iJLyR</td>\n",
       "      <td>-0.032172</td>\n",
       "      <td>0.139033</td>\n",
       "      <td>2.978566</td>\n",
       "      <td>168.620776</td>\n",
       "    </tr>\n",
       "    <tr>\n",
       "      <th>4</th>\n",
       "      <td>Xdl7t</td>\n",
       "      <td>1.988431</td>\n",
       "      <td>0.155413</td>\n",
       "      <td>4.751769</td>\n",
       "      <td>154.036647</td>\n",
       "    </tr>\n",
       "    <tr>\n",
       "      <th>...</th>\n",
       "      <td>...</td>\n",
       "      <td>...</td>\n",
       "      <td>...</td>\n",
       "      <td>...</td>\n",
       "      <td>...</td>\n",
       "    </tr>\n",
       "    <tr>\n",
       "      <th>99995</th>\n",
       "      <td>DLsed</td>\n",
       "      <td>0.971957</td>\n",
       "      <td>0.370953</td>\n",
       "      <td>6.075346</td>\n",
       "      <td>110.744026</td>\n",
       "    </tr>\n",
       "    <tr>\n",
       "      <th>99996</th>\n",
       "      <td>QKivN</td>\n",
       "      <td>1.392429</td>\n",
       "      <td>-0.382606</td>\n",
       "      <td>1.273912</td>\n",
       "      <td>122.346843</td>\n",
       "    </tr>\n",
       "    <tr>\n",
       "      <th>99997</th>\n",
       "      <td>3rnvd</td>\n",
       "      <td>1.029585</td>\n",
       "      <td>0.018787</td>\n",
       "      <td>-1.348308</td>\n",
       "      <td>64.375443</td>\n",
       "    </tr>\n",
       "    <tr>\n",
       "      <th>99998</th>\n",
       "      <td>7kl59</td>\n",
       "      <td>0.998163</td>\n",
       "      <td>-0.528582</td>\n",
       "      <td>1.583869</td>\n",
       "      <td>74.040764</td>\n",
       "    </tr>\n",
       "    <tr>\n",
       "      <th>99999</th>\n",
       "      <td>1CWhH</td>\n",
       "      <td>1.764754</td>\n",
       "      <td>-0.266417</td>\n",
       "      <td>5.722849</td>\n",
       "      <td>149.633246</td>\n",
       "    </tr>\n",
       "  </tbody>\n",
       "</table>\n",
       "<p>100000 rows × 5 columns</p>\n",
       "</div>"
      ],
      "text/plain": [
       "          id        f0        f1        f2     product\n",
       "0      txEyH  0.705745 -0.497823  1.221170  105.280062\n",
       "1      2acmU  1.334711 -0.340164  4.365080   73.037750\n",
       "2      409Wp  1.022732  0.151990  1.419926   85.265647\n",
       "3      iJLyR -0.032172  0.139033  2.978566  168.620776\n",
       "4      Xdl7t  1.988431  0.155413  4.751769  154.036647\n",
       "...      ...       ...       ...       ...         ...\n",
       "99995  DLsed  0.971957  0.370953  6.075346  110.744026\n",
       "99996  QKivN  1.392429 -0.382606  1.273912  122.346843\n",
       "99997  3rnvd  1.029585  0.018787 -1.348308   64.375443\n",
       "99998  7kl59  0.998163 -0.528582  1.583869   74.040764\n",
       "99999  1CWhH  1.764754 -0.266417  5.722849  149.633246\n",
       "\n",
       "[100000 rows x 5 columns]"
      ]
     },
     "metadata": {},
     "output_type": "display_data"
    },
    {
     "data": {
      "text/html": [
       "<div>\n",
       "<style scoped>\n",
       "    .dataframe tbody tr th:only-of-type {\n",
       "        vertical-align: middle;\n",
       "    }\n",
       "\n",
       "    .dataframe tbody tr th {\n",
       "        vertical-align: top;\n",
       "    }\n",
       "\n",
       "    .dataframe thead th {\n",
       "        text-align: right;\n",
       "    }\n",
       "</style>\n",
       "<table border=\"1\" class=\"dataframe\">\n",
       "  <thead>\n",
       "    <tr style=\"text-align: right;\">\n",
       "      <th></th>\n",
       "      <th>id</th>\n",
       "      <th>f0</th>\n",
       "      <th>f1</th>\n",
       "      <th>f2</th>\n",
       "      <th>product</th>\n",
       "    </tr>\n",
       "  </thead>\n",
       "  <tbody>\n",
       "    <tr>\n",
       "      <th>0</th>\n",
       "      <td>kBEdx</td>\n",
       "      <td>-15.001348</td>\n",
       "      <td>-8.276000</td>\n",
       "      <td>-0.005876</td>\n",
       "      <td>3.179103</td>\n",
       "    </tr>\n",
       "    <tr>\n",
       "      <th>1</th>\n",
       "      <td>62mP7</td>\n",
       "      <td>14.272088</td>\n",
       "      <td>-3.475083</td>\n",
       "      <td>0.999183</td>\n",
       "      <td>26.953261</td>\n",
       "    </tr>\n",
       "    <tr>\n",
       "      <th>2</th>\n",
       "      <td>vyE1P</td>\n",
       "      <td>6.263187</td>\n",
       "      <td>-5.948386</td>\n",
       "      <td>5.001160</td>\n",
       "      <td>134.766305</td>\n",
       "    </tr>\n",
       "    <tr>\n",
       "      <th>3</th>\n",
       "      <td>KcrkZ</td>\n",
       "      <td>-13.081196</td>\n",
       "      <td>-11.506057</td>\n",
       "      <td>4.999415</td>\n",
       "      <td>137.945408</td>\n",
       "    </tr>\n",
       "    <tr>\n",
       "      <th>4</th>\n",
       "      <td>AHL4O</td>\n",
       "      <td>12.702195</td>\n",
       "      <td>-8.147433</td>\n",
       "      <td>5.004363</td>\n",
       "      <td>134.766305</td>\n",
       "    </tr>\n",
       "    <tr>\n",
       "      <th>...</th>\n",
       "      <td>...</td>\n",
       "      <td>...</td>\n",
       "      <td>...</td>\n",
       "      <td>...</td>\n",
       "      <td>...</td>\n",
       "    </tr>\n",
       "    <tr>\n",
       "      <th>99995</th>\n",
       "      <td>QywKC</td>\n",
       "      <td>9.535637</td>\n",
       "      <td>-6.878139</td>\n",
       "      <td>1.998296</td>\n",
       "      <td>53.906522</td>\n",
       "    </tr>\n",
       "    <tr>\n",
       "      <th>99996</th>\n",
       "      <td>ptvty</td>\n",
       "      <td>-10.160631</td>\n",
       "      <td>-12.558096</td>\n",
       "      <td>5.005581</td>\n",
       "      <td>137.945408</td>\n",
       "    </tr>\n",
       "    <tr>\n",
       "      <th>99997</th>\n",
       "      <td>09gWa</td>\n",
       "      <td>-7.378891</td>\n",
       "      <td>-3.084104</td>\n",
       "      <td>4.998651</td>\n",
       "      <td>137.945408</td>\n",
       "    </tr>\n",
       "    <tr>\n",
       "      <th>99998</th>\n",
       "      <td>rqwUm</td>\n",
       "      <td>0.665714</td>\n",
       "      <td>-6.152593</td>\n",
       "      <td>1.000146</td>\n",
       "      <td>30.132364</td>\n",
       "    </tr>\n",
       "    <tr>\n",
       "      <th>99999</th>\n",
       "      <td>relB0</td>\n",
       "      <td>-3.426139</td>\n",
       "      <td>-7.794274</td>\n",
       "      <td>-0.003299</td>\n",
       "      <td>3.179103</td>\n",
       "    </tr>\n",
       "  </tbody>\n",
       "</table>\n",
       "<p>100000 rows × 5 columns</p>\n",
       "</div>"
      ],
      "text/plain": [
       "          id         f0         f1        f2     product\n",
       "0      kBEdx -15.001348  -8.276000 -0.005876    3.179103\n",
       "1      62mP7  14.272088  -3.475083  0.999183   26.953261\n",
       "2      vyE1P   6.263187  -5.948386  5.001160  134.766305\n",
       "3      KcrkZ -13.081196 -11.506057  4.999415  137.945408\n",
       "4      AHL4O  12.702195  -8.147433  5.004363  134.766305\n",
       "...      ...        ...        ...       ...         ...\n",
       "99995  QywKC   9.535637  -6.878139  1.998296   53.906522\n",
       "99996  ptvty -10.160631 -12.558096  5.005581  137.945408\n",
       "99997  09gWa  -7.378891  -3.084104  4.998651  137.945408\n",
       "99998  rqwUm   0.665714  -6.152593  1.000146   30.132364\n",
       "99999  relB0  -3.426139  -7.794274 -0.003299    3.179103\n",
       "\n",
       "[100000 rows x 5 columns]"
      ]
     },
     "metadata": {},
     "output_type": "display_data"
    },
    {
     "data": {
      "text/html": [
       "<div>\n",
       "<style scoped>\n",
       "    .dataframe tbody tr th:only-of-type {\n",
       "        vertical-align: middle;\n",
       "    }\n",
       "\n",
       "    .dataframe tbody tr th {\n",
       "        vertical-align: top;\n",
       "    }\n",
       "\n",
       "    .dataframe thead th {\n",
       "        text-align: right;\n",
       "    }\n",
       "</style>\n",
       "<table border=\"1\" class=\"dataframe\">\n",
       "  <thead>\n",
       "    <tr style=\"text-align: right;\">\n",
       "      <th></th>\n",
       "      <th>id</th>\n",
       "      <th>f0</th>\n",
       "      <th>f1</th>\n",
       "      <th>f2</th>\n",
       "      <th>product</th>\n",
       "    </tr>\n",
       "  </thead>\n",
       "  <tbody>\n",
       "    <tr>\n",
       "      <th>0</th>\n",
       "      <td>fwXo0</td>\n",
       "      <td>-1.146987</td>\n",
       "      <td>0.963328</td>\n",
       "      <td>-0.828965</td>\n",
       "      <td>27.758673</td>\n",
       "    </tr>\n",
       "    <tr>\n",
       "      <th>1</th>\n",
       "      <td>WJtFt</td>\n",
       "      <td>0.262778</td>\n",
       "      <td>0.269839</td>\n",
       "      <td>-2.530187</td>\n",
       "      <td>56.069697</td>\n",
       "    </tr>\n",
       "    <tr>\n",
       "      <th>2</th>\n",
       "      <td>ovLUW</td>\n",
       "      <td>0.194587</td>\n",
       "      <td>0.289035</td>\n",
       "      <td>-5.586433</td>\n",
       "      <td>62.871910</td>\n",
       "    </tr>\n",
       "    <tr>\n",
       "      <th>3</th>\n",
       "      <td>q6cA6</td>\n",
       "      <td>2.236060</td>\n",
       "      <td>-0.553760</td>\n",
       "      <td>0.930038</td>\n",
       "      <td>114.572842</td>\n",
       "    </tr>\n",
       "    <tr>\n",
       "      <th>4</th>\n",
       "      <td>WPMUX</td>\n",
       "      <td>-0.515993</td>\n",
       "      <td>1.716266</td>\n",
       "      <td>5.899011</td>\n",
       "      <td>149.600746</td>\n",
       "    </tr>\n",
       "    <tr>\n",
       "      <th>...</th>\n",
       "      <td>...</td>\n",
       "      <td>...</td>\n",
       "      <td>...</td>\n",
       "      <td>...</td>\n",
       "      <td>...</td>\n",
       "    </tr>\n",
       "    <tr>\n",
       "      <th>99995</th>\n",
       "      <td>4GxBu</td>\n",
       "      <td>-1.777037</td>\n",
       "      <td>1.125220</td>\n",
       "      <td>6.263374</td>\n",
       "      <td>172.327046</td>\n",
       "    </tr>\n",
       "    <tr>\n",
       "      <th>99996</th>\n",
       "      <td>YKFjq</td>\n",
       "      <td>-1.261523</td>\n",
       "      <td>-0.894828</td>\n",
       "      <td>2.524545</td>\n",
       "      <td>138.748846</td>\n",
       "    </tr>\n",
       "    <tr>\n",
       "      <th>99997</th>\n",
       "      <td>tKPY3</td>\n",
       "      <td>-1.199934</td>\n",
       "      <td>-2.957637</td>\n",
       "      <td>5.219411</td>\n",
       "      <td>157.080080</td>\n",
       "    </tr>\n",
       "    <tr>\n",
       "      <th>99998</th>\n",
       "      <td>nmxp2</td>\n",
       "      <td>-2.419896</td>\n",
       "      <td>2.417221</td>\n",
       "      <td>-5.548444</td>\n",
       "      <td>51.795253</td>\n",
       "    </tr>\n",
       "    <tr>\n",
       "      <th>99999</th>\n",
       "      <td>V9kWn</td>\n",
       "      <td>-2.551421</td>\n",
       "      <td>-2.025625</td>\n",
       "      <td>6.090891</td>\n",
       "      <td>102.775767</td>\n",
       "    </tr>\n",
       "  </tbody>\n",
       "</table>\n",
       "<p>100000 rows × 5 columns</p>\n",
       "</div>"
      ],
      "text/plain": [
       "          id        f0        f1        f2     product\n",
       "0      fwXo0 -1.146987  0.963328 -0.828965   27.758673\n",
       "1      WJtFt  0.262778  0.269839 -2.530187   56.069697\n",
       "2      ovLUW  0.194587  0.289035 -5.586433   62.871910\n",
       "3      q6cA6  2.236060 -0.553760  0.930038  114.572842\n",
       "4      WPMUX -0.515993  1.716266  5.899011  149.600746\n",
       "...      ...       ...       ...       ...         ...\n",
       "99995  4GxBu -1.777037  1.125220  6.263374  172.327046\n",
       "99996  YKFjq -1.261523 -0.894828  2.524545  138.748846\n",
       "99997  tKPY3 -1.199934 -2.957637  5.219411  157.080080\n",
       "99998  nmxp2 -2.419896  2.417221 -5.548444   51.795253\n",
       "99999  V9kWn -2.551421 -2.025625  6.090891  102.775767\n",
       "\n",
       "[100000 rows x 5 columns]"
      ]
     },
     "metadata": {},
     "output_type": "display_data"
    }
   ],
   "source": [
    "# загрузим данные\n",
    "\n",
    "try:\n",
    "    data_0 = pd.read_csv('/datasets/geo_data_0.csv')\n",
    "    data_1 = pd.read_csv('/datasets/geo_data_1.csv')\n",
    "    data_2 = pd.read_csv('/datasets/geo_data_2.csv')\n",
    "except:\n",
    "    data_0 = pd.read_csv('geo_data_0.csv')\n",
    "    data_1 = pd.read_csv('geo_data_1.csv')\n",
    "    data_2 = pd.read_csv('geo_data_2.csv')\n",
    "\n",
    "display(data_0)\n",
    "display(data_1)\n",
    "display(data_2)"
   ]
  },
  {
   "cell_type": "code",
   "execution_count": 21,
   "metadata": {
    "scrolled": false
   },
   "outputs": [
    {
     "name": "stdout",
     "output_type": "stream",
     "text": [
      "<class 'pandas.core.frame.DataFrame'>\n",
      "RangeIndex: 100000 entries, 0 to 99999\n",
      "Data columns (total 5 columns):\n",
      " #   Column   Non-Null Count   Dtype  \n",
      "---  ------   --------------   -----  \n",
      " 0   id       100000 non-null  object \n",
      " 1   f0       100000 non-null  float64\n",
      " 2   f1       100000 non-null  float64\n",
      " 3   f2       100000 non-null  float64\n",
      " 4   product  100000 non-null  float64\n",
      "dtypes: float64(4), object(1)\n",
      "memory usage: 3.8+ MB\n"
     ]
    },
    {
     "data": {
      "text/plain": [
       "None"
      ]
     },
     "metadata": {},
     "output_type": "display_data"
    },
    {
     "name": "stdout",
     "output_type": "stream",
     "text": [
      "<class 'pandas.core.frame.DataFrame'>\n",
      "RangeIndex: 100000 entries, 0 to 99999\n",
      "Data columns (total 5 columns):\n",
      " #   Column   Non-Null Count   Dtype  \n",
      "---  ------   --------------   -----  \n",
      " 0   id       100000 non-null  object \n",
      " 1   f0       100000 non-null  float64\n",
      " 2   f1       100000 non-null  float64\n",
      " 3   f2       100000 non-null  float64\n",
      " 4   product  100000 non-null  float64\n",
      "dtypes: float64(4), object(1)\n",
      "memory usage: 3.8+ MB\n"
     ]
    },
    {
     "data": {
      "text/plain": [
       "None"
      ]
     },
     "metadata": {},
     "output_type": "display_data"
    },
    {
     "name": "stdout",
     "output_type": "stream",
     "text": [
      "<class 'pandas.core.frame.DataFrame'>\n",
      "RangeIndex: 100000 entries, 0 to 99999\n",
      "Data columns (total 5 columns):\n",
      " #   Column   Non-Null Count   Dtype  \n",
      "---  ------   --------------   -----  \n",
      " 0   id       100000 non-null  object \n",
      " 1   f0       100000 non-null  float64\n",
      " 2   f1       100000 non-null  float64\n",
      " 3   f2       100000 non-null  float64\n",
      " 4   product  100000 non-null  float64\n",
      "dtypes: float64(4), object(1)\n",
      "memory usage: 3.8+ MB\n"
     ]
    },
    {
     "data": {
      "text/plain": [
       "None"
      ]
     },
     "metadata": {},
     "output_type": "display_data"
    }
   ],
   "source": [
    "# познакомимся с общей информацией\n",
    " \n",
    "display(data_0.info())\n",
    "display(data_1.info())\n",
    "display(data_2.info())"
   ]
  },
  {
   "cell_type": "code",
   "execution_count": 22,
   "metadata": {},
   "outputs": [
    {
     "name": "stdout",
     "output_type": "stream",
     "text": [
      "Дубликатов в первой таблице: 10\n",
      "Дубликатов во второй таблице: 4\n",
      "Дубликатов в третьей таблице: 4\n"
     ]
    }
   ],
   "source": [
    "# проверим наличие дубликатов\n",
    "\n",
    "print('Дубликатов в первой таблице:', data_0.duplicated(subset=['id']).sum())\n",
    "print('Дубликатов во второй таблице:', data_1.duplicated(subset=['id']).sum())\n",
    "print('Дубликатов в третьей таблице:', data_2.duplicated(subset=['id']).sum())"
   ]
  },
  {
   "cell_type": "code",
   "execution_count": 23,
   "metadata": {},
   "outputs": [],
   "source": [
    "# избавимся от столбца с идентификационным номером - он нам не нужен для исследования\n",
    "\n",
    "data_0 = data_0.drop(['id'], axis=1)\n",
    "data_1 = data_1.drop(['id'], axis=1)\n",
    "data_2 = data_2.drop(['id'], axis=1)\n"
   ]
  },
  {
   "cell_type": "markdown",
   "metadata": {},
   "source": [
    "**Вывод**\n",
    "\n",
    "В нашем распоряжении 3 таблицы с данными, имеющие одинаковую структуру.\n",
    "\n",
    "При проверке в даных пропусков не обнаружено, но есть несколько дубликатов - в первой таблице 10 одинаковых id, во второй и третьей по 4. Такое количество дубликатов не должно исказить результаты исследования, поэтому оставим все как есть.\n",
    "\n"
   ]
  },
  {
   "cell_type": "markdown",
   "metadata": {},
   "source": [
    "## Обучение и проверка модели"
   ]
  },
  {
   "cell_type": "markdown",
   "metadata": {},
   "source": [
    "### Разделение на выборки"
   ]
  },
  {
   "cell_type": "code",
   "execution_count": 24,
   "metadata": {},
   "outputs": [
    {
     "data": {
      "text/plain": [
       "'Размер 1 обучающей выборки: 75000'"
      ]
     },
     "metadata": {},
     "output_type": "display_data"
    },
    {
     "data": {
      "text/plain": [
       "'Размер 1 тестовой выборки: 25000'"
      ]
     },
     "metadata": {},
     "output_type": "display_data"
    },
    {
     "data": {
      "text/plain": [
       "'Размер 2 обучающей выборки: 75000'"
      ]
     },
     "metadata": {},
     "output_type": "display_data"
    },
    {
     "data": {
      "text/plain": [
       "'Размер 2 тестовой выборки: 25000'"
      ]
     },
     "metadata": {},
     "output_type": "display_data"
    },
    {
     "data": {
      "text/plain": [
       "'Размер 3 обучающей выборки: 75000'"
      ]
     },
     "metadata": {},
     "output_type": "display_data"
    },
    {
     "data": {
      "text/plain": [
       "'Размер 3 тестовой выборки: 25000'"
      ]
     },
     "metadata": {},
     "output_type": "display_data"
    }
   ],
   "source": [
    "# обучающая и тестовая выборки\n",
    "# напишем функцию\n",
    "\n",
    "def split_function(data, size, state):\n",
    "    ''' на вход функция принимает основной датасет\n",
    "    и делит его на обучающую и тестовую выборки\n",
    "    '''\n",
    "    \n",
    "    data_train, data_test = train_test_split(data, test_size=size, random_state=state)\n",
    "    return data_train, data_test\n",
    "\n",
    "\n",
    "\n",
    "data_train_0, data_test_0 = split_function(data_0, 0.25, 12345)\n",
    "data_train_1, data_test_1 = split_function(data_1, 0.25, 12345)\n",
    "data_train_2, data_test_2 = split_function(data_2, 0.25, 12345)\n",
    "\n",
    "display(f'Размер 1 обучающей выборки: {data_train_0.shape[0]}')\n",
    "display(f'Размер 1 тестовой выборки: {data_test_0.shape[0]}')\n",
    "\n",
    "display(f'Размер 2 обучающей выборки: {data_train_1.shape[0]}')\n",
    "display(f'Размер 2 тестовой выборки: {data_test_1.shape[0]}')\n",
    "\n",
    "display(f'Размер 3 обучающей выборки: {data_train_2.shape[0]}')\n",
    "display(f'Размер 3 тестовой выборки: {data_test_2.shape[0]}')\n"
   ]
  },
  {
   "cell_type": "code",
   "execution_count": 25,
   "metadata": {},
   "outputs": [],
   "source": [
    "# определим признаки для каждой выборки\n",
    "# напишем функцию\n",
    "\n",
    "def features_function(data_train, data_test):\n",
    "    ''' на вход функция принимает данные\n",
    "    и делит на признаки и целевые признаки\n",
    "    '''\n",
    "    \n",
    "    features_train = data_train.drop(['product'], axis=1)\n",
    "    features_test = data_test.drop(['product'], axis=1)\n",
    "    target_train = data_train['product']\n",
    "    target_test = data_test['product']\n",
    "    return features_train, target_train, features_test, target_test\n",
    "\n",
    "features_train_0, target_train_0, features_test_0, target_test_0 = features_function(data_train_0, data_test_0)\n",
    "features_train_1, target_train_1, features_test_1, target_test_1 = features_function(data_train_1, data_test_1)\n",
    "features_train_2, target_train_2, features_test_2, target_test_2 = features_function(data_train_2, data_test_2)"
   ]
  },
  {
   "cell_type": "markdown",
   "metadata": {},
   "source": [
    "**С помощью двух пользовательских функций разделили данные на выборки и определили признаки для них. Данные готовы к обучению и тестированию модели.**"
   ]
  },
  {
   "cell_type": "markdown",
   "metadata": {},
   "source": [
    "### Обучение для первой таблицы"
   ]
  },
  {
   "cell_type": "code",
   "execution_count": 26,
   "metadata": {},
   "outputs": [
    {
     "data": {
      "text/plain": [
       "'Средний запас сырья: 92.59256778438035'"
      ]
     },
     "metadata": {},
     "output_type": "display_data"
    },
    {
     "data": {
      "text/plain": [
       "'RMSE: 37.5794217150813'"
      ]
     },
     "metadata": {},
     "output_type": "display_data"
    }
   ],
   "source": [
    "model_0 = LinearRegression()\n",
    "model_0.fit(features_train_0, target_train_0)\n",
    "predictions_0 = model_0.predict(features_test_0)\n",
    "\n",
    "mse_0 = mean_squared_error(target_test_0, predictions_0)\n",
    "rmse_0 = mse_0 ** 0.5\n",
    "\n",
    "avg_stock_0 = predictions_0.mean()\n",
    "\n",
    "\n",
    "display(f'Средний запас сырья: {avg_stock_0}')\n",
    "display(f'RMSE: {rmse_0}')"
   ]
  },
  {
   "cell_type": "markdown",
   "metadata": {},
   "source": [
    "### Обучение для второй таблицы"
   ]
  },
  {
   "cell_type": "code",
   "execution_count": 27,
   "metadata": {},
   "outputs": [
    {
     "data": {
      "text/plain": [
       "'Средний запас сырья: 68.728546895446'"
      ]
     },
     "metadata": {},
     "output_type": "display_data"
    },
    {
     "data": {
      "text/plain": [
       "'RMSE: 0.8930992867756171'"
      ]
     },
     "metadata": {},
     "output_type": "display_data"
    }
   ],
   "source": [
    "model_1 = LinearRegression()\n",
    "model_1.fit(features_train_1, target_train_1)\n",
    "predictions_1 = model_1.predict(features_test_1)\n",
    "\n",
    "mse_1 = mean_squared_error(target_test_1, predictions_1)\n",
    "rmse_1 = mse_1 ** 0.5\n",
    "\n",
    "avg_stock_1 = predictions_1.mean()\n",
    "\n",
    "\n",
    "display(f'Средний запас сырья: {avg_stock_1}')\n",
    "display(f'RMSE: {rmse_1}')"
   ]
  },
  {
   "cell_type": "markdown",
   "metadata": {},
   "source": [
    "### Обучение для третьей таблицы"
   ]
  },
  {
   "cell_type": "code",
   "execution_count": 28,
   "metadata": {},
   "outputs": [
    {
     "data": {
      "text/plain": [
       "'Средний запас сырья: 94.96504596800489'"
      ]
     },
     "metadata": {},
     "output_type": "display_data"
    },
    {
     "data": {
      "text/plain": [
       "'RMSE: 40.02970873393434'"
      ]
     },
     "metadata": {},
     "output_type": "display_data"
    }
   ],
   "source": [
    "model_2 = LinearRegression()\n",
    "model_2.fit(features_train_2, target_train_2)\n",
    "predictions_2 = model_2.predict(features_test_2)\n",
    "\n",
    "mse_2 = mean_squared_error(target_test_2, predictions_2)\n",
    "rmse_2 = mse_2 ** 0.5\n",
    "\n",
    "avg_stock_2 = predictions_2.mean()\n",
    "\n",
    "\n",
    "display(f'Средний запас сырья: {avg_stock_2}')\n",
    "display(f'RMSE: {rmse_2}')"
   ]
  },
  {
   "cell_type": "code",
   "execution_count": 29,
   "metadata": {},
   "outputs": [],
   "source": [
    "# сохраним правильные ответыи предсказания в переменные\n",
    "\n",
    "# 1\n",
    "true_answers_0 = target_test_0\n",
    "predictions_test_0 = pd.Series(predictions_0, index=true_answers_0.index)\n",
    "\n",
    "# 2\n",
    "true_answers_1 = target_test_1\n",
    "predictions_test_1 = pd.Series(predictions_1, index=true_answers_1.index)\n",
    "\n",
    "# 3\n",
    "true_answers_2 = target_test_2\n",
    "predictions_test_2 = pd.Series(predictions_2, index=true_answers_2.index)"
   ]
  },
  {
   "cell_type": "markdown",
   "metadata": {},
   "source": [
    "**Вывод**\n",
    "\n",
    "По результатам предсказаний самое высокое среднее у нас находится в третьей таблице. А самый низкий показатель RMSE во второй."
   ]
  },
  {
   "cell_type": "markdown",
   "metadata": {},
   "source": [
    "## Подготовка к расчёту прибыли"
   ]
  },
  {
   "cell_type": "markdown",
   "metadata": {},
   "source": [
    "**Создадим переменные с осоновными значениями для расчетов и определим достаточный объем сырья для безубыточной разработки скважины**"
   ]
  },
  {
   "cell_type": "code",
   "execution_count": 30,
   "metadata": {},
   "outputs": [
    {
     "name": "stdout",
     "output_type": "stream",
     "text": [
      "Минимальный объём сырья для безубыточного производства: 111.11111111111111\n"
     ]
    }
   ],
   "source": [
    "# бюджет на разработку скважин на один ренион\n",
    "BUDJET = 10000000000\n",
    "\n",
    "# доход с одной единицы продукта - 450 рублей\n",
    "INCOME = 450000\n",
    "\n",
    "# количество исследуемых скважин\n",
    "WELLS = 500\n",
    "\n",
    "# количество лучших исследуемых скважин\n",
    "BEST_WELLS = 200\n",
    "\n",
    "# достаточный объем сырья\n",
    "MINIMUM_PRODUCT = BUDJET/BEST_WELLS/INCOME\n",
    "\n",
    "print(f'Минимальный объём сырья для безубыточного производства: {MINIMUM_PRODUCT}')"
   ]
  },
  {
   "cell_type": "markdown",
   "metadata": {},
   "source": [
    "Расчитаем достаточный объем сырья для одной скважины для безубыточного производства. В расчетах далее мы будем использовать 200 наивысших значений объема сырья, стоимость 1 тысячи барелей - 450 000 руб. Поделим весь бюджет на регион на количество сквадин и на доход за тысячу барелей. Получаем 111 тыс. барелей минимального объема для 200 скважин, чтобы не получить убытки. \n",
    "\n",
    "Полученный нами объем значительно отличается от средних значений полученных выше."
   ]
  },
  {
   "cell_type": "markdown",
   "metadata": {},
   "source": [
    "## Расчёт прибыли и рисков "
   ]
  },
  {
   "cell_type": "markdown",
   "metadata": {},
   "source": [
    "**Напишем функцию для расчета прибыли**"
   ]
  },
  {
   "cell_type": "code",
   "execution_count": 31,
   "metadata": {},
   "outputs": [],
   "source": [
    "# функция для расчета прибыли \n",
    "\n",
    "def profit(answers, predictions):\n",
    "    \n",
    "    ''' функция получает на вход правильные ответы и предсказания,\n",
    "    сортирует предсказания в порядке убывания и отбирает 200 первых строк,\n",
    "    и расчитывает прибыль\n",
    "    '''\n",
    "\n",
    "    profit = 0\n",
    "\n",
    "    sorted_predictions = predictions.sort_values(ascending=False).head(BEST_WELLS)\n",
    "    sorted_answers = answers[sorted_predictions.index][:BEST_WELLS]\n",
    "\n",
    "    for WELLS in sorted_answers:\n",
    "        profit += INCOME*(WELLS-MINIMUM_PRODUCT)\n",
    "    \n",
    "    return profit"
   ]
  },
  {
   "cell_type": "markdown",
   "metadata": {},
   "source": [
    "**Напишем функцию для того, чтобы найти распределение прибыли, саму среднюю прибыль, доверительный интервал и риски убытка**"
   ]
  },
  {
   "cell_type": "code",
   "execution_count": 32,
   "metadata": {},
   "outputs": [],
   "source": [
    "# Bootstrap\n",
    "\n",
    "def bootstrap_function(answers, predictions):\n",
    "\n",
    "    ''' функция получает на вход правильные ответы и предсказания,\n",
    "    создает 1000 подвыборок и добавляет их в список,\n",
    "    из этого списка определяет квантили для 95% интервала, среднее и прочситывает риск убытка\n",
    "    '''\n",
    "\n",
    "    state = np.random.RandomState(12345)\n",
    "    values = []\n",
    "\n",
    "    for i in range(1000):\n",
    "        answers_subsample = answers.sample(n=WELLS, replace=True, random_state=state)\n",
    "        predictions_subsumple = (pd.Series(predictions, index=answers.index))[answers_subsample.index]\n",
    "        values.append(profit(answers_subsample, predictions_subsumple))\n",
    "\n",
    "    values = pd.Series(values)\n",
    "    mean = values.mean()\n",
    "    upper = values.quantile(0.975)\n",
    "    lower = values.quantile(0.025)\n",
    "    risk = (values < 0).mean()\n",
    "\n",
    "    print(f'Средняя прибыль: {mean:.2f}')\n",
    "    print(f'Доверитильный интервал (95%): {lower:.2f} - {upper:.2f}')\n",
    "    print(f'Риск убытка: {risk:.1%}')"
   ]
  },
  {
   "cell_type": "markdown",
   "metadata": {},
   "source": [
    "**Применим функцию Bootstrap на тестовых выборках**"
   ]
  },
  {
   "cell_type": "code",
   "execution_count": 33,
   "metadata": {},
   "outputs": [
    {
     "name": "stdout",
     "output_type": "stream",
     "text": [
      "Средняя прибыль: 425938526.91\n",
      "Доверитильный интервал (95%): -102090094.84 - 947976353.36\n",
      "Риск убытка: 6.0%\n"
     ]
    }
   ],
   "source": [
    "# для первого региона\n",
    "\n",
    "bootstrap_function(true_answers_0, predictions_test_0)"
   ]
  },
  {
   "cell_type": "code",
   "execution_count": 34,
   "metadata": {},
   "outputs": [
    {
     "name": "stdout",
     "output_type": "stream",
     "text": [
      "Средняя прибыль: 515222773.44\n",
      "Доверитильный интервал (95%): 68873225.37 - 931547591.26\n",
      "Риск убытка: 1.0%\n"
     ]
    }
   ],
   "source": [
    "# для второго региона\n",
    "\n",
    "bootstrap_function(true_answers_1, predictions_test_1)"
   ]
  },
  {
   "cell_type": "code",
   "execution_count": 35,
   "metadata": {},
   "outputs": [
    {
     "name": "stdout",
     "output_type": "stream",
     "text": [
      "Средняя прибыль: 435008362.78\n",
      "Доверитильный интервал (95%): -128880547.33 - 969706954.18\n",
      "Риск убытка: 6.4%\n"
     ]
    }
   ],
   "source": [
    "# для третьего региона\n",
    "\n",
    "bootstrap_function(true_answers_2, predictions_test_2)"
   ]
  },
  {
   "cell_type": "markdown",
   "metadata": {},
   "source": [
    "## Вывод"
   ]
  },
  {
   "cell_type": "markdown",
   "metadata": {},
   "source": [
    "Исходя из полученных значений мы можем предложить второй регион (geo_data_1) для разработки скважин так как:\n",
    "\n",
    "1. Средняя прибыль по региону сотавляет свыше 515 млн.(по первому региону - почти 426 млн, по третьему - 435 млн.)\n",
    "2. Риск убытка составляет 1%, это на 5% меньше чем в первом и третьем регионе\n",
    "3. Доверительный интервал входит в промежуток положительных значений (по двум другим регионам интервал начинается с отрицательных показателей)"
   ]
  }
 ],
 "metadata": {
  "ExecuteTimeLog": [
   {
    "duration": 2448,
    "start_time": "2022-04-07T10:31:19.563Z"
   },
   {
    "duration": 113,
    "start_time": "2022-04-07T10:32:34.740Z"
   },
   {
    "duration": 152,
    "start_time": "2022-04-07T10:32:57.521Z"
   },
   {
    "duration": 457,
    "start_time": "2022-04-07T10:33:11.994Z"
   },
   {
    "duration": 482,
    "start_time": "2022-04-07T10:33:25.159Z"
   },
   {
    "duration": 59,
    "start_time": "2022-04-07T10:34:04.739Z"
   },
   {
    "duration": 16,
    "start_time": "2022-04-07T10:44:34.276Z"
   },
   {
    "duration": 150,
    "start_time": "2022-04-07T10:44:47.424Z"
   },
   {
    "duration": 12,
    "start_time": "2022-04-07T10:44:50.440Z"
   },
   {
    "duration": 12,
    "start_time": "2022-04-07T10:44:55.354Z"
   },
   {
    "duration": 11,
    "start_time": "2022-04-07T10:45:03.542Z"
   },
   {
    "duration": 11,
    "start_time": "2022-04-07T10:45:14.088Z"
   },
   {
    "duration": 83,
    "start_time": "2022-04-07T10:45:20.458Z"
   },
   {
    "duration": 77,
    "start_time": "2022-04-07T10:45:26.869Z"
   },
   {
    "duration": 147,
    "start_time": "2022-04-07T10:45:36.287Z"
   },
   {
    "duration": 233,
    "start_time": "2022-04-07T10:45:46.273Z"
   },
   {
    "duration": 12,
    "start_time": "2022-04-07T10:45:55.928Z"
   },
   {
    "duration": 12,
    "start_time": "2022-04-07T10:46:03.974Z"
   },
   {
    "duration": 50,
    "start_time": "2022-04-07T10:47:29.111Z"
   },
   {
    "duration": 101,
    "start_time": "2022-04-07T10:48:10.206Z"
   },
   {
    "duration": 92,
    "start_time": "2022-04-07T10:49:14.770Z"
   },
   {
    "duration": 102,
    "start_time": "2022-04-07T10:49:31.760Z"
   },
   {
    "duration": 91,
    "start_time": "2022-04-07T10:49:47.659Z"
   },
   {
    "duration": 1177,
    "start_time": "2022-04-14T13:04:21.977Z"
   },
   {
    "duration": 1078,
    "start_time": "2022-04-14T13:04:23.156Z"
   },
   {
    "duration": 62,
    "start_time": "2022-04-14T13:04:24.236Z"
   },
   {
    "duration": 92,
    "start_time": "2022-04-14T13:04:24.299Z"
   },
   {
    "duration": 18,
    "start_time": "2022-04-14T13:04:24.393Z"
   },
   {
    "duration": 42,
    "start_time": "2022-04-14T13:04:24.432Z"
   },
   {
    "duration": 15,
    "start_time": "2022-04-14T13:04:24.476Z"
   },
   {
    "duration": 57,
    "start_time": "2022-04-14T13:04:24.494Z"
   },
   {
    "duration": 192,
    "start_time": "2022-04-14T13:04:24.553Z"
   },
   {
    "duration": 197,
    "start_time": "2022-04-14T13:04:24.748Z"
   },
   {
    "duration": 184,
    "start_time": "2022-04-14T13:04:24.950Z"
   },
   {
    "duration": 9,
    "start_time": "2022-04-14T13:04:25.136Z"
   },
   {
    "duration": 5,
    "start_time": "2022-04-14T13:04:29.046Z"
   },
   {
    "duration": 7,
    "start_time": "2022-04-14T13:05:14.668Z"
   },
   {
    "duration": 1334,
    "start_time": "2022-04-14T13:05:19.833Z"
   },
   {
    "duration": 1276,
    "start_time": "2022-04-14T13:05:22.322Z"
   },
   {
    "duration": 1305,
    "start_time": "2022-04-14T13:05:24.397Z"
   }
  ],
  "kernelspec": {
   "display_name": "Python 3.9.7 ('base')",
   "language": "python",
   "name": "python3"
  },
  "language_info": {
   "codemirror_mode": {
    "name": "ipython",
    "version": 3
   },
   "file_extension": ".py",
   "mimetype": "text/x-python",
   "name": "python",
   "nbconvert_exporter": "python",
   "pygments_lexer": "ipython3",
   "version": "3.9.7"
  },
  "toc": {
   "base_numbering": 1,
   "nav_menu": {},
   "number_sections": true,
   "sideBar": true,
   "skip_h1_title": true,
   "title_cell": "Table of Contents",
   "title_sidebar": "Contents",
   "toc_cell": false,
   "toc_position": {
    "height": "calc(100% - 180px)",
    "left": "10px",
    "top": "150px",
    "width": "165px"
   },
   "toc_section_display": true,
   "toc_window_display": false
  },
  "vscode": {
   "interpreter": {
    "hash": "47bb262127e83f4e352f9a4661074feb316fd893d8b83e773ca2637ac59da0c2"
   }
  }
 },
 "nbformat": 4,
 "nbformat_minor": 2
}
